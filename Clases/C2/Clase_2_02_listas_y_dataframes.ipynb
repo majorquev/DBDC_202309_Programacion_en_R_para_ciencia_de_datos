{
  "nbformat": 4,
  "nbformat_minor": 0,
  "metadata": {
    "colab": {
      "provenance": [],
      "include_colab_link": true
    },
    "kernelspec": {
      "name": "ir",
      "display_name": "R"
    }
  },
  "cells": [
    {
      "cell_type": "markdown",
      "metadata": {
        "id": "view-in-github",
        "colab_type": "text"
      },
      "source": [
        "<a href=\"https://colab.research.google.com/github/majorquev/DBDC_202309_Programacion_en_R_para_ciencia_de_datos/blob/main/Clases/C2/Clase_2_02_listas_y_dataframes.ipynb\" target=\"_parent\"><img src=\"https://colab.research.google.com/assets/colab-badge.svg\" alt=\"Open In Colab\"/></a>"
      ]
    },
    {
      "cell_type": "markdown",
      "metadata": {
        "collapsed": true,
        "id": "fgQ2azLwTpRn"
      },
      "source": [
        "# Parte 1: Introducción a R (continuación)\n",
        "\n",
        "**Autor:** Miguel Jorquera Viguera<br>\n",
        "**E-mail:** majorquev@gmail.com<br>\n",
        "**Ayudante:** Rodrigo Morales <br>\n",
        "**E-mail ayudante:** rumorale1@gmail.com\n",
        "\n",
        "\n",
        "## 5. Listas y Dataframes\n",
        "\n",
        "### 5.1 Listas\n",
        "\n",
        "Hasta aquí contamos con dos tipos de objetos para almacenar datos; vectores y matrices. Sin embargo, en ambos casos se tiene la limitante de que no es posible combinar distintos tipos de datos en diferentes entradas. Un objeto que permite una mayor flexibilidad son las listas. En R, una lista es básicamente un arreglo unidimensional, donde en cada entrada es posible almacenar distintos **objetos** (los cuales a su vez pueden almacenar distintos tipos de datos (u otros objetos).\n",
        "En resumen,\n",
        "\n",
        "   * ¿Qué son?<br>\n",
        "    Arreglos unidimensionales que guardan distintos tipos de datos u objetos.<br>\n",
        "\n",
        "   * ¿Cómo se declaran?<br>\n",
        "    Se pueden declarar mediante el comando list() o combinando listas existentes. <br>\n",
        "    \n",
        "   * ¿Cómo se accede a sus elementos?<br>\n",
        "    Usando [ ] (retorna lista), o bien usando [ [ ] ] (retorna el objeto).\n",
        "    En cada caso se puede indicar la posición o nombre del objeto que se quiere rescatar.<br>\n",
        "    Otra manera es mediante el símbolo $ seguido del nombre del objeto.\n",
        "\n"
      ]
    },
    {
      "cell_type": "code",
      "metadata": {
        "trusted": true,
        "id": "zZHpLzzRTpRp"
      },
      "source": [
        "# 5. Listas y dataframes ------------\n",
        "# 5.1 Listas  ------------\n",
        "# Cómo declarar una lista (comando list() )\n",
        "#num,letra, pl, mat, lista\n",
        "# Podemos guardar los objetos en slots con nombres\n",
        "l1 <- list(num = c(1,3,5),\n",
        "           letra = LETTERS,\n",
        "           pl = \"Hoy es lunes\",\n",
        "           mat = matrix(c(1,3,5,7), nrow = 2, ncol = 2),\n",
        "           lista = list(x = c(\"a\",\"b\"),\n",
        "                        lgl = c(T,F,F)))"
      ],
      "execution_count": 1,
      "outputs": []
    },
    {
      "cell_type": "code",
      "metadata": {
        "id": "_iwOQA-xTzww",
        "outputId": "c88ea197-fb70-48d7-dd2d-b72c9ae2ba20",
        "colab": {
          "base_uri": "https://localhost:8080/"
        }
      },
      "source": [
        "# estructura\n",
        "str(l1)"
      ],
      "execution_count": 2,
      "outputs": [
        {
          "output_type": "stream",
          "name": "stdout",
          "text": [
            "List of 5\n",
            " $ num  : num [1:3] 1 3 5\n",
            " $ letra: chr [1:26] \"A\" \"B\" \"C\" \"D\" ...\n",
            " $ pl   : chr \"Hoy es lunes\"\n",
            " $ mat  : num [1:2, 1:2] 1 3 5 7\n",
            " $ lista:List of 2\n",
            "  ..$ x  : chr [1:2] \"a\" \"b\"\n",
            "  ..$ lgl: logi [1:3] TRUE FALSE FALSE\n"
          ]
        }
      ]
    },
    {
      "cell_type": "code",
      "metadata": {
        "trusted": true,
        "id": "Ao1wFCByTpRx"
      },
      "source": [
        "\n",
        "l2 <- list(1:5, \"x\", c(T,F))"
      ],
      "execution_count": 3,
      "outputs": []
    },
    {
      "cell_type": "code",
      "source": [
        "str(l2)"
      ],
      "metadata": {
        "id": "MC8XVTSPxXie",
        "outputId": "2afaaad6-ee06-40f4-c52f-3041e77c47f1",
        "colab": {
          "base_uri": "https://localhost:8080/"
        }
      },
      "execution_count": 5,
      "outputs": [
        {
          "output_type": "stream",
          "name": "stdout",
          "text": [
            "List of 3\n",
            " $ : int [1:5] 1 2 3 4 5\n",
            " $ : chr \"x\"\n",
            " $ : logi [1:2] TRUE FALSE\n"
          ]
        }
      ]
    },
    {
      "cell_type": "code",
      "source": [
        "l2"
      ],
      "metadata": {
        "id": "qHG_0VyKxUni",
        "outputId": "88c8df79-5e62-4503-a664-2f3d7c03f34e",
        "colab": {
          "base_uri": "https://localhost:8080/",
          "height": 97
        }
      },
      "execution_count": 4,
      "outputs": [
        {
          "output_type": "display_data",
          "data": {
            "text/html": [
              "<ol>\n",
              "\t<li><style>\n",
              ".list-inline {list-style: none; margin:0; padding: 0}\n",
              ".list-inline>li {display: inline-block}\n",
              ".list-inline>li:not(:last-child)::after {content: \"\\00b7\"; padding: 0 .5ex}\n",
              "</style>\n",
              "<ol class=list-inline><li>1</li><li>2</li><li>3</li><li>4</li><li>5</li></ol>\n",
              "</li>\n",
              "\t<li>'x'</li>\n",
              "\t<li><style>\n",
              ".list-inline {list-style: none; margin:0; padding: 0}\n",
              ".list-inline>li {display: inline-block}\n",
              ".list-inline>li:not(:last-child)::after {content: \"\\00b7\"; padding: 0 .5ex}\n",
              "</style>\n",
              "<ol class=list-inline><li>TRUE</li><li>FALSE</li></ol>\n",
              "</li>\n",
              "</ol>\n"
            ],
            "text/markdown": "1. 1. 1\n2. 2\n3. 3\n4. 4\n5. 5\n\n\n\n2. 'x'\n3. 1. TRUE\n2. FALSE\n\n\n\n\n\n",
            "text/latex": "\\begin{enumerate}\n\\item \\begin{enumerate*}\n\\item 1\n\\item 2\n\\item 3\n\\item 4\n\\item 5\n\\end{enumerate*}\n\n\\item 'x'\n\\item \\begin{enumerate*}\n\\item TRUE\n\\item FALSE\n\\end{enumerate*}\n\n\\end{enumerate}\n",
            "text/plain": [
              "[[1]]\n",
              "[1] 1 2 3 4 5\n",
              "\n",
              "[[2]]\n",
              "[1] \"x\"\n",
              "\n",
              "[[3]]\n",
              "[1]  TRUE FALSE\n"
            ]
          },
          "metadata": {}
        }
      ]
    },
    {
      "cell_type": "code",
      "source": [
        "l1"
      ],
      "metadata": {
        "id": "Jyrkq2i5xgfL",
        "outputId": "4f312a16-4a13-49e4-ca1c-4a5321d79d99",
        "colab": {
          "base_uri": "https://localhost:8080/",
          "height": 417
        }
      },
      "execution_count": 6,
      "outputs": [
        {
          "output_type": "display_data",
          "data": {
            "text/html": [
              "<dl>\n",
              "\t<dt>$num</dt>\n",
              "\t\t<dd><style>\n",
              ".list-inline {list-style: none; margin:0; padding: 0}\n",
              ".list-inline>li {display: inline-block}\n",
              ".list-inline>li:not(:last-child)::after {content: \"\\00b7\"; padding: 0 .5ex}\n",
              "</style>\n",
              "<ol class=list-inline><li>1</li><li>3</li><li>5</li></ol>\n",
              "</dd>\n",
              "\t<dt>$letra</dt>\n",
              "\t\t<dd><style>\n",
              ".list-inline {list-style: none; margin:0; padding: 0}\n",
              ".list-inline>li {display: inline-block}\n",
              ".list-inline>li:not(:last-child)::after {content: \"\\00b7\"; padding: 0 .5ex}\n",
              "</style>\n",
              "<ol class=list-inline><li>'A'</li><li>'B'</li><li>'C'</li><li>'D'</li><li>'E'</li><li>'F'</li><li>'G'</li><li>'H'</li><li>'I'</li><li>'J'</li><li>'K'</li><li>'L'</li><li>'M'</li><li>'N'</li><li>'O'</li><li>'P'</li><li>'Q'</li><li>'R'</li><li>'S'</li><li>'T'</li><li>'U'</li><li>'V'</li><li>'W'</li><li>'X'</li><li>'Y'</li><li>'Z'</li></ol>\n",
              "</dd>\n",
              "\t<dt>$pl</dt>\n",
              "\t\t<dd>'Hoy es lunes'</dd>\n",
              "\t<dt>$mat</dt>\n",
              "\t\t<dd><table class=\"dataframe\">\n",
              "<caption>A matrix: 2 × 2 of type dbl</caption>\n",
              "<tbody>\n",
              "\t<tr><td>1</td><td>5</td></tr>\n",
              "\t<tr><td>3</td><td>7</td></tr>\n",
              "</tbody>\n",
              "</table>\n",
              "</dd>\n",
              "\t<dt>$lista</dt>\n",
              "\t\t<dd><dl>\n",
              "\t<dt>$x</dt>\n",
              "\t\t<dd><style>\n",
              ".list-inline {list-style: none; margin:0; padding: 0}\n",
              ".list-inline>li {display: inline-block}\n",
              ".list-inline>li:not(:last-child)::after {content: \"\\00b7\"; padding: 0 .5ex}\n",
              "</style>\n",
              "<ol class=list-inline><li>'a'</li><li>'b'</li></ol>\n",
              "</dd>\n",
              "\t<dt>$lgl</dt>\n",
              "\t\t<dd><style>\n",
              ".list-inline {list-style: none; margin:0; padding: 0}\n",
              ".list-inline>li {display: inline-block}\n",
              ".list-inline>li:not(:last-child)::after {content: \"\\00b7\"; padding: 0 .5ex}\n",
              "</style>\n",
              "<ol class=list-inline><li>TRUE</li><li>FALSE</li><li>FALSE</li></ol>\n",
              "</dd>\n",
              "</dl>\n",
              "</dd>\n",
              "</dl>\n"
            ],
            "text/markdown": "$num\n:   1. 1\n2. 3\n3. 5\n\n\n\n$letra\n:   1. 'A'\n2. 'B'\n3. 'C'\n4. 'D'\n5. 'E'\n6. 'F'\n7. 'G'\n8. 'H'\n9. 'I'\n10. 'J'\n11. 'K'\n12. 'L'\n13. 'M'\n14. 'N'\n15. 'O'\n16. 'P'\n17. 'Q'\n18. 'R'\n19. 'S'\n20. 'T'\n21. 'U'\n22. 'V'\n23. 'W'\n24. 'X'\n25. 'Y'\n26. 'Z'\n\n\n\n$pl\n:   'Hoy es lunes'\n$mat\n:   \nA matrix: 2 × 2 of type dbl\n\n| 1 | 5 |\n| 3 | 7 |\n\n\n$lista\n:   $x\n:   1. 'a'\n2. 'b'\n\n\n\n$lgl\n:   1. TRUE\n2. FALSE\n3. FALSE\n\n\n\n\n\n\n\n\n",
            "text/latex": "\\begin{description}\n\\item[\\$num] \\begin{enumerate*}\n\\item 1\n\\item 3\n\\item 5\n\\end{enumerate*}\n\n\\item[\\$letra] \\begin{enumerate*}\n\\item 'A'\n\\item 'B'\n\\item 'C'\n\\item 'D'\n\\item 'E'\n\\item 'F'\n\\item 'G'\n\\item 'H'\n\\item 'I'\n\\item 'J'\n\\item 'K'\n\\item 'L'\n\\item 'M'\n\\item 'N'\n\\item 'O'\n\\item 'P'\n\\item 'Q'\n\\item 'R'\n\\item 'S'\n\\item 'T'\n\\item 'U'\n\\item 'V'\n\\item 'W'\n\\item 'X'\n\\item 'Y'\n\\item 'Z'\n\\end{enumerate*}\n\n\\item[\\$pl] 'Hoy es lunes'\n\\item[\\$mat] A matrix: 2 × 2 of type dbl\n\\begin{tabular}{ll}\n\t 1 & 5\\\\\n\t 3 & 7\\\\\n\\end{tabular}\n\n\\item[\\$lista] \\begin{description}\n\\item[\\$x] \\begin{enumerate*}\n\\item 'a'\n\\item 'b'\n\\end{enumerate*}\n\n\\item[\\$lgl] \\begin{enumerate*}\n\\item TRUE\n\\item FALSE\n\\item FALSE\n\\end{enumerate*}\n\n\\end{description}\n\n\\end{description}\n",
            "text/plain": [
              "$num\n",
              "[1] 1 3 5\n",
              "\n",
              "$letra\n",
              " [1] \"A\" \"B\" \"C\" \"D\" \"E\" \"F\" \"G\" \"H\" \"I\" \"J\" \"K\" \"L\" \"M\" \"N\" \"O\" \"P\" \"Q\" \"R\" \"S\"\n",
              "[20] \"T\" \"U\" \"V\" \"W\" \"X\" \"Y\" \"Z\"\n",
              "\n",
              "$pl\n",
              "[1] \"Hoy es lunes\"\n",
              "\n",
              "$mat\n",
              "     [,1] [,2]\n",
              "[1,]    1    5\n",
              "[2,]    3    7\n",
              "\n",
              "$lista\n",
              "$lista$x\n",
              "[1] \"a\" \"b\"\n",
              "\n",
              "$lista$lgl\n",
              "[1]  TRUE FALSE FALSE\n",
              "\n"
            ]
          },
          "metadata": {}
        }
      ]
    },
    {
      "cell_type": "code",
      "metadata": {
        "trusted": true,
        "id": "GBuxGL4cTpR0",
        "outputId": "877b730e-f447-4ae2-ba5c-490fe114b07c",
        "colab": {
          "base_uri": "https://localhost:8080/"
        }
      },
      "source": [
        "# Podemos combinar listas\n",
        "l3 <- c(l1,l2)\n",
        "str(l3)"
      ],
      "execution_count": 7,
      "outputs": [
        {
          "output_type": "stream",
          "name": "stdout",
          "text": [
            "List of 8\n",
            " $ num  : num [1:3] 1 3 5\n",
            " $ letra: chr [1:26] \"A\" \"B\" \"C\" \"D\" ...\n",
            " $ pl   : chr \"Hoy es lunes\"\n",
            " $ mat  : num [1:2, 1:2] 1 3 5 7\n",
            " $ lista:List of 2\n",
            "  ..$ x  : chr [1:2] \"a\" \"b\"\n",
            "  ..$ lgl: logi [1:3] TRUE FALSE FALSE\n",
            " $      : int [1:5] 1 2 3 4 5\n",
            " $      : chr \"x\"\n",
            " $      : logi [1:2] TRUE FALSE\n"
          ]
        }
      ]
    },
    {
      "cell_type": "code",
      "metadata": {
        "trusted": true,
        "id": "uUv7BQfnTpR3",
        "outputId": "729fb266-34ae-41a6-e96d-01499282749b",
        "colab": {
          "base_uri": "https://localhost:8080/",
          "height": 52
        }
      },
      "source": [
        "# Acceso mediante posición\n",
        "l1[2] # es una lista"
      ],
      "execution_count": 8,
      "outputs": [
        {
          "output_type": "display_data",
          "data": {
            "text/html": [
              "<strong>$letra</strong> = <style>\n",
              ".list-inline {list-style: none; margin:0; padding: 0}\n",
              ".list-inline>li {display: inline-block}\n",
              ".list-inline>li:not(:last-child)::after {content: \"\\00b7\"; padding: 0 .5ex}\n",
              "</style>\n",
              "<ol class=list-inline><li>'A'</li><li>'B'</li><li>'C'</li><li>'D'</li><li>'E'</li><li>'F'</li><li>'G'</li><li>'H'</li><li>'I'</li><li>'J'</li><li>'K'</li><li>'L'</li><li>'M'</li><li>'N'</li><li>'O'</li><li>'P'</li><li>'Q'</li><li>'R'</li><li>'S'</li><li>'T'</li><li>'U'</li><li>'V'</li><li>'W'</li><li>'X'</li><li>'Y'</li><li>'Z'</li></ol>\n"
            ],
            "text/markdown": "**$letra** = 1. 'A'\n2. 'B'\n3. 'C'\n4. 'D'\n5. 'E'\n6. 'F'\n7. 'G'\n8. 'H'\n9. 'I'\n10. 'J'\n11. 'K'\n12. 'L'\n13. 'M'\n14. 'N'\n15. 'O'\n16. 'P'\n17. 'Q'\n18. 'R'\n19. 'S'\n20. 'T'\n21. 'U'\n22. 'V'\n23. 'W'\n24. 'X'\n25. 'Y'\n26. 'Z'\n\n\n",
            "text/latex": "\\textbf{\\$letra} = \\begin{enumerate*}\n\\item 'A'\n\\item 'B'\n\\item 'C'\n\\item 'D'\n\\item 'E'\n\\item 'F'\n\\item 'G'\n\\item 'H'\n\\item 'I'\n\\item 'J'\n\\item 'K'\n\\item 'L'\n\\item 'M'\n\\item 'N'\n\\item 'O'\n\\item 'P'\n\\item 'Q'\n\\item 'R'\n\\item 'S'\n\\item 'T'\n\\item 'U'\n\\item 'V'\n\\item 'W'\n\\item 'X'\n\\item 'Y'\n\\item 'Z'\n\\end{enumerate*}\n",
            "text/plain": [
              "$letra\n",
              " [1] \"A\" \"B\" \"C\" \"D\" \"E\" \"F\" \"G\" \"H\" \"I\" \"J\" \"K\" \"L\" \"M\" \"N\" \"O\" \"P\" \"Q\" \"R\" \"S\"\n",
              "[20] \"T\" \"U\" \"V\" \"W\" \"X\" \"Y\" \"Z\"\n"
            ]
          },
          "metadata": {}
        }
      ]
    },
    {
      "cell_type": "code",
      "metadata": {
        "trusted": true,
        "id": "L3RDKUqOTpR5",
        "outputId": "27ec7256-bf19-4ec1-c623-111126f9a87c",
        "colab": {
          "base_uri": "https://localhost:8080/",
          "height": 247
        }
      },
      "source": [
        "l1[c(2,4)] # esto es una lista"
      ],
      "execution_count": 9,
      "outputs": [
        {
          "output_type": "display_data",
          "data": {
            "text/html": [
              "<dl>\n",
              "\t<dt>$letra</dt>\n",
              "\t\t<dd><style>\n",
              ".list-inline {list-style: none; margin:0; padding: 0}\n",
              ".list-inline>li {display: inline-block}\n",
              ".list-inline>li:not(:last-child)::after {content: \"\\00b7\"; padding: 0 .5ex}\n",
              "</style>\n",
              "<ol class=list-inline><li>'A'</li><li>'B'</li><li>'C'</li><li>'D'</li><li>'E'</li><li>'F'</li><li>'G'</li><li>'H'</li><li>'I'</li><li>'J'</li><li>'K'</li><li>'L'</li><li>'M'</li><li>'N'</li><li>'O'</li><li>'P'</li><li>'Q'</li><li>'R'</li><li>'S'</li><li>'T'</li><li>'U'</li><li>'V'</li><li>'W'</li><li>'X'</li><li>'Y'</li><li>'Z'</li></ol>\n",
              "</dd>\n",
              "\t<dt>$mat</dt>\n",
              "\t\t<dd><table class=\"dataframe\">\n",
              "<caption>A matrix: 2 × 2 of type dbl</caption>\n",
              "<tbody>\n",
              "\t<tr><td>1</td><td>5</td></tr>\n",
              "\t<tr><td>3</td><td>7</td></tr>\n",
              "</tbody>\n",
              "</table>\n",
              "</dd>\n",
              "</dl>\n"
            ],
            "text/markdown": "$letra\n:   1. 'A'\n2. 'B'\n3. 'C'\n4. 'D'\n5. 'E'\n6. 'F'\n7. 'G'\n8. 'H'\n9. 'I'\n10. 'J'\n11. 'K'\n12. 'L'\n13. 'M'\n14. 'N'\n15. 'O'\n16. 'P'\n17. 'Q'\n18. 'R'\n19. 'S'\n20. 'T'\n21. 'U'\n22. 'V'\n23. 'W'\n24. 'X'\n25. 'Y'\n26. 'Z'\n\n\n\n$mat\n:   \nA matrix: 2 × 2 of type dbl\n\n| 1 | 5 |\n| 3 | 7 |\n\n\n\n\n",
            "text/latex": "\\begin{description}\n\\item[\\$letra] \\begin{enumerate*}\n\\item 'A'\n\\item 'B'\n\\item 'C'\n\\item 'D'\n\\item 'E'\n\\item 'F'\n\\item 'G'\n\\item 'H'\n\\item 'I'\n\\item 'J'\n\\item 'K'\n\\item 'L'\n\\item 'M'\n\\item 'N'\n\\item 'O'\n\\item 'P'\n\\item 'Q'\n\\item 'R'\n\\item 'S'\n\\item 'T'\n\\item 'U'\n\\item 'V'\n\\item 'W'\n\\item 'X'\n\\item 'Y'\n\\item 'Z'\n\\end{enumerate*}\n\n\\item[\\$mat] A matrix: 2 × 2 of type dbl\n\\begin{tabular}{ll}\n\t 1 & 5\\\\\n\t 3 & 7\\\\\n\\end{tabular}\n\n\\end{description}\n",
            "text/plain": [
              "$letra\n",
              " [1] \"A\" \"B\" \"C\" \"D\" \"E\" \"F\" \"G\" \"H\" \"I\" \"J\" \"K\" \"L\" \"M\" \"N\" \"O\" \"P\" \"Q\" \"R\" \"S\"\n",
              "[20] \"T\" \"U\" \"V\" \"W\" \"X\" \"Y\" \"Z\"\n",
              "\n",
              "$mat\n",
              "     [,1] [,2]\n",
              "[1,]    1    5\n",
              "[2,]    3    7\n"
            ]
          },
          "metadata": {}
        }
      ]
    },
    {
      "cell_type": "code",
      "source": [
        "class(l1[2])\n",
        "class(l1[c(2,4)] )"
      ],
      "metadata": {
        "id": "itfH-VGxzI0F",
        "outputId": "ce35b8f5-a45f-43dc-90b0-eb52b61898c7",
        "colab": {
          "base_uri": "https://localhost:8080/",
          "height": 52
        }
      },
      "execution_count": 12,
      "outputs": [
        {
          "output_type": "display_data",
          "data": {
            "text/html": [
              "'list'"
            ],
            "text/markdown": "'list'",
            "text/latex": "'list'",
            "text/plain": [
              "[1] \"list\""
            ]
          },
          "metadata": {}
        },
        {
          "output_type": "display_data",
          "data": {
            "text/html": [
              "'list'"
            ],
            "text/markdown": "'list'",
            "text/latex": "'list'",
            "text/plain": [
              "[1] \"list\""
            ]
          },
          "metadata": {}
        }
      ]
    },
    {
      "cell_type": "code",
      "metadata": {
        "trusted": true,
        "id": "QbQ8QHARTpR7",
        "outputId": "96f065a3-9576-463c-fbe3-3a97bc49cafc",
        "colab": {
          "base_uri": "https://localhost:8080/",
          "height": 333
        }
      },
      "source": [
        "# NOTA lista[.] retorna un lista con un elemento,\n",
        "# lista[[.]] retorna el elmento de la lista lista[.]\n",
        "l1[4] # Una lista con la matriz\n",
        "l1[[4]] # Matriz\n"
      ],
      "execution_count": 16,
      "outputs": [
        {
          "output_type": "display_data",
          "data": {
            "text/html": [
              "<strong>$mat</strong> = <table class=\"dataframe\">\n",
              "<caption>A matrix: 2 × 2 of type dbl</caption>\n",
              "<tbody>\n",
              "\t<tr><td>1</td><td>5</td></tr>\n",
              "\t<tr><td>3</td><td>7</td></tr>\n",
              "</tbody>\n",
              "</table>\n"
            ],
            "text/markdown": "**$mat** = \nA matrix: 2 × 2 of type dbl\n\n| 1 | 5 |\n| 3 | 7 |\n\n",
            "text/latex": "\\textbf{\\$mat} = A matrix: 2 × 2 of type dbl\n\\begin{tabular}{ll}\n\t 1 & 5\\\\\n\t 3 & 7\\\\\n\\end{tabular}\n",
            "text/plain": [
              "$mat\n",
              "     [,1] [,2]\n",
              "[1,]    1    5\n",
              "[2,]    3    7\n"
            ]
          },
          "metadata": {}
        },
        {
          "output_type": "display_data",
          "data": {
            "text/html": [
              "<table class=\"dataframe\">\n",
              "<caption>A matrix: 2 × 2 of type dbl</caption>\n",
              "<tbody>\n",
              "\t<tr><td>1</td><td>5</td></tr>\n",
              "\t<tr><td>3</td><td>7</td></tr>\n",
              "</tbody>\n",
              "</table>\n"
            ],
            "text/markdown": "\nA matrix: 2 × 2 of type dbl\n\n| 1 | 5 |\n| 3 | 7 |\n\n",
            "text/latex": "A matrix: 2 × 2 of type dbl\n\\begin{tabular}{ll}\n\t 1 & 5\\\\\n\t 3 & 7\\\\\n\\end{tabular}\n",
            "text/plain": [
              "     [,1] [,2]\n",
              "[1,] 1    5   \n",
              "[2,] 3    7   "
            ]
          },
          "metadata": {}
        }
      ]
    },
    {
      "cell_type": "code",
      "source": [
        "l1[[4]][2,2]"
      ],
      "metadata": {
        "id": "4W0ax6g6z782",
        "outputId": "f863d5a8-49dd-4e83-adf6-04f76b7f02d4",
        "colab": {
          "base_uri": "https://localhost:8080/",
          "height": 34
        }
      },
      "execution_count": 20,
      "outputs": [
        {
          "output_type": "display_data",
          "data": {
            "text/html": [
              "7"
            ],
            "text/markdown": "7",
            "text/latex": "7",
            "text/plain": [
              "[1] 7"
            ]
          },
          "metadata": {}
        }
      ]
    },
    {
      "cell_type": "code",
      "source": [
        "class(l1[[4]] )"
      ],
      "metadata": {
        "id": "rXan0x47z3Za",
        "outputId": "023072eb-03d3-41b8-b8fe-b7322f47b83b",
        "colab": {
          "base_uri": "https://localhost:8080/",
          "height": 34
        }
      },
      "execution_count": 19,
      "outputs": [
        {
          "output_type": "display_data",
          "data": {
            "text/html": [
              "<style>\n",
              ".list-inline {list-style: none; margin:0; padding: 0}\n",
              ".list-inline>li {display: inline-block}\n",
              ".list-inline>li:not(:last-child)::after {content: \"\\00b7\"; padding: 0 .5ex}\n",
              "</style>\n",
              "<ol class=list-inline><li>'matrix'</li><li>'array'</li></ol>\n"
            ],
            "text/markdown": "1. 'matrix'\n2. 'array'\n\n\n",
            "text/latex": "\\begin{enumerate*}\n\\item 'matrix'\n\\item 'array'\n\\end{enumerate*}\n",
            "text/plain": [
              "[1] \"matrix\" \"array\" "
            ]
          },
          "metadata": {}
        }
      ]
    },
    {
      "cell_type": "code",
      "source": [
        "str(l1)"
      ],
      "metadata": {
        "id": "1Evosy-Vzn2G",
        "outputId": "3da2372f-0181-4605-8fc1-9a2f5e5ac288",
        "colab": {
          "base_uri": "https://localhost:8080/"
        }
      },
      "execution_count": 21,
      "outputs": [
        {
          "output_type": "stream",
          "name": "stdout",
          "text": [
            "List of 5\n",
            " $ num  : num [1:3] 1 3 5\n",
            " $ letra: chr [1:26] \"A\" \"B\" \"C\" \"D\" ...\n",
            " $ pl   : chr \"Hoy es lunes\"\n",
            " $ mat  : num [1:2, 1:2] 1 3 5 7\n",
            " $ lista:List of 2\n",
            "  ..$ x  : chr [1:2] \"a\" \"b\"\n",
            "  ..$ lgl: logi [1:3] TRUE FALSE FALSE\n"
          ]
        }
      ]
    },
    {
      "cell_type": "code",
      "metadata": {
        "trusted": true,
        "id": "kaOJqYJETpSC",
        "outputId": "5b8fee5c-ab41-4ce5-e7f6-0c1a6d2771ff",
        "colab": {
          "base_uri": "https://localhost:8080/",
          "height": 52
        }
      },
      "source": [
        "# de la lista l1[[5]], quiero el vector que está en el slot llamado \"lgl\" (segundo elemento)\n",
        "l1[[5]][2] # Esto es una lista con el segundo elemento de la lista l1[[5]]\n"
      ],
      "execution_count": 28,
      "outputs": [
        {
          "output_type": "display_data",
          "data": {
            "text/html": [
              "<strong>$lgl</strong> = <style>\n",
              ".list-inline {list-style: none; margin:0; padding: 0}\n",
              ".list-inline>li {display: inline-block}\n",
              ".list-inline>li:not(:last-child)::after {content: \"\\00b7\"; padding: 0 .5ex}\n",
              "</style>\n",
              "<ol class=list-inline><li>TRUE</li><li>FALSE</li><li>FALSE</li></ol>\n"
            ],
            "text/markdown": "**$lgl** = 1. TRUE\n2. FALSE\n3. FALSE\n\n\n",
            "text/latex": "\\textbf{\\$lgl} = \\begin{enumerate*}\n\\item TRUE\n\\item FALSE\n\\item FALSE\n\\end{enumerate*}\n",
            "text/plain": [
              "$lgl\n",
              "[1]  TRUE FALSE FALSE\n"
            ]
          },
          "metadata": {}
        }
      ]
    },
    {
      "cell_type": "code",
      "source": [
        "l1[[5]][[2]] # Esto es el vector que està en la segunda posicicòn dela lista l1[[5]]"
      ],
      "metadata": {
        "id": "cWRlP4j70xHf",
        "outputId": "2ddad0e1-93ac-4775-8746-c223ffc84fb7",
        "colab": {
          "base_uri": "https://localhost:8080/",
          "height": 34
        }
      },
      "execution_count": 29,
      "outputs": [
        {
          "output_type": "display_data",
          "data": {
            "text/html": [
              "<style>\n",
              ".list-inline {list-style: none; margin:0; padding: 0}\n",
              ".list-inline>li {display: inline-block}\n",
              ".list-inline>li:not(:last-child)::after {content: \"\\00b7\"; padding: 0 .5ex}\n",
              "</style>\n",
              "<ol class=list-inline><li>TRUE</li><li>FALSE</li><li>FALSE</li></ol>\n"
            ],
            "text/markdown": "1. TRUE\n2. FALSE\n3. FALSE\n\n\n",
            "text/latex": "\\begin{enumerate*}\n\\item TRUE\n\\item FALSE\n\\item FALSE\n\\end{enumerate*}\n",
            "text/plain": [
              "[1]  TRUE FALSE FALSE"
            ]
          },
          "metadata": {}
        }
      ]
    },
    {
      "cell_type": "code",
      "metadata": {
        "trusted": true,
        "id": "jYFKb27-TpSG",
        "outputId": "d4943284-a3c8-4e43-c762-20f2fdae86b1",
        "colab": {
          "base_uri": "https://localhost:8080/",
          "height": 69
        }
      },
      "source": [
        "# Acceso mediante nombre\n",
        "l1[\"letra\"]# Mismo que antes: Lista con el elemtno \"letra\".\n",
        "\n"
      ],
      "execution_count": 31,
      "outputs": [
        {
          "output_type": "display_data",
          "data": {
            "text/html": [
              "<strong>$letra</strong> = <style>\n",
              ".list-inline {list-style: none; margin:0; padding: 0}\n",
              ".list-inline>li {display: inline-block}\n",
              ".list-inline>li:not(:last-child)::after {content: \"\\00b7\"; padding: 0 .5ex}\n",
              "</style>\n",
              "<ol class=list-inline><li>'A'</li><li>'B'</li><li>'C'</li><li>'D'</li><li>'E'</li><li>'F'</li><li>'G'</li><li>'H'</li><li>'I'</li><li>'J'</li><li>'K'</li><li>'L'</li><li>'M'</li><li>'N'</li><li>'O'</li><li>'P'</li><li>'Q'</li><li>'R'</li><li>'S'</li><li>'T'</li><li>'U'</li><li>'V'</li><li>'W'</li><li>'X'</li><li>'Y'</li><li>'Z'</li></ol>\n"
            ],
            "text/markdown": "**$letra** = 1. 'A'\n2. 'B'\n3. 'C'\n4. 'D'\n5. 'E'\n6. 'F'\n7. 'G'\n8. 'H'\n9. 'I'\n10. 'J'\n11. 'K'\n12. 'L'\n13. 'M'\n14. 'N'\n15. 'O'\n16. 'P'\n17. 'Q'\n18. 'R'\n19. 'S'\n20. 'T'\n21. 'U'\n22. 'V'\n23. 'W'\n24. 'X'\n25. 'Y'\n26. 'Z'\n\n\n",
            "text/latex": "\\textbf{\\$letra} = \\begin{enumerate*}\n\\item 'A'\n\\item 'B'\n\\item 'C'\n\\item 'D'\n\\item 'E'\n\\item 'F'\n\\item 'G'\n\\item 'H'\n\\item 'I'\n\\item 'J'\n\\item 'K'\n\\item 'L'\n\\item 'M'\n\\item 'N'\n\\item 'O'\n\\item 'P'\n\\item 'Q'\n\\item 'R'\n\\item 'S'\n\\item 'T'\n\\item 'U'\n\\item 'V'\n\\item 'W'\n\\item 'X'\n\\item 'Y'\n\\item 'Z'\n\\end{enumerate*}\n",
            "text/plain": [
              "$letra\n",
              " [1] \"A\" \"B\" \"C\" \"D\" \"E\" \"F\" \"G\" \"H\" \"I\" \"J\" \"K\" \"L\" \"M\" \"N\" \"O\" \"P\" \"Q\" \"R\" \"S\"\n",
              "[20] \"T\" \"U\" \"V\" \"W\" \"X\" \"Y\" \"Z\"\n"
            ]
          },
          "metadata": {}
        },
        {
          "output_type": "display_data",
          "data": {
            "text/html": [
              "<style>\n",
              ".list-inline {list-style: none; margin:0; padding: 0}\n",
              ".list-inline>li {display: inline-block}\n",
              ".list-inline>li:not(:last-child)::after {content: \"\\00b7\"; padding: 0 .5ex}\n",
              "</style>\n",
              "<ol class=list-inline><li>'A'</li><li>'B'</li><li>'C'</li><li>'D'</li><li>'E'</li><li>'F'</li><li>'G'</li><li>'H'</li><li>'I'</li><li>'J'</li><li>'K'</li><li>'L'</li><li>'M'</li><li>'N'</li><li>'O'</li><li>'P'</li><li>'Q'</li><li>'R'</li><li>'S'</li><li>'T'</li><li>'U'</li><li>'V'</li><li>'W'</li><li>'X'</li><li>'Y'</li><li>'Z'</li></ol>\n"
            ],
            "text/markdown": "1. 'A'\n2. 'B'\n3. 'C'\n4. 'D'\n5. 'E'\n6. 'F'\n7. 'G'\n8. 'H'\n9. 'I'\n10. 'J'\n11. 'K'\n12. 'L'\n13. 'M'\n14. 'N'\n15. 'O'\n16. 'P'\n17. 'Q'\n18. 'R'\n19. 'S'\n20. 'T'\n21. 'U'\n22. 'V'\n23. 'W'\n24. 'X'\n25. 'Y'\n26. 'Z'\n\n\n",
            "text/latex": "\\begin{enumerate*}\n\\item 'A'\n\\item 'B'\n\\item 'C'\n\\item 'D'\n\\item 'E'\n\\item 'F'\n\\item 'G'\n\\item 'H'\n\\item 'I'\n\\item 'J'\n\\item 'K'\n\\item 'L'\n\\item 'M'\n\\item 'N'\n\\item 'O'\n\\item 'P'\n\\item 'Q'\n\\item 'R'\n\\item 'S'\n\\item 'T'\n\\item 'U'\n\\item 'V'\n\\item 'W'\n\\item 'X'\n\\item 'Y'\n\\item 'Z'\n\\end{enumerate*}\n",
            "text/plain": [
              " [1] \"A\" \"B\" \"C\" \"D\" \"E\" \"F\" \"G\" \"H\" \"I\" \"J\" \"K\" \"L\" \"M\" \"N\" \"O\" \"P\" \"Q\" \"R\" \"S\"\n",
              "[20] \"T\" \"U\" \"V\" \"W\" \"X\" \"Y\" \"Z\""
            ]
          },
          "metadata": {}
        }
      ]
    },
    {
      "cell_type": "code",
      "source": [
        "l1[[\"letra\"]]# El vector que està en la segundaposiciòn de l1."
      ],
      "metadata": {
        "id": "Hpb-vF4m1HBJ",
        "outputId": "7b69c402-ca74-46a2-bfc1-a41f5ddc73b8",
        "colab": {
          "base_uri": "https://localhost:8080/",
          "height": 34
        }
      },
      "execution_count": 32,
      "outputs": [
        {
          "output_type": "display_data",
          "data": {
            "text/html": [
              "<style>\n",
              ".list-inline {list-style: none; margin:0; padding: 0}\n",
              ".list-inline>li {display: inline-block}\n",
              ".list-inline>li:not(:last-child)::after {content: \"\\00b7\"; padding: 0 .5ex}\n",
              "</style>\n",
              "<ol class=list-inline><li>'A'</li><li>'B'</li><li>'C'</li><li>'D'</li><li>'E'</li><li>'F'</li><li>'G'</li><li>'H'</li><li>'I'</li><li>'J'</li><li>'K'</li><li>'L'</li><li>'M'</li><li>'N'</li><li>'O'</li><li>'P'</li><li>'Q'</li><li>'R'</li><li>'S'</li><li>'T'</li><li>'U'</li><li>'V'</li><li>'W'</li><li>'X'</li><li>'Y'</li><li>'Z'</li></ol>\n"
            ],
            "text/markdown": "1. 'A'\n2. 'B'\n3. 'C'\n4. 'D'\n5. 'E'\n6. 'F'\n7. 'G'\n8. 'H'\n9. 'I'\n10. 'J'\n11. 'K'\n12. 'L'\n13. 'M'\n14. 'N'\n15. 'O'\n16. 'P'\n17. 'Q'\n18. 'R'\n19. 'S'\n20. 'T'\n21. 'U'\n22. 'V'\n23. 'W'\n24. 'X'\n25. 'Y'\n26. 'Z'\n\n\n",
            "text/latex": "\\begin{enumerate*}\n\\item 'A'\n\\item 'B'\n\\item 'C'\n\\item 'D'\n\\item 'E'\n\\item 'F'\n\\item 'G'\n\\item 'H'\n\\item 'I'\n\\item 'J'\n\\item 'K'\n\\item 'L'\n\\item 'M'\n\\item 'N'\n\\item 'O'\n\\item 'P'\n\\item 'Q'\n\\item 'R'\n\\item 'S'\n\\item 'T'\n\\item 'U'\n\\item 'V'\n\\item 'W'\n\\item 'X'\n\\item 'Y'\n\\item 'Z'\n\\end{enumerate*}\n",
            "text/plain": [
              " [1] \"A\" \"B\" \"C\" \"D\" \"E\" \"F\" \"G\" \"H\" \"I\" \"J\" \"K\" \"L\" \"M\" \"N\" \"O\" \"P\" \"Q\" \"R\" \"S\"\n",
              "[20] \"T\" \"U\" \"V\" \"W\" \"X\" \"Y\" \"Z\""
            ]
          },
          "metadata": {}
        }
      ]
    },
    {
      "cell_type": "code",
      "source": [
        "l1[[\"lista\"]][[\"lgl\"]]# Esto es el vector que està en la segunda posicicòn dela lista l1[[5]]"
      ],
      "metadata": {
        "id": "gLnNqVFV1OqS",
        "outputId": "c70c4aa6-8b89-4dd9-9882-9093d958750a",
        "colab": {
          "base_uri": "https://localhost:8080/",
          "height": 34
        }
      },
      "execution_count": 35,
      "outputs": [
        {
          "output_type": "display_data",
          "data": {
            "text/html": [
              "<style>\n",
              ".list-inline {list-style: none; margin:0; padding: 0}\n",
              ".list-inline>li {display: inline-block}\n",
              ".list-inline>li:not(:last-child)::after {content: \"\\00b7\"; padding: 0 .5ex}\n",
              "</style>\n",
              "<ol class=list-inline><li>TRUE</li><li>FALSE</li><li>FALSE</li></ol>\n"
            ],
            "text/markdown": "1. TRUE\n2. FALSE\n3. FALSE\n\n\n",
            "text/latex": "\\begin{enumerate*}\n\\item TRUE\n\\item FALSE\n\\item FALSE\n\\end{enumerate*}\n",
            "text/plain": [
              "[1]  TRUE FALSE FALSE"
            ]
          },
          "metadata": {}
        }
      ]
    },
    {
      "cell_type": "code",
      "metadata": {
        "trusted": true,
        "id": "a9UBaNOuTpSI",
        "outputId": "e54ba31e-d971-43ad-ab7e-c0dc3631c96d",
        "colab": {
          "base_uri": "https://localhost:8080/",
          "height": 34
        }
      },
      "source": [
        "# acceso vía \"$\"\n",
        "\n",
        "l1$letra # es lo mismo que l1[[2]] o l1[[\"letra\"]]\n",
        "\n"
      ],
      "execution_count": 36,
      "outputs": [
        {
          "output_type": "display_data",
          "data": {
            "text/html": [
              "<style>\n",
              ".list-inline {list-style: none; margin:0; padding: 0}\n",
              ".list-inline>li {display: inline-block}\n",
              ".list-inline>li:not(:last-child)::after {content: \"\\00b7\"; padding: 0 .5ex}\n",
              "</style>\n",
              "<ol class=list-inline><li>'A'</li><li>'B'</li><li>'C'</li><li>'D'</li><li>'E'</li><li>'F'</li><li>'G'</li><li>'H'</li><li>'I'</li><li>'J'</li><li>'K'</li><li>'L'</li><li>'M'</li><li>'N'</li><li>'O'</li><li>'P'</li><li>'Q'</li><li>'R'</li><li>'S'</li><li>'T'</li><li>'U'</li><li>'V'</li><li>'W'</li><li>'X'</li><li>'Y'</li><li>'Z'</li></ol>\n"
            ],
            "text/markdown": "1. 'A'\n2. 'B'\n3. 'C'\n4. 'D'\n5. 'E'\n6. 'F'\n7. 'G'\n8. 'H'\n9. 'I'\n10. 'J'\n11. 'K'\n12. 'L'\n13. 'M'\n14. 'N'\n15. 'O'\n16. 'P'\n17. 'Q'\n18. 'R'\n19. 'S'\n20. 'T'\n21. 'U'\n22. 'V'\n23. 'W'\n24. 'X'\n25. 'Y'\n26. 'Z'\n\n\n",
            "text/latex": "\\begin{enumerate*}\n\\item 'A'\n\\item 'B'\n\\item 'C'\n\\item 'D'\n\\item 'E'\n\\item 'F'\n\\item 'G'\n\\item 'H'\n\\item 'I'\n\\item 'J'\n\\item 'K'\n\\item 'L'\n\\item 'M'\n\\item 'N'\n\\item 'O'\n\\item 'P'\n\\item 'Q'\n\\item 'R'\n\\item 'S'\n\\item 'T'\n\\item 'U'\n\\item 'V'\n\\item 'W'\n\\item 'X'\n\\item 'Y'\n\\item 'Z'\n\\end{enumerate*}\n",
            "text/plain": [
              " [1] \"A\" \"B\" \"C\" \"D\" \"E\" \"F\" \"G\" \"H\" \"I\" \"J\" \"K\" \"L\" \"M\" \"N\" \"O\" \"P\" \"Q\" \"R\" \"S\"\n",
              "[20] \"T\" \"U\" \"V\" \"W\" \"X\" \"Y\" \"Z\""
            ]
          },
          "metadata": {}
        }
      ]
    },
    {
      "cell_type": "code",
      "source": [
        "l1$lista$lgl # Equivalente a l1[[\"lista\"]][[\"lgl\"]] o l1[[5]][[2]]"
      ],
      "metadata": {
        "id": "DAZ6Kcp411Od",
        "outputId": "53a1ce7c-196c-45f7-a4d7-a88011846e8f",
        "colab": {
          "base_uri": "https://localhost:8080/",
          "height": 34
        }
      },
      "execution_count": 37,
      "outputs": [
        {
          "output_type": "display_data",
          "data": {
            "text/html": [
              "<style>\n",
              ".list-inline {list-style: none; margin:0; padding: 0}\n",
              ".list-inline>li {display: inline-block}\n",
              ".list-inline>li:not(:last-child)::after {content: \"\\00b7\"; padding: 0 .5ex}\n",
              "</style>\n",
              "<ol class=list-inline><li>TRUE</li><li>FALSE</li><li>FALSE</li></ol>\n"
            ],
            "text/markdown": "1. TRUE\n2. FALSE\n3. FALSE\n\n\n",
            "text/latex": "\\begin{enumerate*}\n\\item TRUE\n\\item FALSE\n\\item FALSE\n\\end{enumerate*}\n",
            "text/plain": [
              "[1]  TRUE FALSE FALSE"
            ]
          },
          "metadata": {}
        }
      ]
    },
    {
      "cell_type": "code",
      "metadata": {
        "trusted": true,
        "id": "Dumeo0-NTpSM",
        "outputId": "6e96d329-06b7-4240-bf7c-c05967e4476c",
        "colab": {
          "base_uri": "https://localhost:8080/",
          "height": 52
        }
      },
      "source": [
        "# para saber el largo de la lista/vector\n",
        "length(l1)\n",
        "# Para obtener los nombres de la lista\n",
        "names(l1)\n",
        "# si quisiéramos renombrar los slots: TAREA, renombrar el quinto slot.\n"
      ],
      "execution_count": 39,
      "outputs": [
        {
          "output_type": "display_data",
          "data": {
            "text/html": [
              "5"
            ],
            "text/markdown": "5",
            "text/latex": "5",
            "text/plain": [
              "[1] 5"
            ]
          },
          "metadata": {}
        },
        {
          "output_type": "display_data",
          "data": {
            "text/html": [
              "<style>\n",
              ".list-inline {list-style: none; margin:0; padding: 0}\n",
              ".list-inline>li {display: inline-block}\n",
              ".list-inline>li:not(:last-child)::after {content: \"\\00b7\"; padding: 0 .5ex}\n",
              "</style>\n",
              "<ol class=list-inline><li>'num'</li><li>'letra'</li><li>'pl'</li><li>'mat'</li><li>'lista'</li></ol>\n"
            ],
            "text/markdown": "1. 'num'\n2. 'letra'\n3. 'pl'\n4. 'mat'\n5. 'lista'\n\n\n",
            "text/latex": "\\begin{enumerate*}\n\\item 'num'\n\\item 'letra'\n\\item 'pl'\n\\item 'mat'\n\\item 'lista'\n\\end{enumerate*}\n",
            "text/plain": [
              "[1] \"num\"   \"letra\" \"pl\"    \"mat\"   \"lista\""
            ]
          },
          "metadata": {}
        }
      ]
    },
    {
      "cell_type": "code",
      "metadata": {
        "trusted": true,
        "id": "Uij1PdVrTpSO"
      },
      "source": [
        "# También podemos crear nuevos \"slots\"\n",
        "## Indicando nombre en [[]] y luego asignando\n",
        "l1[[\"persona\"]] <- c(nm=\"miguel\", ap=\"Jorquera\", ed=\"34\")"
      ],
      "execution_count": 47,
      "outputs": []
    },
    {
      "cell_type": "code",
      "source": [
        "l1$persona2 <- c(nm = \"Sidney\", ap = \"Villalón\", ed = \"31\")"
      ],
      "metadata": {
        "id": "viV2uxKl26B6"
      },
      "execution_count": 48,
      "outputs": []
    },
    {
      "cell_type": "code",
      "source": [],
      "metadata": {
        "id": "e62Nnokl3IZ2"
      },
      "execution_count": null,
      "outputs": []
    },
    {
      "cell_type": "code",
      "source": [
        "str(l1)"
      ],
      "metadata": {
        "id": "rpIn7sG12xFq",
        "outputId": "4e26fda7-1cd5-4c54-ae6d-38649f53d555",
        "colab": {
          "base_uri": "https://localhost:8080/"
        }
      },
      "execution_count": 46,
      "outputs": [
        {
          "output_type": "stream",
          "name": "stdout",
          "text": [
            "List of 7\n",
            " $ num     : num [1:3] 1 3 5\n",
            " $ letra   : chr [1:26] \"A\" \"B\" \"C\" \"D\" ...\n",
            " $ pl      : chr \"Hoy es lunes\"\n",
            " $ mat     : num [1:2, 1:2] 1 3 5 7\n",
            " $ lista   :List of 2\n",
            "  ..$ x  : chr [1:2] \"a\" \"b\"\n",
            "  ..$ lgl: logi [1:3] TRUE FALSE FALSE\n",
            " $ persona : Named chr [1:3] \"miguel\" \"Jorquera\" \"34\"\n",
            "  ..- attr(*, \"names\")= chr [1:3] \"nm\" \"ap\" \"ed\"\n",
            " $ persona2: Named chr [1:3] \"Sidney\" \"Villalón\" \"31\"\n",
            "  ..- attr(*, \"names\")= chr [1:3] \"nm\" \"ap\" \"ed\"\n"
          ]
        }
      ]
    },
    {
      "cell_type": "code",
      "metadata": {
        "trusted": true,
        "id": "rBB4hT9RTpSQ"
      },
      "source": [
        "# podemos modificar elementos dentro de un slot\n",
        "# Quiero cambiar el \"34\" por un \"35\" , en el elemento 3 (\"ed\") del vector \"persona\"\n",
        "\n",
        "l1$persona[\"ed\"] <- 35\n",
        "\n",
        "\n"
      ],
      "execution_count": 50,
      "outputs": []
    },
    {
      "cell_type": "code",
      "source": [
        "l1$persona"
      ],
      "metadata": {
        "id": "YUmiMPdE30fc",
        "outputId": "275acc8c-53cd-4afe-ccb2-148297075e07",
        "colab": {
          "base_uri": "https://localhost:8080/",
          "height": 34
        }
      },
      "execution_count": 51,
      "outputs": [
        {
          "output_type": "display_data",
          "data": {
            "text/html": [
              "<style>\n",
              ".dl-inline {width: auto; margin:0; padding: 0}\n",
              ".dl-inline>dt, .dl-inline>dd {float: none; width: auto; display: inline-block}\n",
              ".dl-inline>dt::after {content: \":\\0020\"; padding-right: .5ex}\n",
              ".dl-inline>dt:not(:first-of-type) {padding-left: .5ex}\n",
              "</style><dl class=dl-inline><dt>nm</dt><dd>'miguel'</dd><dt>ap</dt><dd>'Jorquera'</dd><dt>ed</dt><dd>'35'</dd></dl>\n"
            ],
            "text/markdown": "nm\n:   'miguel'ap\n:   'Jorquera'ed\n:   '35'\n\n",
            "text/latex": "\\begin{description*}\n\\item[nm] 'miguel'\n\\item[ap] 'Jorquera'\n\\item[ed] '35'\n\\end{description*}\n",
            "text/plain": [
              "        nm         ap         ed \n",
              "  \"miguel\" \"Jorquera\"       \"35\" "
            ]
          },
          "metadata": {}
        }
      ]
    },
    {
      "cell_type": "markdown",
      "metadata": {
        "id": "128wI4ZoTpSS"
      },
      "source": [
        "### 5.2 Dataframes\n",
        "\n",
        "Un dataframe es un caso particular de una lista, donde los objetos de cada entrada corresponden a vectores de datos del mismo largo. E este caso cada vector corresponde a una columna del data.frame, mientras que la cantidad de filas corresponde al largo común de los vectores de cada entrada. El objeto resultante es una *tabla*, de ahora en adelante *data.frame*, cuyas columnas poseen distintos tipos de datos entre sí.\n",
        "\n",
        " * ¿Cómo se declara un dataframe?<br>\n",
        "     Mediante la función data.frame(), indicando los vectores que conformarán las columnas.\n",
        "\n",
        " * ¿Cómo se accede a los datos de un data.frame?<br>\n",
        "    Al ser una lista, se puede acceder de la misma manera. Sin embargo también es posible acceder del modo en que se accede a los elementos de una matriz."
      ]
    },
    {
      "cell_type": "code",
      "metadata": {
        "trusted": true,
        "id": "qJ-2zVWVTpST"
      },
      "source": [
        "# 5.2 Dataframes ----------\n",
        "# Ejemplo sencillo de definición de un data.frame\n",
        "# recordar que 1:3 es lo mismo que c(1,2,3)\n",
        "df <- data.frame( nombre = c(\"Miguel\", \"Sidney\", \"Javiera\"),\n",
        "                  apellido = c(\"Jorquera\", \"Villalón\", \"Cuevas\"),\n",
        "                  edad = c(34,31,23))\n",
        "\n"
      ],
      "execution_count": 52,
      "outputs": []
    },
    {
      "cell_type": "code",
      "source": [
        "str(df)"
      ],
      "metadata": {
        "id": "bZOsky_q5UmY",
        "outputId": "e132e08d-8327-4357-8c5c-b1fd32ccfd70",
        "colab": {
          "base_uri": "https://localhost:8080/"
        }
      },
      "execution_count": 53,
      "outputs": [
        {
          "output_type": "stream",
          "name": "stdout",
          "text": [
            "'data.frame':\t3 obs. of  3 variables:\n",
            " $ nombre  : chr  \"Miguel\" \"Sidney\" \"Javiera\"\n",
            " $ apellido: chr  \"Jorquera\" \"Villalón\" \"Cuevas\"\n",
            " $ edad    : num  34 31 23\n"
          ]
        }
      ]
    },
    {
      "cell_type": "code",
      "source": [
        "df"
      ],
      "metadata": {
        "id": "hlCEkECM5fs2",
        "outputId": "c475f28c-e012-4a0a-a3fc-5100bd7753f0",
        "colab": {
          "base_uri": "https://localhost:8080/",
          "height": 192
        }
      },
      "execution_count": 54,
      "outputs": [
        {
          "output_type": "display_data",
          "data": {
            "text/html": [
              "<table class=\"dataframe\">\n",
              "<caption>A data.frame: 3 × 3</caption>\n",
              "<thead>\n",
              "\t<tr><th scope=col>nombre</th><th scope=col>apellido</th><th scope=col>edad</th></tr>\n",
              "\t<tr><th scope=col>&lt;chr&gt;</th><th scope=col>&lt;chr&gt;</th><th scope=col>&lt;dbl&gt;</th></tr>\n",
              "</thead>\n",
              "<tbody>\n",
              "\t<tr><td>Miguel </td><td>Jorquera</td><td>34</td></tr>\n",
              "\t<tr><td>Sidney </td><td>Villalón</td><td>31</td></tr>\n",
              "\t<tr><td>Javiera</td><td>Cuevas  </td><td>23</td></tr>\n",
              "</tbody>\n",
              "</table>\n"
            ],
            "text/markdown": "\nA data.frame: 3 × 3\n\n| nombre &lt;chr&gt; | apellido &lt;chr&gt; | edad &lt;dbl&gt; |\n|---|---|---|\n| Miguel  | Jorquera | 34 |\n| Sidney  | Villalón | 31 |\n| Javiera | Cuevas   | 23 |\n\n",
            "text/latex": "A data.frame: 3 × 3\n\\begin{tabular}{lll}\n nombre & apellido & edad\\\\\n <chr> & <chr> & <dbl>\\\\\n\\hline\n\t Miguel  & Jorquera & 34\\\\\n\t Sidney  & Villalón & 31\\\\\n\t Javiera & Cuevas   & 23\\\\\n\\end{tabular}\n",
            "text/plain": [
              "  nombre  apellido edad\n",
              "1 Miguel  Jorquera 34  \n",
              "2 Sidney  Villalón 31  \n",
              "3 Javiera Cuevas   23  "
            ]
          },
          "metadata": {}
        }
      ]
    },
    {
      "cell_type": "code",
      "metadata": {
        "trusted": true,
        "id": "nv7stC8ITpSY",
        "outputId": "90d3449b-9244-44d4-bacd-38fc3bda01ba",
        "colab": {
          "base_uri": "https://localhost:8080/",
          "height": 227
        }
      },
      "source": [
        "# Acceso a columnas de un data.frame\n",
        "## Igual que en una lista\n",
        "# Colmuna 2\n",
        "df[2] # Es un data.frame (antes era una lista) con el vector de apellidos\n"
      ],
      "execution_count": 59,
      "outputs": [
        {
          "output_type": "display_data",
          "data": {
            "text/html": [
              "<table class=\"dataframe\">\n",
              "<caption>A data.frame: 3 × 1</caption>\n",
              "<thead>\n",
              "\t<tr><th scope=col>apellido</th></tr>\n",
              "\t<tr><th scope=col>&lt;chr&gt;</th></tr>\n",
              "</thead>\n",
              "<tbody>\n",
              "\t<tr><td>Jorquera</td></tr>\n",
              "\t<tr><td>Villalón</td></tr>\n",
              "\t<tr><td>Cuevas  </td></tr>\n",
              "</tbody>\n",
              "</table>\n"
            ],
            "text/markdown": "\nA data.frame: 3 × 1\n\n| apellido &lt;chr&gt; |\n|---|\n| Jorquera |\n| Villalón |\n| Cuevas   |\n\n",
            "text/latex": "A data.frame: 3 × 1\n\\begin{tabular}{l}\n apellido\\\\\n <chr>\\\\\n\\hline\n\t Jorquera\\\\\n\t Villalón\\\\\n\t Cuevas  \\\\\n\\end{tabular}\n",
            "text/plain": [
              "  apellido\n",
              "1 Jorquera\n",
              "2 Villalón\n",
              "3 Cuevas  "
            ]
          },
          "metadata": {}
        }
      ]
    },
    {
      "cell_type": "code",
      "source": [
        "df[[2]] # El vector de apellidos\n",
        "df$apellido"
      ],
      "metadata": {
        "id": "l9f2j3Lc6NqH",
        "outputId": "980a74cb-8611-41fa-acfe-233cf3cc427f",
        "colab": {
          "base_uri": "https://localhost:8080/",
          "height": 52
        }
      },
      "execution_count": 60,
      "outputs": [
        {
          "output_type": "display_data",
          "data": {
            "text/html": [
              "<style>\n",
              ".list-inline {list-style: none; margin:0; padding: 0}\n",
              ".list-inline>li {display: inline-block}\n",
              ".list-inline>li:not(:last-child)::after {content: \"\\00b7\"; padding: 0 .5ex}\n",
              "</style>\n",
              "<ol class=list-inline><li>'Jorquera'</li><li>'Villalón'</li><li>'Cuevas'</li></ol>\n"
            ],
            "text/markdown": "1. 'Jorquera'\n2. 'Villalón'\n3. 'Cuevas'\n\n\n",
            "text/latex": "\\begin{enumerate*}\n\\item 'Jorquera'\n\\item 'Villalón'\n\\item 'Cuevas'\n\\end{enumerate*}\n",
            "text/plain": [
              "[1] \"Jorquera\" \"Villalón\" \"Cuevas\"  "
            ]
          },
          "metadata": {}
        },
        {
          "output_type": "display_data",
          "data": {
            "text/html": [
              "<style>\n",
              ".list-inline {list-style: none; margin:0; padding: 0}\n",
              ".list-inline>li {display: inline-block}\n",
              ".list-inline>li:not(:last-child)::after {content: \"\\00b7\"; padding: 0 .5ex}\n",
              "</style>\n",
              "<ol class=list-inline><li>'Jorquera'</li><li>'Villalón'</li><li>'Cuevas'</li></ol>\n"
            ],
            "text/markdown": "1. 'Jorquera'\n2. 'Villalón'\n3. 'Cuevas'\n\n\n",
            "text/latex": "\\begin{enumerate*}\n\\item 'Jorquera'\n\\item 'Villalón'\n\\item 'Cuevas'\n\\end{enumerate*}\n",
            "text/plain": [
              "[1] \"Jorquera\" \"Villalón\" \"Cuevas\"  "
            ]
          },
          "metadata": {}
        }
      ]
    },
    {
      "cell_type": "code",
      "metadata": {
        "trusted": true,
        "id": "3t6_J3BHTpSb",
        "outputId": "364ac072-8727-4aac-927e-79dca1814d21",
        "colab": {
          "base_uri": "https://localhost:8080/",
          "height": 52
        }
      },
      "source": [
        "## Igual que en una lmatriz\n",
        "# Colmuna 2\n",
        "df[,2]\n",
        "df[,\"apellido\"]"
      ],
      "execution_count": 58,
      "outputs": [
        {
          "output_type": "display_data",
          "data": {
            "text/html": [
              "<style>\n",
              ".list-inline {list-style: none; margin:0; padding: 0}\n",
              ".list-inline>li {display: inline-block}\n",
              ".list-inline>li:not(:last-child)::after {content: \"\\00b7\"; padding: 0 .5ex}\n",
              "</style>\n",
              "<ol class=list-inline><li>'Jorquera'</li><li>'Villalón'</li><li>'Cuevas'</li></ol>\n"
            ],
            "text/markdown": "1. 'Jorquera'\n2. 'Villalón'\n3. 'Cuevas'\n\n\n",
            "text/latex": "\\begin{enumerate*}\n\\item 'Jorquera'\n\\item 'Villalón'\n\\item 'Cuevas'\n\\end{enumerate*}\n",
            "text/plain": [
              "[1] \"Jorquera\" \"Villalón\" \"Cuevas\"  "
            ]
          },
          "metadata": {}
        },
        {
          "output_type": "display_data",
          "data": {
            "text/html": [
              "<style>\n",
              ".list-inline {list-style: none; margin:0; padding: 0}\n",
              ".list-inline>li {display: inline-block}\n",
              ".list-inline>li:not(:last-child)::after {content: \"\\00b7\"; padding: 0 .5ex}\n",
              "</style>\n",
              "<ol class=list-inline><li>'Jorquera'</li><li>'Villalón'</li><li>'Cuevas'</li></ol>\n"
            ],
            "text/markdown": "1. 'Jorquera'\n2. 'Villalón'\n3. 'Cuevas'\n\n\n",
            "text/latex": "\\begin{enumerate*}\n\\item 'Jorquera'\n\\item 'Villalón'\n\\item 'Cuevas'\n\\end{enumerate*}\n",
            "text/plain": [
              "[1] \"Jorquera\" \"Villalón\" \"Cuevas\"  "
            ]
          },
          "metadata": {}
        }
      ]
    },
    {
      "cell_type": "code",
      "metadata": {
        "trusted": true,
        "id": "CojdmEs9TpSd",
        "outputId": "011efcb6-ce6a-42a3-fd6f-17ff660b6bd1",
        "colab": {
          "base_uri": "https://localhost:8080/",
          "height": 129
        }
      },
      "source": [
        "##  Ganamos acceso como matriz\n",
        "# segunda fila de df\n",
        "df[2,]\n",
        "\n",
        "\n",
        "\n",
        "\n"
      ],
      "execution_count": 61,
      "outputs": [
        {
          "output_type": "display_data",
          "data": {
            "text/html": [
              "<table class=\"dataframe\">\n",
              "<caption>A data.frame: 1 × 3</caption>\n",
              "<thead>\n",
              "\t<tr><th></th><th scope=col>nombre</th><th scope=col>apellido</th><th scope=col>edad</th></tr>\n",
              "\t<tr><th></th><th scope=col>&lt;chr&gt;</th><th scope=col>&lt;chr&gt;</th><th scope=col>&lt;dbl&gt;</th></tr>\n",
              "</thead>\n",
              "<tbody>\n",
              "\t<tr><th scope=row>2</th><td>Sidney</td><td>Villalón</td><td>31</td></tr>\n",
              "</tbody>\n",
              "</table>\n"
            ],
            "text/markdown": "\nA data.frame: 1 × 3\n\n| <!--/--> | nombre &lt;chr&gt; | apellido &lt;chr&gt; | edad &lt;dbl&gt; |\n|---|---|---|---|\n| 2 | Sidney | Villalón | 31 |\n\n",
            "text/latex": "A data.frame: 1 × 3\n\\begin{tabular}{r|lll}\n  & nombre & apellido & edad\\\\\n  & <chr> & <chr> & <dbl>\\\\\n\\hline\n\t2 & Sidney & Villalón & 31\\\\\n\\end{tabular}\n",
            "text/plain": [
              "  nombre apellido edad\n",
              "2 Sidney Villalón 31  "
            ]
          },
          "metadata": {}
        }
      ]
    },
    {
      "cell_type": "code",
      "source": [
        "# segunda columna y segunda fila\n",
        "df[2,2]\n",
        "df[2,\"apellido\"]"
      ],
      "metadata": {
        "id": "XwyEAqJM6euU",
        "outputId": "bf5e3925-de05-4486-ff6a-142010f83f87",
        "colab": {
          "base_uri": "https://localhost:8080/",
          "height": 52
        }
      },
      "execution_count": 63,
      "outputs": [
        {
          "output_type": "display_data",
          "data": {
            "text/html": [
              "'Villalón'"
            ],
            "text/markdown": "'Villalón'",
            "text/latex": "'Villalón'",
            "text/plain": [
              "[1] \"Villalón\""
            ]
          },
          "metadata": {}
        },
        {
          "output_type": "display_data",
          "data": {
            "text/html": [
              "'Villalón'"
            ],
            "text/markdown": "'Villalón'",
            "text/latex": "'Villalón'",
            "text/plain": [
              "[1] \"Villalón\""
            ]
          },
          "metadata": {}
        }
      ]
    },
    {
      "cell_type": "code",
      "metadata": {
        "trusted": true,
        "id": "FgD5Q8hFTpSf"
      },
      "source": [
        "#Podemos crear nuevas columnas , del mismmo modo que creamos \"slots\" en una lista\n",
        "df$tiene_mascota <- c(F,T,T)"
      ],
      "execution_count": 64,
      "outputs": []
    },
    {
      "cell_type": "code",
      "source": [
        "df"
      ],
      "metadata": {
        "id": "sh3xOy4l6x_4",
        "outputId": "5774ab65-c9de-4049-e35a-9022006eefae",
        "colab": {
          "base_uri": "https://localhost:8080/",
          "height": 192
        }
      },
      "execution_count": 65,
      "outputs": [
        {
          "output_type": "display_data",
          "data": {
            "text/html": [
              "<table class=\"dataframe\">\n",
              "<caption>A data.frame: 3 × 4</caption>\n",
              "<thead>\n",
              "\t<tr><th scope=col>nombre</th><th scope=col>apellido</th><th scope=col>edad</th><th scope=col>tiene_mascota</th></tr>\n",
              "\t<tr><th scope=col>&lt;chr&gt;</th><th scope=col>&lt;chr&gt;</th><th scope=col>&lt;dbl&gt;</th><th scope=col>&lt;lgl&gt;</th></tr>\n",
              "</thead>\n",
              "<tbody>\n",
              "\t<tr><td>Miguel </td><td>Jorquera</td><td>34</td><td>FALSE</td></tr>\n",
              "\t<tr><td>Sidney </td><td>Villalón</td><td>31</td><td> TRUE</td></tr>\n",
              "\t<tr><td>Javiera</td><td>Cuevas  </td><td>23</td><td> TRUE</td></tr>\n",
              "</tbody>\n",
              "</table>\n"
            ],
            "text/markdown": "\nA data.frame: 3 × 4\n\n| nombre &lt;chr&gt; | apellido &lt;chr&gt; | edad &lt;dbl&gt; | tiene_mascota &lt;lgl&gt; |\n|---|---|---|---|\n| Miguel  | Jorquera | 34 | FALSE |\n| Sidney  | Villalón | 31 |  TRUE |\n| Javiera | Cuevas   | 23 |  TRUE |\n\n",
            "text/latex": "A data.frame: 3 × 4\n\\begin{tabular}{llll}\n nombre & apellido & edad & tiene\\_mascota\\\\\n <chr> & <chr> & <dbl> & <lgl>\\\\\n\\hline\n\t Miguel  & Jorquera & 34 & FALSE\\\\\n\t Sidney  & Villalón & 31 &  TRUE\\\\\n\t Javiera & Cuevas   & 23 &  TRUE\\\\\n\\end{tabular}\n",
            "text/plain": [
              "  nombre  apellido edad tiene_mascota\n",
              "1 Miguel  Jorquera 34   FALSE        \n",
              "2 Sidney  Villalón 31    TRUE        \n",
              "3 Javiera Cuevas   23    TRUE        "
            ]
          },
          "metadata": {}
        }
      ]
    },
    {
      "cell_type": "code",
      "metadata": {
        "trusted": true,
        "id": "LcNQ5JHVTpSh",
        "outputId": "a9398fc5-6703-4409-892f-37d1a42edd3b",
        "colab": {
          "base_uri": "https://localhost:8080/",
          "height": 716
        }
      },
      "source": [
        "# podemos seleccionar más de una columna a la vez. Ej: seleccionar col 1 y col 4\n",
        "df[c(1,4)] # Pensando en modo lista\n",
        "df[,c(1,4)] # Pensando en modo matriz\n",
        "# Referenciando el nombre de las columnas\n",
        "df[c(\"nombre\",\"tiene_mascota\")] # Pensando en modo lista\n",
        "df[,c(\"nombre\",\"tiene_mascota\")] # Pensando en modo matriz\n"
      ],
      "execution_count": 68,
      "outputs": [
        {
          "output_type": "display_data",
          "data": {
            "text/html": [
              "<table class=\"dataframe\">\n",
              "<caption>A data.frame: 3 × 2</caption>\n",
              "<thead>\n",
              "\t<tr><th scope=col>nombre</th><th scope=col>tiene_mascota</th></tr>\n",
              "\t<tr><th scope=col>&lt;chr&gt;</th><th scope=col>&lt;lgl&gt;</th></tr>\n",
              "</thead>\n",
              "<tbody>\n",
              "\t<tr><td>Miguel </td><td>FALSE</td></tr>\n",
              "\t<tr><td>Sidney </td><td> TRUE</td></tr>\n",
              "\t<tr><td>Javiera</td><td> TRUE</td></tr>\n",
              "</tbody>\n",
              "</table>\n"
            ],
            "text/markdown": "\nA data.frame: 3 × 2\n\n| nombre &lt;chr&gt; | tiene_mascota &lt;lgl&gt; |\n|---|---|\n| Miguel  | FALSE |\n| Sidney  |  TRUE |\n| Javiera |  TRUE |\n\n",
            "text/latex": "A data.frame: 3 × 2\n\\begin{tabular}{ll}\n nombre & tiene\\_mascota\\\\\n <chr> & <lgl>\\\\\n\\hline\n\t Miguel  & FALSE\\\\\n\t Sidney  &  TRUE\\\\\n\t Javiera &  TRUE\\\\\n\\end{tabular}\n",
            "text/plain": [
              "  nombre  tiene_mascota\n",
              "1 Miguel  FALSE        \n",
              "2 Sidney   TRUE        \n",
              "3 Javiera  TRUE        "
            ]
          },
          "metadata": {}
        },
        {
          "output_type": "display_data",
          "data": {
            "text/html": [
              "<table class=\"dataframe\">\n",
              "<caption>A data.frame: 3 × 2</caption>\n",
              "<thead>\n",
              "\t<tr><th scope=col>nombre</th><th scope=col>tiene_mascota</th></tr>\n",
              "\t<tr><th scope=col>&lt;chr&gt;</th><th scope=col>&lt;lgl&gt;</th></tr>\n",
              "</thead>\n",
              "<tbody>\n",
              "\t<tr><td>Miguel </td><td>FALSE</td></tr>\n",
              "\t<tr><td>Sidney </td><td> TRUE</td></tr>\n",
              "\t<tr><td>Javiera</td><td> TRUE</td></tr>\n",
              "</tbody>\n",
              "</table>\n"
            ],
            "text/markdown": "\nA data.frame: 3 × 2\n\n| nombre &lt;chr&gt; | tiene_mascota &lt;lgl&gt; |\n|---|---|\n| Miguel  | FALSE |\n| Sidney  |  TRUE |\n| Javiera |  TRUE |\n\n",
            "text/latex": "A data.frame: 3 × 2\n\\begin{tabular}{ll}\n nombre & tiene\\_mascota\\\\\n <chr> & <lgl>\\\\\n\\hline\n\t Miguel  & FALSE\\\\\n\t Sidney  &  TRUE\\\\\n\t Javiera &  TRUE\\\\\n\\end{tabular}\n",
            "text/plain": [
              "  nombre  tiene_mascota\n",
              "1 Miguel  FALSE        \n",
              "2 Sidney   TRUE        \n",
              "3 Javiera  TRUE        "
            ]
          },
          "metadata": {}
        },
        {
          "output_type": "display_data",
          "data": {
            "text/html": [
              "<table class=\"dataframe\">\n",
              "<caption>A data.frame: 3 × 2</caption>\n",
              "<thead>\n",
              "\t<tr><th scope=col>nombre</th><th scope=col>tiene_mascota</th></tr>\n",
              "\t<tr><th scope=col>&lt;chr&gt;</th><th scope=col>&lt;lgl&gt;</th></tr>\n",
              "</thead>\n",
              "<tbody>\n",
              "\t<tr><td>Miguel </td><td>FALSE</td></tr>\n",
              "\t<tr><td>Sidney </td><td> TRUE</td></tr>\n",
              "\t<tr><td>Javiera</td><td> TRUE</td></tr>\n",
              "</tbody>\n",
              "</table>\n"
            ],
            "text/markdown": "\nA data.frame: 3 × 2\n\n| nombre &lt;chr&gt; | tiene_mascota &lt;lgl&gt; |\n|---|---|\n| Miguel  | FALSE |\n| Sidney  |  TRUE |\n| Javiera |  TRUE |\n\n",
            "text/latex": "A data.frame: 3 × 2\n\\begin{tabular}{ll}\n nombre & tiene\\_mascota\\\\\n <chr> & <lgl>\\\\\n\\hline\n\t Miguel  & FALSE\\\\\n\t Sidney  &  TRUE\\\\\n\t Javiera &  TRUE\\\\\n\\end{tabular}\n",
            "text/plain": [
              "  nombre  tiene_mascota\n",
              "1 Miguel  FALSE        \n",
              "2 Sidney   TRUE        \n",
              "3 Javiera  TRUE        "
            ]
          },
          "metadata": {}
        },
        {
          "output_type": "display_data",
          "data": {
            "text/html": [
              "<table class=\"dataframe\">\n",
              "<caption>A data.frame: 3 × 2</caption>\n",
              "<thead>\n",
              "\t<tr><th scope=col>nombre</th><th scope=col>tiene_mascota</th></tr>\n",
              "\t<tr><th scope=col>&lt;chr&gt;</th><th scope=col>&lt;lgl&gt;</th></tr>\n",
              "</thead>\n",
              "<tbody>\n",
              "\t<tr><td>Miguel </td><td>FALSE</td></tr>\n",
              "\t<tr><td>Sidney </td><td> TRUE</td></tr>\n",
              "\t<tr><td>Javiera</td><td> TRUE</td></tr>\n",
              "</tbody>\n",
              "</table>\n"
            ],
            "text/markdown": "\nA data.frame: 3 × 2\n\n| nombre &lt;chr&gt; | tiene_mascota &lt;lgl&gt; |\n|---|---|\n| Miguel  | FALSE |\n| Sidney  |  TRUE |\n| Javiera |  TRUE |\n\n",
            "text/latex": "A data.frame: 3 × 2\n\\begin{tabular}{ll}\n nombre & tiene\\_mascota\\\\\n <chr> & <lgl>\\\\\n\\hline\n\t Miguel  & FALSE\\\\\n\t Sidney  &  TRUE\\\\\n\t Javiera &  TRUE\\\\\n\\end{tabular}\n",
            "text/plain": [
              "  nombre  tiene_mascota\n",
              "1 Miguel  FALSE        \n",
              "2 Sidney   TRUE        \n",
              "3 Javiera  TRUE        "
            ]
          },
          "metadata": {}
        }
      ]
    },
    {
      "cell_type": "code",
      "source": [
        "df # Quiero los registros cuya edad sea mayora 30"
      ],
      "metadata": {
        "id": "kPWkOfH37bHz",
        "outputId": "d9af8777-d6d2-4e7c-d58d-a67fb3c1d023",
        "colab": {
          "base_uri": "https://localhost:8080/",
          "height": 192
        }
      },
      "execution_count": 69,
      "outputs": [
        {
          "output_type": "display_data",
          "data": {
            "text/html": [
              "<table class=\"dataframe\">\n",
              "<caption>A data.frame: 3 × 4</caption>\n",
              "<thead>\n",
              "\t<tr><th scope=col>nombre</th><th scope=col>apellido</th><th scope=col>edad</th><th scope=col>tiene_mascota</th></tr>\n",
              "\t<tr><th scope=col>&lt;chr&gt;</th><th scope=col>&lt;chr&gt;</th><th scope=col>&lt;dbl&gt;</th><th scope=col>&lt;lgl&gt;</th></tr>\n",
              "</thead>\n",
              "<tbody>\n",
              "\t<tr><td>Miguel </td><td>Jorquera</td><td>34</td><td>FALSE</td></tr>\n",
              "\t<tr><td>Sidney </td><td>Villalón</td><td>31</td><td> TRUE</td></tr>\n",
              "\t<tr><td>Javiera</td><td>Cuevas  </td><td>23</td><td> TRUE</td></tr>\n",
              "</tbody>\n",
              "</table>\n"
            ],
            "text/markdown": "\nA data.frame: 3 × 4\n\n| nombre &lt;chr&gt; | apellido &lt;chr&gt; | edad &lt;dbl&gt; | tiene_mascota &lt;lgl&gt; |\n|---|---|---|---|\n| Miguel  | Jorquera | 34 | FALSE |\n| Sidney  | Villalón | 31 |  TRUE |\n| Javiera | Cuevas   | 23 |  TRUE |\n\n",
            "text/latex": "A data.frame: 3 × 4\n\\begin{tabular}{llll}\n nombre & apellido & edad & tiene\\_mascota\\\\\n <chr> & <chr> & <dbl> & <lgl>\\\\\n\\hline\n\t Miguel  & Jorquera & 34 & FALSE\\\\\n\t Sidney  & Villalón & 31 &  TRUE\\\\\n\t Javiera & Cuevas   & 23 &  TRUE\\\\\n\\end{tabular}\n",
            "text/plain": [
              "  nombre  apellido edad tiene_mascota\n",
              "1 Miguel  Jorquera 34   FALSE        \n",
              "2 Sidney  Villalón 31    TRUE        \n",
              "3 Javiera Cuevas   23    TRUE        "
            ]
          },
          "metadata": {}
        }
      ]
    },
    {
      "cell_type": "code",
      "source": [
        "# edades:\n",
        "df$edad"
      ],
      "metadata": {
        "id": "lj5pQAMT76wj",
        "outputId": "f7b12c31-e0be-47c2-95cf-f6e3fea7d149",
        "colab": {
          "base_uri": "https://localhost:8080/",
          "height": 34
        }
      },
      "execution_count": 70,
      "outputs": [
        {
          "output_type": "display_data",
          "data": {
            "text/html": [
              "<style>\n",
              ".list-inline {list-style: none; margin:0; padding: 0}\n",
              ".list-inline>li {display: inline-block}\n",
              ".list-inline>li:not(:last-child)::after {content: \"\\00b7\"; padding: 0 .5ex}\n",
              "</style>\n",
              "<ol class=list-inline><li>34</li><li>31</li><li>23</li></ol>\n"
            ],
            "text/markdown": "1. 34\n2. 31\n3. 23\n\n\n",
            "text/latex": "\\begin{enumerate*}\n\\item 34\n\\item 31\n\\item 23\n\\end{enumerate*}\n",
            "text/plain": [
              "[1] 34 31 23"
            ]
          },
          "metadata": {}
        }
      ]
    },
    {
      "cell_type": "code",
      "source": [
        "df[ df$edad > 30,]# Todas las columans, pero cuyas filas cumplamn con edad  >30"
      ],
      "metadata": {
        "id": "D464Bdnt7sZq",
        "outputId": "1aca20fc-7533-4575-d156-3f3d831e90ac",
        "colab": {
          "base_uri": "https://localhost:8080/",
          "height": 160
        }
      },
      "execution_count": 71,
      "outputs": [
        {
          "output_type": "display_data",
          "data": {
            "text/html": [
              "<table class=\"dataframe\">\n",
              "<caption>A data.frame: 2 × 4</caption>\n",
              "<thead>\n",
              "\t<tr><th></th><th scope=col>nombre</th><th scope=col>apellido</th><th scope=col>edad</th><th scope=col>tiene_mascota</th></tr>\n",
              "\t<tr><th></th><th scope=col>&lt;chr&gt;</th><th scope=col>&lt;chr&gt;</th><th scope=col>&lt;dbl&gt;</th><th scope=col>&lt;lgl&gt;</th></tr>\n",
              "</thead>\n",
              "<tbody>\n",
              "\t<tr><th scope=row>1</th><td>Miguel</td><td>Jorquera</td><td>34</td><td>FALSE</td></tr>\n",
              "\t<tr><th scope=row>2</th><td>Sidney</td><td>Villalón</td><td>31</td><td> TRUE</td></tr>\n",
              "</tbody>\n",
              "</table>\n"
            ],
            "text/markdown": "\nA data.frame: 2 × 4\n\n| <!--/--> | nombre &lt;chr&gt; | apellido &lt;chr&gt; | edad &lt;dbl&gt; | tiene_mascota &lt;lgl&gt; |\n|---|---|---|---|---|\n| 1 | Miguel | Jorquera | 34 | FALSE |\n| 2 | Sidney | Villalón | 31 |  TRUE |\n\n",
            "text/latex": "A data.frame: 2 × 4\n\\begin{tabular}{r|llll}\n  & nombre & apellido & edad & tiene\\_mascota\\\\\n  & <chr> & <chr> & <dbl> & <lgl>\\\\\n\\hline\n\t1 & Miguel & Jorquera & 34 & FALSE\\\\\n\t2 & Sidney & Villalón & 31 &  TRUE\\\\\n\\end{tabular}\n",
            "text/plain": [
              "  nombre apellido edad tiene_mascota\n",
              "1 Miguel Jorquera 34   FALSE        \n",
              "2 Sidney Villalón 31    TRUE        "
            ]
          },
          "metadata": {}
        }
      ]
    },
    {
      "cell_type": "code",
      "source": [
        "df[ df$edad > 30, \"apellido\"]"
      ],
      "metadata": {
        "id": "Rpp86pDn8Gdt",
        "outputId": "50dd79c5-db31-49dd-c521-24d19c8ec1c9",
        "colab": {
          "base_uri": "https://localhost:8080/",
          "height": 34
        }
      },
      "execution_count": 72,
      "outputs": [
        {
          "output_type": "display_data",
          "data": {
            "text/html": [
              "<style>\n",
              ".list-inline {list-style: none; margin:0; padding: 0}\n",
              ".list-inline>li {display: inline-block}\n",
              ".list-inline>li:not(:last-child)::after {content: \"\\00b7\"; padding: 0 .5ex}\n",
              "</style>\n",
              "<ol class=list-inline><li>'Jorquera'</li><li>'Villalón'</li></ol>\n"
            ],
            "text/markdown": "1. 'Jorquera'\n2. 'Villalón'\n\n\n",
            "text/latex": "\\begin{enumerate*}\n\\item 'Jorquera'\n\\item 'Villalón'\n\\end{enumerate*}\n",
            "text/plain": [
              "[1] \"Jorquera\" \"Villalón\""
            ]
          },
          "metadata": {}
        }
      ]
    },
    {
      "cell_type": "code",
      "source": [
        "# Quiero los mayores a 30 con mascota\n",
        "\n",
        "df[ (df$edad > 30) & (df$tiene_mascota == TRUE),  ] # Todas las columnas, pero con un criterio por filas"
      ],
      "metadata": {
        "id": "NjrkirJ58TSh",
        "outputId": "feb05c19-d410-47fe-81c5-5dfdfe4bf0ee",
        "colab": {
          "base_uri": "https://localhost:8080/",
          "height": 129
        }
      },
      "execution_count": 74,
      "outputs": [
        {
          "output_type": "display_data",
          "data": {
            "text/html": [
              "<table class=\"dataframe\">\n",
              "<caption>A data.frame: 1 × 2</caption>\n",
              "<thead>\n",
              "\t<tr><th></th><th scope=col>nombre</th><th scope=col>apellido</th></tr>\n",
              "\t<tr><th></th><th scope=col>&lt;chr&gt;</th><th scope=col>&lt;chr&gt;</th></tr>\n",
              "</thead>\n",
              "<tbody>\n",
              "\t<tr><th scope=row>2</th><td>Sidney</td><td>Villalón</td></tr>\n",
              "</tbody>\n",
              "</table>\n"
            ],
            "text/markdown": "\nA data.frame: 1 × 2\n\n| <!--/--> | nombre &lt;chr&gt; | apellido &lt;chr&gt; |\n|---|---|---|\n| 2 | Sidney | Villalón |\n\n",
            "text/latex": "A data.frame: 1 × 2\n\\begin{tabular}{r|ll}\n  & nombre & apellido\\\\\n  & <chr> & <chr>\\\\\n\\hline\n\t2 & Sidney & Villalón\\\\\n\\end{tabular}\n",
            "text/plain": [
              "  nombre apellido\n",
              "2 Sidney Villalón"
            ]
          },
          "metadata": {}
        }
      ]
    }
  ]
}