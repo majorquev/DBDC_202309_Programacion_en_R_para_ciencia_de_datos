{
  "nbformat": 4,
  "nbformat_minor": 0,
  "metadata": {
    "colab": {
      "provenance": [],
      "include_colab_link": true
    },
    "kernelspec": {
      "name": "ir",
      "display_name": "R"
    }
  },
  "cells": [
    {
      "cell_type": "markdown",
      "metadata": {
        "id": "view-in-github",
        "colab_type": "text"
      },
      "source": [
        "<a href=\"https://colab.research.google.com/github/majorquev/DBDC_202309_Programacion_en_R_para_ciencia_de_datos/blob/main/Clases/C3/Clase3_01_manipulacion_de_tablas_I.ipynb\" target=\"_parent\"><img src=\"https://colab.research.google.com/assets/colab-badge.svg\" alt=\"Open In Colab\"/></a>"
      ]
    },
    {
      "cell_type": "markdown",
      "metadata": {
        "trusted": true,
        "id": "ID-hRx0URPyD"
      },
      "source": [
        "# Parte 2: Manipulación de tablas en R (Parte I)\n",
        "\n",
        "\n",
        "**Autor:** Miguel Jorquera Viguera<br>\n",
        "**E-mail:** majorquev@gmail.com<br>\n",
        "**Ayudante:** Rodrigo Morales<br>\n",
        "**E-mail ayudante:** rumorale1@gmail.com\n",
        "\n",
        "## 1. Instalación de librerías\n",
        "\n",
        "En esta sección aprenderemos a realizar operaciones simples de manipulación de tablas en R. Para ello trabajaremos con la librería _dplyr_, la cual cuenta con una gran variedad de funciones para manipular tablas, entre otras.\n",
        "\n",
        "\n",
        "Una manera de instalar librerías en R es me diante la función `install.packages()`, la cual recibe como argunmento principal el nombre (enre comillas) de la librería que se desea cargar.\n",
        "\n",
        "Una vez instalada la librería la debemos cargar en la sesión de trbajao, para lo cual podemos utilizar la función `library()` la cual recibe como argumento el nombre de la librería que se quiere cargar.\n"
      ]
    },
    {
      "cell_type": "code",
      "metadata": {
        "id": "FPF3jDwbRnTs"
      },
      "source": [
        "# install.packages(\"tidyr\") # Función para instalar paquetes en el sistema operativo."
      ],
      "execution_count": null,
      "outputs": []
    },
    {
      "cell_type": "code",
      "metadata": {
        "trusted": true,
        "id": "jcbeiXarRPyE",
        "outputId": "c5b9e820-73e2-4348-fac9-64711d70f666",
        "colab": {
          "base_uri": "https://localhost:8080/"
        }
      },
      "source": [
        "# 1. Instalación de package\n",
        "# install.packages(\"dplyr\") # No instalaremos la librería pues ya viene cargada en los notebooks de azure.Probablemente sea necesario hacerlo en su entorno local.\n",
        "# Para cargar la librería\n",
        "library(\"dplyr\") # sin comillas también funciona\n",
        "\n",
        "\n"
      ],
      "execution_count": 1,
      "outputs": [
        {
          "output_type": "stream",
          "name": "stderr",
          "text": [
            "\n",
            "Attaching package: ‘dplyr’\n",
            "\n",
            "\n",
            "The following objects are masked from ‘package:stats’:\n",
            "\n",
            "    filter, lag\n",
            "\n",
            "\n",
            "The following objects are masked from ‘package:base’:\n",
            "\n",
            "    intersect, setdiff, setequal, union\n",
            "\n",
            "\n"
          ]
        }
      ]
    },
    {
      "cell_type": "markdown",
      "metadata": {
        "trusted": true,
        "id": "97hMfOQQRPyI"
      },
      "source": [
        "## 2. Funciones básicas en dplyr\n",
        "\n",
        "En todo proyecto analítico es necesario procesar, limpar y unificar disntintas fuentes de información para poder generar los análisis requeridos. Para dichas tareas, en la librería _dplyr_ contamos con funciones que nos permitirán filtrar datos, crear columnas, agrupar tablas, y cruzar tablas.\n",
        "\n",
        "A continuación trabajaremos con la siguientes funciones:<br>\n",
        "\n",
        "   `filter()`                        : Para filtrar los datos (por filas).<br>\n",
        "   `arrange()`                       : Para ordenar un dataset.<br>\n",
        "   `select()`                        : Para seleccionar y renombrar columnas.<br>\n",
        "   `mutate()`                        : Para crear (o modificar) nuevas columnas basadas en columnas existentes.<br>\n",
        "   `group_by()`                     : Para agrupar tablas.<br>\n",
        "   `sample_n()` and `sample_frac()`  : Para generar muestras aleatorias<br>\n",
        "   \n",
        "   \n",
        "Para entender el funcionamiento de estas funciones trabjaremos con el set de datos _nycflights13_, el cual contiene la información de los vuelos con salida en los aeropuertos de Nueva York en el año 2013.\n",
        "\n",
        "## 3. Carga de datos\n",
        "\n",
        "En R es posible cargar datos provenientes de archivos de texto plano. Un ejemplo de ellos son los de extensión *.csv (comma separated values). Para cargar los datos a la sesión, lo podemos realizar a través de la función `read.csv()`, la cual recibe como argumento principal la ruta del archivo a cargar.\n",
        "\n",
        "   \n",
        "   \n",
        "   "
      ]
    },
    {
      "cell_type": "code",
      "metadata": {
        "trusted": true,
        "id": "gKV9NYMORPyI",
        "outputId": "c9a1b8c3-c0e1-4134-c98a-70a33d1f7754",
        "colab": {
          "base_uri": "https://localhost:8080/",
          "height": 34
        }
      },
      "source": [
        "getwd()"
      ],
      "execution_count": null,
      "outputs": [
        {
          "output_type": "display_data",
          "data": {
            "text/html": [
              "'/content'"
            ],
            "text/markdown": "'/content'",
            "text/latex": "'/content'",
            "text/plain": [
              "[1] \"/content\""
            ]
          },
          "metadata": {}
        }
      ]
    },
    {
      "cell_type": "code",
      "metadata": {
        "trusted": true,
        "id": "Ga1OFuNwRPyL"
      },
      "source": [
        "# Carga de datos ------\n",
        "# Usaremos la función read.csv para cargar el archivo Datasets_flights.csv ubicado en \"./Datasets/\", y lo guardamos en una variable llamada vuelo.\n",
        "vuelos <- read.csv(\"/flights.csv\")\n",
        "\n"
      ],
      "execution_count": null,
      "outputs": []
    },
    {
      "cell_type": "code",
      "source": [
        "vuelos2 <- read.csv(\"https://raw.githubusercontent.com/majorquev/DBDC_202309_Programacion_en_R_para_ciencia_de_datos/main/Clases/C3/Datasets/flights.csv\")"
      ],
      "metadata": {
        "id": "NeMfJ6KKdr0s"
      },
      "execution_count": 2,
      "outputs": []
    },
    {
      "cell_type": "code",
      "source": [
        "vuelos <- vuelos2"
      ],
      "metadata": {
        "id": "hxrl8T9gbYf3"
      },
      "execution_count": 5,
      "outputs": []
    },
    {
      "cell_type": "code",
      "source": [
        "head(vuelos2)"
      ],
      "metadata": {
        "id": "3BE2_XL7dl8u",
        "outputId": "0fb2bf96-8d59-4c67-94f1-01fbaa5cc82a",
        "colab": {
          "base_uri": "https://localhost:8080/",
          "height": 286
        }
      },
      "execution_count": 3,
      "outputs": [
        {
          "output_type": "display_data",
          "data": {
            "text/html": [
              "<table class=\"dataframe\">\n",
              "<caption>A data.frame: 6 × 19</caption>\n",
              "<thead>\n",
              "\t<tr><th></th><th scope=col>year</th><th scope=col>month</th><th scope=col>day</th><th scope=col>dep_time</th><th scope=col>sched_dep_time</th><th scope=col>dep_delay</th><th scope=col>arr_time</th><th scope=col>sched_arr_time</th><th scope=col>arr_delay</th><th scope=col>carrier</th><th scope=col>flight</th><th scope=col>tailnum</th><th scope=col>origin</th><th scope=col>dest</th><th scope=col>air_time</th><th scope=col>distance</th><th scope=col>hour</th><th scope=col>minute</th><th scope=col>time_hour</th></tr>\n",
              "\t<tr><th></th><th scope=col>&lt;int&gt;</th><th scope=col>&lt;int&gt;</th><th scope=col>&lt;int&gt;</th><th scope=col>&lt;int&gt;</th><th scope=col>&lt;int&gt;</th><th scope=col>&lt;int&gt;</th><th scope=col>&lt;int&gt;</th><th scope=col>&lt;int&gt;</th><th scope=col>&lt;int&gt;</th><th scope=col>&lt;chr&gt;</th><th scope=col>&lt;int&gt;</th><th scope=col>&lt;chr&gt;</th><th scope=col>&lt;chr&gt;</th><th scope=col>&lt;chr&gt;</th><th scope=col>&lt;int&gt;</th><th scope=col>&lt;int&gt;</th><th scope=col>&lt;int&gt;</th><th scope=col>&lt;int&gt;</th><th scope=col>&lt;chr&gt;</th></tr>\n",
              "</thead>\n",
              "<tbody>\n",
              "\t<tr><th scope=row>1</th><td>2013</td><td>1</td><td>1</td><td>517</td><td>515</td><td> 2</td><td> 830</td><td> 819</td><td> 11</td><td>UA</td><td>1545</td><td>N14228</td><td>EWR</td><td>IAH</td><td>227</td><td>1400</td><td>5</td><td>15</td><td>2013-01-01 05:00:00</td></tr>\n",
              "\t<tr><th scope=row>2</th><td>2013</td><td>1</td><td>1</td><td>533</td><td>529</td><td> 4</td><td> 850</td><td> 830</td><td> 20</td><td>UA</td><td>1714</td><td>N24211</td><td>LGA</td><td>IAH</td><td>227</td><td>1416</td><td>5</td><td>29</td><td>2013-01-01 05:00:00</td></tr>\n",
              "\t<tr><th scope=row>3</th><td>2013</td><td>1</td><td>1</td><td>542</td><td>540</td><td> 2</td><td> 923</td><td> 850</td><td> 33</td><td>AA</td><td>1141</td><td>N619AA</td><td>JFK</td><td>MIA</td><td>160</td><td>1089</td><td>5</td><td>40</td><td>2013-01-01 05:00:00</td></tr>\n",
              "\t<tr><th scope=row>4</th><td>2013</td><td>1</td><td>1</td><td>544</td><td>545</td><td>-1</td><td>1004</td><td>1022</td><td>-18</td><td>B6</td><td> 725</td><td>N804JB</td><td>JFK</td><td>BQN</td><td>183</td><td>1576</td><td>5</td><td>45</td><td>2013-01-01 05:00:00</td></tr>\n",
              "\t<tr><th scope=row>5</th><td>2013</td><td>1</td><td>1</td><td>554</td><td>600</td><td>-6</td><td> 812</td><td> 837</td><td>-25</td><td>DL</td><td> 461</td><td>N668DN</td><td>LGA</td><td>ATL</td><td>116</td><td> 762</td><td>6</td><td> 0</td><td>2013-01-01 06:00:00</td></tr>\n",
              "\t<tr><th scope=row>6</th><td>2013</td><td>1</td><td>1</td><td>554</td><td>558</td><td>-4</td><td> 740</td><td> 728</td><td> 12</td><td>UA</td><td>1696</td><td>N39463</td><td>EWR</td><td>ORD</td><td>150</td><td> 719</td><td>5</td><td>58</td><td>2013-01-01 05:00:00</td></tr>\n",
              "</tbody>\n",
              "</table>\n"
            ],
            "text/markdown": "\nA data.frame: 6 × 19\n\n| <!--/--> | year &lt;int&gt; | month &lt;int&gt; | day &lt;int&gt; | dep_time &lt;int&gt; | sched_dep_time &lt;int&gt; | dep_delay &lt;int&gt; | arr_time &lt;int&gt; | sched_arr_time &lt;int&gt; | arr_delay &lt;int&gt; | carrier &lt;chr&gt; | flight &lt;int&gt; | tailnum &lt;chr&gt; | origin &lt;chr&gt; | dest &lt;chr&gt; | air_time &lt;int&gt; | distance &lt;int&gt; | hour &lt;int&gt; | minute &lt;int&gt; | time_hour &lt;chr&gt; |\n|---|---|---|---|---|---|---|---|---|---|---|---|---|---|---|---|---|---|---|---|\n| 1 | 2013 | 1 | 1 | 517 | 515 |  2 |  830 |  819 |  11 | UA | 1545 | N14228 | EWR | IAH | 227 | 1400 | 5 | 15 | 2013-01-01 05:00:00 |\n| 2 | 2013 | 1 | 1 | 533 | 529 |  4 |  850 |  830 |  20 | UA | 1714 | N24211 | LGA | IAH | 227 | 1416 | 5 | 29 | 2013-01-01 05:00:00 |\n| 3 | 2013 | 1 | 1 | 542 | 540 |  2 |  923 |  850 |  33 | AA | 1141 | N619AA | JFK | MIA | 160 | 1089 | 5 | 40 | 2013-01-01 05:00:00 |\n| 4 | 2013 | 1 | 1 | 544 | 545 | -1 | 1004 | 1022 | -18 | B6 |  725 | N804JB | JFK | BQN | 183 | 1576 | 5 | 45 | 2013-01-01 05:00:00 |\n| 5 | 2013 | 1 | 1 | 554 | 600 | -6 |  812 |  837 | -25 | DL |  461 | N668DN | LGA | ATL | 116 |  762 | 6 |  0 | 2013-01-01 06:00:00 |\n| 6 | 2013 | 1 | 1 | 554 | 558 | -4 |  740 |  728 |  12 | UA | 1696 | N39463 | EWR | ORD | 150 |  719 | 5 | 58 | 2013-01-01 05:00:00 |\n\n",
            "text/latex": "A data.frame: 6 × 19\n\\begin{tabular}{r|lllllllllllllllllll}\n  & year & month & day & dep\\_time & sched\\_dep\\_time & dep\\_delay & arr\\_time & sched\\_arr\\_time & arr\\_delay & carrier & flight & tailnum & origin & dest & air\\_time & distance & hour & minute & time\\_hour\\\\\n  & <int> & <int> & <int> & <int> & <int> & <int> & <int> & <int> & <int> & <chr> & <int> & <chr> & <chr> & <chr> & <int> & <int> & <int> & <int> & <chr>\\\\\n\\hline\n\t1 & 2013 & 1 & 1 & 517 & 515 &  2 &  830 &  819 &  11 & UA & 1545 & N14228 & EWR & IAH & 227 & 1400 & 5 & 15 & 2013-01-01 05:00:00\\\\\n\t2 & 2013 & 1 & 1 & 533 & 529 &  4 &  850 &  830 &  20 & UA & 1714 & N24211 & LGA & IAH & 227 & 1416 & 5 & 29 & 2013-01-01 05:00:00\\\\\n\t3 & 2013 & 1 & 1 & 542 & 540 &  2 &  923 &  850 &  33 & AA & 1141 & N619AA & JFK & MIA & 160 & 1089 & 5 & 40 & 2013-01-01 05:00:00\\\\\n\t4 & 2013 & 1 & 1 & 544 & 545 & -1 & 1004 & 1022 & -18 & B6 &  725 & N804JB & JFK & BQN & 183 & 1576 & 5 & 45 & 2013-01-01 05:00:00\\\\\n\t5 & 2013 & 1 & 1 & 554 & 600 & -6 &  812 &  837 & -25 & DL &  461 & N668DN & LGA & ATL & 116 &  762 & 6 &  0 & 2013-01-01 06:00:00\\\\\n\t6 & 2013 & 1 & 1 & 554 & 558 & -4 &  740 &  728 &  12 & UA & 1696 & N39463 & EWR & ORD & 150 &  719 & 5 & 58 & 2013-01-01 05:00:00\\\\\n\\end{tabular}\n",
            "text/plain": [
              "  year month day dep_time sched_dep_time dep_delay arr_time sched_arr_time\n",
              "1 2013 1     1   517      515             2         830      819          \n",
              "2 2013 1     1   533      529             4         850      830          \n",
              "3 2013 1     1   542      540             2         923      850          \n",
              "4 2013 1     1   544      545            -1        1004     1022          \n",
              "5 2013 1     1   554      600            -6         812      837          \n",
              "6 2013 1     1   554      558            -4         740      728          \n",
              "  arr_delay carrier flight tailnum origin dest air_time distance hour minute\n",
              "1  11       UA      1545   N14228  EWR    IAH  227      1400     5    15    \n",
              "2  20       UA      1714   N24211  LGA    IAH  227      1416     5    29    \n",
              "3  33       AA      1141   N619AA  JFK    MIA  160      1089     5    40    \n",
              "4 -18       B6       725   N804JB  JFK    BQN  183      1576     5    45    \n",
              "5 -25       DL       461   N668DN  LGA    ATL  116       762     6     0    \n",
              "6  12       UA      1696   N39463  EWR    ORD  150       719     5    58    \n",
              "  time_hour          \n",
              "1 2013-01-01 05:00:00\n",
              "2 2013-01-01 05:00:00\n",
              "3 2013-01-01 05:00:00\n",
              "4 2013-01-01 05:00:00\n",
              "5 2013-01-01 06:00:00\n",
              "6 2013-01-01 05:00:00"
            ]
          },
          "metadata": {}
        }
      ]
    },
    {
      "cell_type": "code",
      "source": [
        "head(vuelos, 10)\n",
        "tail(vuelos, 10)"
      ],
      "metadata": {
        "id": "50A7asmMellP",
        "outputId": "e133d614-e3ee-4590-a775-ccd8532c409e",
        "colab": {
          "base_uri": "https://localhost:8080/",
          "height": 806
        }
      },
      "execution_count": null,
      "outputs": [
        {
          "output_type": "display_data",
          "data": {
            "text/html": [
              "<table class=\"dataframe\">\n",
              "<caption>A data.frame: 10 × 19</caption>\n",
              "<thead>\n",
              "\t<tr><th></th><th scope=col>year</th><th scope=col>month</th><th scope=col>day</th><th scope=col>dep_time</th><th scope=col>sched_dep_time</th><th scope=col>dep_delay</th><th scope=col>arr_time</th><th scope=col>sched_arr_time</th><th scope=col>arr_delay</th><th scope=col>carrier</th><th scope=col>flight</th><th scope=col>tailnum</th><th scope=col>origin</th><th scope=col>dest</th><th scope=col>air_time</th><th scope=col>distance</th><th scope=col>hour</th><th scope=col>minute</th><th scope=col>time_hour</th></tr>\n",
              "\t<tr><th></th><th scope=col>&lt;int&gt;</th><th scope=col>&lt;int&gt;</th><th scope=col>&lt;int&gt;</th><th scope=col>&lt;int&gt;</th><th scope=col>&lt;int&gt;</th><th scope=col>&lt;int&gt;</th><th scope=col>&lt;int&gt;</th><th scope=col>&lt;int&gt;</th><th scope=col>&lt;int&gt;</th><th scope=col>&lt;chr&gt;</th><th scope=col>&lt;int&gt;</th><th scope=col>&lt;chr&gt;</th><th scope=col>&lt;chr&gt;</th><th scope=col>&lt;chr&gt;</th><th scope=col>&lt;int&gt;</th><th scope=col>&lt;int&gt;</th><th scope=col>&lt;int&gt;</th><th scope=col>&lt;int&gt;</th><th scope=col>&lt;chr&gt;</th></tr>\n",
              "</thead>\n",
              "<tbody>\n",
              "\t<tr><th scope=row>1</th><td>2013</td><td>1</td><td>1</td><td>517</td><td>515</td><td> 2</td><td> 830</td><td> 819</td><td> 11</td><td>UA</td><td>1545</td><td>N14228</td><td>EWR</td><td>IAH</td><td>227</td><td>1400</td><td>5</td><td>15</td><td>2013-01-01 05:00:00</td></tr>\n",
              "\t<tr><th scope=row>2</th><td>2013</td><td>1</td><td>1</td><td>533</td><td>529</td><td> 4</td><td> 850</td><td> 830</td><td> 20</td><td>UA</td><td>1714</td><td>N24211</td><td>LGA</td><td>IAH</td><td>227</td><td>1416</td><td>5</td><td>29</td><td>2013-01-01 05:00:00</td></tr>\n",
              "\t<tr><th scope=row>3</th><td>2013</td><td>1</td><td>1</td><td>542</td><td>540</td><td> 2</td><td> 923</td><td> 850</td><td> 33</td><td>AA</td><td>1141</td><td>N619AA</td><td>JFK</td><td>MIA</td><td>160</td><td>1089</td><td>5</td><td>40</td><td>2013-01-01 05:00:00</td></tr>\n",
              "\t<tr><th scope=row>4</th><td>2013</td><td>1</td><td>1</td><td>544</td><td>545</td><td>-1</td><td>1004</td><td>1022</td><td>-18</td><td>B6</td><td> 725</td><td>N804JB</td><td>JFK</td><td>BQN</td><td>183</td><td>1576</td><td>5</td><td>45</td><td>2013-01-01 05:00:00</td></tr>\n",
              "\t<tr><th scope=row>5</th><td>2013</td><td>1</td><td>1</td><td>554</td><td>600</td><td>-6</td><td> 812</td><td> 837</td><td>-25</td><td>DL</td><td> 461</td><td>N668DN</td><td>LGA</td><td>ATL</td><td>116</td><td> 762</td><td>6</td><td> 0</td><td>2013-01-01 06:00:00</td></tr>\n",
              "\t<tr><th scope=row>6</th><td>2013</td><td>1</td><td>1</td><td>554</td><td>558</td><td>-4</td><td> 740</td><td> 728</td><td> 12</td><td>UA</td><td>1696</td><td>N39463</td><td>EWR</td><td>ORD</td><td>150</td><td> 719</td><td>5</td><td>58</td><td>2013-01-01 05:00:00</td></tr>\n",
              "\t<tr><th scope=row>7</th><td>2013</td><td>1</td><td>1</td><td>555</td><td>600</td><td>-5</td><td> 913</td><td> 854</td><td> 19</td><td>B6</td><td> 507</td><td>N516JB</td><td>EWR</td><td>FLL</td><td>158</td><td>1065</td><td>6</td><td> 0</td><td>2013-01-01 06:00:00</td></tr>\n",
              "\t<tr><th scope=row>8</th><td>2013</td><td>1</td><td>1</td><td>557</td><td>600</td><td>-3</td><td> 709</td><td> 723</td><td>-14</td><td>EV</td><td>5708</td><td>N829AS</td><td>LGA</td><td>IAD</td><td> 53</td><td> 229</td><td>6</td><td> 0</td><td>2013-01-01 06:00:00</td></tr>\n",
              "\t<tr><th scope=row>9</th><td>2013</td><td>1</td><td>1</td><td>557</td><td>600</td><td>-3</td><td> 838</td><td> 846</td><td> -8</td><td>B6</td><td>  79</td><td>N593JB</td><td>JFK</td><td>MCO</td><td>140</td><td> 944</td><td>6</td><td> 0</td><td>2013-01-01 06:00:00</td></tr>\n",
              "\t<tr><th scope=row>10</th><td>2013</td><td>1</td><td>1</td><td>558</td><td>600</td><td>-2</td><td> 753</td><td> 745</td><td>  8</td><td>AA</td><td> 301</td><td>N3ALAA</td><td>LGA</td><td>ORD</td><td>138</td><td> 733</td><td>6</td><td> 0</td><td>2013-01-01 06:00:00</td></tr>\n",
              "</tbody>\n",
              "</table>\n"
            ],
            "text/markdown": "\nA data.frame: 10 × 19\n\n| <!--/--> | year &lt;int&gt; | month &lt;int&gt; | day &lt;int&gt; | dep_time &lt;int&gt; | sched_dep_time &lt;int&gt; | dep_delay &lt;int&gt; | arr_time &lt;int&gt; | sched_arr_time &lt;int&gt; | arr_delay &lt;int&gt; | carrier &lt;chr&gt; | flight &lt;int&gt; | tailnum &lt;chr&gt; | origin &lt;chr&gt; | dest &lt;chr&gt; | air_time &lt;int&gt; | distance &lt;int&gt; | hour &lt;int&gt; | minute &lt;int&gt; | time_hour &lt;chr&gt; |\n|---|---|---|---|---|---|---|---|---|---|---|---|---|---|---|---|---|---|---|---|\n| 1 | 2013 | 1 | 1 | 517 | 515 |  2 |  830 |  819 |  11 | UA | 1545 | N14228 | EWR | IAH | 227 | 1400 | 5 | 15 | 2013-01-01 05:00:00 |\n| 2 | 2013 | 1 | 1 | 533 | 529 |  4 |  850 |  830 |  20 | UA | 1714 | N24211 | LGA | IAH | 227 | 1416 | 5 | 29 | 2013-01-01 05:00:00 |\n| 3 | 2013 | 1 | 1 | 542 | 540 |  2 |  923 |  850 |  33 | AA | 1141 | N619AA | JFK | MIA | 160 | 1089 | 5 | 40 | 2013-01-01 05:00:00 |\n| 4 | 2013 | 1 | 1 | 544 | 545 | -1 | 1004 | 1022 | -18 | B6 |  725 | N804JB | JFK | BQN | 183 | 1576 | 5 | 45 | 2013-01-01 05:00:00 |\n| 5 | 2013 | 1 | 1 | 554 | 600 | -6 |  812 |  837 | -25 | DL |  461 | N668DN | LGA | ATL | 116 |  762 | 6 |  0 | 2013-01-01 06:00:00 |\n| 6 | 2013 | 1 | 1 | 554 | 558 | -4 |  740 |  728 |  12 | UA | 1696 | N39463 | EWR | ORD | 150 |  719 | 5 | 58 | 2013-01-01 05:00:00 |\n| 7 | 2013 | 1 | 1 | 555 | 600 | -5 |  913 |  854 |  19 | B6 |  507 | N516JB | EWR | FLL | 158 | 1065 | 6 |  0 | 2013-01-01 06:00:00 |\n| 8 | 2013 | 1 | 1 | 557 | 600 | -3 |  709 |  723 | -14 | EV | 5708 | N829AS | LGA | IAD |  53 |  229 | 6 |  0 | 2013-01-01 06:00:00 |\n| 9 | 2013 | 1 | 1 | 557 | 600 | -3 |  838 |  846 |  -8 | B6 |   79 | N593JB | JFK | MCO | 140 |  944 | 6 |  0 | 2013-01-01 06:00:00 |\n| 10 | 2013 | 1 | 1 | 558 | 600 | -2 |  753 |  745 |   8 | AA |  301 | N3ALAA | LGA | ORD | 138 |  733 | 6 |  0 | 2013-01-01 06:00:00 |\n\n",
            "text/latex": "A data.frame: 10 × 19\n\\begin{tabular}{r|lllllllllllllllllll}\n  & year & month & day & dep\\_time & sched\\_dep\\_time & dep\\_delay & arr\\_time & sched\\_arr\\_time & arr\\_delay & carrier & flight & tailnum & origin & dest & air\\_time & distance & hour & minute & time\\_hour\\\\\n  & <int> & <int> & <int> & <int> & <int> & <int> & <int> & <int> & <int> & <chr> & <int> & <chr> & <chr> & <chr> & <int> & <int> & <int> & <int> & <chr>\\\\\n\\hline\n\t1 & 2013 & 1 & 1 & 517 & 515 &  2 &  830 &  819 &  11 & UA & 1545 & N14228 & EWR & IAH & 227 & 1400 & 5 & 15 & 2013-01-01 05:00:00\\\\\n\t2 & 2013 & 1 & 1 & 533 & 529 &  4 &  850 &  830 &  20 & UA & 1714 & N24211 & LGA & IAH & 227 & 1416 & 5 & 29 & 2013-01-01 05:00:00\\\\\n\t3 & 2013 & 1 & 1 & 542 & 540 &  2 &  923 &  850 &  33 & AA & 1141 & N619AA & JFK & MIA & 160 & 1089 & 5 & 40 & 2013-01-01 05:00:00\\\\\n\t4 & 2013 & 1 & 1 & 544 & 545 & -1 & 1004 & 1022 & -18 & B6 &  725 & N804JB & JFK & BQN & 183 & 1576 & 5 & 45 & 2013-01-01 05:00:00\\\\\n\t5 & 2013 & 1 & 1 & 554 & 600 & -6 &  812 &  837 & -25 & DL &  461 & N668DN & LGA & ATL & 116 &  762 & 6 &  0 & 2013-01-01 06:00:00\\\\\n\t6 & 2013 & 1 & 1 & 554 & 558 & -4 &  740 &  728 &  12 & UA & 1696 & N39463 & EWR & ORD & 150 &  719 & 5 & 58 & 2013-01-01 05:00:00\\\\\n\t7 & 2013 & 1 & 1 & 555 & 600 & -5 &  913 &  854 &  19 & B6 &  507 & N516JB & EWR & FLL & 158 & 1065 & 6 &  0 & 2013-01-01 06:00:00\\\\\n\t8 & 2013 & 1 & 1 & 557 & 600 & -3 &  709 &  723 & -14 & EV & 5708 & N829AS & LGA & IAD &  53 &  229 & 6 &  0 & 2013-01-01 06:00:00\\\\\n\t9 & 2013 & 1 & 1 & 557 & 600 & -3 &  838 &  846 &  -8 & B6 &   79 & N593JB & JFK & MCO & 140 &  944 & 6 &  0 & 2013-01-01 06:00:00\\\\\n\t10 & 2013 & 1 & 1 & 558 & 600 & -2 &  753 &  745 &   8 & AA &  301 & N3ALAA & LGA & ORD & 138 &  733 & 6 &  0 & 2013-01-01 06:00:00\\\\\n\\end{tabular}\n",
            "text/plain": [
              "   year month day dep_time sched_dep_time dep_delay arr_time sched_arr_time\n",
              "1  2013 1     1   517      515             2         830      819          \n",
              "2  2013 1     1   533      529             4         850      830          \n",
              "3  2013 1     1   542      540             2         923      850          \n",
              "4  2013 1     1   544      545            -1        1004     1022          \n",
              "5  2013 1     1   554      600            -6         812      837          \n",
              "6  2013 1     1   554      558            -4         740      728          \n",
              "7  2013 1     1   555      600            -5         913      854          \n",
              "8  2013 1     1   557      600            -3         709      723          \n",
              "9  2013 1     1   557      600            -3         838      846          \n",
              "10 2013 1     1   558      600            -2         753      745          \n",
              "   arr_delay carrier flight tailnum origin dest air_time distance hour minute\n",
              "1   11       UA      1545   N14228  EWR    IAH  227      1400     5    15    \n",
              "2   20       UA      1714   N24211  LGA    IAH  227      1416     5    29    \n",
              "3   33       AA      1141   N619AA  JFK    MIA  160      1089     5    40    \n",
              "4  -18       B6       725   N804JB  JFK    BQN  183      1576     5    45    \n",
              "5  -25       DL       461   N668DN  LGA    ATL  116       762     6     0    \n",
              "6   12       UA      1696   N39463  EWR    ORD  150       719     5    58    \n",
              "7   19       B6       507   N516JB  EWR    FLL  158      1065     6     0    \n",
              "8  -14       EV      5708   N829AS  LGA    IAD   53       229     6     0    \n",
              "9   -8       B6        79   N593JB  JFK    MCO  140       944     6     0    \n",
              "10   8       AA       301   N3ALAA  LGA    ORD  138       733     6     0    \n",
              "   time_hour          \n",
              "1  2013-01-01 05:00:00\n",
              "2  2013-01-01 05:00:00\n",
              "3  2013-01-01 05:00:00\n",
              "4  2013-01-01 05:00:00\n",
              "5  2013-01-01 06:00:00\n",
              "6  2013-01-01 05:00:00\n",
              "7  2013-01-01 06:00:00\n",
              "8  2013-01-01 06:00:00\n",
              "9  2013-01-01 06:00:00\n",
              "10 2013-01-01 06:00:00"
            ]
          },
          "metadata": {}
        },
        {
          "output_type": "display_data",
          "data": {
            "text/html": [
              "<table class=\"dataframe\">\n",
              "<caption>A data.frame: 10 × 19</caption>\n",
              "<thead>\n",
              "\t<tr><th></th><th scope=col>year</th><th scope=col>month</th><th scope=col>day</th><th scope=col>dep_time</th><th scope=col>sched_dep_time</th><th scope=col>dep_delay</th><th scope=col>arr_time</th><th scope=col>sched_arr_time</th><th scope=col>arr_delay</th><th scope=col>carrier</th><th scope=col>flight</th><th scope=col>tailnum</th><th scope=col>origin</th><th scope=col>dest</th><th scope=col>air_time</th><th scope=col>distance</th><th scope=col>hour</th><th scope=col>minute</th><th scope=col>time_hour</th></tr>\n",
              "\t<tr><th></th><th scope=col>&lt;int&gt;</th><th scope=col>&lt;int&gt;</th><th scope=col>&lt;int&gt;</th><th scope=col>&lt;int&gt;</th><th scope=col>&lt;int&gt;</th><th scope=col>&lt;int&gt;</th><th scope=col>&lt;int&gt;</th><th scope=col>&lt;int&gt;</th><th scope=col>&lt;int&gt;</th><th scope=col>&lt;chr&gt;</th><th scope=col>&lt;int&gt;</th><th scope=col>&lt;chr&gt;</th><th scope=col>&lt;chr&gt;</th><th scope=col>&lt;chr&gt;</th><th scope=col>&lt;int&gt;</th><th scope=col>&lt;int&gt;</th><th scope=col>&lt;int&gt;</th><th scope=col>&lt;int&gt;</th><th scope=col>&lt;chr&gt;</th></tr>\n",
              "</thead>\n",
              "<tbody>\n",
              "\t<tr><th scope=row>336767</th><td>2013</td><td>9</td><td>30</td><td>2240</td><td>2250</td><td>-10</td><td>2347</td><td>   7</td><td>-20</td><td>B6</td><td>2002</td><td>N281JB</td><td>JFK</td><td>BUF</td><td> 52</td><td> 301</td><td>22</td><td>50</td><td>2013-09-30 22:00:00</td></tr>\n",
              "\t<tr><th scope=row>336768</th><td>2013</td><td>9</td><td>30</td><td>2241</td><td>2246</td><td> -5</td><td>2345</td><td>   1</td><td>-16</td><td>B6</td><td> 486</td><td>N346JB</td><td>JFK</td><td>ROC</td><td> 47</td><td> 264</td><td>22</td><td>46</td><td>2013-09-30 22:00:00</td></tr>\n",
              "\t<tr><th scope=row>336769</th><td>2013</td><td>9</td><td>30</td><td>2307</td><td>2255</td><td> 12</td><td>2359</td><td>2358</td><td>  1</td><td>B6</td><td> 718</td><td>N565JB</td><td>JFK</td><td>BOS</td><td> 33</td><td> 187</td><td>22</td><td>55</td><td>2013-09-30 22:00:00</td></tr>\n",
              "\t<tr><th scope=row>336770</th><td>2013</td><td>9</td><td>30</td><td>2349</td><td>2359</td><td>-10</td><td> 325</td><td> 350</td><td>-25</td><td>B6</td><td> 745</td><td>N516JB</td><td>JFK</td><td>PSE</td><td>196</td><td>1617</td><td>23</td><td>59</td><td>2013-09-30 23:00:00</td></tr>\n",
              "\t<tr><th scope=row>336771</th><td>2013</td><td>9</td><td>30</td><td>  NA</td><td>1842</td><td> NA</td><td>  NA</td><td>2019</td><td> NA</td><td>EV</td><td>5274</td><td>N740EV</td><td>LGA</td><td>BNA</td><td> NA</td><td> 764</td><td>18</td><td>42</td><td>2013-09-30 18:00:00</td></tr>\n",
              "\t<tr><th scope=row>336772</th><td>2013</td><td>9</td><td>30</td><td>  NA</td><td>1455</td><td> NA</td><td>  NA</td><td>1634</td><td> NA</td><td>9E</td><td>3393</td><td>NA    </td><td>JFK</td><td>DCA</td><td> NA</td><td> 213</td><td>14</td><td>55</td><td>2013-09-30 14:00:00</td></tr>\n",
              "\t<tr><th scope=row>336773</th><td>2013</td><td>9</td><td>30</td><td>  NA</td><td>2200</td><td> NA</td><td>  NA</td><td>2312</td><td> NA</td><td>9E</td><td>3525</td><td>NA    </td><td>LGA</td><td>SYR</td><td> NA</td><td> 198</td><td>22</td><td> 0</td><td>2013-09-30 22:00:00</td></tr>\n",
              "\t<tr><th scope=row>336774</th><td>2013</td><td>9</td><td>30</td><td>  NA</td><td>1210</td><td> NA</td><td>  NA</td><td>1330</td><td> NA</td><td>MQ</td><td>3461</td><td>N535MQ</td><td>LGA</td><td>BNA</td><td> NA</td><td> 764</td><td>12</td><td>10</td><td>2013-09-30 12:00:00</td></tr>\n",
              "\t<tr><th scope=row>336775</th><td>2013</td><td>9</td><td>30</td><td>  NA</td><td>1159</td><td> NA</td><td>  NA</td><td>1344</td><td> NA</td><td>MQ</td><td>3572</td><td>N511MQ</td><td>LGA</td><td>CLE</td><td> NA</td><td> 419</td><td>11</td><td>59</td><td>2013-09-30 11:00:00</td></tr>\n",
              "\t<tr><th scope=row>336776</th><td>2013</td><td>9</td><td>30</td><td>  NA</td><td> 840</td><td> NA</td><td>  NA</td><td>1020</td><td> NA</td><td>MQ</td><td>3531</td><td>N839MQ</td><td>LGA</td><td>RDU</td><td> NA</td><td> 431</td><td> 8</td><td>40</td><td>2013-09-30 08:00:00</td></tr>\n",
              "</tbody>\n",
              "</table>\n"
            ],
            "text/markdown": "\nA data.frame: 10 × 19\n\n| <!--/--> | year &lt;int&gt; | month &lt;int&gt; | day &lt;int&gt; | dep_time &lt;int&gt; | sched_dep_time &lt;int&gt; | dep_delay &lt;int&gt; | arr_time &lt;int&gt; | sched_arr_time &lt;int&gt; | arr_delay &lt;int&gt; | carrier &lt;chr&gt; | flight &lt;int&gt; | tailnum &lt;chr&gt; | origin &lt;chr&gt; | dest &lt;chr&gt; | air_time &lt;int&gt; | distance &lt;int&gt; | hour &lt;int&gt; | minute &lt;int&gt; | time_hour &lt;chr&gt; |\n|---|---|---|---|---|---|---|---|---|---|---|---|---|---|---|---|---|---|---|---|\n| 336767 | 2013 | 9 | 30 | 2240 | 2250 | -10 | 2347 |    7 | -20 | B6 | 2002 | N281JB | JFK | BUF |  52 |  301 | 22 | 50 | 2013-09-30 22:00:00 |\n| 336768 | 2013 | 9 | 30 | 2241 | 2246 |  -5 | 2345 |    1 | -16 | B6 |  486 | N346JB | JFK | ROC |  47 |  264 | 22 | 46 | 2013-09-30 22:00:00 |\n| 336769 | 2013 | 9 | 30 | 2307 | 2255 |  12 | 2359 | 2358 |   1 | B6 |  718 | N565JB | JFK | BOS |  33 |  187 | 22 | 55 | 2013-09-30 22:00:00 |\n| 336770 | 2013 | 9 | 30 | 2349 | 2359 | -10 |  325 |  350 | -25 | B6 |  745 | N516JB | JFK | PSE | 196 | 1617 | 23 | 59 | 2013-09-30 23:00:00 |\n| 336771 | 2013 | 9 | 30 |   NA | 1842 |  NA |   NA | 2019 |  NA | EV | 5274 | N740EV | LGA | BNA |  NA |  764 | 18 | 42 | 2013-09-30 18:00:00 |\n| 336772 | 2013 | 9 | 30 |   NA | 1455 |  NA |   NA | 1634 |  NA | 9E | 3393 | NA     | JFK | DCA |  NA |  213 | 14 | 55 | 2013-09-30 14:00:00 |\n| 336773 | 2013 | 9 | 30 |   NA | 2200 |  NA |   NA | 2312 |  NA | 9E | 3525 | NA     | LGA | SYR |  NA |  198 | 22 |  0 | 2013-09-30 22:00:00 |\n| 336774 | 2013 | 9 | 30 |   NA | 1210 |  NA |   NA | 1330 |  NA | MQ | 3461 | N535MQ | LGA | BNA |  NA |  764 | 12 | 10 | 2013-09-30 12:00:00 |\n| 336775 | 2013 | 9 | 30 |   NA | 1159 |  NA |   NA | 1344 |  NA | MQ | 3572 | N511MQ | LGA | CLE |  NA |  419 | 11 | 59 | 2013-09-30 11:00:00 |\n| 336776 | 2013 | 9 | 30 |   NA |  840 |  NA |   NA | 1020 |  NA | MQ | 3531 | N839MQ | LGA | RDU |  NA |  431 |  8 | 40 | 2013-09-30 08:00:00 |\n\n",
            "text/latex": "A data.frame: 10 × 19\n\\begin{tabular}{r|lllllllllllllllllll}\n  & year & month & day & dep\\_time & sched\\_dep\\_time & dep\\_delay & arr\\_time & sched\\_arr\\_time & arr\\_delay & carrier & flight & tailnum & origin & dest & air\\_time & distance & hour & minute & time\\_hour\\\\\n  & <int> & <int> & <int> & <int> & <int> & <int> & <int> & <int> & <int> & <chr> & <int> & <chr> & <chr> & <chr> & <int> & <int> & <int> & <int> & <chr>\\\\\n\\hline\n\t336767 & 2013 & 9 & 30 & 2240 & 2250 & -10 & 2347 &    7 & -20 & B6 & 2002 & N281JB & JFK & BUF &  52 &  301 & 22 & 50 & 2013-09-30 22:00:00\\\\\n\t336768 & 2013 & 9 & 30 & 2241 & 2246 &  -5 & 2345 &    1 & -16 & B6 &  486 & N346JB & JFK & ROC &  47 &  264 & 22 & 46 & 2013-09-30 22:00:00\\\\\n\t336769 & 2013 & 9 & 30 & 2307 & 2255 &  12 & 2359 & 2358 &   1 & B6 &  718 & N565JB & JFK & BOS &  33 &  187 & 22 & 55 & 2013-09-30 22:00:00\\\\\n\t336770 & 2013 & 9 & 30 & 2349 & 2359 & -10 &  325 &  350 & -25 & B6 &  745 & N516JB & JFK & PSE & 196 & 1617 & 23 & 59 & 2013-09-30 23:00:00\\\\\n\t336771 & 2013 & 9 & 30 &   NA & 1842 &  NA &   NA & 2019 &  NA & EV & 5274 & N740EV & LGA & BNA &  NA &  764 & 18 & 42 & 2013-09-30 18:00:00\\\\\n\t336772 & 2013 & 9 & 30 &   NA & 1455 &  NA &   NA & 1634 &  NA & 9E & 3393 & NA     & JFK & DCA &  NA &  213 & 14 & 55 & 2013-09-30 14:00:00\\\\\n\t336773 & 2013 & 9 & 30 &   NA & 2200 &  NA &   NA & 2312 &  NA & 9E & 3525 & NA     & LGA & SYR &  NA &  198 & 22 &  0 & 2013-09-30 22:00:00\\\\\n\t336774 & 2013 & 9 & 30 &   NA & 1210 &  NA &   NA & 1330 &  NA & MQ & 3461 & N535MQ & LGA & BNA &  NA &  764 & 12 & 10 & 2013-09-30 12:00:00\\\\\n\t336775 & 2013 & 9 & 30 &   NA & 1159 &  NA &   NA & 1344 &  NA & MQ & 3572 & N511MQ & LGA & CLE &  NA &  419 & 11 & 59 & 2013-09-30 11:00:00\\\\\n\t336776 & 2013 & 9 & 30 &   NA &  840 &  NA &   NA & 1020 &  NA & MQ & 3531 & N839MQ & LGA & RDU &  NA &  431 &  8 & 40 & 2013-09-30 08:00:00\\\\\n\\end{tabular}\n",
            "text/plain": [
              "       year month day dep_time sched_dep_time dep_delay arr_time sched_arr_time\n",
              "336767 2013 9     30  2240     2250           -10       2347        7          \n",
              "336768 2013 9     30  2241     2246            -5       2345        1          \n",
              "336769 2013 9     30  2307     2255            12       2359     2358          \n",
              "336770 2013 9     30  2349     2359           -10        325      350          \n",
              "336771 2013 9     30    NA     1842            NA         NA     2019          \n",
              "336772 2013 9     30    NA     1455            NA         NA     1634          \n",
              "336773 2013 9     30    NA     2200            NA         NA     2312          \n",
              "336774 2013 9     30    NA     1210            NA         NA     1330          \n",
              "336775 2013 9     30    NA     1159            NA         NA     1344          \n",
              "336776 2013 9     30    NA      840            NA         NA     1020          \n",
              "       arr_delay carrier flight tailnum origin dest air_time distance hour\n",
              "336767 -20       B6      2002   N281JB  JFK    BUF   52       301     22  \n",
              "336768 -16       B6       486   N346JB  JFK    ROC   47       264     22  \n",
              "336769   1       B6       718   N565JB  JFK    BOS   33       187     22  \n",
              "336770 -25       B6       745   N516JB  JFK    PSE  196      1617     23  \n",
              "336771  NA       EV      5274   N740EV  LGA    BNA   NA       764     18  \n",
              "336772  NA       9E      3393   NA      JFK    DCA   NA       213     14  \n",
              "336773  NA       9E      3525   NA      LGA    SYR   NA       198     22  \n",
              "336774  NA       MQ      3461   N535MQ  LGA    BNA   NA       764     12  \n",
              "336775  NA       MQ      3572   N511MQ  LGA    CLE   NA       419     11  \n",
              "336776  NA       MQ      3531   N839MQ  LGA    RDU   NA       431      8  \n",
              "       minute time_hour          \n",
              "336767 50     2013-09-30 22:00:00\n",
              "336768 46     2013-09-30 22:00:00\n",
              "336769 55     2013-09-30 22:00:00\n",
              "336770 59     2013-09-30 23:00:00\n",
              "336771 42     2013-09-30 18:00:00\n",
              "336772 55     2013-09-30 14:00:00\n",
              "336773  0     2013-09-30 22:00:00\n",
              "336774 10     2013-09-30 12:00:00\n",
              "336775 59     2013-09-30 11:00:00\n",
              "336776 40     2013-09-30 08:00:00"
            ]
          },
          "metadata": {}
        }
      ]
    },
    {
      "cell_type": "code",
      "metadata": {
        "trusted": true,
        "id": "XH_T6QWVRPyN",
        "outputId": "0a06dfd6-2184-4daa-e463-0aedc899fbea",
        "colab": {
          "base_uri": "https://localhost:8080/",
          "height": 711
        }
      },
      "source": [
        "# Podemos inspeccionar los datos cargados\n",
        "# Para ello son de utilidad las funciones head() y summary()\n",
        "summary(vuelos)\n"
      ],
      "execution_count": null,
      "outputs": [
        {
          "output_type": "display_data",
          "data": {
            "text/plain": [
              "      year          month             day           dep_time    sched_dep_time\n",
              " Min.   :2013   Min.   : 1.000   Min.   : 1.00   Min.   :   1   Min.   : 106  \n",
              " 1st Qu.:2013   1st Qu.: 4.000   1st Qu.: 8.00   1st Qu.: 907   1st Qu.: 906  \n",
              " Median :2013   Median : 7.000   Median :16.00   Median :1401   Median :1359  \n",
              " Mean   :2013   Mean   : 6.549   Mean   :15.71   Mean   :1349   Mean   :1344  \n",
              " 3rd Qu.:2013   3rd Qu.:10.000   3rd Qu.:23.00   3rd Qu.:1744   3rd Qu.:1729  \n",
              " Max.   :2013   Max.   :12.000   Max.   :31.00   Max.   :2400   Max.   :2359  \n",
              "                                                 NA's   :8255                 \n",
              "   dep_delay          arr_time    sched_arr_time   arr_delay       \n",
              " Min.   : -43.00   Min.   :   1   Min.   :   1   Min.   : -86.000  \n",
              " 1st Qu.:  -5.00   1st Qu.:1104   1st Qu.:1124   1st Qu.: -17.000  \n",
              " Median :  -2.00   Median :1535   Median :1556   Median :  -5.000  \n",
              " Mean   :  12.64   Mean   :1502   Mean   :1536   Mean   :   6.895  \n",
              " 3rd Qu.:  11.00   3rd Qu.:1940   3rd Qu.:1945   3rd Qu.:  14.000  \n",
              " Max.   :1301.00   Max.   :2400   Max.   :2359   Max.   :1272.000  \n",
              " NA's   :8255      NA's   :8713                  NA's   :9430      \n",
              "   carrier              flight       tailnum             origin         \n",
              " Length:336776      Min.   :   1   Length:336776      Length:336776     \n",
              " Class :character   1st Qu.: 553   Class :character   Class :character  \n",
              " Mode  :character   Median :1496   Mode  :character   Mode  :character  \n",
              "                    Mean   :1972                                        \n",
              "                    3rd Qu.:3465                                        \n",
              "                    Max.   :8500                                        \n",
              "                                                                        \n",
              "     dest              air_time        distance         hour      \n",
              " Length:336776      Min.   : 20.0   Min.   :  17   Min.   : 1.00  \n",
              " Class :character   1st Qu.: 82.0   1st Qu.: 502   1st Qu.: 9.00  \n",
              " Mode  :character   Median :129.0   Median : 872   Median :13.00  \n",
              "                    Mean   :150.7   Mean   :1040   Mean   :13.18  \n",
              "                    3rd Qu.:192.0   3rd Qu.:1389   3rd Qu.:17.00  \n",
              "                    Max.   :695.0   Max.   :4983   Max.   :23.00  \n",
              "                    NA's   :9430                                  \n",
              "     minute       time_hour        \n",
              " Min.   : 0.00   Length:336776     \n",
              " 1st Qu.: 8.00   Class :character  \n",
              " Median :29.00   Mode  :character  \n",
              " Mean   :26.23                     \n",
              " 3rd Qu.:44.00                     \n",
              " Max.   :59.00                     \n",
              "                                   "
            ]
          },
          "metadata": {}
        }
      ]
    },
    {
      "cell_type": "code",
      "source": [
        "# ¿Cuántos registros tienen las tablas?\n",
        "dim(vuelos)\n",
        "nrow(vuelos)\n",
        "ncol(vuelos)"
      ],
      "metadata": {
        "id": "6drMdbgqfLZY",
        "outputId": "38920e4a-e463-424e-98c3-e5de21a7ac3f",
        "colab": {
          "base_uri": "https://localhost:8080/",
          "height": 69
        }
      },
      "execution_count": null,
      "outputs": [
        {
          "output_type": "display_data",
          "data": {
            "text/html": [
              "<style>\n",
              ".list-inline {list-style: none; margin:0; padding: 0}\n",
              ".list-inline>li {display: inline-block}\n",
              ".list-inline>li:not(:last-child)::after {content: \"\\00b7\"; padding: 0 .5ex}\n",
              "</style>\n",
              "<ol class=list-inline><li>336776</li><li>19</li></ol>\n"
            ],
            "text/markdown": "1. 336776\n2. 19\n\n\n",
            "text/latex": "\\begin{enumerate*}\n\\item 336776\n\\item 19\n\\end{enumerate*}\n",
            "text/plain": [
              "[1] 336776     19"
            ]
          },
          "metadata": {}
        },
        {
          "output_type": "display_data",
          "data": {
            "text/html": [
              "336776"
            ],
            "text/markdown": "336776",
            "text/latex": "336776",
            "text/plain": [
              "[1] 336776"
            ]
          },
          "metadata": {}
        },
        {
          "output_type": "display_data",
          "data": {
            "text/html": [
              "19"
            ],
            "text/markdown": "19",
            "text/latex": "19",
            "text/plain": [
              "[1] 19"
            ]
          },
          "metadata": {}
        }
      ]
    },
    {
      "cell_type": "code",
      "metadata": {
        "trusted": true,
        "id": "OlWowRWVRPyS",
        "outputId": "54b776b8-6d7b-4e24-8e14-bd3292173fa1",
        "colab": {
          "base_uri": "https://localhost:8080/"
        }
      },
      "source": [
        "#glimpse() o str()\n",
        "str(vuelos)"
      ],
      "execution_count": null,
      "outputs": [
        {
          "output_type": "stream",
          "name": "stdout",
          "text": [
            "'data.frame':\t336776 obs. of  19 variables:\n",
            " $ year          : int  2013 2013 2013 2013 2013 2013 2013 2013 2013 2013 ...\n",
            " $ month         : int  1 1 1 1 1 1 1 1 1 1 ...\n",
            " $ day           : int  1 1 1 1 1 1 1 1 1 1 ...\n",
            " $ dep_time      : int  517 533 542 544 554 554 555 557 557 558 ...\n",
            " $ sched_dep_time: int  515 529 540 545 600 558 600 600 600 600 ...\n",
            " $ dep_delay     : int  2 4 2 -1 -6 -4 -5 -3 -3 -2 ...\n",
            " $ arr_time      : int  830 850 923 1004 812 740 913 709 838 753 ...\n",
            " $ sched_arr_time: int  819 830 850 1022 837 728 854 723 846 745 ...\n",
            " $ arr_delay     : int  11 20 33 -18 -25 12 19 -14 -8 8 ...\n",
            " $ carrier       : chr  \"UA\" \"UA\" \"AA\" \"B6\" ...\n",
            " $ flight        : int  1545 1714 1141 725 461 1696 507 5708 79 301 ...\n",
            " $ tailnum       : chr  \"N14228\" \"N24211\" \"N619AA\" \"N804JB\" ...\n",
            " $ origin        : chr  \"EWR\" \"LGA\" \"JFK\" \"JFK\" ...\n",
            " $ dest          : chr  \"IAH\" \"IAH\" \"MIA\" \"BQN\" ...\n",
            " $ air_time      : int  227 227 160 183 116 150 158 53 140 138 ...\n",
            " $ distance      : int  1400 1416 1089 1576 762 719 1065 229 944 733 ...\n",
            " $ hour          : int  5 5 5 5 6 5 6 6 6 6 ...\n",
            " $ minute        : int  15 29 40 45 0 58 0 0 0 0 ...\n",
            " $ time_hour     : chr  \"2013-01-01 05:00:00\" \"2013-01-01 05:00:00\" \"2013-01-01 05:00:00\" \"2013-01-01 05:00:00\" ...\n"
          ]
        }
      ]
    },
    {
      "cell_type": "code",
      "source": [
        "glimpse(vuelos)"
      ],
      "metadata": {
        "id": "s1bOHnuQfaiF",
        "outputId": "98444bc0-03ae-4003-fe3c-1e099a2ea962",
        "colab": {
          "base_uri": "https://localhost:8080/"
        }
      },
      "execution_count": null,
      "outputs": [
        {
          "output_type": "stream",
          "name": "stdout",
          "text": [
            "Rows: 336,776\n",
            "Columns: 19\n",
            "$ year           \u001b[3m\u001b[90m<int>\u001b[39m\u001b[23m 2013, 2013, 2013, 2013, 2013, 2013, 2013, 2013, 2013, 2…\n",
            "$ month          \u001b[3m\u001b[90m<int>\u001b[39m\u001b[23m 1, 1, 1, 1, 1, 1, 1, 1, 1, 1, 1, 1, 1, 1, 1, 1, 1, 1, 1…\n",
            "$ day            \u001b[3m\u001b[90m<int>\u001b[39m\u001b[23m 1, 1, 1, 1, 1, 1, 1, 1, 1, 1, 1, 1, 1, 1, 1, 1, 1, 1, 1…\n",
            "$ dep_time       \u001b[3m\u001b[90m<int>\u001b[39m\u001b[23m 517, 533, 542, 544, 554, 554, 555, 557, 557, 558, 558, …\n",
            "$ sched_dep_time \u001b[3m\u001b[90m<int>\u001b[39m\u001b[23m 515, 529, 540, 545, 600, 558, 600, 600, 600, 600, 600, …\n",
            "$ dep_delay      \u001b[3m\u001b[90m<int>\u001b[39m\u001b[23m 2, 4, 2, -1, -6, -4, -5, -3, -3, -2, -2, -2, -2, -2, -1…\n",
            "$ arr_time       \u001b[3m\u001b[90m<int>\u001b[39m\u001b[23m 830, 850, 923, 1004, 812, 740, 913, 709, 838, 753, 849,…\n",
            "$ sched_arr_time \u001b[3m\u001b[90m<int>\u001b[39m\u001b[23m 819, 830, 850, 1022, 837, 728, 854, 723, 846, 745, 851,…\n",
            "$ arr_delay      \u001b[3m\u001b[90m<int>\u001b[39m\u001b[23m 11, 20, 33, -18, -25, 12, 19, -14, -8, 8, -2, -3, 7, -1…\n",
            "$ carrier        \u001b[3m\u001b[90m<chr>\u001b[39m\u001b[23m \"UA\", \"UA\", \"AA\", \"B6\", \"DL\", \"UA\", \"B6\", \"EV\", \"B6\", \"…\n",
            "$ flight         \u001b[3m\u001b[90m<int>\u001b[39m\u001b[23m 1545, 1714, 1141, 725, 461, 1696, 507, 5708, 79, 301, 4…\n",
            "$ tailnum        \u001b[3m\u001b[90m<chr>\u001b[39m\u001b[23m \"N14228\", \"N24211\", \"N619AA\", \"N804JB\", \"N668DN\", \"N394…\n",
            "$ origin         \u001b[3m\u001b[90m<chr>\u001b[39m\u001b[23m \"EWR\", \"LGA\", \"JFK\", \"JFK\", \"LGA\", \"EWR\", \"EWR\", \"LGA\",…\n",
            "$ dest           \u001b[3m\u001b[90m<chr>\u001b[39m\u001b[23m \"IAH\", \"IAH\", \"MIA\", \"BQN\", \"ATL\", \"ORD\", \"FLL\", \"IAD\",…\n",
            "$ air_time       \u001b[3m\u001b[90m<int>\u001b[39m\u001b[23m 227, 227, 160, 183, 116, 150, 158, 53, 140, 138, 149, 1…\n",
            "$ distance       \u001b[3m\u001b[90m<int>\u001b[39m\u001b[23m 1400, 1416, 1089, 1576, 762, 719, 1065, 229, 944, 733, …\n",
            "$ hour           \u001b[3m\u001b[90m<int>\u001b[39m\u001b[23m 5, 5, 5, 5, 6, 5, 6, 6, 6, 6, 6, 6, 6, 6, 6, 5, 6, 6, 6…\n",
            "$ minute         \u001b[3m\u001b[90m<int>\u001b[39m\u001b[23m 15, 29, 40, 45, 0, 58, 0, 0, 0, 0, 0, 0, 0, 0, 0, 59, 0…\n",
            "$ time_hour      \u001b[3m\u001b[90m<chr>\u001b[39m\u001b[23m \"2013-01-01 05:00:00\", \"2013-01-01 05:00:00\", \"2013-01-…\n"
          ]
        }
      ]
    },
    {
      "cell_type": "markdown",
      "metadata": {
        "id": "jAHBUxNxRPyV"
      },
      "source": [
        "## 4. Funciones básicas de dplyr\n",
        "\n",
        "A continuación exploraremos los datos de vuelos utilizando la librería dplyr.\n",
        "\n",
        "### 4.1 Función filter()\n",
        "\n",
        "La función filter() de dplyr es el equivalente a la sentencia where de sql."
      ]
    },
    {
      "cell_type": "code",
      "metadata": {
        "trusted": true,
        "scrolled": true,
        "id": "mv1lhelWRPyV",
        "outputId": "54af6591-2665-4106-fa8c-6c6095732cda",
        "colab": {
          "base_uri": "https://localhost:8080/",
          "height": 1000
        }
      },
      "source": [
        "# filter() # where de sql----------------------------------------------------------------\n",
        "# Registros que tengan fecha 31 de diciembre\n",
        "# Antes\n",
        "vuelos[vuelos$month == 12 & vuelos$day == 31, ]\n"
      ],
      "execution_count": 6,
      "outputs": [
        {
          "output_type": "display_data",
          "data": {
            "text/html": [
              "<table class=\"dataframe\">\n",
              "<caption>A data.frame: 776 × 19</caption>\n",
              "<thead>\n",
              "\t<tr><th></th><th scope=col>year</th><th scope=col>month</th><th scope=col>day</th><th scope=col>dep_time</th><th scope=col>sched_dep_time</th><th scope=col>dep_delay</th><th scope=col>arr_time</th><th scope=col>sched_arr_time</th><th scope=col>arr_delay</th><th scope=col>carrier</th><th scope=col>flight</th><th scope=col>tailnum</th><th scope=col>origin</th><th scope=col>dest</th><th scope=col>air_time</th><th scope=col>distance</th><th scope=col>hour</th><th scope=col>minute</th><th scope=col>time_hour</th></tr>\n",
              "\t<tr><th></th><th scope=col>&lt;int&gt;</th><th scope=col>&lt;int&gt;</th><th scope=col>&lt;int&gt;</th><th scope=col>&lt;int&gt;</th><th scope=col>&lt;int&gt;</th><th scope=col>&lt;int&gt;</th><th scope=col>&lt;int&gt;</th><th scope=col>&lt;int&gt;</th><th scope=col>&lt;int&gt;</th><th scope=col>&lt;chr&gt;</th><th scope=col>&lt;int&gt;</th><th scope=col>&lt;chr&gt;</th><th scope=col>&lt;chr&gt;</th><th scope=col>&lt;chr&gt;</th><th scope=col>&lt;int&gt;</th><th scope=col>&lt;int&gt;</th><th scope=col>&lt;int&gt;</th><th scope=col>&lt;int&gt;</th><th scope=col>&lt;chr&gt;</th></tr>\n",
              "</thead>\n",
              "<tbody>\n",
              "\t<tr><th scope=row>110521</th><td>2013</td><td>12</td><td>31</td><td> 13</td><td>2359</td><td> 14</td><td> 439</td><td> 437</td><td>  2</td><td>B6</td><td> 839</td><td>N566JB</td><td>JFK</td><td>BQN</td><td>189</td><td>1576</td><td>23</td><td>59</td><td>2013-12-31 23:00:00</td></tr>\n",
              "\t<tr><th scope=row>110522</th><td>2013</td><td>12</td><td>31</td><td> 18</td><td>2359</td><td> 19</td><td> 449</td><td> 444</td><td>  5</td><td>DL</td><td> 412</td><td>N713TW</td><td>JFK</td><td>SJU</td><td>192</td><td>1598</td><td>23</td><td>59</td><td>2013-12-31 23:00:00</td></tr>\n",
              "\t<tr><th scope=row>110523</th><td>2013</td><td>12</td><td>31</td><td> 26</td><td>2245</td><td>101</td><td> 129</td><td>2353</td><td> 96</td><td>B6</td><td> 108</td><td>N374JB</td><td>JFK</td><td>PWM</td><td> 50</td><td> 273</td><td>22</td><td>45</td><td>2013-12-31 22:00:00</td></tr>\n",
              "\t<tr><th scope=row>110524</th><td>2013</td><td>12</td><td>31</td><td>459</td><td> 500</td><td> -1</td><td> 655</td><td> 651</td><td>  4</td><td>US</td><td>1895</td><td>N557UW</td><td>EWR</td><td>CLT</td><td> 95</td><td> 529</td><td> 5</td><td> 0</td><td>2013-12-31 05:00:00</td></tr>\n",
              "\t<tr><th scope=row>110525</th><td>2013</td><td>12</td><td>31</td><td>514</td><td> 515</td><td> -1</td><td> 814</td><td> 812</td><td>  2</td><td>UA</td><td> 700</td><td>N470UA</td><td>EWR</td><td>IAH</td><td>223</td><td>1400</td><td> 5</td><td>15</td><td>2013-12-31 05:00:00</td></tr>\n",
              "\t<tr><th scope=row>110526</th><td>2013</td><td>12</td><td>31</td><td>549</td><td> 551</td><td> -2</td><td> 925</td><td> 900</td><td> 25</td><td>UA</td><td> 274</td><td>N577UA</td><td>EWR</td><td>LAX</td><td>346</td><td>2454</td><td> 5</td><td>51</td><td>2013-12-31 05:00:00</td></tr>\n",
              "\t<tr><th scope=row>110527</th><td>2013</td><td>12</td><td>31</td><td>550</td><td> 600</td><td>-10</td><td> 725</td><td> 745</td><td>-20</td><td>AA</td><td> 301</td><td>N3CXAA</td><td>LGA</td><td>ORD</td><td>127</td><td> 733</td><td> 6</td><td> 0</td><td>2013-12-31 06:00:00</td></tr>\n",
              "\t<tr><th scope=row>110528</th><td>2013</td><td>12</td><td>31</td><td>552</td><td> 600</td><td> -8</td><td> 811</td><td> 826</td><td>-15</td><td>EV</td><td>3825</td><td>N14916</td><td>EWR</td><td>IND</td><td>118</td><td> 645</td><td> 6</td><td> 0</td><td>2013-12-31 06:00:00</td></tr>\n",
              "\t<tr><th scope=row>110529</th><td>2013</td><td>12</td><td>31</td><td>553</td><td> 600</td><td> -7</td><td> 741</td><td> 754</td><td>-13</td><td>DL</td><td> 731</td><td>N333NB</td><td>LGA</td><td>DTW</td><td> 86</td><td> 502</td><td> 6</td><td> 0</td><td>2013-12-31 06:00:00</td></tr>\n",
              "\t<tr><th scope=row>110530</th><td>2013</td><td>12</td><td>31</td><td>554</td><td> 550</td><td>  4</td><td>1024</td><td>1027</td><td> -3</td><td>B6</td><td> 939</td><td>N552JB</td><td>JFK</td><td>BQN</td><td>195</td><td>1576</td><td> 5</td><td>50</td><td>2013-12-31 05:00:00</td></tr>\n",
              "\t<tr><th scope=row>110531</th><td>2013</td><td>12</td><td>31</td><td>555</td><td> 600</td><td> -5</td><td> 901</td><td> 849</td><td> 12</td><td>B6</td><td> 353</td><td>N746JB</td><td>JFK</td><td>PBI</td><td>167</td><td>1028</td><td> 6</td><td> 0</td><td>2013-12-31 06:00:00</td></tr>\n",
              "\t<tr><th scope=row>110532</th><td>2013</td><td>12</td><td>31</td><td>555</td><td> 600</td><td> -5</td><td> 835</td><td> 831</td><td>  4</td><td>DL</td><td> 904</td><td>N3741S</td><td>LGA</td><td>ATL</td><td>137</td><td> 762</td><td> 6</td><td> 0</td><td>2013-12-31 06:00:00</td></tr>\n",
              "\t<tr><th scope=row>110533</th><td>2013</td><td>12</td><td>31</td><td>555</td><td> 551</td><td>  4</td><td> 853</td><td> 851</td><td>  2</td><td>UA</td><td> 566</td><td>N491UA</td><td>EWR</td><td>TPA</td><td>164</td><td> 997</td><td> 5</td><td>51</td><td>2013-12-31 05:00:00</td></tr>\n",
              "\t<tr><th scope=row>110534</th><td>2013</td><td>12</td><td>31</td><td>556</td><td> 600</td><td> -4</td><td> 909</td><td> 846</td><td> 23</td><td>B6</td><td> 583</td><td>N715JB</td><td>JFK</td><td>MCO</td><td>162</td><td> 944</td><td> 6</td><td> 0</td><td>2013-12-31 06:00:00</td></tr>\n",
              "\t<tr><th scope=row>110535</th><td>2013</td><td>12</td><td>31</td><td>556</td><td> 605</td><td> -9</td><td> 808</td><td> 814</td><td> -6</td><td>DL</td><td>1919</td><td>N958DL</td><td>LGA</td><td>MSP</td><td>160</td><td>1020</td><td> 6</td><td> 5</td><td>2013-12-31 06:00:00</td></tr>\n",
              "\t<tr><th scope=row>110536</th><td>2013</td><td>12</td><td>31</td><td>557</td><td> 603</td><td> -6</td><td> 719</td><td> 719</td><td>  0</td><td>EV</td><td>4241</td><td>N15574</td><td>EWR</td><td>DCA</td><td> 45</td><td> 199</td><td> 6</td><td> 3</td><td>2013-12-31 06:00:00</td></tr>\n",
              "\t<tr><th scope=row>110537</th><td>2013</td><td>12</td><td>31</td><td>558</td><td> 600</td><td> -2</td><td> 919</td><td> 905</td><td> 14</td><td>AA</td><td>1175</td><td>N3JEAA</td><td>LGA</td><td>MIA</td><td>173</td><td>1096</td><td> 6</td><td> 0</td><td>2013-12-31 06:00:00</td></tr>\n",
              "\t<tr><th scope=row>110538</th><td>2013</td><td>12</td><td>31</td><td>559</td><td> 600</td><td> -1</td><td> 917</td><td> 855</td><td> 22</td><td>B6</td><td> 605</td><td>N597JB</td><td>EWR</td><td>FLL</td><td>167</td><td>1065</td><td> 6</td><td> 0</td><td>2013-12-31 06:00:00</td></tr>\n",
              "\t<tr><th scope=row>110539</th><td>2013</td><td>12</td><td>31</td><td>600</td><td> 540</td><td> 20</td><td> 928</td><td> 850</td><td> 38</td><td>AA</td><td>2243</td><td>N5EMAA</td><td>JFK</td><td>MIA</td><td>171</td><td>1089</td><td> 5</td><td>40</td><td>2013-12-31 05:00:00</td></tr>\n",
              "\t<tr><th scope=row>110540</th><td>2013</td><td>12</td><td>31</td><td>602</td><td> 605</td><td> -3</td><td> 744</td><td> 805</td><td>-21</td><td>DL</td><td>2505</td><td>N358NB</td><td>EWR</td><td>DTW</td><td> 87</td><td> 488</td><td> 6</td><td> 5</td><td>2013-12-31 06:00:00</td></tr>\n",
              "\t<tr><th scope=row>110541</th><td>2013</td><td>12</td><td>31</td><td>602</td><td> 605</td><td> -3</td><td> 708</td><td> 723</td><td>-15</td><td>EV</td><td>6177</td><td>N14543</td><td>EWR</td><td>IAD</td><td> 45</td><td> 212</td><td> 6</td><td> 5</td><td>2013-12-31 06:00:00</td></tr>\n",
              "\t<tr><th scope=row>110542</th><td>2013</td><td>12</td><td>31</td><td>603</td><td> 611</td><td> -8</td><td>1045</td><td>1055</td><td>-10</td><td>B6</td><td>1403</td><td>N547JB</td><td>JFK</td><td>SJU</td><td>198</td><td>1598</td><td> 6</td><td>11</td><td>2013-12-31 06:00:00</td></tr>\n",
              "\t<tr><th scope=row>110543</th><td>2013</td><td>12</td><td>31</td><td>607</td><td> 600</td><td>  7</td><td> 848</td><td> 825</td><td> 23</td><td>WN</td><td>1716</td><td>N7740A</td><td>LGA</td><td>ATL</td><td>137</td><td> 762</td><td> 6</td><td> 0</td><td>2013-12-31 06:00:00</td></tr>\n",
              "\t<tr><th scope=row>110544</th><td>2013</td><td>12</td><td>31</td><td>608</td><td> 615</td><td> -7</td><td> 812</td><td> 818</td><td> -6</td><td>US</td><td>1963</td><td>N192UW</td><td>EWR</td><td>CLT</td><td>106</td><td> 529</td><td> 6</td><td>15</td><td>2013-12-31 06:00:00</td></tr>\n",
              "\t<tr><th scope=row>110545</th><td>2013</td><td>12</td><td>31</td><td>609</td><td> 610</td><td> -1</td><td> 911</td><td> 915</td><td> -4</td><td>AA</td><td>1205</td><td>N5DHAA</td><td>EWR</td><td>MIA</td><td>163</td><td>1085</td><td> 6</td><td>10</td><td>2013-12-31 06:00:00</td></tr>\n",
              "\t<tr><th scope=row>110546</th><td>2013</td><td>12</td><td>31</td><td>609</td><td> 615</td><td> -6</td><td> 848</td><td> 850</td><td> -2</td><td>DL</td><td> 404</td><td>N392DA</td><td>JFK</td><td>ATL</td><td>133</td><td> 760</td><td> 6</td><td>15</td><td>2013-12-31 06:00:00</td></tr>\n",
              "\t<tr><th scope=row>110547</th><td>2013</td><td>12</td><td>31</td><td>609</td><td> 614</td><td> -5</td><td> 755</td><td> 751</td><td>  4</td><td>EV</td><td>3812</td><td>N13994</td><td>EWR</td><td>RDU</td><td> 81</td><td> 416</td><td> 6</td><td>14</td><td>2013-12-31 06:00:00</td></tr>\n",
              "\t<tr><th scope=row>110548</th><td>2013</td><td>12</td><td>31</td><td>610</td><td> 615</td><td> -5</td><td> 828</td><td> 849</td><td>-21</td><td>DL</td><td> 479</td><td>N3766 </td><td>JFK</td><td>ATL</td><td>119</td><td> 760</td><td> 6</td><td>15</td><td>2013-12-31 06:00:00</td></tr>\n",
              "\t<tr><th scope=row>110549</th><td>2013</td><td>12</td><td>31</td><td>616</td><td> 611</td><td>  5</td><td> 933</td><td> 912</td><td> 21</td><td>B6</td><td> 601</td><td>N643JB</td><td>JFK</td><td>FLL</td><td>173</td><td>1069</td><td> 6</td><td>11</td><td>2013-12-31 06:00:00</td></tr>\n",
              "\t<tr><th scope=row>110550</th><td>2013</td><td>12</td><td>31</td><td>616</td><td> 630</td><td>-14</td><td> 922</td><td> 919</td><td>  3</td><td>B6</td><td>1099</td><td>N563JB</td><td>LGA</td><td>MCO</td><td>159</td><td> 950</td><td> 6</td><td>30</td><td>2013-12-31 06:00:00</td></tr>\n",
              "\t<tr><th scope=row>⋮</th><td>⋮</td><td>⋮</td><td>⋮</td><td>⋮</td><td>⋮</td><td>⋮</td><td>⋮</td><td>⋮</td><td>⋮</td><td>⋮</td><td>⋮</td><td>⋮</td><td>⋮</td><td>⋮</td><td>⋮</td><td>⋮</td><td>⋮</td><td>⋮</td><td>⋮</td></tr>\n",
              "\t<tr><th scope=row>111267</th><td>2013</td><td>12</td><td>31</td><td>2155</td><td>2039</td><td> 76</td><td> 253</td><td>2355</td><td> NA</td><td>B6</td><td>1205</td><td>N627JB</td><td>JFK</td><td>PDX</td><td> NA</td><td>2454</td><td>20</td><td>39</td><td>2013-12-31 20:00:00</td></tr>\n",
              "\t<tr><th scope=row>111268</th><td>2013</td><td>12</td><td>31</td><td>2155</td><td>2150</td><td>  5</td><td> 110</td><td>  51</td><td> 19</td><td>B6</td><td>1901</td><td>N729JB</td><td>JFK</td><td>FLL</td><td>164</td><td>1069</td><td>21</td><td>50</td><td>2013-12-31 21:00:00</td></tr>\n",
              "\t<tr><th scope=row>111269</th><td>2013</td><td>12</td><td>31</td><td>2159</td><td>2155</td><td>  4</td><td>  55</td><td>  46</td><td>  9</td><td>B6</td><td>2053</td><td>N593JB</td><td>JFK</td><td>PBI</td><td>155</td><td>1028</td><td>21</td><td>55</td><td>2013-12-31 21:00:00</td></tr>\n",
              "\t<tr><th scope=row>111270</th><td>2013</td><td>12</td><td>31</td><td>2206</td><td>2110</td><td> 56</td><td>  44</td><td>2339</td><td> 65</td><td>B6</td><td> 775</td><td>N184JB</td><td>JFK</td><td>MSY</td><td>195</td><td>1182</td><td>21</td><td>10</td><td>2013-12-31 21:00:00</td></tr>\n",
              "\t<tr><th scope=row>111271</th><td>2013</td><td>12</td><td>31</td><td>2211</td><td>2159</td><td> 12</td><td> 100</td><td>  45</td><td> 15</td><td>B6</td><td>1183</td><td>N715JB</td><td>JFK</td><td>MCO</td><td>148</td><td> 944</td><td>21</td><td>59</td><td>2013-12-31 21:00:00</td></tr>\n",
              "\t<tr><th scope=row>111272</th><td>2013</td><td>12</td><td>31</td><td>2218</td><td>2219</td><td> -1</td><td> 315</td><td> 304</td><td> 11</td><td>B6</td><td>1203</td><td>N625JB</td><td>JFK</td><td>SJU</td><td>202</td><td>1598</td><td>22</td><td>19</td><td>2013-12-31 22:00:00</td></tr>\n",
              "\t<tr><th scope=row>111273</th><td>2013</td><td>12</td><td>31</td><td>2235</td><td>2245</td><td>-10</td><td>2351</td><td>2355</td><td> -4</td><td>B6</td><td> 234</td><td>N355JB</td><td>JFK</td><td>BTV</td><td> 49</td><td> 266</td><td>22</td><td>45</td><td>2013-12-31 22:00:00</td></tr>\n",
              "\t<tr><th scope=row>111274</th><td>2013</td><td>12</td><td>31</td><td>2245</td><td>2250</td><td> -5</td><td>2359</td><td>2356</td><td>  3</td><td>B6</td><td>1816</td><td>N318JB</td><td>JFK</td><td>SYR</td><td> 51</td><td> 209</td><td>22</td><td>50</td><td>2013-12-31 22:00:00</td></tr>\n",
              "\t<tr><th scope=row>111275</th><td>2013</td><td>12</td><td>31</td><td>2310</td><td>2255</td><td> 15</td><td>   7</td><td>2356</td><td> 11</td><td>B6</td><td> 718</td><td>N279JB</td><td>JFK</td><td>BOS</td><td> 40</td><td> 187</td><td>22</td><td>55</td><td>2013-12-31 22:00:00</td></tr>\n",
              "\t<tr><th scope=row>111276</th><td>2013</td><td>12</td><td>31</td><td>2321</td><td>2250</td><td> 31</td><td>  46</td><td>   8</td><td> 38</td><td>B6</td><td>2002</td><td>N179JB</td><td>JFK</td><td>BUF</td><td> 66</td><td> 301</td><td>22</td><td>50</td><td>2013-12-31 22:00:00</td></tr>\n",
              "\t<tr><th scope=row>111277</th><td>2013</td><td>12</td><td>31</td><td>2328</td><td>2330</td><td> -2</td><td> 412</td><td> 409</td><td>  3</td><td>B6</td><td>1389</td><td>N651JB</td><td>EWR</td><td>SJU</td><td>198</td><td>1608</td><td>23</td><td>30</td><td>2013-12-31 23:00:00</td></tr>\n",
              "\t<tr><th scope=row>111278</th><td>2013</td><td>12</td><td>31</td><td>2332</td><td>2245</td><td> 47</td><td>  58</td><td>   3</td><td> 55</td><td>B6</td><td> 486</td><td>N334JB</td><td>JFK</td><td>ROC</td><td> 60</td><td> 264</td><td>22</td><td>45</td><td>2013-12-31 22:00:00</td></tr>\n",
              "\t<tr><th scope=row>111279</th><td>2013</td><td>12</td><td>31</td><td>2355</td><td>2359</td><td> -4</td><td> 430</td><td> 440</td><td>-10</td><td>B6</td><td>1503</td><td>N509JB</td><td>JFK</td><td>SJU</td><td>195</td><td>1598</td><td>23</td><td>59</td><td>2013-12-31 23:00:00</td></tr>\n",
              "\t<tr><th scope=row>111280</th><td>2013</td><td>12</td><td>31</td><td>2356</td><td>2359</td><td> -3</td><td> 436</td><td> 445</td><td> -9</td><td>B6</td><td> 745</td><td>N665JB</td><td>JFK</td><td>PSE</td><td>200</td><td>1617</td><td>23</td><td>59</td><td>2013-12-31 23:00:00</td></tr>\n",
              "\t<tr><th scope=row>111281</th><td>2013</td><td>12</td><td>31</td><td>  NA</td><td>1520</td><td> NA</td><td>  NA</td><td>1705</td><td> NA</td><td>AA</td><td> 341</td><td>N568AA</td><td>LGA</td><td>ORD</td><td> NA</td><td> 733</td><td>15</td><td>20</td><td>2013-12-31 15:00:00</td></tr>\n",
              "\t<tr><th scope=row>111282</th><td>2013</td><td>12</td><td>31</td><td>  NA</td><td>2025</td><td> NA</td><td>  NA</td><td>2205</td><td> NA</td><td>AA</td><td> 371</td><td>N482AA</td><td>LGA</td><td>ORD</td><td> NA</td><td> 733</td><td>20</td><td>25</td><td>2013-12-31 20:00:00</td></tr>\n",
              "\t<tr><th scope=row>111283</th><td>2013</td><td>12</td><td>31</td><td>  NA</td><td>1932</td><td> NA</td><td>  NA</td><td>2305</td><td> NA</td><td>B6</td><td> 161</td><td>N516JB</td><td>JFK</td><td>SMF</td><td> NA</td><td>2521</td><td>19</td><td>32</td><td>2013-12-31 19:00:00</td></tr>\n",
              "\t<tr><th scope=row>111284</th><td>2013</td><td>12</td><td>31</td><td>  NA</td><td>1505</td><td> NA</td><td>  NA</td><td>1725</td><td> NA</td><td>EV</td><td>4181</td><td>N24103</td><td>EWR</td><td>MCI</td><td> NA</td><td>1092</td><td>15</td><td> 5</td><td>2013-12-31 15:00:00</td></tr>\n",
              "\t<tr><th scope=row>111285</th><td>2013</td><td>12</td><td>31</td><td>  NA</td><td>1000</td><td> NA</td><td>  NA</td><td>1252</td><td> NA</td><td>UA</td><td>1124</td><td>NA    </td><td>EWR</td><td>EGE</td><td> NA</td><td>1725</td><td>10</td><td> 0</td><td>2013-12-31 10:00:00</td></tr>\n",
              "\t<tr><th scope=row>111286</th><td>2013</td><td>12</td><td>31</td><td>  NA</td><td> 840</td><td> NA</td><td>  NA</td><td>1205</td><td> NA</td><td>UA</td><td>1151</td><td>NA    </td><td>EWR</td><td>SEA</td><td> NA</td><td>2402</td><td> 8</td><td>40</td><td>2013-12-31 08:00:00</td></tr>\n",
              "\t<tr><th scope=row>111287</th><td>2013</td><td>12</td><td>31</td><td>  NA</td><td> 754</td><td> NA</td><td>  NA</td><td>1118</td><td> NA</td><td>UA</td><td>1455</td><td>NA    </td><td>EWR</td><td>LAX</td><td> NA</td><td>2454</td><td> 7</td><td>54</td><td>2013-12-31 07:00:00</td></tr>\n",
              "\t<tr><th scope=row>111288</th><td>2013</td><td>12</td><td>31</td><td>  NA</td><td>2000</td><td> NA</td><td>  NA</td><td>2146</td><td> NA</td><td>UA</td><td>1482</td><td>NA    </td><td>EWR</td><td>ORD</td><td> NA</td><td> 719</td><td>20</td><td> 0</td><td>2013-12-31 20:00:00</td></tr>\n",
              "\t<tr><th scope=row>111289</th><td>2013</td><td>12</td><td>31</td><td>  NA</td><td>1500</td><td> NA</td><td>  NA</td><td>1817</td><td> NA</td><td>UA</td><td>1483</td><td>NA    </td><td>EWR</td><td>AUS</td><td> NA</td><td>1504</td><td>15</td><td> 0</td><td>2013-12-31 15:00:00</td></tr>\n",
              "\t<tr><th scope=row>111290</th><td>2013</td><td>12</td><td>31</td><td>  NA</td><td>1430</td><td> NA</td><td>  NA</td><td>1750</td><td> NA</td><td>UA</td><td>1493</td><td>NA    </td><td>EWR</td><td>LAX</td><td> NA</td><td>2454</td><td>14</td><td>30</td><td>2013-12-31 14:00:00</td></tr>\n",
              "\t<tr><th scope=row>111291</th><td>2013</td><td>12</td><td>31</td><td>  NA</td><td> 855</td><td> NA</td><td>  NA</td><td>1142</td><td> NA</td><td>UA</td><td>1506</td><td>NA    </td><td>EWR</td><td>JAC</td><td> NA</td><td>1874</td><td> 8</td><td>55</td><td>2013-12-31 08:00:00</td></tr>\n",
              "\t<tr><th scope=row>111292</th><td>2013</td><td>12</td><td>31</td><td>  NA</td><td> 705</td><td> NA</td><td>  NA</td><td> 931</td><td> NA</td><td>UA</td><td>1729</td><td>NA    </td><td>EWR</td><td>DEN</td><td> NA</td><td>1605</td><td> 7</td><td> 5</td><td>2013-12-31 07:00:00</td></tr>\n",
              "\t<tr><th scope=row>111293</th><td>2013</td><td>12</td><td>31</td><td>  NA</td><td> 825</td><td> NA</td><td>  NA</td><td>1029</td><td> NA</td><td>US</td><td>1831</td><td>NA    </td><td>JFK</td><td>CLT</td><td> NA</td><td> 541</td><td> 8</td><td>25</td><td>2013-12-31 08:00:00</td></tr>\n",
              "\t<tr><th scope=row>111294</th><td>2013</td><td>12</td><td>31</td><td>  NA</td><td>1615</td><td> NA</td><td>  NA</td><td>1800</td><td> NA</td><td>MQ</td><td>3301</td><td>N844MQ</td><td>LGA</td><td>RDU</td><td> NA</td><td> 431</td><td>16</td><td>15</td><td>2013-12-31 16:00:00</td></tr>\n",
              "\t<tr><th scope=row>111295</th><td>2013</td><td>12</td><td>31</td><td>  NA</td><td> 600</td><td> NA</td><td>  NA</td><td> 735</td><td> NA</td><td>UA</td><td> 219</td><td>NA    </td><td>EWR</td><td>ORD</td><td> NA</td><td> 719</td><td> 6</td><td> 0</td><td>2013-12-31 06:00:00</td></tr>\n",
              "\t<tr><th scope=row>111296</th><td>2013</td><td>12</td><td>31</td><td>  NA</td><td> 830</td><td> NA</td><td>  NA</td><td>1154</td><td> NA</td><td>UA</td><td> 443</td><td>NA    </td><td>JFK</td><td>LAX</td><td> NA</td><td>2475</td><td> 8</td><td>30</td><td>2013-12-31 08:00:00</td></tr>\n",
              "</tbody>\n",
              "</table>\n"
            ],
            "text/markdown": "\nA data.frame: 776 × 19\n\n| <!--/--> | year &lt;int&gt; | month &lt;int&gt; | day &lt;int&gt; | dep_time &lt;int&gt; | sched_dep_time &lt;int&gt; | dep_delay &lt;int&gt; | arr_time &lt;int&gt; | sched_arr_time &lt;int&gt; | arr_delay &lt;int&gt; | carrier &lt;chr&gt; | flight &lt;int&gt; | tailnum &lt;chr&gt; | origin &lt;chr&gt; | dest &lt;chr&gt; | air_time &lt;int&gt; | distance &lt;int&gt; | hour &lt;int&gt; | minute &lt;int&gt; | time_hour &lt;chr&gt; |\n|---|---|---|---|---|---|---|---|---|---|---|---|---|---|---|---|---|---|---|---|\n| 110521 | 2013 | 12 | 31 |  13 | 2359 |  14 |  439 |  437 |   2 | B6 |  839 | N566JB | JFK | BQN | 189 | 1576 | 23 | 59 | 2013-12-31 23:00:00 |\n| 110522 | 2013 | 12 | 31 |  18 | 2359 |  19 |  449 |  444 |   5 | DL |  412 | N713TW | JFK | SJU | 192 | 1598 | 23 | 59 | 2013-12-31 23:00:00 |\n| 110523 | 2013 | 12 | 31 |  26 | 2245 | 101 |  129 | 2353 |  96 | B6 |  108 | N374JB | JFK | PWM |  50 |  273 | 22 | 45 | 2013-12-31 22:00:00 |\n| 110524 | 2013 | 12 | 31 | 459 |  500 |  -1 |  655 |  651 |   4 | US | 1895 | N557UW | EWR | CLT |  95 |  529 |  5 |  0 | 2013-12-31 05:00:00 |\n| 110525 | 2013 | 12 | 31 | 514 |  515 |  -1 |  814 |  812 |   2 | UA |  700 | N470UA | EWR | IAH | 223 | 1400 |  5 | 15 | 2013-12-31 05:00:00 |\n| 110526 | 2013 | 12 | 31 | 549 |  551 |  -2 |  925 |  900 |  25 | UA |  274 | N577UA | EWR | LAX | 346 | 2454 |  5 | 51 | 2013-12-31 05:00:00 |\n| 110527 | 2013 | 12 | 31 | 550 |  600 | -10 |  725 |  745 | -20 | AA |  301 | N3CXAA | LGA | ORD | 127 |  733 |  6 |  0 | 2013-12-31 06:00:00 |\n| 110528 | 2013 | 12 | 31 | 552 |  600 |  -8 |  811 |  826 | -15 | EV | 3825 | N14916 | EWR | IND | 118 |  645 |  6 |  0 | 2013-12-31 06:00:00 |\n| 110529 | 2013 | 12 | 31 | 553 |  600 |  -7 |  741 |  754 | -13 | DL |  731 | N333NB | LGA | DTW |  86 |  502 |  6 |  0 | 2013-12-31 06:00:00 |\n| 110530 | 2013 | 12 | 31 | 554 |  550 |   4 | 1024 | 1027 |  -3 | B6 |  939 | N552JB | JFK | BQN | 195 | 1576 |  5 | 50 | 2013-12-31 05:00:00 |\n| 110531 | 2013 | 12 | 31 | 555 |  600 |  -5 |  901 |  849 |  12 | B6 |  353 | N746JB | JFK | PBI | 167 | 1028 |  6 |  0 | 2013-12-31 06:00:00 |\n| 110532 | 2013 | 12 | 31 | 555 |  600 |  -5 |  835 |  831 |   4 | DL |  904 | N3741S | LGA | ATL | 137 |  762 |  6 |  0 | 2013-12-31 06:00:00 |\n| 110533 | 2013 | 12 | 31 | 555 |  551 |   4 |  853 |  851 |   2 | UA |  566 | N491UA | EWR | TPA | 164 |  997 |  5 | 51 | 2013-12-31 05:00:00 |\n| 110534 | 2013 | 12 | 31 | 556 |  600 |  -4 |  909 |  846 |  23 | B6 |  583 | N715JB | JFK | MCO | 162 |  944 |  6 |  0 | 2013-12-31 06:00:00 |\n| 110535 | 2013 | 12 | 31 | 556 |  605 |  -9 |  808 |  814 |  -6 | DL | 1919 | N958DL | LGA | MSP | 160 | 1020 |  6 |  5 | 2013-12-31 06:00:00 |\n| 110536 | 2013 | 12 | 31 | 557 |  603 |  -6 |  719 |  719 |   0 | EV | 4241 | N15574 | EWR | DCA |  45 |  199 |  6 |  3 | 2013-12-31 06:00:00 |\n| 110537 | 2013 | 12 | 31 | 558 |  600 |  -2 |  919 |  905 |  14 | AA | 1175 | N3JEAA | LGA | MIA | 173 | 1096 |  6 |  0 | 2013-12-31 06:00:00 |\n| 110538 | 2013 | 12 | 31 | 559 |  600 |  -1 |  917 |  855 |  22 | B6 |  605 | N597JB | EWR | FLL | 167 | 1065 |  6 |  0 | 2013-12-31 06:00:00 |\n| 110539 | 2013 | 12 | 31 | 600 |  540 |  20 |  928 |  850 |  38 | AA | 2243 | N5EMAA | JFK | MIA | 171 | 1089 |  5 | 40 | 2013-12-31 05:00:00 |\n| 110540 | 2013 | 12 | 31 | 602 |  605 |  -3 |  744 |  805 | -21 | DL | 2505 | N358NB | EWR | DTW |  87 |  488 |  6 |  5 | 2013-12-31 06:00:00 |\n| 110541 | 2013 | 12 | 31 | 602 |  605 |  -3 |  708 |  723 | -15 | EV | 6177 | N14543 | EWR | IAD |  45 |  212 |  6 |  5 | 2013-12-31 06:00:00 |\n| 110542 | 2013 | 12 | 31 | 603 |  611 |  -8 | 1045 | 1055 | -10 | B6 | 1403 | N547JB | JFK | SJU | 198 | 1598 |  6 | 11 | 2013-12-31 06:00:00 |\n| 110543 | 2013 | 12 | 31 | 607 |  600 |   7 |  848 |  825 |  23 | WN | 1716 | N7740A | LGA | ATL | 137 |  762 |  6 |  0 | 2013-12-31 06:00:00 |\n| 110544 | 2013 | 12 | 31 | 608 |  615 |  -7 |  812 |  818 |  -6 | US | 1963 | N192UW | EWR | CLT | 106 |  529 |  6 | 15 | 2013-12-31 06:00:00 |\n| 110545 | 2013 | 12 | 31 | 609 |  610 |  -1 |  911 |  915 |  -4 | AA | 1205 | N5DHAA | EWR | MIA | 163 | 1085 |  6 | 10 | 2013-12-31 06:00:00 |\n| 110546 | 2013 | 12 | 31 | 609 |  615 |  -6 |  848 |  850 |  -2 | DL |  404 | N392DA | JFK | ATL | 133 |  760 |  6 | 15 | 2013-12-31 06:00:00 |\n| 110547 | 2013 | 12 | 31 | 609 |  614 |  -5 |  755 |  751 |   4 | EV | 3812 | N13994 | EWR | RDU |  81 |  416 |  6 | 14 | 2013-12-31 06:00:00 |\n| 110548 | 2013 | 12 | 31 | 610 |  615 |  -5 |  828 |  849 | -21 | DL |  479 | N3766  | JFK | ATL | 119 |  760 |  6 | 15 | 2013-12-31 06:00:00 |\n| 110549 | 2013 | 12 | 31 | 616 |  611 |   5 |  933 |  912 |  21 | B6 |  601 | N643JB | JFK | FLL | 173 | 1069 |  6 | 11 | 2013-12-31 06:00:00 |\n| 110550 | 2013 | 12 | 31 | 616 |  630 | -14 |  922 |  919 |   3 | B6 | 1099 | N563JB | LGA | MCO | 159 |  950 |  6 | 30 | 2013-12-31 06:00:00 |\n| ⋮ | ⋮ | ⋮ | ⋮ | ⋮ | ⋮ | ⋮ | ⋮ | ⋮ | ⋮ | ⋮ | ⋮ | ⋮ | ⋮ | ⋮ | ⋮ | ⋮ | ⋮ | ⋮ | ⋮ |\n| 111267 | 2013 | 12 | 31 | 2155 | 2039 |  76 |  253 | 2355 |  NA | B6 | 1205 | N627JB | JFK | PDX |  NA | 2454 | 20 | 39 | 2013-12-31 20:00:00 |\n| 111268 | 2013 | 12 | 31 | 2155 | 2150 |   5 |  110 |   51 |  19 | B6 | 1901 | N729JB | JFK | FLL | 164 | 1069 | 21 | 50 | 2013-12-31 21:00:00 |\n| 111269 | 2013 | 12 | 31 | 2159 | 2155 |   4 |   55 |   46 |   9 | B6 | 2053 | N593JB | JFK | PBI | 155 | 1028 | 21 | 55 | 2013-12-31 21:00:00 |\n| 111270 | 2013 | 12 | 31 | 2206 | 2110 |  56 |   44 | 2339 |  65 | B6 |  775 | N184JB | JFK | MSY | 195 | 1182 | 21 | 10 | 2013-12-31 21:00:00 |\n| 111271 | 2013 | 12 | 31 | 2211 | 2159 |  12 |  100 |   45 |  15 | B6 | 1183 | N715JB | JFK | MCO | 148 |  944 | 21 | 59 | 2013-12-31 21:00:00 |\n| 111272 | 2013 | 12 | 31 | 2218 | 2219 |  -1 |  315 |  304 |  11 | B6 | 1203 | N625JB | JFK | SJU | 202 | 1598 | 22 | 19 | 2013-12-31 22:00:00 |\n| 111273 | 2013 | 12 | 31 | 2235 | 2245 | -10 | 2351 | 2355 |  -4 | B6 |  234 | N355JB | JFK | BTV |  49 |  266 | 22 | 45 | 2013-12-31 22:00:00 |\n| 111274 | 2013 | 12 | 31 | 2245 | 2250 |  -5 | 2359 | 2356 |   3 | B6 | 1816 | N318JB | JFK | SYR |  51 |  209 | 22 | 50 | 2013-12-31 22:00:00 |\n| 111275 | 2013 | 12 | 31 | 2310 | 2255 |  15 |    7 | 2356 |  11 | B6 |  718 | N279JB | JFK | BOS |  40 |  187 | 22 | 55 | 2013-12-31 22:00:00 |\n| 111276 | 2013 | 12 | 31 | 2321 | 2250 |  31 |   46 |    8 |  38 | B6 | 2002 | N179JB | JFK | BUF |  66 |  301 | 22 | 50 | 2013-12-31 22:00:00 |\n| 111277 | 2013 | 12 | 31 | 2328 | 2330 |  -2 |  412 |  409 |   3 | B6 | 1389 | N651JB | EWR | SJU | 198 | 1608 | 23 | 30 | 2013-12-31 23:00:00 |\n| 111278 | 2013 | 12 | 31 | 2332 | 2245 |  47 |   58 |    3 |  55 | B6 |  486 | N334JB | JFK | ROC |  60 |  264 | 22 | 45 | 2013-12-31 22:00:00 |\n| 111279 | 2013 | 12 | 31 | 2355 | 2359 |  -4 |  430 |  440 | -10 | B6 | 1503 | N509JB | JFK | SJU | 195 | 1598 | 23 | 59 | 2013-12-31 23:00:00 |\n| 111280 | 2013 | 12 | 31 | 2356 | 2359 |  -3 |  436 |  445 |  -9 | B6 |  745 | N665JB | JFK | PSE | 200 | 1617 | 23 | 59 | 2013-12-31 23:00:00 |\n| 111281 | 2013 | 12 | 31 |   NA | 1520 |  NA |   NA | 1705 |  NA | AA |  341 | N568AA | LGA | ORD |  NA |  733 | 15 | 20 | 2013-12-31 15:00:00 |\n| 111282 | 2013 | 12 | 31 |   NA | 2025 |  NA |   NA | 2205 |  NA | AA |  371 | N482AA | LGA | ORD |  NA |  733 | 20 | 25 | 2013-12-31 20:00:00 |\n| 111283 | 2013 | 12 | 31 |   NA | 1932 |  NA |   NA | 2305 |  NA | B6 |  161 | N516JB | JFK | SMF |  NA | 2521 | 19 | 32 | 2013-12-31 19:00:00 |\n| 111284 | 2013 | 12 | 31 |   NA | 1505 |  NA |   NA | 1725 |  NA | EV | 4181 | N24103 | EWR | MCI |  NA | 1092 | 15 |  5 | 2013-12-31 15:00:00 |\n| 111285 | 2013 | 12 | 31 |   NA | 1000 |  NA |   NA | 1252 |  NA | UA | 1124 | NA     | EWR | EGE |  NA | 1725 | 10 |  0 | 2013-12-31 10:00:00 |\n| 111286 | 2013 | 12 | 31 |   NA |  840 |  NA |   NA | 1205 |  NA | UA | 1151 | NA     | EWR | SEA |  NA | 2402 |  8 | 40 | 2013-12-31 08:00:00 |\n| 111287 | 2013 | 12 | 31 |   NA |  754 |  NA |   NA | 1118 |  NA | UA | 1455 | NA     | EWR | LAX |  NA | 2454 |  7 | 54 | 2013-12-31 07:00:00 |\n| 111288 | 2013 | 12 | 31 |   NA | 2000 |  NA |   NA | 2146 |  NA | UA | 1482 | NA     | EWR | ORD |  NA |  719 | 20 |  0 | 2013-12-31 20:00:00 |\n| 111289 | 2013 | 12 | 31 |   NA | 1500 |  NA |   NA | 1817 |  NA | UA | 1483 | NA     | EWR | AUS |  NA | 1504 | 15 |  0 | 2013-12-31 15:00:00 |\n| 111290 | 2013 | 12 | 31 |   NA | 1430 |  NA |   NA | 1750 |  NA | UA | 1493 | NA     | EWR | LAX |  NA | 2454 | 14 | 30 | 2013-12-31 14:00:00 |\n| 111291 | 2013 | 12 | 31 |   NA |  855 |  NA |   NA | 1142 |  NA | UA | 1506 | NA     | EWR | JAC |  NA | 1874 |  8 | 55 | 2013-12-31 08:00:00 |\n| 111292 | 2013 | 12 | 31 |   NA |  705 |  NA |   NA |  931 |  NA | UA | 1729 | NA     | EWR | DEN |  NA | 1605 |  7 |  5 | 2013-12-31 07:00:00 |\n| 111293 | 2013 | 12 | 31 |   NA |  825 |  NA |   NA | 1029 |  NA | US | 1831 | NA     | JFK | CLT |  NA |  541 |  8 | 25 | 2013-12-31 08:00:00 |\n| 111294 | 2013 | 12 | 31 |   NA | 1615 |  NA |   NA | 1800 |  NA | MQ | 3301 | N844MQ | LGA | RDU |  NA |  431 | 16 | 15 | 2013-12-31 16:00:00 |\n| 111295 | 2013 | 12 | 31 |   NA |  600 |  NA |   NA |  735 |  NA | UA |  219 | NA     | EWR | ORD |  NA |  719 |  6 |  0 | 2013-12-31 06:00:00 |\n| 111296 | 2013 | 12 | 31 |   NA |  830 |  NA |   NA | 1154 |  NA | UA |  443 | NA     | JFK | LAX |  NA | 2475 |  8 | 30 | 2013-12-31 08:00:00 |\n\n",
            "text/latex": "A data.frame: 776 × 19\n\\begin{tabular}{r|lllllllllllllllllll}\n  & year & month & day & dep\\_time & sched\\_dep\\_time & dep\\_delay & arr\\_time & sched\\_arr\\_time & arr\\_delay & carrier & flight & tailnum & origin & dest & air\\_time & distance & hour & minute & time\\_hour\\\\\n  & <int> & <int> & <int> & <int> & <int> & <int> & <int> & <int> & <int> & <chr> & <int> & <chr> & <chr> & <chr> & <int> & <int> & <int> & <int> & <chr>\\\\\n\\hline\n\t110521 & 2013 & 12 & 31 &  13 & 2359 &  14 &  439 &  437 &   2 & B6 &  839 & N566JB & JFK & BQN & 189 & 1576 & 23 & 59 & 2013-12-31 23:00:00\\\\\n\t110522 & 2013 & 12 & 31 &  18 & 2359 &  19 &  449 &  444 &   5 & DL &  412 & N713TW & JFK & SJU & 192 & 1598 & 23 & 59 & 2013-12-31 23:00:00\\\\\n\t110523 & 2013 & 12 & 31 &  26 & 2245 & 101 &  129 & 2353 &  96 & B6 &  108 & N374JB & JFK & PWM &  50 &  273 & 22 & 45 & 2013-12-31 22:00:00\\\\\n\t110524 & 2013 & 12 & 31 & 459 &  500 &  -1 &  655 &  651 &   4 & US & 1895 & N557UW & EWR & CLT &  95 &  529 &  5 &  0 & 2013-12-31 05:00:00\\\\\n\t110525 & 2013 & 12 & 31 & 514 &  515 &  -1 &  814 &  812 &   2 & UA &  700 & N470UA & EWR & IAH & 223 & 1400 &  5 & 15 & 2013-12-31 05:00:00\\\\\n\t110526 & 2013 & 12 & 31 & 549 &  551 &  -2 &  925 &  900 &  25 & UA &  274 & N577UA & EWR & LAX & 346 & 2454 &  5 & 51 & 2013-12-31 05:00:00\\\\\n\t110527 & 2013 & 12 & 31 & 550 &  600 & -10 &  725 &  745 & -20 & AA &  301 & N3CXAA & LGA & ORD & 127 &  733 &  6 &  0 & 2013-12-31 06:00:00\\\\\n\t110528 & 2013 & 12 & 31 & 552 &  600 &  -8 &  811 &  826 & -15 & EV & 3825 & N14916 & EWR & IND & 118 &  645 &  6 &  0 & 2013-12-31 06:00:00\\\\\n\t110529 & 2013 & 12 & 31 & 553 &  600 &  -7 &  741 &  754 & -13 & DL &  731 & N333NB & LGA & DTW &  86 &  502 &  6 &  0 & 2013-12-31 06:00:00\\\\\n\t110530 & 2013 & 12 & 31 & 554 &  550 &   4 & 1024 & 1027 &  -3 & B6 &  939 & N552JB & JFK & BQN & 195 & 1576 &  5 & 50 & 2013-12-31 05:00:00\\\\\n\t110531 & 2013 & 12 & 31 & 555 &  600 &  -5 &  901 &  849 &  12 & B6 &  353 & N746JB & JFK & PBI & 167 & 1028 &  6 &  0 & 2013-12-31 06:00:00\\\\\n\t110532 & 2013 & 12 & 31 & 555 &  600 &  -5 &  835 &  831 &   4 & DL &  904 & N3741S & LGA & ATL & 137 &  762 &  6 &  0 & 2013-12-31 06:00:00\\\\\n\t110533 & 2013 & 12 & 31 & 555 &  551 &   4 &  853 &  851 &   2 & UA &  566 & N491UA & EWR & TPA & 164 &  997 &  5 & 51 & 2013-12-31 05:00:00\\\\\n\t110534 & 2013 & 12 & 31 & 556 &  600 &  -4 &  909 &  846 &  23 & B6 &  583 & N715JB & JFK & MCO & 162 &  944 &  6 &  0 & 2013-12-31 06:00:00\\\\\n\t110535 & 2013 & 12 & 31 & 556 &  605 &  -9 &  808 &  814 &  -6 & DL & 1919 & N958DL & LGA & MSP & 160 & 1020 &  6 &  5 & 2013-12-31 06:00:00\\\\\n\t110536 & 2013 & 12 & 31 & 557 &  603 &  -6 &  719 &  719 &   0 & EV & 4241 & N15574 & EWR & DCA &  45 &  199 &  6 &  3 & 2013-12-31 06:00:00\\\\\n\t110537 & 2013 & 12 & 31 & 558 &  600 &  -2 &  919 &  905 &  14 & AA & 1175 & N3JEAA & LGA & MIA & 173 & 1096 &  6 &  0 & 2013-12-31 06:00:00\\\\\n\t110538 & 2013 & 12 & 31 & 559 &  600 &  -1 &  917 &  855 &  22 & B6 &  605 & N597JB & EWR & FLL & 167 & 1065 &  6 &  0 & 2013-12-31 06:00:00\\\\\n\t110539 & 2013 & 12 & 31 & 600 &  540 &  20 &  928 &  850 &  38 & AA & 2243 & N5EMAA & JFK & MIA & 171 & 1089 &  5 & 40 & 2013-12-31 05:00:00\\\\\n\t110540 & 2013 & 12 & 31 & 602 &  605 &  -3 &  744 &  805 & -21 & DL & 2505 & N358NB & EWR & DTW &  87 &  488 &  6 &  5 & 2013-12-31 06:00:00\\\\\n\t110541 & 2013 & 12 & 31 & 602 &  605 &  -3 &  708 &  723 & -15 & EV & 6177 & N14543 & EWR & IAD &  45 &  212 &  6 &  5 & 2013-12-31 06:00:00\\\\\n\t110542 & 2013 & 12 & 31 & 603 &  611 &  -8 & 1045 & 1055 & -10 & B6 & 1403 & N547JB & JFK & SJU & 198 & 1598 &  6 & 11 & 2013-12-31 06:00:00\\\\\n\t110543 & 2013 & 12 & 31 & 607 &  600 &   7 &  848 &  825 &  23 & WN & 1716 & N7740A & LGA & ATL & 137 &  762 &  6 &  0 & 2013-12-31 06:00:00\\\\\n\t110544 & 2013 & 12 & 31 & 608 &  615 &  -7 &  812 &  818 &  -6 & US & 1963 & N192UW & EWR & CLT & 106 &  529 &  6 & 15 & 2013-12-31 06:00:00\\\\\n\t110545 & 2013 & 12 & 31 & 609 &  610 &  -1 &  911 &  915 &  -4 & AA & 1205 & N5DHAA & EWR & MIA & 163 & 1085 &  6 & 10 & 2013-12-31 06:00:00\\\\\n\t110546 & 2013 & 12 & 31 & 609 &  615 &  -6 &  848 &  850 &  -2 & DL &  404 & N392DA & JFK & ATL & 133 &  760 &  6 & 15 & 2013-12-31 06:00:00\\\\\n\t110547 & 2013 & 12 & 31 & 609 &  614 &  -5 &  755 &  751 &   4 & EV & 3812 & N13994 & EWR & RDU &  81 &  416 &  6 & 14 & 2013-12-31 06:00:00\\\\\n\t110548 & 2013 & 12 & 31 & 610 &  615 &  -5 &  828 &  849 & -21 & DL &  479 & N3766  & JFK & ATL & 119 &  760 &  6 & 15 & 2013-12-31 06:00:00\\\\\n\t110549 & 2013 & 12 & 31 & 616 &  611 &   5 &  933 &  912 &  21 & B6 &  601 & N643JB & JFK & FLL & 173 & 1069 &  6 & 11 & 2013-12-31 06:00:00\\\\\n\t110550 & 2013 & 12 & 31 & 616 &  630 & -14 &  922 &  919 &   3 & B6 & 1099 & N563JB & LGA & MCO & 159 &  950 &  6 & 30 & 2013-12-31 06:00:00\\\\\n\t⋮ & ⋮ & ⋮ & ⋮ & ⋮ & ⋮ & ⋮ & ⋮ & ⋮ & ⋮ & ⋮ & ⋮ & ⋮ & ⋮ & ⋮ & ⋮ & ⋮ & ⋮ & ⋮ & ⋮\\\\\n\t111267 & 2013 & 12 & 31 & 2155 & 2039 &  76 &  253 & 2355 &  NA & B6 & 1205 & N627JB & JFK & PDX &  NA & 2454 & 20 & 39 & 2013-12-31 20:00:00\\\\\n\t111268 & 2013 & 12 & 31 & 2155 & 2150 &   5 &  110 &   51 &  19 & B6 & 1901 & N729JB & JFK & FLL & 164 & 1069 & 21 & 50 & 2013-12-31 21:00:00\\\\\n\t111269 & 2013 & 12 & 31 & 2159 & 2155 &   4 &   55 &   46 &   9 & B6 & 2053 & N593JB & JFK & PBI & 155 & 1028 & 21 & 55 & 2013-12-31 21:00:00\\\\\n\t111270 & 2013 & 12 & 31 & 2206 & 2110 &  56 &   44 & 2339 &  65 & B6 &  775 & N184JB & JFK & MSY & 195 & 1182 & 21 & 10 & 2013-12-31 21:00:00\\\\\n\t111271 & 2013 & 12 & 31 & 2211 & 2159 &  12 &  100 &   45 &  15 & B6 & 1183 & N715JB & JFK & MCO & 148 &  944 & 21 & 59 & 2013-12-31 21:00:00\\\\\n\t111272 & 2013 & 12 & 31 & 2218 & 2219 &  -1 &  315 &  304 &  11 & B6 & 1203 & N625JB & JFK & SJU & 202 & 1598 & 22 & 19 & 2013-12-31 22:00:00\\\\\n\t111273 & 2013 & 12 & 31 & 2235 & 2245 & -10 & 2351 & 2355 &  -4 & B6 &  234 & N355JB & JFK & BTV &  49 &  266 & 22 & 45 & 2013-12-31 22:00:00\\\\\n\t111274 & 2013 & 12 & 31 & 2245 & 2250 &  -5 & 2359 & 2356 &   3 & B6 & 1816 & N318JB & JFK & SYR &  51 &  209 & 22 & 50 & 2013-12-31 22:00:00\\\\\n\t111275 & 2013 & 12 & 31 & 2310 & 2255 &  15 &    7 & 2356 &  11 & B6 &  718 & N279JB & JFK & BOS &  40 &  187 & 22 & 55 & 2013-12-31 22:00:00\\\\\n\t111276 & 2013 & 12 & 31 & 2321 & 2250 &  31 &   46 &    8 &  38 & B6 & 2002 & N179JB & JFK & BUF &  66 &  301 & 22 & 50 & 2013-12-31 22:00:00\\\\\n\t111277 & 2013 & 12 & 31 & 2328 & 2330 &  -2 &  412 &  409 &   3 & B6 & 1389 & N651JB & EWR & SJU & 198 & 1608 & 23 & 30 & 2013-12-31 23:00:00\\\\\n\t111278 & 2013 & 12 & 31 & 2332 & 2245 &  47 &   58 &    3 &  55 & B6 &  486 & N334JB & JFK & ROC &  60 &  264 & 22 & 45 & 2013-12-31 22:00:00\\\\\n\t111279 & 2013 & 12 & 31 & 2355 & 2359 &  -4 &  430 &  440 & -10 & B6 & 1503 & N509JB & JFK & SJU & 195 & 1598 & 23 & 59 & 2013-12-31 23:00:00\\\\\n\t111280 & 2013 & 12 & 31 & 2356 & 2359 &  -3 &  436 &  445 &  -9 & B6 &  745 & N665JB & JFK & PSE & 200 & 1617 & 23 & 59 & 2013-12-31 23:00:00\\\\\n\t111281 & 2013 & 12 & 31 &   NA & 1520 &  NA &   NA & 1705 &  NA & AA &  341 & N568AA & LGA & ORD &  NA &  733 & 15 & 20 & 2013-12-31 15:00:00\\\\\n\t111282 & 2013 & 12 & 31 &   NA & 2025 &  NA &   NA & 2205 &  NA & AA &  371 & N482AA & LGA & ORD &  NA &  733 & 20 & 25 & 2013-12-31 20:00:00\\\\\n\t111283 & 2013 & 12 & 31 &   NA & 1932 &  NA &   NA & 2305 &  NA & B6 &  161 & N516JB & JFK & SMF &  NA & 2521 & 19 & 32 & 2013-12-31 19:00:00\\\\\n\t111284 & 2013 & 12 & 31 &   NA & 1505 &  NA &   NA & 1725 &  NA & EV & 4181 & N24103 & EWR & MCI &  NA & 1092 & 15 &  5 & 2013-12-31 15:00:00\\\\\n\t111285 & 2013 & 12 & 31 &   NA & 1000 &  NA &   NA & 1252 &  NA & UA & 1124 & NA     & EWR & EGE &  NA & 1725 & 10 &  0 & 2013-12-31 10:00:00\\\\\n\t111286 & 2013 & 12 & 31 &   NA &  840 &  NA &   NA & 1205 &  NA & UA & 1151 & NA     & EWR & SEA &  NA & 2402 &  8 & 40 & 2013-12-31 08:00:00\\\\\n\t111287 & 2013 & 12 & 31 &   NA &  754 &  NA &   NA & 1118 &  NA & UA & 1455 & NA     & EWR & LAX &  NA & 2454 &  7 & 54 & 2013-12-31 07:00:00\\\\\n\t111288 & 2013 & 12 & 31 &   NA & 2000 &  NA &   NA & 2146 &  NA & UA & 1482 & NA     & EWR & ORD &  NA &  719 & 20 &  0 & 2013-12-31 20:00:00\\\\\n\t111289 & 2013 & 12 & 31 &   NA & 1500 &  NA &   NA & 1817 &  NA & UA & 1483 & NA     & EWR & AUS &  NA & 1504 & 15 &  0 & 2013-12-31 15:00:00\\\\\n\t111290 & 2013 & 12 & 31 &   NA & 1430 &  NA &   NA & 1750 &  NA & UA & 1493 & NA     & EWR & LAX &  NA & 2454 & 14 & 30 & 2013-12-31 14:00:00\\\\\n\t111291 & 2013 & 12 & 31 &   NA &  855 &  NA &   NA & 1142 &  NA & UA & 1506 & NA     & EWR & JAC &  NA & 1874 &  8 & 55 & 2013-12-31 08:00:00\\\\\n\t111292 & 2013 & 12 & 31 &   NA &  705 &  NA &   NA &  931 &  NA & UA & 1729 & NA     & EWR & DEN &  NA & 1605 &  7 &  5 & 2013-12-31 07:00:00\\\\\n\t111293 & 2013 & 12 & 31 &   NA &  825 &  NA &   NA & 1029 &  NA & US & 1831 & NA     & JFK & CLT &  NA &  541 &  8 & 25 & 2013-12-31 08:00:00\\\\\n\t111294 & 2013 & 12 & 31 &   NA & 1615 &  NA &   NA & 1800 &  NA & MQ & 3301 & N844MQ & LGA & RDU &  NA &  431 & 16 & 15 & 2013-12-31 16:00:00\\\\\n\t111295 & 2013 & 12 & 31 &   NA &  600 &  NA &   NA &  735 &  NA & UA &  219 & NA     & EWR & ORD &  NA &  719 &  6 &  0 & 2013-12-31 06:00:00\\\\\n\t111296 & 2013 & 12 & 31 &   NA &  830 &  NA &   NA & 1154 &  NA & UA &  443 & NA     & JFK & LAX &  NA & 2475 &  8 & 30 & 2013-12-31 08:00:00\\\\\n\\end{tabular}\n",
            "text/plain": [
              "       year month day dep_time sched_dep_time dep_delay arr_time sched_arr_time\n",
              "110521 2013 12    31   13      2359            14        439      437          \n",
              "110522 2013 12    31   18      2359            19        449      444          \n",
              "110523 2013 12    31   26      2245           101        129     2353          \n",
              "110524 2013 12    31  459       500            -1        655      651          \n",
              "110525 2013 12    31  514       515            -1        814      812          \n",
              "110526 2013 12    31  549       551            -2        925      900          \n",
              "110527 2013 12    31  550       600           -10        725      745          \n",
              "110528 2013 12    31  552       600            -8        811      826          \n",
              "110529 2013 12    31  553       600            -7        741      754          \n",
              "110530 2013 12    31  554       550             4       1024     1027          \n",
              "110531 2013 12    31  555       600            -5        901      849          \n",
              "110532 2013 12    31  555       600            -5        835      831          \n",
              "110533 2013 12    31  555       551             4        853      851          \n",
              "110534 2013 12    31  556       600            -4        909      846          \n",
              "110535 2013 12    31  556       605            -9        808      814          \n",
              "110536 2013 12    31  557       603            -6        719      719          \n",
              "110537 2013 12    31  558       600            -2        919      905          \n",
              "110538 2013 12    31  559       600            -1        917      855          \n",
              "110539 2013 12    31  600       540            20        928      850          \n",
              "110540 2013 12    31  602       605            -3        744      805          \n",
              "110541 2013 12    31  602       605            -3        708      723          \n",
              "110542 2013 12    31  603       611            -8       1045     1055          \n",
              "110543 2013 12    31  607       600             7        848      825          \n",
              "110544 2013 12    31  608       615            -7        812      818          \n",
              "110545 2013 12    31  609       610            -1        911      915          \n",
              "110546 2013 12    31  609       615            -6        848      850          \n",
              "110547 2013 12    31  609       614            -5        755      751          \n",
              "110548 2013 12    31  610       615            -5        828      849          \n",
              "110549 2013 12    31  616       611             5        933      912          \n",
              "110550 2013 12    31  616       630           -14        922      919          \n",
              "⋮      ⋮    ⋮     ⋮   ⋮        ⋮              ⋮         ⋮        ⋮             \n",
              "111267 2013 12    31  2155     2039            76        253     2355          \n",
              "111268 2013 12    31  2155     2150             5        110       51          \n",
              "111269 2013 12    31  2159     2155             4         55       46          \n",
              "111270 2013 12    31  2206     2110            56         44     2339          \n",
              "111271 2013 12    31  2211     2159            12        100       45          \n",
              "111272 2013 12    31  2218     2219            -1        315      304          \n",
              "111273 2013 12    31  2235     2245           -10       2351     2355          \n",
              "111274 2013 12    31  2245     2250            -5       2359     2356          \n",
              "111275 2013 12    31  2310     2255            15          7     2356          \n",
              "111276 2013 12    31  2321     2250            31         46        8          \n",
              "111277 2013 12    31  2328     2330            -2        412      409          \n",
              "111278 2013 12    31  2332     2245            47         58        3          \n",
              "111279 2013 12    31  2355     2359            -4        430      440          \n",
              "111280 2013 12    31  2356     2359            -3        436      445          \n",
              "111281 2013 12    31    NA     1520            NA         NA     1705          \n",
              "111282 2013 12    31    NA     2025            NA         NA     2205          \n",
              "111283 2013 12    31    NA     1932            NA         NA     2305          \n",
              "111284 2013 12    31    NA     1505            NA         NA     1725          \n",
              "111285 2013 12    31    NA     1000            NA         NA     1252          \n",
              "111286 2013 12    31    NA      840            NA         NA     1205          \n",
              "111287 2013 12    31    NA      754            NA         NA     1118          \n",
              "111288 2013 12    31    NA     2000            NA         NA     2146          \n",
              "111289 2013 12    31    NA     1500            NA         NA     1817          \n",
              "111290 2013 12    31    NA     1430            NA         NA     1750          \n",
              "111291 2013 12    31    NA      855            NA         NA     1142          \n",
              "111292 2013 12    31    NA      705            NA         NA      931          \n",
              "111293 2013 12    31    NA      825            NA         NA     1029          \n",
              "111294 2013 12    31    NA     1615            NA         NA     1800          \n",
              "111295 2013 12    31    NA      600            NA         NA      735          \n",
              "111296 2013 12    31    NA      830            NA         NA     1154          \n",
              "       arr_delay carrier flight tailnum origin dest air_time distance hour\n",
              "110521   2       B6       839   N566JB  JFK    BQN  189      1576     23  \n",
              "110522   5       DL       412   N713TW  JFK    SJU  192      1598     23  \n",
              "110523  96       B6       108   N374JB  JFK    PWM   50       273     22  \n",
              "110524   4       US      1895   N557UW  EWR    CLT   95       529      5  \n",
              "110525   2       UA       700   N470UA  EWR    IAH  223      1400      5  \n",
              "110526  25       UA       274   N577UA  EWR    LAX  346      2454      5  \n",
              "110527 -20       AA       301   N3CXAA  LGA    ORD  127       733      6  \n",
              "110528 -15       EV      3825   N14916  EWR    IND  118       645      6  \n",
              "110529 -13       DL       731   N333NB  LGA    DTW   86       502      6  \n",
              "110530  -3       B6       939   N552JB  JFK    BQN  195      1576      5  \n",
              "110531  12       B6       353   N746JB  JFK    PBI  167      1028      6  \n",
              "110532   4       DL       904   N3741S  LGA    ATL  137       762      6  \n",
              "110533   2       UA       566   N491UA  EWR    TPA  164       997      5  \n",
              "110534  23       B6       583   N715JB  JFK    MCO  162       944      6  \n",
              "110535  -6       DL      1919   N958DL  LGA    MSP  160      1020      6  \n",
              "110536   0       EV      4241   N15574  EWR    DCA   45       199      6  \n",
              "110537  14       AA      1175   N3JEAA  LGA    MIA  173      1096      6  \n",
              "110538  22       B6       605   N597JB  EWR    FLL  167      1065      6  \n",
              "110539  38       AA      2243   N5EMAA  JFK    MIA  171      1089      5  \n",
              "110540 -21       DL      2505   N358NB  EWR    DTW   87       488      6  \n",
              "110541 -15       EV      6177   N14543  EWR    IAD   45       212      6  \n",
              "110542 -10       B6      1403   N547JB  JFK    SJU  198      1598      6  \n",
              "110543  23       WN      1716   N7740A  LGA    ATL  137       762      6  \n",
              "110544  -6       US      1963   N192UW  EWR    CLT  106       529      6  \n",
              "110545  -4       AA      1205   N5DHAA  EWR    MIA  163      1085      6  \n",
              "110546  -2       DL       404   N392DA  JFK    ATL  133       760      6  \n",
              "110547   4       EV      3812   N13994  EWR    RDU   81       416      6  \n",
              "110548 -21       DL       479   N3766   JFK    ATL  119       760      6  \n",
              "110549  21       B6       601   N643JB  JFK    FLL  173      1069      6  \n",
              "110550   3       B6      1099   N563JB  LGA    MCO  159       950      6  \n",
              "⋮      ⋮         ⋮       ⋮      ⋮       ⋮      ⋮    ⋮        ⋮        ⋮   \n",
              "111267  NA       B6      1205   N627JB  JFK    PDX   NA      2454     20  \n",
              "111268  19       B6      1901   N729JB  JFK    FLL  164      1069     21  \n",
              "111269   9       B6      2053   N593JB  JFK    PBI  155      1028     21  \n",
              "111270  65       B6       775   N184JB  JFK    MSY  195      1182     21  \n",
              "111271  15       B6      1183   N715JB  JFK    MCO  148       944     21  \n",
              "111272  11       B6      1203   N625JB  JFK    SJU  202      1598     22  \n",
              "111273  -4       B6       234   N355JB  JFK    BTV   49       266     22  \n",
              "111274   3       B6      1816   N318JB  JFK    SYR   51       209     22  \n",
              "111275  11       B6       718   N279JB  JFK    BOS   40       187     22  \n",
              "111276  38       B6      2002   N179JB  JFK    BUF   66       301     22  \n",
              "111277   3       B6      1389   N651JB  EWR    SJU  198      1608     23  \n",
              "111278  55       B6       486   N334JB  JFK    ROC   60       264     22  \n",
              "111279 -10       B6      1503   N509JB  JFK    SJU  195      1598     23  \n",
              "111280  -9       B6       745   N665JB  JFK    PSE  200      1617     23  \n",
              "111281  NA       AA       341   N568AA  LGA    ORD   NA       733     15  \n",
              "111282  NA       AA       371   N482AA  LGA    ORD   NA       733     20  \n",
              "111283  NA       B6       161   N516JB  JFK    SMF   NA      2521     19  \n",
              "111284  NA       EV      4181   N24103  EWR    MCI   NA      1092     15  \n",
              "111285  NA       UA      1124   NA      EWR    EGE   NA      1725     10  \n",
              "111286  NA       UA      1151   NA      EWR    SEA   NA      2402      8  \n",
              "111287  NA       UA      1455   NA      EWR    LAX   NA      2454      7  \n",
              "111288  NA       UA      1482   NA      EWR    ORD   NA       719     20  \n",
              "111289  NA       UA      1483   NA      EWR    AUS   NA      1504     15  \n",
              "111290  NA       UA      1493   NA      EWR    LAX   NA      2454     14  \n",
              "111291  NA       UA      1506   NA      EWR    JAC   NA      1874      8  \n",
              "111292  NA       UA      1729   NA      EWR    DEN   NA      1605      7  \n",
              "111293  NA       US      1831   NA      JFK    CLT   NA       541      8  \n",
              "111294  NA       MQ      3301   N844MQ  LGA    RDU   NA       431     16  \n",
              "111295  NA       UA       219   NA      EWR    ORD   NA       719      6  \n",
              "111296  NA       UA       443   NA      JFK    LAX   NA      2475      8  \n",
              "       minute time_hour          \n",
              "110521 59     2013-12-31 23:00:00\n",
              "110522 59     2013-12-31 23:00:00\n",
              "110523 45     2013-12-31 22:00:00\n",
              "110524  0     2013-12-31 05:00:00\n",
              "110525 15     2013-12-31 05:00:00\n",
              "110526 51     2013-12-31 05:00:00\n",
              "110527  0     2013-12-31 06:00:00\n",
              "110528  0     2013-12-31 06:00:00\n",
              "110529  0     2013-12-31 06:00:00\n",
              "110530 50     2013-12-31 05:00:00\n",
              "110531  0     2013-12-31 06:00:00\n",
              "110532  0     2013-12-31 06:00:00\n",
              "110533 51     2013-12-31 05:00:00\n",
              "110534  0     2013-12-31 06:00:00\n",
              "110535  5     2013-12-31 06:00:00\n",
              "110536  3     2013-12-31 06:00:00\n",
              "110537  0     2013-12-31 06:00:00\n",
              "110538  0     2013-12-31 06:00:00\n",
              "110539 40     2013-12-31 05:00:00\n",
              "110540  5     2013-12-31 06:00:00\n",
              "110541  5     2013-12-31 06:00:00\n",
              "110542 11     2013-12-31 06:00:00\n",
              "110543  0     2013-12-31 06:00:00\n",
              "110544 15     2013-12-31 06:00:00\n",
              "110545 10     2013-12-31 06:00:00\n",
              "110546 15     2013-12-31 06:00:00\n",
              "110547 14     2013-12-31 06:00:00\n",
              "110548 15     2013-12-31 06:00:00\n",
              "110549 11     2013-12-31 06:00:00\n",
              "110550 30     2013-12-31 06:00:00\n",
              "⋮      ⋮      ⋮                  \n",
              "111267 39     2013-12-31 20:00:00\n",
              "111268 50     2013-12-31 21:00:00\n",
              "111269 55     2013-12-31 21:00:00\n",
              "111270 10     2013-12-31 21:00:00\n",
              "111271 59     2013-12-31 21:00:00\n",
              "111272 19     2013-12-31 22:00:00\n",
              "111273 45     2013-12-31 22:00:00\n",
              "111274 50     2013-12-31 22:00:00\n",
              "111275 55     2013-12-31 22:00:00\n",
              "111276 50     2013-12-31 22:00:00\n",
              "111277 30     2013-12-31 23:00:00\n",
              "111278 45     2013-12-31 22:00:00\n",
              "111279 59     2013-12-31 23:00:00\n",
              "111280 59     2013-12-31 23:00:00\n",
              "111281 20     2013-12-31 15:00:00\n",
              "111282 25     2013-12-31 20:00:00\n",
              "111283 32     2013-12-31 19:00:00\n",
              "111284  5     2013-12-31 15:00:00\n",
              "111285  0     2013-12-31 10:00:00\n",
              "111286 40     2013-12-31 08:00:00\n",
              "111287 54     2013-12-31 07:00:00\n",
              "111288  0     2013-12-31 20:00:00\n",
              "111289  0     2013-12-31 15:00:00\n",
              "111290 30     2013-12-31 14:00:00\n",
              "111291 55     2013-12-31 08:00:00\n",
              "111292  5     2013-12-31 07:00:00\n",
              "111293 25     2013-12-31 08:00:00\n",
              "111294 15     2013-12-31 16:00:00\n",
              "111295  0     2013-12-31 06:00:00\n",
              "111296 30     2013-12-31 08:00:00"
            ]
          },
          "metadata": {}
        }
      ]
    },
    {
      "cell_type": "code",
      "source": [
        "# Ahora\n",
        "filter(vuelos, month == 12 & day == 31)\n"
      ],
      "metadata": {
        "id": "PlDHOdjTgRyd",
        "outputId": "57c74837-42b1-43e8-e499-5077ba237c3c",
        "colab": {
          "base_uri": "https://localhost:8080/",
          "height": 1000
        }
      },
      "execution_count": null,
      "outputs": [
        {
          "output_type": "display_data",
          "data": {
            "text/html": [
              "<table class=\"dataframe\">\n",
              "<caption>A data.frame: 776 × 19</caption>\n",
              "<thead>\n",
              "\t<tr><th scope=col>year</th><th scope=col>month</th><th scope=col>day</th><th scope=col>dep_time</th><th scope=col>sched_dep_time</th><th scope=col>dep_delay</th><th scope=col>arr_time</th><th scope=col>sched_arr_time</th><th scope=col>arr_delay</th><th scope=col>carrier</th><th scope=col>flight</th><th scope=col>tailnum</th><th scope=col>origin</th><th scope=col>dest</th><th scope=col>air_time</th><th scope=col>distance</th><th scope=col>hour</th><th scope=col>minute</th><th scope=col>time_hour</th></tr>\n",
              "\t<tr><th scope=col>&lt;int&gt;</th><th scope=col>&lt;int&gt;</th><th scope=col>&lt;int&gt;</th><th scope=col>&lt;int&gt;</th><th scope=col>&lt;int&gt;</th><th scope=col>&lt;int&gt;</th><th scope=col>&lt;int&gt;</th><th scope=col>&lt;int&gt;</th><th scope=col>&lt;int&gt;</th><th scope=col>&lt;chr&gt;</th><th scope=col>&lt;int&gt;</th><th scope=col>&lt;chr&gt;</th><th scope=col>&lt;chr&gt;</th><th scope=col>&lt;chr&gt;</th><th scope=col>&lt;int&gt;</th><th scope=col>&lt;int&gt;</th><th scope=col>&lt;int&gt;</th><th scope=col>&lt;int&gt;</th><th scope=col>&lt;chr&gt;</th></tr>\n",
              "</thead>\n",
              "<tbody>\n",
              "\t<tr><td>2013</td><td>12</td><td>31</td><td> 13</td><td>2359</td><td> 14</td><td> 439</td><td> 437</td><td>  2</td><td>B6</td><td> 839</td><td>N566JB</td><td>JFK</td><td>BQN</td><td>189</td><td>1576</td><td>23</td><td>59</td><td>2013-12-31 23:00:00</td></tr>\n",
              "\t<tr><td>2013</td><td>12</td><td>31</td><td> 18</td><td>2359</td><td> 19</td><td> 449</td><td> 444</td><td>  5</td><td>DL</td><td> 412</td><td>N713TW</td><td>JFK</td><td>SJU</td><td>192</td><td>1598</td><td>23</td><td>59</td><td>2013-12-31 23:00:00</td></tr>\n",
              "\t<tr><td>2013</td><td>12</td><td>31</td><td> 26</td><td>2245</td><td>101</td><td> 129</td><td>2353</td><td> 96</td><td>B6</td><td> 108</td><td>N374JB</td><td>JFK</td><td>PWM</td><td> 50</td><td> 273</td><td>22</td><td>45</td><td>2013-12-31 22:00:00</td></tr>\n",
              "\t<tr><td>2013</td><td>12</td><td>31</td><td>459</td><td> 500</td><td> -1</td><td> 655</td><td> 651</td><td>  4</td><td>US</td><td>1895</td><td>N557UW</td><td>EWR</td><td>CLT</td><td> 95</td><td> 529</td><td> 5</td><td> 0</td><td>2013-12-31 05:00:00</td></tr>\n",
              "\t<tr><td>2013</td><td>12</td><td>31</td><td>514</td><td> 515</td><td> -1</td><td> 814</td><td> 812</td><td>  2</td><td>UA</td><td> 700</td><td>N470UA</td><td>EWR</td><td>IAH</td><td>223</td><td>1400</td><td> 5</td><td>15</td><td>2013-12-31 05:00:00</td></tr>\n",
              "\t<tr><td>2013</td><td>12</td><td>31</td><td>549</td><td> 551</td><td> -2</td><td> 925</td><td> 900</td><td> 25</td><td>UA</td><td> 274</td><td>N577UA</td><td>EWR</td><td>LAX</td><td>346</td><td>2454</td><td> 5</td><td>51</td><td>2013-12-31 05:00:00</td></tr>\n",
              "\t<tr><td>2013</td><td>12</td><td>31</td><td>550</td><td> 600</td><td>-10</td><td> 725</td><td> 745</td><td>-20</td><td>AA</td><td> 301</td><td>N3CXAA</td><td>LGA</td><td>ORD</td><td>127</td><td> 733</td><td> 6</td><td> 0</td><td>2013-12-31 06:00:00</td></tr>\n",
              "\t<tr><td>2013</td><td>12</td><td>31</td><td>552</td><td> 600</td><td> -8</td><td> 811</td><td> 826</td><td>-15</td><td>EV</td><td>3825</td><td>N14916</td><td>EWR</td><td>IND</td><td>118</td><td> 645</td><td> 6</td><td> 0</td><td>2013-12-31 06:00:00</td></tr>\n",
              "\t<tr><td>2013</td><td>12</td><td>31</td><td>553</td><td> 600</td><td> -7</td><td> 741</td><td> 754</td><td>-13</td><td>DL</td><td> 731</td><td>N333NB</td><td>LGA</td><td>DTW</td><td> 86</td><td> 502</td><td> 6</td><td> 0</td><td>2013-12-31 06:00:00</td></tr>\n",
              "\t<tr><td>2013</td><td>12</td><td>31</td><td>554</td><td> 550</td><td>  4</td><td>1024</td><td>1027</td><td> -3</td><td>B6</td><td> 939</td><td>N552JB</td><td>JFK</td><td>BQN</td><td>195</td><td>1576</td><td> 5</td><td>50</td><td>2013-12-31 05:00:00</td></tr>\n",
              "\t<tr><td>2013</td><td>12</td><td>31</td><td>555</td><td> 600</td><td> -5</td><td> 901</td><td> 849</td><td> 12</td><td>B6</td><td> 353</td><td>N746JB</td><td>JFK</td><td>PBI</td><td>167</td><td>1028</td><td> 6</td><td> 0</td><td>2013-12-31 06:00:00</td></tr>\n",
              "\t<tr><td>2013</td><td>12</td><td>31</td><td>555</td><td> 600</td><td> -5</td><td> 835</td><td> 831</td><td>  4</td><td>DL</td><td> 904</td><td>N3741S</td><td>LGA</td><td>ATL</td><td>137</td><td> 762</td><td> 6</td><td> 0</td><td>2013-12-31 06:00:00</td></tr>\n",
              "\t<tr><td>2013</td><td>12</td><td>31</td><td>555</td><td> 551</td><td>  4</td><td> 853</td><td> 851</td><td>  2</td><td>UA</td><td> 566</td><td>N491UA</td><td>EWR</td><td>TPA</td><td>164</td><td> 997</td><td> 5</td><td>51</td><td>2013-12-31 05:00:00</td></tr>\n",
              "\t<tr><td>2013</td><td>12</td><td>31</td><td>556</td><td> 600</td><td> -4</td><td> 909</td><td> 846</td><td> 23</td><td>B6</td><td> 583</td><td>N715JB</td><td>JFK</td><td>MCO</td><td>162</td><td> 944</td><td> 6</td><td> 0</td><td>2013-12-31 06:00:00</td></tr>\n",
              "\t<tr><td>2013</td><td>12</td><td>31</td><td>556</td><td> 605</td><td> -9</td><td> 808</td><td> 814</td><td> -6</td><td>DL</td><td>1919</td><td>N958DL</td><td>LGA</td><td>MSP</td><td>160</td><td>1020</td><td> 6</td><td> 5</td><td>2013-12-31 06:00:00</td></tr>\n",
              "\t<tr><td>2013</td><td>12</td><td>31</td><td>557</td><td> 603</td><td> -6</td><td> 719</td><td> 719</td><td>  0</td><td>EV</td><td>4241</td><td>N15574</td><td>EWR</td><td>DCA</td><td> 45</td><td> 199</td><td> 6</td><td> 3</td><td>2013-12-31 06:00:00</td></tr>\n",
              "\t<tr><td>2013</td><td>12</td><td>31</td><td>558</td><td> 600</td><td> -2</td><td> 919</td><td> 905</td><td> 14</td><td>AA</td><td>1175</td><td>N3JEAA</td><td>LGA</td><td>MIA</td><td>173</td><td>1096</td><td> 6</td><td> 0</td><td>2013-12-31 06:00:00</td></tr>\n",
              "\t<tr><td>2013</td><td>12</td><td>31</td><td>559</td><td> 600</td><td> -1</td><td> 917</td><td> 855</td><td> 22</td><td>B6</td><td> 605</td><td>N597JB</td><td>EWR</td><td>FLL</td><td>167</td><td>1065</td><td> 6</td><td> 0</td><td>2013-12-31 06:00:00</td></tr>\n",
              "\t<tr><td>2013</td><td>12</td><td>31</td><td>600</td><td> 540</td><td> 20</td><td> 928</td><td> 850</td><td> 38</td><td>AA</td><td>2243</td><td>N5EMAA</td><td>JFK</td><td>MIA</td><td>171</td><td>1089</td><td> 5</td><td>40</td><td>2013-12-31 05:00:00</td></tr>\n",
              "\t<tr><td>2013</td><td>12</td><td>31</td><td>602</td><td> 605</td><td> -3</td><td> 744</td><td> 805</td><td>-21</td><td>DL</td><td>2505</td><td>N358NB</td><td>EWR</td><td>DTW</td><td> 87</td><td> 488</td><td> 6</td><td> 5</td><td>2013-12-31 06:00:00</td></tr>\n",
              "\t<tr><td>2013</td><td>12</td><td>31</td><td>602</td><td> 605</td><td> -3</td><td> 708</td><td> 723</td><td>-15</td><td>EV</td><td>6177</td><td>N14543</td><td>EWR</td><td>IAD</td><td> 45</td><td> 212</td><td> 6</td><td> 5</td><td>2013-12-31 06:00:00</td></tr>\n",
              "\t<tr><td>2013</td><td>12</td><td>31</td><td>603</td><td> 611</td><td> -8</td><td>1045</td><td>1055</td><td>-10</td><td>B6</td><td>1403</td><td>N547JB</td><td>JFK</td><td>SJU</td><td>198</td><td>1598</td><td> 6</td><td>11</td><td>2013-12-31 06:00:00</td></tr>\n",
              "\t<tr><td>2013</td><td>12</td><td>31</td><td>607</td><td> 600</td><td>  7</td><td> 848</td><td> 825</td><td> 23</td><td>WN</td><td>1716</td><td>N7740A</td><td>LGA</td><td>ATL</td><td>137</td><td> 762</td><td> 6</td><td> 0</td><td>2013-12-31 06:00:00</td></tr>\n",
              "\t<tr><td>2013</td><td>12</td><td>31</td><td>608</td><td> 615</td><td> -7</td><td> 812</td><td> 818</td><td> -6</td><td>US</td><td>1963</td><td>N192UW</td><td>EWR</td><td>CLT</td><td>106</td><td> 529</td><td> 6</td><td>15</td><td>2013-12-31 06:00:00</td></tr>\n",
              "\t<tr><td>2013</td><td>12</td><td>31</td><td>609</td><td> 610</td><td> -1</td><td> 911</td><td> 915</td><td> -4</td><td>AA</td><td>1205</td><td>N5DHAA</td><td>EWR</td><td>MIA</td><td>163</td><td>1085</td><td> 6</td><td>10</td><td>2013-12-31 06:00:00</td></tr>\n",
              "\t<tr><td>2013</td><td>12</td><td>31</td><td>609</td><td> 615</td><td> -6</td><td> 848</td><td> 850</td><td> -2</td><td>DL</td><td> 404</td><td>N392DA</td><td>JFK</td><td>ATL</td><td>133</td><td> 760</td><td> 6</td><td>15</td><td>2013-12-31 06:00:00</td></tr>\n",
              "\t<tr><td>2013</td><td>12</td><td>31</td><td>609</td><td> 614</td><td> -5</td><td> 755</td><td> 751</td><td>  4</td><td>EV</td><td>3812</td><td>N13994</td><td>EWR</td><td>RDU</td><td> 81</td><td> 416</td><td> 6</td><td>14</td><td>2013-12-31 06:00:00</td></tr>\n",
              "\t<tr><td>2013</td><td>12</td><td>31</td><td>610</td><td> 615</td><td> -5</td><td> 828</td><td> 849</td><td>-21</td><td>DL</td><td> 479</td><td>N3766 </td><td>JFK</td><td>ATL</td><td>119</td><td> 760</td><td> 6</td><td>15</td><td>2013-12-31 06:00:00</td></tr>\n",
              "\t<tr><td>2013</td><td>12</td><td>31</td><td>616</td><td> 611</td><td>  5</td><td> 933</td><td> 912</td><td> 21</td><td>B6</td><td> 601</td><td>N643JB</td><td>JFK</td><td>FLL</td><td>173</td><td>1069</td><td> 6</td><td>11</td><td>2013-12-31 06:00:00</td></tr>\n",
              "\t<tr><td>2013</td><td>12</td><td>31</td><td>616</td><td> 630</td><td>-14</td><td> 922</td><td> 919</td><td>  3</td><td>B6</td><td>1099</td><td>N563JB</td><td>LGA</td><td>MCO</td><td>159</td><td> 950</td><td> 6</td><td>30</td><td>2013-12-31 06:00:00</td></tr>\n",
              "\t<tr><td>⋮</td><td>⋮</td><td>⋮</td><td>⋮</td><td>⋮</td><td>⋮</td><td>⋮</td><td>⋮</td><td>⋮</td><td>⋮</td><td>⋮</td><td>⋮</td><td>⋮</td><td>⋮</td><td>⋮</td><td>⋮</td><td>⋮</td><td>⋮</td><td>⋮</td></tr>\n",
              "\t<tr><td>2013</td><td>12</td><td>31</td><td>2155</td><td>2039</td><td> 76</td><td> 253</td><td>2355</td><td> NA</td><td>B6</td><td>1205</td><td>N627JB</td><td>JFK</td><td>PDX</td><td> NA</td><td>2454</td><td>20</td><td>39</td><td>2013-12-31 20:00:00</td></tr>\n",
              "\t<tr><td>2013</td><td>12</td><td>31</td><td>2155</td><td>2150</td><td>  5</td><td> 110</td><td>  51</td><td> 19</td><td>B6</td><td>1901</td><td>N729JB</td><td>JFK</td><td>FLL</td><td>164</td><td>1069</td><td>21</td><td>50</td><td>2013-12-31 21:00:00</td></tr>\n",
              "\t<tr><td>2013</td><td>12</td><td>31</td><td>2159</td><td>2155</td><td>  4</td><td>  55</td><td>  46</td><td>  9</td><td>B6</td><td>2053</td><td>N593JB</td><td>JFK</td><td>PBI</td><td>155</td><td>1028</td><td>21</td><td>55</td><td>2013-12-31 21:00:00</td></tr>\n",
              "\t<tr><td>2013</td><td>12</td><td>31</td><td>2206</td><td>2110</td><td> 56</td><td>  44</td><td>2339</td><td> 65</td><td>B6</td><td> 775</td><td>N184JB</td><td>JFK</td><td>MSY</td><td>195</td><td>1182</td><td>21</td><td>10</td><td>2013-12-31 21:00:00</td></tr>\n",
              "\t<tr><td>2013</td><td>12</td><td>31</td><td>2211</td><td>2159</td><td> 12</td><td> 100</td><td>  45</td><td> 15</td><td>B6</td><td>1183</td><td>N715JB</td><td>JFK</td><td>MCO</td><td>148</td><td> 944</td><td>21</td><td>59</td><td>2013-12-31 21:00:00</td></tr>\n",
              "\t<tr><td>2013</td><td>12</td><td>31</td><td>2218</td><td>2219</td><td> -1</td><td> 315</td><td> 304</td><td> 11</td><td>B6</td><td>1203</td><td>N625JB</td><td>JFK</td><td>SJU</td><td>202</td><td>1598</td><td>22</td><td>19</td><td>2013-12-31 22:00:00</td></tr>\n",
              "\t<tr><td>2013</td><td>12</td><td>31</td><td>2235</td><td>2245</td><td>-10</td><td>2351</td><td>2355</td><td> -4</td><td>B6</td><td> 234</td><td>N355JB</td><td>JFK</td><td>BTV</td><td> 49</td><td> 266</td><td>22</td><td>45</td><td>2013-12-31 22:00:00</td></tr>\n",
              "\t<tr><td>2013</td><td>12</td><td>31</td><td>2245</td><td>2250</td><td> -5</td><td>2359</td><td>2356</td><td>  3</td><td>B6</td><td>1816</td><td>N318JB</td><td>JFK</td><td>SYR</td><td> 51</td><td> 209</td><td>22</td><td>50</td><td>2013-12-31 22:00:00</td></tr>\n",
              "\t<tr><td>2013</td><td>12</td><td>31</td><td>2310</td><td>2255</td><td> 15</td><td>   7</td><td>2356</td><td> 11</td><td>B6</td><td> 718</td><td>N279JB</td><td>JFK</td><td>BOS</td><td> 40</td><td> 187</td><td>22</td><td>55</td><td>2013-12-31 22:00:00</td></tr>\n",
              "\t<tr><td>2013</td><td>12</td><td>31</td><td>2321</td><td>2250</td><td> 31</td><td>  46</td><td>   8</td><td> 38</td><td>B6</td><td>2002</td><td>N179JB</td><td>JFK</td><td>BUF</td><td> 66</td><td> 301</td><td>22</td><td>50</td><td>2013-12-31 22:00:00</td></tr>\n",
              "\t<tr><td>2013</td><td>12</td><td>31</td><td>2328</td><td>2330</td><td> -2</td><td> 412</td><td> 409</td><td>  3</td><td>B6</td><td>1389</td><td>N651JB</td><td>EWR</td><td>SJU</td><td>198</td><td>1608</td><td>23</td><td>30</td><td>2013-12-31 23:00:00</td></tr>\n",
              "\t<tr><td>2013</td><td>12</td><td>31</td><td>2332</td><td>2245</td><td> 47</td><td>  58</td><td>   3</td><td> 55</td><td>B6</td><td> 486</td><td>N334JB</td><td>JFK</td><td>ROC</td><td> 60</td><td> 264</td><td>22</td><td>45</td><td>2013-12-31 22:00:00</td></tr>\n",
              "\t<tr><td>2013</td><td>12</td><td>31</td><td>2355</td><td>2359</td><td> -4</td><td> 430</td><td> 440</td><td>-10</td><td>B6</td><td>1503</td><td>N509JB</td><td>JFK</td><td>SJU</td><td>195</td><td>1598</td><td>23</td><td>59</td><td>2013-12-31 23:00:00</td></tr>\n",
              "\t<tr><td>2013</td><td>12</td><td>31</td><td>2356</td><td>2359</td><td> -3</td><td> 436</td><td> 445</td><td> -9</td><td>B6</td><td> 745</td><td>N665JB</td><td>JFK</td><td>PSE</td><td>200</td><td>1617</td><td>23</td><td>59</td><td>2013-12-31 23:00:00</td></tr>\n",
              "\t<tr><td>2013</td><td>12</td><td>31</td><td>  NA</td><td>1520</td><td> NA</td><td>  NA</td><td>1705</td><td> NA</td><td>AA</td><td> 341</td><td>N568AA</td><td>LGA</td><td>ORD</td><td> NA</td><td> 733</td><td>15</td><td>20</td><td>2013-12-31 15:00:00</td></tr>\n",
              "\t<tr><td>2013</td><td>12</td><td>31</td><td>  NA</td><td>2025</td><td> NA</td><td>  NA</td><td>2205</td><td> NA</td><td>AA</td><td> 371</td><td>N482AA</td><td>LGA</td><td>ORD</td><td> NA</td><td> 733</td><td>20</td><td>25</td><td>2013-12-31 20:00:00</td></tr>\n",
              "\t<tr><td>2013</td><td>12</td><td>31</td><td>  NA</td><td>1932</td><td> NA</td><td>  NA</td><td>2305</td><td> NA</td><td>B6</td><td> 161</td><td>N516JB</td><td>JFK</td><td>SMF</td><td> NA</td><td>2521</td><td>19</td><td>32</td><td>2013-12-31 19:00:00</td></tr>\n",
              "\t<tr><td>2013</td><td>12</td><td>31</td><td>  NA</td><td>1505</td><td> NA</td><td>  NA</td><td>1725</td><td> NA</td><td>EV</td><td>4181</td><td>N24103</td><td>EWR</td><td>MCI</td><td> NA</td><td>1092</td><td>15</td><td> 5</td><td>2013-12-31 15:00:00</td></tr>\n",
              "\t<tr><td>2013</td><td>12</td><td>31</td><td>  NA</td><td>1000</td><td> NA</td><td>  NA</td><td>1252</td><td> NA</td><td>UA</td><td>1124</td><td>NA    </td><td>EWR</td><td>EGE</td><td> NA</td><td>1725</td><td>10</td><td> 0</td><td>2013-12-31 10:00:00</td></tr>\n",
              "\t<tr><td>2013</td><td>12</td><td>31</td><td>  NA</td><td> 840</td><td> NA</td><td>  NA</td><td>1205</td><td> NA</td><td>UA</td><td>1151</td><td>NA    </td><td>EWR</td><td>SEA</td><td> NA</td><td>2402</td><td> 8</td><td>40</td><td>2013-12-31 08:00:00</td></tr>\n",
              "\t<tr><td>2013</td><td>12</td><td>31</td><td>  NA</td><td> 754</td><td> NA</td><td>  NA</td><td>1118</td><td> NA</td><td>UA</td><td>1455</td><td>NA    </td><td>EWR</td><td>LAX</td><td> NA</td><td>2454</td><td> 7</td><td>54</td><td>2013-12-31 07:00:00</td></tr>\n",
              "\t<tr><td>2013</td><td>12</td><td>31</td><td>  NA</td><td>2000</td><td> NA</td><td>  NA</td><td>2146</td><td> NA</td><td>UA</td><td>1482</td><td>NA    </td><td>EWR</td><td>ORD</td><td> NA</td><td> 719</td><td>20</td><td> 0</td><td>2013-12-31 20:00:00</td></tr>\n",
              "\t<tr><td>2013</td><td>12</td><td>31</td><td>  NA</td><td>1500</td><td> NA</td><td>  NA</td><td>1817</td><td> NA</td><td>UA</td><td>1483</td><td>NA    </td><td>EWR</td><td>AUS</td><td> NA</td><td>1504</td><td>15</td><td> 0</td><td>2013-12-31 15:00:00</td></tr>\n",
              "\t<tr><td>2013</td><td>12</td><td>31</td><td>  NA</td><td>1430</td><td> NA</td><td>  NA</td><td>1750</td><td> NA</td><td>UA</td><td>1493</td><td>NA    </td><td>EWR</td><td>LAX</td><td> NA</td><td>2454</td><td>14</td><td>30</td><td>2013-12-31 14:00:00</td></tr>\n",
              "\t<tr><td>2013</td><td>12</td><td>31</td><td>  NA</td><td> 855</td><td> NA</td><td>  NA</td><td>1142</td><td> NA</td><td>UA</td><td>1506</td><td>NA    </td><td>EWR</td><td>JAC</td><td> NA</td><td>1874</td><td> 8</td><td>55</td><td>2013-12-31 08:00:00</td></tr>\n",
              "\t<tr><td>2013</td><td>12</td><td>31</td><td>  NA</td><td> 705</td><td> NA</td><td>  NA</td><td> 931</td><td> NA</td><td>UA</td><td>1729</td><td>NA    </td><td>EWR</td><td>DEN</td><td> NA</td><td>1605</td><td> 7</td><td> 5</td><td>2013-12-31 07:00:00</td></tr>\n",
              "\t<tr><td>2013</td><td>12</td><td>31</td><td>  NA</td><td> 825</td><td> NA</td><td>  NA</td><td>1029</td><td> NA</td><td>US</td><td>1831</td><td>NA    </td><td>JFK</td><td>CLT</td><td> NA</td><td> 541</td><td> 8</td><td>25</td><td>2013-12-31 08:00:00</td></tr>\n",
              "\t<tr><td>2013</td><td>12</td><td>31</td><td>  NA</td><td>1615</td><td> NA</td><td>  NA</td><td>1800</td><td> NA</td><td>MQ</td><td>3301</td><td>N844MQ</td><td>LGA</td><td>RDU</td><td> NA</td><td> 431</td><td>16</td><td>15</td><td>2013-12-31 16:00:00</td></tr>\n",
              "\t<tr><td>2013</td><td>12</td><td>31</td><td>  NA</td><td> 600</td><td> NA</td><td>  NA</td><td> 735</td><td> NA</td><td>UA</td><td> 219</td><td>NA    </td><td>EWR</td><td>ORD</td><td> NA</td><td> 719</td><td> 6</td><td> 0</td><td>2013-12-31 06:00:00</td></tr>\n",
              "\t<tr><td>2013</td><td>12</td><td>31</td><td>  NA</td><td> 830</td><td> NA</td><td>  NA</td><td>1154</td><td> NA</td><td>UA</td><td> 443</td><td>NA    </td><td>JFK</td><td>LAX</td><td> NA</td><td>2475</td><td> 8</td><td>30</td><td>2013-12-31 08:00:00</td></tr>\n",
              "</tbody>\n",
              "</table>\n"
            ],
            "text/markdown": "\nA data.frame: 776 × 19\n\n| year &lt;int&gt; | month &lt;int&gt; | day &lt;int&gt; | dep_time &lt;int&gt; | sched_dep_time &lt;int&gt; | dep_delay &lt;int&gt; | arr_time &lt;int&gt; | sched_arr_time &lt;int&gt; | arr_delay &lt;int&gt; | carrier &lt;chr&gt; | flight &lt;int&gt; | tailnum &lt;chr&gt; | origin &lt;chr&gt; | dest &lt;chr&gt; | air_time &lt;int&gt; | distance &lt;int&gt; | hour &lt;int&gt; | minute &lt;int&gt; | time_hour &lt;chr&gt; |\n|---|---|---|---|---|---|---|---|---|---|---|---|---|---|---|---|---|---|---|\n| 2013 | 12 | 31 |  13 | 2359 |  14 |  439 |  437 |   2 | B6 |  839 | N566JB | JFK | BQN | 189 | 1576 | 23 | 59 | 2013-12-31 23:00:00 |\n| 2013 | 12 | 31 |  18 | 2359 |  19 |  449 |  444 |   5 | DL |  412 | N713TW | JFK | SJU | 192 | 1598 | 23 | 59 | 2013-12-31 23:00:00 |\n| 2013 | 12 | 31 |  26 | 2245 | 101 |  129 | 2353 |  96 | B6 |  108 | N374JB | JFK | PWM |  50 |  273 | 22 | 45 | 2013-12-31 22:00:00 |\n| 2013 | 12 | 31 | 459 |  500 |  -1 |  655 |  651 |   4 | US | 1895 | N557UW | EWR | CLT |  95 |  529 |  5 |  0 | 2013-12-31 05:00:00 |\n| 2013 | 12 | 31 | 514 |  515 |  -1 |  814 |  812 |   2 | UA |  700 | N470UA | EWR | IAH | 223 | 1400 |  5 | 15 | 2013-12-31 05:00:00 |\n| 2013 | 12 | 31 | 549 |  551 |  -2 |  925 |  900 |  25 | UA |  274 | N577UA | EWR | LAX | 346 | 2454 |  5 | 51 | 2013-12-31 05:00:00 |\n| 2013 | 12 | 31 | 550 |  600 | -10 |  725 |  745 | -20 | AA |  301 | N3CXAA | LGA | ORD | 127 |  733 |  6 |  0 | 2013-12-31 06:00:00 |\n| 2013 | 12 | 31 | 552 |  600 |  -8 |  811 |  826 | -15 | EV | 3825 | N14916 | EWR | IND | 118 |  645 |  6 |  0 | 2013-12-31 06:00:00 |\n| 2013 | 12 | 31 | 553 |  600 |  -7 |  741 |  754 | -13 | DL |  731 | N333NB | LGA | DTW |  86 |  502 |  6 |  0 | 2013-12-31 06:00:00 |\n| 2013 | 12 | 31 | 554 |  550 |   4 | 1024 | 1027 |  -3 | B6 |  939 | N552JB | JFK | BQN | 195 | 1576 |  5 | 50 | 2013-12-31 05:00:00 |\n| 2013 | 12 | 31 | 555 |  600 |  -5 |  901 |  849 |  12 | B6 |  353 | N746JB | JFK | PBI | 167 | 1028 |  6 |  0 | 2013-12-31 06:00:00 |\n| 2013 | 12 | 31 | 555 |  600 |  -5 |  835 |  831 |   4 | DL |  904 | N3741S | LGA | ATL | 137 |  762 |  6 |  0 | 2013-12-31 06:00:00 |\n| 2013 | 12 | 31 | 555 |  551 |   4 |  853 |  851 |   2 | UA |  566 | N491UA | EWR | TPA | 164 |  997 |  5 | 51 | 2013-12-31 05:00:00 |\n| 2013 | 12 | 31 | 556 |  600 |  -4 |  909 |  846 |  23 | B6 |  583 | N715JB | JFK | MCO | 162 |  944 |  6 |  0 | 2013-12-31 06:00:00 |\n| 2013 | 12 | 31 | 556 |  605 |  -9 |  808 |  814 |  -6 | DL | 1919 | N958DL | LGA | MSP | 160 | 1020 |  6 |  5 | 2013-12-31 06:00:00 |\n| 2013 | 12 | 31 | 557 |  603 |  -6 |  719 |  719 |   0 | EV | 4241 | N15574 | EWR | DCA |  45 |  199 |  6 |  3 | 2013-12-31 06:00:00 |\n| 2013 | 12 | 31 | 558 |  600 |  -2 |  919 |  905 |  14 | AA | 1175 | N3JEAA | LGA | MIA | 173 | 1096 |  6 |  0 | 2013-12-31 06:00:00 |\n| 2013 | 12 | 31 | 559 |  600 |  -1 |  917 |  855 |  22 | B6 |  605 | N597JB | EWR | FLL | 167 | 1065 |  6 |  0 | 2013-12-31 06:00:00 |\n| 2013 | 12 | 31 | 600 |  540 |  20 |  928 |  850 |  38 | AA | 2243 | N5EMAA | JFK | MIA | 171 | 1089 |  5 | 40 | 2013-12-31 05:00:00 |\n| 2013 | 12 | 31 | 602 |  605 |  -3 |  744 |  805 | -21 | DL | 2505 | N358NB | EWR | DTW |  87 |  488 |  6 |  5 | 2013-12-31 06:00:00 |\n| 2013 | 12 | 31 | 602 |  605 |  -3 |  708 |  723 | -15 | EV | 6177 | N14543 | EWR | IAD |  45 |  212 |  6 |  5 | 2013-12-31 06:00:00 |\n| 2013 | 12 | 31 | 603 |  611 |  -8 | 1045 | 1055 | -10 | B6 | 1403 | N547JB | JFK | SJU | 198 | 1598 |  6 | 11 | 2013-12-31 06:00:00 |\n| 2013 | 12 | 31 | 607 |  600 |   7 |  848 |  825 |  23 | WN | 1716 | N7740A | LGA | ATL | 137 |  762 |  6 |  0 | 2013-12-31 06:00:00 |\n| 2013 | 12 | 31 | 608 |  615 |  -7 |  812 |  818 |  -6 | US | 1963 | N192UW | EWR | CLT | 106 |  529 |  6 | 15 | 2013-12-31 06:00:00 |\n| 2013 | 12 | 31 | 609 |  610 |  -1 |  911 |  915 |  -4 | AA | 1205 | N5DHAA | EWR | MIA | 163 | 1085 |  6 | 10 | 2013-12-31 06:00:00 |\n| 2013 | 12 | 31 | 609 |  615 |  -6 |  848 |  850 |  -2 | DL |  404 | N392DA | JFK | ATL | 133 |  760 |  6 | 15 | 2013-12-31 06:00:00 |\n| 2013 | 12 | 31 | 609 |  614 |  -5 |  755 |  751 |   4 | EV | 3812 | N13994 | EWR | RDU |  81 |  416 |  6 | 14 | 2013-12-31 06:00:00 |\n| 2013 | 12 | 31 | 610 |  615 |  -5 |  828 |  849 | -21 | DL |  479 | N3766  | JFK | ATL | 119 |  760 |  6 | 15 | 2013-12-31 06:00:00 |\n| 2013 | 12 | 31 | 616 |  611 |   5 |  933 |  912 |  21 | B6 |  601 | N643JB | JFK | FLL | 173 | 1069 |  6 | 11 | 2013-12-31 06:00:00 |\n| 2013 | 12 | 31 | 616 |  630 | -14 |  922 |  919 |   3 | B6 | 1099 | N563JB | LGA | MCO | 159 |  950 |  6 | 30 | 2013-12-31 06:00:00 |\n| ⋮ | ⋮ | ⋮ | ⋮ | ⋮ | ⋮ | ⋮ | ⋮ | ⋮ | ⋮ | ⋮ | ⋮ | ⋮ | ⋮ | ⋮ | ⋮ | ⋮ | ⋮ | ⋮ |\n| 2013 | 12 | 31 | 2155 | 2039 |  76 |  253 | 2355 |  NA | B6 | 1205 | N627JB | JFK | PDX |  NA | 2454 | 20 | 39 | 2013-12-31 20:00:00 |\n| 2013 | 12 | 31 | 2155 | 2150 |   5 |  110 |   51 |  19 | B6 | 1901 | N729JB | JFK | FLL | 164 | 1069 | 21 | 50 | 2013-12-31 21:00:00 |\n| 2013 | 12 | 31 | 2159 | 2155 |   4 |   55 |   46 |   9 | B6 | 2053 | N593JB | JFK | PBI | 155 | 1028 | 21 | 55 | 2013-12-31 21:00:00 |\n| 2013 | 12 | 31 | 2206 | 2110 |  56 |   44 | 2339 |  65 | B6 |  775 | N184JB | JFK | MSY | 195 | 1182 | 21 | 10 | 2013-12-31 21:00:00 |\n| 2013 | 12 | 31 | 2211 | 2159 |  12 |  100 |   45 |  15 | B6 | 1183 | N715JB | JFK | MCO | 148 |  944 | 21 | 59 | 2013-12-31 21:00:00 |\n| 2013 | 12 | 31 | 2218 | 2219 |  -1 |  315 |  304 |  11 | B6 | 1203 | N625JB | JFK | SJU | 202 | 1598 | 22 | 19 | 2013-12-31 22:00:00 |\n| 2013 | 12 | 31 | 2235 | 2245 | -10 | 2351 | 2355 |  -4 | B6 |  234 | N355JB | JFK | BTV |  49 |  266 | 22 | 45 | 2013-12-31 22:00:00 |\n| 2013 | 12 | 31 | 2245 | 2250 |  -5 | 2359 | 2356 |   3 | B6 | 1816 | N318JB | JFK | SYR |  51 |  209 | 22 | 50 | 2013-12-31 22:00:00 |\n| 2013 | 12 | 31 | 2310 | 2255 |  15 |    7 | 2356 |  11 | B6 |  718 | N279JB | JFK | BOS |  40 |  187 | 22 | 55 | 2013-12-31 22:00:00 |\n| 2013 | 12 | 31 | 2321 | 2250 |  31 |   46 |    8 |  38 | B6 | 2002 | N179JB | JFK | BUF |  66 |  301 | 22 | 50 | 2013-12-31 22:00:00 |\n| 2013 | 12 | 31 | 2328 | 2330 |  -2 |  412 |  409 |   3 | B6 | 1389 | N651JB | EWR | SJU | 198 | 1608 | 23 | 30 | 2013-12-31 23:00:00 |\n| 2013 | 12 | 31 | 2332 | 2245 |  47 |   58 |    3 |  55 | B6 |  486 | N334JB | JFK | ROC |  60 |  264 | 22 | 45 | 2013-12-31 22:00:00 |\n| 2013 | 12 | 31 | 2355 | 2359 |  -4 |  430 |  440 | -10 | B6 | 1503 | N509JB | JFK | SJU | 195 | 1598 | 23 | 59 | 2013-12-31 23:00:00 |\n| 2013 | 12 | 31 | 2356 | 2359 |  -3 |  436 |  445 |  -9 | B6 |  745 | N665JB | JFK | PSE | 200 | 1617 | 23 | 59 | 2013-12-31 23:00:00 |\n| 2013 | 12 | 31 |   NA | 1520 |  NA |   NA | 1705 |  NA | AA |  341 | N568AA | LGA | ORD |  NA |  733 | 15 | 20 | 2013-12-31 15:00:00 |\n| 2013 | 12 | 31 |   NA | 2025 |  NA |   NA | 2205 |  NA | AA |  371 | N482AA | LGA | ORD |  NA |  733 | 20 | 25 | 2013-12-31 20:00:00 |\n| 2013 | 12 | 31 |   NA | 1932 |  NA |   NA | 2305 |  NA | B6 |  161 | N516JB | JFK | SMF |  NA | 2521 | 19 | 32 | 2013-12-31 19:00:00 |\n| 2013 | 12 | 31 |   NA | 1505 |  NA |   NA | 1725 |  NA | EV | 4181 | N24103 | EWR | MCI |  NA | 1092 | 15 |  5 | 2013-12-31 15:00:00 |\n| 2013 | 12 | 31 |   NA | 1000 |  NA |   NA | 1252 |  NA | UA | 1124 | NA     | EWR | EGE |  NA | 1725 | 10 |  0 | 2013-12-31 10:00:00 |\n| 2013 | 12 | 31 |   NA |  840 |  NA |   NA | 1205 |  NA | UA | 1151 | NA     | EWR | SEA |  NA | 2402 |  8 | 40 | 2013-12-31 08:00:00 |\n| 2013 | 12 | 31 |   NA |  754 |  NA |   NA | 1118 |  NA | UA | 1455 | NA     | EWR | LAX |  NA | 2454 |  7 | 54 | 2013-12-31 07:00:00 |\n| 2013 | 12 | 31 |   NA | 2000 |  NA |   NA | 2146 |  NA | UA | 1482 | NA     | EWR | ORD |  NA |  719 | 20 |  0 | 2013-12-31 20:00:00 |\n| 2013 | 12 | 31 |   NA | 1500 |  NA |   NA | 1817 |  NA | UA | 1483 | NA     | EWR | AUS |  NA | 1504 | 15 |  0 | 2013-12-31 15:00:00 |\n| 2013 | 12 | 31 |   NA | 1430 |  NA |   NA | 1750 |  NA | UA | 1493 | NA     | EWR | LAX |  NA | 2454 | 14 | 30 | 2013-12-31 14:00:00 |\n| 2013 | 12 | 31 |   NA |  855 |  NA |   NA | 1142 |  NA | UA | 1506 | NA     | EWR | JAC |  NA | 1874 |  8 | 55 | 2013-12-31 08:00:00 |\n| 2013 | 12 | 31 |   NA |  705 |  NA |   NA |  931 |  NA | UA | 1729 | NA     | EWR | DEN |  NA | 1605 |  7 |  5 | 2013-12-31 07:00:00 |\n| 2013 | 12 | 31 |   NA |  825 |  NA |   NA | 1029 |  NA | US | 1831 | NA     | JFK | CLT |  NA |  541 |  8 | 25 | 2013-12-31 08:00:00 |\n| 2013 | 12 | 31 |   NA | 1615 |  NA |   NA | 1800 |  NA | MQ | 3301 | N844MQ | LGA | RDU |  NA |  431 | 16 | 15 | 2013-12-31 16:00:00 |\n| 2013 | 12 | 31 |   NA |  600 |  NA |   NA |  735 |  NA | UA |  219 | NA     | EWR | ORD |  NA |  719 |  6 |  0 | 2013-12-31 06:00:00 |\n| 2013 | 12 | 31 |   NA |  830 |  NA |   NA | 1154 |  NA | UA |  443 | NA     | JFK | LAX |  NA | 2475 |  8 | 30 | 2013-12-31 08:00:00 |\n\n",
            "text/latex": "A data.frame: 776 × 19\n\\begin{tabular}{lllllllllllllllllll}\n year & month & day & dep\\_time & sched\\_dep\\_time & dep\\_delay & arr\\_time & sched\\_arr\\_time & arr\\_delay & carrier & flight & tailnum & origin & dest & air\\_time & distance & hour & minute & time\\_hour\\\\\n <int> & <int> & <int> & <int> & <int> & <int> & <int> & <int> & <int> & <chr> & <int> & <chr> & <chr> & <chr> & <int> & <int> & <int> & <int> & <chr>\\\\\n\\hline\n\t 2013 & 12 & 31 &  13 & 2359 &  14 &  439 &  437 &   2 & B6 &  839 & N566JB & JFK & BQN & 189 & 1576 & 23 & 59 & 2013-12-31 23:00:00\\\\\n\t 2013 & 12 & 31 &  18 & 2359 &  19 &  449 &  444 &   5 & DL &  412 & N713TW & JFK & SJU & 192 & 1598 & 23 & 59 & 2013-12-31 23:00:00\\\\\n\t 2013 & 12 & 31 &  26 & 2245 & 101 &  129 & 2353 &  96 & B6 &  108 & N374JB & JFK & PWM &  50 &  273 & 22 & 45 & 2013-12-31 22:00:00\\\\\n\t 2013 & 12 & 31 & 459 &  500 &  -1 &  655 &  651 &   4 & US & 1895 & N557UW & EWR & CLT &  95 &  529 &  5 &  0 & 2013-12-31 05:00:00\\\\\n\t 2013 & 12 & 31 & 514 &  515 &  -1 &  814 &  812 &   2 & UA &  700 & N470UA & EWR & IAH & 223 & 1400 &  5 & 15 & 2013-12-31 05:00:00\\\\\n\t 2013 & 12 & 31 & 549 &  551 &  -2 &  925 &  900 &  25 & UA &  274 & N577UA & EWR & LAX & 346 & 2454 &  5 & 51 & 2013-12-31 05:00:00\\\\\n\t 2013 & 12 & 31 & 550 &  600 & -10 &  725 &  745 & -20 & AA &  301 & N3CXAA & LGA & ORD & 127 &  733 &  6 &  0 & 2013-12-31 06:00:00\\\\\n\t 2013 & 12 & 31 & 552 &  600 &  -8 &  811 &  826 & -15 & EV & 3825 & N14916 & EWR & IND & 118 &  645 &  6 &  0 & 2013-12-31 06:00:00\\\\\n\t 2013 & 12 & 31 & 553 &  600 &  -7 &  741 &  754 & -13 & DL &  731 & N333NB & LGA & DTW &  86 &  502 &  6 &  0 & 2013-12-31 06:00:00\\\\\n\t 2013 & 12 & 31 & 554 &  550 &   4 & 1024 & 1027 &  -3 & B6 &  939 & N552JB & JFK & BQN & 195 & 1576 &  5 & 50 & 2013-12-31 05:00:00\\\\\n\t 2013 & 12 & 31 & 555 &  600 &  -5 &  901 &  849 &  12 & B6 &  353 & N746JB & JFK & PBI & 167 & 1028 &  6 &  0 & 2013-12-31 06:00:00\\\\\n\t 2013 & 12 & 31 & 555 &  600 &  -5 &  835 &  831 &   4 & DL &  904 & N3741S & LGA & ATL & 137 &  762 &  6 &  0 & 2013-12-31 06:00:00\\\\\n\t 2013 & 12 & 31 & 555 &  551 &   4 &  853 &  851 &   2 & UA &  566 & N491UA & EWR & TPA & 164 &  997 &  5 & 51 & 2013-12-31 05:00:00\\\\\n\t 2013 & 12 & 31 & 556 &  600 &  -4 &  909 &  846 &  23 & B6 &  583 & N715JB & JFK & MCO & 162 &  944 &  6 &  0 & 2013-12-31 06:00:00\\\\\n\t 2013 & 12 & 31 & 556 &  605 &  -9 &  808 &  814 &  -6 & DL & 1919 & N958DL & LGA & MSP & 160 & 1020 &  6 &  5 & 2013-12-31 06:00:00\\\\\n\t 2013 & 12 & 31 & 557 &  603 &  -6 &  719 &  719 &   0 & EV & 4241 & N15574 & EWR & DCA &  45 &  199 &  6 &  3 & 2013-12-31 06:00:00\\\\\n\t 2013 & 12 & 31 & 558 &  600 &  -2 &  919 &  905 &  14 & AA & 1175 & N3JEAA & LGA & MIA & 173 & 1096 &  6 &  0 & 2013-12-31 06:00:00\\\\\n\t 2013 & 12 & 31 & 559 &  600 &  -1 &  917 &  855 &  22 & B6 &  605 & N597JB & EWR & FLL & 167 & 1065 &  6 &  0 & 2013-12-31 06:00:00\\\\\n\t 2013 & 12 & 31 & 600 &  540 &  20 &  928 &  850 &  38 & AA & 2243 & N5EMAA & JFK & MIA & 171 & 1089 &  5 & 40 & 2013-12-31 05:00:00\\\\\n\t 2013 & 12 & 31 & 602 &  605 &  -3 &  744 &  805 & -21 & DL & 2505 & N358NB & EWR & DTW &  87 &  488 &  6 &  5 & 2013-12-31 06:00:00\\\\\n\t 2013 & 12 & 31 & 602 &  605 &  -3 &  708 &  723 & -15 & EV & 6177 & N14543 & EWR & IAD &  45 &  212 &  6 &  5 & 2013-12-31 06:00:00\\\\\n\t 2013 & 12 & 31 & 603 &  611 &  -8 & 1045 & 1055 & -10 & B6 & 1403 & N547JB & JFK & SJU & 198 & 1598 &  6 & 11 & 2013-12-31 06:00:00\\\\\n\t 2013 & 12 & 31 & 607 &  600 &   7 &  848 &  825 &  23 & WN & 1716 & N7740A & LGA & ATL & 137 &  762 &  6 &  0 & 2013-12-31 06:00:00\\\\\n\t 2013 & 12 & 31 & 608 &  615 &  -7 &  812 &  818 &  -6 & US & 1963 & N192UW & EWR & CLT & 106 &  529 &  6 & 15 & 2013-12-31 06:00:00\\\\\n\t 2013 & 12 & 31 & 609 &  610 &  -1 &  911 &  915 &  -4 & AA & 1205 & N5DHAA & EWR & MIA & 163 & 1085 &  6 & 10 & 2013-12-31 06:00:00\\\\\n\t 2013 & 12 & 31 & 609 &  615 &  -6 &  848 &  850 &  -2 & DL &  404 & N392DA & JFK & ATL & 133 &  760 &  6 & 15 & 2013-12-31 06:00:00\\\\\n\t 2013 & 12 & 31 & 609 &  614 &  -5 &  755 &  751 &   4 & EV & 3812 & N13994 & EWR & RDU &  81 &  416 &  6 & 14 & 2013-12-31 06:00:00\\\\\n\t 2013 & 12 & 31 & 610 &  615 &  -5 &  828 &  849 & -21 & DL &  479 & N3766  & JFK & ATL & 119 &  760 &  6 & 15 & 2013-12-31 06:00:00\\\\\n\t 2013 & 12 & 31 & 616 &  611 &   5 &  933 &  912 &  21 & B6 &  601 & N643JB & JFK & FLL & 173 & 1069 &  6 & 11 & 2013-12-31 06:00:00\\\\\n\t 2013 & 12 & 31 & 616 &  630 & -14 &  922 &  919 &   3 & B6 & 1099 & N563JB & LGA & MCO & 159 &  950 &  6 & 30 & 2013-12-31 06:00:00\\\\\n\t ⋮ & ⋮ & ⋮ & ⋮ & ⋮ & ⋮ & ⋮ & ⋮ & ⋮ & ⋮ & ⋮ & ⋮ & ⋮ & ⋮ & ⋮ & ⋮ & ⋮ & ⋮ & ⋮\\\\\n\t 2013 & 12 & 31 & 2155 & 2039 &  76 &  253 & 2355 &  NA & B6 & 1205 & N627JB & JFK & PDX &  NA & 2454 & 20 & 39 & 2013-12-31 20:00:00\\\\\n\t 2013 & 12 & 31 & 2155 & 2150 &   5 &  110 &   51 &  19 & B6 & 1901 & N729JB & JFK & FLL & 164 & 1069 & 21 & 50 & 2013-12-31 21:00:00\\\\\n\t 2013 & 12 & 31 & 2159 & 2155 &   4 &   55 &   46 &   9 & B6 & 2053 & N593JB & JFK & PBI & 155 & 1028 & 21 & 55 & 2013-12-31 21:00:00\\\\\n\t 2013 & 12 & 31 & 2206 & 2110 &  56 &   44 & 2339 &  65 & B6 &  775 & N184JB & JFK & MSY & 195 & 1182 & 21 & 10 & 2013-12-31 21:00:00\\\\\n\t 2013 & 12 & 31 & 2211 & 2159 &  12 &  100 &   45 &  15 & B6 & 1183 & N715JB & JFK & MCO & 148 &  944 & 21 & 59 & 2013-12-31 21:00:00\\\\\n\t 2013 & 12 & 31 & 2218 & 2219 &  -1 &  315 &  304 &  11 & B6 & 1203 & N625JB & JFK & SJU & 202 & 1598 & 22 & 19 & 2013-12-31 22:00:00\\\\\n\t 2013 & 12 & 31 & 2235 & 2245 & -10 & 2351 & 2355 &  -4 & B6 &  234 & N355JB & JFK & BTV &  49 &  266 & 22 & 45 & 2013-12-31 22:00:00\\\\\n\t 2013 & 12 & 31 & 2245 & 2250 &  -5 & 2359 & 2356 &   3 & B6 & 1816 & N318JB & JFK & SYR &  51 &  209 & 22 & 50 & 2013-12-31 22:00:00\\\\\n\t 2013 & 12 & 31 & 2310 & 2255 &  15 &    7 & 2356 &  11 & B6 &  718 & N279JB & JFK & BOS &  40 &  187 & 22 & 55 & 2013-12-31 22:00:00\\\\\n\t 2013 & 12 & 31 & 2321 & 2250 &  31 &   46 &    8 &  38 & B6 & 2002 & N179JB & JFK & BUF &  66 &  301 & 22 & 50 & 2013-12-31 22:00:00\\\\\n\t 2013 & 12 & 31 & 2328 & 2330 &  -2 &  412 &  409 &   3 & B6 & 1389 & N651JB & EWR & SJU & 198 & 1608 & 23 & 30 & 2013-12-31 23:00:00\\\\\n\t 2013 & 12 & 31 & 2332 & 2245 &  47 &   58 &    3 &  55 & B6 &  486 & N334JB & JFK & ROC &  60 &  264 & 22 & 45 & 2013-12-31 22:00:00\\\\\n\t 2013 & 12 & 31 & 2355 & 2359 &  -4 &  430 &  440 & -10 & B6 & 1503 & N509JB & JFK & SJU & 195 & 1598 & 23 & 59 & 2013-12-31 23:00:00\\\\\n\t 2013 & 12 & 31 & 2356 & 2359 &  -3 &  436 &  445 &  -9 & B6 &  745 & N665JB & JFK & PSE & 200 & 1617 & 23 & 59 & 2013-12-31 23:00:00\\\\\n\t 2013 & 12 & 31 &   NA & 1520 &  NA &   NA & 1705 &  NA & AA &  341 & N568AA & LGA & ORD &  NA &  733 & 15 & 20 & 2013-12-31 15:00:00\\\\\n\t 2013 & 12 & 31 &   NA & 2025 &  NA &   NA & 2205 &  NA & AA &  371 & N482AA & LGA & ORD &  NA &  733 & 20 & 25 & 2013-12-31 20:00:00\\\\\n\t 2013 & 12 & 31 &   NA & 1932 &  NA &   NA & 2305 &  NA & B6 &  161 & N516JB & JFK & SMF &  NA & 2521 & 19 & 32 & 2013-12-31 19:00:00\\\\\n\t 2013 & 12 & 31 &   NA & 1505 &  NA &   NA & 1725 &  NA & EV & 4181 & N24103 & EWR & MCI &  NA & 1092 & 15 &  5 & 2013-12-31 15:00:00\\\\\n\t 2013 & 12 & 31 &   NA & 1000 &  NA &   NA & 1252 &  NA & UA & 1124 & NA     & EWR & EGE &  NA & 1725 & 10 &  0 & 2013-12-31 10:00:00\\\\\n\t 2013 & 12 & 31 &   NA &  840 &  NA &   NA & 1205 &  NA & UA & 1151 & NA     & EWR & SEA &  NA & 2402 &  8 & 40 & 2013-12-31 08:00:00\\\\\n\t 2013 & 12 & 31 &   NA &  754 &  NA &   NA & 1118 &  NA & UA & 1455 & NA     & EWR & LAX &  NA & 2454 &  7 & 54 & 2013-12-31 07:00:00\\\\\n\t 2013 & 12 & 31 &   NA & 2000 &  NA &   NA & 2146 &  NA & UA & 1482 & NA     & EWR & ORD &  NA &  719 & 20 &  0 & 2013-12-31 20:00:00\\\\\n\t 2013 & 12 & 31 &   NA & 1500 &  NA &   NA & 1817 &  NA & UA & 1483 & NA     & EWR & AUS &  NA & 1504 & 15 &  0 & 2013-12-31 15:00:00\\\\\n\t 2013 & 12 & 31 &   NA & 1430 &  NA &   NA & 1750 &  NA & UA & 1493 & NA     & EWR & LAX &  NA & 2454 & 14 & 30 & 2013-12-31 14:00:00\\\\\n\t 2013 & 12 & 31 &   NA &  855 &  NA &   NA & 1142 &  NA & UA & 1506 & NA     & EWR & JAC &  NA & 1874 &  8 & 55 & 2013-12-31 08:00:00\\\\\n\t 2013 & 12 & 31 &   NA &  705 &  NA &   NA &  931 &  NA & UA & 1729 & NA     & EWR & DEN &  NA & 1605 &  7 &  5 & 2013-12-31 07:00:00\\\\\n\t 2013 & 12 & 31 &   NA &  825 &  NA &   NA & 1029 &  NA & US & 1831 & NA     & JFK & CLT &  NA &  541 &  8 & 25 & 2013-12-31 08:00:00\\\\\n\t 2013 & 12 & 31 &   NA & 1615 &  NA &   NA & 1800 &  NA & MQ & 3301 & N844MQ & LGA & RDU &  NA &  431 & 16 & 15 & 2013-12-31 16:00:00\\\\\n\t 2013 & 12 & 31 &   NA &  600 &  NA &   NA &  735 &  NA & UA &  219 & NA     & EWR & ORD &  NA &  719 &  6 &  0 & 2013-12-31 06:00:00\\\\\n\t 2013 & 12 & 31 &   NA &  830 &  NA &   NA & 1154 &  NA & UA &  443 & NA     & JFK & LAX &  NA & 2475 &  8 & 30 & 2013-12-31 08:00:00\\\\\n\\end{tabular}\n",
            "text/plain": [
              "    year month day dep_time sched_dep_time dep_delay arr_time sched_arr_time\n",
              "1   2013 12    31   13      2359            14        439      437          \n",
              "2   2013 12    31   18      2359            19        449      444          \n",
              "3   2013 12    31   26      2245           101        129     2353          \n",
              "4   2013 12    31  459       500            -1        655      651          \n",
              "5   2013 12    31  514       515            -1        814      812          \n",
              "6   2013 12    31  549       551            -2        925      900          \n",
              "7   2013 12    31  550       600           -10        725      745          \n",
              "8   2013 12    31  552       600            -8        811      826          \n",
              "9   2013 12    31  553       600            -7        741      754          \n",
              "10  2013 12    31  554       550             4       1024     1027          \n",
              "11  2013 12    31  555       600            -5        901      849          \n",
              "12  2013 12    31  555       600            -5        835      831          \n",
              "13  2013 12    31  555       551             4        853      851          \n",
              "14  2013 12    31  556       600            -4        909      846          \n",
              "15  2013 12    31  556       605            -9        808      814          \n",
              "16  2013 12    31  557       603            -6        719      719          \n",
              "17  2013 12    31  558       600            -2        919      905          \n",
              "18  2013 12    31  559       600            -1        917      855          \n",
              "19  2013 12    31  600       540            20        928      850          \n",
              "20  2013 12    31  602       605            -3        744      805          \n",
              "21  2013 12    31  602       605            -3        708      723          \n",
              "22  2013 12    31  603       611            -8       1045     1055          \n",
              "23  2013 12    31  607       600             7        848      825          \n",
              "24  2013 12    31  608       615            -7        812      818          \n",
              "25  2013 12    31  609       610            -1        911      915          \n",
              "26  2013 12    31  609       615            -6        848      850          \n",
              "27  2013 12    31  609       614            -5        755      751          \n",
              "28  2013 12    31  610       615            -5        828      849          \n",
              "29  2013 12    31  616       611             5        933      912          \n",
              "30  2013 12    31  616       630           -14        922      919          \n",
              "⋮   ⋮    ⋮     ⋮   ⋮        ⋮              ⋮         ⋮        ⋮             \n",
              "747 2013 12    31  2155     2039            76        253     2355          \n",
              "748 2013 12    31  2155     2150             5        110       51          \n",
              "749 2013 12    31  2159     2155             4         55       46          \n",
              "750 2013 12    31  2206     2110            56         44     2339          \n",
              "751 2013 12    31  2211     2159            12        100       45          \n",
              "752 2013 12    31  2218     2219            -1        315      304          \n",
              "753 2013 12    31  2235     2245           -10       2351     2355          \n",
              "754 2013 12    31  2245     2250            -5       2359     2356          \n",
              "755 2013 12    31  2310     2255            15          7     2356          \n",
              "756 2013 12    31  2321     2250            31         46        8          \n",
              "757 2013 12    31  2328     2330            -2        412      409          \n",
              "758 2013 12    31  2332     2245            47         58        3          \n",
              "759 2013 12    31  2355     2359            -4        430      440          \n",
              "760 2013 12    31  2356     2359            -3        436      445          \n",
              "761 2013 12    31    NA     1520            NA         NA     1705          \n",
              "762 2013 12    31    NA     2025            NA         NA     2205          \n",
              "763 2013 12    31    NA     1932            NA         NA     2305          \n",
              "764 2013 12    31    NA     1505            NA         NA     1725          \n",
              "765 2013 12    31    NA     1000            NA         NA     1252          \n",
              "766 2013 12    31    NA      840            NA         NA     1205          \n",
              "767 2013 12    31    NA      754            NA         NA     1118          \n",
              "768 2013 12    31    NA     2000            NA         NA     2146          \n",
              "769 2013 12    31    NA     1500            NA         NA     1817          \n",
              "770 2013 12    31    NA     1430            NA         NA     1750          \n",
              "771 2013 12    31    NA      855            NA         NA     1142          \n",
              "772 2013 12    31    NA      705            NA         NA      931          \n",
              "773 2013 12    31    NA      825            NA         NA     1029          \n",
              "774 2013 12    31    NA     1615            NA         NA     1800          \n",
              "775 2013 12    31    NA      600            NA         NA      735          \n",
              "776 2013 12    31    NA      830            NA         NA     1154          \n",
              "    arr_delay carrier flight tailnum origin dest air_time distance hour minute\n",
              "1     2       B6       839   N566JB  JFK    BQN  189      1576     23   59    \n",
              "2     5       DL       412   N713TW  JFK    SJU  192      1598     23   59    \n",
              "3    96       B6       108   N374JB  JFK    PWM   50       273     22   45    \n",
              "4     4       US      1895   N557UW  EWR    CLT   95       529      5    0    \n",
              "5     2       UA       700   N470UA  EWR    IAH  223      1400      5   15    \n",
              "6    25       UA       274   N577UA  EWR    LAX  346      2454      5   51    \n",
              "7   -20       AA       301   N3CXAA  LGA    ORD  127       733      6    0    \n",
              "8   -15       EV      3825   N14916  EWR    IND  118       645      6    0    \n",
              "9   -13       DL       731   N333NB  LGA    DTW   86       502      6    0    \n",
              "10   -3       B6       939   N552JB  JFK    BQN  195      1576      5   50    \n",
              "11   12       B6       353   N746JB  JFK    PBI  167      1028      6    0    \n",
              "12    4       DL       904   N3741S  LGA    ATL  137       762      6    0    \n",
              "13    2       UA       566   N491UA  EWR    TPA  164       997      5   51    \n",
              "14   23       B6       583   N715JB  JFK    MCO  162       944      6    0    \n",
              "15   -6       DL      1919   N958DL  LGA    MSP  160      1020      6    5    \n",
              "16    0       EV      4241   N15574  EWR    DCA   45       199      6    3    \n",
              "17   14       AA      1175   N3JEAA  LGA    MIA  173      1096      6    0    \n",
              "18   22       B6       605   N597JB  EWR    FLL  167      1065      6    0    \n",
              "19   38       AA      2243   N5EMAA  JFK    MIA  171      1089      5   40    \n",
              "20  -21       DL      2505   N358NB  EWR    DTW   87       488      6    5    \n",
              "21  -15       EV      6177   N14543  EWR    IAD   45       212      6    5    \n",
              "22  -10       B6      1403   N547JB  JFK    SJU  198      1598      6   11    \n",
              "23   23       WN      1716   N7740A  LGA    ATL  137       762      6    0    \n",
              "24   -6       US      1963   N192UW  EWR    CLT  106       529      6   15    \n",
              "25   -4       AA      1205   N5DHAA  EWR    MIA  163      1085      6   10    \n",
              "26   -2       DL       404   N392DA  JFK    ATL  133       760      6   15    \n",
              "27    4       EV      3812   N13994  EWR    RDU   81       416      6   14    \n",
              "28  -21       DL       479   N3766   JFK    ATL  119       760      6   15    \n",
              "29   21       B6       601   N643JB  JFK    FLL  173      1069      6   11    \n",
              "30    3       B6      1099   N563JB  LGA    MCO  159       950      6   30    \n",
              "⋮   ⋮         ⋮       ⋮      ⋮       ⋮      ⋮    ⋮        ⋮        ⋮    ⋮     \n",
              "747  NA       B6      1205   N627JB  JFK    PDX   NA      2454     20   39    \n",
              "748  19       B6      1901   N729JB  JFK    FLL  164      1069     21   50    \n",
              "749   9       B6      2053   N593JB  JFK    PBI  155      1028     21   55    \n",
              "750  65       B6       775   N184JB  JFK    MSY  195      1182     21   10    \n",
              "751  15       B6      1183   N715JB  JFK    MCO  148       944     21   59    \n",
              "752  11       B6      1203   N625JB  JFK    SJU  202      1598     22   19    \n",
              "753  -4       B6       234   N355JB  JFK    BTV   49       266     22   45    \n",
              "754   3       B6      1816   N318JB  JFK    SYR   51       209     22   50    \n",
              "755  11       B6       718   N279JB  JFK    BOS   40       187     22   55    \n",
              "756  38       B6      2002   N179JB  JFK    BUF   66       301     22   50    \n",
              "757   3       B6      1389   N651JB  EWR    SJU  198      1608     23   30    \n",
              "758  55       B6       486   N334JB  JFK    ROC   60       264     22   45    \n",
              "759 -10       B6      1503   N509JB  JFK    SJU  195      1598     23   59    \n",
              "760  -9       B6       745   N665JB  JFK    PSE  200      1617     23   59    \n",
              "761  NA       AA       341   N568AA  LGA    ORD   NA       733     15   20    \n",
              "762  NA       AA       371   N482AA  LGA    ORD   NA       733     20   25    \n",
              "763  NA       B6       161   N516JB  JFK    SMF   NA      2521     19   32    \n",
              "764  NA       EV      4181   N24103  EWR    MCI   NA      1092     15    5    \n",
              "765  NA       UA      1124   NA      EWR    EGE   NA      1725     10    0    \n",
              "766  NA       UA      1151   NA      EWR    SEA   NA      2402      8   40    \n",
              "767  NA       UA      1455   NA      EWR    LAX   NA      2454      7   54    \n",
              "768  NA       UA      1482   NA      EWR    ORD   NA       719     20    0    \n",
              "769  NA       UA      1483   NA      EWR    AUS   NA      1504     15    0    \n",
              "770  NA       UA      1493   NA      EWR    LAX   NA      2454     14   30    \n",
              "771  NA       UA      1506   NA      EWR    JAC   NA      1874      8   55    \n",
              "772  NA       UA      1729   NA      EWR    DEN   NA      1605      7    5    \n",
              "773  NA       US      1831   NA      JFK    CLT   NA       541      8   25    \n",
              "774  NA       MQ      3301   N844MQ  LGA    RDU   NA       431     16   15    \n",
              "775  NA       UA       219   NA      EWR    ORD   NA       719      6    0    \n",
              "776  NA       UA       443   NA      JFK    LAX   NA      2475      8   30    \n",
              "    time_hour          \n",
              "1   2013-12-31 23:00:00\n",
              "2   2013-12-31 23:00:00\n",
              "3   2013-12-31 22:00:00\n",
              "4   2013-12-31 05:00:00\n",
              "5   2013-12-31 05:00:00\n",
              "6   2013-12-31 05:00:00\n",
              "7   2013-12-31 06:00:00\n",
              "8   2013-12-31 06:00:00\n",
              "9   2013-12-31 06:00:00\n",
              "10  2013-12-31 05:00:00\n",
              "11  2013-12-31 06:00:00\n",
              "12  2013-12-31 06:00:00\n",
              "13  2013-12-31 05:00:00\n",
              "14  2013-12-31 06:00:00\n",
              "15  2013-12-31 06:00:00\n",
              "16  2013-12-31 06:00:00\n",
              "17  2013-12-31 06:00:00\n",
              "18  2013-12-31 06:00:00\n",
              "19  2013-12-31 05:00:00\n",
              "20  2013-12-31 06:00:00\n",
              "21  2013-12-31 06:00:00\n",
              "22  2013-12-31 06:00:00\n",
              "23  2013-12-31 06:00:00\n",
              "24  2013-12-31 06:00:00\n",
              "25  2013-12-31 06:00:00\n",
              "26  2013-12-31 06:00:00\n",
              "27  2013-12-31 06:00:00\n",
              "28  2013-12-31 06:00:00\n",
              "29  2013-12-31 06:00:00\n",
              "30  2013-12-31 06:00:00\n",
              "⋮   ⋮                  \n",
              "747 2013-12-31 20:00:00\n",
              "748 2013-12-31 21:00:00\n",
              "749 2013-12-31 21:00:00\n",
              "750 2013-12-31 21:00:00\n",
              "751 2013-12-31 21:00:00\n",
              "752 2013-12-31 22:00:00\n",
              "753 2013-12-31 22:00:00\n",
              "754 2013-12-31 22:00:00\n",
              "755 2013-12-31 22:00:00\n",
              "756 2013-12-31 22:00:00\n",
              "757 2013-12-31 23:00:00\n",
              "758 2013-12-31 22:00:00\n",
              "759 2013-12-31 23:00:00\n",
              "760 2013-12-31 23:00:00\n",
              "761 2013-12-31 15:00:00\n",
              "762 2013-12-31 20:00:00\n",
              "763 2013-12-31 19:00:00\n",
              "764 2013-12-31 15:00:00\n",
              "765 2013-12-31 10:00:00\n",
              "766 2013-12-31 08:00:00\n",
              "767 2013-12-31 07:00:00\n",
              "768 2013-12-31 20:00:00\n",
              "769 2013-12-31 15:00:00\n",
              "770 2013-12-31 14:00:00\n",
              "771 2013-12-31 08:00:00\n",
              "772 2013-12-31 07:00:00\n",
              "773 2013-12-31 08:00:00\n",
              "774 2013-12-31 16:00:00\n",
              "775 2013-12-31 06:00:00\n",
              "776 2013-12-31 08:00:00"
            ]
          },
          "metadata": {}
        }
      ]
    },
    {
      "cell_type": "markdown",
      "metadata": {
        "id": "H4FP6WNIRPyY"
      },
      "source": [
        "### 4.2 Función count()\n",
        "\n",
        "Como su nombre lo indica, esta función nos permite contar registros de una tabla. Es de suma utilidad cuando se utiliza dentro de agrupaciones de tablas. Estas últimas las veremos más adelante.\n",
        "\n",
        "Alternativamente, en la librería _dplyr_, contamos con la función `N()` la cual también retorna el conteo de registros."
      ]
    },
    {
      "cell_type": "code",
      "source": [
        "# Contar la cantidad de vuelos por cada aeropuerto de origen\n",
        "count(vuelos, origin)"
      ],
      "metadata": {
        "id": "wnUhEQO0gwVB",
        "outputId": "f01da107-a86d-42f5-e2cf-2d9ea7172e95",
        "colab": {
          "base_uri": "https://localhost:8080/",
          "height": 192
        }
      },
      "execution_count": null,
      "outputs": [
        {
          "output_type": "display_data",
          "data": {
            "text/html": [
              "<table class=\"dataframe\">\n",
              "<caption>A data.frame: 3 × 2</caption>\n",
              "<thead>\n",
              "\t<tr><th scope=col>origin</th><th scope=col>n</th></tr>\n",
              "\t<tr><th scope=col>&lt;chr&gt;</th><th scope=col>&lt;int&gt;</th></tr>\n",
              "</thead>\n",
              "<tbody>\n",
              "\t<tr><td>EWR</td><td>120835</td></tr>\n",
              "\t<tr><td>JFK</td><td>111279</td></tr>\n",
              "\t<tr><td>LGA</td><td>104662</td></tr>\n",
              "</tbody>\n",
              "</table>\n"
            ],
            "text/markdown": "\nA data.frame: 3 × 2\n\n| origin &lt;chr&gt; | n &lt;int&gt; |\n|---|---|\n| EWR | 120835 |\n| JFK | 111279 |\n| LGA | 104662 |\n\n",
            "text/latex": "A data.frame: 3 × 2\n\\begin{tabular}{ll}\n origin & n\\\\\n <chr> & <int>\\\\\n\\hline\n\t EWR & 120835\\\\\n\t JFK & 111279\\\\\n\t LGA & 104662\\\\\n\\end{tabular}\n",
            "text/plain": [
              "  origin n     \n",
              "1 EWR    120835\n",
              "2 JFK    111279\n",
              "3 LGA    104662"
            ]
          },
          "metadata": {}
        }
      ]
    },
    {
      "cell_type": "code",
      "metadata": {
        "trusted": true,
        "id": "LmMG115pRPyY",
        "outputId": "c1c0d9a7-3531-46e3-9e68-5c4dea64ef7c",
        "colab": {
          "base_uri": "https://localhost:8080/",
          "height": 286
        }
      },
      "source": [
        "# count() y N() ----------------------------------------------------------------\n",
        "# Podemos contar la cantidad de vuelos por mes y día\n",
        "vuelos_diarios <- count(vuelos, month, day)\n",
        "head(vuelos_diarios)\n",
        "\n"
      ],
      "execution_count": null,
      "outputs": [
        {
          "output_type": "display_data",
          "data": {
            "text/html": [
              "<table class=\"dataframe\">\n",
              "<caption>A data.frame: 6 × 3</caption>\n",
              "<thead>\n",
              "\t<tr><th></th><th scope=col>month</th><th scope=col>day</th><th scope=col>n</th></tr>\n",
              "\t<tr><th></th><th scope=col>&lt;int&gt;</th><th scope=col>&lt;int&gt;</th><th scope=col>&lt;int&gt;</th></tr>\n",
              "</thead>\n",
              "<tbody>\n",
              "\t<tr><th scope=row>1</th><td>1</td><td>1</td><td>842</td></tr>\n",
              "\t<tr><th scope=row>2</th><td>1</td><td>2</td><td>943</td></tr>\n",
              "\t<tr><th scope=row>3</th><td>1</td><td>3</td><td>914</td></tr>\n",
              "\t<tr><th scope=row>4</th><td>1</td><td>4</td><td>915</td></tr>\n",
              "\t<tr><th scope=row>5</th><td>1</td><td>5</td><td>720</td></tr>\n",
              "\t<tr><th scope=row>6</th><td>1</td><td>6</td><td>832</td></tr>\n",
              "</tbody>\n",
              "</table>\n"
            ],
            "text/markdown": "\nA data.frame: 6 × 3\n\n| <!--/--> | month &lt;int&gt; | day &lt;int&gt; | n &lt;int&gt; |\n|---|---|---|---|\n| 1 | 1 | 1 | 842 |\n| 2 | 1 | 2 | 943 |\n| 3 | 1 | 3 | 914 |\n| 4 | 1 | 4 | 915 |\n| 5 | 1 | 5 | 720 |\n| 6 | 1 | 6 | 832 |\n\n",
            "text/latex": "A data.frame: 6 × 3\n\\begin{tabular}{r|lll}\n  & month & day & n\\\\\n  & <int> & <int> & <int>\\\\\n\\hline\n\t1 & 1 & 1 & 842\\\\\n\t2 & 1 & 2 & 943\\\\\n\t3 & 1 & 3 & 914\\\\\n\t4 & 1 & 4 & 915\\\\\n\t5 & 1 & 5 & 720\\\\\n\t6 & 1 & 6 & 832\\\\\n\\end{tabular}\n",
            "text/plain": [
              "  month day n  \n",
              "1 1     1   842\n",
              "2 1     2   943\n",
              "3 1     3   914\n",
              "4 1     4   915\n",
              "5 1     5   720\n",
              "6 1     6   832"
            ]
          },
          "metadata": {}
        }
      ]
    },
    {
      "cell_type": "code",
      "source": [
        "# ¿Cuántos vuelos hay registrados para el 25 de dic?¿y el primero de enero?\n",
        "filter(vuelos_diarios, (day == 25 & month == 12) | (day == 1 & month == 1))"
      ],
      "metadata": {
        "id": "1Rb-MIqEhddm",
        "outputId": "0557c55b-71f7-4451-f3d5-13c28238c914",
        "colab": {
          "base_uri": "https://localhost:8080/",
          "height": 160
        }
      },
      "execution_count": null,
      "outputs": [
        {
          "output_type": "display_data",
          "data": {
            "text/html": [
              "<table class=\"dataframe\">\n",
              "<caption>A data.frame: 2 × 3</caption>\n",
              "<thead>\n",
              "\t<tr><th scope=col>month</th><th scope=col>day</th><th scope=col>n</th></tr>\n",
              "\t<tr><th scope=col>&lt;int&gt;</th><th scope=col>&lt;int&gt;</th><th scope=col>&lt;int&gt;</th></tr>\n",
              "</thead>\n",
              "<tbody>\n",
              "\t<tr><td> 1</td><td> 1</td><td>842</td></tr>\n",
              "\t<tr><td>12</td><td>25</td><td>719</td></tr>\n",
              "</tbody>\n",
              "</table>\n"
            ],
            "text/markdown": "\nA data.frame: 2 × 3\n\n| month &lt;int&gt; | day &lt;int&gt; | n &lt;int&gt; |\n|---|---|---|\n|  1 |  1 | 842 |\n| 12 | 25 | 719 |\n\n",
            "text/latex": "A data.frame: 2 × 3\n\\begin{tabular}{lll}\n month & day & n\\\\\n <int> & <int> & <int>\\\\\n\\hline\n\t  1 &  1 & 842\\\\\n\t 12 & 25 & 719\\\\\n\\end{tabular}\n",
            "text/plain": [
              "  month day n  \n",
              "1  1     1  842\n",
              "2 12    25  719"
            ]
          },
          "metadata": {}
        }
      ]
    },
    {
      "cell_type": "code",
      "metadata": {
        "trusted": true,
        "id": "pvkqzxk3RPyf"
      },
      "source": [
        "#si quisiéramos guardar resgidtros en el disco, una manera es usando write.csv()\n",
        "write.csv(vuelos_diarios, file = \"resumen_diario_vuelos.csv\" , row.names = F)\n"
      ],
      "execution_count": null,
      "outputs": []
    },
    {
      "cell_type": "code",
      "metadata": {
        "trusted": true,
        "id": "SIuMwcy8RPyh",
        "outputId": "635fa106-fb6f-4f43-d51f-856627f3b5b3",
        "colab": {
          "base_uri": "https://localhost:8080/",
          "height": 52
        }
      },
      "source": [
        "# ¿Cuántos vuelos hay registrados entre noviembre y diciembre?¿A qué porcentaje del total corresponde?\n",
        "nrow(filter(vuelos, month >= 11)) # tota vuelos entre nov y dic\n",
        "nrow(filter(vuelos, month >= 11)) / nrow(vuelos) # Aprox el 16% de los vuelos se dieron entre noviembre y diciembre."
      ],
      "execution_count": null,
      "outputs": [
        {
          "output_type": "display_data",
          "data": {
            "text/html": [
              "55403"
            ],
            "text/markdown": "55403",
            "text/latex": "55403",
            "text/plain": [
              "[1] 55403"
            ]
          },
          "metadata": {}
        },
        {
          "output_type": "display_data",
          "data": {
            "text/html": [
              "0.164509941325985"
            ],
            "text/markdown": "0.164509941325985",
            "text/latex": "0.164509941325985",
            "text/plain": [
              "[1] 0.1645099"
            ]
          },
          "metadata": {}
        }
      ]
    },
    {
      "cell_type": "code",
      "source": [
        "count(filter(vuelos, month >= 11)) # count retorna un data.frame"
      ],
      "metadata": {
        "id": "R_CyXTGPlb8l",
        "outputId": "c63d0604-2eff-4184-bd1d-ca3a71bca211",
        "colab": {
          "base_uri": "https://localhost:8080/",
          "height": 164
        }
      },
      "execution_count": null,
      "outputs": [
        {
          "output_type": "display_data",
          "data": {
            "text/html": [
              "<table class=\"dataframe\">\n",
              "<caption>A data.frame: 1 × 1</caption>\n",
              "<thead>\n",
              "\t<tr><th scope=col>n</th></tr>\n",
              "\t<tr><th scope=col>&lt;int&gt;</th></tr>\n",
              "</thead>\n",
              "<tbody>\n",
              "\t<tr><td>55403</td></tr>\n",
              "</tbody>\n",
              "</table>\n"
            ],
            "text/markdown": "\nA data.frame: 1 × 1\n\n| n &lt;int&gt; |\n|---|\n| 55403 |\n\n",
            "text/latex": "A data.frame: 1 × 1\n\\begin{tabular}{l}\n n\\\\\n <int>\\\\\n\\hline\n\t 55403\\\\\n\\end{tabular}\n",
            "text/plain": [
              "  n    \n",
              "1 55403"
            ]
          },
          "metadata": {}
        }
      ]
    },
    {
      "cell_type": "code",
      "metadata": {
        "trusted": true,
        "id": "3XFpG_fYRPyj",
        "outputId": "e92ae8f9-ee09-4a2f-bd33-61ef04e32b58",
        "colab": {
          "base_uri": "https://localhost:8080/",
          "height": 34
        }
      },
      "source": [
        "# ¿Qué porcentaje de vuelos tienen un retraso  (de salida o llegada) mayor a una hora?\n",
        "nrow(filter(vuelos, arr_delay > 60 | dep_delay > 60 )) / nrow(vuelos) # Aporx un 9% de los vuelos tienen un retraso de más de una hora\n",
        "#columnas arr_delay o dep_delay\n"
      ],
      "execution_count": null,
      "outputs": [
        {
          "output_type": "display_data",
          "data": {
            "text/html": [
              "0.0941426942537473"
            ],
            "text/markdown": "0.0941426942537473",
            "text/latex": "0.0941426942537473",
            "text/plain": [
              "[1] 0.09414269"
            ]
          },
          "metadata": {}
        }
      ]
    },
    {
      "cell_type": "code",
      "metadata": {
        "trusted": true,
        "id": "qnB-hTU-RPyl"
      },
      "source": [
        "# ¿Cuántos vuelos llegaron con al menos dos horas de retraso pero no se retrasaron al partir?\n"
      ],
      "execution_count": null,
      "outputs": []
    },
    {
      "cell_type": "markdown",
      "metadata": {
        "id": "zr5FIczKRPym"
      },
      "source": [
        "### 4.3 Función arrange()\n",
        "\n",
        "Esta función nos permite ordernar registros basándose en la indexación de alguna columna. Es el equivalente a la sentencia `order by` en sql.\n",
        "Esta función recibe como argumento principal un dataset a ordenar, y los nombres de las columnas por las cuales se quiere ordenar. Para más información consultar la ayuda de esta función (?arrange)\n"
      ]
    },
    {
      "cell_type": "code",
      "metadata": {
        "trusted": true,
        "id": "aGK8DaZVRPyn",
        "outputId": "1158ccc3-a6a7-4d7b-ed25-5d209e9fdb10",
        "colab": {
          "base_uri": "https://localhost:8080/",
          "height": 1000
        }
      },
      "source": [
        "# arrange() ----------------------------------------------------------------\n",
        "# Ejemplo, podemos ordenar la data vuelos por mes y arr_delay\n",
        "arrange(vuelos, month, arr_delay)# por defecto ordena ascendentemente\n"
      ],
      "execution_count": null,
      "outputs": [
        {
          "output_type": "display_data",
          "data": {
            "text/html": [
              "<table class=\"dataframe\">\n",
              "<caption>A data.frame: 336776 × 19</caption>\n",
              "<thead>\n",
              "\t<tr><th scope=col>year</th><th scope=col>month</th><th scope=col>day</th><th scope=col>dep_time</th><th scope=col>sched_dep_time</th><th scope=col>dep_delay</th><th scope=col>arr_time</th><th scope=col>sched_arr_time</th><th scope=col>arr_delay</th><th scope=col>carrier</th><th scope=col>flight</th><th scope=col>tailnum</th><th scope=col>origin</th><th scope=col>dest</th><th scope=col>air_time</th><th scope=col>distance</th><th scope=col>hour</th><th scope=col>minute</th><th scope=col>time_hour</th></tr>\n",
              "\t<tr><th scope=col>&lt;int&gt;</th><th scope=col>&lt;int&gt;</th><th scope=col>&lt;int&gt;</th><th scope=col>&lt;int&gt;</th><th scope=col>&lt;int&gt;</th><th scope=col>&lt;int&gt;</th><th scope=col>&lt;int&gt;</th><th scope=col>&lt;int&gt;</th><th scope=col>&lt;int&gt;</th><th scope=col>&lt;chr&gt;</th><th scope=col>&lt;int&gt;</th><th scope=col>&lt;chr&gt;</th><th scope=col>&lt;chr&gt;</th><th scope=col>&lt;chr&gt;</th><th scope=col>&lt;int&gt;</th><th scope=col>&lt;int&gt;</th><th scope=col>&lt;int&gt;</th><th scope=col>&lt;int&gt;</th><th scope=col>&lt;chr&gt;</th></tr>\n",
              "</thead>\n",
              "<tbody>\n",
              "\t<tr><td>2013</td><td>1</td><td> 4</td><td>1026</td><td>1030</td><td> -4</td><td>1305</td><td>1415</td><td>-70</td><td>VX</td><td>  23</td><td>N855VA</td><td>JFK</td><td>SFO</td><td>324</td><td>2586</td><td>10</td><td>30</td><td>2013-01-04 10:00:00</td></tr>\n",
              "\t<tr><td>2013</td><td>1</td><td> 3</td><td> 941</td><td> 945</td><td> -4</td><td>1153</td><td>1258</td><td>-65</td><td>B6</td><td> 679</td><td>N789JB</td><td>JFK</td><td>LAX</td><td>297</td><td>2475</td><td> 9</td><td>45</td><td>2013-01-03 09:00:00</td></tr>\n",
              "\t<tr><td>2013</td><td>1</td><td>14</td><td>1840</td><td>1845</td><td> -5</td><td>2117</td><td>2221</td><td>-64</td><td>DL</td><td>2190</td><td>N324US</td><td>JFK</td><td>MIA</td><td>146</td><td>1089</td><td>18</td><td>45</td><td>2013-01-14 18:00:00</td></tr>\n",
              "\t<tr><td>2013</td><td>1</td><td> 3</td><td>1153</td><td>1200</td><td> -7</td><td>1442</td><td>1545</td><td>-63</td><td>VX</td><td>  25</td><td>N847VA</td><td>JFK</td><td>SFO</td><td>333</td><td>2586</td><td>12</td><td> 0</td><td>2013-01-03 12:00:00</td></tr>\n",
              "\t<tr><td>2013</td><td>1</td><td> 3</td><td>1228</td><td>1235</td><td> -7</td><td>1503</td><td>1606</td><td>-63</td><td>DL</td><td>2174</td><td>N389DA</td><td>JFK</td><td>SLC</td><td>260</td><td>1990</td><td>12</td><td>35</td><td>2013-01-03 12:00:00</td></tr>\n",
              "\t<tr><td>2013</td><td>1</td><td>27</td><td>1845</td><td>1850</td><td> -5</td><td>2110</td><td>2212</td><td>-62</td><td>DL</td><td>2159</td><td>N398DA</td><td>JFK</td><td>MCO</td><td>127</td><td> 944</td><td>18</td><td>50</td><td>2013-01-27 18:00:00</td></tr>\n",
              "\t<tr><td>2013</td><td>1</td><td> 3</td><td>1605</td><td>1610</td><td> -5</td><td>1816</td><td>1917</td><td>-61</td><td>DL</td><td>  91</td><td>N3740C</td><td>JFK</td><td>LAS</td><td>282</td><td>2248</td><td>16</td><td>10</td><td>2013-01-03 16:00:00</td></tr>\n",
              "\t<tr><td>2013</td><td>1</td><td> 3</td><td>1857</td><td>1900</td><td> -3</td><td>2200</td><td>2301</td><td>-61</td><td>DL</td><td>1465</td><td>N722TW</td><td>JFK</td><td>SFO</td><td>329</td><td>2586</td><td>19</td><td> 0</td><td>2013-01-03 19:00:00</td></tr>\n",
              "\t<tr><td>2013</td><td>1</td><td> 4</td><td>1219</td><td>1221</td><td> -2</td><td>1454</td><td>1555</td><td>-61</td><td>UA</td><td> 551</td><td>N830UA</td><td>EWR</td><td>SFO</td><td>313</td><td>2565</td><td>12</td><td>21</td><td>2013-01-04 12:00:00</td></tr>\n",
              "\t<tr><td>2013</td><td>1</td><td> 6</td><td> 812</td><td> 819</td><td> -7</td><td>1102</td><td>1203</td><td>-61</td><td>UA</td><td> 665</td><td>N805UA</td><td>EWR</td><td>SFO</td><td>336</td><td>2565</td><td> 8</td><td>19</td><td>2013-01-06 08:00:00</td></tr>\n",
              "\t<tr><td>2013</td><td>1</td><td>12</td><td> 913</td><td> 920</td><td> -7</td><td>1347</td><td>1448</td><td>-61</td><td>DL</td><td> 675</td><td>N711ZX</td><td>JFK</td><td>STT</td><td>181</td><td>1623</td><td> 9</td><td>20</td><td>2013-01-12 09:00:00</td></tr>\n",
              "\t<tr><td>2013</td><td>1</td><td> 3</td><td>1920</td><td>1920</td><td>  0</td><td>2158</td><td>2258</td><td>-60</td><td>DL</td><td>   6</td><td>N3768 </td><td>JFK</td><td>SLC</td><td>250</td><td>1990</td><td>19</td><td>20</td><td>2013-01-03 19:00:00</td></tr>\n",
              "\t<tr><td>2013</td><td>1</td><td> 2</td><td> 654</td><td> 700</td><td> -6</td><td> 946</td><td>1045</td><td>-59</td><td>DL</td><td>1865</td><td>N711ZX</td><td>JFK</td><td>SFO</td><td>323</td><td>2586</td><td> 7</td><td> 0</td><td>2013-01-02 07:00:00</td></tr>\n",
              "\t<tr><td>2013</td><td>1</td><td> 3</td><td>1626</td><td>1630</td><td> -4</td><td>1853</td><td>1952</td><td>-59</td><td>B6</td><td> 675</td><td>N652JB</td><td>JFK</td><td>LAX</td><td>301</td><td>2475</td><td>16</td><td>30</td><td>2013-01-03 16:00:00</td></tr>\n",
              "\t<tr><td>2013</td><td>1</td><td>27</td><td>1839</td><td>1845</td><td> -6</td><td>2038</td><td>2137</td><td>-59</td><td>9E</td><td>3369</td><td>N919XJ</td><td>JFK</td><td>MSY</td><td>166</td><td>1182</td><td>18</td><td>45</td><td>2013-01-27 18:00:00</td></tr>\n",
              "\t<tr><td>2013</td><td>1</td><td>26</td><td>1651</td><td>1659</td><td> -8</td><td>1946</td><td>2044</td><td>-58</td><td>9E</td><td>3375</td><td>N930XJ</td><td>JFK</td><td>SAT</td><td>214</td><td>1587</td><td>16</td><td>59</td><td>2013-01-26 16:00:00</td></tr>\n",
              "\t<tr><td>2013</td><td>1</td><td> 2</td><td> 857</td><td> 900</td><td> -3</td><td>1130</td><td>1227</td><td>-57</td><td>DL</td><td> 120</td><td>N710TW</td><td>JFK</td><td>LAX</td><td>310</td><td>2475</td><td> 9</td><td> 0</td><td>2013-01-02 09:00:00</td></tr>\n",
              "\t<tr><td>2013</td><td>1</td><td> 3</td><td>1957</td><td>1945</td><td> 12</td><td>2232</td><td>2329</td><td>-57</td><td>B6</td><td> 645</td><td>N793JB</td><td>JFK</td><td>SFO</td><td>315</td><td>2586</td><td>19</td><td>45</td><td>2013-01-03 19:00:00</td></tr>\n",
              "\t<tr><td>2013</td><td>1</td><td> 4</td><td> 650</td><td> 655</td><td> -5</td><td> 933</td><td>1030</td><td>-57</td><td>DL</td><td>1415</td><td>N397DA</td><td>JFK</td><td>SLC</td><td>265</td><td>1990</td><td> 6</td><td>55</td><td>2013-01-04 06:00:00</td></tr>\n",
              "\t<tr><td>2013</td><td>1</td><td> 4</td><td> 829</td><td> 830</td><td> -1</td><td>1113</td><td>1210</td><td>-57</td><td>UA</td><td>1480</td><td>N36207</td><td>EWR</td><td>SFO</td><td>326</td><td>2565</td><td> 8</td><td>30</td><td>2013-01-04 08:00:00</td></tr>\n",
              "\t<tr><td>2013</td><td>1</td><td> 4</td><td>1657</td><td>1700</td><td> -3</td><td>1952</td><td>2049</td><td>-57</td><td>DL</td><td>  31</td><td>N722TW</td><td>JFK</td><td>SFO</td><td>326</td><td>2586</td><td>17</td><td> 0</td><td>2013-01-04 17:00:00</td></tr>\n",
              "\t<tr><td>2013</td><td>1</td><td>30</td><td>1915</td><td>1915</td><td>  0</td><td>2133</td><td>2230</td><td>-57</td><td>DL</td><td>1729</td><td>N3754A</td><td>JFK</td><td>LAS</td><td>294</td><td>2248</td><td>19</td><td>15</td><td>2013-01-30 19:00:00</td></tr>\n",
              "\t<tr><td>2013</td><td>1</td><td> 3</td><td>1806</td><td>1810</td><td> -4</td><td>2036</td><td>2132</td><td>-56</td><td>B6</td><td> 217</td><td>N559JB</td><td>JFK</td><td>LGB</td><td>293</td><td>2465</td><td>18</td><td>10</td><td>2013-01-03 18:00:00</td></tr>\n",
              "\t<tr><td>2013</td><td>1</td><td> 3</td><td>1919</td><td>1920</td><td> -1</td><td>2219</td><td>2315</td><td>-56</td><td>DL</td><td>1345</td><td>N3769L</td><td>JFK</td><td>PHX</td><td>273</td><td>2153</td><td>19</td><td>20</td><td>2013-01-03 19:00:00</td></tr>\n",
              "\t<tr><td>2013</td><td>1</td><td>14</td><td>1838</td><td>1850</td><td>-12</td><td>2116</td><td>2212</td><td>-56</td><td>DL</td><td>2159</td><td>N384DA</td><td>JFK</td><td>MCO</td><td>135</td><td> 944</td><td>18</td><td>50</td><td>2013-01-14 18:00:00</td></tr>\n",
              "\t<tr><td>2013</td><td>1</td><td> 2</td><td>1240</td><td>1245</td><td> -5</td><td>1521</td><td>1616</td><td>-55</td><td>DL</td><td>2174</td><td>N3751B</td><td>JFK</td><td>SLC</td><td>264</td><td>1990</td><td>12</td><td>45</td><td>2013-01-02 12:00:00</td></tr>\n",
              "\t<tr><td>2013</td><td>1</td><td> 4</td><td>1118</td><td>1130</td><td>-12</td><td>1350</td><td>1445</td><td>-55</td><td>UA</td><td> 703</td><td>N512UA</td><td>JFK</td><td>LAX</td><td>309</td><td>2475</td><td>11</td><td>30</td><td>2013-01-04 11:00:00</td></tr>\n",
              "\t<tr><td>2013</td><td>1</td><td> 8</td><td>1847</td><td>1850</td><td> -3</td><td>2117</td><td>2212</td><td>-55</td><td>DL</td><td>2159</td><td>N386DA</td><td>JFK</td><td>MCO</td><td>132</td><td> 944</td><td>18</td><td>50</td><td>2013-01-08 18:00:00</td></tr>\n",
              "\t<tr><td>2013</td><td>1</td><td>11</td><td>1845</td><td>1850</td><td> -5</td><td>2117</td><td>2212</td><td>-55</td><td>DL</td><td>2159</td><td>N3768 </td><td>JFK</td><td>MCO</td><td>125</td><td> 944</td><td>18</td><td>50</td><td>2013-01-11 18:00:00</td></tr>\n",
              "\t<tr><td>2013</td><td>1</td><td>13</td><td> 723</td><td> 730</td><td> -7</td><td>1020</td><td>1115</td><td>-55</td><td>VX</td><td>  11</td><td>N841VA</td><td>JFK</td><td>SFO</td><td>339</td><td>2586</td><td> 7</td><td>30</td><td>2013-01-13 07:00:00</td></tr>\n",
              "\t<tr><td>⋮</td><td>⋮</td><td>⋮</td><td>⋮</td><td>⋮</td><td>⋮</td><td>⋮</td><td>⋮</td><td>⋮</td><td>⋮</td><td>⋮</td><td>⋮</td><td>⋮</td><td>⋮</td><td>⋮</td><td>⋮</td><td>⋮</td><td>⋮</td><td>⋮</td></tr>\n",
              "\t<tr><td>2013</td><td>12</td><td>30</td><td>  NA</td><td>1635</td><td>NA</td><td> NA</td><td>1825</td><td>NA</td><td>AA</td><td> 343</td><td>N4XVAA</td><td>LGA</td><td>ORD</td><td>NA</td><td> 733</td><td>16</td><td>35</td><td>2013-12-30 16:00:00</td></tr>\n",
              "\t<tr><td>2013</td><td>12</td><td>30</td><td>  NA</td><td> 600</td><td>NA</td><td> NA</td><td> 855</td><td>NA</td><td>B6</td><td> 605</td><td>N708JB</td><td>EWR</td><td>FLL</td><td>NA</td><td>1065</td><td> 6</td><td> 0</td><td>2013-12-30 06:00:00</td></tr>\n",
              "\t<tr><td>2013</td><td>12</td><td>30</td><td>  NA</td><td>1430</td><td>NA</td><td> NA</td><td>1626</td><td>NA</td><td>EV</td><td>4261</td><td>N27200</td><td>LGA</td><td>CLE</td><td>NA</td><td> 419</td><td>14</td><td>30</td><td>2013-12-30 14:00:00</td></tr>\n",
              "\t<tr><td>2013</td><td>12</td><td>30</td><td>  NA</td><td>1350</td><td>NA</td><td> NA</td><td>1602</td><td>NA</td><td>EV</td><td>4193</td><td>N36915</td><td>EWR</td><td>MSP</td><td>NA</td><td>1008</td><td>13</td><td>50</td><td>2013-12-30 13:00:00</td></tr>\n",
              "\t<tr><td>2013</td><td>12</td><td>30</td><td>  NA</td><td>1452</td><td>NA</td><td> NA</td><td>1559</td><td>NA</td><td>EV</td><td>4372</td><td>N14573</td><td>EWR</td><td>DCA</td><td>NA</td><td> 199</td><td>14</td><td>52</td><td>2013-12-30 14:00:00</td></tr>\n",
              "\t<tr><td>2013</td><td>12</td><td>30</td><td>  NA</td><td>1935</td><td>NA</td><td> NA</td><td>2055</td><td>NA</td><td>EV</td><td>5714</td><td>N832AS</td><td>JFK</td><td>IAD</td><td>NA</td><td> 228</td><td>19</td><td>35</td><td>2013-12-30 19:00:00</td></tr>\n",
              "\t<tr><td>2013</td><td>12</td><td>30</td><td>  NA</td><td>1011</td><td>NA</td><td> NA</td><td>1134</td><td>NA</td><td>EV</td><td>6054</td><td>N16919</td><td>EWR</td><td>IAD</td><td>NA</td><td> 212</td><td>10</td><td>11</td><td>2013-12-30 10:00:00</td></tr>\n",
              "\t<tr><td>2013</td><td>12</td><td>30</td><td>  NA</td><td> 605</td><td>NA</td><td> NA</td><td> 723</td><td>NA</td><td>EV</td><td>6177</td><td>N13553</td><td>EWR</td><td>IAD</td><td>NA</td><td> 212</td><td> 6</td><td> 5</td><td>2013-12-30 06:00:00</td></tr>\n",
              "\t<tr><td>2013</td><td>12</td><td>30</td><td>  NA</td><td>1505</td><td>NA</td><td> NA</td><td>1759</td><td>NA</td><td>UA</td><td> 321</td><td>NA    </td><td>EWR</td><td>MCO</td><td>NA</td><td> 937</td><td>15</td><td> 5</td><td>2013-12-30 15:00:00</td></tr>\n",
              "\t<tr><td>2013</td><td>12</td><td>30</td><td>  NA</td><td>1355</td><td>NA</td><td> NA</td><td>1535</td><td>NA</td><td>MQ</td><td>3305</td><td>N821MQ</td><td>LGA</td><td>RDU</td><td>NA</td><td> 431</td><td>13</td><td>55</td><td>2013-12-30 13:00:00</td></tr>\n",
              "\t<tr><td>2013</td><td>12</td><td>30</td><td>  NA</td><td>2100</td><td>NA</td><td> NA</td><td>  48</td><td>NA</td><td>UA</td><td>1081</td><td>NA    </td><td>EWR</td><td>SFO</td><td>NA</td><td>2565</td><td>21</td><td> 0</td><td>2013-12-30 21:00:00</td></tr>\n",
              "\t<tr><td>2013</td><td>12</td><td>30</td><td>  NA</td><td>1221</td><td>NA</td><td> NA</td><td>1545</td><td>NA</td><td>UA</td><td>1297</td><td>NA    </td><td>EWR</td><td>SNA</td><td>NA</td><td>2434</td><td>12</td><td>21</td><td>2013-12-30 12:00:00</td></tr>\n",
              "\t<tr><td>2013</td><td>12</td><td>30</td><td>  NA</td><td> 855</td><td>NA</td><td> NA</td><td>1142</td><td>NA</td><td>UA</td><td>1506</td><td>NA    </td><td>EWR</td><td>JAC</td><td>NA</td><td>1874</td><td> 8</td><td>55</td><td>2013-12-30 08:00:00</td></tr>\n",
              "\t<tr><td>2013</td><td>12</td><td>31</td><td>2155</td><td>2039</td><td>76</td><td>253</td><td>2355</td><td>NA</td><td>B6</td><td>1205</td><td>N627JB</td><td>JFK</td><td>PDX</td><td>NA</td><td>2454</td><td>20</td><td>39</td><td>2013-12-31 20:00:00</td></tr>\n",
              "\t<tr><td>2013</td><td>12</td><td>31</td><td>  NA</td><td>1520</td><td>NA</td><td> NA</td><td>1705</td><td>NA</td><td>AA</td><td> 341</td><td>N568AA</td><td>LGA</td><td>ORD</td><td>NA</td><td> 733</td><td>15</td><td>20</td><td>2013-12-31 15:00:00</td></tr>\n",
              "\t<tr><td>2013</td><td>12</td><td>31</td><td>  NA</td><td>2025</td><td>NA</td><td> NA</td><td>2205</td><td>NA</td><td>AA</td><td> 371</td><td>N482AA</td><td>LGA</td><td>ORD</td><td>NA</td><td> 733</td><td>20</td><td>25</td><td>2013-12-31 20:00:00</td></tr>\n",
              "\t<tr><td>2013</td><td>12</td><td>31</td><td>  NA</td><td>1932</td><td>NA</td><td> NA</td><td>2305</td><td>NA</td><td>B6</td><td> 161</td><td>N516JB</td><td>JFK</td><td>SMF</td><td>NA</td><td>2521</td><td>19</td><td>32</td><td>2013-12-31 19:00:00</td></tr>\n",
              "\t<tr><td>2013</td><td>12</td><td>31</td><td>  NA</td><td>1505</td><td>NA</td><td> NA</td><td>1725</td><td>NA</td><td>EV</td><td>4181</td><td>N24103</td><td>EWR</td><td>MCI</td><td>NA</td><td>1092</td><td>15</td><td> 5</td><td>2013-12-31 15:00:00</td></tr>\n",
              "\t<tr><td>2013</td><td>12</td><td>31</td><td>  NA</td><td>1000</td><td>NA</td><td> NA</td><td>1252</td><td>NA</td><td>UA</td><td>1124</td><td>NA    </td><td>EWR</td><td>EGE</td><td>NA</td><td>1725</td><td>10</td><td> 0</td><td>2013-12-31 10:00:00</td></tr>\n",
              "\t<tr><td>2013</td><td>12</td><td>31</td><td>  NA</td><td> 840</td><td>NA</td><td> NA</td><td>1205</td><td>NA</td><td>UA</td><td>1151</td><td>NA    </td><td>EWR</td><td>SEA</td><td>NA</td><td>2402</td><td> 8</td><td>40</td><td>2013-12-31 08:00:00</td></tr>\n",
              "\t<tr><td>2013</td><td>12</td><td>31</td><td>  NA</td><td> 754</td><td>NA</td><td> NA</td><td>1118</td><td>NA</td><td>UA</td><td>1455</td><td>NA    </td><td>EWR</td><td>LAX</td><td>NA</td><td>2454</td><td> 7</td><td>54</td><td>2013-12-31 07:00:00</td></tr>\n",
              "\t<tr><td>2013</td><td>12</td><td>31</td><td>  NA</td><td>2000</td><td>NA</td><td> NA</td><td>2146</td><td>NA</td><td>UA</td><td>1482</td><td>NA    </td><td>EWR</td><td>ORD</td><td>NA</td><td> 719</td><td>20</td><td> 0</td><td>2013-12-31 20:00:00</td></tr>\n",
              "\t<tr><td>2013</td><td>12</td><td>31</td><td>  NA</td><td>1500</td><td>NA</td><td> NA</td><td>1817</td><td>NA</td><td>UA</td><td>1483</td><td>NA    </td><td>EWR</td><td>AUS</td><td>NA</td><td>1504</td><td>15</td><td> 0</td><td>2013-12-31 15:00:00</td></tr>\n",
              "\t<tr><td>2013</td><td>12</td><td>31</td><td>  NA</td><td>1430</td><td>NA</td><td> NA</td><td>1750</td><td>NA</td><td>UA</td><td>1493</td><td>NA    </td><td>EWR</td><td>LAX</td><td>NA</td><td>2454</td><td>14</td><td>30</td><td>2013-12-31 14:00:00</td></tr>\n",
              "\t<tr><td>2013</td><td>12</td><td>31</td><td>  NA</td><td> 855</td><td>NA</td><td> NA</td><td>1142</td><td>NA</td><td>UA</td><td>1506</td><td>NA    </td><td>EWR</td><td>JAC</td><td>NA</td><td>1874</td><td> 8</td><td>55</td><td>2013-12-31 08:00:00</td></tr>\n",
              "\t<tr><td>2013</td><td>12</td><td>31</td><td>  NA</td><td> 705</td><td>NA</td><td> NA</td><td> 931</td><td>NA</td><td>UA</td><td>1729</td><td>NA    </td><td>EWR</td><td>DEN</td><td>NA</td><td>1605</td><td> 7</td><td> 5</td><td>2013-12-31 07:00:00</td></tr>\n",
              "\t<tr><td>2013</td><td>12</td><td>31</td><td>  NA</td><td> 825</td><td>NA</td><td> NA</td><td>1029</td><td>NA</td><td>US</td><td>1831</td><td>NA    </td><td>JFK</td><td>CLT</td><td>NA</td><td> 541</td><td> 8</td><td>25</td><td>2013-12-31 08:00:00</td></tr>\n",
              "\t<tr><td>2013</td><td>12</td><td>31</td><td>  NA</td><td>1615</td><td>NA</td><td> NA</td><td>1800</td><td>NA</td><td>MQ</td><td>3301</td><td>N844MQ</td><td>LGA</td><td>RDU</td><td>NA</td><td> 431</td><td>16</td><td>15</td><td>2013-12-31 16:00:00</td></tr>\n",
              "\t<tr><td>2013</td><td>12</td><td>31</td><td>  NA</td><td> 600</td><td>NA</td><td> NA</td><td> 735</td><td>NA</td><td>UA</td><td> 219</td><td>NA    </td><td>EWR</td><td>ORD</td><td>NA</td><td> 719</td><td> 6</td><td> 0</td><td>2013-12-31 06:00:00</td></tr>\n",
              "\t<tr><td>2013</td><td>12</td><td>31</td><td>  NA</td><td> 830</td><td>NA</td><td> NA</td><td>1154</td><td>NA</td><td>UA</td><td> 443</td><td>NA    </td><td>JFK</td><td>LAX</td><td>NA</td><td>2475</td><td> 8</td><td>30</td><td>2013-12-31 08:00:00</td></tr>\n",
              "</tbody>\n",
              "</table>\n"
            ],
            "text/markdown": "\nA data.frame: 336776 × 19\n\n| year &lt;int&gt; | month &lt;int&gt; | day &lt;int&gt; | dep_time &lt;int&gt; | sched_dep_time &lt;int&gt; | dep_delay &lt;int&gt; | arr_time &lt;int&gt; | sched_arr_time &lt;int&gt; | arr_delay &lt;int&gt; | carrier &lt;chr&gt; | flight &lt;int&gt; | tailnum &lt;chr&gt; | origin &lt;chr&gt; | dest &lt;chr&gt; | air_time &lt;int&gt; | distance &lt;int&gt; | hour &lt;int&gt; | minute &lt;int&gt; | time_hour &lt;chr&gt; |\n|---|---|---|---|---|---|---|---|---|---|---|---|---|---|---|---|---|---|---|\n| 2013 | 1 |  4 | 1026 | 1030 |  -4 | 1305 | 1415 | -70 | VX |   23 | N855VA | JFK | SFO | 324 | 2586 | 10 | 30 | 2013-01-04 10:00:00 |\n| 2013 | 1 |  3 |  941 |  945 |  -4 | 1153 | 1258 | -65 | B6 |  679 | N789JB | JFK | LAX | 297 | 2475 |  9 | 45 | 2013-01-03 09:00:00 |\n| 2013 | 1 | 14 | 1840 | 1845 |  -5 | 2117 | 2221 | -64 | DL | 2190 | N324US | JFK | MIA | 146 | 1089 | 18 | 45 | 2013-01-14 18:00:00 |\n| 2013 | 1 |  3 | 1153 | 1200 |  -7 | 1442 | 1545 | -63 | VX |   25 | N847VA | JFK | SFO | 333 | 2586 | 12 |  0 | 2013-01-03 12:00:00 |\n| 2013 | 1 |  3 | 1228 | 1235 |  -7 | 1503 | 1606 | -63 | DL | 2174 | N389DA | JFK | SLC | 260 | 1990 | 12 | 35 | 2013-01-03 12:00:00 |\n| 2013 | 1 | 27 | 1845 | 1850 |  -5 | 2110 | 2212 | -62 | DL | 2159 | N398DA | JFK | MCO | 127 |  944 | 18 | 50 | 2013-01-27 18:00:00 |\n| 2013 | 1 |  3 | 1605 | 1610 |  -5 | 1816 | 1917 | -61 | DL |   91 | N3740C | JFK | LAS | 282 | 2248 | 16 | 10 | 2013-01-03 16:00:00 |\n| 2013 | 1 |  3 | 1857 | 1900 |  -3 | 2200 | 2301 | -61 | DL | 1465 | N722TW | JFK | SFO | 329 | 2586 | 19 |  0 | 2013-01-03 19:00:00 |\n| 2013 | 1 |  4 | 1219 | 1221 |  -2 | 1454 | 1555 | -61 | UA |  551 | N830UA | EWR | SFO | 313 | 2565 | 12 | 21 | 2013-01-04 12:00:00 |\n| 2013 | 1 |  6 |  812 |  819 |  -7 | 1102 | 1203 | -61 | UA |  665 | N805UA | EWR | SFO | 336 | 2565 |  8 | 19 | 2013-01-06 08:00:00 |\n| 2013 | 1 | 12 |  913 |  920 |  -7 | 1347 | 1448 | -61 | DL |  675 | N711ZX | JFK | STT | 181 | 1623 |  9 | 20 | 2013-01-12 09:00:00 |\n| 2013 | 1 |  3 | 1920 | 1920 |   0 | 2158 | 2258 | -60 | DL |    6 | N3768  | JFK | SLC | 250 | 1990 | 19 | 20 | 2013-01-03 19:00:00 |\n| 2013 | 1 |  2 |  654 |  700 |  -6 |  946 | 1045 | -59 | DL | 1865 | N711ZX | JFK | SFO | 323 | 2586 |  7 |  0 | 2013-01-02 07:00:00 |\n| 2013 | 1 |  3 | 1626 | 1630 |  -4 | 1853 | 1952 | -59 | B6 |  675 | N652JB | JFK | LAX | 301 | 2475 | 16 | 30 | 2013-01-03 16:00:00 |\n| 2013 | 1 | 27 | 1839 | 1845 |  -6 | 2038 | 2137 | -59 | 9E | 3369 | N919XJ | JFK | MSY | 166 | 1182 | 18 | 45 | 2013-01-27 18:00:00 |\n| 2013 | 1 | 26 | 1651 | 1659 |  -8 | 1946 | 2044 | -58 | 9E | 3375 | N930XJ | JFK | SAT | 214 | 1587 | 16 | 59 | 2013-01-26 16:00:00 |\n| 2013 | 1 |  2 |  857 |  900 |  -3 | 1130 | 1227 | -57 | DL |  120 | N710TW | JFK | LAX | 310 | 2475 |  9 |  0 | 2013-01-02 09:00:00 |\n| 2013 | 1 |  3 | 1957 | 1945 |  12 | 2232 | 2329 | -57 | B6 |  645 | N793JB | JFK | SFO | 315 | 2586 | 19 | 45 | 2013-01-03 19:00:00 |\n| 2013 | 1 |  4 |  650 |  655 |  -5 |  933 | 1030 | -57 | DL | 1415 | N397DA | JFK | SLC | 265 | 1990 |  6 | 55 | 2013-01-04 06:00:00 |\n| 2013 | 1 |  4 |  829 |  830 |  -1 | 1113 | 1210 | -57 | UA | 1480 | N36207 | EWR | SFO | 326 | 2565 |  8 | 30 | 2013-01-04 08:00:00 |\n| 2013 | 1 |  4 | 1657 | 1700 |  -3 | 1952 | 2049 | -57 | DL |   31 | N722TW | JFK | SFO | 326 | 2586 | 17 |  0 | 2013-01-04 17:00:00 |\n| 2013 | 1 | 30 | 1915 | 1915 |   0 | 2133 | 2230 | -57 | DL | 1729 | N3754A | JFK | LAS | 294 | 2248 | 19 | 15 | 2013-01-30 19:00:00 |\n| 2013 | 1 |  3 | 1806 | 1810 |  -4 | 2036 | 2132 | -56 | B6 |  217 | N559JB | JFK | LGB | 293 | 2465 | 18 | 10 | 2013-01-03 18:00:00 |\n| 2013 | 1 |  3 | 1919 | 1920 |  -1 | 2219 | 2315 | -56 | DL | 1345 | N3769L | JFK | PHX | 273 | 2153 | 19 | 20 | 2013-01-03 19:00:00 |\n| 2013 | 1 | 14 | 1838 | 1850 | -12 | 2116 | 2212 | -56 | DL | 2159 | N384DA | JFK | MCO | 135 |  944 | 18 | 50 | 2013-01-14 18:00:00 |\n| 2013 | 1 |  2 | 1240 | 1245 |  -5 | 1521 | 1616 | -55 | DL | 2174 | N3751B | JFK | SLC | 264 | 1990 | 12 | 45 | 2013-01-02 12:00:00 |\n| 2013 | 1 |  4 | 1118 | 1130 | -12 | 1350 | 1445 | -55 | UA |  703 | N512UA | JFK | LAX | 309 | 2475 | 11 | 30 | 2013-01-04 11:00:00 |\n| 2013 | 1 |  8 | 1847 | 1850 |  -3 | 2117 | 2212 | -55 | DL | 2159 | N386DA | JFK | MCO | 132 |  944 | 18 | 50 | 2013-01-08 18:00:00 |\n| 2013 | 1 | 11 | 1845 | 1850 |  -5 | 2117 | 2212 | -55 | DL | 2159 | N3768  | JFK | MCO | 125 |  944 | 18 | 50 | 2013-01-11 18:00:00 |\n| 2013 | 1 | 13 |  723 |  730 |  -7 | 1020 | 1115 | -55 | VX |   11 | N841VA | JFK | SFO | 339 | 2586 |  7 | 30 | 2013-01-13 07:00:00 |\n| ⋮ | ⋮ | ⋮ | ⋮ | ⋮ | ⋮ | ⋮ | ⋮ | ⋮ | ⋮ | ⋮ | ⋮ | ⋮ | ⋮ | ⋮ | ⋮ | ⋮ | ⋮ | ⋮ |\n| 2013 | 12 | 30 |   NA | 1635 | NA |  NA | 1825 | NA | AA |  343 | N4XVAA | LGA | ORD | NA |  733 | 16 | 35 | 2013-12-30 16:00:00 |\n| 2013 | 12 | 30 |   NA |  600 | NA |  NA |  855 | NA | B6 |  605 | N708JB | EWR | FLL | NA | 1065 |  6 |  0 | 2013-12-30 06:00:00 |\n| 2013 | 12 | 30 |   NA | 1430 | NA |  NA | 1626 | NA | EV | 4261 | N27200 | LGA | CLE | NA |  419 | 14 | 30 | 2013-12-30 14:00:00 |\n| 2013 | 12 | 30 |   NA | 1350 | NA |  NA | 1602 | NA | EV | 4193 | N36915 | EWR | MSP | NA | 1008 | 13 | 50 | 2013-12-30 13:00:00 |\n| 2013 | 12 | 30 |   NA | 1452 | NA |  NA | 1559 | NA | EV | 4372 | N14573 | EWR | DCA | NA |  199 | 14 | 52 | 2013-12-30 14:00:00 |\n| 2013 | 12 | 30 |   NA | 1935 | NA |  NA | 2055 | NA | EV | 5714 | N832AS | JFK | IAD | NA |  228 | 19 | 35 | 2013-12-30 19:00:00 |\n| 2013 | 12 | 30 |   NA | 1011 | NA |  NA | 1134 | NA | EV | 6054 | N16919 | EWR | IAD | NA |  212 | 10 | 11 | 2013-12-30 10:00:00 |\n| 2013 | 12 | 30 |   NA |  605 | NA |  NA |  723 | NA | EV | 6177 | N13553 | EWR | IAD | NA |  212 |  6 |  5 | 2013-12-30 06:00:00 |\n| 2013 | 12 | 30 |   NA | 1505 | NA |  NA | 1759 | NA | UA |  321 | NA     | EWR | MCO | NA |  937 | 15 |  5 | 2013-12-30 15:00:00 |\n| 2013 | 12 | 30 |   NA | 1355 | NA |  NA | 1535 | NA | MQ | 3305 | N821MQ | LGA | RDU | NA |  431 | 13 | 55 | 2013-12-30 13:00:00 |\n| 2013 | 12 | 30 |   NA | 2100 | NA |  NA |   48 | NA | UA | 1081 | NA     | EWR | SFO | NA | 2565 | 21 |  0 | 2013-12-30 21:00:00 |\n| 2013 | 12 | 30 |   NA | 1221 | NA |  NA | 1545 | NA | UA | 1297 | NA     | EWR | SNA | NA | 2434 | 12 | 21 | 2013-12-30 12:00:00 |\n| 2013 | 12 | 30 |   NA |  855 | NA |  NA | 1142 | NA | UA | 1506 | NA     | EWR | JAC | NA | 1874 |  8 | 55 | 2013-12-30 08:00:00 |\n| 2013 | 12 | 31 | 2155 | 2039 | 76 | 253 | 2355 | NA | B6 | 1205 | N627JB | JFK | PDX | NA | 2454 | 20 | 39 | 2013-12-31 20:00:00 |\n| 2013 | 12 | 31 |   NA | 1520 | NA |  NA | 1705 | NA | AA |  341 | N568AA | LGA | ORD | NA |  733 | 15 | 20 | 2013-12-31 15:00:00 |\n| 2013 | 12 | 31 |   NA | 2025 | NA |  NA | 2205 | NA | AA |  371 | N482AA | LGA | ORD | NA |  733 | 20 | 25 | 2013-12-31 20:00:00 |\n| 2013 | 12 | 31 |   NA | 1932 | NA |  NA | 2305 | NA | B6 |  161 | N516JB | JFK | SMF | NA | 2521 | 19 | 32 | 2013-12-31 19:00:00 |\n| 2013 | 12 | 31 |   NA | 1505 | NA |  NA | 1725 | NA | EV | 4181 | N24103 | EWR | MCI | NA | 1092 | 15 |  5 | 2013-12-31 15:00:00 |\n| 2013 | 12 | 31 |   NA | 1000 | NA |  NA | 1252 | NA | UA | 1124 | NA     | EWR | EGE | NA | 1725 | 10 |  0 | 2013-12-31 10:00:00 |\n| 2013 | 12 | 31 |   NA |  840 | NA |  NA | 1205 | NA | UA | 1151 | NA     | EWR | SEA | NA | 2402 |  8 | 40 | 2013-12-31 08:00:00 |\n| 2013 | 12 | 31 |   NA |  754 | NA |  NA | 1118 | NA | UA | 1455 | NA     | EWR | LAX | NA | 2454 |  7 | 54 | 2013-12-31 07:00:00 |\n| 2013 | 12 | 31 |   NA | 2000 | NA |  NA | 2146 | NA | UA | 1482 | NA     | EWR | ORD | NA |  719 | 20 |  0 | 2013-12-31 20:00:00 |\n| 2013 | 12 | 31 |   NA | 1500 | NA |  NA | 1817 | NA | UA | 1483 | NA     | EWR | AUS | NA | 1504 | 15 |  0 | 2013-12-31 15:00:00 |\n| 2013 | 12 | 31 |   NA | 1430 | NA |  NA | 1750 | NA | UA | 1493 | NA     | EWR | LAX | NA | 2454 | 14 | 30 | 2013-12-31 14:00:00 |\n| 2013 | 12 | 31 |   NA |  855 | NA |  NA | 1142 | NA | UA | 1506 | NA     | EWR | JAC | NA | 1874 |  8 | 55 | 2013-12-31 08:00:00 |\n| 2013 | 12 | 31 |   NA |  705 | NA |  NA |  931 | NA | UA | 1729 | NA     | EWR | DEN | NA | 1605 |  7 |  5 | 2013-12-31 07:00:00 |\n| 2013 | 12 | 31 |   NA |  825 | NA |  NA | 1029 | NA | US | 1831 | NA     | JFK | CLT | NA |  541 |  8 | 25 | 2013-12-31 08:00:00 |\n| 2013 | 12 | 31 |   NA | 1615 | NA |  NA | 1800 | NA | MQ | 3301 | N844MQ | LGA | RDU | NA |  431 | 16 | 15 | 2013-12-31 16:00:00 |\n| 2013 | 12 | 31 |   NA |  600 | NA |  NA |  735 | NA | UA |  219 | NA     | EWR | ORD | NA |  719 |  6 |  0 | 2013-12-31 06:00:00 |\n| 2013 | 12 | 31 |   NA |  830 | NA |  NA | 1154 | NA | UA |  443 | NA     | JFK | LAX | NA | 2475 |  8 | 30 | 2013-12-31 08:00:00 |\n\n",
            "text/latex": "A data.frame: 336776 × 19\n\\begin{tabular}{lllllllllllllllllll}\n year & month & day & dep\\_time & sched\\_dep\\_time & dep\\_delay & arr\\_time & sched\\_arr\\_time & arr\\_delay & carrier & flight & tailnum & origin & dest & air\\_time & distance & hour & minute & time\\_hour\\\\\n <int> & <int> & <int> & <int> & <int> & <int> & <int> & <int> & <int> & <chr> & <int> & <chr> & <chr> & <chr> & <int> & <int> & <int> & <int> & <chr>\\\\\n\\hline\n\t 2013 & 1 &  4 & 1026 & 1030 &  -4 & 1305 & 1415 & -70 & VX &   23 & N855VA & JFK & SFO & 324 & 2586 & 10 & 30 & 2013-01-04 10:00:00\\\\\n\t 2013 & 1 &  3 &  941 &  945 &  -4 & 1153 & 1258 & -65 & B6 &  679 & N789JB & JFK & LAX & 297 & 2475 &  9 & 45 & 2013-01-03 09:00:00\\\\\n\t 2013 & 1 & 14 & 1840 & 1845 &  -5 & 2117 & 2221 & -64 & DL & 2190 & N324US & JFK & MIA & 146 & 1089 & 18 & 45 & 2013-01-14 18:00:00\\\\\n\t 2013 & 1 &  3 & 1153 & 1200 &  -7 & 1442 & 1545 & -63 & VX &   25 & N847VA & JFK & SFO & 333 & 2586 & 12 &  0 & 2013-01-03 12:00:00\\\\\n\t 2013 & 1 &  3 & 1228 & 1235 &  -7 & 1503 & 1606 & -63 & DL & 2174 & N389DA & JFK & SLC & 260 & 1990 & 12 & 35 & 2013-01-03 12:00:00\\\\\n\t 2013 & 1 & 27 & 1845 & 1850 &  -5 & 2110 & 2212 & -62 & DL & 2159 & N398DA & JFK & MCO & 127 &  944 & 18 & 50 & 2013-01-27 18:00:00\\\\\n\t 2013 & 1 &  3 & 1605 & 1610 &  -5 & 1816 & 1917 & -61 & DL &   91 & N3740C & JFK & LAS & 282 & 2248 & 16 & 10 & 2013-01-03 16:00:00\\\\\n\t 2013 & 1 &  3 & 1857 & 1900 &  -3 & 2200 & 2301 & -61 & DL & 1465 & N722TW & JFK & SFO & 329 & 2586 & 19 &  0 & 2013-01-03 19:00:00\\\\\n\t 2013 & 1 &  4 & 1219 & 1221 &  -2 & 1454 & 1555 & -61 & UA &  551 & N830UA & EWR & SFO & 313 & 2565 & 12 & 21 & 2013-01-04 12:00:00\\\\\n\t 2013 & 1 &  6 &  812 &  819 &  -7 & 1102 & 1203 & -61 & UA &  665 & N805UA & EWR & SFO & 336 & 2565 &  8 & 19 & 2013-01-06 08:00:00\\\\\n\t 2013 & 1 & 12 &  913 &  920 &  -7 & 1347 & 1448 & -61 & DL &  675 & N711ZX & JFK & STT & 181 & 1623 &  9 & 20 & 2013-01-12 09:00:00\\\\\n\t 2013 & 1 &  3 & 1920 & 1920 &   0 & 2158 & 2258 & -60 & DL &    6 & N3768  & JFK & SLC & 250 & 1990 & 19 & 20 & 2013-01-03 19:00:00\\\\\n\t 2013 & 1 &  2 &  654 &  700 &  -6 &  946 & 1045 & -59 & DL & 1865 & N711ZX & JFK & SFO & 323 & 2586 &  7 &  0 & 2013-01-02 07:00:00\\\\\n\t 2013 & 1 &  3 & 1626 & 1630 &  -4 & 1853 & 1952 & -59 & B6 &  675 & N652JB & JFK & LAX & 301 & 2475 & 16 & 30 & 2013-01-03 16:00:00\\\\\n\t 2013 & 1 & 27 & 1839 & 1845 &  -6 & 2038 & 2137 & -59 & 9E & 3369 & N919XJ & JFK & MSY & 166 & 1182 & 18 & 45 & 2013-01-27 18:00:00\\\\\n\t 2013 & 1 & 26 & 1651 & 1659 &  -8 & 1946 & 2044 & -58 & 9E & 3375 & N930XJ & JFK & SAT & 214 & 1587 & 16 & 59 & 2013-01-26 16:00:00\\\\\n\t 2013 & 1 &  2 &  857 &  900 &  -3 & 1130 & 1227 & -57 & DL &  120 & N710TW & JFK & LAX & 310 & 2475 &  9 &  0 & 2013-01-02 09:00:00\\\\\n\t 2013 & 1 &  3 & 1957 & 1945 &  12 & 2232 & 2329 & -57 & B6 &  645 & N793JB & JFK & SFO & 315 & 2586 & 19 & 45 & 2013-01-03 19:00:00\\\\\n\t 2013 & 1 &  4 &  650 &  655 &  -5 &  933 & 1030 & -57 & DL & 1415 & N397DA & JFK & SLC & 265 & 1990 &  6 & 55 & 2013-01-04 06:00:00\\\\\n\t 2013 & 1 &  4 &  829 &  830 &  -1 & 1113 & 1210 & -57 & UA & 1480 & N36207 & EWR & SFO & 326 & 2565 &  8 & 30 & 2013-01-04 08:00:00\\\\\n\t 2013 & 1 &  4 & 1657 & 1700 &  -3 & 1952 & 2049 & -57 & DL &   31 & N722TW & JFK & SFO & 326 & 2586 & 17 &  0 & 2013-01-04 17:00:00\\\\\n\t 2013 & 1 & 30 & 1915 & 1915 &   0 & 2133 & 2230 & -57 & DL & 1729 & N3754A & JFK & LAS & 294 & 2248 & 19 & 15 & 2013-01-30 19:00:00\\\\\n\t 2013 & 1 &  3 & 1806 & 1810 &  -4 & 2036 & 2132 & -56 & B6 &  217 & N559JB & JFK & LGB & 293 & 2465 & 18 & 10 & 2013-01-03 18:00:00\\\\\n\t 2013 & 1 &  3 & 1919 & 1920 &  -1 & 2219 & 2315 & -56 & DL & 1345 & N3769L & JFK & PHX & 273 & 2153 & 19 & 20 & 2013-01-03 19:00:00\\\\\n\t 2013 & 1 & 14 & 1838 & 1850 & -12 & 2116 & 2212 & -56 & DL & 2159 & N384DA & JFK & MCO & 135 &  944 & 18 & 50 & 2013-01-14 18:00:00\\\\\n\t 2013 & 1 &  2 & 1240 & 1245 &  -5 & 1521 & 1616 & -55 & DL & 2174 & N3751B & JFK & SLC & 264 & 1990 & 12 & 45 & 2013-01-02 12:00:00\\\\\n\t 2013 & 1 &  4 & 1118 & 1130 & -12 & 1350 & 1445 & -55 & UA &  703 & N512UA & JFK & LAX & 309 & 2475 & 11 & 30 & 2013-01-04 11:00:00\\\\\n\t 2013 & 1 &  8 & 1847 & 1850 &  -3 & 2117 & 2212 & -55 & DL & 2159 & N386DA & JFK & MCO & 132 &  944 & 18 & 50 & 2013-01-08 18:00:00\\\\\n\t 2013 & 1 & 11 & 1845 & 1850 &  -5 & 2117 & 2212 & -55 & DL & 2159 & N3768  & JFK & MCO & 125 &  944 & 18 & 50 & 2013-01-11 18:00:00\\\\\n\t 2013 & 1 & 13 &  723 &  730 &  -7 & 1020 & 1115 & -55 & VX &   11 & N841VA & JFK & SFO & 339 & 2586 &  7 & 30 & 2013-01-13 07:00:00\\\\\n\t ⋮ & ⋮ & ⋮ & ⋮ & ⋮ & ⋮ & ⋮ & ⋮ & ⋮ & ⋮ & ⋮ & ⋮ & ⋮ & ⋮ & ⋮ & ⋮ & ⋮ & ⋮ & ⋮\\\\\n\t 2013 & 12 & 30 &   NA & 1635 & NA &  NA & 1825 & NA & AA &  343 & N4XVAA & LGA & ORD & NA &  733 & 16 & 35 & 2013-12-30 16:00:00\\\\\n\t 2013 & 12 & 30 &   NA &  600 & NA &  NA &  855 & NA & B6 &  605 & N708JB & EWR & FLL & NA & 1065 &  6 &  0 & 2013-12-30 06:00:00\\\\\n\t 2013 & 12 & 30 &   NA & 1430 & NA &  NA & 1626 & NA & EV & 4261 & N27200 & LGA & CLE & NA &  419 & 14 & 30 & 2013-12-30 14:00:00\\\\\n\t 2013 & 12 & 30 &   NA & 1350 & NA &  NA & 1602 & NA & EV & 4193 & N36915 & EWR & MSP & NA & 1008 & 13 & 50 & 2013-12-30 13:00:00\\\\\n\t 2013 & 12 & 30 &   NA & 1452 & NA &  NA & 1559 & NA & EV & 4372 & N14573 & EWR & DCA & NA &  199 & 14 & 52 & 2013-12-30 14:00:00\\\\\n\t 2013 & 12 & 30 &   NA & 1935 & NA &  NA & 2055 & NA & EV & 5714 & N832AS & JFK & IAD & NA &  228 & 19 & 35 & 2013-12-30 19:00:00\\\\\n\t 2013 & 12 & 30 &   NA & 1011 & NA &  NA & 1134 & NA & EV & 6054 & N16919 & EWR & IAD & NA &  212 & 10 & 11 & 2013-12-30 10:00:00\\\\\n\t 2013 & 12 & 30 &   NA &  605 & NA &  NA &  723 & NA & EV & 6177 & N13553 & EWR & IAD & NA &  212 &  6 &  5 & 2013-12-30 06:00:00\\\\\n\t 2013 & 12 & 30 &   NA & 1505 & NA &  NA & 1759 & NA & UA &  321 & NA     & EWR & MCO & NA &  937 & 15 &  5 & 2013-12-30 15:00:00\\\\\n\t 2013 & 12 & 30 &   NA & 1355 & NA &  NA & 1535 & NA & MQ & 3305 & N821MQ & LGA & RDU & NA &  431 & 13 & 55 & 2013-12-30 13:00:00\\\\\n\t 2013 & 12 & 30 &   NA & 2100 & NA &  NA &   48 & NA & UA & 1081 & NA     & EWR & SFO & NA & 2565 & 21 &  0 & 2013-12-30 21:00:00\\\\\n\t 2013 & 12 & 30 &   NA & 1221 & NA &  NA & 1545 & NA & UA & 1297 & NA     & EWR & SNA & NA & 2434 & 12 & 21 & 2013-12-30 12:00:00\\\\\n\t 2013 & 12 & 30 &   NA &  855 & NA &  NA & 1142 & NA & UA & 1506 & NA     & EWR & JAC & NA & 1874 &  8 & 55 & 2013-12-30 08:00:00\\\\\n\t 2013 & 12 & 31 & 2155 & 2039 & 76 & 253 & 2355 & NA & B6 & 1205 & N627JB & JFK & PDX & NA & 2454 & 20 & 39 & 2013-12-31 20:00:00\\\\\n\t 2013 & 12 & 31 &   NA & 1520 & NA &  NA & 1705 & NA & AA &  341 & N568AA & LGA & ORD & NA &  733 & 15 & 20 & 2013-12-31 15:00:00\\\\\n\t 2013 & 12 & 31 &   NA & 2025 & NA &  NA & 2205 & NA & AA &  371 & N482AA & LGA & ORD & NA &  733 & 20 & 25 & 2013-12-31 20:00:00\\\\\n\t 2013 & 12 & 31 &   NA & 1932 & NA &  NA & 2305 & NA & B6 &  161 & N516JB & JFK & SMF & NA & 2521 & 19 & 32 & 2013-12-31 19:00:00\\\\\n\t 2013 & 12 & 31 &   NA & 1505 & NA &  NA & 1725 & NA & EV & 4181 & N24103 & EWR & MCI & NA & 1092 & 15 &  5 & 2013-12-31 15:00:00\\\\\n\t 2013 & 12 & 31 &   NA & 1000 & NA &  NA & 1252 & NA & UA & 1124 & NA     & EWR & EGE & NA & 1725 & 10 &  0 & 2013-12-31 10:00:00\\\\\n\t 2013 & 12 & 31 &   NA &  840 & NA &  NA & 1205 & NA & UA & 1151 & NA     & EWR & SEA & NA & 2402 &  8 & 40 & 2013-12-31 08:00:00\\\\\n\t 2013 & 12 & 31 &   NA &  754 & NA &  NA & 1118 & NA & UA & 1455 & NA     & EWR & LAX & NA & 2454 &  7 & 54 & 2013-12-31 07:00:00\\\\\n\t 2013 & 12 & 31 &   NA & 2000 & NA &  NA & 2146 & NA & UA & 1482 & NA     & EWR & ORD & NA &  719 & 20 &  0 & 2013-12-31 20:00:00\\\\\n\t 2013 & 12 & 31 &   NA & 1500 & NA &  NA & 1817 & NA & UA & 1483 & NA     & EWR & AUS & NA & 1504 & 15 &  0 & 2013-12-31 15:00:00\\\\\n\t 2013 & 12 & 31 &   NA & 1430 & NA &  NA & 1750 & NA & UA & 1493 & NA     & EWR & LAX & NA & 2454 & 14 & 30 & 2013-12-31 14:00:00\\\\\n\t 2013 & 12 & 31 &   NA &  855 & NA &  NA & 1142 & NA & UA & 1506 & NA     & EWR & JAC & NA & 1874 &  8 & 55 & 2013-12-31 08:00:00\\\\\n\t 2013 & 12 & 31 &   NA &  705 & NA &  NA &  931 & NA & UA & 1729 & NA     & EWR & DEN & NA & 1605 &  7 &  5 & 2013-12-31 07:00:00\\\\\n\t 2013 & 12 & 31 &   NA &  825 & NA &  NA & 1029 & NA & US & 1831 & NA     & JFK & CLT & NA &  541 &  8 & 25 & 2013-12-31 08:00:00\\\\\n\t 2013 & 12 & 31 &   NA & 1615 & NA &  NA & 1800 & NA & MQ & 3301 & N844MQ & LGA & RDU & NA &  431 & 16 & 15 & 2013-12-31 16:00:00\\\\\n\t 2013 & 12 & 31 &   NA &  600 & NA &  NA &  735 & NA & UA &  219 & NA     & EWR & ORD & NA &  719 &  6 &  0 & 2013-12-31 06:00:00\\\\\n\t 2013 & 12 & 31 &   NA &  830 & NA &  NA & 1154 & NA & UA &  443 & NA     & JFK & LAX & NA & 2475 &  8 & 30 & 2013-12-31 08:00:00\\\\\n\\end{tabular}\n",
            "text/plain": [
              "       year month day dep_time sched_dep_time dep_delay arr_time sched_arr_time\n",
              "1      2013 1      4  1026     1030            -4       1305     1415          \n",
              "2      2013 1      3   941      945            -4       1153     1258          \n",
              "3      2013 1     14  1840     1845            -5       2117     2221          \n",
              "4      2013 1      3  1153     1200            -7       1442     1545          \n",
              "5      2013 1      3  1228     1235            -7       1503     1606          \n",
              "6      2013 1     27  1845     1850            -5       2110     2212          \n",
              "7      2013 1      3  1605     1610            -5       1816     1917          \n",
              "8      2013 1      3  1857     1900            -3       2200     2301          \n",
              "9      2013 1      4  1219     1221            -2       1454     1555          \n",
              "10     2013 1      6   812      819            -7       1102     1203          \n",
              "11     2013 1     12   913      920            -7       1347     1448          \n",
              "12     2013 1      3  1920     1920             0       2158     2258          \n",
              "13     2013 1      2   654      700            -6        946     1045          \n",
              "14     2013 1      3  1626     1630            -4       1853     1952          \n",
              "15     2013 1     27  1839     1845            -6       2038     2137          \n",
              "16     2013 1     26  1651     1659            -8       1946     2044          \n",
              "17     2013 1      2   857      900            -3       1130     1227          \n",
              "18     2013 1      3  1957     1945            12       2232     2329          \n",
              "19     2013 1      4   650      655            -5        933     1030          \n",
              "20     2013 1      4   829      830            -1       1113     1210          \n",
              "21     2013 1      4  1657     1700            -3       1952     2049          \n",
              "22     2013 1     30  1915     1915             0       2133     2230          \n",
              "23     2013 1      3  1806     1810            -4       2036     2132          \n",
              "24     2013 1      3  1919     1920            -1       2219     2315          \n",
              "25     2013 1     14  1838     1850           -12       2116     2212          \n",
              "26     2013 1      2  1240     1245            -5       1521     1616          \n",
              "27     2013 1      4  1118     1130           -12       1350     1445          \n",
              "28     2013 1      8  1847     1850            -3       2117     2212          \n",
              "29     2013 1     11  1845     1850            -5       2117     2212          \n",
              "30     2013 1     13   723      730            -7       1020     1115          \n",
              "⋮      ⋮    ⋮     ⋮   ⋮        ⋮              ⋮         ⋮        ⋮             \n",
              "336747 2013 12    30    NA     1635           NA         NA      1825          \n",
              "336748 2013 12    30    NA      600           NA         NA       855          \n",
              "336749 2013 12    30    NA     1430           NA         NA      1626          \n",
              "336750 2013 12    30    NA     1350           NA         NA      1602          \n",
              "336751 2013 12    30    NA     1452           NA         NA      1559          \n",
              "336752 2013 12    30    NA     1935           NA         NA      2055          \n",
              "336753 2013 12    30    NA     1011           NA         NA      1134          \n",
              "336754 2013 12    30    NA      605           NA         NA       723          \n",
              "336755 2013 12    30    NA     1505           NA         NA      1759          \n",
              "336756 2013 12    30    NA     1355           NA         NA      1535          \n",
              "336757 2013 12    30    NA     2100           NA         NA        48          \n",
              "336758 2013 12    30    NA     1221           NA         NA      1545          \n",
              "336759 2013 12    30    NA      855           NA         NA      1142          \n",
              "336760 2013 12    31  2155     2039           76        253      2355          \n",
              "336761 2013 12    31    NA     1520           NA         NA      1705          \n",
              "336762 2013 12    31    NA     2025           NA         NA      2205          \n",
              "336763 2013 12    31    NA     1932           NA         NA      2305          \n",
              "336764 2013 12    31    NA     1505           NA         NA      1725          \n",
              "336765 2013 12    31    NA     1000           NA         NA      1252          \n",
              "336766 2013 12    31    NA      840           NA         NA      1205          \n",
              "336767 2013 12    31    NA      754           NA         NA      1118          \n",
              "336768 2013 12    31    NA     2000           NA         NA      2146          \n",
              "336769 2013 12    31    NA     1500           NA         NA      1817          \n",
              "336770 2013 12    31    NA     1430           NA         NA      1750          \n",
              "336771 2013 12    31    NA      855           NA         NA      1142          \n",
              "336772 2013 12    31    NA      705           NA         NA       931          \n",
              "336773 2013 12    31    NA      825           NA         NA      1029          \n",
              "336774 2013 12    31    NA     1615           NA         NA      1800          \n",
              "336775 2013 12    31    NA      600           NA         NA       735          \n",
              "336776 2013 12    31    NA      830           NA         NA      1154          \n",
              "       arr_delay carrier flight tailnum origin dest air_time distance hour\n",
              "1      -70       VX        23   N855VA  JFK    SFO  324      2586     10  \n",
              "2      -65       B6       679   N789JB  JFK    LAX  297      2475      9  \n",
              "3      -64       DL      2190   N324US  JFK    MIA  146      1089     18  \n",
              "4      -63       VX        25   N847VA  JFK    SFO  333      2586     12  \n",
              "5      -63       DL      2174   N389DA  JFK    SLC  260      1990     12  \n",
              "6      -62       DL      2159   N398DA  JFK    MCO  127       944     18  \n",
              "7      -61       DL        91   N3740C  JFK    LAS  282      2248     16  \n",
              "8      -61       DL      1465   N722TW  JFK    SFO  329      2586     19  \n",
              "9      -61       UA       551   N830UA  EWR    SFO  313      2565     12  \n",
              "10     -61       UA       665   N805UA  EWR    SFO  336      2565      8  \n",
              "11     -61       DL       675   N711ZX  JFK    STT  181      1623      9  \n",
              "12     -60       DL         6   N3768   JFK    SLC  250      1990     19  \n",
              "13     -59       DL      1865   N711ZX  JFK    SFO  323      2586      7  \n",
              "14     -59       B6       675   N652JB  JFK    LAX  301      2475     16  \n",
              "15     -59       9E      3369   N919XJ  JFK    MSY  166      1182     18  \n",
              "16     -58       9E      3375   N930XJ  JFK    SAT  214      1587     16  \n",
              "17     -57       DL       120   N710TW  JFK    LAX  310      2475      9  \n",
              "18     -57       B6       645   N793JB  JFK    SFO  315      2586     19  \n",
              "19     -57       DL      1415   N397DA  JFK    SLC  265      1990      6  \n",
              "20     -57       UA      1480   N36207  EWR    SFO  326      2565      8  \n",
              "21     -57       DL        31   N722TW  JFK    SFO  326      2586     17  \n",
              "22     -57       DL      1729   N3754A  JFK    LAS  294      2248     19  \n",
              "23     -56       B6       217   N559JB  JFK    LGB  293      2465     18  \n",
              "24     -56       DL      1345   N3769L  JFK    PHX  273      2153     19  \n",
              "25     -56       DL      2159   N384DA  JFK    MCO  135       944     18  \n",
              "26     -55       DL      2174   N3751B  JFK    SLC  264      1990     12  \n",
              "27     -55       UA       703   N512UA  JFK    LAX  309      2475     11  \n",
              "28     -55       DL      2159   N386DA  JFK    MCO  132       944     18  \n",
              "29     -55       DL      2159   N3768   JFK    MCO  125       944     18  \n",
              "30     -55       VX        11   N841VA  JFK    SFO  339      2586      7  \n",
              "⋮      ⋮         ⋮       ⋮      ⋮       ⋮      ⋮    ⋮        ⋮        ⋮   \n",
              "336747 NA        AA       343   N4XVAA  LGA    ORD  NA        733     16  \n",
              "336748 NA        B6       605   N708JB  EWR    FLL  NA       1065      6  \n",
              "336749 NA        EV      4261   N27200  LGA    CLE  NA        419     14  \n",
              "336750 NA        EV      4193   N36915  EWR    MSP  NA       1008     13  \n",
              "336751 NA        EV      4372   N14573  EWR    DCA  NA        199     14  \n",
              "336752 NA        EV      5714   N832AS  JFK    IAD  NA        228     19  \n",
              "336753 NA        EV      6054   N16919  EWR    IAD  NA        212     10  \n",
              "336754 NA        EV      6177   N13553  EWR    IAD  NA        212      6  \n",
              "336755 NA        UA       321   NA      EWR    MCO  NA        937     15  \n",
              "336756 NA        MQ      3305   N821MQ  LGA    RDU  NA        431     13  \n",
              "336757 NA        UA      1081   NA      EWR    SFO  NA       2565     21  \n",
              "336758 NA        UA      1297   NA      EWR    SNA  NA       2434     12  \n",
              "336759 NA        UA      1506   NA      EWR    JAC  NA       1874      8  \n",
              "336760 NA        B6      1205   N627JB  JFK    PDX  NA       2454     20  \n",
              "336761 NA        AA       341   N568AA  LGA    ORD  NA        733     15  \n",
              "336762 NA        AA       371   N482AA  LGA    ORD  NA        733     20  \n",
              "336763 NA        B6       161   N516JB  JFK    SMF  NA       2521     19  \n",
              "336764 NA        EV      4181   N24103  EWR    MCI  NA       1092     15  \n",
              "336765 NA        UA      1124   NA      EWR    EGE  NA       1725     10  \n",
              "336766 NA        UA      1151   NA      EWR    SEA  NA       2402      8  \n",
              "336767 NA        UA      1455   NA      EWR    LAX  NA       2454      7  \n",
              "336768 NA        UA      1482   NA      EWR    ORD  NA        719     20  \n",
              "336769 NA        UA      1483   NA      EWR    AUS  NA       1504     15  \n",
              "336770 NA        UA      1493   NA      EWR    LAX  NA       2454     14  \n",
              "336771 NA        UA      1506   NA      EWR    JAC  NA       1874      8  \n",
              "336772 NA        UA      1729   NA      EWR    DEN  NA       1605      7  \n",
              "336773 NA        US      1831   NA      JFK    CLT  NA        541      8  \n",
              "336774 NA        MQ      3301   N844MQ  LGA    RDU  NA        431     16  \n",
              "336775 NA        UA       219   NA      EWR    ORD  NA        719      6  \n",
              "336776 NA        UA       443   NA      JFK    LAX  NA       2475      8  \n",
              "       minute time_hour          \n",
              "1      30     2013-01-04 10:00:00\n",
              "2      45     2013-01-03 09:00:00\n",
              "3      45     2013-01-14 18:00:00\n",
              "4       0     2013-01-03 12:00:00\n",
              "5      35     2013-01-03 12:00:00\n",
              "6      50     2013-01-27 18:00:00\n",
              "7      10     2013-01-03 16:00:00\n",
              "8       0     2013-01-03 19:00:00\n",
              "9      21     2013-01-04 12:00:00\n",
              "10     19     2013-01-06 08:00:00\n",
              "11     20     2013-01-12 09:00:00\n",
              "12     20     2013-01-03 19:00:00\n",
              "13      0     2013-01-02 07:00:00\n",
              "14     30     2013-01-03 16:00:00\n",
              "15     45     2013-01-27 18:00:00\n",
              "16     59     2013-01-26 16:00:00\n",
              "17      0     2013-01-02 09:00:00\n",
              "18     45     2013-01-03 19:00:00\n",
              "19     55     2013-01-04 06:00:00\n",
              "20     30     2013-01-04 08:00:00\n",
              "21      0     2013-01-04 17:00:00\n",
              "22     15     2013-01-30 19:00:00\n",
              "23     10     2013-01-03 18:00:00\n",
              "24     20     2013-01-03 19:00:00\n",
              "25     50     2013-01-14 18:00:00\n",
              "26     45     2013-01-02 12:00:00\n",
              "27     30     2013-01-04 11:00:00\n",
              "28     50     2013-01-08 18:00:00\n",
              "29     50     2013-01-11 18:00:00\n",
              "30     30     2013-01-13 07:00:00\n",
              "⋮      ⋮      ⋮                  \n",
              "336747 35     2013-12-30 16:00:00\n",
              "336748  0     2013-12-30 06:00:00\n",
              "336749 30     2013-12-30 14:00:00\n",
              "336750 50     2013-12-30 13:00:00\n",
              "336751 52     2013-12-30 14:00:00\n",
              "336752 35     2013-12-30 19:00:00\n",
              "336753 11     2013-12-30 10:00:00\n",
              "336754  5     2013-12-30 06:00:00\n",
              "336755  5     2013-12-30 15:00:00\n",
              "336756 55     2013-12-30 13:00:00\n",
              "336757  0     2013-12-30 21:00:00\n",
              "336758 21     2013-12-30 12:00:00\n",
              "336759 55     2013-12-30 08:00:00\n",
              "336760 39     2013-12-31 20:00:00\n",
              "336761 20     2013-12-31 15:00:00\n",
              "336762 25     2013-12-31 20:00:00\n",
              "336763 32     2013-12-31 19:00:00\n",
              "336764  5     2013-12-31 15:00:00\n",
              "336765  0     2013-12-31 10:00:00\n",
              "336766 40     2013-12-31 08:00:00\n",
              "336767 54     2013-12-31 07:00:00\n",
              "336768  0     2013-12-31 20:00:00\n",
              "336769  0     2013-12-31 15:00:00\n",
              "336770 30     2013-12-31 14:00:00\n",
              "336771 55     2013-12-31 08:00:00\n",
              "336772  5     2013-12-31 07:00:00\n",
              "336773 25     2013-12-31 08:00:00\n",
              "336774 15     2013-12-31 16:00:00\n",
              "336775  0     2013-12-31 06:00:00\n",
              "336776 30     2013-12-31 08:00:00"
            ]
          },
          "metadata": {}
        }
      ]
    },
    {
      "cell_type": "code",
      "source": [
        "arrange(vuelos, month, desc(arr_delay) )"
      ],
      "metadata": {
        "id": "2jFFzwZMnQKc",
        "outputId": "684f6641-d187-4df2-88d0-5dcdf7cda392",
        "colab": {
          "base_uri": "https://localhost:8080/",
          "height": 1000
        }
      },
      "execution_count": null,
      "outputs": [
        {
          "output_type": "display_data",
          "data": {
            "text/html": [
              "<table class=\"dataframe\">\n",
              "<caption>A data.frame: 336776 × 19</caption>\n",
              "<thead>\n",
              "\t<tr><th scope=col>year</th><th scope=col>month</th><th scope=col>day</th><th scope=col>dep_time</th><th scope=col>sched_dep_time</th><th scope=col>dep_delay</th><th scope=col>arr_time</th><th scope=col>sched_arr_time</th><th scope=col>arr_delay</th><th scope=col>carrier</th><th scope=col>flight</th><th scope=col>tailnum</th><th scope=col>origin</th><th scope=col>dest</th><th scope=col>air_time</th><th scope=col>distance</th><th scope=col>hour</th><th scope=col>minute</th><th scope=col>time_hour</th></tr>\n",
              "\t<tr><th scope=col>&lt;int&gt;</th><th scope=col>&lt;int&gt;</th><th scope=col>&lt;int&gt;</th><th scope=col>&lt;int&gt;</th><th scope=col>&lt;int&gt;</th><th scope=col>&lt;int&gt;</th><th scope=col>&lt;int&gt;</th><th scope=col>&lt;int&gt;</th><th scope=col>&lt;int&gt;</th><th scope=col>&lt;chr&gt;</th><th scope=col>&lt;int&gt;</th><th scope=col>&lt;chr&gt;</th><th scope=col>&lt;chr&gt;</th><th scope=col>&lt;chr&gt;</th><th scope=col>&lt;int&gt;</th><th scope=col>&lt;int&gt;</th><th scope=col>&lt;int&gt;</th><th scope=col>&lt;int&gt;</th><th scope=col>&lt;chr&gt;</th></tr>\n",
              "</thead>\n",
              "<tbody>\n",
              "\t<tr><td>2013</td><td>1</td><td> 9</td><td> 641</td><td> 900</td><td>1301</td><td>1242</td><td>1530</td><td>1272</td><td>HA</td><td>  51</td><td>N384HA</td><td>JFK</td><td>HNL</td><td>640</td><td>4983</td><td> 9</td><td> 0</td><td>2013-01-09 09:00:00</td></tr>\n",
              "\t<tr><td>2013</td><td>1</td><td>10</td><td>1121</td><td>1635</td><td>1126</td><td>1239</td><td>1810</td><td>1109</td><td>MQ</td><td>3695</td><td>N517MQ</td><td>EWR</td><td>ORD</td><td>111</td><td> 719</td><td>16</td><td>35</td><td>2013-01-10 16:00:00</td></tr>\n",
              "\t<tr><td>2013</td><td>1</td><td> 1</td><td> 848</td><td>1835</td><td> 853</td><td>1001</td><td>1950</td><td> 851</td><td>MQ</td><td>3944</td><td>N942MQ</td><td>JFK</td><td>BWI</td><td> 41</td><td> 184</td><td>18</td><td>35</td><td>2013-01-01 18:00:00</td></tr>\n",
              "\t<tr><td>2013</td><td>1</td><td>13</td><td>1809</td><td> 810</td><td> 599</td><td>2054</td><td>1042</td><td> 612</td><td>DL</td><td> 269</td><td>N322NB</td><td>JFK</td><td>ATL</td><td>116</td><td> 760</td><td> 8</td><td>10</td><td>2013-01-13 08:00:00</td></tr>\n",
              "\t<tr><td>2013</td><td>1</td><td>16</td><td>1622</td><td> 800</td><td> 502</td><td>1911</td><td>1054</td><td> 497</td><td>B6</td><td> 517</td><td>N661JB</td><td>EWR</td><td>MCO</td><td>144</td><td> 937</td><td> 8</td><td> 0</td><td>2013-01-16 08:00:00</td></tr>\n",
              "\t<tr><td>2013</td><td>1</td><td>23</td><td>1551</td><td> 753</td><td> 478</td><td>1812</td><td>1006</td><td> 486</td><td>DL</td><td>2119</td><td>N326NB</td><td>LGA</td><td>MSP</td><td>166</td><td>1020</td><td> 7</td><td>53</td><td>2013-01-23 07:00:00</td></tr>\n",
              "\t<tr><td>2013</td><td>1</td><td> 1</td><td>2343</td><td>1724</td><td> 379</td><td> 314</td><td>1938</td><td> 456</td><td>EV</td><td>4321</td><td>N21197</td><td>EWR</td><td>MCI</td><td>222</td><td>1092</td><td>17</td><td>24</td><td>2013-01-01 17:00:00</td></tr>\n",
              "\t<tr><td>2013</td><td>1</td><td>10</td><td>1525</td><td> 900</td><td> 385</td><td>1713</td><td>1039</td><td> 394</td><td>UA</td><td> 544</td><td>N419UA</td><td>LGA</td><td>ORD</td><td>123</td><td> 733</td><td> 9</td><td> 0</td><td>2013-01-10 09:00:00</td></tr>\n",
              "\t<tr><td>2013</td><td>1</td><td>25</td><td>  15</td><td>1815</td><td> 360</td><td> 208</td><td>1958</td><td> 370</td><td>9E</td><td>4019</td><td>N8646A</td><td>JFK</td><td>RIC</td><td> 56</td><td> 288</td><td>18</td><td>15</td><td>2013-01-25 18:00:00</td></tr>\n",
              "\t<tr><td>2013</td><td>1</td><td> 2</td><td>1607</td><td>1030</td><td> 337</td><td>2003</td><td>1355</td><td> 368</td><td>AA</td><td> 179</td><td>N324AA</td><td>JFK</td><td>SFO</td><td>346</td><td>2586</td><td>10</td><td>30</td><td>2013-01-02 10:00:00</td></tr>\n",
              "\t<tr><td>2013</td><td>1</td><td> 7</td><td>2021</td><td>1415</td><td> 366</td><td>2332</td><td>1724</td><td> 368</td><td>B6</td><td> 377</td><td>N789JB</td><td>LGA</td><td>FLL</td><td>153</td><td>1076</td><td>14</td><td>15</td><td>2013-01-07 14:00:00</td></tr>\n",
              "\t<tr><td>2013</td><td>1</td><td>25</td><td>2020</td><td>1527</td><td> 293</td><td>2304</td><td>1700</td><td> 364</td><td>EV</td><td>3835</td><td>N14920</td><td>EWR</td><td>BNA</td><td>124</td><td> 748</td><td>15</td><td>27</td><td>2013-01-25 15:00:00</td></tr>\n",
              "\t<tr><td>2013</td><td>1</td><td> 2</td><td>2131</td><td>1512</td><td> 379</td><td>2340</td><td>1741</td><td> 359</td><td>UA</td><td> 488</td><td>N593UA</td><td>LGA</td><td>DEN</td><td>228</td><td>1620</td><td>15</td><td>12</td><td>2013-01-02 15:00:00</td></tr>\n",
              "\t<tr><td>2013</td><td>1</td><td>26</td><td>1409</td><td> 820</td><td> 349</td><td>1528</td><td> 937</td><td> 351</td><td>9E</td><td>4051</td><td>N8444F</td><td>JFK</td><td>BWI</td><td> 37</td><td> 184</td><td> 8</td><td>20</td><td>2013-01-26 08:00:00</td></tr>\n",
              "\t<tr><td>2013</td><td>1</td><td>11</td><td>1310</td><td> 710</td><td> 360</td><td>1438</td><td> 850</td><td> 348</td><td>MQ</td><td>3737</td><td>N509MQ</td><td>EWR</td><td>ORD</td><td>116</td><td> 719</td><td> 7</td><td>10</td><td>2013-01-11 07:00:00</td></tr>\n",
              "\t<tr><td>2013</td><td>1</td><td>24</td><td>2051</td><td>1522</td><td> 329</td><td>2307</td><td>1727</td><td> 340</td><td>EV</td><td>4576</td><td>N21144</td><td>EWR</td><td>GRR</td><td>107</td><td> 605</td><td>15</td><td>22</td><td>2013-01-24 15:00:00</td></tr>\n",
              "\t<tr><td>2013</td><td>1</td><td> 1</td><td>1815</td><td>1325</td><td> 290</td><td>2120</td><td>1542</td><td> 338</td><td>EV</td><td>4417</td><td>N17185</td><td>EWR</td><td>OMA</td><td>213</td><td>1134</td><td>13</td><td>25</td><td>2013-01-01 13:00:00</td></tr>\n",
              "\t<tr><td>2013</td><td>1</td><td>25</td><td>2203</td><td>1635</td><td> 328</td><td>  34</td><td>1856</td><td> 338</td><td>EV</td><td>3805</td><td>N18102</td><td>EWR</td><td>SAV</td><td>107</td><td> 708</td><td>16</td><td>35</td><td>2013-01-25 16:00:00</td></tr>\n",
              "\t<tr><td>2013</td><td>1</td><td>31</td><td>1837</td><td>1350</td><td> 287</td><td>2159</td><td>1624</td><td> 335</td><td>B6</td><td> 615</td><td>N281JB</td><td>JFK</td><td>JAX</td><td>150</td><td> 828</td><td>13</td><td>50</td><td>2013-01-31 13:00:00</td></tr>\n",
              "\t<tr><td>2013</td><td>1</td><td>25</td><td>  26</td><td>1850</td><td> 336</td><td> 225</td><td>2055</td><td> 330</td><td>US</td><td>1491</td><td>N181UW</td><td>LGA</td><td>CLT</td><td> 82</td><td> 544</td><td>18</td><td>50</td><td>2013-01-25 18:00:00</td></tr>\n",
              "\t<tr><td>2013</td><td>1</td><td>14</td><td>2229</td><td>1655</td><td> 334</td><td> 157</td><td>2029</td><td> 328</td><td>DL</td><td> 706</td><td>N370NW</td><td>JFK</td><td>AUS</td><td>243</td><td>1521</td><td>16</td><td>55</td><td>2013-01-14 16:00:00</td></tr>\n",
              "\t<tr><td>2013</td><td>1</td><td>25</td><td> 123</td><td>2000</td><td> 323</td><td> 229</td><td>2101</td><td> 328</td><td>EV</td><td>4309</td><td>N13908</td><td>EWR</td><td>ALB</td><td> 30</td><td> 143</td><td>20</td><td> 0</td><td>2013-01-25 20:00:00</td></tr>\n",
              "\t<tr><td>2013</td><td>1</td><td>25</td><td>2036</td><td>1610</td><td> 266</td><td>2257</td><td>1732</td><td> 325</td><td>9E</td><td>3689</td><td>N8913A</td><td>JFK</td><td>PHL</td><td> 27</td><td>  94</td><td>16</td><td>10</td><td>2013-01-25 16:00:00</td></tr>\n",
              "\t<tr><td>2013</td><td>1</td><td> 2</td><td>1412</td><td> 838</td><td> 334</td><td>1710</td><td>1147</td><td> 323</td><td>UA</td><td> 468</td><td>N474UA</td><td>EWR</td><td>MCO</td><td>150</td><td> 937</td><td> 8</td><td>38</td><td>2013-01-02 08:00:00</td></tr>\n",
              "\t<tr><td>2013</td><td>1</td><td> 5</td><td>1344</td><td> 817</td><td> 327</td><td>1635</td><td>1127</td><td> 308</td><td>DL</td><td>1109</td><td>N309US</td><td>LGA</td><td>TPA</td><td>158</td><td>1010</td><td> 8</td><td>17</td><td>2013-01-05 08:00:00</td></tr>\n",
              "\t<tr><td>2013</td><td>1</td><td>16</td><td>2013</td><td>1505</td><td> 308</td><td>2136</td><td>1637</td><td> 299</td><td>9E</td><td>3393</td><td>N920XJ</td><td>JFK</td><td>DCA</td><td> 51</td><td> 213</td><td>15</td><td> 5</td><td>2013-01-16 15:00:00</td></tr>\n",
              "\t<tr><td>2013</td><td>1</td><td>25</td><td>1755</td><td>1341</td><td> 254</td><td>  34</td><td>1935</td><td> 299</td><td>UA</td><td>  15</td><td>N76065</td><td>EWR</td><td>HNL</td><td>648</td><td>4963</td><td>13</td><td>41</td><td>2013-01-25 13:00:00</td></tr>\n",
              "\t<tr><td>2013</td><td>1</td><td>13</td><td> 115</td><td>2000</td><td> 315</td><td> 409</td><td>2312</td><td> 297</td><td>B6</td><td> 801</td><td>N552JB</td><td>JFK</td><td>FLL</td><td>143</td><td>1069</td><td>20</td><td> 0</td><td>2013-01-13 20:00:00</td></tr>\n",
              "\t<tr><td>2013</td><td>1</td><td>28</td><td>1857</td><td>1429</td><td> 268</td><td>2136</td><td>1642</td><td> 294</td><td>DL</td><td>1819</td><td>N911DA</td><td>LGA</td><td>MSP</td><td>162</td><td>1020</td><td>14</td><td>29</td><td>2013-01-28 14:00:00</td></tr>\n",
              "\t<tr><td>2013</td><td>1</td><td>10</td><td>2137</td><td>1630</td><td> 307</td><td>  17</td><td>1925</td><td> 292</td><td>UA</td><td>1178</td><td>N75435</td><td>EWR</td><td>IAH</td><td>197</td><td>1400</td><td>16</td><td>30</td><td>2013-01-10 16:00:00</td></tr>\n",
              "\t<tr><td>⋮</td><td>⋮</td><td>⋮</td><td>⋮</td><td>⋮</td><td>⋮</td><td>⋮</td><td>⋮</td><td>⋮</td><td>⋮</td><td>⋮</td><td>⋮</td><td>⋮</td><td>⋮</td><td>⋮</td><td>⋮</td><td>⋮</td><td>⋮</td><td>⋮</td></tr>\n",
              "\t<tr><td>2013</td><td>12</td><td>30</td><td>  NA</td><td>1635</td><td>NA</td><td> NA</td><td>1825</td><td>NA</td><td>AA</td><td> 343</td><td>N4XVAA</td><td>LGA</td><td>ORD</td><td>NA</td><td> 733</td><td>16</td><td>35</td><td>2013-12-30 16:00:00</td></tr>\n",
              "\t<tr><td>2013</td><td>12</td><td>30</td><td>  NA</td><td> 600</td><td>NA</td><td> NA</td><td> 855</td><td>NA</td><td>B6</td><td> 605</td><td>N708JB</td><td>EWR</td><td>FLL</td><td>NA</td><td>1065</td><td> 6</td><td> 0</td><td>2013-12-30 06:00:00</td></tr>\n",
              "\t<tr><td>2013</td><td>12</td><td>30</td><td>  NA</td><td>1430</td><td>NA</td><td> NA</td><td>1626</td><td>NA</td><td>EV</td><td>4261</td><td>N27200</td><td>LGA</td><td>CLE</td><td>NA</td><td> 419</td><td>14</td><td>30</td><td>2013-12-30 14:00:00</td></tr>\n",
              "\t<tr><td>2013</td><td>12</td><td>30</td><td>  NA</td><td>1350</td><td>NA</td><td> NA</td><td>1602</td><td>NA</td><td>EV</td><td>4193</td><td>N36915</td><td>EWR</td><td>MSP</td><td>NA</td><td>1008</td><td>13</td><td>50</td><td>2013-12-30 13:00:00</td></tr>\n",
              "\t<tr><td>2013</td><td>12</td><td>30</td><td>  NA</td><td>1452</td><td>NA</td><td> NA</td><td>1559</td><td>NA</td><td>EV</td><td>4372</td><td>N14573</td><td>EWR</td><td>DCA</td><td>NA</td><td> 199</td><td>14</td><td>52</td><td>2013-12-30 14:00:00</td></tr>\n",
              "\t<tr><td>2013</td><td>12</td><td>30</td><td>  NA</td><td>1935</td><td>NA</td><td> NA</td><td>2055</td><td>NA</td><td>EV</td><td>5714</td><td>N832AS</td><td>JFK</td><td>IAD</td><td>NA</td><td> 228</td><td>19</td><td>35</td><td>2013-12-30 19:00:00</td></tr>\n",
              "\t<tr><td>2013</td><td>12</td><td>30</td><td>  NA</td><td>1011</td><td>NA</td><td> NA</td><td>1134</td><td>NA</td><td>EV</td><td>6054</td><td>N16919</td><td>EWR</td><td>IAD</td><td>NA</td><td> 212</td><td>10</td><td>11</td><td>2013-12-30 10:00:00</td></tr>\n",
              "\t<tr><td>2013</td><td>12</td><td>30</td><td>  NA</td><td> 605</td><td>NA</td><td> NA</td><td> 723</td><td>NA</td><td>EV</td><td>6177</td><td>N13553</td><td>EWR</td><td>IAD</td><td>NA</td><td> 212</td><td> 6</td><td> 5</td><td>2013-12-30 06:00:00</td></tr>\n",
              "\t<tr><td>2013</td><td>12</td><td>30</td><td>  NA</td><td>1505</td><td>NA</td><td> NA</td><td>1759</td><td>NA</td><td>UA</td><td> 321</td><td>NA    </td><td>EWR</td><td>MCO</td><td>NA</td><td> 937</td><td>15</td><td> 5</td><td>2013-12-30 15:00:00</td></tr>\n",
              "\t<tr><td>2013</td><td>12</td><td>30</td><td>  NA</td><td>1355</td><td>NA</td><td> NA</td><td>1535</td><td>NA</td><td>MQ</td><td>3305</td><td>N821MQ</td><td>LGA</td><td>RDU</td><td>NA</td><td> 431</td><td>13</td><td>55</td><td>2013-12-30 13:00:00</td></tr>\n",
              "\t<tr><td>2013</td><td>12</td><td>30</td><td>  NA</td><td>2100</td><td>NA</td><td> NA</td><td>  48</td><td>NA</td><td>UA</td><td>1081</td><td>NA    </td><td>EWR</td><td>SFO</td><td>NA</td><td>2565</td><td>21</td><td> 0</td><td>2013-12-30 21:00:00</td></tr>\n",
              "\t<tr><td>2013</td><td>12</td><td>30</td><td>  NA</td><td>1221</td><td>NA</td><td> NA</td><td>1545</td><td>NA</td><td>UA</td><td>1297</td><td>NA    </td><td>EWR</td><td>SNA</td><td>NA</td><td>2434</td><td>12</td><td>21</td><td>2013-12-30 12:00:00</td></tr>\n",
              "\t<tr><td>2013</td><td>12</td><td>30</td><td>  NA</td><td> 855</td><td>NA</td><td> NA</td><td>1142</td><td>NA</td><td>UA</td><td>1506</td><td>NA    </td><td>EWR</td><td>JAC</td><td>NA</td><td>1874</td><td> 8</td><td>55</td><td>2013-12-30 08:00:00</td></tr>\n",
              "\t<tr><td>2013</td><td>12</td><td>31</td><td>2155</td><td>2039</td><td>76</td><td>253</td><td>2355</td><td>NA</td><td>B6</td><td>1205</td><td>N627JB</td><td>JFK</td><td>PDX</td><td>NA</td><td>2454</td><td>20</td><td>39</td><td>2013-12-31 20:00:00</td></tr>\n",
              "\t<tr><td>2013</td><td>12</td><td>31</td><td>  NA</td><td>1520</td><td>NA</td><td> NA</td><td>1705</td><td>NA</td><td>AA</td><td> 341</td><td>N568AA</td><td>LGA</td><td>ORD</td><td>NA</td><td> 733</td><td>15</td><td>20</td><td>2013-12-31 15:00:00</td></tr>\n",
              "\t<tr><td>2013</td><td>12</td><td>31</td><td>  NA</td><td>2025</td><td>NA</td><td> NA</td><td>2205</td><td>NA</td><td>AA</td><td> 371</td><td>N482AA</td><td>LGA</td><td>ORD</td><td>NA</td><td> 733</td><td>20</td><td>25</td><td>2013-12-31 20:00:00</td></tr>\n",
              "\t<tr><td>2013</td><td>12</td><td>31</td><td>  NA</td><td>1932</td><td>NA</td><td> NA</td><td>2305</td><td>NA</td><td>B6</td><td> 161</td><td>N516JB</td><td>JFK</td><td>SMF</td><td>NA</td><td>2521</td><td>19</td><td>32</td><td>2013-12-31 19:00:00</td></tr>\n",
              "\t<tr><td>2013</td><td>12</td><td>31</td><td>  NA</td><td>1505</td><td>NA</td><td> NA</td><td>1725</td><td>NA</td><td>EV</td><td>4181</td><td>N24103</td><td>EWR</td><td>MCI</td><td>NA</td><td>1092</td><td>15</td><td> 5</td><td>2013-12-31 15:00:00</td></tr>\n",
              "\t<tr><td>2013</td><td>12</td><td>31</td><td>  NA</td><td>1000</td><td>NA</td><td> NA</td><td>1252</td><td>NA</td><td>UA</td><td>1124</td><td>NA    </td><td>EWR</td><td>EGE</td><td>NA</td><td>1725</td><td>10</td><td> 0</td><td>2013-12-31 10:00:00</td></tr>\n",
              "\t<tr><td>2013</td><td>12</td><td>31</td><td>  NA</td><td> 840</td><td>NA</td><td> NA</td><td>1205</td><td>NA</td><td>UA</td><td>1151</td><td>NA    </td><td>EWR</td><td>SEA</td><td>NA</td><td>2402</td><td> 8</td><td>40</td><td>2013-12-31 08:00:00</td></tr>\n",
              "\t<tr><td>2013</td><td>12</td><td>31</td><td>  NA</td><td> 754</td><td>NA</td><td> NA</td><td>1118</td><td>NA</td><td>UA</td><td>1455</td><td>NA    </td><td>EWR</td><td>LAX</td><td>NA</td><td>2454</td><td> 7</td><td>54</td><td>2013-12-31 07:00:00</td></tr>\n",
              "\t<tr><td>2013</td><td>12</td><td>31</td><td>  NA</td><td>2000</td><td>NA</td><td> NA</td><td>2146</td><td>NA</td><td>UA</td><td>1482</td><td>NA    </td><td>EWR</td><td>ORD</td><td>NA</td><td> 719</td><td>20</td><td> 0</td><td>2013-12-31 20:00:00</td></tr>\n",
              "\t<tr><td>2013</td><td>12</td><td>31</td><td>  NA</td><td>1500</td><td>NA</td><td> NA</td><td>1817</td><td>NA</td><td>UA</td><td>1483</td><td>NA    </td><td>EWR</td><td>AUS</td><td>NA</td><td>1504</td><td>15</td><td> 0</td><td>2013-12-31 15:00:00</td></tr>\n",
              "\t<tr><td>2013</td><td>12</td><td>31</td><td>  NA</td><td>1430</td><td>NA</td><td> NA</td><td>1750</td><td>NA</td><td>UA</td><td>1493</td><td>NA    </td><td>EWR</td><td>LAX</td><td>NA</td><td>2454</td><td>14</td><td>30</td><td>2013-12-31 14:00:00</td></tr>\n",
              "\t<tr><td>2013</td><td>12</td><td>31</td><td>  NA</td><td> 855</td><td>NA</td><td> NA</td><td>1142</td><td>NA</td><td>UA</td><td>1506</td><td>NA    </td><td>EWR</td><td>JAC</td><td>NA</td><td>1874</td><td> 8</td><td>55</td><td>2013-12-31 08:00:00</td></tr>\n",
              "\t<tr><td>2013</td><td>12</td><td>31</td><td>  NA</td><td> 705</td><td>NA</td><td> NA</td><td> 931</td><td>NA</td><td>UA</td><td>1729</td><td>NA    </td><td>EWR</td><td>DEN</td><td>NA</td><td>1605</td><td> 7</td><td> 5</td><td>2013-12-31 07:00:00</td></tr>\n",
              "\t<tr><td>2013</td><td>12</td><td>31</td><td>  NA</td><td> 825</td><td>NA</td><td> NA</td><td>1029</td><td>NA</td><td>US</td><td>1831</td><td>NA    </td><td>JFK</td><td>CLT</td><td>NA</td><td> 541</td><td> 8</td><td>25</td><td>2013-12-31 08:00:00</td></tr>\n",
              "\t<tr><td>2013</td><td>12</td><td>31</td><td>  NA</td><td>1615</td><td>NA</td><td> NA</td><td>1800</td><td>NA</td><td>MQ</td><td>3301</td><td>N844MQ</td><td>LGA</td><td>RDU</td><td>NA</td><td> 431</td><td>16</td><td>15</td><td>2013-12-31 16:00:00</td></tr>\n",
              "\t<tr><td>2013</td><td>12</td><td>31</td><td>  NA</td><td> 600</td><td>NA</td><td> NA</td><td> 735</td><td>NA</td><td>UA</td><td> 219</td><td>NA    </td><td>EWR</td><td>ORD</td><td>NA</td><td> 719</td><td> 6</td><td> 0</td><td>2013-12-31 06:00:00</td></tr>\n",
              "\t<tr><td>2013</td><td>12</td><td>31</td><td>  NA</td><td> 830</td><td>NA</td><td> NA</td><td>1154</td><td>NA</td><td>UA</td><td> 443</td><td>NA    </td><td>JFK</td><td>LAX</td><td>NA</td><td>2475</td><td> 8</td><td>30</td><td>2013-12-31 08:00:00</td></tr>\n",
              "</tbody>\n",
              "</table>\n"
            ],
            "text/markdown": "\nA data.frame: 336776 × 19\n\n| year &lt;int&gt; | month &lt;int&gt; | day &lt;int&gt; | dep_time &lt;int&gt; | sched_dep_time &lt;int&gt; | dep_delay &lt;int&gt; | arr_time &lt;int&gt; | sched_arr_time &lt;int&gt; | arr_delay &lt;int&gt; | carrier &lt;chr&gt; | flight &lt;int&gt; | tailnum &lt;chr&gt; | origin &lt;chr&gt; | dest &lt;chr&gt; | air_time &lt;int&gt; | distance &lt;int&gt; | hour &lt;int&gt; | minute &lt;int&gt; | time_hour &lt;chr&gt; |\n|---|---|---|---|---|---|---|---|---|---|---|---|---|---|---|---|---|---|---|\n| 2013 | 1 |  9 |  641 |  900 | 1301 | 1242 | 1530 | 1272 | HA |   51 | N384HA | JFK | HNL | 640 | 4983 |  9 |  0 | 2013-01-09 09:00:00 |\n| 2013 | 1 | 10 | 1121 | 1635 | 1126 | 1239 | 1810 | 1109 | MQ | 3695 | N517MQ | EWR | ORD | 111 |  719 | 16 | 35 | 2013-01-10 16:00:00 |\n| 2013 | 1 |  1 |  848 | 1835 |  853 | 1001 | 1950 |  851 | MQ | 3944 | N942MQ | JFK | BWI |  41 |  184 | 18 | 35 | 2013-01-01 18:00:00 |\n| 2013 | 1 | 13 | 1809 |  810 |  599 | 2054 | 1042 |  612 | DL |  269 | N322NB | JFK | ATL | 116 |  760 |  8 | 10 | 2013-01-13 08:00:00 |\n| 2013 | 1 | 16 | 1622 |  800 |  502 | 1911 | 1054 |  497 | B6 |  517 | N661JB | EWR | MCO | 144 |  937 |  8 |  0 | 2013-01-16 08:00:00 |\n| 2013 | 1 | 23 | 1551 |  753 |  478 | 1812 | 1006 |  486 | DL | 2119 | N326NB | LGA | MSP | 166 | 1020 |  7 | 53 | 2013-01-23 07:00:00 |\n| 2013 | 1 |  1 | 2343 | 1724 |  379 |  314 | 1938 |  456 | EV | 4321 | N21197 | EWR | MCI | 222 | 1092 | 17 | 24 | 2013-01-01 17:00:00 |\n| 2013 | 1 | 10 | 1525 |  900 |  385 | 1713 | 1039 |  394 | UA |  544 | N419UA | LGA | ORD | 123 |  733 |  9 |  0 | 2013-01-10 09:00:00 |\n| 2013 | 1 | 25 |   15 | 1815 |  360 |  208 | 1958 |  370 | 9E | 4019 | N8646A | JFK | RIC |  56 |  288 | 18 | 15 | 2013-01-25 18:00:00 |\n| 2013 | 1 |  2 | 1607 | 1030 |  337 | 2003 | 1355 |  368 | AA |  179 | N324AA | JFK | SFO | 346 | 2586 | 10 | 30 | 2013-01-02 10:00:00 |\n| 2013 | 1 |  7 | 2021 | 1415 |  366 | 2332 | 1724 |  368 | B6 |  377 | N789JB | LGA | FLL | 153 | 1076 | 14 | 15 | 2013-01-07 14:00:00 |\n| 2013 | 1 | 25 | 2020 | 1527 |  293 | 2304 | 1700 |  364 | EV | 3835 | N14920 | EWR | BNA | 124 |  748 | 15 | 27 | 2013-01-25 15:00:00 |\n| 2013 | 1 |  2 | 2131 | 1512 |  379 | 2340 | 1741 |  359 | UA |  488 | N593UA | LGA | DEN | 228 | 1620 | 15 | 12 | 2013-01-02 15:00:00 |\n| 2013 | 1 | 26 | 1409 |  820 |  349 | 1528 |  937 |  351 | 9E | 4051 | N8444F | JFK | BWI |  37 |  184 |  8 | 20 | 2013-01-26 08:00:00 |\n| 2013 | 1 | 11 | 1310 |  710 |  360 | 1438 |  850 |  348 | MQ | 3737 | N509MQ | EWR | ORD | 116 |  719 |  7 | 10 | 2013-01-11 07:00:00 |\n| 2013 | 1 | 24 | 2051 | 1522 |  329 | 2307 | 1727 |  340 | EV | 4576 | N21144 | EWR | GRR | 107 |  605 | 15 | 22 | 2013-01-24 15:00:00 |\n| 2013 | 1 |  1 | 1815 | 1325 |  290 | 2120 | 1542 |  338 | EV | 4417 | N17185 | EWR | OMA | 213 | 1134 | 13 | 25 | 2013-01-01 13:00:00 |\n| 2013 | 1 | 25 | 2203 | 1635 |  328 |   34 | 1856 |  338 | EV | 3805 | N18102 | EWR | SAV | 107 |  708 | 16 | 35 | 2013-01-25 16:00:00 |\n| 2013 | 1 | 31 | 1837 | 1350 |  287 | 2159 | 1624 |  335 | B6 |  615 | N281JB | JFK | JAX | 150 |  828 | 13 | 50 | 2013-01-31 13:00:00 |\n| 2013 | 1 | 25 |   26 | 1850 |  336 |  225 | 2055 |  330 | US | 1491 | N181UW | LGA | CLT |  82 |  544 | 18 | 50 | 2013-01-25 18:00:00 |\n| 2013 | 1 | 14 | 2229 | 1655 |  334 |  157 | 2029 |  328 | DL |  706 | N370NW | JFK | AUS | 243 | 1521 | 16 | 55 | 2013-01-14 16:00:00 |\n| 2013 | 1 | 25 |  123 | 2000 |  323 |  229 | 2101 |  328 | EV | 4309 | N13908 | EWR | ALB |  30 |  143 | 20 |  0 | 2013-01-25 20:00:00 |\n| 2013 | 1 | 25 | 2036 | 1610 |  266 | 2257 | 1732 |  325 | 9E | 3689 | N8913A | JFK | PHL |  27 |   94 | 16 | 10 | 2013-01-25 16:00:00 |\n| 2013 | 1 |  2 | 1412 |  838 |  334 | 1710 | 1147 |  323 | UA |  468 | N474UA | EWR | MCO | 150 |  937 |  8 | 38 | 2013-01-02 08:00:00 |\n| 2013 | 1 |  5 | 1344 |  817 |  327 | 1635 | 1127 |  308 | DL | 1109 | N309US | LGA | TPA | 158 | 1010 |  8 | 17 | 2013-01-05 08:00:00 |\n| 2013 | 1 | 16 | 2013 | 1505 |  308 | 2136 | 1637 |  299 | 9E | 3393 | N920XJ | JFK | DCA |  51 |  213 | 15 |  5 | 2013-01-16 15:00:00 |\n| 2013 | 1 | 25 | 1755 | 1341 |  254 |   34 | 1935 |  299 | UA |   15 | N76065 | EWR | HNL | 648 | 4963 | 13 | 41 | 2013-01-25 13:00:00 |\n| 2013 | 1 | 13 |  115 | 2000 |  315 |  409 | 2312 |  297 | B6 |  801 | N552JB | JFK | FLL | 143 | 1069 | 20 |  0 | 2013-01-13 20:00:00 |\n| 2013 | 1 | 28 | 1857 | 1429 |  268 | 2136 | 1642 |  294 | DL | 1819 | N911DA | LGA | MSP | 162 | 1020 | 14 | 29 | 2013-01-28 14:00:00 |\n| 2013 | 1 | 10 | 2137 | 1630 |  307 |   17 | 1925 |  292 | UA | 1178 | N75435 | EWR | IAH | 197 | 1400 | 16 | 30 | 2013-01-10 16:00:00 |\n| ⋮ | ⋮ | ⋮ | ⋮ | ⋮ | ⋮ | ⋮ | ⋮ | ⋮ | ⋮ | ⋮ | ⋮ | ⋮ | ⋮ | ⋮ | ⋮ | ⋮ | ⋮ | ⋮ |\n| 2013 | 12 | 30 |   NA | 1635 | NA |  NA | 1825 | NA | AA |  343 | N4XVAA | LGA | ORD | NA |  733 | 16 | 35 | 2013-12-30 16:00:00 |\n| 2013 | 12 | 30 |   NA |  600 | NA |  NA |  855 | NA | B6 |  605 | N708JB | EWR | FLL | NA | 1065 |  6 |  0 | 2013-12-30 06:00:00 |\n| 2013 | 12 | 30 |   NA | 1430 | NA |  NA | 1626 | NA | EV | 4261 | N27200 | LGA | CLE | NA |  419 | 14 | 30 | 2013-12-30 14:00:00 |\n| 2013 | 12 | 30 |   NA | 1350 | NA |  NA | 1602 | NA | EV | 4193 | N36915 | EWR | MSP | NA | 1008 | 13 | 50 | 2013-12-30 13:00:00 |\n| 2013 | 12 | 30 |   NA | 1452 | NA |  NA | 1559 | NA | EV | 4372 | N14573 | EWR | DCA | NA |  199 | 14 | 52 | 2013-12-30 14:00:00 |\n| 2013 | 12 | 30 |   NA | 1935 | NA |  NA | 2055 | NA | EV | 5714 | N832AS | JFK | IAD | NA |  228 | 19 | 35 | 2013-12-30 19:00:00 |\n| 2013 | 12 | 30 |   NA | 1011 | NA |  NA | 1134 | NA | EV | 6054 | N16919 | EWR | IAD | NA |  212 | 10 | 11 | 2013-12-30 10:00:00 |\n| 2013 | 12 | 30 |   NA |  605 | NA |  NA |  723 | NA | EV | 6177 | N13553 | EWR | IAD | NA |  212 |  6 |  5 | 2013-12-30 06:00:00 |\n| 2013 | 12 | 30 |   NA | 1505 | NA |  NA | 1759 | NA | UA |  321 | NA     | EWR | MCO | NA |  937 | 15 |  5 | 2013-12-30 15:00:00 |\n| 2013 | 12 | 30 |   NA | 1355 | NA |  NA | 1535 | NA | MQ | 3305 | N821MQ | LGA | RDU | NA |  431 | 13 | 55 | 2013-12-30 13:00:00 |\n| 2013 | 12 | 30 |   NA | 2100 | NA |  NA |   48 | NA | UA | 1081 | NA     | EWR | SFO | NA | 2565 | 21 |  0 | 2013-12-30 21:00:00 |\n| 2013 | 12 | 30 |   NA | 1221 | NA |  NA | 1545 | NA | UA | 1297 | NA     | EWR | SNA | NA | 2434 | 12 | 21 | 2013-12-30 12:00:00 |\n| 2013 | 12 | 30 |   NA |  855 | NA |  NA | 1142 | NA | UA | 1506 | NA     | EWR | JAC | NA | 1874 |  8 | 55 | 2013-12-30 08:00:00 |\n| 2013 | 12 | 31 | 2155 | 2039 | 76 | 253 | 2355 | NA | B6 | 1205 | N627JB | JFK | PDX | NA | 2454 | 20 | 39 | 2013-12-31 20:00:00 |\n| 2013 | 12 | 31 |   NA | 1520 | NA |  NA | 1705 | NA | AA |  341 | N568AA | LGA | ORD | NA |  733 | 15 | 20 | 2013-12-31 15:00:00 |\n| 2013 | 12 | 31 |   NA | 2025 | NA |  NA | 2205 | NA | AA |  371 | N482AA | LGA | ORD | NA |  733 | 20 | 25 | 2013-12-31 20:00:00 |\n| 2013 | 12 | 31 |   NA | 1932 | NA |  NA | 2305 | NA | B6 |  161 | N516JB | JFK | SMF | NA | 2521 | 19 | 32 | 2013-12-31 19:00:00 |\n| 2013 | 12 | 31 |   NA | 1505 | NA |  NA | 1725 | NA | EV | 4181 | N24103 | EWR | MCI | NA | 1092 | 15 |  5 | 2013-12-31 15:00:00 |\n| 2013 | 12 | 31 |   NA | 1000 | NA |  NA | 1252 | NA | UA | 1124 | NA     | EWR | EGE | NA | 1725 | 10 |  0 | 2013-12-31 10:00:00 |\n| 2013 | 12 | 31 |   NA |  840 | NA |  NA | 1205 | NA | UA | 1151 | NA     | EWR | SEA | NA | 2402 |  8 | 40 | 2013-12-31 08:00:00 |\n| 2013 | 12 | 31 |   NA |  754 | NA |  NA | 1118 | NA | UA | 1455 | NA     | EWR | LAX | NA | 2454 |  7 | 54 | 2013-12-31 07:00:00 |\n| 2013 | 12 | 31 |   NA | 2000 | NA |  NA | 2146 | NA | UA | 1482 | NA     | EWR | ORD | NA |  719 | 20 |  0 | 2013-12-31 20:00:00 |\n| 2013 | 12 | 31 |   NA | 1500 | NA |  NA | 1817 | NA | UA | 1483 | NA     | EWR | AUS | NA | 1504 | 15 |  0 | 2013-12-31 15:00:00 |\n| 2013 | 12 | 31 |   NA | 1430 | NA |  NA | 1750 | NA | UA | 1493 | NA     | EWR | LAX | NA | 2454 | 14 | 30 | 2013-12-31 14:00:00 |\n| 2013 | 12 | 31 |   NA |  855 | NA |  NA | 1142 | NA | UA | 1506 | NA     | EWR | JAC | NA | 1874 |  8 | 55 | 2013-12-31 08:00:00 |\n| 2013 | 12 | 31 |   NA |  705 | NA |  NA |  931 | NA | UA | 1729 | NA     | EWR | DEN | NA | 1605 |  7 |  5 | 2013-12-31 07:00:00 |\n| 2013 | 12 | 31 |   NA |  825 | NA |  NA | 1029 | NA | US | 1831 | NA     | JFK | CLT | NA |  541 |  8 | 25 | 2013-12-31 08:00:00 |\n| 2013 | 12 | 31 |   NA | 1615 | NA |  NA | 1800 | NA | MQ | 3301 | N844MQ | LGA | RDU | NA |  431 | 16 | 15 | 2013-12-31 16:00:00 |\n| 2013 | 12 | 31 |   NA |  600 | NA |  NA |  735 | NA | UA |  219 | NA     | EWR | ORD | NA |  719 |  6 |  0 | 2013-12-31 06:00:00 |\n| 2013 | 12 | 31 |   NA |  830 | NA |  NA | 1154 | NA | UA |  443 | NA     | JFK | LAX | NA | 2475 |  8 | 30 | 2013-12-31 08:00:00 |\n\n",
            "text/latex": "A data.frame: 336776 × 19\n\\begin{tabular}{lllllllllllllllllll}\n year & month & day & dep\\_time & sched\\_dep\\_time & dep\\_delay & arr\\_time & sched\\_arr\\_time & arr\\_delay & carrier & flight & tailnum & origin & dest & air\\_time & distance & hour & minute & time\\_hour\\\\\n <int> & <int> & <int> & <int> & <int> & <int> & <int> & <int> & <int> & <chr> & <int> & <chr> & <chr> & <chr> & <int> & <int> & <int> & <int> & <chr>\\\\\n\\hline\n\t 2013 & 1 &  9 &  641 &  900 & 1301 & 1242 & 1530 & 1272 & HA &   51 & N384HA & JFK & HNL & 640 & 4983 &  9 &  0 & 2013-01-09 09:00:00\\\\\n\t 2013 & 1 & 10 & 1121 & 1635 & 1126 & 1239 & 1810 & 1109 & MQ & 3695 & N517MQ & EWR & ORD & 111 &  719 & 16 & 35 & 2013-01-10 16:00:00\\\\\n\t 2013 & 1 &  1 &  848 & 1835 &  853 & 1001 & 1950 &  851 & MQ & 3944 & N942MQ & JFK & BWI &  41 &  184 & 18 & 35 & 2013-01-01 18:00:00\\\\\n\t 2013 & 1 & 13 & 1809 &  810 &  599 & 2054 & 1042 &  612 & DL &  269 & N322NB & JFK & ATL & 116 &  760 &  8 & 10 & 2013-01-13 08:00:00\\\\\n\t 2013 & 1 & 16 & 1622 &  800 &  502 & 1911 & 1054 &  497 & B6 &  517 & N661JB & EWR & MCO & 144 &  937 &  8 &  0 & 2013-01-16 08:00:00\\\\\n\t 2013 & 1 & 23 & 1551 &  753 &  478 & 1812 & 1006 &  486 & DL & 2119 & N326NB & LGA & MSP & 166 & 1020 &  7 & 53 & 2013-01-23 07:00:00\\\\\n\t 2013 & 1 &  1 & 2343 & 1724 &  379 &  314 & 1938 &  456 & EV & 4321 & N21197 & EWR & MCI & 222 & 1092 & 17 & 24 & 2013-01-01 17:00:00\\\\\n\t 2013 & 1 & 10 & 1525 &  900 &  385 & 1713 & 1039 &  394 & UA &  544 & N419UA & LGA & ORD & 123 &  733 &  9 &  0 & 2013-01-10 09:00:00\\\\\n\t 2013 & 1 & 25 &   15 & 1815 &  360 &  208 & 1958 &  370 & 9E & 4019 & N8646A & JFK & RIC &  56 &  288 & 18 & 15 & 2013-01-25 18:00:00\\\\\n\t 2013 & 1 &  2 & 1607 & 1030 &  337 & 2003 & 1355 &  368 & AA &  179 & N324AA & JFK & SFO & 346 & 2586 & 10 & 30 & 2013-01-02 10:00:00\\\\\n\t 2013 & 1 &  7 & 2021 & 1415 &  366 & 2332 & 1724 &  368 & B6 &  377 & N789JB & LGA & FLL & 153 & 1076 & 14 & 15 & 2013-01-07 14:00:00\\\\\n\t 2013 & 1 & 25 & 2020 & 1527 &  293 & 2304 & 1700 &  364 & EV & 3835 & N14920 & EWR & BNA & 124 &  748 & 15 & 27 & 2013-01-25 15:00:00\\\\\n\t 2013 & 1 &  2 & 2131 & 1512 &  379 & 2340 & 1741 &  359 & UA &  488 & N593UA & LGA & DEN & 228 & 1620 & 15 & 12 & 2013-01-02 15:00:00\\\\\n\t 2013 & 1 & 26 & 1409 &  820 &  349 & 1528 &  937 &  351 & 9E & 4051 & N8444F & JFK & BWI &  37 &  184 &  8 & 20 & 2013-01-26 08:00:00\\\\\n\t 2013 & 1 & 11 & 1310 &  710 &  360 & 1438 &  850 &  348 & MQ & 3737 & N509MQ & EWR & ORD & 116 &  719 &  7 & 10 & 2013-01-11 07:00:00\\\\\n\t 2013 & 1 & 24 & 2051 & 1522 &  329 & 2307 & 1727 &  340 & EV & 4576 & N21144 & EWR & GRR & 107 &  605 & 15 & 22 & 2013-01-24 15:00:00\\\\\n\t 2013 & 1 &  1 & 1815 & 1325 &  290 & 2120 & 1542 &  338 & EV & 4417 & N17185 & EWR & OMA & 213 & 1134 & 13 & 25 & 2013-01-01 13:00:00\\\\\n\t 2013 & 1 & 25 & 2203 & 1635 &  328 &   34 & 1856 &  338 & EV & 3805 & N18102 & EWR & SAV & 107 &  708 & 16 & 35 & 2013-01-25 16:00:00\\\\\n\t 2013 & 1 & 31 & 1837 & 1350 &  287 & 2159 & 1624 &  335 & B6 &  615 & N281JB & JFK & JAX & 150 &  828 & 13 & 50 & 2013-01-31 13:00:00\\\\\n\t 2013 & 1 & 25 &   26 & 1850 &  336 &  225 & 2055 &  330 & US & 1491 & N181UW & LGA & CLT &  82 &  544 & 18 & 50 & 2013-01-25 18:00:00\\\\\n\t 2013 & 1 & 14 & 2229 & 1655 &  334 &  157 & 2029 &  328 & DL &  706 & N370NW & JFK & AUS & 243 & 1521 & 16 & 55 & 2013-01-14 16:00:00\\\\\n\t 2013 & 1 & 25 &  123 & 2000 &  323 &  229 & 2101 &  328 & EV & 4309 & N13908 & EWR & ALB &  30 &  143 & 20 &  0 & 2013-01-25 20:00:00\\\\\n\t 2013 & 1 & 25 & 2036 & 1610 &  266 & 2257 & 1732 &  325 & 9E & 3689 & N8913A & JFK & PHL &  27 &   94 & 16 & 10 & 2013-01-25 16:00:00\\\\\n\t 2013 & 1 &  2 & 1412 &  838 &  334 & 1710 & 1147 &  323 & UA &  468 & N474UA & EWR & MCO & 150 &  937 &  8 & 38 & 2013-01-02 08:00:00\\\\\n\t 2013 & 1 &  5 & 1344 &  817 &  327 & 1635 & 1127 &  308 & DL & 1109 & N309US & LGA & TPA & 158 & 1010 &  8 & 17 & 2013-01-05 08:00:00\\\\\n\t 2013 & 1 & 16 & 2013 & 1505 &  308 & 2136 & 1637 &  299 & 9E & 3393 & N920XJ & JFK & DCA &  51 &  213 & 15 &  5 & 2013-01-16 15:00:00\\\\\n\t 2013 & 1 & 25 & 1755 & 1341 &  254 &   34 & 1935 &  299 & UA &   15 & N76065 & EWR & HNL & 648 & 4963 & 13 & 41 & 2013-01-25 13:00:00\\\\\n\t 2013 & 1 & 13 &  115 & 2000 &  315 &  409 & 2312 &  297 & B6 &  801 & N552JB & JFK & FLL & 143 & 1069 & 20 &  0 & 2013-01-13 20:00:00\\\\\n\t 2013 & 1 & 28 & 1857 & 1429 &  268 & 2136 & 1642 &  294 & DL & 1819 & N911DA & LGA & MSP & 162 & 1020 & 14 & 29 & 2013-01-28 14:00:00\\\\\n\t 2013 & 1 & 10 & 2137 & 1630 &  307 &   17 & 1925 &  292 & UA & 1178 & N75435 & EWR & IAH & 197 & 1400 & 16 & 30 & 2013-01-10 16:00:00\\\\\n\t ⋮ & ⋮ & ⋮ & ⋮ & ⋮ & ⋮ & ⋮ & ⋮ & ⋮ & ⋮ & ⋮ & ⋮ & ⋮ & ⋮ & ⋮ & ⋮ & ⋮ & ⋮ & ⋮\\\\\n\t 2013 & 12 & 30 &   NA & 1635 & NA &  NA & 1825 & NA & AA &  343 & N4XVAA & LGA & ORD & NA &  733 & 16 & 35 & 2013-12-30 16:00:00\\\\\n\t 2013 & 12 & 30 &   NA &  600 & NA &  NA &  855 & NA & B6 &  605 & N708JB & EWR & FLL & NA & 1065 &  6 &  0 & 2013-12-30 06:00:00\\\\\n\t 2013 & 12 & 30 &   NA & 1430 & NA &  NA & 1626 & NA & EV & 4261 & N27200 & LGA & CLE & NA &  419 & 14 & 30 & 2013-12-30 14:00:00\\\\\n\t 2013 & 12 & 30 &   NA & 1350 & NA &  NA & 1602 & NA & EV & 4193 & N36915 & EWR & MSP & NA & 1008 & 13 & 50 & 2013-12-30 13:00:00\\\\\n\t 2013 & 12 & 30 &   NA & 1452 & NA &  NA & 1559 & NA & EV & 4372 & N14573 & EWR & DCA & NA &  199 & 14 & 52 & 2013-12-30 14:00:00\\\\\n\t 2013 & 12 & 30 &   NA & 1935 & NA &  NA & 2055 & NA & EV & 5714 & N832AS & JFK & IAD & NA &  228 & 19 & 35 & 2013-12-30 19:00:00\\\\\n\t 2013 & 12 & 30 &   NA & 1011 & NA &  NA & 1134 & NA & EV & 6054 & N16919 & EWR & IAD & NA &  212 & 10 & 11 & 2013-12-30 10:00:00\\\\\n\t 2013 & 12 & 30 &   NA &  605 & NA &  NA &  723 & NA & EV & 6177 & N13553 & EWR & IAD & NA &  212 &  6 &  5 & 2013-12-30 06:00:00\\\\\n\t 2013 & 12 & 30 &   NA & 1505 & NA &  NA & 1759 & NA & UA &  321 & NA     & EWR & MCO & NA &  937 & 15 &  5 & 2013-12-30 15:00:00\\\\\n\t 2013 & 12 & 30 &   NA & 1355 & NA &  NA & 1535 & NA & MQ & 3305 & N821MQ & LGA & RDU & NA &  431 & 13 & 55 & 2013-12-30 13:00:00\\\\\n\t 2013 & 12 & 30 &   NA & 2100 & NA &  NA &   48 & NA & UA & 1081 & NA     & EWR & SFO & NA & 2565 & 21 &  0 & 2013-12-30 21:00:00\\\\\n\t 2013 & 12 & 30 &   NA & 1221 & NA &  NA & 1545 & NA & UA & 1297 & NA     & EWR & SNA & NA & 2434 & 12 & 21 & 2013-12-30 12:00:00\\\\\n\t 2013 & 12 & 30 &   NA &  855 & NA &  NA & 1142 & NA & UA & 1506 & NA     & EWR & JAC & NA & 1874 &  8 & 55 & 2013-12-30 08:00:00\\\\\n\t 2013 & 12 & 31 & 2155 & 2039 & 76 & 253 & 2355 & NA & B6 & 1205 & N627JB & JFK & PDX & NA & 2454 & 20 & 39 & 2013-12-31 20:00:00\\\\\n\t 2013 & 12 & 31 &   NA & 1520 & NA &  NA & 1705 & NA & AA &  341 & N568AA & LGA & ORD & NA &  733 & 15 & 20 & 2013-12-31 15:00:00\\\\\n\t 2013 & 12 & 31 &   NA & 2025 & NA &  NA & 2205 & NA & AA &  371 & N482AA & LGA & ORD & NA &  733 & 20 & 25 & 2013-12-31 20:00:00\\\\\n\t 2013 & 12 & 31 &   NA & 1932 & NA &  NA & 2305 & NA & B6 &  161 & N516JB & JFK & SMF & NA & 2521 & 19 & 32 & 2013-12-31 19:00:00\\\\\n\t 2013 & 12 & 31 &   NA & 1505 & NA &  NA & 1725 & NA & EV & 4181 & N24103 & EWR & MCI & NA & 1092 & 15 &  5 & 2013-12-31 15:00:00\\\\\n\t 2013 & 12 & 31 &   NA & 1000 & NA &  NA & 1252 & NA & UA & 1124 & NA     & EWR & EGE & NA & 1725 & 10 &  0 & 2013-12-31 10:00:00\\\\\n\t 2013 & 12 & 31 &   NA &  840 & NA &  NA & 1205 & NA & UA & 1151 & NA     & EWR & SEA & NA & 2402 &  8 & 40 & 2013-12-31 08:00:00\\\\\n\t 2013 & 12 & 31 &   NA &  754 & NA &  NA & 1118 & NA & UA & 1455 & NA     & EWR & LAX & NA & 2454 &  7 & 54 & 2013-12-31 07:00:00\\\\\n\t 2013 & 12 & 31 &   NA & 2000 & NA &  NA & 2146 & NA & UA & 1482 & NA     & EWR & ORD & NA &  719 & 20 &  0 & 2013-12-31 20:00:00\\\\\n\t 2013 & 12 & 31 &   NA & 1500 & NA &  NA & 1817 & NA & UA & 1483 & NA     & EWR & AUS & NA & 1504 & 15 &  0 & 2013-12-31 15:00:00\\\\\n\t 2013 & 12 & 31 &   NA & 1430 & NA &  NA & 1750 & NA & UA & 1493 & NA     & EWR & LAX & NA & 2454 & 14 & 30 & 2013-12-31 14:00:00\\\\\n\t 2013 & 12 & 31 &   NA &  855 & NA &  NA & 1142 & NA & UA & 1506 & NA     & EWR & JAC & NA & 1874 &  8 & 55 & 2013-12-31 08:00:00\\\\\n\t 2013 & 12 & 31 &   NA &  705 & NA &  NA &  931 & NA & UA & 1729 & NA     & EWR & DEN & NA & 1605 &  7 &  5 & 2013-12-31 07:00:00\\\\\n\t 2013 & 12 & 31 &   NA &  825 & NA &  NA & 1029 & NA & US & 1831 & NA     & JFK & CLT & NA &  541 &  8 & 25 & 2013-12-31 08:00:00\\\\\n\t 2013 & 12 & 31 &   NA & 1615 & NA &  NA & 1800 & NA & MQ & 3301 & N844MQ & LGA & RDU & NA &  431 & 16 & 15 & 2013-12-31 16:00:00\\\\\n\t 2013 & 12 & 31 &   NA &  600 & NA &  NA &  735 & NA & UA &  219 & NA     & EWR & ORD & NA &  719 &  6 &  0 & 2013-12-31 06:00:00\\\\\n\t 2013 & 12 & 31 &   NA &  830 & NA &  NA & 1154 & NA & UA &  443 & NA     & JFK & LAX & NA & 2475 &  8 & 30 & 2013-12-31 08:00:00\\\\\n\\end{tabular}\n",
            "text/plain": [
              "       year month day dep_time sched_dep_time dep_delay arr_time sched_arr_time\n",
              "1      2013 1      9   641      900           1301      1242     1530          \n",
              "2      2013 1     10  1121     1635           1126      1239     1810          \n",
              "3      2013 1      1   848     1835            853      1001     1950          \n",
              "4      2013 1     13  1809      810            599      2054     1042          \n",
              "5      2013 1     16  1622      800            502      1911     1054          \n",
              "6      2013 1     23  1551      753            478      1812     1006          \n",
              "7      2013 1      1  2343     1724            379       314     1938          \n",
              "8      2013 1     10  1525      900            385      1713     1039          \n",
              "9      2013 1     25    15     1815            360       208     1958          \n",
              "10     2013 1      2  1607     1030            337      2003     1355          \n",
              "11     2013 1      7  2021     1415            366      2332     1724          \n",
              "12     2013 1     25  2020     1527            293      2304     1700          \n",
              "13     2013 1      2  2131     1512            379      2340     1741          \n",
              "14     2013 1     26  1409      820            349      1528      937          \n",
              "15     2013 1     11  1310      710            360      1438      850          \n",
              "16     2013 1     24  2051     1522            329      2307     1727          \n",
              "17     2013 1      1  1815     1325            290      2120     1542          \n",
              "18     2013 1     25  2203     1635            328        34     1856          \n",
              "19     2013 1     31  1837     1350            287      2159     1624          \n",
              "20     2013 1     25    26     1850            336       225     2055          \n",
              "21     2013 1     14  2229     1655            334       157     2029          \n",
              "22     2013 1     25   123     2000            323       229     2101          \n",
              "23     2013 1     25  2036     1610            266      2257     1732          \n",
              "24     2013 1      2  1412      838            334      1710     1147          \n",
              "25     2013 1      5  1344      817            327      1635     1127          \n",
              "26     2013 1     16  2013     1505            308      2136     1637          \n",
              "27     2013 1     25  1755     1341            254        34     1935          \n",
              "28     2013 1     13   115     2000            315       409     2312          \n",
              "29     2013 1     28  1857     1429            268      2136     1642          \n",
              "30     2013 1     10  2137     1630            307        17     1925          \n",
              "⋮      ⋮    ⋮     ⋮   ⋮        ⋮              ⋮         ⋮        ⋮             \n",
              "336747 2013 12    30    NA     1635           NA         NA      1825          \n",
              "336748 2013 12    30    NA      600           NA         NA       855          \n",
              "336749 2013 12    30    NA     1430           NA         NA      1626          \n",
              "336750 2013 12    30    NA     1350           NA         NA      1602          \n",
              "336751 2013 12    30    NA     1452           NA         NA      1559          \n",
              "336752 2013 12    30    NA     1935           NA         NA      2055          \n",
              "336753 2013 12    30    NA     1011           NA         NA      1134          \n",
              "336754 2013 12    30    NA      605           NA         NA       723          \n",
              "336755 2013 12    30    NA     1505           NA         NA      1759          \n",
              "336756 2013 12    30    NA     1355           NA         NA      1535          \n",
              "336757 2013 12    30    NA     2100           NA         NA        48          \n",
              "336758 2013 12    30    NA     1221           NA         NA      1545          \n",
              "336759 2013 12    30    NA      855           NA         NA      1142          \n",
              "336760 2013 12    31  2155     2039           76        253      2355          \n",
              "336761 2013 12    31    NA     1520           NA         NA      1705          \n",
              "336762 2013 12    31    NA     2025           NA         NA      2205          \n",
              "336763 2013 12    31    NA     1932           NA         NA      2305          \n",
              "336764 2013 12    31    NA     1505           NA         NA      1725          \n",
              "336765 2013 12    31    NA     1000           NA         NA      1252          \n",
              "336766 2013 12    31    NA      840           NA         NA      1205          \n",
              "336767 2013 12    31    NA      754           NA         NA      1118          \n",
              "336768 2013 12    31    NA     2000           NA         NA      2146          \n",
              "336769 2013 12    31    NA     1500           NA         NA      1817          \n",
              "336770 2013 12    31    NA     1430           NA         NA      1750          \n",
              "336771 2013 12    31    NA      855           NA         NA      1142          \n",
              "336772 2013 12    31    NA      705           NA         NA       931          \n",
              "336773 2013 12    31    NA      825           NA         NA      1029          \n",
              "336774 2013 12    31    NA     1615           NA         NA      1800          \n",
              "336775 2013 12    31    NA      600           NA         NA       735          \n",
              "336776 2013 12    31    NA      830           NA         NA      1154          \n",
              "       arr_delay carrier flight tailnum origin dest air_time distance hour\n",
              "1      1272      HA        51   N384HA  JFK    HNL  640      4983      9  \n",
              "2      1109      MQ      3695   N517MQ  EWR    ORD  111       719     16  \n",
              "3       851      MQ      3944   N942MQ  JFK    BWI   41       184     18  \n",
              "4       612      DL       269   N322NB  JFK    ATL  116       760      8  \n",
              "5       497      B6       517   N661JB  EWR    MCO  144       937      8  \n",
              "6       486      DL      2119   N326NB  LGA    MSP  166      1020      7  \n",
              "7       456      EV      4321   N21197  EWR    MCI  222      1092     17  \n",
              "8       394      UA       544   N419UA  LGA    ORD  123       733      9  \n",
              "9       370      9E      4019   N8646A  JFK    RIC   56       288     18  \n",
              "10      368      AA       179   N324AA  JFK    SFO  346      2586     10  \n",
              "11      368      B6       377   N789JB  LGA    FLL  153      1076     14  \n",
              "12      364      EV      3835   N14920  EWR    BNA  124       748     15  \n",
              "13      359      UA       488   N593UA  LGA    DEN  228      1620     15  \n",
              "14      351      9E      4051   N8444F  JFK    BWI   37       184      8  \n",
              "15      348      MQ      3737   N509MQ  EWR    ORD  116       719      7  \n",
              "16      340      EV      4576   N21144  EWR    GRR  107       605     15  \n",
              "17      338      EV      4417   N17185  EWR    OMA  213      1134     13  \n",
              "18      338      EV      3805   N18102  EWR    SAV  107       708     16  \n",
              "19      335      B6       615   N281JB  JFK    JAX  150       828     13  \n",
              "20      330      US      1491   N181UW  LGA    CLT   82       544     18  \n",
              "21      328      DL       706   N370NW  JFK    AUS  243      1521     16  \n",
              "22      328      EV      4309   N13908  EWR    ALB   30       143     20  \n",
              "23      325      9E      3689   N8913A  JFK    PHL   27        94     16  \n",
              "24      323      UA       468   N474UA  EWR    MCO  150       937      8  \n",
              "25      308      DL      1109   N309US  LGA    TPA  158      1010      8  \n",
              "26      299      9E      3393   N920XJ  JFK    DCA   51       213     15  \n",
              "27      299      UA        15   N76065  EWR    HNL  648      4963     13  \n",
              "28      297      B6       801   N552JB  JFK    FLL  143      1069     20  \n",
              "29      294      DL      1819   N911DA  LGA    MSP  162      1020     14  \n",
              "30      292      UA      1178   N75435  EWR    IAH  197      1400     16  \n",
              "⋮      ⋮         ⋮       ⋮      ⋮       ⋮      ⋮    ⋮        ⋮        ⋮   \n",
              "336747 NA        AA       343   N4XVAA  LGA    ORD  NA        733     16  \n",
              "336748 NA        B6       605   N708JB  EWR    FLL  NA       1065      6  \n",
              "336749 NA        EV      4261   N27200  LGA    CLE  NA        419     14  \n",
              "336750 NA        EV      4193   N36915  EWR    MSP  NA       1008     13  \n",
              "336751 NA        EV      4372   N14573  EWR    DCA  NA        199     14  \n",
              "336752 NA        EV      5714   N832AS  JFK    IAD  NA        228     19  \n",
              "336753 NA        EV      6054   N16919  EWR    IAD  NA        212     10  \n",
              "336754 NA        EV      6177   N13553  EWR    IAD  NA        212      6  \n",
              "336755 NA        UA       321   NA      EWR    MCO  NA        937     15  \n",
              "336756 NA        MQ      3305   N821MQ  LGA    RDU  NA        431     13  \n",
              "336757 NA        UA      1081   NA      EWR    SFO  NA       2565     21  \n",
              "336758 NA        UA      1297   NA      EWR    SNA  NA       2434     12  \n",
              "336759 NA        UA      1506   NA      EWR    JAC  NA       1874      8  \n",
              "336760 NA        B6      1205   N627JB  JFK    PDX  NA       2454     20  \n",
              "336761 NA        AA       341   N568AA  LGA    ORD  NA        733     15  \n",
              "336762 NA        AA       371   N482AA  LGA    ORD  NA        733     20  \n",
              "336763 NA        B6       161   N516JB  JFK    SMF  NA       2521     19  \n",
              "336764 NA        EV      4181   N24103  EWR    MCI  NA       1092     15  \n",
              "336765 NA        UA      1124   NA      EWR    EGE  NA       1725     10  \n",
              "336766 NA        UA      1151   NA      EWR    SEA  NA       2402      8  \n",
              "336767 NA        UA      1455   NA      EWR    LAX  NA       2454      7  \n",
              "336768 NA        UA      1482   NA      EWR    ORD  NA        719     20  \n",
              "336769 NA        UA      1483   NA      EWR    AUS  NA       1504     15  \n",
              "336770 NA        UA      1493   NA      EWR    LAX  NA       2454     14  \n",
              "336771 NA        UA      1506   NA      EWR    JAC  NA       1874      8  \n",
              "336772 NA        UA      1729   NA      EWR    DEN  NA       1605      7  \n",
              "336773 NA        US      1831   NA      JFK    CLT  NA        541      8  \n",
              "336774 NA        MQ      3301   N844MQ  LGA    RDU  NA        431     16  \n",
              "336775 NA        UA       219   NA      EWR    ORD  NA        719      6  \n",
              "336776 NA        UA       443   NA      JFK    LAX  NA       2475      8  \n",
              "       minute time_hour          \n",
              "1       0     2013-01-09 09:00:00\n",
              "2      35     2013-01-10 16:00:00\n",
              "3      35     2013-01-01 18:00:00\n",
              "4      10     2013-01-13 08:00:00\n",
              "5       0     2013-01-16 08:00:00\n",
              "6      53     2013-01-23 07:00:00\n",
              "7      24     2013-01-01 17:00:00\n",
              "8       0     2013-01-10 09:00:00\n",
              "9      15     2013-01-25 18:00:00\n",
              "10     30     2013-01-02 10:00:00\n",
              "11     15     2013-01-07 14:00:00\n",
              "12     27     2013-01-25 15:00:00\n",
              "13     12     2013-01-02 15:00:00\n",
              "14     20     2013-01-26 08:00:00\n",
              "15     10     2013-01-11 07:00:00\n",
              "16     22     2013-01-24 15:00:00\n",
              "17     25     2013-01-01 13:00:00\n",
              "18     35     2013-01-25 16:00:00\n",
              "19     50     2013-01-31 13:00:00\n",
              "20     50     2013-01-25 18:00:00\n",
              "21     55     2013-01-14 16:00:00\n",
              "22      0     2013-01-25 20:00:00\n",
              "23     10     2013-01-25 16:00:00\n",
              "24     38     2013-01-02 08:00:00\n",
              "25     17     2013-01-05 08:00:00\n",
              "26      5     2013-01-16 15:00:00\n",
              "27     41     2013-01-25 13:00:00\n",
              "28      0     2013-01-13 20:00:00\n",
              "29     29     2013-01-28 14:00:00\n",
              "30     30     2013-01-10 16:00:00\n",
              "⋮      ⋮      ⋮                  \n",
              "336747 35     2013-12-30 16:00:00\n",
              "336748  0     2013-12-30 06:00:00\n",
              "336749 30     2013-12-30 14:00:00\n",
              "336750 50     2013-12-30 13:00:00\n",
              "336751 52     2013-12-30 14:00:00\n",
              "336752 35     2013-12-30 19:00:00\n",
              "336753 11     2013-12-30 10:00:00\n",
              "336754  5     2013-12-30 06:00:00\n",
              "336755  5     2013-12-30 15:00:00\n",
              "336756 55     2013-12-30 13:00:00\n",
              "336757  0     2013-12-30 21:00:00\n",
              "336758 21     2013-12-30 12:00:00\n",
              "336759 55     2013-12-30 08:00:00\n",
              "336760 39     2013-12-31 20:00:00\n",
              "336761 20     2013-12-31 15:00:00\n",
              "336762 25     2013-12-31 20:00:00\n",
              "336763 32     2013-12-31 19:00:00\n",
              "336764  5     2013-12-31 15:00:00\n",
              "336765  0     2013-12-31 10:00:00\n",
              "336766 40     2013-12-31 08:00:00\n",
              "336767 54     2013-12-31 07:00:00\n",
              "336768  0     2013-12-31 20:00:00\n",
              "336769  0     2013-12-31 15:00:00\n",
              "336770 30     2013-12-31 14:00:00\n",
              "336771 55     2013-12-31 08:00:00\n",
              "336772  5     2013-12-31 07:00:00\n",
              "336773 25     2013-12-31 08:00:00\n",
              "336774 15     2013-12-31 16:00:00\n",
              "336775  0     2013-12-31 06:00:00\n",
              "336776 30     2013-12-31 08:00:00"
            ]
          },
          "metadata": {}
        }
      ]
    },
    {
      "cell_type": "markdown",
      "metadata": {
        "id": "7HrxhqMGRPyp"
      },
      "source": [
        "### 4.3 Funciones select() y rename()\n",
        "\n",
        "La con la función `select` podemos seleccionar un subconjunto de columas de la tabla original. A difernecia de SQL en esta sentencia no podremos crear nuevas columnas, sólo renombrarlas en algunos casos. Notar que (obviamente) no se mantienen las columnas que no ingresan como argumento a la función.\n",
        "\n",
        "La función rename() permite renombrar columnas existentes, manteniendo las columnas que no se están renombrando."
      ]
    },
    {
      "cell_type": "code",
      "metadata": {
        "trusted": true,
        "id": "he9R_3AURPyp",
        "outputId": "704a93f8-bd63-48b7-bba1-e6a4c4960327",
        "colab": {
          "base_uri": "https://localhost:8080/",
          "height": 1000
        }
      },
      "source": [
        "# select() y rename() ----------------------------------------------------------------\n",
        "# Ejemplo: Podemos seleccionar las columnas year, month, day, origin, dest\n",
        "\n",
        "# Cómo lo haríamos con la sintaxis básica? (recorr como acceder a través del nombre a un vector, matrix, lista, o data.frame)\n",
        "vuelos[,c(\"year\", \"month\", \"day\", \"origin\", \"dest\") ]# Pensando como matriz\n",
        "vuelos[c(\"year\", \"month\", \"day\", \"origin\", \"dest\") ]# Pensando como una lista\n"
      ],
      "execution_count": null,
      "outputs": [
        {
          "output_type": "display_data",
          "data": {
            "text/html": [
              "<table class=\"dataframe\">\n",
              "<caption>A data.frame: 336776 × 5</caption>\n",
              "<thead>\n",
              "\t<tr><th scope=col>year</th><th scope=col>month</th><th scope=col>day</th><th scope=col>origin</th><th scope=col>dest</th></tr>\n",
              "\t<tr><th scope=col>&lt;int&gt;</th><th scope=col>&lt;int&gt;</th><th scope=col>&lt;int&gt;</th><th scope=col>&lt;chr&gt;</th><th scope=col>&lt;chr&gt;</th></tr>\n",
              "</thead>\n",
              "<tbody>\n",
              "\t<tr><td>2013</td><td>1</td><td>1</td><td>EWR</td><td>IAH</td></tr>\n",
              "\t<tr><td>2013</td><td>1</td><td>1</td><td>LGA</td><td>IAH</td></tr>\n",
              "\t<tr><td>2013</td><td>1</td><td>1</td><td>JFK</td><td>MIA</td></tr>\n",
              "\t<tr><td>2013</td><td>1</td><td>1</td><td>JFK</td><td>BQN</td></tr>\n",
              "\t<tr><td>2013</td><td>1</td><td>1</td><td>LGA</td><td>ATL</td></tr>\n",
              "\t<tr><td>2013</td><td>1</td><td>1</td><td>EWR</td><td>ORD</td></tr>\n",
              "\t<tr><td>2013</td><td>1</td><td>1</td><td>EWR</td><td>FLL</td></tr>\n",
              "\t<tr><td>2013</td><td>1</td><td>1</td><td>LGA</td><td>IAD</td></tr>\n",
              "\t<tr><td>2013</td><td>1</td><td>1</td><td>JFK</td><td>MCO</td></tr>\n",
              "\t<tr><td>2013</td><td>1</td><td>1</td><td>LGA</td><td>ORD</td></tr>\n",
              "\t<tr><td>2013</td><td>1</td><td>1</td><td>JFK</td><td>PBI</td></tr>\n",
              "\t<tr><td>2013</td><td>1</td><td>1</td><td>JFK</td><td>TPA</td></tr>\n",
              "\t<tr><td>2013</td><td>1</td><td>1</td><td>JFK</td><td>LAX</td></tr>\n",
              "\t<tr><td>2013</td><td>1</td><td>1</td><td>EWR</td><td>SFO</td></tr>\n",
              "\t<tr><td>2013</td><td>1</td><td>1</td><td>LGA</td><td>DFW</td></tr>\n",
              "\t<tr><td>2013</td><td>1</td><td>1</td><td>JFK</td><td>BOS</td></tr>\n",
              "\t<tr><td>2013</td><td>1</td><td>1</td><td>EWR</td><td>LAS</td></tr>\n",
              "\t<tr><td>2013</td><td>1</td><td>1</td><td>LGA</td><td>FLL</td></tr>\n",
              "\t<tr><td>2013</td><td>1</td><td>1</td><td>LGA</td><td>ATL</td></tr>\n",
              "\t<tr><td>2013</td><td>1</td><td>1</td><td>EWR</td><td>PBI</td></tr>\n",
              "\t<tr><td>2013</td><td>1</td><td>1</td><td>LGA</td><td>MSP</td></tr>\n",
              "\t<tr><td>2013</td><td>1</td><td>1</td><td>LGA</td><td>DTW</td></tr>\n",
              "\t<tr><td>2013</td><td>1</td><td>1</td><td>EWR</td><td>MIA</td></tr>\n",
              "\t<tr><td>2013</td><td>1</td><td>1</td><td>JFK</td><td>ATL</td></tr>\n",
              "\t<tr><td>2013</td><td>1</td><td>1</td><td>EWR</td><td>MIA</td></tr>\n",
              "\t<tr><td>2013</td><td>1</td><td>1</td><td>EWR</td><td>ORD</td></tr>\n",
              "\t<tr><td>2013</td><td>1</td><td>1</td><td>JFK</td><td>SFO</td></tr>\n",
              "\t<tr><td>2013</td><td>1</td><td>1</td><td>JFK</td><td>RSW</td></tr>\n",
              "\t<tr><td>2013</td><td>1</td><td>1</td><td>JFK</td><td>SJU</td></tr>\n",
              "\t<tr><td>2013</td><td>1</td><td>1</td><td>EWR</td><td>ATL</td></tr>\n",
              "\t<tr><td>⋮</td><td>⋮</td><td>⋮</td><td>⋮</td><td>⋮</td></tr>\n",
              "\t<tr><td>2013</td><td>9</td><td>30</td><td>LGA</td><td>CHO</td></tr>\n",
              "\t<tr><td>2013</td><td>9</td><td>30</td><td>EWR</td><td>CLT</td></tr>\n",
              "\t<tr><td>2013</td><td>9</td><td>30</td><td>JFK</td><td>DEN</td></tr>\n",
              "\t<tr><td>2013</td><td>9</td><td>30</td><td>LGA</td><td>RIC</td></tr>\n",
              "\t<tr><td>2013</td><td>9</td><td>30</td><td>JFK</td><td>DCA</td></tr>\n",
              "\t<tr><td>2013</td><td>9</td><td>30</td><td>JFK</td><td>LAX</td></tr>\n",
              "\t<tr><td>2013</td><td>9</td><td>30</td><td>EWR</td><td>PWM</td></tr>\n",
              "\t<tr><td>2013</td><td>9</td><td>30</td><td>JFK</td><td>SJU</td></tr>\n",
              "\t<tr><td>2013</td><td>9</td><td>30</td><td>LGA</td><td>FLL</td></tr>\n",
              "\t<tr><td>2013</td><td>9</td><td>30</td><td>EWR</td><td>BOS</td></tr>\n",
              "\t<tr><td>2013</td><td>9</td><td>30</td><td>EWR</td><td>MHT</td></tr>\n",
              "\t<tr><td>2013</td><td>9</td><td>30</td><td>JFK</td><td>BUF</td></tr>\n",
              "\t<tr><td>2013</td><td>9</td><td>30</td><td>LGA</td><td>BGR</td></tr>\n",
              "\t<tr><td>2013</td><td>9</td><td>30</td><td>LGA</td><td>BNA</td></tr>\n",
              "\t<tr><td>2013</td><td>9</td><td>30</td><td>EWR</td><td>STL</td></tr>\n",
              "\t<tr><td>2013</td><td>9</td><td>30</td><td>JFK</td><td>PWM</td></tr>\n",
              "\t<tr><td>2013</td><td>9</td><td>30</td><td>EWR</td><td>SFO</td></tr>\n",
              "\t<tr><td>2013</td><td>9</td><td>30</td><td>JFK</td><td>MCO</td></tr>\n",
              "\t<tr><td>2013</td><td>9</td><td>30</td><td>JFK</td><td>BTV</td></tr>\n",
              "\t<tr><td>2013</td><td>9</td><td>30</td><td>JFK</td><td>SYR</td></tr>\n",
              "\t<tr><td>2013</td><td>9</td><td>30</td><td>JFK</td><td>BUF</td></tr>\n",
              "\t<tr><td>2013</td><td>9</td><td>30</td><td>JFK</td><td>ROC</td></tr>\n",
              "\t<tr><td>2013</td><td>9</td><td>30</td><td>JFK</td><td>BOS</td></tr>\n",
              "\t<tr><td>2013</td><td>9</td><td>30</td><td>JFK</td><td>PSE</td></tr>\n",
              "\t<tr><td>2013</td><td>9</td><td>30</td><td>LGA</td><td>BNA</td></tr>\n",
              "\t<tr><td>2013</td><td>9</td><td>30</td><td>JFK</td><td>DCA</td></tr>\n",
              "\t<tr><td>2013</td><td>9</td><td>30</td><td>LGA</td><td>SYR</td></tr>\n",
              "\t<tr><td>2013</td><td>9</td><td>30</td><td>LGA</td><td>BNA</td></tr>\n",
              "\t<tr><td>2013</td><td>9</td><td>30</td><td>LGA</td><td>CLE</td></tr>\n",
              "\t<tr><td>2013</td><td>9</td><td>30</td><td>LGA</td><td>RDU</td></tr>\n",
              "</tbody>\n",
              "</table>\n"
            ],
            "text/markdown": "\nA data.frame: 336776 × 5\n\n| year &lt;int&gt; | month &lt;int&gt; | day &lt;int&gt; | origin &lt;chr&gt; | dest &lt;chr&gt; |\n|---|---|---|---|---|\n| 2013 | 1 | 1 | EWR | IAH |\n| 2013 | 1 | 1 | LGA | IAH |\n| 2013 | 1 | 1 | JFK | MIA |\n| 2013 | 1 | 1 | JFK | BQN |\n| 2013 | 1 | 1 | LGA | ATL |\n| 2013 | 1 | 1 | EWR | ORD |\n| 2013 | 1 | 1 | EWR | FLL |\n| 2013 | 1 | 1 | LGA | IAD |\n| 2013 | 1 | 1 | JFK | MCO |\n| 2013 | 1 | 1 | LGA | ORD |\n| 2013 | 1 | 1 | JFK | PBI |\n| 2013 | 1 | 1 | JFK | TPA |\n| 2013 | 1 | 1 | JFK | LAX |\n| 2013 | 1 | 1 | EWR | SFO |\n| 2013 | 1 | 1 | LGA | DFW |\n| 2013 | 1 | 1 | JFK | BOS |\n| 2013 | 1 | 1 | EWR | LAS |\n| 2013 | 1 | 1 | LGA | FLL |\n| 2013 | 1 | 1 | LGA | ATL |\n| 2013 | 1 | 1 | EWR | PBI |\n| 2013 | 1 | 1 | LGA | MSP |\n| 2013 | 1 | 1 | LGA | DTW |\n| 2013 | 1 | 1 | EWR | MIA |\n| 2013 | 1 | 1 | JFK | ATL |\n| 2013 | 1 | 1 | EWR | MIA |\n| 2013 | 1 | 1 | EWR | ORD |\n| 2013 | 1 | 1 | JFK | SFO |\n| 2013 | 1 | 1 | JFK | RSW |\n| 2013 | 1 | 1 | JFK | SJU |\n| 2013 | 1 | 1 | EWR | ATL |\n| ⋮ | ⋮ | ⋮ | ⋮ | ⋮ |\n| 2013 | 9 | 30 | LGA | CHO |\n| 2013 | 9 | 30 | EWR | CLT |\n| 2013 | 9 | 30 | JFK | DEN |\n| 2013 | 9 | 30 | LGA | RIC |\n| 2013 | 9 | 30 | JFK | DCA |\n| 2013 | 9 | 30 | JFK | LAX |\n| 2013 | 9 | 30 | EWR | PWM |\n| 2013 | 9 | 30 | JFK | SJU |\n| 2013 | 9 | 30 | LGA | FLL |\n| 2013 | 9 | 30 | EWR | BOS |\n| 2013 | 9 | 30 | EWR | MHT |\n| 2013 | 9 | 30 | JFK | BUF |\n| 2013 | 9 | 30 | LGA | BGR |\n| 2013 | 9 | 30 | LGA | BNA |\n| 2013 | 9 | 30 | EWR | STL |\n| 2013 | 9 | 30 | JFK | PWM |\n| 2013 | 9 | 30 | EWR | SFO |\n| 2013 | 9 | 30 | JFK | MCO |\n| 2013 | 9 | 30 | JFK | BTV |\n| 2013 | 9 | 30 | JFK | SYR |\n| 2013 | 9 | 30 | JFK | BUF |\n| 2013 | 9 | 30 | JFK | ROC |\n| 2013 | 9 | 30 | JFK | BOS |\n| 2013 | 9 | 30 | JFK | PSE |\n| 2013 | 9 | 30 | LGA | BNA |\n| 2013 | 9 | 30 | JFK | DCA |\n| 2013 | 9 | 30 | LGA | SYR |\n| 2013 | 9 | 30 | LGA | BNA |\n| 2013 | 9 | 30 | LGA | CLE |\n| 2013 | 9 | 30 | LGA | RDU |\n\n",
            "text/latex": "A data.frame: 336776 × 5\n\\begin{tabular}{lllll}\n year & month & day & origin & dest\\\\\n <int> & <int> & <int> & <chr> & <chr>\\\\\n\\hline\n\t 2013 & 1 & 1 & EWR & IAH\\\\\n\t 2013 & 1 & 1 & LGA & IAH\\\\\n\t 2013 & 1 & 1 & JFK & MIA\\\\\n\t 2013 & 1 & 1 & JFK & BQN\\\\\n\t 2013 & 1 & 1 & LGA & ATL\\\\\n\t 2013 & 1 & 1 & EWR & ORD\\\\\n\t 2013 & 1 & 1 & EWR & FLL\\\\\n\t 2013 & 1 & 1 & LGA & IAD\\\\\n\t 2013 & 1 & 1 & JFK & MCO\\\\\n\t 2013 & 1 & 1 & LGA & ORD\\\\\n\t 2013 & 1 & 1 & JFK & PBI\\\\\n\t 2013 & 1 & 1 & JFK & TPA\\\\\n\t 2013 & 1 & 1 & JFK & LAX\\\\\n\t 2013 & 1 & 1 & EWR & SFO\\\\\n\t 2013 & 1 & 1 & LGA & DFW\\\\\n\t 2013 & 1 & 1 & JFK & BOS\\\\\n\t 2013 & 1 & 1 & EWR & LAS\\\\\n\t 2013 & 1 & 1 & LGA & FLL\\\\\n\t 2013 & 1 & 1 & LGA & ATL\\\\\n\t 2013 & 1 & 1 & EWR & PBI\\\\\n\t 2013 & 1 & 1 & LGA & MSP\\\\\n\t 2013 & 1 & 1 & LGA & DTW\\\\\n\t 2013 & 1 & 1 & EWR & MIA\\\\\n\t 2013 & 1 & 1 & JFK & ATL\\\\\n\t 2013 & 1 & 1 & EWR & MIA\\\\\n\t 2013 & 1 & 1 & EWR & ORD\\\\\n\t 2013 & 1 & 1 & JFK & SFO\\\\\n\t 2013 & 1 & 1 & JFK & RSW\\\\\n\t 2013 & 1 & 1 & JFK & SJU\\\\\n\t 2013 & 1 & 1 & EWR & ATL\\\\\n\t ⋮ & ⋮ & ⋮ & ⋮ & ⋮\\\\\n\t 2013 & 9 & 30 & LGA & CHO\\\\\n\t 2013 & 9 & 30 & EWR & CLT\\\\\n\t 2013 & 9 & 30 & JFK & DEN\\\\\n\t 2013 & 9 & 30 & LGA & RIC\\\\\n\t 2013 & 9 & 30 & JFK & DCA\\\\\n\t 2013 & 9 & 30 & JFK & LAX\\\\\n\t 2013 & 9 & 30 & EWR & PWM\\\\\n\t 2013 & 9 & 30 & JFK & SJU\\\\\n\t 2013 & 9 & 30 & LGA & FLL\\\\\n\t 2013 & 9 & 30 & EWR & BOS\\\\\n\t 2013 & 9 & 30 & EWR & MHT\\\\\n\t 2013 & 9 & 30 & JFK & BUF\\\\\n\t 2013 & 9 & 30 & LGA & BGR\\\\\n\t 2013 & 9 & 30 & LGA & BNA\\\\\n\t 2013 & 9 & 30 & EWR & STL\\\\\n\t 2013 & 9 & 30 & JFK & PWM\\\\\n\t 2013 & 9 & 30 & EWR & SFO\\\\\n\t 2013 & 9 & 30 & JFK & MCO\\\\\n\t 2013 & 9 & 30 & JFK & BTV\\\\\n\t 2013 & 9 & 30 & JFK & SYR\\\\\n\t 2013 & 9 & 30 & JFK & BUF\\\\\n\t 2013 & 9 & 30 & JFK & ROC\\\\\n\t 2013 & 9 & 30 & JFK & BOS\\\\\n\t 2013 & 9 & 30 & JFK & PSE\\\\\n\t 2013 & 9 & 30 & LGA & BNA\\\\\n\t 2013 & 9 & 30 & JFK & DCA\\\\\n\t 2013 & 9 & 30 & LGA & SYR\\\\\n\t 2013 & 9 & 30 & LGA & BNA\\\\\n\t 2013 & 9 & 30 & LGA & CLE\\\\\n\t 2013 & 9 & 30 & LGA & RDU\\\\\n\\end{tabular}\n",
            "text/plain": [
              "       year month day origin dest\n",
              "1      2013 1     1   EWR    IAH \n",
              "2      2013 1     1   LGA    IAH \n",
              "3      2013 1     1   JFK    MIA \n",
              "4      2013 1     1   JFK    BQN \n",
              "5      2013 1     1   LGA    ATL \n",
              "6      2013 1     1   EWR    ORD \n",
              "7      2013 1     1   EWR    FLL \n",
              "8      2013 1     1   LGA    IAD \n",
              "9      2013 1     1   JFK    MCO \n",
              "10     2013 1     1   LGA    ORD \n",
              "11     2013 1     1   JFK    PBI \n",
              "12     2013 1     1   JFK    TPA \n",
              "13     2013 1     1   JFK    LAX \n",
              "14     2013 1     1   EWR    SFO \n",
              "15     2013 1     1   LGA    DFW \n",
              "16     2013 1     1   JFK    BOS \n",
              "17     2013 1     1   EWR    LAS \n",
              "18     2013 1     1   LGA    FLL \n",
              "19     2013 1     1   LGA    ATL \n",
              "20     2013 1     1   EWR    PBI \n",
              "21     2013 1     1   LGA    MSP \n",
              "22     2013 1     1   LGA    DTW \n",
              "23     2013 1     1   EWR    MIA \n",
              "24     2013 1     1   JFK    ATL \n",
              "25     2013 1     1   EWR    MIA \n",
              "26     2013 1     1   EWR    ORD \n",
              "27     2013 1     1   JFK    SFO \n",
              "28     2013 1     1   JFK    RSW \n",
              "29     2013 1     1   JFK    SJU \n",
              "30     2013 1     1   EWR    ATL \n",
              "⋮      ⋮    ⋮     ⋮   ⋮      ⋮   \n",
              "336747 2013 9     30  LGA    CHO \n",
              "336748 2013 9     30  EWR    CLT \n",
              "336749 2013 9     30  JFK    DEN \n",
              "336750 2013 9     30  LGA    RIC \n",
              "336751 2013 9     30  JFK    DCA \n",
              "336752 2013 9     30  JFK    LAX \n",
              "336753 2013 9     30  EWR    PWM \n",
              "336754 2013 9     30  JFK    SJU \n",
              "336755 2013 9     30  LGA    FLL \n",
              "336756 2013 9     30  EWR    BOS \n",
              "336757 2013 9     30  EWR    MHT \n",
              "336758 2013 9     30  JFK    BUF \n",
              "336759 2013 9     30  LGA    BGR \n",
              "336760 2013 9     30  LGA    BNA \n",
              "336761 2013 9     30  EWR    STL \n",
              "336762 2013 9     30  JFK    PWM \n",
              "336763 2013 9     30  EWR    SFO \n",
              "336764 2013 9     30  JFK    MCO \n",
              "336765 2013 9     30  JFK    BTV \n",
              "336766 2013 9     30  JFK    SYR \n",
              "336767 2013 9     30  JFK    BUF \n",
              "336768 2013 9     30  JFK    ROC \n",
              "336769 2013 9     30  JFK    BOS \n",
              "336770 2013 9     30  JFK    PSE \n",
              "336771 2013 9     30  LGA    BNA \n",
              "336772 2013 9     30  JFK    DCA \n",
              "336773 2013 9     30  LGA    SYR \n",
              "336774 2013 9     30  LGA    BNA \n",
              "336775 2013 9     30  LGA    CLE \n",
              "336776 2013 9     30  LGA    RDU "
            ]
          },
          "metadata": {}
        },
        {
          "output_type": "display_data",
          "data": {
            "text/html": [
              "<table class=\"dataframe\">\n",
              "<caption>A data.frame: 336776 × 5</caption>\n",
              "<thead>\n",
              "\t<tr><th scope=col>year</th><th scope=col>month</th><th scope=col>day</th><th scope=col>origin</th><th scope=col>dest</th></tr>\n",
              "\t<tr><th scope=col>&lt;int&gt;</th><th scope=col>&lt;int&gt;</th><th scope=col>&lt;int&gt;</th><th scope=col>&lt;chr&gt;</th><th scope=col>&lt;chr&gt;</th></tr>\n",
              "</thead>\n",
              "<tbody>\n",
              "\t<tr><td>2013</td><td>1</td><td>1</td><td>EWR</td><td>IAH</td></tr>\n",
              "\t<tr><td>2013</td><td>1</td><td>1</td><td>LGA</td><td>IAH</td></tr>\n",
              "\t<tr><td>2013</td><td>1</td><td>1</td><td>JFK</td><td>MIA</td></tr>\n",
              "\t<tr><td>2013</td><td>1</td><td>1</td><td>JFK</td><td>BQN</td></tr>\n",
              "\t<tr><td>2013</td><td>1</td><td>1</td><td>LGA</td><td>ATL</td></tr>\n",
              "\t<tr><td>2013</td><td>1</td><td>1</td><td>EWR</td><td>ORD</td></tr>\n",
              "\t<tr><td>2013</td><td>1</td><td>1</td><td>EWR</td><td>FLL</td></tr>\n",
              "\t<tr><td>2013</td><td>1</td><td>1</td><td>LGA</td><td>IAD</td></tr>\n",
              "\t<tr><td>2013</td><td>1</td><td>1</td><td>JFK</td><td>MCO</td></tr>\n",
              "\t<tr><td>2013</td><td>1</td><td>1</td><td>LGA</td><td>ORD</td></tr>\n",
              "\t<tr><td>2013</td><td>1</td><td>1</td><td>JFK</td><td>PBI</td></tr>\n",
              "\t<tr><td>2013</td><td>1</td><td>1</td><td>JFK</td><td>TPA</td></tr>\n",
              "\t<tr><td>2013</td><td>1</td><td>1</td><td>JFK</td><td>LAX</td></tr>\n",
              "\t<tr><td>2013</td><td>1</td><td>1</td><td>EWR</td><td>SFO</td></tr>\n",
              "\t<tr><td>2013</td><td>1</td><td>1</td><td>LGA</td><td>DFW</td></tr>\n",
              "\t<tr><td>2013</td><td>1</td><td>1</td><td>JFK</td><td>BOS</td></tr>\n",
              "\t<tr><td>2013</td><td>1</td><td>1</td><td>EWR</td><td>LAS</td></tr>\n",
              "\t<tr><td>2013</td><td>1</td><td>1</td><td>LGA</td><td>FLL</td></tr>\n",
              "\t<tr><td>2013</td><td>1</td><td>1</td><td>LGA</td><td>ATL</td></tr>\n",
              "\t<tr><td>2013</td><td>1</td><td>1</td><td>EWR</td><td>PBI</td></tr>\n",
              "\t<tr><td>2013</td><td>1</td><td>1</td><td>LGA</td><td>MSP</td></tr>\n",
              "\t<tr><td>2013</td><td>1</td><td>1</td><td>LGA</td><td>DTW</td></tr>\n",
              "\t<tr><td>2013</td><td>1</td><td>1</td><td>EWR</td><td>MIA</td></tr>\n",
              "\t<tr><td>2013</td><td>1</td><td>1</td><td>JFK</td><td>ATL</td></tr>\n",
              "\t<tr><td>2013</td><td>1</td><td>1</td><td>EWR</td><td>MIA</td></tr>\n",
              "\t<tr><td>2013</td><td>1</td><td>1</td><td>EWR</td><td>ORD</td></tr>\n",
              "\t<tr><td>2013</td><td>1</td><td>1</td><td>JFK</td><td>SFO</td></tr>\n",
              "\t<tr><td>2013</td><td>1</td><td>1</td><td>JFK</td><td>RSW</td></tr>\n",
              "\t<tr><td>2013</td><td>1</td><td>1</td><td>JFK</td><td>SJU</td></tr>\n",
              "\t<tr><td>2013</td><td>1</td><td>1</td><td>EWR</td><td>ATL</td></tr>\n",
              "\t<tr><td>⋮</td><td>⋮</td><td>⋮</td><td>⋮</td><td>⋮</td></tr>\n",
              "\t<tr><td>2013</td><td>9</td><td>30</td><td>LGA</td><td>CHO</td></tr>\n",
              "\t<tr><td>2013</td><td>9</td><td>30</td><td>EWR</td><td>CLT</td></tr>\n",
              "\t<tr><td>2013</td><td>9</td><td>30</td><td>JFK</td><td>DEN</td></tr>\n",
              "\t<tr><td>2013</td><td>9</td><td>30</td><td>LGA</td><td>RIC</td></tr>\n",
              "\t<tr><td>2013</td><td>9</td><td>30</td><td>JFK</td><td>DCA</td></tr>\n",
              "\t<tr><td>2013</td><td>9</td><td>30</td><td>JFK</td><td>LAX</td></tr>\n",
              "\t<tr><td>2013</td><td>9</td><td>30</td><td>EWR</td><td>PWM</td></tr>\n",
              "\t<tr><td>2013</td><td>9</td><td>30</td><td>JFK</td><td>SJU</td></tr>\n",
              "\t<tr><td>2013</td><td>9</td><td>30</td><td>LGA</td><td>FLL</td></tr>\n",
              "\t<tr><td>2013</td><td>9</td><td>30</td><td>EWR</td><td>BOS</td></tr>\n",
              "\t<tr><td>2013</td><td>9</td><td>30</td><td>EWR</td><td>MHT</td></tr>\n",
              "\t<tr><td>2013</td><td>9</td><td>30</td><td>JFK</td><td>BUF</td></tr>\n",
              "\t<tr><td>2013</td><td>9</td><td>30</td><td>LGA</td><td>BGR</td></tr>\n",
              "\t<tr><td>2013</td><td>9</td><td>30</td><td>LGA</td><td>BNA</td></tr>\n",
              "\t<tr><td>2013</td><td>9</td><td>30</td><td>EWR</td><td>STL</td></tr>\n",
              "\t<tr><td>2013</td><td>9</td><td>30</td><td>JFK</td><td>PWM</td></tr>\n",
              "\t<tr><td>2013</td><td>9</td><td>30</td><td>EWR</td><td>SFO</td></tr>\n",
              "\t<tr><td>2013</td><td>9</td><td>30</td><td>JFK</td><td>MCO</td></tr>\n",
              "\t<tr><td>2013</td><td>9</td><td>30</td><td>JFK</td><td>BTV</td></tr>\n",
              "\t<tr><td>2013</td><td>9</td><td>30</td><td>JFK</td><td>SYR</td></tr>\n",
              "\t<tr><td>2013</td><td>9</td><td>30</td><td>JFK</td><td>BUF</td></tr>\n",
              "\t<tr><td>2013</td><td>9</td><td>30</td><td>JFK</td><td>ROC</td></tr>\n",
              "\t<tr><td>2013</td><td>9</td><td>30</td><td>JFK</td><td>BOS</td></tr>\n",
              "\t<tr><td>2013</td><td>9</td><td>30</td><td>JFK</td><td>PSE</td></tr>\n",
              "\t<tr><td>2013</td><td>9</td><td>30</td><td>LGA</td><td>BNA</td></tr>\n",
              "\t<tr><td>2013</td><td>9</td><td>30</td><td>JFK</td><td>DCA</td></tr>\n",
              "\t<tr><td>2013</td><td>9</td><td>30</td><td>LGA</td><td>SYR</td></tr>\n",
              "\t<tr><td>2013</td><td>9</td><td>30</td><td>LGA</td><td>BNA</td></tr>\n",
              "\t<tr><td>2013</td><td>9</td><td>30</td><td>LGA</td><td>CLE</td></tr>\n",
              "\t<tr><td>2013</td><td>9</td><td>30</td><td>LGA</td><td>RDU</td></tr>\n",
              "</tbody>\n",
              "</table>\n"
            ],
            "text/markdown": "\nA data.frame: 336776 × 5\n\n| year &lt;int&gt; | month &lt;int&gt; | day &lt;int&gt; | origin &lt;chr&gt; | dest &lt;chr&gt; |\n|---|---|---|---|---|\n| 2013 | 1 | 1 | EWR | IAH |\n| 2013 | 1 | 1 | LGA | IAH |\n| 2013 | 1 | 1 | JFK | MIA |\n| 2013 | 1 | 1 | JFK | BQN |\n| 2013 | 1 | 1 | LGA | ATL |\n| 2013 | 1 | 1 | EWR | ORD |\n| 2013 | 1 | 1 | EWR | FLL |\n| 2013 | 1 | 1 | LGA | IAD |\n| 2013 | 1 | 1 | JFK | MCO |\n| 2013 | 1 | 1 | LGA | ORD |\n| 2013 | 1 | 1 | JFK | PBI |\n| 2013 | 1 | 1 | JFK | TPA |\n| 2013 | 1 | 1 | JFK | LAX |\n| 2013 | 1 | 1 | EWR | SFO |\n| 2013 | 1 | 1 | LGA | DFW |\n| 2013 | 1 | 1 | JFK | BOS |\n| 2013 | 1 | 1 | EWR | LAS |\n| 2013 | 1 | 1 | LGA | FLL |\n| 2013 | 1 | 1 | LGA | ATL |\n| 2013 | 1 | 1 | EWR | PBI |\n| 2013 | 1 | 1 | LGA | MSP |\n| 2013 | 1 | 1 | LGA | DTW |\n| 2013 | 1 | 1 | EWR | MIA |\n| 2013 | 1 | 1 | JFK | ATL |\n| 2013 | 1 | 1 | EWR | MIA |\n| 2013 | 1 | 1 | EWR | ORD |\n| 2013 | 1 | 1 | JFK | SFO |\n| 2013 | 1 | 1 | JFK | RSW |\n| 2013 | 1 | 1 | JFK | SJU |\n| 2013 | 1 | 1 | EWR | ATL |\n| ⋮ | ⋮ | ⋮ | ⋮ | ⋮ |\n| 2013 | 9 | 30 | LGA | CHO |\n| 2013 | 9 | 30 | EWR | CLT |\n| 2013 | 9 | 30 | JFK | DEN |\n| 2013 | 9 | 30 | LGA | RIC |\n| 2013 | 9 | 30 | JFK | DCA |\n| 2013 | 9 | 30 | JFK | LAX |\n| 2013 | 9 | 30 | EWR | PWM |\n| 2013 | 9 | 30 | JFK | SJU |\n| 2013 | 9 | 30 | LGA | FLL |\n| 2013 | 9 | 30 | EWR | BOS |\n| 2013 | 9 | 30 | EWR | MHT |\n| 2013 | 9 | 30 | JFK | BUF |\n| 2013 | 9 | 30 | LGA | BGR |\n| 2013 | 9 | 30 | LGA | BNA |\n| 2013 | 9 | 30 | EWR | STL |\n| 2013 | 9 | 30 | JFK | PWM |\n| 2013 | 9 | 30 | EWR | SFO |\n| 2013 | 9 | 30 | JFK | MCO |\n| 2013 | 9 | 30 | JFK | BTV |\n| 2013 | 9 | 30 | JFK | SYR |\n| 2013 | 9 | 30 | JFK | BUF |\n| 2013 | 9 | 30 | JFK | ROC |\n| 2013 | 9 | 30 | JFK | BOS |\n| 2013 | 9 | 30 | JFK | PSE |\n| 2013 | 9 | 30 | LGA | BNA |\n| 2013 | 9 | 30 | JFK | DCA |\n| 2013 | 9 | 30 | LGA | SYR |\n| 2013 | 9 | 30 | LGA | BNA |\n| 2013 | 9 | 30 | LGA | CLE |\n| 2013 | 9 | 30 | LGA | RDU |\n\n",
            "text/latex": "A data.frame: 336776 × 5\n\\begin{tabular}{lllll}\n year & month & day & origin & dest\\\\\n <int> & <int> & <int> & <chr> & <chr>\\\\\n\\hline\n\t 2013 & 1 & 1 & EWR & IAH\\\\\n\t 2013 & 1 & 1 & LGA & IAH\\\\\n\t 2013 & 1 & 1 & JFK & MIA\\\\\n\t 2013 & 1 & 1 & JFK & BQN\\\\\n\t 2013 & 1 & 1 & LGA & ATL\\\\\n\t 2013 & 1 & 1 & EWR & ORD\\\\\n\t 2013 & 1 & 1 & EWR & FLL\\\\\n\t 2013 & 1 & 1 & LGA & IAD\\\\\n\t 2013 & 1 & 1 & JFK & MCO\\\\\n\t 2013 & 1 & 1 & LGA & ORD\\\\\n\t 2013 & 1 & 1 & JFK & PBI\\\\\n\t 2013 & 1 & 1 & JFK & TPA\\\\\n\t 2013 & 1 & 1 & JFK & LAX\\\\\n\t 2013 & 1 & 1 & EWR & SFO\\\\\n\t 2013 & 1 & 1 & LGA & DFW\\\\\n\t 2013 & 1 & 1 & JFK & BOS\\\\\n\t 2013 & 1 & 1 & EWR & LAS\\\\\n\t 2013 & 1 & 1 & LGA & FLL\\\\\n\t 2013 & 1 & 1 & LGA & ATL\\\\\n\t 2013 & 1 & 1 & EWR & PBI\\\\\n\t 2013 & 1 & 1 & LGA & MSP\\\\\n\t 2013 & 1 & 1 & LGA & DTW\\\\\n\t 2013 & 1 & 1 & EWR & MIA\\\\\n\t 2013 & 1 & 1 & JFK & ATL\\\\\n\t 2013 & 1 & 1 & EWR & MIA\\\\\n\t 2013 & 1 & 1 & EWR & ORD\\\\\n\t 2013 & 1 & 1 & JFK & SFO\\\\\n\t 2013 & 1 & 1 & JFK & RSW\\\\\n\t 2013 & 1 & 1 & JFK & SJU\\\\\n\t 2013 & 1 & 1 & EWR & ATL\\\\\n\t ⋮ & ⋮ & ⋮ & ⋮ & ⋮\\\\\n\t 2013 & 9 & 30 & LGA & CHO\\\\\n\t 2013 & 9 & 30 & EWR & CLT\\\\\n\t 2013 & 9 & 30 & JFK & DEN\\\\\n\t 2013 & 9 & 30 & LGA & RIC\\\\\n\t 2013 & 9 & 30 & JFK & DCA\\\\\n\t 2013 & 9 & 30 & JFK & LAX\\\\\n\t 2013 & 9 & 30 & EWR & PWM\\\\\n\t 2013 & 9 & 30 & JFK & SJU\\\\\n\t 2013 & 9 & 30 & LGA & FLL\\\\\n\t 2013 & 9 & 30 & EWR & BOS\\\\\n\t 2013 & 9 & 30 & EWR & MHT\\\\\n\t 2013 & 9 & 30 & JFK & BUF\\\\\n\t 2013 & 9 & 30 & LGA & BGR\\\\\n\t 2013 & 9 & 30 & LGA & BNA\\\\\n\t 2013 & 9 & 30 & EWR & STL\\\\\n\t 2013 & 9 & 30 & JFK & PWM\\\\\n\t 2013 & 9 & 30 & EWR & SFO\\\\\n\t 2013 & 9 & 30 & JFK & MCO\\\\\n\t 2013 & 9 & 30 & JFK & BTV\\\\\n\t 2013 & 9 & 30 & JFK & SYR\\\\\n\t 2013 & 9 & 30 & JFK & BUF\\\\\n\t 2013 & 9 & 30 & JFK & ROC\\\\\n\t 2013 & 9 & 30 & JFK & BOS\\\\\n\t 2013 & 9 & 30 & JFK & PSE\\\\\n\t 2013 & 9 & 30 & LGA & BNA\\\\\n\t 2013 & 9 & 30 & JFK & DCA\\\\\n\t 2013 & 9 & 30 & LGA & SYR\\\\\n\t 2013 & 9 & 30 & LGA & BNA\\\\\n\t 2013 & 9 & 30 & LGA & CLE\\\\\n\t 2013 & 9 & 30 & LGA & RDU\\\\\n\\end{tabular}\n",
            "text/plain": [
              "       year month day origin dest\n",
              "1      2013 1     1   EWR    IAH \n",
              "2      2013 1     1   LGA    IAH \n",
              "3      2013 1     1   JFK    MIA \n",
              "4      2013 1     1   JFK    BQN \n",
              "5      2013 1     1   LGA    ATL \n",
              "6      2013 1     1   EWR    ORD \n",
              "7      2013 1     1   EWR    FLL \n",
              "8      2013 1     1   LGA    IAD \n",
              "9      2013 1     1   JFK    MCO \n",
              "10     2013 1     1   LGA    ORD \n",
              "11     2013 1     1   JFK    PBI \n",
              "12     2013 1     1   JFK    TPA \n",
              "13     2013 1     1   JFK    LAX \n",
              "14     2013 1     1   EWR    SFO \n",
              "15     2013 1     1   LGA    DFW \n",
              "16     2013 1     1   JFK    BOS \n",
              "17     2013 1     1   EWR    LAS \n",
              "18     2013 1     1   LGA    FLL \n",
              "19     2013 1     1   LGA    ATL \n",
              "20     2013 1     1   EWR    PBI \n",
              "21     2013 1     1   LGA    MSP \n",
              "22     2013 1     1   LGA    DTW \n",
              "23     2013 1     1   EWR    MIA \n",
              "24     2013 1     1   JFK    ATL \n",
              "25     2013 1     1   EWR    MIA \n",
              "26     2013 1     1   EWR    ORD \n",
              "27     2013 1     1   JFK    SFO \n",
              "28     2013 1     1   JFK    RSW \n",
              "29     2013 1     1   JFK    SJU \n",
              "30     2013 1     1   EWR    ATL \n",
              "⋮      ⋮    ⋮     ⋮   ⋮      ⋮   \n",
              "336747 2013 9     30  LGA    CHO \n",
              "336748 2013 9     30  EWR    CLT \n",
              "336749 2013 9     30  JFK    DEN \n",
              "336750 2013 9     30  LGA    RIC \n",
              "336751 2013 9     30  JFK    DCA \n",
              "336752 2013 9     30  JFK    LAX \n",
              "336753 2013 9     30  EWR    PWM \n",
              "336754 2013 9     30  JFK    SJU \n",
              "336755 2013 9     30  LGA    FLL \n",
              "336756 2013 9     30  EWR    BOS \n",
              "336757 2013 9     30  EWR    MHT \n",
              "336758 2013 9     30  JFK    BUF \n",
              "336759 2013 9     30  LGA    BGR \n",
              "336760 2013 9     30  LGA    BNA \n",
              "336761 2013 9     30  EWR    STL \n",
              "336762 2013 9     30  JFK    PWM \n",
              "336763 2013 9     30  EWR    SFO \n",
              "336764 2013 9     30  JFK    MCO \n",
              "336765 2013 9     30  JFK    BTV \n",
              "336766 2013 9     30  JFK    SYR \n",
              "336767 2013 9     30  JFK    BUF \n",
              "336768 2013 9     30  JFK    ROC \n",
              "336769 2013 9     30  JFK    BOS \n",
              "336770 2013 9     30  JFK    PSE \n",
              "336771 2013 9     30  LGA    BNA \n",
              "336772 2013 9     30  JFK    DCA \n",
              "336773 2013 9     30  LGA    SYR \n",
              "336774 2013 9     30  LGA    BNA \n",
              "336775 2013 9     30  LGA    CLE \n",
              "336776 2013 9     30  LGA    RDU "
            ]
          },
          "metadata": {}
        }
      ]
    },
    {
      "cell_type": "code",
      "source": [
        "select(vuelos, year, month, day, origin, dest)"
      ],
      "metadata": {
        "id": "tiJRa0XkoFm6",
        "outputId": "0d7e7d4d-ca15-475c-f875-ac67f28c0474",
        "colab": {
          "base_uri": "https://localhost:8080/",
          "height": 1000
        }
      },
      "execution_count": null,
      "outputs": [
        {
          "output_type": "display_data",
          "data": {
            "text/html": [
              "<table class=\"dataframe\">\n",
              "<caption>A data.frame: 336776 × 5</caption>\n",
              "<thead>\n",
              "\t<tr><th scope=col>year</th><th scope=col>month</th><th scope=col>day</th><th scope=col>origin</th><th scope=col>dest</th></tr>\n",
              "\t<tr><th scope=col>&lt;int&gt;</th><th scope=col>&lt;int&gt;</th><th scope=col>&lt;int&gt;</th><th scope=col>&lt;chr&gt;</th><th scope=col>&lt;chr&gt;</th></tr>\n",
              "</thead>\n",
              "<tbody>\n",
              "\t<tr><td>2013</td><td>1</td><td>1</td><td>EWR</td><td>IAH</td></tr>\n",
              "\t<tr><td>2013</td><td>1</td><td>1</td><td>LGA</td><td>IAH</td></tr>\n",
              "\t<tr><td>2013</td><td>1</td><td>1</td><td>JFK</td><td>MIA</td></tr>\n",
              "\t<tr><td>2013</td><td>1</td><td>1</td><td>JFK</td><td>BQN</td></tr>\n",
              "\t<tr><td>2013</td><td>1</td><td>1</td><td>LGA</td><td>ATL</td></tr>\n",
              "\t<tr><td>2013</td><td>1</td><td>1</td><td>EWR</td><td>ORD</td></tr>\n",
              "\t<tr><td>2013</td><td>1</td><td>1</td><td>EWR</td><td>FLL</td></tr>\n",
              "\t<tr><td>2013</td><td>1</td><td>1</td><td>LGA</td><td>IAD</td></tr>\n",
              "\t<tr><td>2013</td><td>1</td><td>1</td><td>JFK</td><td>MCO</td></tr>\n",
              "\t<tr><td>2013</td><td>1</td><td>1</td><td>LGA</td><td>ORD</td></tr>\n",
              "\t<tr><td>2013</td><td>1</td><td>1</td><td>JFK</td><td>PBI</td></tr>\n",
              "\t<tr><td>2013</td><td>1</td><td>1</td><td>JFK</td><td>TPA</td></tr>\n",
              "\t<tr><td>2013</td><td>1</td><td>1</td><td>JFK</td><td>LAX</td></tr>\n",
              "\t<tr><td>2013</td><td>1</td><td>1</td><td>EWR</td><td>SFO</td></tr>\n",
              "\t<tr><td>2013</td><td>1</td><td>1</td><td>LGA</td><td>DFW</td></tr>\n",
              "\t<tr><td>2013</td><td>1</td><td>1</td><td>JFK</td><td>BOS</td></tr>\n",
              "\t<tr><td>2013</td><td>1</td><td>1</td><td>EWR</td><td>LAS</td></tr>\n",
              "\t<tr><td>2013</td><td>1</td><td>1</td><td>LGA</td><td>FLL</td></tr>\n",
              "\t<tr><td>2013</td><td>1</td><td>1</td><td>LGA</td><td>ATL</td></tr>\n",
              "\t<tr><td>2013</td><td>1</td><td>1</td><td>EWR</td><td>PBI</td></tr>\n",
              "\t<tr><td>2013</td><td>1</td><td>1</td><td>LGA</td><td>MSP</td></tr>\n",
              "\t<tr><td>2013</td><td>1</td><td>1</td><td>LGA</td><td>DTW</td></tr>\n",
              "\t<tr><td>2013</td><td>1</td><td>1</td><td>EWR</td><td>MIA</td></tr>\n",
              "\t<tr><td>2013</td><td>1</td><td>1</td><td>JFK</td><td>ATL</td></tr>\n",
              "\t<tr><td>2013</td><td>1</td><td>1</td><td>EWR</td><td>MIA</td></tr>\n",
              "\t<tr><td>2013</td><td>1</td><td>1</td><td>EWR</td><td>ORD</td></tr>\n",
              "\t<tr><td>2013</td><td>1</td><td>1</td><td>JFK</td><td>SFO</td></tr>\n",
              "\t<tr><td>2013</td><td>1</td><td>1</td><td>JFK</td><td>RSW</td></tr>\n",
              "\t<tr><td>2013</td><td>1</td><td>1</td><td>JFK</td><td>SJU</td></tr>\n",
              "\t<tr><td>2013</td><td>1</td><td>1</td><td>EWR</td><td>ATL</td></tr>\n",
              "\t<tr><td>⋮</td><td>⋮</td><td>⋮</td><td>⋮</td><td>⋮</td></tr>\n",
              "\t<tr><td>2013</td><td>9</td><td>30</td><td>LGA</td><td>CHO</td></tr>\n",
              "\t<tr><td>2013</td><td>9</td><td>30</td><td>EWR</td><td>CLT</td></tr>\n",
              "\t<tr><td>2013</td><td>9</td><td>30</td><td>JFK</td><td>DEN</td></tr>\n",
              "\t<tr><td>2013</td><td>9</td><td>30</td><td>LGA</td><td>RIC</td></tr>\n",
              "\t<tr><td>2013</td><td>9</td><td>30</td><td>JFK</td><td>DCA</td></tr>\n",
              "\t<tr><td>2013</td><td>9</td><td>30</td><td>JFK</td><td>LAX</td></tr>\n",
              "\t<tr><td>2013</td><td>9</td><td>30</td><td>EWR</td><td>PWM</td></tr>\n",
              "\t<tr><td>2013</td><td>9</td><td>30</td><td>JFK</td><td>SJU</td></tr>\n",
              "\t<tr><td>2013</td><td>9</td><td>30</td><td>LGA</td><td>FLL</td></tr>\n",
              "\t<tr><td>2013</td><td>9</td><td>30</td><td>EWR</td><td>BOS</td></tr>\n",
              "\t<tr><td>2013</td><td>9</td><td>30</td><td>EWR</td><td>MHT</td></tr>\n",
              "\t<tr><td>2013</td><td>9</td><td>30</td><td>JFK</td><td>BUF</td></tr>\n",
              "\t<tr><td>2013</td><td>9</td><td>30</td><td>LGA</td><td>BGR</td></tr>\n",
              "\t<tr><td>2013</td><td>9</td><td>30</td><td>LGA</td><td>BNA</td></tr>\n",
              "\t<tr><td>2013</td><td>9</td><td>30</td><td>EWR</td><td>STL</td></tr>\n",
              "\t<tr><td>2013</td><td>9</td><td>30</td><td>JFK</td><td>PWM</td></tr>\n",
              "\t<tr><td>2013</td><td>9</td><td>30</td><td>EWR</td><td>SFO</td></tr>\n",
              "\t<tr><td>2013</td><td>9</td><td>30</td><td>JFK</td><td>MCO</td></tr>\n",
              "\t<tr><td>2013</td><td>9</td><td>30</td><td>JFK</td><td>BTV</td></tr>\n",
              "\t<tr><td>2013</td><td>9</td><td>30</td><td>JFK</td><td>SYR</td></tr>\n",
              "\t<tr><td>2013</td><td>9</td><td>30</td><td>JFK</td><td>BUF</td></tr>\n",
              "\t<tr><td>2013</td><td>9</td><td>30</td><td>JFK</td><td>ROC</td></tr>\n",
              "\t<tr><td>2013</td><td>9</td><td>30</td><td>JFK</td><td>BOS</td></tr>\n",
              "\t<tr><td>2013</td><td>9</td><td>30</td><td>JFK</td><td>PSE</td></tr>\n",
              "\t<tr><td>2013</td><td>9</td><td>30</td><td>LGA</td><td>BNA</td></tr>\n",
              "\t<tr><td>2013</td><td>9</td><td>30</td><td>JFK</td><td>DCA</td></tr>\n",
              "\t<tr><td>2013</td><td>9</td><td>30</td><td>LGA</td><td>SYR</td></tr>\n",
              "\t<tr><td>2013</td><td>9</td><td>30</td><td>LGA</td><td>BNA</td></tr>\n",
              "\t<tr><td>2013</td><td>9</td><td>30</td><td>LGA</td><td>CLE</td></tr>\n",
              "\t<tr><td>2013</td><td>9</td><td>30</td><td>LGA</td><td>RDU</td></tr>\n",
              "</tbody>\n",
              "</table>\n"
            ],
            "text/markdown": "\nA data.frame: 336776 × 5\n\n| year &lt;int&gt; | month &lt;int&gt; | day &lt;int&gt; | origin &lt;chr&gt; | dest &lt;chr&gt; |\n|---|---|---|---|---|\n| 2013 | 1 | 1 | EWR | IAH |\n| 2013 | 1 | 1 | LGA | IAH |\n| 2013 | 1 | 1 | JFK | MIA |\n| 2013 | 1 | 1 | JFK | BQN |\n| 2013 | 1 | 1 | LGA | ATL |\n| 2013 | 1 | 1 | EWR | ORD |\n| 2013 | 1 | 1 | EWR | FLL |\n| 2013 | 1 | 1 | LGA | IAD |\n| 2013 | 1 | 1 | JFK | MCO |\n| 2013 | 1 | 1 | LGA | ORD |\n| 2013 | 1 | 1 | JFK | PBI |\n| 2013 | 1 | 1 | JFK | TPA |\n| 2013 | 1 | 1 | JFK | LAX |\n| 2013 | 1 | 1 | EWR | SFO |\n| 2013 | 1 | 1 | LGA | DFW |\n| 2013 | 1 | 1 | JFK | BOS |\n| 2013 | 1 | 1 | EWR | LAS |\n| 2013 | 1 | 1 | LGA | FLL |\n| 2013 | 1 | 1 | LGA | ATL |\n| 2013 | 1 | 1 | EWR | PBI |\n| 2013 | 1 | 1 | LGA | MSP |\n| 2013 | 1 | 1 | LGA | DTW |\n| 2013 | 1 | 1 | EWR | MIA |\n| 2013 | 1 | 1 | JFK | ATL |\n| 2013 | 1 | 1 | EWR | MIA |\n| 2013 | 1 | 1 | EWR | ORD |\n| 2013 | 1 | 1 | JFK | SFO |\n| 2013 | 1 | 1 | JFK | RSW |\n| 2013 | 1 | 1 | JFK | SJU |\n| 2013 | 1 | 1 | EWR | ATL |\n| ⋮ | ⋮ | ⋮ | ⋮ | ⋮ |\n| 2013 | 9 | 30 | LGA | CHO |\n| 2013 | 9 | 30 | EWR | CLT |\n| 2013 | 9 | 30 | JFK | DEN |\n| 2013 | 9 | 30 | LGA | RIC |\n| 2013 | 9 | 30 | JFK | DCA |\n| 2013 | 9 | 30 | JFK | LAX |\n| 2013 | 9 | 30 | EWR | PWM |\n| 2013 | 9 | 30 | JFK | SJU |\n| 2013 | 9 | 30 | LGA | FLL |\n| 2013 | 9 | 30 | EWR | BOS |\n| 2013 | 9 | 30 | EWR | MHT |\n| 2013 | 9 | 30 | JFK | BUF |\n| 2013 | 9 | 30 | LGA | BGR |\n| 2013 | 9 | 30 | LGA | BNA |\n| 2013 | 9 | 30 | EWR | STL |\n| 2013 | 9 | 30 | JFK | PWM |\n| 2013 | 9 | 30 | EWR | SFO |\n| 2013 | 9 | 30 | JFK | MCO |\n| 2013 | 9 | 30 | JFK | BTV |\n| 2013 | 9 | 30 | JFK | SYR |\n| 2013 | 9 | 30 | JFK | BUF |\n| 2013 | 9 | 30 | JFK | ROC |\n| 2013 | 9 | 30 | JFK | BOS |\n| 2013 | 9 | 30 | JFK | PSE |\n| 2013 | 9 | 30 | LGA | BNA |\n| 2013 | 9 | 30 | JFK | DCA |\n| 2013 | 9 | 30 | LGA | SYR |\n| 2013 | 9 | 30 | LGA | BNA |\n| 2013 | 9 | 30 | LGA | CLE |\n| 2013 | 9 | 30 | LGA | RDU |\n\n",
            "text/latex": "A data.frame: 336776 × 5\n\\begin{tabular}{lllll}\n year & month & day & origin & dest\\\\\n <int> & <int> & <int> & <chr> & <chr>\\\\\n\\hline\n\t 2013 & 1 & 1 & EWR & IAH\\\\\n\t 2013 & 1 & 1 & LGA & IAH\\\\\n\t 2013 & 1 & 1 & JFK & MIA\\\\\n\t 2013 & 1 & 1 & JFK & BQN\\\\\n\t 2013 & 1 & 1 & LGA & ATL\\\\\n\t 2013 & 1 & 1 & EWR & ORD\\\\\n\t 2013 & 1 & 1 & EWR & FLL\\\\\n\t 2013 & 1 & 1 & LGA & IAD\\\\\n\t 2013 & 1 & 1 & JFK & MCO\\\\\n\t 2013 & 1 & 1 & LGA & ORD\\\\\n\t 2013 & 1 & 1 & JFK & PBI\\\\\n\t 2013 & 1 & 1 & JFK & TPA\\\\\n\t 2013 & 1 & 1 & JFK & LAX\\\\\n\t 2013 & 1 & 1 & EWR & SFO\\\\\n\t 2013 & 1 & 1 & LGA & DFW\\\\\n\t 2013 & 1 & 1 & JFK & BOS\\\\\n\t 2013 & 1 & 1 & EWR & LAS\\\\\n\t 2013 & 1 & 1 & LGA & FLL\\\\\n\t 2013 & 1 & 1 & LGA & ATL\\\\\n\t 2013 & 1 & 1 & EWR & PBI\\\\\n\t 2013 & 1 & 1 & LGA & MSP\\\\\n\t 2013 & 1 & 1 & LGA & DTW\\\\\n\t 2013 & 1 & 1 & EWR & MIA\\\\\n\t 2013 & 1 & 1 & JFK & ATL\\\\\n\t 2013 & 1 & 1 & EWR & MIA\\\\\n\t 2013 & 1 & 1 & EWR & ORD\\\\\n\t 2013 & 1 & 1 & JFK & SFO\\\\\n\t 2013 & 1 & 1 & JFK & RSW\\\\\n\t 2013 & 1 & 1 & JFK & SJU\\\\\n\t 2013 & 1 & 1 & EWR & ATL\\\\\n\t ⋮ & ⋮ & ⋮ & ⋮ & ⋮\\\\\n\t 2013 & 9 & 30 & LGA & CHO\\\\\n\t 2013 & 9 & 30 & EWR & CLT\\\\\n\t 2013 & 9 & 30 & JFK & DEN\\\\\n\t 2013 & 9 & 30 & LGA & RIC\\\\\n\t 2013 & 9 & 30 & JFK & DCA\\\\\n\t 2013 & 9 & 30 & JFK & LAX\\\\\n\t 2013 & 9 & 30 & EWR & PWM\\\\\n\t 2013 & 9 & 30 & JFK & SJU\\\\\n\t 2013 & 9 & 30 & LGA & FLL\\\\\n\t 2013 & 9 & 30 & EWR & BOS\\\\\n\t 2013 & 9 & 30 & EWR & MHT\\\\\n\t 2013 & 9 & 30 & JFK & BUF\\\\\n\t 2013 & 9 & 30 & LGA & BGR\\\\\n\t 2013 & 9 & 30 & LGA & BNA\\\\\n\t 2013 & 9 & 30 & EWR & STL\\\\\n\t 2013 & 9 & 30 & JFK & PWM\\\\\n\t 2013 & 9 & 30 & EWR & SFO\\\\\n\t 2013 & 9 & 30 & JFK & MCO\\\\\n\t 2013 & 9 & 30 & JFK & BTV\\\\\n\t 2013 & 9 & 30 & JFK & SYR\\\\\n\t 2013 & 9 & 30 & JFK & BUF\\\\\n\t 2013 & 9 & 30 & JFK & ROC\\\\\n\t 2013 & 9 & 30 & JFK & BOS\\\\\n\t 2013 & 9 & 30 & JFK & PSE\\\\\n\t 2013 & 9 & 30 & LGA & BNA\\\\\n\t 2013 & 9 & 30 & JFK & DCA\\\\\n\t 2013 & 9 & 30 & LGA & SYR\\\\\n\t 2013 & 9 & 30 & LGA & BNA\\\\\n\t 2013 & 9 & 30 & LGA & CLE\\\\\n\t 2013 & 9 & 30 & LGA & RDU\\\\\n\\end{tabular}\n",
            "text/plain": [
              "       year month day origin dest\n",
              "1      2013 1     1   EWR    IAH \n",
              "2      2013 1     1   LGA    IAH \n",
              "3      2013 1     1   JFK    MIA \n",
              "4      2013 1     1   JFK    BQN \n",
              "5      2013 1     1   LGA    ATL \n",
              "6      2013 1     1   EWR    ORD \n",
              "7      2013 1     1   EWR    FLL \n",
              "8      2013 1     1   LGA    IAD \n",
              "9      2013 1     1   JFK    MCO \n",
              "10     2013 1     1   LGA    ORD \n",
              "11     2013 1     1   JFK    PBI \n",
              "12     2013 1     1   JFK    TPA \n",
              "13     2013 1     1   JFK    LAX \n",
              "14     2013 1     1   EWR    SFO \n",
              "15     2013 1     1   LGA    DFW \n",
              "16     2013 1     1   JFK    BOS \n",
              "17     2013 1     1   EWR    LAS \n",
              "18     2013 1     1   LGA    FLL \n",
              "19     2013 1     1   LGA    ATL \n",
              "20     2013 1     1   EWR    PBI \n",
              "21     2013 1     1   LGA    MSP \n",
              "22     2013 1     1   LGA    DTW \n",
              "23     2013 1     1   EWR    MIA \n",
              "24     2013 1     1   JFK    ATL \n",
              "25     2013 1     1   EWR    MIA \n",
              "26     2013 1     1   EWR    ORD \n",
              "27     2013 1     1   JFK    SFO \n",
              "28     2013 1     1   JFK    RSW \n",
              "29     2013 1     1   JFK    SJU \n",
              "30     2013 1     1   EWR    ATL \n",
              "⋮      ⋮    ⋮     ⋮   ⋮      ⋮   \n",
              "336747 2013 9     30  LGA    CHO \n",
              "336748 2013 9     30  EWR    CLT \n",
              "336749 2013 9     30  JFK    DEN \n",
              "336750 2013 9     30  LGA    RIC \n",
              "336751 2013 9     30  JFK    DCA \n",
              "336752 2013 9     30  JFK    LAX \n",
              "336753 2013 9     30  EWR    PWM \n",
              "336754 2013 9     30  JFK    SJU \n",
              "336755 2013 9     30  LGA    FLL \n",
              "336756 2013 9     30  EWR    BOS \n",
              "336757 2013 9     30  EWR    MHT \n",
              "336758 2013 9     30  JFK    BUF \n",
              "336759 2013 9     30  LGA    BGR \n",
              "336760 2013 9     30  LGA    BNA \n",
              "336761 2013 9     30  EWR    STL \n",
              "336762 2013 9     30  JFK    PWM \n",
              "336763 2013 9     30  EWR    SFO \n",
              "336764 2013 9     30  JFK    MCO \n",
              "336765 2013 9     30  JFK    BTV \n",
              "336766 2013 9     30  JFK    SYR \n",
              "336767 2013 9     30  JFK    BUF \n",
              "336768 2013 9     30  JFK    ROC \n",
              "336769 2013 9     30  JFK    BOS \n",
              "336770 2013 9     30  JFK    PSE \n",
              "336771 2013 9     30  LGA    BNA \n",
              "336772 2013 9     30  JFK    DCA \n",
              "336773 2013 9     30  LGA    SYR \n",
              "336774 2013 9     30  LGA    BNA \n",
              "336775 2013 9     30  LGA    CLE \n",
              "336776 2013 9     30  LGA    RDU "
            ]
          },
          "metadata": {}
        }
      ]
    },
    {
      "cell_type": "code",
      "metadata": {
        "trusted": true,
        "scrolled": false,
        "id": "HFlJeLmMRPyr",
        "outputId": "5dfe2417-9488-4de2-cc6a-4703d7fdbf7a",
        "colab": {
          "base_uri": "https://localhost:8080/",
          "height": 1000
        }
      },
      "source": [
        "# podemos renombrar la columna year\n",
        "rename(vuelos, anio = year,\n",
        "               mes = month,\n",
        "               dia = day)\n",
        "\n"
      ],
      "execution_count": null,
      "outputs": [
        {
          "output_type": "display_data",
          "data": {
            "text/html": [
              "<table class=\"dataframe\">\n",
              "<caption>A data.frame: 336776 × 19</caption>\n",
              "<thead>\n",
              "\t<tr><th scope=col>anio</th><th scope=col>mes</th><th scope=col>dia</th><th scope=col>dep_time</th><th scope=col>sched_dep_time</th><th scope=col>dep_delay</th><th scope=col>arr_time</th><th scope=col>sched_arr_time</th><th scope=col>arr_delay</th><th scope=col>carrier</th><th scope=col>flight</th><th scope=col>tailnum</th><th scope=col>origin</th><th scope=col>dest</th><th scope=col>air_time</th><th scope=col>distance</th><th scope=col>hour</th><th scope=col>minute</th><th scope=col>time_hour</th></tr>\n",
              "\t<tr><th scope=col>&lt;int&gt;</th><th scope=col>&lt;int&gt;</th><th scope=col>&lt;int&gt;</th><th scope=col>&lt;int&gt;</th><th scope=col>&lt;int&gt;</th><th scope=col>&lt;int&gt;</th><th scope=col>&lt;int&gt;</th><th scope=col>&lt;int&gt;</th><th scope=col>&lt;int&gt;</th><th scope=col>&lt;chr&gt;</th><th scope=col>&lt;int&gt;</th><th scope=col>&lt;chr&gt;</th><th scope=col>&lt;chr&gt;</th><th scope=col>&lt;chr&gt;</th><th scope=col>&lt;int&gt;</th><th scope=col>&lt;int&gt;</th><th scope=col>&lt;int&gt;</th><th scope=col>&lt;int&gt;</th><th scope=col>&lt;chr&gt;</th></tr>\n",
              "</thead>\n",
              "<tbody>\n",
              "\t<tr><td>2013</td><td>1</td><td>1</td><td>517</td><td>515</td><td> 2</td><td> 830</td><td> 819</td><td> 11</td><td>UA</td><td>1545</td><td>N14228</td><td>EWR</td><td>IAH</td><td>227</td><td>1400</td><td>5</td><td>15</td><td>2013-01-01 05:00:00</td></tr>\n",
              "\t<tr><td>2013</td><td>1</td><td>1</td><td>533</td><td>529</td><td> 4</td><td> 850</td><td> 830</td><td> 20</td><td>UA</td><td>1714</td><td>N24211</td><td>LGA</td><td>IAH</td><td>227</td><td>1416</td><td>5</td><td>29</td><td>2013-01-01 05:00:00</td></tr>\n",
              "\t<tr><td>2013</td><td>1</td><td>1</td><td>542</td><td>540</td><td> 2</td><td> 923</td><td> 850</td><td> 33</td><td>AA</td><td>1141</td><td>N619AA</td><td>JFK</td><td>MIA</td><td>160</td><td>1089</td><td>5</td><td>40</td><td>2013-01-01 05:00:00</td></tr>\n",
              "\t<tr><td>2013</td><td>1</td><td>1</td><td>544</td><td>545</td><td>-1</td><td>1004</td><td>1022</td><td>-18</td><td>B6</td><td> 725</td><td>N804JB</td><td>JFK</td><td>BQN</td><td>183</td><td>1576</td><td>5</td><td>45</td><td>2013-01-01 05:00:00</td></tr>\n",
              "\t<tr><td>2013</td><td>1</td><td>1</td><td>554</td><td>600</td><td>-6</td><td> 812</td><td> 837</td><td>-25</td><td>DL</td><td> 461</td><td>N668DN</td><td>LGA</td><td>ATL</td><td>116</td><td> 762</td><td>6</td><td> 0</td><td>2013-01-01 06:00:00</td></tr>\n",
              "\t<tr><td>2013</td><td>1</td><td>1</td><td>554</td><td>558</td><td>-4</td><td> 740</td><td> 728</td><td> 12</td><td>UA</td><td>1696</td><td>N39463</td><td>EWR</td><td>ORD</td><td>150</td><td> 719</td><td>5</td><td>58</td><td>2013-01-01 05:00:00</td></tr>\n",
              "\t<tr><td>2013</td><td>1</td><td>1</td><td>555</td><td>600</td><td>-5</td><td> 913</td><td> 854</td><td> 19</td><td>B6</td><td> 507</td><td>N516JB</td><td>EWR</td><td>FLL</td><td>158</td><td>1065</td><td>6</td><td> 0</td><td>2013-01-01 06:00:00</td></tr>\n",
              "\t<tr><td>2013</td><td>1</td><td>1</td><td>557</td><td>600</td><td>-3</td><td> 709</td><td> 723</td><td>-14</td><td>EV</td><td>5708</td><td>N829AS</td><td>LGA</td><td>IAD</td><td> 53</td><td> 229</td><td>6</td><td> 0</td><td>2013-01-01 06:00:00</td></tr>\n",
              "\t<tr><td>2013</td><td>1</td><td>1</td><td>557</td><td>600</td><td>-3</td><td> 838</td><td> 846</td><td> -8</td><td>B6</td><td>  79</td><td>N593JB</td><td>JFK</td><td>MCO</td><td>140</td><td> 944</td><td>6</td><td> 0</td><td>2013-01-01 06:00:00</td></tr>\n",
              "\t<tr><td>2013</td><td>1</td><td>1</td><td>558</td><td>600</td><td>-2</td><td> 753</td><td> 745</td><td>  8</td><td>AA</td><td> 301</td><td>N3ALAA</td><td>LGA</td><td>ORD</td><td>138</td><td> 733</td><td>6</td><td> 0</td><td>2013-01-01 06:00:00</td></tr>\n",
              "\t<tr><td>2013</td><td>1</td><td>1</td><td>558</td><td>600</td><td>-2</td><td> 849</td><td> 851</td><td> -2</td><td>B6</td><td>  49</td><td>N793JB</td><td>JFK</td><td>PBI</td><td>149</td><td>1028</td><td>6</td><td> 0</td><td>2013-01-01 06:00:00</td></tr>\n",
              "\t<tr><td>2013</td><td>1</td><td>1</td><td>558</td><td>600</td><td>-2</td><td> 853</td><td> 856</td><td> -3</td><td>B6</td><td>  71</td><td>N657JB</td><td>JFK</td><td>TPA</td><td>158</td><td>1005</td><td>6</td><td> 0</td><td>2013-01-01 06:00:00</td></tr>\n",
              "\t<tr><td>2013</td><td>1</td><td>1</td><td>558</td><td>600</td><td>-2</td><td> 924</td><td> 917</td><td>  7</td><td>UA</td><td> 194</td><td>N29129</td><td>JFK</td><td>LAX</td><td>345</td><td>2475</td><td>6</td><td> 0</td><td>2013-01-01 06:00:00</td></tr>\n",
              "\t<tr><td>2013</td><td>1</td><td>1</td><td>558</td><td>600</td><td>-2</td><td> 923</td><td> 937</td><td>-14</td><td>UA</td><td>1124</td><td>N53441</td><td>EWR</td><td>SFO</td><td>361</td><td>2565</td><td>6</td><td> 0</td><td>2013-01-01 06:00:00</td></tr>\n",
              "\t<tr><td>2013</td><td>1</td><td>1</td><td>559</td><td>600</td><td>-1</td><td> 941</td><td> 910</td><td> 31</td><td>AA</td><td> 707</td><td>N3DUAA</td><td>LGA</td><td>DFW</td><td>257</td><td>1389</td><td>6</td><td> 0</td><td>2013-01-01 06:00:00</td></tr>\n",
              "\t<tr><td>2013</td><td>1</td><td>1</td><td>559</td><td>559</td><td> 0</td><td> 702</td><td> 706</td><td> -4</td><td>B6</td><td>1806</td><td>N708JB</td><td>JFK</td><td>BOS</td><td> 44</td><td> 187</td><td>5</td><td>59</td><td>2013-01-01 05:00:00</td></tr>\n",
              "\t<tr><td>2013</td><td>1</td><td>1</td><td>559</td><td>600</td><td>-1</td><td> 854</td><td> 902</td><td> -8</td><td>UA</td><td>1187</td><td>N76515</td><td>EWR</td><td>LAS</td><td>337</td><td>2227</td><td>6</td><td> 0</td><td>2013-01-01 06:00:00</td></tr>\n",
              "\t<tr><td>2013</td><td>1</td><td>1</td><td>600</td><td>600</td><td> 0</td><td> 851</td><td> 858</td><td> -7</td><td>B6</td><td> 371</td><td>N595JB</td><td>LGA</td><td>FLL</td><td>152</td><td>1076</td><td>6</td><td> 0</td><td>2013-01-01 06:00:00</td></tr>\n",
              "\t<tr><td>2013</td><td>1</td><td>1</td><td>600</td><td>600</td><td> 0</td><td> 837</td><td> 825</td><td> 12</td><td>MQ</td><td>4650</td><td>N542MQ</td><td>LGA</td><td>ATL</td><td>134</td><td> 762</td><td>6</td><td> 0</td><td>2013-01-01 06:00:00</td></tr>\n",
              "\t<tr><td>2013</td><td>1</td><td>1</td><td>601</td><td>600</td><td> 1</td><td> 844</td><td> 850</td><td> -6</td><td>B6</td><td> 343</td><td>N644JB</td><td>EWR</td><td>PBI</td><td>147</td><td>1023</td><td>6</td><td> 0</td><td>2013-01-01 06:00:00</td></tr>\n",
              "\t<tr><td>2013</td><td>1</td><td>1</td><td>602</td><td>610</td><td>-8</td><td> 812</td><td> 820</td><td> -8</td><td>DL</td><td>1919</td><td>N971DL</td><td>LGA</td><td>MSP</td><td>170</td><td>1020</td><td>6</td><td>10</td><td>2013-01-01 06:00:00</td></tr>\n",
              "\t<tr><td>2013</td><td>1</td><td>1</td><td>602</td><td>605</td><td>-3</td><td> 821</td><td> 805</td><td> 16</td><td>MQ</td><td>4401</td><td>N730MQ</td><td>LGA</td><td>DTW</td><td>105</td><td> 502</td><td>6</td><td> 5</td><td>2013-01-01 06:00:00</td></tr>\n",
              "\t<tr><td>2013</td><td>1</td><td>1</td><td>606</td><td>610</td><td>-4</td><td> 858</td><td> 910</td><td>-12</td><td>AA</td><td>1895</td><td>N633AA</td><td>EWR</td><td>MIA</td><td>152</td><td>1085</td><td>6</td><td>10</td><td>2013-01-01 06:00:00</td></tr>\n",
              "\t<tr><td>2013</td><td>1</td><td>1</td><td>606</td><td>610</td><td>-4</td><td> 837</td><td> 845</td><td> -8</td><td>DL</td><td>1743</td><td>N3739P</td><td>JFK</td><td>ATL</td><td>128</td><td> 760</td><td>6</td><td>10</td><td>2013-01-01 06:00:00</td></tr>\n",
              "\t<tr><td>2013</td><td>1</td><td>1</td><td>607</td><td>607</td><td> 0</td><td> 858</td><td> 915</td><td>-17</td><td>UA</td><td>1077</td><td>N53442</td><td>EWR</td><td>MIA</td><td>157</td><td>1085</td><td>6</td><td> 7</td><td>2013-01-01 06:00:00</td></tr>\n",
              "\t<tr><td>2013</td><td>1</td><td>1</td><td>608</td><td>600</td><td> 8</td><td> 807</td><td> 735</td><td> 32</td><td>MQ</td><td>3768</td><td>N9EAMQ</td><td>EWR</td><td>ORD</td><td>139</td><td> 719</td><td>6</td><td> 0</td><td>2013-01-01 06:00:00</td></tr>\n",
              "\t<tr><td>2013</td><td>1</td><td>1</td><td>611</td><td>600</td><td>11</td><td> 945</td><td> 931</td><td> 14</td><td>UA</td><td> 303</td><td>N532UA</td><td>JFK</td><td>SFO</td><td>366</td><td>2586</td><td>6</td><td> 0</td><td>2013-01-01 06:00:00</td></tr>\n",
              "\t<tr><td>2013</td><td>1</td><td>1</td><td>613</td><td>610</td><td> 3</td><td> 925</td><td> 921</td><td>  4</td><td>B6</td><td> 135</td><td>N635JB</td><td>JFK</td><td>RSW</td><td>175</td><td>1074</td><td>6</td><td>10</td><td>2013-01-01 06:00:00</td></tr>\n",
              "\t<tr><td>2013</td><td>1</td><td>1</td><td>615</td><td>615</td><td> 0</td><td>1039</td><td>1100</td><td>-21</td><td>B6</td><td> 709</td><td>N794JB</td><td>JFK</td><td>SJU</td><td>182</td><td>1598</td><td>6</td><td>15</td><td>2013-01-01 06:00:00</td></tr>\n",
              "\t<tr><td>2013</td><td>1</td><td>1</td><td>615</td><td>615</td><td> 0</td><td> 833</td><td> 842</td><td> -9</td><td>DL</td><td> 575</td><td>N326NB</td><td>EWR</td><td>ATL</td><td>120</td><td> 746</td><td>6</td><td>15</td><td>2013-01-01 06:00:00</td></tr>\n",
              "\t<tr><td>⋮</td><td>⋮</td><td>⋮</td><td>⋮</td><td>⋮</td><td>⋮</td><td>⋮</td><td>⋮</td><td>⋮</td><td>⋮</td><td>⋮</td><td>⋮</td><td>⋮</td><td>⋮</td><td>⋮</td><td>⋮</td><td>⋮</td><td>⋮</td><td>⋮</td></tr>\n",
              "\t<tr><td>2013</td><td>9</td><td>30</td><td>2123</td><td>2125</td><td> -2</td><td>2223</td><td>2247</td><td>-24</td><td>EV</td><td>5489</td><td>N712EV</td><td>LGA</td><td>CHO</td><td> 45</td><td> 305</td><td>21</td><td>25</td><td>2013-09-30 21:00:00</td></tr>\n",
              "\t<tr><td>2013</td><td>9</td><td>30</td><td>2127</td><td>2129</td><td> -2</td><td>2314</td><td>2323</td><td> -9</td><td>EV</td><td>3833</td><td>N16546</td><td>EWR</td><td>CLT</td><td> 72</td><td> 529</td><td>21</td><td>29</td><td>2013-09-30 21:00:00</td></tr>\n",
              "\t<tr><td>2013</td><td>9</td><td>30</td><td>2128</td><td>2130</td><td> -2</td><td>2328</td><td>2359</td><td>-31</td><td>B6</td><td>  97</td><td>N807JB</td><td>JFK</td><td>DEN</td><td>213</td><td>1626</td><td>21</td><td>30</td><td>2013-09-30 21:00:00</td></tr>\n",
              "\t<tr><td>2013</td><td>9</td><td>30</td><td>2129</td><td>2059</td><td> 30</td><td>2230</td><td>2232</td><td> -2</td><td>EV</td><td>5048</td><td>N751EV</td><td>LGA</td><td>RIC</td><td> 45</td><td> 292</td><td>20</td><td>59</td><td>2013-09-30 20:00:00</td></tr>\n",
              "\t<tr><td>2013</td><td>9</td><td>30</td><td>2131</td><td>2140</td><td> -9</td><td>2225</td><td>2255</td><td>-30</td><td>MQ</td><td>3621</td><td>N807MQ</td><td>JFK</td><td>DCA</td><td> 36</td><td> 213</td><td>21</td><td>40</td><td>2013-09-30 21:00:00</td></tr>\n",
              "\t<tr><td>2013</td><td>9</td><td>30</td><td>2140</td><td>2140</td><td>  0</td><td>  10</td><td>  40</td><td>-30</td><td>AA</td><td> 185</td><td>N335AA</td><td>JFK</td><td>LAX</td><td>298</td><td>2475</td><td>21</td><td>40</td><td>2013-09-30 21:00:00</td></tr>\n",
              "\t<tr><td>2013</td><td>9</td><td>30</td><td>2142</td><td>2129</td><td> 13</td><td>2250</td><td>2239</td><td> 11</td><td>EV</td><td>4509</td><td>N12957</td><td>EWR</td><td>PWM</td><td> 47</td><td> 284</td><td>21</td><td>29</td><td>2013-09-30 21:00:00</td></tr>\n",
              "\t<tr><td>2013</td><td>9</td><td>30</td><td>2145</td><td>2145</td><td>  0</td><td> 115</td><td> 140</td><td>-25</td><td>B6</td><td>1103</td><td>N633JB</td><td>JFK</td><td>SJU</td><td>192</td><td>1598</td><td>21</td><td>45</td><td>2013-09-30 21:00:00</td></tr>\n",
              "\t<tr><td>2013</td><td>9</td><td>30</td><td>2147</td><td>2137</td><td> 10</td><td>  30</td><td>  27</td><td>  3</td><td>B6</td><td>1371</td><td>N627JB</td><td>LGA</td><td>FLL</td><td>139</td><td>1076</td><td>21</td><td>37</td><td>2013-09-30 21:00:00</td></tr>\n",
              "\t<tr><td>2013</td><td>9</td><td>30</td><td>2149</td><td>2156</td><td> -7</td><td>2245</td><td>2308</td><td>-23</td><td>UA</td><td> 523</td><td>N813UA</td><td>EWR</td><td>BOS</td><td> 37</td><td> 200</td><td>21</td><td>56</td><td>2013-09-30 21:00:00</td></tr>\n",
              "\t<tr><td>2013</td><td>9</td><td>30</td><td>2150</td><td>2159</td><td> -9</td><td>2250</td><td>2306</td><td>-16</td><td>EV</td><td>3842</td><td>N10575</td><td>EWR</td><td>MHT</td><td> 39</td><td> 209</td><td>21</td><td>59</td><td>2013-09-30 21:00:00</td></tr>\n",
              "\t<tr><td>2013</td><td>9</td><td>30</td><td>2159</td><td>1845</td><td>194</td><td>2344</td><td>2030</td><td>194</td><td>9E</td><td>3320</td><td>N906XJ</td><td>JFK</td><td>BUF</td><td> 50</td><td> 301</td><td>18</td><td>45</td><td>2013-09-30 18:00:00</td></tr>\n",
              "\t<tr><td>2013</td><td>9</td><td>30</td><td>2203</td><td>2205</td><td> -2</td><td>2339</td><td>2331</td><td>  8</td><td>EV</td><td>5311</td><td>N722EV</td><td>LGA</td><td>BGR</td><td> 61</td><td> 378</td><td>22</td><td> 5</td><td>2013-09-30 22:00:00</td></tr>\n",
              "\t<tr><td>2013</td><td>9</td><td>30</td><td>2207</td><td>2140</td><td> 27</td><td>2257</td><td>2250</td><td>  7</td><td>MQ</td><td>3660</td><td>N532MQ</td><td>LGA</td><td>BNA</td><td> 97</td><td> 764</td><td>21</td><td>40</td><td>2013-09-30 21:00:00</td></tr>\n",
              "\t<tr><td>2013</td><td>9</td><td>30</td><td>2211</td><td>2059</td><td> 72</td><td>2339</td><td>2242</td><td> 57</td><td>EV</td><td>4672</td><td>N12145</td><td>EWR</td><td>STL</td><td>120</td><td> 872</td><td>20</td><td>59</td><td>2013-09-30 20:00:00</td></tr>\n",
              "\t<tr><td>2013</td><td>9</td><td>30</td><td>2231</td><td>2245</td><td>-14</td><td>2335</td><td>2356</td><td>-21</td><td>B6</td><td> 108</td><td>N193JB</td><td>JFK</td><td>PWM</td><td> 48</td><td> 273</td><td>22</td><td>45</td><td>2013-09-30 22:00:00</td></tr>\n",
              "\t<tr><td>2013</td><td>9</td><td>30</td><td>2233</td><td>2113</td><td> 80</td><td> 112</td><td>  30</td><td> 42</td><td>UA</td><td> 471</td><td>N578UA</td><td>EWR</td><td>SFO</td><td>318</td><td>2565</td><td>21</td><td>13</td><td>2013-09-30 21:00:00</td></tr>\n",
              "\t<tr><td>2013</td><td>9</td><td>30</td><td>2235</td><td>2001</td><td>154</td><td>  59</td><td>2249</td><td>130</td><td>B6</td><td>1083</td><td>N804JB</td><td>JFK</td><td>MCO</td><td>123</td><td> 944</td><td>20</td><td> 1</td><td>2013-09-30 20:00:00</td></tr>\n",
              "\t<tr><td>2013</td><td>9</td><td>30</td><td>2237</td><td>2245</td><td> -8</td><td>2345</td><td>2353</td><td> -8</td><td>B6</td><td> 234</td><td>N318JB</td><td>JFK</td><td>BTV</td><td> 43</td><td> 266</td><td>22</td><td>45</td><td>2013-09-30 22:00:00</td></tr>\n",
              "\t<tr><td>2013</td><td>9</td><td>30</td><td>2240</td><td>2245</td><td> -5</td><td>2334</td><td>2351</td><td>-17</td><td>B6</td><td>1816</td><td>N354JB</td><td>JFK</td><td>SYR</td><td> 41</td><td> 209</td><td>22</td><td>45</td><td>2013-09-30 22:00:00</td></tr>\n",
              "\t<tr><td>2013</td><td>9</td><td>30</td><td>2240</td><td>2250</td><td>-10</td><td>2347</td><td>   7</td><td>-20</td><td>B6</td><td>2002</td><td>N281JB</td><td>JFK</td><td>BUF</td><td> 52</td><td> 301</td><td>22</td><td>50</td><td>2013-09-30 22:00:00</td></tr>\n",
              "\t<tr><td>2013</td><td>9</td><td>30</td><td>2241</td><td>2246</td><td> -5</td><td>2345</td><td>   1</td><td>-16</td><td>B6</td><td> 486</td><td>N346JB</td><td>JFK</td><td>ROC</td><td> 47</td><td> 264</td><td>22</td><td>46</td><td>2013-09-30 22:00:00</td></tr>\n",
              "\t<tr><td>2013</td><td>9</td><td>30</td><td>2307</td><td>2255</td><td> 12</td><td>2359</td><td>2358</td><td>  1</td><td>B6</td><td> 718</td><td>N565JB</td><td>JFK</td><td>BOS</td><td> 33</td><td> 187</td><td>22</td><td>55</td><td>2013-09-30 22:00:00</td></tr>\n",
              "\t<tr><td>2013</td><td>9</td><td>30</td><td>2349</td><td>2359</td><td>-10</td><td> 325</td><td> 350</td><td>-25</td><td>B6</td><td> 745</td><td>N516JB</td><td>JFK</td><td>PSE</td><td>196</td><td>1617</td><td>23</td><td>59</td><td>2013-09-30 23:00:00</td></tr>\n",
              "\t<tr><td>2013</td><td>9</td><td>30</td><td>  NA</td><td>1842</td><td> NA</td><td>  NA</td><td>2019</td><td> NA</td><td>EV</td><td>5274</td><td>N740EV</td><td>LGA</td><td>BNA</td><td> NA</td><td> 764</td><td>18</td><td>42</td><td>2013-09-30 18:00:00</td></tr>\n",
              "\t<tr><td>2013</td><td>9</td><td>30</td><td>  NA</td><td>1455</td><td> NA</td><td>  NA</td><td>1634</td><td> NA</td><td>9E</td><td>3393</td><td>NA    </td><td>JFK</td><td>DCA</td><td> NA</td><td> 213</td><td>14</td><td>55</td><td>2013-09-30 14:00:00</td></tr>\n",
              "\t<tr><td>2013</td><td>9</td><td>30</td><td>  NA</td><td>2200</td><td> NA</td><td>  NA</td><td>2312</td><td> NA</td><td>9E</td><td>3525</td><td>NA    </td><td>LGA</td><td>SYR</td><td> NA</td><td> 198</td><td>22</td><td> 0</td><td>2013-09-30 22:00:00</td></tr>\n",
              "\t<tr><td>2013</td><td>9</td><td>30</td><td>  NA</td><td>1210</td><td> NA</td><td>  NA</td><td>1330</td><td> NA</td><td>MQ</td><td>3461</td><td>N535MQ</td><td>LGA</td><td>BNA</td><td> NA</td><td> 764</td><td>12</td><td>10</td><td>2013-09-30 12:00:00</td></tr>\n",
              "\t<tr><td>2013</td><td>9</td><td>30</td><td>  NA</td><td>1159</td><td> NA</td><td>  NA</td><td>1344</td><td> NA</td><td>MQ</td><td>3572</td><td>N511MQ</td><td>LGA</td><td>CLE</td><td> NA</td><td> 419</td><td>11</td><td>59</td><td>2013-09-30 11:00:00</td></tr>\n",
              "\t<tr><td>2013</td><td>9</td><td>30</td><td>  NA</td><td> 840</td><td> NA</td><td>  NA</td><td>1020</td><td> NA</td><td>MQ</td><td>3531</td><td>N839MQ</td><td>LGA</td><td>RDU</td><td> NA</td><td> 431</td><td> 8</td><td>40</td><td>2013-09-30 08:00:00</td></tr>\n",
              "</tbody>\n",
              "</table>\n"
            ],
            "text/markdown": "\nA data.frame: 336776 × 19\n\n| anio &lt;int&gt; | mes &lt;int&gt; | dia &lt;int&gt; | dep_time &lt;int&gt; | sched_dep_time &lt;int&gt; | dep_delay &lt;int&gt; | arr_time &lt;int&gt; | sched_arr_time &lt;int&gt; | arr_delay &lt;int&gt; | carrier &lt;chr&gt; | flight &lt;int&gt; | tailnum &lt;chr&gt; | origin &lt;chr&gt; | dest &lt;chr&gt; | air_time &lt;int&gt; | distance &lt;int&gt; | hour &lt;int&gt; | minute &lt;int&gt; | time_hour &lt;chr&gt; |\n|---|---|---|---|---|---|---|---|---|---|---|---|---|---|---|---|---|---|---|\n| 2013 | 1 | 1 | 517 | 515 |  2 |  830 |  819 |  11 | UA | 1545 | N14228 | EWR | IAH | 227 | 1400 | 5 | 15 | 2013-01-01 05:00:00 |\n| 2013 | 1 | 1 | 533 | 529 |  4 |  850 |  830 |  20 | UA | 1714 | N24211 | LGA | IAH | 227 | 1416 | 5 | 29 | 2013-01-01 05:00:00 |\n| 2013 | 1 | 1 | 542 | 540 |  2 |  923 |  850 |  33 | AA | 1141 | N619AA | JFK | MIA | 160 | 1089 | 5 | 40 | 2013-01-01 05:00:00 |\n| 2013 | 1 | 1 | 544 | 545 | -1 | 1004 | 1022 | -18 | B6 |  725 | N804JB | JFK | BQN | 183 | 1576 | 5 | 45 | 2013-01-01 05:00:00 |\n| 2013 | 1 | 1 | 554 | 600 | -6 |  812 |  837 | -25 | DL |  461 | N668DN | LGA | ATL | 116 |  762 | 6 |  0 | 2013-01-01 06:00:00 |\n| 2013 | 1 | 1 | 554 | 558 | -4 |  740 |  728 |  12 | UA | 1696 | N39463 | EWR | ORD | 150 |  719 | 5 | 58 | 2013-01-01 05:00:00 |\n| 2013 | 1 | 1 | 555 | 600 | -5 |  913 |  854 |  19 | B6 |  507 | N516JB | EWR | FLL | 158 | 1065 | 6 |  0 | 2013-01-01 06:00:00 |\n| 2013 | 1 | 1 | 557 | 600 | -3 |  709 |  723 | -14 | EV | 5708 | N829AS | LGA | IAD |  53 |  229 | 6 |  0 | 2013-01-01 06:00:00 |\n| 2013 | 1 | 1 | 557 | 600 | -3 |  838 |  846 |  -8 | B6 |   79 | N593JB | JFK | MCO | 140 |  944 | 6 |  0 | 2013-01-01 06:00:00 |\n| 2013 | 1 | 1 | 558 | 600 | -2 |  753 |  745 |   8 | AA |  301 | N3ALAA | LGA | ORD | 138 |  733 | 6 |  0 | 2013-01-01 06:00:00 |\n| 2013 | 1 | 1 | 558 | 600 | -2 |  849 |  851 |  -2 | B6 |   49 | N793JB | JFK | PBI | 149 | 1028 | 6 |  0 | 2013-01-01 06:00:00 |\n| 2013 | 1 | 1 | 558 | 600 | -2 |  853 |  856 |  -3 | B6 |   71 | N657JB | JFK | TPA | 158 | 1005 | 6 |  0 | 2013-01-01 06:00:00 |\n| 2013 | 1 | 1 | 558 | 600 | -2 |  924 |  917 |   7 | UA |  194 | N29129 | JFK | LAX | 345 | 2475 | 6 |  0 | 2013-01-01 06:00:00 |\n| 2013 | 1 | 1 | 558 | 600 | -2 |  923 |  937 | -14 | UA | 1124 | N53441 | EWR | SFO | 361 | 2565 | 6 |  0 | 2013-01-01 06:00:00 |\n| 2013 | 1 | 1 | 559 | 600 | -1 |  941 |  910 |  31 | AA |  707 | N3DUAA | LGA | DFW | 257 | 1389 | 6 |  0 | 2013-01-01 06:00:00 |\n| 2013 | 1 | 1 | 559 | 559 |  0 |  702 |  706 |  -4 | B6 | 1806 | N708JB | JFK | BOS |  44 |  187 | 5 | 59 | 2013-01-01 05:00:00 |\n| 2013 | 1 | 1 | 559 | 600 | -1 |  854 |  902 |  -8 | UA | 1187 | N76515 | EWR | LAS | 337 | 2227 | 6 |  0 | 2013-01-01 06:00:00 |\n| 2013 | 1 | 1 | 600 | 600 |  0 |  851 |  858 |  -7 | B6 |  371 | N595JB | LGA | FLL | 152 | 1076 | 6 |  0 | 2013-01-01 06:00:00 |\n| 2013 | 1 | 1 | 600 | 600 |  0 |  837 |  825 |  12 | MQ | 4650 | N542MQ | LGA | ATL | 134 |  762 | 6 |  0 | 2013-01-01 06:00:00 |\n| 2013 | 1 | 1 | 601 | 600 |  1 |  844 |  850 |  -6 | B6 |  343 | N644JB | EWR | PBI | 147 | 1023 | 6 |  0 | 2013-01-01 06:00:00 |\n| 2013 | 1 | 1 | 602 | 610 | -8 |  812 |  820 |  -8 | DL | 1919 | N971DL | LGA | MSP | 170 | 1020 | 6 | 10 | 2013-01-01 06:00:00 |\n| 2013 | 1 | 1 | 602 | 605 | -3 |  821 |  805 |  16 | MQ | 4401 | N730MQ | LGA | DTW | 105 |  502 | 6 |  5 | 2013-01-01 06:00:00 |\n| 2013 | 1 | 1 | 606 | 610 | -4 |  858 |  910 | -12 | AA | 1895 | N633AA | EWR | MIA | 152 | 1085 | 6 | 10 | 2013-01-01 06:00:00 |\n| 2013 | 1 | 1 | 606 | 610 | -4 |  837 |  845 |  -8 | DL | 1743 | N3739P | JFK | ATL | 128 |  760 | 6 | 10 | 2013-01-01 06:00:00 |\n| 2013 | 1 | 1 | 607 | 607 |  0 |  858 |  915 | -17 | UA | 1077 | N53442 | EWR | MIA | 157 | 1085 | 6 |  7 | 2013-01-01 06:00:00 |\n| 2013 | 1 | 1 | 608 | 600 |  8 |  807 |  735 |  32 | MQ | 3768 | N9EAMQ | EWR | ORD | 139 |  719 | 6 |  0 | 2013-01-01 06:00:00 |\n| 2013 | 1 | 1 | 611 | 600 | 11 |  945 |  931 |  14 | UA |  303 | N532UA | JFK | SFO | 366 | 2586 | 6 |  0 | 2013-01-01 06:00:00 |\n| 2013 | 1 | 1 | 613 | 610 |  3 |  925 |  921 |   4 | B6 |  135 | N635JB | JFK | RSW | 175 | 1074 | 6 | 10 | 2013-01-01 06:00:00 |\n| 2013 | 1 | 1 | 615 | 615 |  0 | 1039 | 1100 | -21 | B6 |  709 | N794JB | JFK | SJU | 182 | 1598 | 6 | 15 | 2013-01-01 06:00:00 |\n| 2013 | 1 | 1 | 615 | 615 |  0 |  833 |  842 |  -9 | DL |  575 | N326NB | EWR | ATL | 120 |  746 | 6 | 15 | 2013-01-01 06:00:00 |\n| ⋮ | ⋮ | ⋮ | ⋮ | ⋮ | ⋮ | ⋮ | ⋮ | ⋮ | ⋮ | ⋮ | ⋮ | ⋮ | ⋮ | ⋮ | ⋮ | ⋮ | ⋮ | ⋮ |\n| 2013 | 9 | 30 | 2123 | 2125 |  -2 | 2223 | 2247 | -24 | EV | 5489 | N712EV | LGA | CHO |  45 |  305 | 21 | 25 | 2013-09-30 21:00:00 |\n| 2013 | 9 | 30 | 2127 | 2129 |  -2 | 2314 | 2323 |  -9 | EV | 3833 | N16546 | EWR | CLT |  72 |  529 | 21 | 29 | 2013-09-30 21:00:00 |\n| 2013 | 9 | 30 | 2128 | 2130 |  -2 | 2328 | 2359 | -31 | B6 |   97 | N807JB | JFK | DEN | 213 | 1626 | 21 | 30 | 2013-09-30 21:00:00 |\n| 2013 | 9 | 30 | 2129 | 2059 |  30 | 2230 | 2232 |  -2 | EV | 5048 | N751EV | LGA | RIC |  45 |  292 | 20 | 59 | 2013-09-30 20:00:00 |\n| 2013 | 9 | 30 | 2131 | 2140 |  -9 | 2225 | 2255 | -30 | MQ | 3621 | N807MQ | JFK | DCA |  36 |  213 | 21 | 40 | 2013-09-30 21:00:00 |\n| 2013 | 9 | 30 | 2140 | 2140 |   0 |   10 |   40 | -30 | AA |  185 | N335AA | JFK | LAX | 298 | 2475 | 21 | 40 | 2013-09-30 21:00:00 |\n| 2013 | 9 | 30 | 2142 | 2129 |  13 | 2250 | 2239 |  11 | EV | 4509 | N12957 | EWR | PWM |  47 |  284 | 21 | 29 | 2013-09-30 21:00:00 |\n| 2013 | 9 | 30 | 2145 | 2145 |   0 |  115 |  140 | -25 | B6 | 1103 | N633JB | JFK | SJU | 192 | 1598 | 21 | 45 | 2013-09-30 21:00:00 |\n| 2013 | 9 | 30 | 2147 | 2137 |  10 |   30 |   27 |   3 | B6 | 1371 | N627JB | LGA | FLL | 139 | 1076 | 21 | 37 | 2013-09-30 21:00:00 |\n| 2013 | 9 | 30 | 2149 | 2156 |  -7 | 2245 | 2308 | -23 | UA |  523 | N813UA | EWR | BOS |  37 |  200 | 21 | 56 | 2013-09-30 21:00:00 |\n| 2013 | 9 | 30 | 2150 | 2159 |  -9 | 2250 | 2306 | -16 | EV | 3842 | N10575 | EWR | MHT |  39 |  209 | 21 | 59 | 2013-09-30 21:00:00 |\n| 2013 | 9 | 30 | 2159 | 1845 | 194 | 2344 | 2030 | 194 | 9E | 3320 | N906XJ | JFK | BUF |  50 |  301 | 18 | 45 | 2013-09-30 18:00:00 |\n| 2013 | 9 | 30 | 2203 | 2205 |  -2 | 2339 | 2331 |   8 | EV | 5311 | N722EV | LGA | BGR |  61 |  378 | 22 |  5 | 2013-09-30 22:00:00 |\n| 2013 | 9 | 30 | 2207 | 2140 |  27 | 2257 | 2250 |   7 | MQ | 3660 | N532MQ | LGA | BNA |  97 |  764 | 21 | 40 | 2013-09-30 21:00:00 |\n| 2013 | 9 | 30 | 2211 | 2059 |  72 | 2339 | 2242 |  57 | EV | 4672 | N12145 | EWR | STL | 120 |  872 | 20 | 59 | 2013-09-30 20:00:00 |\n| 2013 | 9 | 30 | 2231 | 2245 | -14 | 2335 | 2356 | -21 | B6 |  108 | N193JB | JFK | PWM |  48 |  273 | 22 | 45 | 2013-09-30 22:00:00 |\n| 2013 | 9 | 30 | 2233 | 2113 |  80 |  112 |   30 |  42 | UA |  471 | N578UA | EWR | SFO | 318 | 2565 | 21 | 13 | 2013-09-30 21:00:00 |\n| 2013 | 9 | 30 | 2235 | 2001 | 154 |   59 | 2249 | 130 | B6 | 1083 | N804JB | JFK | MCO | 123 |  944 | 20 |  1 | 2013-09-30 20:00:00 |\n| 2013 | 9 | 30 | 2237 | 2245 |  -8 | 2345 | 2353 |  -8 | B6 |  234 | N318JB | JFK | BTV |  43 |  266 | 22 | 45 | 2013-09-30 22:00:00 |\n| 2013 | 9 | 30 | 2240 | 2245 |  -5 | 2334 | 2351 | -17 | B6 | 1816 | N354JB | JFK | SYR |  41 |  209 | 22 | 45 | 2013-09-30 22:00:00 |\n| 2013 | 9 | 30 | 2240 | 2250 | -10 | 2347 |    7 | -20 | B6 | 2002 | N281JB | JFK | BUF |  52 |  301 | 22 | 50 | 2013-09-30 22:00:00 |\n| 2013 | 9 | 30 | 2241 | 2246 |  -5 | 2345 |    1 | -16 | B6 |  486 | N346JB | JFK | ROC |  47 |  264 | 22 | 46 | 2013-09-30 22:00:00 |\n| 2013 | 9 | 30 | 2307 | 2255 |  12 | 2359 | 2358 |   1 | B6 |  718 | N565JB | JFK | BOS |  33 |  187 | 22 | 55 | 2013-09-30 22:00:00 |\n| 2013 | 9 | 30 | 2349 | 2359 | -10 |  325 |  350 | -25 | B6 |  745 | N516JB | JFK | PSE | 196 | 1617 | 23 | 59 | 2013-09-30 23:00:00 |\n| 2013 | 9 | 30 |   NA | 1842 |  NA |   NA | 2019 |  NA | EV | 5274 | N740EV | LGA | BNA |  NA |  764 | 18 | 42 | 2013-09-30 18:00:00 |\n| 2013 | 9 | 30 |   NA | 1455 |  NA |   NA | 1634 |  NA | 9E | 3393 | NA     | JFK | DCA |  NA |  213 | 14 | 55 | 2013-09-30 14:00:00 |\n| 2013 | 9 | 30 |   NA | 2200 |  NA |   NA | 2312 |  NA | 9E | 3525 | NA     | LGA | SYR |  NA |  198 | 22 |  0 | 2013-09-30 22:00:00 |\n| 2013 | 9 | 30 |   NA | 1210 |  NA |   NA | 1330 |  NA | MQ | 3461 | N535MQ | LGA | BNA |  NA |  764 | 12 | 10 | 2013-09-30 12:00:00 |\n| 2013 | 9 | 30 |   NA | 1159 |  NA |   NA | 1344 |  NA | MQ | 3572 | N511MQ | LGA | CLE |  NA |  419 | 11 | 59 | 2013-09-30 11:00:00 |\n| 2013 | 9 | 30 |   NA |  840 |  NA |   NA | 1020 |  NA | MQ | 3531 | N839MQ | LGA | RDU |  NA |  431 |  8 | 40 | 2013-09-30 08:00:00 |\n\n",
            "text/latex": "A data.frame: 336776 × 19\n\\begin{tabular}{lllllllllllllllllll}\n anio & mes & dia & dep\\_time & sched\\_dep\\_time & dep\\_delay & arr\\_time & sched\\_arr\\_time & arr\\_delay & carrier & flight & tailnum & origin & dest & air\\_time & distance & hour & minute & time\\_hour\\\\\n <int> & <int> & <int> & <int> & <int> & <int> & <int> & <int> & <int> & <chr> & <int> & <chr> & <chr> & <chr> & <int> & <int> & <int> & <int> & <chr>\\\\\n\\hline\n\t 2013 & 1 & 1 & 517 & 515 &  2 &  830 &  819 &  11 & UA & 1545 & N14228 & EWR & IAH & 227 & 1400 & 5 & 15 & 2013-01-01 05:00:00\\\\\n\t 2013 & 1 & 1 & 533 & 529 &  4 &  850 &  830 &  20 & UA & 1714 & N24211 & LGA & IAH & 227 & 1416 & 5 & 29 & 2013-01-01 05:00:00\\\\\n\t 2013 & 1 & 1 & 542 & 540 &  2 &  923 &  850 &  33 & AA & 1141 & N619AA & JFK & MIA & 160 & 1089 & 5 & 40 & 2013-01-01 05:00:00\\\\\n\t 2013 & 1 & 1 & 544 & 545 & -1 & 1004 & 1022 & -18 & B6 &  725 & N804JB & JFK & BQN & 183 & 1576 & 5 & 45 & 2013-01-01 05:00:00\\\\\n\t 2013 & 1 & 1 & 554 & 600 & -6 &  812 &  837 & -25 & DL &  461 & N668DN & LGA & ATL & 116 &  762 & 6 &  0 & 2013-01-01 06:00:00\\\\\n\t 2013 & 1 & 1 & 554 & 558 & -4 &  740 &  728 &  12 & UA & 1696 & N39463 & EWR & ORD & 150 &  719 & 5 & 58 & 2013-01-01 05:00:00\\\\\n\t 2013 & 1 & 1 & 555 & 600 & -5 &  913 &  854 &  19 & B6 &  507 & N516JB & EWR & FLL & 158 & 1065 & 6 &  0 & 2013-01-01 06:00:00\\\\\n\t 2013 & 1 & 1 & 557 & 600 & -3 &  709 &  723 & -14 & EV & 5708 & N829AS & LGA & IAD &  53 &  229 & 6 &  0 & 2013-01-01 06:00:00\\\\\n\t 2013 & 1 & 1 & 557 & 600 & -3 &  838 &  846 &  -8 & B6 &   79 & N593JB & JFK & MCO & 140 &  944 & 6 &  0 & 2013-01-01 06:00:00\\\\\n\t 2013 & 1 & 1 & 558 & 600 & -2 &  753 &  745 &   8 & AA &  301 & N3ALAA & LGA & ORD & 138 &  733 & 6 &  0 & 2013-01-01 06:00:00\\\\\n\t 2013 & 1 & 1 & 558 & 600 & -2 &  849 &  851 &  -2 & B6 &   49 & N793JB & JFK & PBI & 149 & 1028 & 6 &  0 & 2013-01-01 06:00:00\\\\\n\t 2013 & 1 & 1 & 558 & 600 & -2 &  853 &  856 &  -3 & B6 &   71 & N657JB & JFK & TPA & 158 & 1005 & 6 &  0 & 2013-01-01 06:00:00\\\\\n\t 2013 & 1 & 1 & 558 & 600 & -2 &  924 &  917 &   7 & UA &  194 & N29129 & JFK & LAX & 345 & 2475 & 6 &  0 & 2013-01-01 06:00:00\\\\\n\t 2013 & 1 & 1 & 558 & 600 & -2 &  923 &  937 & -14 & UA & 1124 & N53441 & EWR & SFO & 361 & 2565 & 6 &  0 & 2013-01-01 06:00:00\\\\\n\t 2013 & 1 & 1 & 559 & 600 & -1 &  941 &  910 &  31 & AA &  707 & N3DUAA & LGA & DFW & 257 & 1389 & 6 &  0 & 2013-01-01 06:00:00\\\\\n\t 2013 & 1 & 1 & 559 & 559 &  0 &  702 &  706 &  -4 & B6 & 1806 & N708JB & JFK & BOS &  44 &  187 & 5 & 59 & 2013-01-01 05:00:00\\\\\n\t 2013 & 1 & 1 & 559 & 600 & -1 &  854 &  902 &  -8 & UA & 1187 & N76515 & EWR & LAS & 337 & 2227 & 6 &  0 & 2013-01-01 06:00:00\\\\\n\t 2013 & 1 & 1 & 600 & 600 &  0 &  851 &  858 &  -7 & B6 &  371 & N595JB & LGA & FLL & 152 & 1076 & 6 &  0 & 2013-01-01 06:00:00\\\\\n\t 2013 & 1 & 1 & 600 & 600 &  0 &  837 &  825 &  12 & MQ & 4650 & N542MQ & LGA & ATL & 134 &  762 & 6 &  0 & 2013-01-01 06:00:00\\\\\n\t 2013 & 1 & 1 & 601 & 600 &  1 &  844 &  850 &  -6 & B6 &  343 & N644JB & EWR & PBI & 147 & 1023 & 6 &  0 & 2013-01-01 06:00:00\\\\\n\t 2013 & 1 & 1 & 602 & 610 & -8 &  812 &  820 &  -8 & DL & 1919 & N971DL & LGA & MSP & 170 & 1020 & 6 & 10 & 2013-01-01 06:00:00\\\\\n\t 2013 & 1 & 1 & 602 & 605 & -3 &  821 &  805 &  16 & MQ & 4401 & N730MQ & LGA & DTW & 105 &  502 & 6 &  5 & 2013-01-01 06:00:00\\\\\n\t 2013 & 1 & 1 & 606 & 610 & -4 &  858 &  910 & -12 & AA & 1895 & N633AA & EWR & MIA & 152 & 1085 & 6 & 10 & 2013-01-01 06:00:00\\\\\n\t 2013 & 1 & 1 & 606 & 610 & -4 &  837 &  845 &  -8 & DL & 1743 & N3739P & JFK & ATL & 128 &  760 & 6 & 10 & 2013-01-01 06:00:00\\\\\n\t 2013 & 1 & 1 & 607 & 607 &  0 &  858 &  915 & -17 & UA & 1077 & N53442 & EWR & MIA & 157 & 1085 & 6 &  7 & 2013-01-01 06:00:00\\\\\n\t 2013 & 1 & 1 & 608 & 600 &  8 &  807 &  735 &  32 & MQ & 3768 & N9EAMQ & EWR & ORD & 139 &  719 & 6 &  0 & 2013-01-01 06:00:00\\\\\n\t 2013 & 1 & 1 & 611 & 600 & 11 &  945 &  931 &  14 & UA &  303 & N532UA & JFK & SFO & 366 & 2586 & 6 &  0 & 2013-01-01 06:00:00\\\\\n\t 2013 & 1 & 1 & 613 & 610 &  3 &  925 &  921 &   4 & B6 &  135 & N635JB & JFK & RSW & 175 & 1074 & 6 & 10 & 2013-01-01 06:00:00\\\\\n\t 2013 & 1 & 1 & 615 & 615 &  0 & 1039 & 1100 & -21 & B6 &  709 & N794JB & JFK & SJU & 182 & 1598 & 6 & 15 & 2013-01-01 06:00:00\\\\\n\t 2013 & 1 & 1 & 615 & 615 &  0 &  833 &  842 &  -9 & DL &  575 & N326NB & EWR & ATL & 120 &  746 & 6 & 15 & 2013-01-01 06:00:00\\\\\n\t ⋮ & ⋮ & ⋮ & ⋮ & ⋮ & ⋮ & ⋮ & ⋮ & ⋮ & ⋮ & ⋮ & ⋮ & ⋮ & ⋮ & ⋮ & ⋮ & ⋮ & ⋮ & ⋮\\\\\n\t 2013 & 9 & 30 & 2123 & 2125 &  -2 & 2223 & 2247 & -24 & EV & 5489 & N712EV & LGA & CHO &  45 &  305 & 21 & 25 & 2013-09-30 21:00:00\\\\\n\t 2013 & 9 & 30 & 2127 & 2129 &  -2 & 2314 & 2323 &  -9 & EV & 3833 & N16546 & EWR & CLT &  72 &  529 & 21 & 29 & 2013-09-30 21:00:00\\\\\n\t 2013 & 9 & 30 & 2128 & 2130 &  -2 & 2328 & 2359 & -31 & B6 &   97 & N807JB & JFK & DEN & 213 & 1626 & 21 & 30 & 2013-09-30 21:00:00\\\\\n\t 2013 & 9 & 30 & 2129 & 2059 &  30 & 2230 & 2232 &  -2 & EV & 5048 & N751EV & LGA & RIC &  45 &  292 & 20 & 59 & 2013-09-30 20:00:00\\\\\n\t 2013 & 9 & 30 & 2131 & 2140 &  -9 & 2225 & 2255 & -30 & MQ & 3621 & N807MQ & JFK & DCA &  36 &  213 & 21 & 40 & 2013-09-30 21:00:00\\\\\n\t 2013 & 9 & 30 & 2140 & 2140 &   0 &   10 &   40 & -30 & AA &  185 & N335AA & JFK & LAX & 298 & 2475 & 21 & 40 & 2013-09-30 21:00:00\\\\\n\t 2013 & 9 & 30 & 2142 & 2129 &  13 & 2250 & 2239 &  11 & EV & 4509 & N12957 & EWR & PWM &  47 &  284 & 21 & 29 & 2013-09-30 21:00:00\\\\\n\t 2013 & 9 & 30 & 2145 & 2145 &   0 &  115 &  140 & -25 & B6 & 1103 & N633JB & JFK & SJU & 192 & 1598 & 21 & 45 & 2013-09-30 21:00:00\\\\\n\t 2013 & 9 & 30 & 2147 & 2137 &  10 &   30 &   27 &   3 & B6 & 1371 & N627JB & LGA & FLL & 139 & 1076 & 21 & 37 & 2013-09-30 21:00:00\\\\\n\t 2013 & 9 & 30 & 2149 & 2156 &  -7 & 2245 & 2308 & -23 & UA &  523 & N813UA & EWR & BOS &  37 &  200 & 21 & 56 & 2013-09-30 21:00:00\\\\\n\t 2013 & 9 & 30 & 2150 & 2159 &  -9 & 2250 & 2306 & -16 & EV & 3842 & N10575 & EWR & MHT &  39 &  209 & 21 & 59 & 2013-09-30 21:00:00\\\\\n\t 2013 & 9 & 30 & 2159 & 1845 & 194 & 2344 & 2030 & 194 & 9E & 3320 & N906XJ & JFK & BUF &  50 &  301 & 18 & 45 & 2013-09-30 18:00:00\\\\\n\t 2013 & 9 & 30 & 2203 & 2205 &  -2 & 2339 & 2331 &   8 & EV & 5311 & N722EV & LGA & BGR &  61 &  378 & 22 &  5 & 2013-09-30 22:00:00\\\\\n\t 2013 & 9 & 30 & 2207 & 2140 &  27 & 2257 & 2250 &   7 & MQ & 3660 & N532MQ & LGA & BNA &  97 &  764 & 21 & 40 & 2013-09-30 21:00:00\\\\\n\t 2013 & 9 & 30 & 2211 & 2059 &  72 & 2339 & 2242 &  57 & EV & 4672 & N12145 & EWR & STL & 120 &  872 & 20 & 59 & 2013-09-30 20:00:00\\\\\n\t 2013 & 9 & 30 & 2231 & 2245 & -14 & 2335 & 2356 & -21 & B6 &  108 & N193JB & JFK & PWM &  48 &  273 & 22 & 45 & 2013-09-30 22:00:00\\\\\n\t 2013 & 9 & 30 & 2233 & 2113 &  80 &  112 &   30 &  42 & UA &  471 & N578UA & EWR & SFO & 318 & 2565 & 21 & 13 & 2013-09-30 21:00:00\\\\\n\t 2013 & 9 & 30 & 2235 & 2001 & 154 &   59 & 2249 & 130 & B6 & 1083 & N804JB & JFK & MCO & 123 &  944 & 20 &  1 & 2013-09-30 20:00:00\\\\\n\t 2013 & 9 & 30 & 2237 & 2245 &  -8 & 2345 & 2353 &  -8 & B6 &  234 & N318JB & JFK & BTV &  43 &  266 & 22 & 45 & 2013-09-30 22:00:00\\\\\n\t 2013 & 9 & 30 & 2240 & 2245 &  -5 & 2334 & 2351 & -17 & B6 & 1816 & N354JB & JFK & SYR &  41 &  209 & 22 & 45 & 2013-09-30 22:00:00\\\\\n\t 2013 & 9 & 30 & 2240 & 2250 & -10 & 2347 &    7 & -20 & B6 & 2002 & N281JB & JFK & BUF &  52 &  301 & 22 & 50 & 2013-09-30 22:00:00\\\\\n\t 2013 & 9 & 30 & 2241 & 2246 &  -5 & 2345 &    1 & -16 & B6 &  486 & N346JB & JFK & ROC &  47 &  264 & 22 & 46 & 2013-09-30 22:00:00\\\\\n\t 2013 & 9 & 30 & 2307 & 2255 &  12 & 2359 & 2358 &   1 & B6 &  718 & N565JB & JFK & BOS &  33 &  187 & 22 & 55 & 2013-09-30 22:00:00\\\\\n\t 2013 & 9 & 30 & 2349 & 2359 & -10 &  325 &  350 & -25 & B6 &  745 & N516JB & JFK & PSE & 196 & 1617 & 23 & 59 & 2013-09-30 23:00:00\\\\\n\t 2013 & 9 & 30 &   NA & 1842 &  NA &   NA & 2019 &  NA & EV & 5274 & N740EV & LGA & BNA &  NA &  764 & 18 & 42 & 2013-09-30 18:00:00\\\\\n\t 2013 & 9 & 30 &   NA & 1455 &  NA &   NA & 1634 &  NA & 9E & 3393 & NA     & JFK & DCA &  NA &  213 & 14 & 55 & 2013-09-30 14:00:00\\\\\n\t 2013 & 9 & 30 &   NA & 2200 &  NA &   NA & 2312 &  NA & 9E & 3525 & NA     & LGA & SYR &  NA &  198 & 22 &  0 & 2013-09-30 22:00:00\\\\\n\t 2013 & 9 & 30 &   NA & 1210 &  NA &   NA & 1330 &  NA & MQ & 3461 & N535MQ & LGA & BNA &  NA &  764 & 12 & 10 & 2013-09-30 12:00:00\\\\\n\t 2013 & 9 & 30 &   NA & 1159 &  NA &   NA & 1344 &  NA & MQ & 3572 & N511MQ & LGA & CLE &  NA &  419 & 11 & 59 & 2013-09-30 11:00:00\\\\\n\t 2013 & 9 & 30 &   NA &  840 &  NA &   NA & 1020 &  NA & MQ & 3531 & N839MQ & LGA & RDU &  NA &  431 &  8 & 40 & 2013-09-30 08:00:00\\\\\n\\end{tabular}\n",
            "text/plain": [
              "       anio mes dia dep_time sched_dep_time dep_delay arr_time sched_arr_time\n",
              "1      2013 1   1   517      515             2         830      819          \n",
              "2      2013 1   1   533      529             4         850      830          \n",
              "3      2013 1   1   542      540             2         923      850          \n",
              "4      2013 1   1   544      545            -1        1004     1022          \n",
              "5      2013 1   1   554      600            -6         812      837          \n",
              "6      2013 1   1   554      558            -4         740      728          \n",
              "7      2013 1   1   555      600            -5         913      854          \n",
              "8      2013 1   1   557      600            -3         709      723          \n",
              "9      2013 1   1   557      600            -3         838      846          \n",
              "10     2013 1   1   558      600            -2         753      745          \n",
              "11     2013 1   1   558      600            -2         849      851          \n",
              "12     2013 1   1   558      600            -2         853      856          \n",
              "13     2013 1   1   558      600            -2         924      917          \n",
              "14     2013 1   1   558      600            -2         923      937          \n",
              "15     2013 1   1   559      600            -1         941      910          \n",
              "16     2013 1   1   559      559             0         702      706          \n",
              "17     2013 1   1   559      600            -1         854      902          \n",
              "18     2013 1   1   600      600             0         851      858          \n",
              "19     2013 1   1   600      600             0         837      825          \n",
              "20     2013 1   1   601      600             1         844      850          \n",
              "21     2013 1   1   602      610            -8         812      820          \n",
              "22     2013 1   1   602      605            -3         821      805          \n",
              "23     2013 1   1   606      610            -4         858      910          \n",
              "24     2013 1   1   606      610            -4         837      845          \n",
              "25     2013 1   1   607      607             0         858      915          \n",
              "26     2013 1   1   608      600             8         807      735          \n",
              "27     2013 1   1   611      600            11         945      931          \n",
              "28     2013 1   1   613      610             3         925      921          \n",
              "29     2013 1   1   615      615             0        1039     1100          \n",
              "30     2013 1   1   615      615             0         833      842          \n",
              "⋮      ⋮    ⋮   ⋮   ⋮        ⋮              ⋮         ⋮        ⋮             \n",
              "336747 2013 9   30  2123     2125            -2       2223     2247          \n",
              "336748 2013 9   30  2127     2129            -2       2314     2323          \n",
              "336749 2013 9   30  2128     2130            -2       2328     2359          \n",
              "336750 2013 9   30  2129     2059            30       2230     2232          \n",
              "336751 2013 9   30  2131     2140            -9       2225     2255          \n",
              "336752 2013 9   30  2140     2140             0         10       40          \n",
              "336753 2013 9   30  2142     2129            13       2250     2239          \n",
              "336754 2013 9   30  2145     2145             0        115      140          \n",
              "336755 2013 9   30  2147     2137            10         30       27          \n",
              "336756 2013 9   30  2149     2156            -7       2245     2308          \n",
              "336757 2013 9   30  2150     2159            -9       2250     2306          \n",
              "336758 2013 9   30  2159     1845           194       2344     2030          \n",
              "336759 2013 9   30  2203     2205            -2       2339     2331          \n",
              "336760 2013 9   30  2207     2140            27       2257     2250          \n",
              "336761 2013 9   30  2211     2059            72       2339     2242          \n",
              "336762 2013 9   30  2231     2245           -14       2335     2356          \n",
              "336763 2013 9   30  2233     2113            80        112       30          \n",
              "336764 2013 9   30  2235     2001           154         59     2249          \n",
              "336765 2013 9   30  2237     2245            -8       2345     2353          \n",
              "336766 2013 9   30  2240     2245            -5       2334     2351          \n",
              "336767 2013 9   30  2240     2250           -10       2347        7          \n",
              "336768 2013 9   30  2241     2246            -5       2345        1          \n",
              "336769 2013 9   30  2307     2255            12       2359     2358          \n",
              "336770 2013 9   30  2349     2359           -10        325      350          \n",
              "336771 2013 9   30    NA     1842            NA         NA     2019          \n",
              "336772 2013 9   30    NA     1455            NA         NA     1634          \n",
              "336773 2013 9   30    NA     2200            NA         NA     2312          \n",
              "336774 2013 9   30    NA     1210            NA         NA     1330          \n",
              "336775 2013 9   30    NA     1159            NA         NA     1344          \n",
              "336776 2013 9   30    NA      840            NA         NA     1020          \n",
              "       arr_delay carrier flight tailnum origin dest air_time distance hour\n",
              "1       11       UA      1545   N14228  EWR    IAH  227      1400     5   \n",
              "2       20       UA      1714   N24211  LGA    IAH  227      1416     5   \n",
              "3       33       AA      1141   N619AA  JFK    MIA  160      1089     5   \n",
              "4      -18       B6       725   N804JB  JFK    BQN  183      1576     5   \n",
              "5      -25       DL       461   N668DN  LGA    ATL  116       762     6   \n",
              "6       12       UA      1696   N39463  EWR    ORD  150       719     5   \n",
              "7       19       B6       507   N516JB  EWR    FLL  158      1065     6   \n",
              "8      -14       EV      5708   N829AS  LGA    IAD   53       229     6   \n",
              "9       -8       B6        79   N593JB  JFK    MCO  140       944     6   \n",
              "10       8       AA       301   N3ALAA  LGA    ORD  138       733     6   \n",
              "11      -2       B6        49   N793JB  JFK    PBI  149      1028     6   \n",
              "12      -3       B6        71   N657JB  JFK    TPA  158      1005     6   \n",
              "13       7       UA       194   N29129  JFK    LAX  345      2475     6   \n",
              "14     -14       UA      1124   N53441  EWR    SFO  361      2565     6   \n",
              "15      31       AA       707   N3DUAA  LGA    DFW  257      1389     6   \n",
              "16      -4       B6      1806   N708JB  JFK    BOS   44       187     5   \n",
              "17      -8       UA      1187   N76515  EWR    LAS  337      2227     6   \n",
              "18      -7       B6       371   N595JB  LGA    FLL  152      1076     6   \n",
              "19      12       MQ      4650   N542MQ  LGA    ATL  134       762     6   \n",
              "20      -6       B6       343   N644JB  EWR    PBI  147      1023     6   \n",
              "21      -8       DL      1919   N971DL  LGA    MSP  170      1020     6   \n",
              "22      16       MQ      4401   N730MQ  LGA    DTW  105       502     6   \n",
              "23     -12       AA      1895   N633AA  EWR    MIA  152      1085     6   \n",
              "24      -8       DL      1743   N3739P  JFK    ATL  128       760     6   \n",
              "25     -17       UA      1077   N53442  EWR    MIA  157      1085     6   \n",
              "26      32       MQ      3768   N9EAMQ  EWR    ORD  139       719     6   \n",
              "27      14       UA       303   N532UA  JFK    SFO  366      2586     6   \n",
              "28       4       B6       135   N635JB  JFK    RSW  175      1074     6   \n",
              "29     -21       B6       709   N794JB  JFK    SJU  182      1598     6   \n",
              "30      -9       DL       575   N326NB  EWR    ATL  120       746     6   \n",
              "⋮      ⋮         ⋮       ⋮      ⋮       ⋮      ⋮    ⋮        ⋮        ⋮   \n",
              "336747 -24       EV      5489   N712EV  LGA    CHO   45       305     21  \n",
              "336748  -9       EV      3833   N16546  EWR    CLT   72       529     21  \n",
              "336749 -31       B6        97   N807JB  JFK    DEN  213      1626     21  \n",
              "336750  -2       EV      5048   N751EV  LGA    RIC   45       292     20  \n",
              "336751 -30       MQ      3621   N807MQ  JFK    DCA   36       213     21  \n",
              "336752 -30       AA       185   N335AA  JFK    LAX  298      2475     21  \n",
              "336753  11       EV      4509   N12957  EWR    PWM   47       284     21  \n",
              "336754 -25       B6      1103   N633JB  JFK    SJU  192      1598     21  \n",
              "336755   3       B6      1371   N627JB  LGA    FLL  139      1076     21  \n",
              "336756 -23       UA       523   N813UA  EWR    BOS   37       200     21  \n",
              "336757 -16       EV      3842   N10575  EWR    MHT   39       209     21  \n",
              "336758 194       9E      3320   N906XJ  JFK    BUF   50       301     18  \n",
              "336759   8       EV      5311   N722EV  LGA    BGR   61       378     22  \n",
              "336760   7       MQ      3660   N532MQ  LGA    BNA   97       764     21  \n",
              "336761  57       EV      4672   N12145  EWR    STL  120       872     20  \n",
              "336762 -21       B6       108   N193JB  JFK    PWM   48       273     22  \n",
              "336763  42       UA       471   N578UA  EWR    SFO  318      2565     21  \n",
              "336764 130       B6      1083   N804JB  JFK    MCO  123       944     20  \n",
              "336765  -8       B6       234   N318JB  JFK    BTV   43       266     22  \n",
              "336766 -17       B6      1816   N354JB  JFK    SYR   41       209     22  \n",
              "336767 -20       B6      2002   N281JB  JFK    BUF   52       301     22  \n",
              "336768 -16       B6       486   N346JB  JFK    ROC   47       264     22  \n",
              "336769   1       B6       718   N565JB  JFK    BOS   33       187     22  \n",
              "336770 -25       B6       745   N516JB  JFK    PSE  196      1617     23  \n",
              "336771  NA       EV      5274   N740EV  LGA    BNA   NA       764     18  \n",
              "336772  NA       9E      3393   NA      JFK    DCA   NA       213     14  \n",
              "336773  NA       9E      3525   NA      LGA    SYR   NA       198     22  \n",
              "336774  NA       MQ      3461   N535MQ  LGA    BNA   NA       764     12  \n",
              "336775  NA       MQ      3572   N511MQ  LGA    CLE   NA       419     11  \n",
              "336776  NA       MQ      3531   N839MQ  LGA    RDU   NA       431      8  \n",
              "       minute time_hour          \n",
              "1      15     2013-01-01 05:00:00\n",
              "2      29     2013-01-01 05:00:00\n",
              "3      40     2013-01-01 05:00:00\n",
              "4      45     2013-01-01 05:00:00\n",
              "5       0     2013-01-01 06:00:00\n",
              "6      58     2013-01-01 05:00:00\n",
              "7       0     2013-01-01 06:00:00\n",
              "8       0     2013-01-01 06:00:00\n",
              "9       0     2013-01-01 06:00:00\n",
              "10      0     2013-01-01 06:00:00\n",
              "11      0     2013-01-01 06:00:00\n",
              "12      0     2013-01-01 06:00:00\n",
              "13      0     2013-01-01 06:00:00\n",
              "14      0     2013-01-01 06:00:00\n",
              "15      0     2013-01-01 06:00:00\n",
              "16     59     2013-01-01 05:00:00\n",
              "17      0     2013-01-01 06:00:00\n",
              "18      0     2013-01-01 06:00:00\n",
              "19      0     2013-01-01 06:00:00\n",
              "20      0     2013-01-01 06:00:00\n",
              "21     10     2013-01-01 06:00:00\n",
              "22      5     2013-01-01 06:00:00\n",
              "23     10     2013-01-01 06:00:00\n",
              "24     10     2013-01-01 06:00:00\n",
              "25      7     2013-01-01 06:00:00\n",
              "26      0     2013-01-01 06:00:00\n",
              "27      0     2013-01-01 06:00:00\n",
              "28     10     2013-01-01 06:00:00\n",
              "29     15     2013-01-01 06:00:00\n",
              "30     15     2013-01-01 06:00:00\n",
              "⋮      ⋮      ⋮                  \n",
              "336747 25     2013-09-30 21:00:00\n",
              "336748 29     2013-09-30 21:00:00\n",
              "336749 30     2013-09-30 21:00:00\n",
              "336750 59     2013-09-30 20:00:00\n",
              "336751 40     2013-09-30 21:00:00\n",
              "336752 40     2013-09-30 21:00:00\n",
              "336753 29     2013-09-30 21:00:00\n",
              "336754 45     2013-09-30 21:00:00\n",
              "336755 37     2013-09-30 21:00:00\n",
              "336756 56     2013-09-30 21:00:00\n",
              "336757 59     2013-09-30 21:00:00\n",
              "336758 45     2013-09-30 18:00:00\n",
              "336759  5     2013-09-30 22:00:00\n",
              "336760 40     2013-09-30 21:00:00\n",
              "336761 59     2013-09-30 20:00:00\n",
              "336762 45     2013-09-30 22:00:00\n",
              "336763 13     2013-09-30 21:00:00\n",
              "336764  1     2013-09-30 20:00:00\n",
              "336765 45     2013-09-30 22:00:00\n",
              "336766 45     2013-09-30 22:00:00\n",
              "336767 50     2013-09-30 22:00:00\n",
              "336768 46     2013-09-30 22:00:00\n",
              "336769 55     2013-09-30 22:00:00\n",
              "336770 59     2013-09-30 23:00:00\n",
              "336771 42     2013-09-30 18:00:00\n",
              "336772 55     2013-09-30 14:00:00\n",
              "336773  0     2013-09-30 22:00:00\n",
              "336774 10     2013-09-30 12:00:00\n",
              "336775 59     2013-09-30 11:00:00\n",
              "336776 40     2013-09-30 08:00:00"
            ]
          },
          "metadata": {}
        }
      ]
    },
    {
      "cell_type": "code",
      "source": [
        "# NOTA: esto no modifica el dataset original\n",
        "head(vuelos)"
      ],
      "metadata": {
        "id": "bJOdaMw8oly9",
        "outputId": "5245c5da-caf1-4a97-8df8-bac077391c8a",
        "colab": {
          "base_uri": "https://localhost:8080/",
          "height": 286
        }
      },
      "execution_count": null,
      "outputs": [
        {
          "output_type": "display_data",
          "data": {
            "text/html": [
              "<table class=\"dataframe\">\n",
              "<caption>A data.frame: 6 × 19</caption>\n",
              "<thead>\n",
              "\t<tr><th></th><th scope=col>year</th><th scope=col>month</th><th scope=col>day</th><th scope=col>dep_time</th><th scope=col>sched_dep_time</th><th scope=col>dep_delay</th><th scope=col>arr_time</th><th scope=col>sched_arr_time</th><th scope=col>arr_delay</th><th scope=col>carrier</th><th scope=col>flight</th><th scope=col>tailnum</th><th scope=col>origin</th><th scope=col>dest</th><th scope=col>air_time</th><th scope=col>distance</th><th scope=col>hour</th><th scope=col>minute</th><th scope=col>time_hour</th></tr>\n",
              "\t<tr><th></th><th scope=col>&lt;int&gt;</th><th scope=col>&lt;int&gt;</th><th scope=col>&lt;int&gt;</th><th scope=col>&lt;int&gt;</th><th scope=col>&lt;int&gt;</th><th scope=col>&lt;int&gt;</th><th scope=col>&lt;int&gt;</th><th scope=col>&lt;int&gt;</th><th scope=col>&lt;int&gt;</th><th scope=col>&lt;chr&gt;</th><th scope=col>&lt;int&gt;</th><th scope=col>&lt;chr&gt;</th><th scope=col>&lt;chr&gt;</th><th scope=col>&lt;chr&gt;</th><th scope=col>&lt;int&gt;</th><th scope=col>&lt;int&gt;</th><th scope=col>&lt;int&gt;</th><th scope=col>&lt;int&gt;</th><th scope=col>&lt;chr&gt;</th></tr>\n",
              "</thead>\n",
              "<tbody>\n",
              "\t<tr><th scope=row>1</th><td>2013</td><td>1</td><td>1</td><td>517</td><td>515</td><td> 2</td><td> 830</td><td> 819</td><td> 11</td><td>UA</td><td>1545</td><td>N14228</td><td>EWR</td><td>IAH</td><td>227</td><td>1400</td><td>5</td><td>15</td><td>2013-01-01 05:00:00</td></tr>\n",
              "\t<tr><th scope=row>2</th><td>2013</td><td>1</td><td>1</td><td>533</td><td>529</td><td> 4</td><td> 850</td><td> 830</td><td> 20</td><td>UA</td><td>1714</td><td>N24211</td><td>LGA</td><td>IAH</td><td>227</td><td>1416</td><td>5</td><td>29</td><td>2013-01-01 05:00:00</td></tr>\n",
              "\t<tr><th scope=row>3</th><td>2013</td><td>1</td><td>1</td><td>542</td><td>540</td><td> 2</td><td> 923</td><td> 850</td><td> 33</td><td>AA</td><td>1141</td><td>N619AA</td><td>JFK</td><td>MIA</td><td>160</td><td>1089</td><td>5</td><td>40</td><td>2013-01-01 05:00:00</td></tr>\n",
              "\t<tr><th scope=row>4</th><td>2013</td><td>1</td><td>1</td><td>544</td><td>545</td><td>-1</td><td>1004</td><td>1022</td><td>-18</td><td>B6</td><td> 725</td><td>N804JB</td><td>JFK</td><td>BQN</td><td>183</td><td>1576</td><td>5</td><td>45</td><td>2013-01-01 05:00:00</td></tr>\n",
              "\t<tr><th scope=row>5</th><td>2013</td><td>1</td><td>1</td><td>554</td><td>600</td><td>-6</td><td> 812</td><td> 837</td><td>-25</td><td>DL</td><td> 461</td><td>N668DN</td><td>LGA</td><td>ATL</td><td>116</td><td> 762</td><td>6</td><td> 0</td><td>2013-01-01 06:00:00</td></tr>\n",
              "\t<tr><th scope=row>6</th><td>2013</td><td>1</td><td>1</td><td>554</td><td>558</td><td>-4</td><td> 740</td><td> 728</td><td> 12</td><td>UA</td><td>1696</td><td>N39463</td><td>EWR</td><td>ORD</td><td>150</td><td> 719</td><td>5</td><td>58</td><td>2013-01-01 05:00:00</td></tr>\n",
              "</tbody>\n",
              "</table>\n"
            ],
            "text/markdown": "\nA data.frame: 6 × 19\n\n| <!--/--> | year &lt;int&gt; | month &lt;int&gt; | day &lt;int&gt; | dep_time &lt;int&gt; | sched_dep_time &lt;int&gt; | dep_delay &lt;int&gt; | arr_time &lt;int&gt; | sched_arr_time &lt;int&gt; | arr_delay &lt;int&gt; | carrier &lt;chr&gt; | flight &lt;int&gt; | tailnum &lt;chr&gt; | origin &lt;chr&gt; | dest &lt;chr&gt; | air_time &lt;int&gt; | distance &lt;int&gt; | hour &lt;int&gt; | minute &lt;int&gt; | time_hour &lt;chr&gt; |\n|---|---|---|---|---|---|---|---|---|---|---|---|---|---|---|---|---|---|---|---|\n| 1 | 2013 | 1 | 1 | 517 | 515 |  2 |  830 |  819 |  11 | UA | 1545 | N14228 | EWR | IAH | 227 | 1400 | 5 | 15 | 2013-01-01 05:00:00 |\n| 2 | 2013 | 1 | 1 | 533 | 529 |  4 |  850 |  830 |  20 | UA | 1714 | N24211 | LGA | IAH | 227 | 1416 | 5 | 29 | 2013-01-01 05:00:00 |\n| 3 | 2013 | 1 | 1 | 542 | 540 |  2 |  923 |  850 |  33 | AA | 1141 | N619AA | JFK | MIA | 160 | 1089 | 5 | 40 | 2013-01-01 05:00:00 |\n| 4 | 2013 | 1 | 1 | 544 | 545 | -1 | 1004 | 1022 | -18 | B6 |  725 | N804JB | JFK | BQN | 183 | 1576 | 5 | 45 | 2013-01-01 05:00:00 |\n| 5 | 2013 | 1 | 1 | 554 | 600 | -6 |  812 |  837 | -25 | DL |  461 | N668DN | LGA | ATL | 116 |  762 | 6 |  0 | 2013-01-01 06:00:00 |\n| 6 | 2013 | 1 | 1 | 554 | 558 | -4 |  740 |  728 |  12 | UA | 1696 | N39463 | EWR | ORD | 150 |  719 | 5 | 58 | 2013-01-01 05:00:00 |\n\n",
            "text/latex": "A data.frame: 6 × 19\n\\begin{tabular}{r|lllllllllllllllllll}\n  & year & month & day & dep\\_time & sched\\_dep\\_time & dep\\_delay & arr\\_time & sched\\_arr\\_time & arr\\_delay & carrier & flight & tailnum & origin & dest & air\\_time & distance & hour & minute & time\\_hour\\\\\n  & <int> & <int> & <int> & <int> & <int> & <int> & <int> & <int> & <int> & <chr> & <int> & <chr> & <chr> & <chr> & <int> & <int> & <int> & <int> & <chr>\\\\\n\\hline\n\t1 & 2013 & 1 & 1 & 517 & 515 &  2 &  830 &  819 &  11 & UA & 1545 & N14228 & EWR & IAH & 227 & 1400 & 5 & 15 & 2013-01-01 05:00:00\\\\\n\t2 & 2013 & 1 & 1 & 533 & 529 &  4 &  850 &  830 &  20 & UA & 1714 & N24211 & LGA & IAH & 227 & 1416 & 5 & 29 & 2013-01-01 05:00:00\\\\\n\t3 & 2013 & 1 & 1 & 542 & 540 &  2 &  923 &  850 &  33 & AA & 1141 & N619AA & JFK & MIA & 160 & 1089 & 5 & 40 & 2013-01-01 05:00:00\\\\\n\t4 & 2013 & 1 & 1 & 544 & 545 & -1 & 1004 & 1022 & -18 & B6 &  725 & N804JB & JFK & BQN & 183 & 1576 & 5 & 45 & 2013-01-01 05:00:00\\\\\n\t5 & 2013 & 1 & 1 & 554 & 600 & -6 &  812 &  837 & -25 & DL &  461 & N668DN & LGA & ATL & 116 &  762 & 6 &  0 & 2013-01-01 06:00:00\\\\\n\t6 & 2013 & 1 & 1 & 554 & 558 & -4 &  740 &  728 &  12 & UA & 1696 & N39463 & EWR & ORD & 150 &  719 & 5 & 58 & 2013-01-01 05:00:00\\\\\n\\end{tabular}\n",
            "text/plain": [
              "  year month day dep_time sched_dep_time dep_delay arr_time sched_arr_time\n",
              "1 2013 1     1   517      515             2         830      819          \n",
              "2 2013 1     1   533      529             4         850      830          \n",
              "3 2013 1     1   542      540             2         923      850          \n",
              "4 2013 1     1   544      545            -1        1004     1022          \n",
              "5 2013 1     1   554      600            -6         812      837          \n",
              "6 2013 1     1   554      558            -4         740      728          \n",
              "  arr_delay carrier flight tailnum origin dest air_time distance hour minute\n",
              "1  11       UA      1545   N14228  EWR    IAH  227      1400     5    15    \n",
              "2  20       UA      1714   N24211  LGA    IAH  227      1416     5    29    \n",
              "3  33       AA      1141   N619AA  JFK    MIA  160      1089     5    40    \n",
              "4 -18       B6       725   N804JB  JFK    BQN  183      1576     5    45    \n",
              "5 -25       DL       461   N668DN  LGA    ATL  116       762     6     0    \n",
              "6  12       UA      1696   N39463  EWR    ORD  150       719     5    58    \n",
              "  time_hour          \n",
              "1 2013-01-01 05:00:00\n",
              "2 2013-01-01 05:00:00\n",
              "3 2013-01-01 05:00:00\n",
              "4 2013-01-01 05:00:00\n",
              "5 2013-01-01 06:00:00\n",
              "6 2013-01-01 05:00:00"
            ]
          },
          "metadata": {}
        }
      ]
    },
    {
      "cell_type": "code",
      "source": [
        "vuelos <- rename(vuelos,\n",
        "               anio = year,\n",
        "               mes = month,\n",
        "               dia = day)"
      ],
      "metadata": {
        "id": "tE5FeNMlorC7"
      },
      "execution_count": null,
      "outputs": []
    },
    {
      "cell_type": "code",
      "source": [
        "names(vuelos)"
      ],
      "metadata": {
        "id": "ntbpDzxroxD8",
        "outputId": "a5f9b0b9-41bd-436c-9095-8e30acd91bb7",
        "colab": {
          "base_uri": "https://localhost:8080/",
          "height": 34
        }
      },
      "execution_count": null,
      "outputs": [
        {
          "output_type": "display_data",
          "data": {
            "text/html": [
              "<style>\n",
              ".list-inline {list-style: none; margin:0; padding: 0}\n",
              ".list-inline>li {display: inline-block}\n",
              ".list-inline>li:not(:last-child)::after {content: \"\\00b7\"; padding: 0 .5ex}\n",
              "</style>\n",
              "<ol class=list-inline><li>'anio'</li><li>'mes'</li><li>'dia'</li><li>'dep_time'</li><li>'sched_dep_time'</li><li>'dep_delay'</li><li>'arr_time'</li><li>'sched_arr_time'</li><li>'arr_delay'</li><li>'carrier'</li><li>'flight'</li><li>'tailnum'</li><li>'origin'</li><li>'dest'</li><li>'air_time'</li><li>'distance'</li><li>'hour'</li><li>'minute'</li><li>'time_hour'</li></ol>\n"
            ],
            "text/markdown": "1. 'anio'\n2. 'mes'\n3. 'dia'\n4. 'dep_time'\n5. 'sched_dep_time'\n6. 'dep_delay'\n7. 'arr_time'\n8. 'sched_arr_time'\n9. 'arr_delay'\n10. 'carrier'\n11. 'flight'\n12. 'tailnum'\n13. 'origin'\n14. 'dest'\n15. 'air_time'\n16. 'distance'\n17. 'hour'\n18. 'minute'\n19. 'time_hour'\n\n\n",
            "text/latex": "\\begin{enumerate*}\n\\item 'anio'\n\\item 'mes'\n\\item 'dia'\n\\item 'dep\\_time'\n\\item 'sched\\_dep\\_time'\n\\item 'dep\\_delay'\n\\item 'arr\\_time'\n\\item 'sched\\_arr\\_time'\n\\item 'arr\\_delay'\n\\item 'carrier'\n\\item 'flight'\n\\item 'tailnum'\n\\item 'origin'\n\\item 'dest'\n\\item 'air\\_time'\n\\item 'distance'\n\\item 'hour'\n\\item 'minute'\n\\item 'time\\_hour'\n\\end{enumerate*}\n",
            "text/plain": [
              " [1] \"anio\"           \"mes\"            \"dia\"            \"dep_time\"      \n",
              " [5] \"sched_dep_time\" \"dep_delay\"      \"arr_time\"       \"sched_arr_time\"\n",
              " [9] \"arr_delay\"      \"carrier\"        \"flight\"         \"tailnum\"       \n",
              "[13] \"origin\"         \"dest\"           \"air_time\"       \"distance\"      \n",
              "[17] \"hour\"           \"minute\"         \"time_hour\"     "
            ]
          },
          "metadata": {}
        }
      ]
    },
    {
      "cell_type": "code",
      "metadata": {
        "trusted": true,
        "id": "Hg-abspERPyw",
        "outputId": "d3972094-1126-4ca0-9dd7-415605649a98",
        "colab": {
          "base_uri": "https://localhost:8080/",
          "height": 1000
        }
      },
      "source": [
        "#Existe gran variedad (pueden consultar la documentación respectiva)  de otras funciones dentro del package dplyr, por ejemplo: Seleccionar solo las variables que comiencen con \"d\"\n",
        "# para su estudio\n",
        "select(vuelos, ends_with(\"delay\")) # starts_with()\n"
      ],
      "execution_count": null,
      "outputs": [
        {
          "output_type": "display_data",
          "data": {
            "text/html": [
              "<table class=\"dataframe\">\n",
              "<caption>A data.frame: 336776 × 2</caption>\n",
              "<thead>\n",
              "\t<tr><th scope=col>dep_delay</th><th scope=col>arr_delay</th></tr>\n",
              "\t<tr><th scope=col>&lt;int&gt;</th><th scope=col>&lt;int&gt;</th></tr>\n",
              "</thead>\n",
              "<tbody>\n",
              "\t<tr><td> 2</td><td> 11</td></tr>\n",
              "\t<tr><td> 4</td><td> 20</td></tr>\n",
              "\t<tr><td> 2</td><td> 33</td></tr>\n",
              "\t<tr><td>-1</td><td>-18</td></tr>\n",
              "\t<tr><td>-6</td><td>-25</td></tr>\n",
              "\t<tr><td>-4</td><td> 12</td></tr>\n",
              "\t<tr><td>-5</td><td> 19</td></tr>\n",
              "\t<tr><td>-3</td><td>-14</td></tr>\n",
              "\t<tr><td>-3</td><td> -8</td></tr>\n",
              "\t<tr><td>-2</td><td>  8</td></tr>\n",
              "\t<tr><td>-2</td><td> -2</td></tr>\n",
              "\t<tr><td>-2</td><td> -3</td></tr>\n",
              "\t<tr><td>-2</td><td>  7</td></tr>\n",
              "\t<tr><td>-2</td><td>-14</td></tr>\n",
              "\t<tr><td>-1</td><td> 31</td></tr>\n",
              "\t<tr><td> 0</td><td> -4</td></tr>\n",
              "\t<tr><td>-1</td><td> -8</td></tr>\n",
              "\t<tr><td> 0</td><td> -7</td></tr>\n",
              "\t<tr><td> 0</td><td> 12</td></tr>\n",
              "\t<tr><td> 1</td><td> -6</td></tr>\n",
              "\t<tr><td>-8</td><td> -8</td></tr>\n",
              "\t<tr><td>-3</td><td> 16</td></tr>\n",
              "\t<tr><td>-4</td><td>-12</td></tr>\n",
              "\t<tr><td>-4</td><td> -8</td></tr>\n",
              "\t<tr><td> 0</td><td>-17</td></tr>\n",
              "\t<tr><td> 8</td><td> 32</td></tr>\n",
              "\t<tr><td>11</td><td> 14</td></tr>\n",
              "\t<tr><td> 3</td><td>  4</td></tr>\n",
              "\t<tr><td> 0</td><td>-21</td></tr>\n",
              "\t<tr><td> 0</td><td> -9</td></tr>\n",
              "\t<tr><td>⋮</td><td>⋮</td></tr>\n",
              "\t<tr><td> -2</td><td>-24</td></tr>\n",
              "\t<tr><td> -2</td><td> -9</td></tr>\n",
              "\t<tr><td> -2</td><td>-31</td></tr>\n",
              "\t<tr><td> 30</td><td> -2</td></tr>\n",
              "\t<tr><td> -9</td><td>-30</td></tr>\n",
              "\t<tr><td>  0</td><td>-30</td></tr>\n",
              "\t<tr><td> 13</td><td> 11</td></tr>\n",
              "\t<tr><td>  0</td><td>-25</td></tr>\n",
              "\t<tr><td> 10</td><td>  3</td></tr>\n",
              "\t<tr><td> -7</td><td>-23</td></tr>\n",
              "\t<tr><td> -9</td><td>-16</td></tr>\n",
              "\t<tr><td>194</td><td>194</td></tr>\n",
              "\t<tr><td> -2</td><td>  8</td></tr>\n",
              "\t<tr><td> 27</td><td>  7</td></tr>\n",
              "\t<tr><td> 72</td><td> 57</td></tr>\n",
              "\t<tr><td>-14</td><td>-21</td></tr>\n",
              "\t<tr><td> 80</td><td> 42</td></tr>\n",
              "\t<tr><td>154</td><td>130</td></tr>\n",
              "\t<tr><td> -8</td><td> -8</td></tr>\n",
              "\t<tr><td> -5</td><td>-17</td></tr>\n",
              "\t<tr><td>-10</td><td>-20</td></tr>\n",
              "\t<tr><td> -5</td><td>-16</td></tr>\n",
              "\t<tr><td> 12</td><td>  1</td></tr>\n",
              "\t<tr><td>-10</td><td>-25</td></tr>\n",
              "\t<tr><td> NA</td><td> NA</td></tr>\n",
              "\t<tr><td> NA</td><td> NA</td></tr>\n",
              "\t<tr><td> NA</td><td> NA</td></tr>\n",
              "\t<tr><td> NA</td><td> NA</td></tr>\n",
              "\t<tr><td> NA</td><td> NA</td></tr>\n",
              "\t<tr><td> NA</td><td> NA</td></tr>\n",
              "</tbody>\n",
              "</table>\n"
            ],
            "text/markdown": "\nA data.frame: 336776 × 2\n\n| dep_delay &lt;int&gt; | arr_delay &lt;int&gt; |\n|---|---|\n|  2 |  11 |\n|  4 |  20 |\n|  2 |  33 |\n| -1 | -18 |\n| -6 | -25 |\n| -4 |  12 |\n| -5 |  19 |\n| -3 | -14 |\n| -3 |  -8 |\n| -2 |   8 |\n| -2 |  -2 |\n| -2 |  -3 |\n| -2 |   7 |\n| -2 | -14 |\n| -1 |  31 |\n|  0 |  -4 |\n| -1 |  -8 |\n|  0 |  -7 |\n|  0 |  12 |\n|  1 |  -6 |\n| -8 |  -8 |\n| -3 |  16 |\n| -4 | -12 |\n| -4 |  -8 |\n|  0 | -17 |\n|  8 |  32 |\n| 11 |  14 |\n|  3 |   4 |\n|  0 | -21 |\n|  0 |  -9 |\n| ⋮ | ⋮ |\n|  -2 | -24 |\n|  -2 |  -9 |\n|  -2 | -31 |\n|  30 |  -2 |\n|  -9 | -30 |\n|   0 | -30 |\n|  13 |  11 |\n|   0 | -25 |\n|  10 |   3 |\n|  -7 | -23 |\n|  -9 | -16 |\n| 194 | 194 |\n|  -2 |   8 |\n|  27 |   7 |\n|  72 |  57 |\n| -14 | -21 |\n|  80 |  42 |\n| 154 | 130 |\n|  -8 |  -8 |\n|  -5 | -17 |\n| -10 | -20 |\n|  -5 | -16 |\n|  12 |   1 |\n| -10 | -25 |\n|  NA |  NA |\n|  NA |  NA |\n|  NA |  NA |\n|  NA |  NA |\n|  NA |  NA |\n|  NA |  NA |\n\n",
            "text/latex": "A data.frame: 336776 × 2\n\\begin{tabular}{ll}\n dep\\_delay & arr\\_delay\\\\\n <int> & <int>\\\\\n\\hline\n\t  2 &  11\\\\\n\t  4 &  20\\\\\n\t  2 &  33\\\\\n\t -1 & -18\\\\\n\t -6 & -25\\\\\n\t -4 &  12\\\\\n\t -5 &  19\\\\\n\t -3 & -14\\\\\n\t -3 &  -8\\\\\n\t -2 &   8\\\\\n\t -2 &  -2\\\\\n\t -2 &  -3\\\\\n\t -2 &   7\\\\\n\t -2 & -14\\\\\n\t -1 &  31\\\\\n\t  0 &  -4\\\\\n\t -1 &  -8\\\\\n\t  0 &  -7\\\\\n\t  0 &  12\\\\\n\t  1 &  -6\\\\\n\t -8 &  -8\\\\\n\t -3 &  16\\\\\n\t -4 & -12\\\\\n\t -4 &  -8\\\\\n\t  0 & -17\\\\\n\t  8 &  32\\\\\n\t 11 &  14\\\\\n\t  3 &   4\\\\\n\t  0 & -21\\\\\n\t  0 &  -9\\\\\n\t ⋮ & ⋮\\\\\n\t  -2 & -24\\\\\n\t  -2 &  -9\\\\\n\t  -2 & -31\\\\\n\t  30 &  -2\\\\\n\t  -9 & -30\\\\\n\t   0 & -30\\\\\n\t  13 &  11\\\\\n\t   0 & -25\\\\\n\t  10 &   3\\\\\n\t  -7 & -23\\\\\n\t  -9 & -16\\\\\n\t 194 & 194\\\\\n\t  -2 &   8\\\\\n\t  27 &   7\\\\\n\t  72 &  57\\\\\n\t -14 & -21\\\\\n\t  80 &  42\\\\\n\t 154 & 130\\\\\n\t  -8 &  -8\\\\\n\t  -5 & -17\\\\\n\t -10 & -20\\\\\n\t  -5 & -16\\\\\n\t  12 &   1\\\\\n\t -10 & -25\\\\\n\t  NA &  NA\\\\\n\t  NA &  NA\\\\\n\t  NA &  NA\\\\\n\t  NA &  NA\\\\\n\t  NA &  NA\\\\\n\t  NA &  NA\\\\\n\\end{tabular}\n",
            "text/plain": [
              "       dep_delay arr_delay\n",
              "1       2         11      \n",
              "2       4         20      \n",
              "3       2         33      \n",
              "4      -1        -18      \n",
              "5      -6        -25      \n",
              "6      -4         12      \n",
              "7      -5         19      \n",
              "8      -3        -14      \n",
              "9      -3         -8      \n",
              "10     -2          8      \n",
              "11     -2         -2      \n",
              "12     -2         -3      \n",
              "13     -2          7      \n",
              "14     -2        -14      \n",
              "15     -1         31      \n",
              "16      0         -4      \n",
              "17     -1         -8      \n",
              "18      0         -7      \n",
              "19      0         12      \n",
              "20      1         -6      \n",
              "21     -8         -8      \n",
              "22     -3         16      \n",
              "23     -4        -12      \n",
              "24     -4         -8      \n",
              "25      0        -17      \n",
              "26      8         32      \n",
              "27     11         14      \n",
              "28      3          4      \n",
              "29      0        -21      \n",
              "30      0         -9      \n",
              "⋮      ⋮         ⋮        \n",
              "336747  -2       -24      \n",
              "336748  -2        -9      \n",
              "336749  -2       -31      \n",
              "336750  30        -2      \n",
              "336751  -9       -30      \n",
              "336752   0       -30      \n",
              "336753  13        11      \n",
              "336754   0       -25      \n",
              "336755  10         3      \n",
              "336756  -7       -23      \n",
              "336757  -9       -16      \n",
              "336758 194       194      \n",
              "336759  -2         8      \n",
              "336760  27         7      \n",
              "336761  72        57      \n",
              "336762 -14       -21      \n",
              "336763  80        42      \n",
              "336764 154       130      \n",
              "336765  -8        -8      \n",
              "336766  -5       -17      \n",
              "336767 -10       -20      \n",
              "336768  -5       -16      \n",
              "336769  12         1      \n",
              "336770 -10       -25      \n",
              "336771  NA        NA      \n",
              "336772  NA        NA      \n",
              "336773  NA        NA      \n",
              "336774  NA        NA      \n",
              "336775  NA        NA      \n",
              "336776  NA        NA      "
            ]
          },
          "metadata": {}
        }
      ]
    },
    {
      "cell_type": "code",
      "source": [
        "select(vuelos, 1,3,5)"
      ],
      "metadata": {
        "id": "YzyktGjVpLoz",
        "outputId": "9ad88cd3-4a4f-43b2-b14c-c3fb5e597ddc",
        "colab": {
          "base_uri": "https://localhost:8080/",
          "height": 1000
        }
      },
      "execution_count": null,
      "outputs": [
        {
          "output_type": "display_data",
          "data": {
            "text/html": [
              "<table class=\"dataframe\">\n",
              "<caption>A data.frame: 336776 × 3</caption>\n",
              "<thead>\n",
              "\t<tr><th scope=col>anio</th><th scope=col>dia</th><th scope=col>sched_dep_time</th></tr>\n",
              "\t<tr><th scope=col>&lt;int&gt;</th><th scope=col>&lt;int&gt;</th><th scope=col>&lt;int&gt;</th></tr>\n",
              "</thead>\n",
              "<tbody>\n",
              "\t<tr><td>2013</td><td>1</td><td>515</td></tr>\n",
              "\t<tr><td>2013</td><td>1</td><td>529</td></tr>\n",
              "\t<tr><td>2013</td><td>1</td><td>540</td></tr>\n",
              "\t<tr><td>2013</td><td>1</td><td>545</td></tr>\n",
              "\t<tr><td>2013</td><td>1</td><td>600</td></tr>\n",
              "\t<tr><td>2013</td><td>1</td><td>558</td></tr>\n",
              "\t<tr><td>2013</td><td>1</td><td>600</td></tr>\n",
              "\t<tr><td>2013</td><td>1</td><td>600</td></tr>\n",
              "\t<tr><td>2013</td><td>1</td><td>600</td></tr>\n",
              "\t<tr><td>2013</td><td>1</td><td>600</td></tr>\n",
              "\t<tr><td>2013</td><td>1</td><td>600</td></tr>\n",
              "\t<tr><td>2013</td><td>1</td><td>600</td></tr>\n",
              "\t<tr><td>2013</td><td>1</td><td>600</td></tr>\n",
              "\t<tr><td>2013</td><td>1</td><td>600</td></tr>\n",
              "\t<tr><td>2013</td><td>1</td><td>600</td></tr>\n",
              "\t<tr><td>2013</td><td>1</td><td>559</td></tr>\n",
              "\t<tr><td>2013</td><td>1</td><td>600</td></tr>\n",
              "\t<tr><td>2013</td><td>1</td><td>600</td></tr>\n",
              "\t<tr><td>2013</td><td>1</td><td>600</td></tr>\n",
              "\t<tr><td>2013</td><td>1</td><td>600</td></tr>\n",
              "\t<tr><td>2013</td><td>1</td><td>610</td></tr>\n",
              "\t<tr><td>2013</td><td>1</td><td>605</td></tr>\n",
              "\t<tr><td>2013</td><td>1</td><td>610</td></tr>\n",
              "\t<tr><td>2013</td><td>1</td><td>610</td></tr>\n",
              "\t<tr><td>2013</td><td>1</td><td>607</td></tr>\n",
              "\t<tr><td>2013</td><td>1</td><td>600</td></tr>\n",
              "\t<tr><td>2013</td><td>1</td><td>600</td></tr>\n",
              "\t<tr><td>2013</td><td>1</td><td>610</td></tr>\n",
              "\t<tr><td>2013</td><td>1</td><td>615</td></tr>\n",
              "\t<tr><td>2013</td><td>1</td><td>615</td></tr>\n",
              "\t<tr><td>⋮</td><td>⋮</td><td>⋮</td></tr>\n",
              "\t<tr><td>2013</td><td>30</td><td>2125</td></tr>\n",
              "\t<tr><td>2013</td><td>30</td><td>2129</td></tr>\n",
              "\t<tr><td>2013</td><td>30</td><td>2130</td></tr>\n",
              "\t<tr><td>2013</td><td>30</td><td>2059</td></tr>\n",
              "\t<tr><td>2013</td><td>30</td><td>2140</td></tr>\n",
              "\t<tr><td>2013</td><td>30</td><td>2140</td></tr>\n",
              "\t<tr><td>2013</td><td>30</td><td>2129</td></tr>\n",
              "\t<tr><td>2013</td><td>30</td><td>2145</td></tr>\n",
              "\t<tr><td>2013</td><td>30</td><td>2137</td></tr>\n",
              "\t<tr><td>2013</td><td>30</td><td>2156</td></tr>\n",
              "\t<tr><td>2013</td><td>30</td><td>2159</td></tr>\n",
              "\t<tr><td>2013</td><td>30</td><td>1845</td></tr>\n",
              "\t<tr><td>2013</td><td>30</td><td>2205</td></tr>\n",
              "\t<tr><td>2013</td><td>30</td><td>2140</td></tr>\n",
              "\t<tr><td>2013</td><td>30</td><td>2059</td></tr>\n",
              "\t<tr><td>2013</td><td>30</td><td>2245</td></tr>\n",
              "\t<tr><td>2013</td><td>30</td><td>2113</td></tr>\n",
              "\t<tr><td>2013</td><td>30</td><td>2001</td></tr>\n",
              "\t<tr><td>2013</td><td>30</td><td>2245</td></tr>\n",
              "\t<tr><td>2013</td><td>30</td><td>2245</td></tr>\n",
              "\t<tr><td>2013</td><td>30</td><td>2250</td></tr>\n",
              "\t<tr><td>2013</td><td>30</td><td>2246</td></tr>\n",
              "\t<tr><td>2013</td><td>30</td><td>2255</td></tr>\n",
              "\t<tr><td>2013</td><td>30</td><td>2359</td></tr>\n",
              "\t<tr><td>2013</td><td>30</td><td>1842</td></tr>\n",
              "\t<tr><td>2013</td><td>30</td><td>1455</td></tr>\n",
              "\t<tr><td>2013</td><td>30</td><td>2200</td></tr>\n",
              "\t<tr><td>2013</td><td>30</td><td>1210</td></tr>\n",
              "\t<tr><td>2013</td><td>30</td><td>1159</td></tr>\n",
              "\t<tr><td>2013</td><td>30</td><td> 840</td></tr>\n",
              "</tbody>\n",
              "</table>\n"
            ],
            "text/markdown": "\nA data.frame: 336776 × 3\n\n| anio &lt;int&gt; | dia &lt;int&gt; | sched_dep_time &lt;int&gt; |\n|---|---|---|\n| 2013 | 1 | 515 |\n| 2013 | 1 | 529 |\n| 2013 | 1 | 540 |\n| 2013 | 1 | 545 |\n| 2013 | 1 | 600 |\n| 2013 | 1 | 558 |\n| 2013 | 1 | 600 |\n| 2013 | 1 | 600 |\n| 2013 | 1 | 600 |\n| 2013 | 1 | 600 |\n| 2013 | 1 | 600 |\n| 2013 | 1 | 600 |\n| 2013 | 1 | 600 |\n| 2013 | 1 | 600 |\n| 2013 | 1 | 600 |\n| 2013 | 1 | 559 |\n| 2013 | 1 | 600 |\n| 2013 | 1 | 600 |\n| 2013 | 1 | 600 |\n| 2013 | 1 | 600 |\n| 2013 | 1 | 610 |\n| 2013 | 1 | 605 |\n| 2013 | 1 | 610 |\n| 2013 | 1 | 610 |\n| 2013 | 1 | 607 |\n| 2013 | 1 | 600 |\n| 2013 | 1 | 600 |\n| 2013 | 1 | 610 |\n| 2013 | 1 | 615 |\n| 2013 | 1 | 615 |\n| ⋮ | ⋮ | ⋮ |\n| 2013 | 30 | 2125 |\n| 2013 | 30 | 2129 |\n| 2013 | 30 | 2130 |\n| 2013 | 30 | 2059 |\n| 2013 | 30 | 2140 |\n| 2013 | 30 | 2140 |\n| 2013 | 30 | 2129 |\n| 2013 | 30 | 2145 |\n| 2013 | 30 | 2137 |\n| 2013 | 30 | 2156 |\n| 2013 | 30 | 2159 |\n| 2013 | 30 | 1845 |\n| 2013 | 30 | 2205 |\n| 2013 | 30 | 2140 |\n| 2013 | 30 | 2059 |\n| 2013 | 30 | 2245 |\n| 2013 | 30 | 2113 |\n| 2013 | 30 | 2001 |\n| 2013 | 30 | 2245 |\n| 2013 | 30 | 2245 |\n| 2013 | 30 | 2250 |\n| 2013 | 30 | 2246 |\n| 2013 | 30 | 2255 |\n| 2013 | 30 | 2359 |\n| 2013 | 30 | 1842 |\n| 2013 | 30 | 1455 |\n| 2013 | 30 | 2200 |\n| 2013 | 30 | 1210 |\n| 2013 | 30 | 1159 |\n| 2013 | 30 |  840 |\n\n",
            "text/latex": "A data.frame: 336776 × 3\n\\begin{tabular}{lll}\n anio & dia & sched\\_dep\\_time\\\\\n <int> & <int> & <int>\\\\\n\\hline\n\t 2013 & 1 & 515\\\\\n\t 2013 & 1 & 529\\\\\n\t 2013 & 1 & 540\\\\\n\t 2013 & 1 & 545\\\\\n\t 2013 & 1 & 600\\\\\n\t 2013 & 1 & 558\\\\\n\t 2013 & 1 & 600\\\\\n\t 2013 & 1 & 600\\\\\n\t 2013 & 1 & 600\\\\\n\t 2013 & 1 & 600\\\\\n\t 2013 & 1 & 600\\\\\n\t 2013 & 1 & 600\\\\\n\t 2013 & 1 & 600\\\\\n\t 2013 & 1 & 600\\\\\n\t 2013 & 1 & 600\\\\\n\t 2013 & 1 & 559\\\\\n\t 2013 & 1 & 600\\\\\n\t 2013 & 1 & 600\\\\\n\t 2013 & 1 & 600\\\\\n\t 2013 & 1 & 600\\\\\n\t 2013 & 1 & 610\\\\\n\t 2013 & 1 & 605\\\\\n\t 2013 & 1 & 610\\\\\n\t 2013 & 1 & 610\\\\\n\t 2013 & 1 & 607\\\\\n\t 2013 & 1 & 600\\\\\n\t 2013 & 1 & 600\\\\\n\t 2013 & 1 & 610\\\\\n\t 2013 & 1 & 615\\\\\n\t 2013 & 1 & 615\\\\\n\t ⋮ & ⋮ & ⋮\\\\\n\t 2013 & 30 & 2125\\\\\n\t 2013 & 30 & 2129\\\\\n\t 2013 & 30 & 2130\\\\\n\t 2013 & 30 & 2059\\\\\n\t 2013 & 30 & 2140\\\\\n\t 2013 & 30 & 2140\\\\\n\t 2013 & 30 & 2129\\\\\n\t 2013 & 30 & 2145\\\\\n\t 2013 & 30 & 2137\\\\\n\t 2013 & 30 & 2156\\\\\n\t 2013 & 30 & 2159\\\\\n\t 2013 & 30 & 1845\\\\\n\t 2013 & 30 & 2205\\\\\n\t 2013 & 30 & 2140\\\\\n\t 2013 & 30 & 2059\\\\\n\t 2013 & 30 & 2245\\\\\n\t 2013 & 30 & 2113\\\\\n\t 2013 & 30 & 2001\\\\\n\t 2013 & 30 & 2245\\\\\n\t 2013 & 30 & 2245\\\\\n\t 2013 & 30 & 2250\\\\\n\t 2013 & 30 & 2246\\\\\n\t 2013 & 30 & 2255\\\\\n\t 2013 & 30 & 2359\\\\\n\t 2013 & 30 & 1842\\\\\n\t 2013 & 30 & 1455\\\\\n\t 2013 & 30 & 2200\\\\\n\t 2013 & 30 & 1210\\\\\n\t 2013 & 30 & 1159\\\\\n\t 2013 & 30 &  840\\\\\n\\end{tabular}\n",
            "text/plain": [
              "       anio dia sched_dep_time\n",
              "1      2013 1   515           \n",
              "2      2013 1   529           \n",
              "3      2013 1   540           \n",
              "4      2013 1   545           \n",
              "5      2013 1   600           \n",
              "6      2013 1   558           \n",
              "7      2013 1   600           \n",
              "8      2013 1   600           \n",
              "9      2013 1   600           \n",
              "10     2013 1   600           \n",
              "11     2013 1   600           \n",
              "12     2013 1   600           \n",
              "13     2013 1   600           \n",
              "14     2013 1   600           \n",
              "15     2013 1   600           \n",
              "16     2013 1   559           \n",
              "17     2013 1   600           \n",
              "18     2013 1   600           \n",
              "19     2013 1   600           \n",
              "20     2013 1   600           \n",
              "21     2013 1   610           \n",
              "22     2013 1   605           \n",
              "23     2013 1   610           \n",
              "24     2013 1   610           \n",
              "25     2013 1   607           \n",
              "26     2013 1   600           \n",
              "27     2013 1   600           \n",
              "28     2013 1   610           \n",
              "29     2013 1   615           \n",
              "30     2013 1   615           \n",
              "⋮      ⋮    ⋮   ⋮             \n",
              "336747 2013 30  2125          \n",
              "336748 2013 30  2129          \n",
              "336749 2013 30  2130          \n",
              "336750 2013 30  2059          \n",
              "336751 2013 30  2140          \n",
              "336752 2013 30  2140          \n",
              "336753 2013 30  2129          \n",
              "336754 2013 30  2145          \n",
              "336755 2013 30  2137          \n",
              "336756 2013 30  2156          \n",
              "336757 2013 30  2159          \n",
              "336758 2013 30  1845          \n",
              "336759 2013 30  2205          \n",
              "336760 2013 30  2140          \n",
              "336761 2013 30  2059          \n",
              "336762 2013 30  2245          \n",
              "336763 2013 30  2113          \n",
              "336764 2013 30  2001          \n",
              "336765 2013 30  2245          \n",
              "336766 2013 30  2245          \n",
              "336767 2013 30  2250          \n",
              "336768 2013 30  2246          \n",
              "336769 2013 30  2255          \n",
              "336770 2013 30  2359          \n",
              "336771 2013 30  1842          \n",
              "336772 2013 30  1455          \n",
              "336773 2013 30  2200          \n",
              "336774 2013 30  1210          \n",
              "336775 2013 30  1159          \n",
              "336776 2013 30   840          "
            ]
          },
          "metadata": {}
        }
      ]
    },
    {
      "cell_type": "code",
      "source": [
        "select(vuelos, 5:8)"
      ],
      "metadata": {
        "id": "ryBk66hHpSzA",
        "outputId": "507c3d2b-20bb-44b8-a062-5f15201715cb",
        "colab": {
          "base_uri": "https://localhost:8080/",
          "height": 1000
        }
      },
      "execution_count": null,
      "outputs": [
        {
          "output_type": "display_data",
          "data": {
            "text/html": [
              "<table class=\"dataframe\">\n",
              "<caption>A data.frame: 336776 × 4</caption>\n",
              "<thead>\n",
              "\t<tr><th scope=col>sched_dep_time</th><th scope=col>dep_delay</th><th scope=col>arr_time</th><th scope=col>sched_arr_time</th></tr>\n",
              "\t<tr><th scope=col>&lt;int&gt;</th><th scope=col>&lt;int&gt;</th><th scope=col>&lt;int&gt;</th><th scope=col>&lt;int&gt;</th></tr>\n",
              "</thead>\n",
              "<tbody>\n",
              "\t<tr><td>515</td><td> 2</td><td> 830</td><td> 819</td></tr>\n",
              "\t<tr><td>529</td><td> 4</td><td> 850</td><td> 830</td></tr>\n",
              "\t<tr><td>540</td><td> 2</td><td> 923</td><td> 850</td></tr>\n",
              "\t<tr><td>545</td><td>-1</td><td>1004</td><td>1022</td></tr>\n",
              "\t<tr><td>600</td><td>-6</td><td> 812</td><td> 837</td></tr>\n",
              "\t<tr><td>558</td><td>-4</td><td> 740</td><td> 728</td></tr>\n",
              "\t<tr><td>600</td><td>-5</td><td> 913</td><td> 854</td></tr>\n",
              "\t<tr><td>600</td><td>-3</td><td> 709</td><td> 723</td></tr>\n",
              "\t<tr><td>600</td><td>-3</td><td> 838</td><td> 846</td></tr>\n",
              "\t<tr><td>600</td><td>-2</td><td> 753</td><td> 745</td></tr>\n",
              "\t<tr><td>600</td><td>-2</td><td> 849</td><td> 851</td></tr>\n",
              "\t<tr><td>600</td><td>-2</td><td> 853</td><td> 856</td></tr>\n",
              "\t<tr><td>600</td><td>-2</td><td> 924</td><td> 917</td></tr>\n",
              "\t<tr><td>600</td><td>-2</td><td> 923</td><td> 937</td></tr>\n",
              "\t<tr><td>600</td><td>-1</td><td> 941</td><td> 910</td></tr>\n",
              "\t<tr><td>559</td><td> 0</td><td> 702</td><td> 706</td></tr>\n",
              "\t<tr><td>600</td><td>-1</td><td> 854</td><td> 902</td></tr>\n",
              "\t<tr><td>600</td><td> 0</td><td> 851</td><td> 858</td></tr>\n",
              "\t<tr><td>600</td><td> 0</td><td> 837</td><td> 825</td></tr>\n",
              "\t<tr><td>600</td><td> 1</td><td> 844</td><td> 850</td></tr>\n",
              "\t<tr><td>610</td><td>-8</td><td> 812</td><td> 820</td></tr>\n",
              "\t<tr><td>605</td><td>-3</td><td> 821</td><td> 805</td></tr>\n",
              "\t<tr><td>610</td><td>-4</td><td> 858</td><td> 910</td></tr>\n",
              "\t<tr><td>610</td><td>-4</td><td> 837</td><td> 845</td></tr>\n",
              "\t<tr><td>607</td><td> 0</td><td> 858</td><td> 915</td></tr>\n",
              "\t<tr><td>600</td><td> 8</td><td> 807</td><td> 735</td></tr>\n",
              "\t<tr><td>600</td><td>11</td><td> 945</td><td> 931</td></tr>\n",
              "\t<tr><td>610</td><td> 3</td><td> 925</td><td> 921</td></tr>\n",
              "\t<tr><td>615</td><td> 0</td><td>1039</td><td>1100</td></tr>\n",
              "\t<tr><td>615</td><td> 0</td><td> 833</td><td> 842</td></tr>\n",
              "\t<tr><td>⋮</td><td>⋮</td><td>⋮</td><td>⋮</td></tr>\n",
              "\t<tr><td>2125</td><td> -2</td><td>2223</td><td>2247</td></tr>\n",
              "\t<tr><td>2129</td><td> -2</td><td>2314</td><td>2323</td></tr>\n",
              "\t<tr><td>2130</td><td> -2</td><td>2328</td><td>2359</td></tr>\n",
              "\t<tr><td>2059</td><td> 30</td><td>2230</td><td>2232</td></tr>\n",
              "\t<tr><td>2140</td><td> -9</td><td>2225</td><td>2255</td></tr>\n",
              "\t<tr><td>2140</td><td>  0</td><td>  10</td><td>  40</td></tr>\n",
              "\t<tr><td>2129</td><td> 13</td><td>2250</td><td>2239</td></tr>\n",
              "\t<tr><td>2145</td><td>  0</td><td> 115</td><td> 140</td></tr>\n",
              "\t<tr><td>2137</td><td> 10</td><td>  30</td><td>  27</td></tr>\n",
              "\t<tr><td>2156</td><td> -7</td><td>2245</td><td>2308</td></tr>\n",
              "\t<tr><td>2159</td><td> -9</td><td>2250</td><td>2306</td></tr>\n",
              "\t<tr><td>1845</td><td>194</td><td>2344</td><td>2030</td></tr>\n",
              "\t<tr><td>2205</td><td> -2</td><td>2339</td><td>2331</td></tr>\n",
              "\t<tr><td>2140</td><td> 27</td><td>2257</td><td>2250</td></tr>\n",
              "\t<tr><td>2059</td><td> 72</td><td>2339</td><td>2242</td></tr>\n",
              "\t<tr><td>2245</td><td>-14</td><td>2335</td><td>2356</td></tr>\n",
              "\t<tr><td>2113</td><td> 80</td><td> 112</td><td>  30</td></tr>\n",
              "\t<tr><td>2001</td><td>154</td><td>  59</td><td>2249</td></tr>\n",
              "\t<tr><td>2245</td><td> -8</td><td>2345</td><td>2353</td></tr>\n",
              "\t<tr><td>2245</td><td> -5</td><td>2334</td><td>2351</td></tr>\n",
              "\t<tr><td>2250</td><td>-10</td><td>2347</td><td>   7</td></tr>\n",
              "\t<tr><td>2246</td><td> -5</td><td>2345</td><td>   1</td></tr>\n",
              "\t<tr><td>2255</td><td> 12</td><td>2359</td><td>2358</td></tr>\n",
              "\t<tr><td>2359</td><td>-10</td><td> 325</td><td> 350</td></tr>\n",
              "\t<tr><td>1842</td><td> NA</td><td>  NA</td><td>2019</td></tr>\n",
              "\t<tr><td>1455</td><td> NA</td><td>  NA</td><td>1634</td></tr>\n",
              "\t<tr><td>2200</td><td> NA</td><td>  NA</td><td>2312</td></tr>\n",
              "\t<tr><td>1210</td><td> NA</td><td>  NA</td><td>1330</td></tr>\n",
              "\t<tr><td>1159</td><td> NA</td><td>  NA</td><td>1344</td></tr>\n",
              "\t<tr><td> 840</td><td> NA</td><td>  NA</td><td>1020</td></tr>\n",
              "</tbody>\n",
              "</table>\n"
            ],
            "text/markdown": "\nA data.frame: 336776 × 4\n\n| sched_dep_time &lt;int&gt; | dep_delay &lt;int&gt; | arr_time &lt;int&gt; | sched_arr_time &lt;int&gt; |\n|---|---|---|---|\n| 515 |  2 |  830 |  819 |\n| 529 |  4 |  850 |  830 |\n| 540 |  2 |  923 |  850 |\n| 545 | -1 | 1004 | 1022 |\n| 600 | -6 |  812 |  837 |\n| 558 | -4 |  740 |  728 |\n| 600 | -5 |  913 |  854 |\n| 600 | -3 |  709 |  723 |\n| 600 | -3 |  838 |  846 |\n| 600 | -2 |  753 |  745 |\n| 600 | -2 |  849 |  851 |\n| 600 | -2 |  853 |  856 |\n| 600 | -2 |  924 |  917 |\n| 600 | -2 |  923 |  937 |\n| 600 | -1 |  941 |  910 |\n| 559 |  0 |  702 |  706 |\n| 600 | -1 |  854 |  902 |\n| 600 |  0 |  851 |  858 |\n| 600 |  0 |  837 |  825 |\n| 600 |  1 |  844 |  850 |\n| 610 | -8 |  812 |  820 |\n| 605 | -3 |  821 |  805 |\n| 610 | -4 |  858 |  910 |\n| 610 | -4 |  837 |  845 |\n| 607 |  0 |  858 |  915 |\n| 600 |  8 |  807 |  735 |\n| 600 | 11 |  945 |  931 |\n| 610 |  3 |  925 |  921 |\n| 615 |  0 | 1039 | 1100 |\n| 615 |  0 |  833 |  842 |\n| ⋮ | ⋮ | ⋮ | ⋮ |\n| 2125 |  -2 | 2223 | 2247 |\n| 2129 |  -2 | 2314 | 2323 |\n| 2130 |  -2 | 2328 | 2359 |\n| 2059 |  30 | 2230 | 2232 |\n| 2140 |  -9 | 2225 | 2255 |\n| 2140 |   0 |   10 |   40 |\n| 2129 |  13 | 2250 | 2239 |\n| 2145 |   0 |  115 |  140 |\n| 2137 |  10 |   30 |   27 |\n| 2156 |  -7 | 2245 | 2308 |\n| 2159 |  -9 | 2250 | 2306 |\n| 1845 | 194 | 2344 | 2030 |\n| 2205 |  -2 | 2339 | 2331 |\n| 2140 |  27 | 2257 | 2250 |\n| 2059 |  72 | 2339 | 2242 |\n| 2245 | -14 | 2335 | 2356 |\n| 2113 |  80 |  112 |   30 |\n| 2001 | 154 |   59 | 2249 |\n| 2245 |  -8 | 2345 | 2353 |\n| 2245 |  -5 | 2334 | 2351 |\n| 2250 | -10 | 2347 |    7 |\n| 2246 |  -5 | 2345 |    1 |\n| 2255 |  12 | 2359 | 2358 |\n| 2359 | -10 |  325 |  350 |\n| 1842 |  NA |   NA | 2019 |\n| 1455 |  NA |   NA | 1634 |\n| 2200 |  NA |   NA | 2312 |\n| 1210 |  NA |   NA | 1330 |\n| 1159 |  NA |   NA | 1344 |\n|  840 |  NA |   NA | 1020 |\n\n",
            "text/latex": "A data.frame: 336776 × 4\n\\begin{tabular}{llll}\n sched\\_dep\\_time & dep\\_delay & arr\\_time & sched\\_arr\\_time\\\\\n <int> & <int> & <int> & <int>\\\\\n\\hline\n\t 515 &  2 &  830 &  819\\\\\n\t 529 &  4 &  850 &  830\\\\\n\t 540 &  2 &  923 &  850\\\\\n\t 545 & -1 & 1004 & 1022\\\\\n\t 600 & -6 &  812 &  837\\\\\n\t 558 & -4 &  740 &  728\\\\\n\t 600 & -5 &  913 &  854\\\\\n\t 600 & -3 &  709 &  723\\\\\n\t 600 & -3 &  838 &  846\\\\\n\t 600 & -2 &  753 &  745\\\\\n\t 600 & -2 &  849 &  851\\\\\n\t 600 & -2 &  853 &  856\\\\\n\t 600 & -2 &  924 &  917\\\\\n\t 600 & -2 &  923 &  937\\\\\n\t 600 & -1 &  941 &  910\\\\\n\t 559 &  0 &  702 &  706\\\\\n\t 600 & -1 &  854 &  902\\\\\n\t 600 &  0 &  851 &  858\\\\\n\t 600 &  0 &  837 &  825\\\\\n\t 600 &  1 &  844 &  850\\\\\n\t 610 & -8 &  812 &  820\\\\\n\t 605 & -3 &  821 &  805\\\\\n\t 610 & -4 &  858 &  910\\\\\n\t 610 & -4 &  837 &  845\\\\\n\t 607 &  0 &  858 &  915\\\\\n\t 600 &  8 &  807 &  735\\\\\n\t 600 & 11 &  945 &  931\\\\\n\t 610 &  3 &  925 &  921\\\\\n\t 615 &  0 & 1039 & 1100\\\\\n\t 615 &  0 &  833 &  842\\\\\n\t ⋮ & ⋮ & ⋮ & ⋮\\\\\n\t 2125 &  -2 & 2223 & 2247\\\\\n\t 2129 &  -2 & 2314 & 2323\\\\\n\t 2130 &  -2 & 2328 & 2359\\\\\n\t 2059 &  30 & 2230 & 2232\\\\\n\t 2140 &  -9 & 2225 & 2255\\\\\n\t 2140 &   0 &   10 &   40\\\\\n\t 2129 &  13 & 2250 & 2239\\\\\n\t 2145 &   0 &  115 &  140\\\\\n\t 2137 &  10 &   30 &   27\\\\\n\t 2156 &  -7 & 2245 & 2308\\\\\n\t 2159 &  -9 & 2250 & 2306\\\\\n\t 1845 & 194 & 2344 & 2030\\\\\n\t 2205 &  -2 & 2339 & 2331\\\\\n\t 2140 &  27 & 2257 & 2250\\\\\n\t 2059 &  72 & 2339 & 2242\\\\\n\t 2245 & -14 & 2335 & 2356\\\\\n\t 2113 &  80 &  112 &   30\\\\\n\t 2001 & 154 &   59 & 2249\\\\\n\t 2245 &  -8 & 2345 & 2353\\\\\n\t 2245 &  -5 & 2334 & 2351\\\\\n\t 2250 & -10 & 2347 &    7\\\\\n\t 2246 &  -5 & 2345 &    1\\\\\n\t 2255 &  12 & 2359 & 2358\\\\\n\t 2359 & -10 &  325 &  350\\\\\n\t 1842 &  NA &   NA & 2019\\\\\n\t 1455 &  NA &   NA & 1634\\\\\n\t 2200 &  NA &   NA & 2312\\\\\n\t 1210 &  NA &   NA & 1330\\\\\n\t 1159 &  NA &   NA & 1344\\\\\n\t  840 &  NA &   NA & 1020\\\\\n\\end{tabular}\n",
            "text/plain": [
              "       sched_dep_time dep_delay arr_time sched_arr_time\n",
              "1      515             2         830      819          \n",
              "2      529             4         850      830          \n",
              "3      540             2         923      850          \n",
              "4      545            -1        1004     1022          \n",
              "5      600            -6         812      837          \n",
              "6      558            -4         740      728          \n",
              "7      600            -5         913      854          \n",
              "8      600            -3         709      723          \n",
              "9      600            -3         838      846          \n",
              "10     600            -2         753      745          \n",
              "11     600            -2         849      851          \n",
              "12     600            -2         853      856          \n",
              "13     600            -2         924      917          \n",
              "14     600            -2         923      937          \n",
              "15     600            -1         941      910          \n",
              "16     559             0         702      706          \n",
              "17     600            -1         854      902          \n",
              "18     600             0         851      858          \n",
              "19     600             0         837      825          \n",
              "20     600             1         844      850          \n",
              "21     610            -8         812      820          \n",
              "22     605            -3         821      805          \n",
              "23     610            -4         858      910          \n",
              "24     610            -4         837      845          \n",
              "25     607             0         858      915          \n",
              "26     600             8         807      735          \n",
              "27     600            11         945      931          \n",
              "28     610             3         925      921          \n",
              "29     615             0        1039     1100          \n",
              "30     615             0         833      842          \n",
              "⋮      ⋮              ⋮         ⋮        ⋮             \n",
              "336747 2125            -2       2223     2247          \n",
              "336748 2129            -2       2314     2323          \n",
              "336749 2130            -2       2328     2359          \n",
              "336750 2059            30       2230     2232          \n",
              "336751 2140            -9       2225     2255          \n",
              "336752 2140             0         10       40          \n",
              "336753 2129            13       2250     2239          \n",
              "336754 2145             0        115      140          \n",
              "336755 2137            10         30       27          \n",
              "336756 2156            -7       2245     2308          \n",
              "336757 2159            -9       2250     2306          \n",
              "336758 1845           194       2344     2030          \n",
              "336759 2205            -2       2339     2331          \n",
              "336760 2140            27       2257     2250          \n",
              "336761 2059            72       2339     2242          \n",
              "336762 2245           -14       2335     2356          \n",
              "336763 2113            80        112       30          \n",
              "336764 2001           154         59     2249          \n",
              "336765 2245            -8       2345     2353          \n",
              "336766 2245            -5       2334     2351          \n",
              "336767 2250           -10       2347        7          \n",
              "336768 2246            -5       2345        1          \n",
              "336769 2255            12       2359     2358          \n",
              "336770 2359           -10        325      350          \n",
              "336771 1842            NA         NA     2019          \n",
              "336772 1455            NA         NA     1634          \n",
              "336773 2200            NA         NA     2312          \n",
              "336774 1210            NA         NA     1330          \n",
              "336775 1159            NA         NA     1344          \n",
              "336776  840            NA         NA     1020          "
            ]
          },
          "metadata": {}
        }
      ]
    },
    {
      "cell_type": "code",
      "source": [
        "names(vuelos)"
      ],
      "metadata": {
        "id": "nG1HHjhOpYSu",
        "outputId": "9f6115a2-643c-43c3-ff24-81bb10ea9cee",
        "colab": {
          "base_uri": "https://localhost:8080/",
          "height": 34
        }
      },
      "execution_count": null,
      "outputs": [
        {
          "output_type": "display_data",
          "data": {
            "text/html": [
              "<style>\n",
              ".list-inline {list-style: none; margin:0; padding: 0}\n",
              ".list-inline>li {display: inline-block}\n",
              ".list-inline>li:not(:last-child)::after {content: \"\\00b7\"; padding: 0 .5ex}\n",
              "</style>\n",
              "<ol class=list-inline><li>'anio'</li><li>'mes'</li><li>'dia'</li><li>'dep_time'</li><li>'sched_dep_time'</li><li>'dep_delay'</li><li>'arr_time'</li><li>'sched_arr_time'</li><li>'arr_delay'</li><li>'carrier'</li><li>'flight'</li><li>'tailnum'</li><li>'origin'</li><li>'dest'</li><li>'air_time'</li><li>'distance'</li><li>'hour'</li><li>'minute'</li><li>'time_hour'</li></ol>\n"
            ],
            "text/markdown": "1. 'anio'\n2. 'mes'\n3. 'dia'\n4. 'dep_time'\n5. 'sched_dep_time'\n6. 'dep_delay'\n7. 'arr_time'\n8. 'sched_arr_time'\n9. 'arr_delay'\n10. 'carrier'\n11. 'flight'\n12. 'tailnum'\n13. 'origin'\n14. 'dest'\n15. 'air_time'\n16. 'distance'\n17. 'hour'\n18. 'minute'\n19. 'time_hour'\n\n\n",
            "text/latex": "\\begin{enumerate*}\n\\item 'anio'\n\\item 'mes'\n\\item 'dia'\n\\item 'dep\\_time'\n\\item 'sched\\_dep\\_time'\n\\item 'dep\\_delay'\n\\item 'arr\\_time'\n\\item 'sched\\_arr\\_time'\n\\item 'arr\\_delay'\n\\item 'carrier'\n\\item 'flight'\n\\item 'tailnum'\n\\item 'origin'\n\\item 'dest'\n\\item 'air\\_time'\n\\item 'distance'\n\\item 'hour'\n\\item 'minute'\n\\item 'time\\_hour'\n\\end{enumerate*}\n",
            "text/plain": [
              " [1] \"anio\"           \"mes\"            \"dia\"            \"dep_time\"      \n",
              " [5] \"sched_dep_time\" \"dep_delay\"      \"arr_time\"       \"sched_arr_time\"\n",
              " [9] \"arr_delay\"      \"carrier\"        \"flight\"         \"tailnum\"       \n",
              "[13] \"origin\"         \"dest\"           \"air_time\"       \"distance\"      \n",
              "[17] \"hour\"           \"minute\"         \"time_hour\"     "
            ]
          },
          "metadata": {}
        }
      ]
    },
    {
      "cell_type": "code",
      "metadata": {
        "trusted": true,
        "id": "hBiqCaokRPyy",
        "outputId": "f73b14b8-e7ca-4242-e439-75c1c67c8aef",
        "colab": {
          "base_uri": "https://localhost:8080/",
          "height": 1000
        }
      },
      "source": [
        "select(vuelos, dep_time:carrier)"
      ],
      "execution_count": null,
      "outputs": [
        {
          "output_type": "display_data",
          "data": {
            "text/html": [
              "<table class=\"dataframe\">\n",
              "<caption>A data.frame: 336776 × 7</caption>\n",
              "<thead>\n",
              "\t<tr><th scope=col>dep_time</th><th scope=col>sched_dep_time</th><th scope=col>dep_delay</th><th scope=col>arr_time</th><th scope=col>sched_arr_time</th><th scope=col>arr_delay</th><th scope=col>carrier</th></tr>\n",
              "\t<tr><th scope=col>&lt;int&gt;</th><th scope=col>&lt;int&gt;</th><th scope=col>&lt;int&gt;</th><th scope=col>&lt;int&gt;</th><th scope=col>&lt;int&gt;</th><th scope=col>&lt;int&gt;</th><th scope=col>&lt;chr&gt;</th></tr>\n",
              "</thead>\n",
              "<tbody>\n",
              "\t<tr><td>517</td><td>515</td><td> 2</td><td> 830</td><td> 819</td><td> 11</td><td>UA</td></tr>\n",
              "\t<tr><td>533</td><td>529</td><td> 4</td><td> 850</td><td> 830</td><td> 20</td><td>UA</td></tr>\n",
              "\t<tr><td>542</td><td>540</td><td> 2</td><td> 923</td><td> 850</td><td> 33</td><td>AA</td></tr>\n",
              "\t<tr><td>544</td><td>545</td><td>-1</td><td>1004</td><td>1022</td><td>-18</td><td>B6</td></tr>\n",
              "\t<tr><td>554</td><td>600</td><td>-6</td><td> 812</td><td> 837</td><td>-25</td><td>DL</td></tr>\n",
              "\t<tr><td>554</td><td>558</td><td>-4</td><td> 740</td><td> 728</td><td> 12</td><td>UA</td></tr>\n",
              "\t<tr><td>555</td><td>600</td><td>-5</td><td> 913</td><td> 854</td><td> 19</td><td>B6</td></tr>\n",
              "\t<tr><td>557</td><td>600</td><td>-3</td><td> 709</td><td> 723</td><td>-14</td><td>EV</td></tr>\n",
              "\t<tr><td>557</td><td>600</td><td>-3</td><td> 838</td><td> 846</td><td> -8</td><td>B6</td></tr>\n",
              "\t<tr><td>558</td><td>600</td><td>-2</td><td> 753</td><td> 745</td><td>  8</td><td>AA</td></tr>\n",
              "\t<tr><td>558</td><td>600</td><td>-2</td><td> 849</td><td> 851</td><td> -2</td><td>B6</td></tr>\n",
              "\t<tr><td>558</td><td>600</td><td>-2</td><td> 853</td><td> 856</td><td> -3</td><td>B6</td></tr>\n",
              "\t<tr><td>558</td><td>600</td><td>-2</td><td> 924</td><td> 917</td><td>  7</td><td>UA</td></tr>\n",
              "\t<tr><td>558</td><td>600</td><td>-2</td><td> 923</td><td> 937</td><td>-14</td><td>UA</td></tr>\n",
              "\t<tr><td>559</td><td>600</td><td>-1</td><td> 941</td><td> 910</td><td> 31</td><td>AA</td></tr>\n",
              "\t<tr><td>559</td><td>559</td><td> 0</td><td> 702</td><td> 706</td><td> -4</td><td>B6</td></tr>\n",
              "\t<tr><td>559</td><td>600</td><td>-1</td><td> 854</td><td> 902</td><td> -8</td><td>UA</td></tr>\n",
              "\t<tr><td>600</td><td>600</td><td> 0</td><td> 851</td><td> 858</td><td> -7</td><td>B6</td></tr>\n",
              "\t<tr><td>600</td><td>600</td><td> 0</td><td> 837</td><td> 825</td><td> 12</td><td>MQ</td></tr>\n",
              "\t<tr><td>601</td><td>600</td><td> 1</td><td> 844</td><td> 850</td><td> -6</td><td>B6</td></tr>\n",
              "\t<tr><td>602</td><td>610</td><td>-8</td><td> 812</td><td> 820</td><td> -8</td><td>DL</td></tr>\n",
              "\t<tr><td>602</td><td>605</td><td>-3</td><td> 821</td><td> 805</td><td> 16</td><td>MQ</td></tr>\n",
              "\t<tr><td>606</td><td>610</td><td>-4</td><td> 858</td><td> 910</td><td>-12</td><td>AA</td></tr>\n",
              "\t<tr><td>606</td><td>610</td><td>-4</td><td> 837</td><td> 845</td><td> -8</td><td>DL</td></tr>\n",
              "\t<tr><td>607</td><td>607</td><td> 0</td><td> 858</td><td> 915</td><td>-17</td><td>UA</td></tr>\n",
              "\t<tr><td>608</td><td>600</td><td> 8</td><td> 807</td><td> 735</td><td> 32</td><td>MQ</td></tr>\n",
              "\t<tr><td>611</td><td>600</td><td>11</td><td> 945</td><td> 931</td><td> 14</td><td>UA</td></tr>\n",
              "\t<tr><td>613</td><td>610</td><td> 3</td><td> 925</td><td> 921</td><td>  4</td><td>B6</td></tr>\n",
              "\t<tr><td>615</td><td>615</td><td> 0</td><td>1039</td><td>1100</td><td>-21</td><td>B6</td></tr>\n",
              "\t<tr><td>615</td><td>615</td><td> 0</td><td> 833</td><td> 842</td><td> -9</td><td>DL</td></tr>\n",
              "\t<tr><td>⋮</td><td>⋮</td><td>⋮</td><td>⋮</td><td>⋮</td><td>⋮</td><td>⋮</td></tr>\n",
              "\t<tr><td>2123</td><td>2125</td><td> -2</td><td>2223</td><td>2247</td><td>-24</td><td>EV</td></tr>\n",
              "\t<tr><td>2127</td><td>2129</td><td> -2</td><td>2314</td><td>2323</td><td> -9</td><td>EV</td></tr>\n",
              "\t<tr><td>2128</td><td>2130</td><td> -2</td><td>2328</td><td>2359</td><td>-31</td><td>B6</td></tr>\n",
              "\t<tr><td>2129</td><td>2059</td><td> 30</td><td>2230</td><td>2232</td><td> -2</td><td>EV</td></tr>\n",
              "\t<tr><td>2131</td><td>2140</td><td> -9</td><td>2225</td><td>2255</td><td>-30</td><td>MQ</td></tr>\n",
              "\t<tr><td>2140</td><td>2140</td><td>  0</td><td>  10</td><td>  40</td><td>-30</td><td>AA</td></tr>\n",
              "\t<tr><td>2142</td><td>2129</td><td> 13</td><td>2250</td><td>2239</td><td> 11</td><td>EV</td></tr>\n",
              "\t<tr><td>2145</td><td>2145</td><td>  0</td><td> 115</td><td> 140</td><td>-25</td><td>B6</td></tr>\n",
              "\t<tr><td>2147</td><td>2137</td><td> 10</td><td>  30</td><td>  27</td><td>  3</td><td>B6</td></tr>\n",
              "\t<tr><td>2149</td><td>2156</td><td> -7</td><td>2245</td><td>2308</td><td>-23</td><td>UA</td></tr>\n",
              "\t<tr><td>2150</td><td>2159</td><td> -9</td><td>2250</td><td>2306</td><td>-16</td><td>EV</td></tr>\n",
              "\t<tr><td>2159</td><td>1845</td><td>194</td><td>2344</td><td>2030</td><td>194</td><td>9E</td></tr>\n",
              "\t<tr><td>2203</td><td>2205</td><td> -2</td><td>2339</td><td>2331</td><td>  8</td><td>EV</td></tr>\n",
              "\t<tr><td>2207</td><td>2140</td><td> 27</td><td>2257</td><td>2250</td><td>  7</td><td>MQ</td></tr>\n",
              "\t<tr><td>2211</td><td>2059</td><td> 72</td><td>2339</td><td>2242</td><td> 57</td><td>EV</td></tr>\n",
              "\t<tr><td>2231</td><td>2245</td><td>-14</td><td>2335</td><td>2356</td><td>-21</td><td>B6</td></tr>\n",
              "\t<tr><td>2233</td><td>2113</td><td> 80</td><td> 112</td><td>  30</td><td> 42</td><td>UA</td></tr>\n",
              "\t<tr><td>2235</td><td>2001</td><td>154</td><td>  59</td><td>2249</td><td>130</td><td>B6</td></tr>\n",
              "\t<tr><td>2237</td><td>2245</td><td> -8</td><td>2345</td><td>2353</td><td> -8</td><td>B6</td></tr>\n",
              "\t<tr><td>2240</td><td>2245</td><td> -5</td><td>2334</td><td>2351</td><td>-17</td><td>B6</td></tr>\n",
              "\t<tr><td>2240</td><td>2250</td><td>-10</td><td>2347</td><td>   7</td><td>-20</td><td>B6</td></tr>\n",
              "\t<tr><td>2241</td><td>2246</td><td> -5</td><td>2345</td><td>   1</td><td>-16</td><td>B6</td></tr>\n",
              "\t<tr><td>2307</td><td>2255</td><td> 12</td><td>2359</td><td>2358</td><td>  1</td><td>B6</td></tr>\n",
              "\t<tr><td>2349</td><td>2359</td><td>-10</td><td> 325</td><td> 350</td><td>-25</td><td>B6</td></tr>\n",
              "\t<tr><td>  NA</td><td>1842</td><td> NA</td><td>  NA</td><td>2019</td><td> NA</td><td>EV</td></tr>\n",
              "\t<tr><td>  NA</td><td>1455</td><td> NA</td><td>  NA</td><td>1634</td><td> NA</td><td>9E</td></tr>\n",
              "\t<tr><td>  NA</td><td>2200</td><td> NA</td><td>  NA</td><td>2312</td><td> NA</td><td>9E</td></tr>\n",
              "\t<tr><td>  NA</td><td>1210</td><td> NA</td><td>  NA</td><td>1330</td><td> NA</td><td>MQ</td></tr>\n",
              "\t<tr><td>  NA</td><td>1159</td><td> NA</td><td>  NA</td><td>1344</td><td> NA</td><td>MQ</td></tr>\n",
              "\t<tr><td>  NA</td><td> 840</td><td> NA</td><td>  NA</td><td>1020</td><td> NA</td><td>MQ</td></tr>\n",
              "</tbody>\n",
              "</table>\n"
            ],
            "text/markdown": "\nA data.frame: 336776 × 7\n\n| dep_time &lt;int&gt; | sched_dep_time &lt;int&gt; | dep_delay &lt;int&gt; | arr_time &lt;int&gt; | sched_arr_time &lt;int&gt; | arr_delay &lt;int&gt; | carrier &lt;chr&gt; |\n|---|---|---|---|---|---|---|\n| 517 | 515 |  2 |  830 |  819 |  11 | UA |\n| 533 | 529 |  4 |  850 |  830 |  20 | UA |\n| 542 | 540 |  2 |  923 |  850 |  33 | AA |\n| 544 | 545 | -1 | 1004 | 1022 | -18 | B6 |\n| 554 | 600 | -6 |  812 |  837 | -25 | DL |\n| 554 | 558 | -4 |  740 |  728 |  12 | UA |\n| 555 | 600 | -5 |  913 |  854 |  19 | B6 |\n| 557 | 600 | -3 |  709 |  723 | -14 | EV |\n| 557 | 600 | -3 |  838 |  846 |  -8 | B6 |\n| 558 | 600 | -2 |  753 |  745 |   8 | AA |\n| 558 | 600 | -2 |  849 |  851 |  -2 | B6 |\n| 558 | 600 | -2 |  853 |  856 |  -3 | B6 |\n| 558 | 600 | -2 |  924 |  917 |   7 | UA |\n| 558 | 600 | -2 |  923 |  937 | -14 | UA |\n| 559 | 600 | -1 |  941 |  910 |  31 | AA |\n| 559 | 559 |  0 |  702 |  706 |  -4 | B6 |\n| 559 | 600 | -1 |  854 |  902 |  -8 | UA |\n| 600 | 600 |  0 |  851 |  858 |  -7 | B6 |\n| 600 | 600 |  0 |  837 |  825 |  12 | MQ |\n| 601 | 600 |  1 |  844 |  850 |  -6 | B6 |\n| 602 | 610 | -8 |  812 |  820 |  -8 | DL |\n| 602 | 605 | -3 |  821 |  805 |  16 | MQ |\n| 606 | 610 | -4 |  858 |  910 | -12 | AA |\n| 606 | 610 | -4 |  837 |  845 |  -8 | DL |\n| 607 | 607 |  0 |  858 |  915 | -17 | UA |\n| 608 | 600 |  8 |  807 |  735 |  32 | MQ |\n| 611 | 600 | 11 |  945 |  931 |  14 | UA |\n| 613 | 610 |  3 |  925 |  921 |   4 | B6 |\n| 615 | 615 |  0 | 1039 | 1100 | -21 | B6 |\n| 615 | 615 |  0 |  833 |  842 |  -9 | DL |\n| ⋮ | ⋮ | ⋮ | ⋮ | ⋮ | ⋮ | ⋮ |\n| 2123 | 2125 |  -2 | 2223 | 2247 | -24 | EV |\n| 2127 | 2129 |  -2 | 2314 | 2323 |  -9 | EV |\n| 2128 | 2130 |  -2 | 2328 | 2359 | -31 | B6 |\n| 2129 | 2059 |  30 | 2230 | 2232 |  -2 | EV |\n| 2131 | 2140 |  -9 | 2225 | 2255 | -30 | MQ |\n| 2140 | 2140 |   0 |   10 |   40 | -30 | AA |\n| 2142 | 2129 |  13 | 2250 | 2239 |  11 | EV |\n| 2145 | 2145 |   0 |  115 |  140 | -25 | B6 |\n| 2147 | 2137 |  10 |   30 |   27 |   3 | B6 |\n| 2149 | 2156 |  -7 | 2245 | 2308 | -23 | UA |\n| 2150 | 2159 |  -9 | 2250 | 2306 | -16 | EV |\n| 2159 | 1845 | 194 | 2344 | 2030 | 194 | 9E |\n| 2203 | 2205 |  -2 | 2339 | 2331 |   8 | EV |\n| 2207 | 2140 |  27 | 2257 | 2250 |   7 | MQ |\n| 2211 | 2059 |  72 | 2339 | 2242 |  57 | EV |\n| 2231 | 2245 | -14 | 2335 | 2356 | -21 | B6 |\n| 2233 | 2113 |  80 |  112 |   30 |  42 | UA |\n| 2235 | 2001 | 154 |   59 | 2249 | 130 | B6 |\n| 2237 | 2245 |  -8 | 2345 | 2353 |  -8 | B6 |\n| 2240 | 2245 |  -5 | 2334 | 2351 | -17 | B6 |\n| 2240 | 2250 | -10 | 2347 |    7 | -20 | B6 |\n| 2241 | 2246 |  -5 | 2345 |    1 | -16 | B6 |\n| 2307 | 2255 |  12 | 2359 | 2358 |   1 | B6 |\n| 2349 | 2359 | -10 |  325 |  350 | -25 | B6 |\n|   NA | 1842 |  NA |   NA | 2019 |  NA | EV |\n|   NA | 1455 |  NA |   NA | 1634 |  NA | 9E |\n|   NA | 2200 |  NA |   NA | 2312 |  NA | 9E |\n|   NA | 1210 |  NA |   NA | 1330 |  NA | MQ |\n|   NA | 1159 |  NA |   NA | 1344 |  NA | MQ |\n|   NA |  840 |  NA |   NA | 1020 |  NA | MQ |\n\n",
            "text/latex": "A data.frame: 336776 × 7\n\\begin{tabular}{lllllll}\n dep\\_time & sched\\_dep\\_time & dep\\_delay & arr\\_time & sched\\_arr\\_time & arr\\_delay & carrier\\\\\n <int> & <int> & <int> & <int> & <int> & <int> & <chr>\\\\\n\\hline\n\t 517 & 515 &  2 &  830 &  819 &  11 & UA\\\\\n\t 533 & 529 &  4 &  850 &  830 &  20 & UA\\\\\n\t 542 & 540 &  2 &  923 &  850 &  33 & AA\\\\\n\t 544 & 545 & -1 & 1004 & 1022 & -18 & B6\\\\\n\t 554 & 600 & -6 &  812 &  837 & -25 & DL\\\\\n\t 554 & 558 & -4 &  740 &  728 &  12 & UA\\\\\n\t 555 & 600 & -5 &  913 &  854 &  19 & B6\\\\\n\t 557 & 600 & -3 &  709 &  723 & -14 & EV\\\\\n\t 557 & 600 & -3 &  838 &  846 &  -8 & B6\\\\\n\t 558 & 600 & -2 &  753 &  745 &   8 & AA\\\\\n\t 558 & 600 & -2 &  849 &  851 &  -2 & B6\\\\\n\t 558 & 600 & -2 &  853 &  856 &  -3 & B6\\\\\n\t 558 & 600 & -2 &  924 &  917 &   7 & UA\\\\\n\t 558 & 600 & -2 &  923 &  937 & -14 & UA\\\\\n\t 559 & 600 & -1 &  941 &  910 &  31 & AA\\\\\n\t 559 & 559 &  0 &  702 &  706 &  -4 & B6\\\\\n\t 559 & 600 & -1 &  854 &  902 &  -8 & UA\\\\\n\t 600 & 600 &  0 &  851 &  858 &  -7 & B6\\\\\n\t 600 & 600 &  0 &  837 &  825 &  12 & MQ\\\\\n\t 601 & 600 &  1 &  844 &  850 &  -6 & B6\\\\\n\t 602 & 610 & -8 &  812 &  820 &  -8 & DL\\\\\n\t 602 & 605 & -3 &  821 &  805 &  16 & MQ\\\\\n\t 606 & 610 & -4 &  858 &  910 & -12 & AA\\\\\n\t 606 & 610 & -4 &  837 &  845 &  -8 & DL\\\\\n\t 607 & 607 &  0 &  858 &  915 & -17 & UA\\\\\n\t 608 & 600 &  8 &  807 &  735 &  32 & MQ\\\\\n\t 611 & 600 & 11 &  945 &  931 &  14 & UA\\\\\n\t 613 & 610 &  3 &  925 &  921 &   4 & B6\\\\\n\t 615 & 615 &  0 & 1039 & 1100 & -21 & B6\\\\\n\t 615 & 615 &  0 &  833 &  842 &  -9 & DL\\\\\n\t ⋮ & ⋮ & ⋮ & ⋮ & ⋮ & ⋮ & ⋮\\\\\n\t 2123 & 2125 &  -2 & 2223 & 2247 & -24 & EV\\\\\n\t 2127 & 2129 &  -2 & 2314 & 2323 &  -9 & EV\\\\\n\t 2128 & 2130 &  -2 & 2328 & 2359 & -31 & B6\\\\\n\t 2129 & 2059 &  30 & 2230 & 2232 &  -2 & EV\\\\\n\t 2131 & 2140 &  -9 & 2225 & 2255 & -30 & MQ\\\\\n\t 2140 & 2140 &   0 &   10 &   40 & -30 & AA\\\\\n\t 2142 & 2129 &  13 & 2250 & 2239 &  11 & EV\\\\\n\t 2145 & 2145 &   0 &  115 &  140 & -25 & B6\\\\\n\t 2147 & 2137 &  10 &   30 &   27 &   3 & B6\\\\\n\t 2149 & 2156 &  -7 & 2245 & 2308 & -23 & UA\\\\\n\t 2150 & 2159 &  -9 & 2250 & 2306 & -16 & EV\\\\\n\t 2159 & 1845 & 194 & 2344 & 2030 & 194 & 9E\\\\\n\t 2203 & 2205 &  -2 & 2339 & 2331 &   8 & EV\\\\\n\t 2207 & 2140 &  27 & 2257 & 2250 &   7 & MQ\\\\\n\t 2211 & 2059 &  72 & 2339 & 2242 &  57 & EV\\\\\n\t 2231 & 2245 & -14 & 2335 & 2356 & -21 & B6\\\\\n\t 2233 & 2113 &  80 &  112 &   30 &  42 & UA\\\\\n\t 2235 & 2001 & 154 &   59 & 2249 & 130 & B6\\\\\n\t 2237 & 2245 &  -8 & 2345 & 2353 &  -8 & B6\\\\\n\t 2240 & 2245 &  -5 & 2334 & 2351 & -17 & B6\\\\\n\t 2240 & 2250 & -10 & 2347 &    7 & -20 & B6\\\\\n\t 2241 & 2246 &  -5 & 2345 &    1 & -16 & B6\\\\\n\t 2307 & 2255 &  12 & 2359 & 2358 &   1 & B6\\\\\n\t 2349 & 2359 & -10 &  325 &  350 & -25 & B6\\\\\n\t   NA & 1842 &  NA &   NA & 2019 &  NA & EV\\\\\n\t   NA & 1455 &  NA &   NA & 1634 &  NA & 9E\\\\\n\t   NA & 2200 &  NA &   NA & 2312 &  NA & 9E\\\\\n\t   NA & 1210 &  NA &   NA & 1330 &  NA & MQ\\\\\n\t   NA & 1159 &  NA &   NA & 1344 &  NA & MQ\\\\\n\t   NA &  840 &  NA &   NA & 1020 &  NA & MQ\\\\\n\\end{tabular}\n",
            "text/plain": [
              "       dep_time sched_dep_time dep_delay arr_time sched_arr_time arr_delay\n",
              "1      517      515             2         830      819            11      \n",
              "2      533      529             4         850      830            20      \n",
              "3      542      540             2         923      850            33      \n",
              "4      544      545            -1        1004     1022           -18      \n",
              "5      554      600            -6         812      837           -25      \n",
              "6      554      558            -4         740      728            12      \n",
              "7      555      600            -5         913      854            19      \n",
              "8      557      600            -3         709      723           -14      \n",
              "9      557      600            -3         838      846            -8      \n",
              "10     558      600            -2         753      745             8      \n",
              "11     558      600            -2         849      851            -2      \n",
              "12     558      600            -2         853      856            -3      \n",
              "13     558      600            -2         924      917             7      \n",
              "14     558      600            -2         923      937           -14      \n",
              "15     559      600            -1         941      910            31      \n",
              "16     559      559             0         702      706            -4      \n",
              "17     559      600            -1         854      902            -8      \n",
              "18     600      600             0         851      858            -7      \n",
              "19     600      600             0         837      825            12      \n",
              "20     601      600             1         844      850            -6      \n",
              "21     602      610            -8         812      820            -8      \n",
              "22     602      605            -3         821      805            16      \n",
              "23     606      610            -4         858      910           -12      \n",
              "24     606      610            -4         837      845            -8      \n",
              "25     607      607             0         858      915           -17      \n",
              "26     608      600             8         807      735            32      \n",
              "27     611      600            11         945      931            14      \n",
              "28     613      610             3         925      921             4      \n",
              "29     615      615             0        1039     1100           -21      \n",
              "30     615      615             0         833      842            -9      \n",
              "⋮      ⋮        ⋮              ⋮         ⋮        ⋮              ⋮        \n",
              "336747 2123     2125            -2       2223     2247           -24      \n",
              "336748 2127     2129            -2       2314     2323            -9      \n",
              "336749 2128     2130            -2       2328     2359           -31      \n",
              "336750 2129     2059            30       2230     2232            -2      \n",
              "336751 2131     2140            -9       2225     2255           -30      \n",
              "336752 2140     2140             0         10       40           -30      \n",
              "336753 2142     2129            13       2250     2239            11      \n",
              "336754 2145     2145             0        115      140           -25      \n",
              "336755 2147     2137            10         30       27             3      \n",
              "336756 2149     2156            -7       2245     2308           -23      \n",
              "336757 2150     2159            -9       2250     2306           -16      \n",
              "336758 2159     1845           194       2344     2030           194      \n",
              "336759 2203     2205            -2       2339     2331             8      \n",
              "336760 2207     2140            27       2257     2250             7      \n",
              "336761 2211     2059            72       2339     2242            57      \n",
              "336762 2231     2245           -14       2335     2356           -21      \n",
              "336763 2233     2113            80        112       30            42      \n",
              "336764 2235     2001           154         59     2249           130      \n",
              "336765 2237     2245            -8       2345     2353            -8      \n",
              "336766 2240     2245            -5       2334     2351           -17      \n",
              "336767 2240     2250           -10       2347        7           -20      \n",
              "336768 2241     2246            -5       2345        1           -16      \n",
              "336769 2307     2255            12       2359     2358             1      \n",
              "336770 2349     2359           -10        325      350           -25      \n",
              "336771   NA     1842            NA         NA     2019            NA      \n",
              "336772   NA     1455            NA         NA     1634            NA      \n",
              "336773   NA     2200            NA         NA     2312            NA      \n",
              "336774   NA     1210            NA         NA     1330            NA      \n",
              "336775   NA     1159            NA         NA     1344            NA      \n",
              "336776   NA      840            NA         NA     1020            NA      \n",
              "       carrier\n",
              "1      UA     \n",
              "2      UA     \n",
              "3      AA     \n",
              "4      B6     \n",
              "5      DL     \n",
              "6      UA     \n",
              "7      B6     \n",
              "8      EV     \n",
              "9      B6     \n",
              "10     AA     \n",
              "11     B6     \n",
              "12     B6     \n",
              "13     UA     \n",
              "14     UA     \n",
              "15     AA     \n",
              "16     B6     \n",
              "17     UA     \n",
              "18     B6     \n",
              "19     MQ     \n",
              "20     B6     \n",
              "21     DL     \n",
              "22     MQ     \n",
              "23     AA     \n",
              "24     DL     \n",
              "25     UA     \n",
              "26     MQ     \n",
              "27     UA     \n",
              "28     B6     \n",
              "29     B6     \n",
              "30     DL     \n",
              "⋮      ⋮      \n",
              "336747 EV     \n",
              "336748 EV     \n",
              "336749 B6     \n",
              "336750 EV     \n",
              "336751 MQ     \n",
              "336752 AA     \n",
              "336753 EV     \n",
              "336754 B6     \n",
              "336755 B6     \n",
              "336756 UA     \n",
              "336757 EV     \n",
              "336758 9E     \n",
              "336759 EV     \n",
              "336760 MQ     \n",
              "336761 EV     \n",
              "336762 B6     \n",
              "336763 UA     \n",
              "336764 B6     \n",
              "336765 B6     \n",
              "336766 B6     \n",
              "336767 B6     \n",
              "336768 B6     \n",
              "336769 B6     \n",
              "336770 B6     \n",
              "336771 EV     \n",
              "336772 9E     \n",
              "336773 9E     \n",
              "336774 MQ     \n",
              "336775 MQ     \n",
              "336776 MQ     "
            ]
          },
          "metadata": {}
        }
      ]
    },
    {
      "cell_type": "markdown",
      "metadata": {
        "id": "6k5I_iHZRPy0"
      },
      "source": [
        "### 4.4 Función mutate()\n",
        "\n",
        "Una de las funciones más útiles de dplyr es la función mutate(), la cual permite crear nuevas columnas, o modificar las existentes."
      ]
    },
    {
      "cell_type": "code",
      "metadata": {
        "trusted": true,
        "scrolled": false,
        "id": "id5cyTJ2RPy0"
      },
      "source": [
        "# mutate() ----------------------------------------------------------------\n",
        "# Crear una nueva columna llamada retraso_neto, que contenga la suma de arr_delay y dep_delay\n",
        "\n",
        "#antes\n",
        "vuelos$retraso_neto1 <- vuelos$arr_delay + vuelos$dep_delay # define la col en el data.frame\n"
      ],
      "execution_count": null,
      "outputs": []
    },
    {
      "cell_type": "code",
      "source": [
        "head(vuelos)"
      ],
      "metadata": {
        "id": "xsR_3jUyqPCJ",
        "outputId": "a2335da9-deed-4e5a-dcb3-ff6eddf9837b",
        "colab": {
          "base_uri": "https://localhost:8080/",
          "height": 286
        }
      },
      "execution_count": null,
      "outputs": [
        {
          "output_type": "display_data",
          "data": {
            "text/html": [
              "<table class=\"dataframe\">\n",
              "<caption>A data.frame: 6 × 20</caption>\n",
              "<thead>\n",
              "\t<tr><th></th><th scope=col>anio</th><th scope=col>mes</th><th scope=col>dia</th><th scope=col>dep_time</th><th scope=col>sched_dep_time</th><th scope=col>dep_delay</th><th scope=col>arr_time</th><th scope=col>sched_arr_time</th><th scope=col>arr_delay</th><th scope=col>carrier</th><th scope=col>flight</th><th scope=col>tailnum</th><th scope=col>origin</th><th scope=col>dest</th><th scope=col>air_time</th><th scope=col>distance</th><th scope=col>hour</th><th scope=col>minute</th><th scope=col>time_hour</th><th scope=col>retraso_neto1</th></tr>\n",
              "\t<tr><th></th><th scope=col>&lt;int&gt;</th><th scope=col>&lt;int&gt;</th><th scope=col>&lt;int&gt;</th><th scope=col>&lt;int&gt;</th><th scope=col>&lt;int&gt;</th><th scope=col>&lt;int&gt;</th><th scope=col>&lt;int&gt;</th><th scope=col>&lt;int&gt;</th><th scope=col>&lt;int&gt;</th><th scope=col>&lt;chr&gt;</th><th scope=col>&lt;int&gt;</th><th scope=col>&lt;chr&gt;</th><th scope=col>&lt;chr&gt;</th><th scope=col>&lt;chr&gt;</th><th scope=col>&lt;int&gt;</th><th scope=col>&lt;int&gt;</th><th scope=col>&lt;int&gt;</th><th scope=col>&lt;int&gt;</th><th scope=col>&lt;chr&gt;</th><th scope=col>&lt;int&gt;</th></tr>\n",
              "</thead>\n",
              "<tbody>\n",
              "\t<tr><th scope=row>1</th><td>2013</td><td>1</td><td>1</td><td>517</td><td>515</td><td> 2</td><td> 830</td><td> 819</td><td> 11</td><td>UA</td><td>1545</td><td>N14228</td><td>EWR</td><td>IAH</td><td>227</td><td>1400</td><td>5</td><td>15</td><td>2013-01-01 05:00:00</td><td> 13</td></tr>\n",
              "\t<tr><th scope=row>2</th><td>2013</td><td>1</td><td>1</td><td>533</td><td>529</td><td> 4</td><td> 850</td><td> 830</td><td> 20</td><td>UA</td><td>1714</td><td>N24211</td><td>LGA</td><td>IAH</td><td>227</td><td>1416</td><td>5</td><td>29</td><td>2013-01-01 05:00:00</td><td> 24</td></tr>\n",
              "\t<tr><th scope=row>3</th><td>2013</td><td>1</td><td>1</td><td>542</td><td>540</td><td> 2</td><td> 923</td><td> 850</td><td> 33</td><td>AA</td><td>1141</td><td>N619AA</td><td>JFK</td><td>MIA</td><td>160</td><td>1089</td><td>5</td><td>40</td><td>2013-01-01 05:00:00</td><td> 35</td></tr>\n",
              "\t<tr><th scope=row>4</th><td>2013</td><td>1</td><td>1</td><td>544</td><td>545</td><td>-1</td><td>1004</td><td>1022</td><td>-18</td><td>B6</td><td> 725</td><td>N804JB</td><td>JFK</td><td>BQN</td><td>183</td><td>1576</td><td>5</td><td>45</td><td>2013-01-01 05:00:00</td><td>-19</td></tr>\n",
              "\t<tr><th scope=row>5</th><td>2013</td><td>1</td><td>1</td><td>554</td><td>600</td><td>-6</td><td> 812</td><td> 837</td><td>-25</td><td>DL</td><td> 461</td><td>N668DN</td><td>LGA</td><td>ATL</td><td>116</td><td> 762</td><td>6</td><td> 0</td><td>2013-01-01 06:00:00</td><td>-31</td></tr>\n",
              "\t<tr><th scope=row>6</th><td>2013</td><td>1</td><td>1</td><td>554</td><td>558</td><td>-4</td><td> 740</td><td> 728</td><td> 12</td><td>UA</td><td>1696</td><td>N39463</td><td>EWR</td><td>ORD</td><td>150</td><td> 719</td><td>5</td><td>58</td><td>2013-01-01 05:00:00</td><td>  8</td></tr>\n",
              "</tbody>\n",
              "</table>\n"
            ],
            "text/markdown": "\nA data.frame: 6 × 20\n\n| <!--/--> | anio &lt;int&gt; | mes &lt;int&gt; | dia &lt;int&gt; | dep_time &lt;int&gt; | sched_dep_time &lt;int&gt; | dep_delay &lt;int&gt; | arr_time &lt;int&gt; | sched_arr_time &lt;int&gt; | arr_delay &lt;int&gt; | carrier &lt;chr&gt; | flight &lt;int&gt; | tailnum &lt;chr&gt; | origin &lt;chr&gt; | dest &lt;chr&gt; | air_time &lt;int&gt; | distance &lt;int&gt; | hour &lt;int&gt; | minute &lt;int&gt; | time_hour &lt;chr&gt; | retraso_neto1 &lt;int&gt; |\n|---|---|---|---|---|---|---|---|---|---|---|---|---|---|---|---|---|---|---|---|---|\n| 1 | 2013 | 1 | 1 | 517 | 515 |  2 |  830 |  819 |  11 | UA | 1545 | N14228 | EWR | IAH | 227 | 1400 | 5 | 15 | 2013-01-01 05:00:00 |  13 |\n| 2 | 2013 | 1 | 1 | 533 | 529 |  4 |  850 |  830 |  20 | UA | 1714 | N24211 | LGA | IAH | 227 | 1416 | 5 | 29 | 2013-01-01 05:00:00 |  24 |\n| 3 | 2013 | 1 | 1 | 542 | 540 |  2 |  923 |  850 |  33 | AA | 1141 | N619AA | JFK | MIA | 160 | 1089 | 5 | 40 | 2013-01-01 05:00:00 |  35 |\n| 4 | 2013 | 1 | 1 | 544 | 545 | -1 | 1004 | 1022 | -18 | B6 |  725 | N804JB | JFK | BQN | 183 | 1576 | 5 | 45 | 2013-01-01 05:00:00 | -19 |\n| 5 | 2013 | 1 | 1 | 554 | 600 | -6 |  812 |  837 | -25 | DL |  461 | N668DN | LGA | ATL | 116 |  762 | 6 |  0 | 2013-01-01 06:00:00 | -31 |\n| 6 | 2013 | 1 | 1 | 554 | 558 | -4 |  740 |  728 |  12 | UA | 1696 | N39463 | EWR | ORD | 150 |  719 | 5 | 58 | 2013-01-01 05:00:00 |   8 |\n\n",
            "text/latex": "A data.frame: 6 × 20\n\\begin{tabular}{r|llllllllllllllllllll}\n  & anio & mes & dia & dep\\_time & sched\\_dep\\_time & dep\\_delay & arr\\_time & sched\\_arr\\_time & arr\\_delay & carrier & flight & tailnum & origin & dest & air\\_time & distance & hour & minute & time\\_hour & retraso\\_neto1\\\\\n  & <int> & <int> & <int> & <int> & <int> & <int> & <int> & <int> & <int> & <chr> & <int> & <chr> & <chr> & <chr> & <int> & <int> & <int> & <int> & <chr> & <int>\\\\\n\\hline\n\t1 & 2013 & 1 & 1 & 517 & 515 &  2 &  830 &  819 &  11 & UA & 1545 & N14228 & EWR & IAH & 227 & 1400 & 5 & 15 & 2013-01-01 05:00:00 &  13\\\\\n\t2 & 2013 & 1 & 1 & 533 & 529 &  4 &  850 &  830 &  20 & UA & 1714 & N24211 & LGA & IAH & 227 & 1416 & 5 & 29 & 2013-01-01 05:00:00 &  24\\\\\n\t3 & 2013 & 1 & 1 & 542 & 540 &  2 &  923 &  850 &  33 & AA & 1141 & N619AA & JFK & MIA & 160 & 1089 & 5 & 40 & 2013-01-01 05:00:00 &  35\\\\\n\t4 & 2013 & 1 & 1 & 544 & 545 & -1 & 1004 & 1022 & -18 & B6 &  725 & N804JB & JFK & BQN & 183 & 1576 & 5 & 45 & 2013-01-01 05:00:00 & -19\\\\\n\t5 & 2013 & 1 & 1 & 554 & 600 & -6 &  812 &  837 & -25 & DL &  461 & N668DN & LGA & ATL & 116 &  762 & 6 &  0 & 2013-01-01 06:00:00 & -31\\\\\n\t6 & 2013 & 1 & 1 & 554 & 558 & -4 &  740 &  728 &  12 & UA & 1696 & N39463 & EWR & ORD & 150 &  719 & 5 & 58 & 2013-01-01 05:00:00 &   8\\\\\n\\end{tabular}\n",
            "text/plain": [
              "  anio mes dia dep_time sched_dep_time dep_delay arr_time sched_arr_time\n",
              "1 2013 1   1   517      515             2         830      819          \n",
              "2 2013 1   1   533      529             4         850      830          \n",
              "3 2013 1   1   542      540             2         923      850          \n",
              "4 2013 1   1   544      545            -1        1004     1022          \n",
              "5 2013 1   1   554      600            -6         812      837          \n",
              "6 2013 1   1   554      558            -4         740      728          \n",
              "  arr_delay carrier flight tailnum origin dest air_time distance hour minute\n",
              "1  11       UA      1545   N14228  EWR    IAH  227      1400     5    15    \n",
              "2  20       UA      1714   N24211  LGA    IAH  227      1416     5    29    \n",
              "3  33       AA      1141   N619AA  JFK    MIA  160      1089     5    40    \n",
              "4 -18       B6       725   N804JB  JFK    BQN  183      1576     5    45    \n",
              "5 -25       DL       461   N668DN  LGA    ATL  116       762     6     0    \n",
              "6  12       UA      1696   N39463  EWR    ORD  150       719     5    58    \n",
              "  time_hour           retraso_neto1\n",
              "1 2013-01-01 05:00:00  13          \n",
              "2 2013-01-01 05:00:00  24          \n",
              "3 2013-01-01 05:00:00  35          \n",
              "4 2013-01-01 05:00:00 -19          \n",
              "5 2013-01-01 06:00:00 -31          \n",
              "6 2013-01-01 05:00:00   8          "
            ]
          },
          "metadata": {}
        }
      ]
    },
    {
      "cell_type": "code",
      "source": [
        "#ahora\n",
        "mutate(vuelos, retraso_neto = arr_delay + dep_delay)\n",
        "\n"
      ],
      "metadata": {
        "id": "dtsK2BAyqNtV",
        "outputId": "3b8b3a27-c2b1-4e5c-9ba3-708f884c8081",
        "colab": {
          "base_uri": "https://localhost:8080/",
          "height": 1000
        }
      },
      "execution_count": null,
      "outputs": [
        {
          "output_type": "display_data",
          "data": {
            "text/html": [
              "<table class=\"dataframe\">\n",
              "<caption>A data.frame: 336776 × 21</caption>\n",
              "<thead>\n",
              "\t<tr><th scope=col>anio</th><th scope=col>mes</th><th scope=col>dia</th><th scope=col>dep_time</th><th scope=col>sched_dep_time</th><th scope=col>dep_delay</th><th scope=col>arr_time</th><th scope=col>sched_arr_time</th><th scope=col>arr_delay</th><th scope=col>carrier</th><th scope=col>⋯</th><th scope=col>tailnum</th><th scope=col>origin</th><th scope=col>dest</th><th scope=col>air_time</th><th scope=col>distance</th><th scope=col>hour</th><th scope=col>minute</th><th scope=col>time_hour</th><th scope=col>retraso_neto1</th><th scope=col>retraso_neto</th></tr>\n",
              "\t<tr><th scope=col>&lt;int&gt;</th><th scope=col>&lt;int&gt;</th><th scope=col>&lt;int&gt;</th><th scope=col>&lt;int&gt;</th><th scope=col>&lt;int&gt;</th><th scope=col>&lt;int&gt;</th><th scope=col>&lt;int&gt;</th><th scope=col>&lt;int&gt;</th><th scope=col>&lt;int&gt;</th><th scope=col>&lt;chr&gt;</th><th scope=col>⋯</th><th scope=col>&lt;chr&gt;</th><th scope=col>&lt;chr&gt;</th><th scope=col>&lt;chr&gt;</th><th scope=col>&lt;int&gt;</th><th scope=col>&lt;int&gt;</th><th scope=col>&lt;int&gt;</th><th scope=col>&lt;int&gt;</th><th scope=col>&lt;chr&gt;</th><th scope=col>&lt;int&gt;</th><th scope=col>&lt;int&gt;</th></tr>\n",
              "</thead>\n",
              "<tbody>\n",
              "\t<tr><td>2013</td><td>1</td><td>1</td><td>517</td><td>515</td><td> 2</td><td> 830</td><td> 819</td><td> 11</td><td>UA</td><td>⋯</td><td>N14228</td><td>EWR</td><td>IAH</td><td>227</td><td>1400</td><td>5</td><td>15</td><td>2013-01-01 05:00:00</td><td> 13</td><td> 13</td></tr>\n",
              "\t<tr><td>2013</td><td>1</td><td>1</td><td>533</td><td>529</td><td> 4</td><td> 850</td><td> 830</td><td> 20</td><td>UA</td><td>⋯</td><td>N24211</td><td>LGA</td><td>IAH</td><td>227</td><td>1416</td><td>5</td><td>29</td><td>2013-01-01 05:00:00</td><td> 24</td><td> 24</td></tr>\n",
              "\t<tr><td>2013</td><td>1</td><td>1</td><td>542</td><td>540</td><td> 2</td><td> 923</td><td> 850</td><td> 33</td><td>AA</td><td>⋯</td><td>N619AA</td><td>JFK</td><td>MIA</td><td>160</td><td>1089</td><td>5</td><td>40</td><td>2013-01-01 05:00:00</td><td> 35</td><td> 35</td></tr>\n",
              "\t<tr><td>2013</td><td>1</td><td>1</td><td>544</td><td>545</td><td>-1</td><td>1004</td><td>1022</td><td>-18</td><td>B6</td><td>⋯</td><td>N804JB</td><td>JFK</td><td>BQN</td><td>183</td><td>1576</td><td>5</td><td>45</td><td>2013-01-01 05:00:00</td><td>-19</td><td>-19</td></tr>\n",
              "\t<tr><td>2013</td><td>1</td><td>1</td><td>554</td><td>600</td><td>-6</td><td> 812</td><td> 837</td><td>-25</td><td>DL</td><td>⋯</td><td>N668DN</td><td>LGA</td><td>ATL</td><td>116</td><td> 762</td><td>6</td><td> 0</td><td>2013-01-01 06:00:00</td><td>-31</td><td>-31</td></tr>\n",
              "\t<tr><td>2013</td><td>1</td><td>1</td><td>554</td><td>558</td><td>-4</td><td> 740</td><td> 728</td><td> 12</td><td>UA</td><td>⋯</td><td>N39463</td><td>EWR</td><td>ORD</td><td>150</td><td> 719</td><td>5</td><td>58</td><td>2013-01-01 05:00:00</td><td>  8</td><td>  8</td></tr>\n",
              "\t<tr><td>2013</td><td>1</td><td>1</td><td>555</td><td>600</td><td>-5</td><td> 913</td><td> 854</td><td> 19</td><td>B6</td><td>⋯</td><td>N516JB</td><td>EWR</td><td>FLL</td><td>158</td><td>1065</td><td>6</td><td> 0</td><td>2013-01-01 06:00:00</td><td> 14</td><td> 14</td></tr>\n",
              "\t<tr><td>2013</td><td>1</td><td>1</td><td>557</td><td>600</td><td>-3</td><td> 709</td><td> 723</td><td>-14</td><td>EV</td><td>⋯</td><td>N829AS</td><td>LGA</td><td>IAD</td><td> 53</td><td> 229</td><td>6</td><td> 0</td><td>2013-01-01 06:00:00</td><td>-17</td><td>-17</td></tr>\n",
              "\t<tr><td>2013</td><td>1</td><td>1</td><td>557</td><td>600</td><td>-3</td><td> 838</td><td> 846</td><td> -8</td><td>B6</td><td>⋯</td><td>N593JB</td><td>JFK</td><td>MCO</td><td>140</td><td> 944</td><td>6</td><td> 0</td><td>2013-01-01 06:00:00</td><td>-11</td><td>-11</td></tr>\n",
              "\t<tr><td>2013</td><td>1</td><td>1</td><td>558</td><td>600</td><td>-2</td><td> 753</td><td> 745</td><td>  8</td><td>AA</td><td>⋯</td><td>N3ALAA</td><td>LGA</td><td>ORD</td><td>138</td><td> 733</td><td>6</td><td> 0</td><td>2013-01-01 06:00:00</td><td>  6</td><td>  6</td></tr>\n",
              "\t<tr><td>2013</td><td>1</td><td>1</td><td>558</td><td>600</td><td>-2</td><td> 849</td><td> 851</td><td> -2</td><td>B6</td><td>⋯</td><td>N793JB</td><td>JFK</td><td>PBI</td><td>149</td><td>1028</td><td>6</td><td> 0</td><td>2013-01-01 06:00:00</td><td> -4</td><td> -4</td></tr>\n",
              "\t<tr><td>2013</td><td>1</td><td>1</td><td>558</td><td>600</td><td>-2</td><td> 853</td><td> 856</td><td> -3</td><td>B6</td><td>⋯</td><td>N657JB</td><td>JFK</td><td>TPA</td><td>158</td><td>1005</td><td>6</td><td> 0</td><td>2013-01-01 06:00:00</td><td> -5</td><td> -5</td></tr>\n",
              "\t<tr><td>2013</td><td>1</td><td>1</td><td>558</td><td>600</td><td>-2</td><td> 924</td><td> 917</td><td>  7</td><td>UA</td><td>⋯</td><td>N29129</td><td>JFK</td><td>LAX</td><td>345</td><td>2475</td><td>6</td><td> 0</td><td>2013-01-01 06:00:00</td><td>  5</td><td>  5</td></tr>\n",
              "\t<tr><td>2013</td><td>1</td><td>1</td><td>558</td><td>600</td><td>-2</td><td> 923</td><td> 937</td><td>-14</td><td>UA</td><td>⋯</td><td>N53441</td><td>EWR</td><td>SFO</td><td>361</td><td>2565</td><td>6</td><td> 0</td><td>2013-01-01 06:00:00</td><td>-16</td><td>-16</td></tr>\n",
              "\t<tr><td>2013</td><td>1</td><td>1</td><td>559</td><td>600</td><td>-1</td><td> 941</td><td> 910</td><td> 31</td><td>AA</td><td>⋯</td><td>N3DUAA</td><td>LGA</td><td>DFW</td><td>257</td><td>1389</td><td>6</td><td> 0</td><td>2013-01-01 06:00:00</td><td> 30</td><td> 30</td></tr>\n",
              "\t<tr><td>2013</td><td>1</td><td>1</td><td>559</td><td>559</td><td> 0</td><td> 702</td><td> 706</td><td> -4</td><td>B6</td><td>⋯</td><td>N708JB</td><td>JFK</td><td>BOS</td><td> 44</td><td> 187</td><td>5</td><td>59</td><td>2013-01-01 05:00:00</td><td> -4</td><td> -4</td></tr>\n",
              "\t<tr><td>2013</td><td>1</td><td>1</td><td>559</td><td>600</td><td>-1</td><td> 854</td><td> 902</td><td> -8</td><td>UA</td><td>⋯</td><td>N76515</td><td>EWR</td><td>LAS</td><td>337</td><td>2227</td><td>6</td><td> 0</td><td>2013-01-01 06:00:00</td><td> -9</td><td> -9</td></tr>\n",
              "\t<tr><td>2013</td><td>1</td><td>1</td><td>600</td><td>600</td><td> 0</td><td> 851</td><td> 858</td><td> -7</td><td>B6</td><td>⋯</td><td>N595JB</td><td>LGA</td><td>FLL</td><td>152</td><td>1076</td><td>6</td><td> 0</td><td>2013-01-01 06:00:00</td><td> -7</td><td> -7</td></tr>\n",
              "\t<tr><td>2013</td><td>1</td><td>1</td><td>600</td><td>600</td><td> 0</td><td> 837</td><td> 825</td><td> 12</td><td>MQ</td><td>⋯</td><td>N542MQ</td><td>LGA</td><td>ATL</td><td>134</td><td> 762</td><td>6</td><td> 0</td><td>2013-01-01 06:00:00</td><td> 12</td><td> 12</td></tr>\n",
              "\t<tr><td>2013</td><td>1</td><td>1</td><td>601</td><td>600</td><td> 1</td><td> 844</td><td> 850</td><td> -6</td><td>B6</td><td>⋯</td><td>N644JB</td><td>EWR</td><td>PBI</td><td>147</td><td>1023</td><td>6</td><td> 0</td><td>2013-01-01 06:00:00</td><td> -5</td><td> -5</td></tr>\n",
              "\t<tr><td>2013</td><td>1</td><td>1</td><td>602</td><td>610</td><td>-8</td><td> 812</td><td> 820</td><td> -8</td><td>DL</td><td>⋯</td><td>N971DL</td><td>LGA</td><td>MSP</td><td>170</td><td>1020</td><td>6</td><td>10</td><td>2013-01-01 06:00:00</td><td>-16</td><td>-16</td></tr>\n",
              "\t<tr><td>2013</td><td>1</td><td>1</td><td>602</td><td>605</td><td>-3</td><td> 821</td><td> 805</td><td> 16</td><td>MQ</td><td>⋯</td><td>N730MQ</td><td>LGA</td><td>DTW</td><td>105</td><td> 502</td><td>6</td><td> 5</td><td>2013-01-01 06:00:00</td><td> 13</td><td> 13</td></tr>\n",
              "\t<tr><td>2013</td><td>1</td><td>1</td><td>606</td><td>610</td><td>-4</td><td> 858</td><td> 910</td><td>-12</td><td>AA</td><td>⋯</td><td>N633AA</td><td>EWR</td><td>MIA</td><td>152</td><td>1085</td><td>6</td><td>10</td><td>2013-01-01 06:00:00</td><td>-16</td><td>-16</td></tr>\n",
              "\t<tr><td>2013</td><td>1</td><td>1</td><td>606</td><td>610</td><td>-4</td><td> 837</td><td> 845</td><td> -8</td><td>DL</td><td>⋯</td><td>N3739P</td><td>JFK</td><td>ATL</td><td>128</td><td> 760</td><td>6</td><td>10</td><td>2013-01-01 06:00:00</td><td>-12</td><td>-12</td></tr>\n",
              "\t<tr><td>2013</td><td>1</td><td>1</td><td>607</td><td>607</td><td> 0</td><td> 858</td><td> 915</td><td>-17</td><td>UA</td><td>⋯</td><td>N53442</td><td>EWR</td><td>MIA</td><td>157</td><td>1085</td><td>6</td><td> 7</td><td>2013-01-01 06:00:00</td><td>-17</td><td>-17</td></tr>\n",
              "\t<tr><td>2013</td><td>1</td><td>1</td><td>608</td><td>600</td><td> 8</td><td> 807</td><td> 735</td><td> 32</td><td>MQ</td><td>⋯</td><td>N9EAMQ</td><td>EWR</td><td>ORD</td><td>139</td><td> 719</td><td>6</td><td> 0</td><td>2013-01-01 06:00:00</td><td> 40</td><td> 40</td></tr>\n",
              "\t<tr><td>2013</td><td>1</td><td>1</td><td>611</td><td>600</td><td>11</td><td> 945</td><td> 931</td><td> 14</td><td>UA</td><td>⋯</td><td>N532UA</td><td>JFK</td><td>SFO</td><td>366</td><td>2586</td><td>6</td><td> 0</td><td>2013-01-01 06:00:00</td><td> 25</td><td> 25</td></tr>\n",
              "\t<tr><td>2013</td><td>1</td><td>1</td><td>613</td><td>610</td><td> 3</td><td> 925</td><td> 921</td><td>  4</td><td>B6</td><td>⋯</td><td>N635JB</td><td>JFK</td><td>RSW</td><td>175</td><td>1074</td><td>6</td><td>10</td><td>2013-01-01 06:00:00</td><td>  7</td><td>  7</td></tr>\n",
              "\t<tr><td>2013</td><td>1</td><td>1</td><td>615</td><td>615</td><td> 0</td><td>1039</td><td>1100</td><td>-21</td><td>B6</td><td>⋯</td><td>N794JB</td><td>JFK</td><td>SJU</td><td>182</td><td>1598</td><td>6</td><td>15</td><td>2013-01-01 06:00:00</td><td>-21</td><td>-21</td></tr>\n",
              "\t<tr><td>2013</td><td>1</td><td>1</td><td>615</td><td>615</td><td> 0</td><td> 833</td><td> 842</td><td> -9</td><td>DL</td><td>⋯</td><td>N326NB</td><td>EWR</td><td>ATL</td><td>120</td><td> 746</td><td>6</td><td>15</td><td>2013-01-01 06:00:00</td><td> -9</td><td> -9</td></tr>\n",
              "\t<tr><td>⋮</td><td>⋮</td><td>⋮</td><td>⋮</td><td>⋮</td><td>⋮</td><td>⋮</td><td>⋮</td><td>⋮</td><td>⋮</td><td>⋱</td><td>⋮</td><td>⋮</td><td>⋮</td><td>⋮</td><td>⋮</td><td>⋮</td><td>⋮</td><td>⋮</td><td>⋮</td><td>⋮</td></tr>\n",
              "\t<tr><td>2013</td><td>9</td><td>30</td><td>2123</td><td>2125</td><td> -2</td><td>2223</td><td>2247</td><td>-24</td><td>EV</td><td>⋯</td><td>N712EV</td><td>LGA</td><td>CHO</td><td> 45</td><td> 305</td><td>21</td><td>25</td><td>2013-09-30 21:00:00</td><td>-26</td><td>-26</td></tr>\n",
              "\t<tr><td>2013</td><td>9</td><td>30</td><td>2127</td><td>2129</td><td> -2</td><td>2314</td><td>2323</td><td> -9</td><td>EV</td><td>⋯</td><td>N16546</td><td>EWR</td><td>CLT</td><td> 72</td><td> 529</td><td>21</td><td>29</td><td>2013-09-30 21:00:00</td><td>-11</td><td>-11</td></tr>\n",
              "\t<tr><td>2013</td><td>9</td><td>30</td><td>2128</td><td>2130</td><td> -2</td><td>2328</td><td>2359</td><td>-31</td><td>B6</td><td>⋯</td><td>N807JB</td><td>JFK</td><td>DEN</td><td>213</td><td>1626</td><td>21</td><td>30</td><td>2013-09-30 21:00:00</td><td>-33</td><td>-33</td></tr>\n",
              "\t<tr><td>2013</td><td>9</td><td>30</td><td>2129</td><td>2059</td><td> 30</td><td>2230</td><td>2232</td><td> -2</td><td>EV</td><td>⋯</td><td>N751EV</td><td>LGA</td><td>RIC</td><td> 45</td><td> 292</td><td>20</td><td>59</td><td>2013-09-30 20:00:00</td><td> 28</td><td> 28</td></tr>\n",
              "\t<tr><td>2013</td><td>9</td><td>30</td><td>2131</td><td>2140</td><td> -9</td><td>2225</td><td>2255</td><td>-30</td><td>MQ</td><td>⋯</td><td>N807MQ</td><td>JFK</td><td>DCA</td><td> 36</td><td> 213</td><td>21</td><td>40</td><td>2013-09-30 21:00:00</td><td>-39</td><td>-39</td></tr>\n",
              "\t<tr><td>2013</td><td>9</td><td>30</td><td>2140</td><td>2140</td><td>  0</td><td>  10</td><td>  40</td><td>-30</td><td>AA</td><td>⋯</td><td>N335AA</td><td>JFK</td><td>LAX</td><td>298</td><td>2475</td><td>21</td><td>40</td><td>2013-09-30 21:00:00</td><td>-30</td><td>-30</td></tr>\n",
              "\t<tr><td>2013</td><td>9</td><td>30</td><td>2142</td><td>2129</td><td> 13</td><td>2250</td><td>2239</td><td> 11</td><td>EV</td><td>⋯</td><td>N12957</td><td>EWR</td><td>PWM</td><td> 47</td><td> 284</td><td>21</td><td>29</td><td>2013-09-30 21:00:00</td><td> 24</td><td> 24</td></tr>\n",
              "\t<tr><td>2013</td><td>9</td><td>30</td><td>2145</td><td>2145</td><td>  0</td><td> 115</td><td> 140</td><td>-25</td><td>B6</td><td>⋯</td><td>N633JB</td><td>JFK</td><td>SJU</td><td>192</td><td>1598</td><td>21</td><td>45</td><td>2013-09-30 21:00:00</td><td>-25</td><td>-25</td></tr>\n",
              "\t<tr><td>2013</td><td>9</td><td>30</td><td>2147</td><td>2137</td><td> 10</td><td>  30</td><td>  27</td><td>  3</td><td>B6</td><td>⋯</td><td>N627JB</td><td>LGA</td><td>FLL</td><td>139</td><td>1076</td><td>21</td><td>37</td><td>2013-09-30 21:00:00</td><td> 13</td><td> 13</td></tr>\n",
              "\t<tr><td>2013</td><td>9</td><td>30</td><td>2149</td><td>2156</td><td> -7</td><td>2245</td><td>2308</td><td>-23</td><td>UA</td><td>⋯</td><td>N813UA</td><td>EWR</td><td>BOS</td><td> 37</td><td> 200</td><td>21</td><td>56</td><td>2013-09-30 21:00:00</td><td>-30</td><td>-30</td></tr>\n",
              "\t<tr><td>2013</td><td>9</td><td>30</td><td>2150</td><td>2159</td><td> -9</td><td>2250</td><td>2306</td><td>-16</td><td>EV</td><td>⋯</td><td>N10575</td><td>EWR</td><td>MHT</td><td> 39</td><td> 209</td><td>21</td><td>59</td><td>2013-09-30 21:00:00</td><td>-25</td><td>-25</td></tr>\n",
              "\t<tr><td>2013</td><td>9</td><td>30</td><td>2159</td><td>1845</td><td>194</td><td>2344</td><td>2030</td><td>194</td><td>9E</td><td>⋯</td><td>N906XJ</td><td>JFK</td><td>BUF</td><td> 50</td><td> 301</td><td>18</td><td>45</td><td>2013-09-30 18:00:00</td><td>388</td><td>388</td></tr>\n",
              "\t<tr><td>2013</td><td>9</td><td>30</td><td>2203</td><td>2205</td><td> -2</td><td>2339</td><td>2331</td><td>  8</td><td>EV</td><td>⋯</td><td>N722EV</td><td>LGA</td><td>BGR</td><td> 61</td><td> 378</td><td>22</td><td> 5</td><td>2013-09-30 22:00:00</td><td>  6</td><td>  6</td></tr>\n",
              "\t<tr><td>2013</td><td>9</td><td>30</td><td>2207</td><td>2140</td><td> 27</td><td>2257</td><td>2250</td><td>  7</td><td>MQ</td><td>⋯</td><td>N532MQ</td><td>LGA</td><td>BNA</td><td> 97</td><td> 764</td><td>21</td><td>40</td><td>2013-09-30 21:00:00</td><td> 34</td><td> 34</td></tr>\n",
              "\t<tr><td>2013</td><td>9</td><td>30</td><td>2211</td><td>2059</td><td> 72</td><td>2339</td><td>2242</td><td> 57</td><td>EV</td><td>⋯</td><td>N12145</td><td>EWR</td><td>STL</td><td>120</td><td> 872</td><td>20</td><td>59</td><td>2013-09-30 20:00:00</td><td>129</td><td>129</td></tr>\n",
              "\t<tr><td>2013</td><td>9</td><td>30</td><td>2231</td><td>2245</td><td>-14</td><td>2335</td><td>2356</td><td>-21</td><td>B6</td><td>⋯</td><td>N193JB</td><td>JFK</td><td>PWM</td><td> 48</td><td> 273</td><td>22</td><td>45</td><td>2013-09-30 22:00:00</td><td>-35</td><td>-35</td></tr>\n",
              "\t<tr><td>2013</td><td>9</td><td>30</td><td>2233</td><td>2113</td><td> 80</td><td> 112</td><td>  30</td><td> 42</td><td>UA</td><td>⋯</td><td>N578UA</td><td>EWR</td><td>SFO</td><td>318</td><td>2565</td><td>21</td><td>13</td><td>2013-09-30 21:00:00</td><td>122</td><td>122</td></tr>\n",
              "\t<tr><td>2013</td><td>9</td><td>30</td><td>2235</td><td>2001</td><td>154</td><td>  59</td><td>2249</td><td>130</td><td>B6</td><td>⋯</td><td>N804JB</td><td>JFK</td><td>MCO</td><td>123</td><td> 944</td><td>20</td><td> 1</td><td>2013-09-30 20:00:00</td><td>284</td><td>284</td></tr>\n",
              "\t<tr><td>2013</td><td>9</td><td>30</td><td>2237</td><td>2245</td><td> -8</td><td>2345</td><td>2353</td><td> -8</td><td>B6</td><td>⋯</td><td>N318JB</td><td>JFK</td><td>BTV</td><td> 43</td><td> 266</td><td>22</td><td>45</td><td>2013-09-30 22:00:00</td><td>-16</td><td>-16</td></tr>\n",
              "\t<tr><td>2013</td><td>9</td><td>30</td><td>2240</td><td>2245</td><td> -5</td><td>2334</td><td>2351</td><td>-17</td><td>B6</td><td>⋯</td><td>N354JB</td><td>JFK</td><td>SYR</td><td> 41</td><td> 209</td><td>22</td><td>45</td><td>2013-09-30 22:00:00</td><td>-22</td><td>-22</td></tr>\n",
              "\t<tr><td>2013</td><td>9</td><td>30</td><td>2240</td><td>2250</td><td>-10</td><td>2347</td><td>   7</td><td>-20</td><td>B6</td><td>⋯</td><td>N281JB</td><td>JFK</td><td>BUF</td><td> 52</td><td> 301</td><td>22</td><td>50</td><td>2013-09-30 22:00:00</td><td>-30</td><td>-30</td></tr>\n",
              "\t<tr><td>2013</td><td>9</td><td>30</td><td>2241</td><td>2246</td><td> -5</td><td>2345</td><td>   1</td><td>-16</td><td>B6</td><td>⋯</td><td>N346JB</td><td>JFK</td><td>ROC</td><td> 47</td><td> 264</td><td>22</td><td>46</td><td>2013-09-30 22:00:00</td><td>-21</td><td>-21</td></tr>\n",
              "\t<tr><td>2013</td><td>9</td><td>30</td><td>2307</td><td>2255</td><td> 12</td><td>2359</td><td>2358</td><td>  1</td><td>B6</td><td>⋯</td><td>N565JB</td><td>JFK</td><td>BOS</td><td> 33</td><td> 187</td><td>22</td><td>55</td><td>2013-09-30 22:00:00</td><td> 13</td><td> 13</td></tr>\n",
              "\t<tr><td>2013</td><td>9</td><td>30</td><td>2349</td><td>2359</td><td>-10</td><td> 325</td><td> 350</td><td>-25</td><td>B6</td><td>⋯</td><td>N516JB</td><td>JFK</td><td>PSE</td><td>196</td><td>1617</td><td>23</td><td>59</td><td>2013-09-30 23:00:00</td><td>-35</td><td>-35</td></tr>\n",
              "\t<tr><td>2013</td><td>9</td><td>30</td><td>  NA</td><td>1842</td><td> NA</td><td>  NA</td><td>2019</td><td> NA</td><td>EV</td><td>⋯</td><td>N740EV</td><td>LGA</td><td>BNA</td><td> NA</td><td> 764</td><td>18</td><td>42</td><td>2013-09-30 18:00:00</td><td> NA</td><td> NA</td></tr>\n",
              "\t<tr><td>2013</td><td>9</td><td>30</td><td>  NA</td><td>1455</td><td> NA</td><td>  NA</td><td>1634</td><td> NA</td><td>9E</td><td>⋯</td><td>NA    </td><td>JFK</td><td>DCA</td><td> NA</td><td> 213</td><td>14</td><td>55</td><td>2013-09-30 14:00:00</td><td> NA</td><td> NA</td></tr>\n",
              "\t<tr><td>2013</td><td>9</td><td>30</td><td>  NA</td><td>2200</td><td> NA</td><td>  NA</td><td>2312</td><td> NA</td><td>9E</td><td>⋯</td><td>NA    </td><td>LGA</td><td>SYR</td><td> NA</td><td> 198</td><td>22</td><td> 0</td><td>2013-09-30 22:00:00</td><td> NA</td><td> NA</td></tr>\n",
              "\t<tr><td>2013</td><td>9</td><td>30</td><td>  NA</td><td>1210</td><td> NA</td><td>  NA</td><td>1330</td><td> NA</td><td>MQ</td><td>⋯</td><td>N535MQ</td><td>LGA</td><td>BNA</td><td> NA</td><td> 764</td><td>12</td><td>10</td><td>2013-09-30 12:00:00</td><td> NA</td><td> NA</td></tr>\n",
              "\t<tr><td>2013</td><td>9</td><td>30</td><td>  NA</td><td>1159</td><td> NA</td><td>  NA</td><td>1344</td><td> NA</td><td>MQ</td><td>⋯</td><td>N511MQ</td><td>LGA</td><td>CLE</td><td> NA</td><td> 419</td><td>11</td><td>59</td><td>2013-09-30 11:00:00</td><td> NA</td><td> NA</td></tr>\n",
              "\t<tr><td>2013</td><td>9</td><td>30</td><td>  NA</td><td> 840</td><td> NA</td><td>  NA</td><td>1020</td><td> NA</td><td>MQ</td><td>⋯</td><td>N839MQ</td><td>LGA</td><td>RDU</td><td> NA</td><td> 431</td><td> 8</td><td>40</td><td>2013-09-30 08:00:00</td><td> NA</td><td> NA</td></tr>\n",
              "</tbody>\n",
              "</table>\n"
            ],
            "text/markdown": "\nA data.frame: 336776 × 21\n\n| anio &lt;int&gt; | mes &lt;int&gt; | dia &lt;int&gt; | dep_time &lt;int&gt; | sched_dep_time &lt;int&gt; | dep_delay &lt;int&gt; | arr_time &lt;int&gt; | sched_arr_time &lt;int&gt; | arr_delay &lt;int&gt; | carrier &lt;chr&gt; | ⋯ ⋯ | tailnum &lt;chr&gt; | origin &lt;chr&gt; | dest &lt;chr&gt; | air_time &lt;int&gt; | distance &lt;int&gt; | hour &lt;int&gt; | minute &lt;int&gt; | time_hour &lt;chr&gt; | retraso_neto1 &lt;int&gt; | retraso_neto &lt;int&gt; |\n|---|---|---|---|---|---|---|---|---|---|---|---|---|---|---|---|---|---|---|---|---|\n| 2013 | 1 | 1 | 517 | 515 |  2 |  830 |  819 |  11 | UA | ⋯ | N14228 | EWR | IAH | 227 | 1400 | 5 | 15 | 2013-01-01 05:00:00 |  13 |  13 |\n| 2013 | 1 | 1 | 533 | 529 |  4 |  850 |  830 |  20 | UA | ⋯ | N24211 | LGA | IAH | 227 | 1416 | 5 | 29 | 2013-01-01 05:00:00 |  24 |  24 |\n| 2013 | 1 | 1 | 542 | 540 |  2 |  923 |  850 |  33 | AA | ⋯ | N619AA | JFK | MIA | 160 | 1089 | 5 | 40 | 2013-01-01 05:00:00 |  35 |  35 |\n| 2013 | 1 | 1 | 544 | 545 | -1 | 1004 | 1022 | -18 | B6 | ⋯ | N804JB | JFK | BQN | 183 | 1576 | 5 | 45 | 2013-01-01 05:00:00 | -19 | -19 |\n| 2013 | 1 | 1 | 554 | 600 | -6 |  812 |  837 | -25 | DL | ⋯ | N668DN | LGA | ATL | 116 |  762 | 6 |  0 | 2013-01-01 06:00:00 | -31 | -31 |\n| 2013 | 1 | 1 | 554 | 558 | -4 |  740 |  728 |  12 | UA | ⋯ | N39463 | EWR | ORD | 150 |  719 | 5 | 58 | 2013-01-01 05:00:00 |   8 |   8 |\n| 2013 | 1 | 1 | 555 | 600 | -5 |  913 |  854 |  19 | B6 | ⋯ | N516JB | EWR | FLL | 158 | 1065 | 6 |  0 | 2013-01-01 06:00:00 |  14 |  14 |\n| 2013 | 1 | 1 | 557 | 600 | -3 |  709 |  723 | -14 | EV | ⋯ | N829AS | LGA | IAD |  53 |  229 | 6 |  0 | 2013-01-01 06:00:00 | -17 | -17 |\n| 2013 | 1 | 1 | 557 | 600 | -3 |  838 |  846 |  -8 | B6 | ⋯ | N593JB | JFK | MCO | 140 |  944 | 6 |  0 | 2013-01-01 06:00:00 | -11 | -11 |\n| 2013 | 1 | 1 | 558 | 600 | -2 |  753 |  745 |   8 | AA | ⋯ | N3ALAA | LGA | ORD | 138 |  733 | 6 |  0 | 2013-01-01 06:00:00 |   6 |   6 |\n| 2013 | 1 | 1 | 558 | 600 | -2 |  849 |  851 |  -2 | B6 | ⋯ | N793JB | JFK | PBI | 149 | 1028 | 6 |  0 | 2013-01-01 06:00:00 |  -4 |  -4 |\n| 2013 | 1 | 1 | 558 | 600 | -2 |  853 |  856 |  -3 | B6 | ⋯ | N657JB | JFK | TPA | 158 | 1005 | 6 |  0 | 2013-01-01 06:00:00 |  -5 |  -5 |\n| 2013 | 1 | 1 | 558 | 600 | -2 |  924 |  917 |   7 | UA | ⋯ | N29129 | JFK | LAX | 345 | 2475 | 6 |  0 | 2013-01-01 06:00:00 |   5 |   5 |\n| 2013 | 1 | 1 | 558 | 600 | -2 |  923 |  937 | -14 | UA | ⋯ | N53441 | EWR | SFO | 361 | 2565 | 6 |  0 | 2013-01-01 06:00:00 | -16 | -16 |\n| 2013 | 1 | 1 | 559 | 600 | -1 |  941 |  910 |  31 | AA | ⋯ | N3DUAA | LGA | DFW | 257 | 1389 | 6 |  0 | 2013-01-01 06:00:00 |  30 |  30 |\n| 2013 | 1 | 1 | 559 | 559 |  0 |  702 |  706 |  -4 | B6 | ⋯ | N708JB | JFK | BOS |  44 |  187 | 5 | 59 | 2013-01-01 05:00:00 |  -4 |  -4 |\n| 2013 | 1 | 1 | 559 | 600 | -1 |  854 |  902 |  -8 | UA | ⋯ | N76515 | EWR | LAS | 337 | 2227 | 6 |  0 | 2013-01-01 06:00:00 |  -9 |  -9 |\n| 2013 | 1 | 1 | 600 | 600 |  0 |  851 |  858 |  -7 | B6 | ⋯ | N595JB | LGA | FLL | 152 | 1076 | 6 |  0 | 2013-01-01 06:00:00 |  -7 |  -7 |\n| 2013 | 1 | 1 | 600 | 600 |  0 |  837 |  825 |  12 | MQ | ⋯ | N542MQ | LGA | ATL | 134 |  762 | 6 |  0 | 2013-01-01 06:00:00 |  12 |  12 |\n| 2013 | 1 | 1 | 601 | 600 |  1 |  844 |  850 |  -6 | B6 | ⋯ | N644JB | EWR | PBI | 147 | 1023 | 6 |  0 | 2013-01-01 06:00:00 |  -5 |  -5 |\n| 2013 | 1 | 1 | 602 | 610 | -8 |  812 |  820 |  -8 | DL | ⋯ | N971DL | LGA | MSP | 170 | 1020 | 6 | 10 | 2013-01-01 06:00:00 | -16 | -16 |\n| 2013 | 1 | 1 | 602 | 605 | -3 |  821 |  805 |  16 | MQ | ⋯ | N730MQ | LGA | DTW | 105 |  502 | 6 |  5 | 2013-01-01 06:00:00 |  13 |  13 |\n| 2013 | 1 | 1 | 606 | 610 | -4 |  858 |  910 | -12 | AA | ⋯ | N633AA | EWR | MIA | 152 | 1085 | 6 | 10 | 2013-01-01 06:00:00 | -16 | -16 |\n| 2013 | 1 | 1 | 606 | 610 | -4 |  837 |  845 |  -8 | DL | ⋯ | N3739P | JFK | ATL | 128 |  760 | 6 | 10 | 2013-01-01 06:00:00 | -12 | -12 |\n| 2013 | 1 | 1 | 607 | 607 |  0 |  858 |  915 | -17 | UA | ⋯ | N53442 | EWR | MIA | 157 | 1085 | 6 |  7 | 2013-01-01 06:00:00 | -17 | -17 |\n| 2013 | 1 | 1 | 608 | 600 |  8 |  807 |  735 |  32 | MQ | ⋯ | N9EAMQ | EWR | ORD | 139 |  719 | 6 |  0 | 2013-01-01 06:00:00 |  40 |  40 |\n| 2013 | 1 | 1 | 611 | 600 | 11 |  945 |  931 |  14 | UA | ⋯ | N532UA | JFK | SFO | 366 | 2586 | 6 |  0 | 2013-01-01 06:00:00 |  25 |  25 |\n| 2013 | 1 | 1 | 613 | 610 |  3 |  925 |  921 |   4 | B6 | ⋯ | N635JB | JFK | RSW | 175 | 1074 | 6 | 10 | 2013-01-01 06:00:00 |   7 |   7 |\n| 2013 | 1 | 1 | 615 | 615 |  0 | 1039 | 1100 | -21 | B6 | ⋯ | N794JB | JFK | SJU | 182 | 1598 | 6 | 15 | 2013-01-01 06:00:00 | -21 | -21 |\n| 2013 | 1 | 1 | 615 | 615 |  0 |  833 |  842 |  -9 | DL | ⋯ | N326NB | EWR | ATL | 120 |  746 | 6 | 15 | 2013-01-01 06:00:00 |  -9 |  -9 |\n| ⋮ | ⋮ | ⋮ | ⋮ | ⋮ | ⋮ | ⋮ | ⋮ | ⋮ | ⋮ | ⋱ | ⋮ | ⋮ | ⋮ | ⋮ | ⋮ | ⋮ | ⋮ | ⋮ | ⋮ | ⋮ |\n| 2013 | 9 | 30 | 2123 | 2125 |  -2 | 2223 | 2247 | -24 | EV | ⋯ | N712EV | LGA | CHO |  45 |  305 | 21 | 25 | 2013-09-30 21:00:00 | -26 | -26 |\n| 2013 | 9 | 30 | 2127 | 2129 |  -2 | 2314 | 2323 |  -9 | EV | ⋯ | N16546 | EWR | CLT |  72 |  529 | 21 | 29 | 2013-09-30 21:00:00 | -11 | -11 |\n| 2013 | 9 | 30 | 2128 | 2130 |  -2 | 2328 | 2359 | -31 | B6 | ⋯ | N807JB | JFK | DEN | 213 | 1626 | 21 | 30 | 2013-09-30 21:00:00 | -33 | -33 |\n| 2013 | 9 | 30 | 2129 | 2059 |  30 | 2230 | 2232 |  -2 | EV | ⋯ | N751EV | LGA | RIC |  45 |  292 | 20 | 59 | 2013-09-30 20:00:00 |  28 |  28 |\n| 2013 | 9 | 30 | 2131 | 2140 |  -9 | 2225 | 2255 | -30 | MQ | ⋯ | N807MQ | JFK | DCA |  36 |  213 | 21 | 40 | 2013-09-30 21:00:00 | -39 | -39 |\n| 2013 | 9 | 30 | 2140 | 2140 |   0 |   10 |   40 | -30 | AA | ⋯ | N335AA | JFK | LAX | 298 | 2475 | 21 | 40 | 2013-09-30 21:00:00 | -30 | -30 |\n| 2013 | 9 | 30 | 2142 | 2129 |  13 | 2250 | 2239 |  11 | EV | ⋯ | N12957 | EWR | PWM |  47 |  284 | 21 | 29 | 2013-09-30 21:00:00 |  24 |  24 |\n| 2013 | 9 | 30 | 2145 | 2145 |   0 |  115 |  140 | -25 | B6 | ⋯ | N633JB | JFK | SJU | 192 | 1598 | 21 | 45 | 2013-09-30 21:00:00 | -25 | -25 |\n| 2013 | 9 | 30 | 2147 | 2137 |  10 |   30 |   27 |   3 | B6 | ⋯ | N627JB | LGA | FLL | 139 | 1076 | 21 | 37 | 2013-09-30 21:00:00 |  13 |  13 |\n| 2013 | 9 | 30 | 2149 | 2156 |  -7 | 2245 | 2308 | -23 | UA | ⋯ | N813UA | EWR | BOS |  37 |  200 | 21 | 56 | 2013-09-30 21:00:00 | -30 | -30 |\n| 2013 | 9 | 30 | 2150 | 2159 |  -9 | 2250 | 2306 | -16 | EV | ⋯ | N10575 | EWR | MHT |  39 |  209 | 21 | 59 | 2013-09-30 21:00:00 | -25 | -25 |\n| 2013 | 9 | 30 | 2159 | 1845 | 194 | 2344 | 2030 | 194 | 9E | ⋯ | N906XJ | JFK | BUF |  50 |  301 | 18 | 45 | 2013-09-30 18:00:00 | 388 | 388 |\n| 2013 | 9 | 30 | 2203 | 2205 |  -2 | 2339 | 2331 |   8 | EV | ⋯ | N722EV | LGA | BGR |  61 |  378 | 22 |  5 | 2013-09-30 22:00:00 |   6 |   6 |\n| 2013 | 9 | 30 | 2207 | 2140 |  27 | 2257 | 2250 |   7 | MQ | ⋯ | N532MQ | LGA | BNA |  97 |  764 | 21 | 40 | 2013-09-30 21:00:00 |  34 |  34 |\n| 2013 | 9 | 30 | 2211 | 2059 |  72 | 2339 | 2242 |  57 | EV | ⋯ | N12145 | EWR | STL | 120 |  872 | 20 | 59 | 2013-09-30 20:00:00 | 129 | 129 |\n| 2013 | 9 | 30 | 2231 | 2245 | -14 | 2335 | 2356 | -21 | B6 | ⋯ | N193JB | JFK | PWM |  48 |  273 | 22 | 45 | 2013-09-30 22:00:00 | -35 | -35 |\n| 2013 | 9 | 30 | 2233 | 2113 |  80 |  112 |   30 |  42 | UA | ⋯ | N578UA | EWR | SFO | 318 | 2565 | 21 | 13 | 2013-09-30 21:00:00 | 122 | 122 |\n| 2013 | 9 | 30 | 2235 | 2001 | 154 |   59 | 2249 | 130 | B6 | ⋯ | N804JB | JFK | MCO | 123 |  944 | 20 |  1 | 2013-09-30 20:00:00 | 284 | 284 |\n| 2013 | 9 | 30 | 2237 | 2245 |  -8 | 2345 | 2353 |  -8 | B6 | ⋯ | N318JB | JFK | BTV |  43 |  266 | 22 | 45 | 2013-09-30 22:00:00 | -16 | -16 |\n| 2013 | 9 | 30 | 2240 | 2245 |  -5 | 2334 | 2351 | -17 | B6 | ⋯ | N354JB | JFK | SYR |  41 |  209 | 22 | 45 | 2013-09-30 22:00:00 | -22 | -22 |\n| 2013 | 9 | 30 | 2240 | 2250 | -10 | 2347 |    7 | -20 | B6 | ⋯ | N281JB | JFK | BUF |  52 |  301 | 22 | 50 | 2013-09-30 22:00:00 | -30 | -30 |\n| 2013 | 9 | 30 | 2241 | 2246 |  -5 | 2345 |    1 | -16 | B6 | ⋯ | N346JB | JFK | ROC |  47 |  264 | 22 | 46 | 2013-09-30 22:00:00 | -21 | -21 |\n| 2013 | 9 | 30 | 2307 | 2255 |  12 | 2359 | 2358 |   1 | B6 | ⋯ | N565JB | JFK | BOS |  33 |  187 | 22 | 55 | 2013-09-30 22:00:00 |  13 |  13 |\n| 2013 | 9 | 30 | 2349 | 2359 | -10 |  325 |  350 | -25 | B6 | ⋯ | N516JB | JFK | PSE | 196 | 1617 | 23 | 59 | 2013-09-30 23:00:00 | -35 | -35 |\n| 2013 | 9 | 30 |   NA | 1842 |  NA |   NA | 2019 |  NA | EV | ⋯ | N740EV | LGA | BNA |  NA |  764 | 18 | 42 | 2013-09-30 18:00:00 |  NA |  NA |\n| 2013 | 9 | 30 |   NA | 1455 |  NA |   NA | 1634 |  NA | 9E | ⋯ | NA     | JFK | DCA |  NA |  213 | 14 | 55 | 2013-09-30 14:00:00 |  NA |  NA |\n| 2013 | 9 | 30 |   NA | 2200 |  NA |   NA | 2312 |  NA | 9E | ⋯ | NA     | LGA | SYR |  NA |  198 | 22 |  0 | 2013-09-30 22:00:00 |  NA |  NA |\n| 2013 | 9 | 30 |   NA | 1210 |  NA |   NA | 1330 |  NA | MQ | ⋯ | N535MQ | LGA | BNA |  NA |  764 | 12 | 10 | 2013-09-30 12:00:00 |  NA |  NA |\n| 2013 | 9 | 30 |   NA | 1159 |  NA |   NA | 1344 |  NA | MQ | ⋯ | N511MQ | LGA | CLE |  NA |  419 | 11 | 59 | 2013-09-30 11:00:00 |  NA |  NA |\n| 2013 | 9 | 30 |   NA |  840 |  NA |   NA | 1020 |  NA | MQ | ⋯ | N839MQ | LGA | RDU |  NA |  431 |  8 | 40 | 2013-09-30 08:00:00 |  NA |  NA |\n\n",
            "text/latex": "A data.frame: 336776 × 21\n\\begin{tabular}{lllllllllllllllllllll}\n anio & mes & dia & dep\\_time & sched\\_dep\\_time & dep\\_delay & arr\\_time & sched\\_arr\\_time & arr\\_delay & carrier & ⋯ & tailnum & origin & dest & air\\_time & distance & hour & minute & time\\_hour & retraso\\_neto1 & retraso\\_neto\\\\\n <int> & <int> & <int> & <int> & <int> & <int> & <int> & <int> & <int> & <chr> & ⋯ & <chr> & <chr> & <chr> & <int> & <int> & <int> & <int> & <chr> & <int> & <int>\\\\\n\\hline\n\t 2013 & 1 & 1 & 517 & 515 &  2 &  830 &  819 &  11 & UA & ⋯ & N14228 & EWR & IAH & 227 & 1400 & 5 & 15 & 2013-01-01 05:00:00 &  13 &  13\\\\\n\t 2013 & 1 & 1 & 533 & 529 &  4 &  850 &  830 &  20 & UA & ⋯ & N24211 & LGA & IAH & 227 & 1416 & 5 & 29 & 2013-01-01 05:00:00 &  24 &  24\\\\\n\t 2013 & 1 & 1 & 542 & 540 &  2 &  923 &  850 &  33 & AA & ⋯ & N619AA & JFK & MIA & 160 & 1089 & 5 & 40 & 2013-01-01 05:00:00 &  35 &  35\\\\\n\t 2013 & 1 & 1 & 544 & 545 & -1 & 1004 & 1022 & -18 & B6 & ⋯ & N804JB & JFK & BQN & 183 & 1576 & 5 & 45 & 2013-01-01 05:00:00 & -19 & -19\\\\\n\t 2013 & 1 & 1 & 554 & 600 & -6 &  812 &  837 & -25 & DL & ⋯ & N668DN & LGA & ATL & 116 &  762 & 6 &  0 & 2013-01-01 06:00:00 & -31 & -31\\\\\n\t 2013 & 1 & 1 & 554 & 558 & -4 &  740 &  728 &  12 & UA & ⋯ & N39463 & EWR & ORD & 150 &  719 & 5 & 58 & 2013-01-01 05:00:00 &   8 &   8\\\\\n\t 2013 & 1 & 1 & 555 & 600 & -5 &  913 &  854 &  19 & B6 & ⋯ & N516JB & EWR & FLL & 158 & 1065 & 6 &  0 & 2013-01-01 06:00:00 &  14 &  14\\\\\n\t 2013 & 1 & 1 & 557 & 600 & -3 &  709 &  723 & -14 & EV & ⋯ & N829AS & LGA & IAD &  53 &  229 & 6 &  0 & 2013-01-01 06:00:00 & -17 & -17\\\\\n\t 2013 & 1 & 1 & 557 & 600 & -3 &  838 &  846 &  -8 & B6 & ⋯ & N593JB & JFK & MCO & 140 &  944 & 6 &  0 & 2013-01-01 06:00:00 & -11 & -11\\\\\n\t 2013 & 1 & 1 & 558 & 600 & -2 &  753 &  745 &   8 & AA & ⋯ & N3ALAA & LGA & ORD & 138 &  733 & 6 &  0 & 2013-01-01 06:00:00 &   6 &   6\\\\\n\t 2013 & 1 & 1 & 558 & 600 & -2 &  849 &  851 &  -2 & B6 & ⋯ & N793JB & JFK & PBI & 149 & 1028 & 6 &  0 & 2013-01-01 06:00:00 &  -4 &  -4\\\\\n\t 2013 & 1 & 1 & 558 & 600 & -2 &  853 &  856 &  -3 & B6 & ⋯ & N657JB & JFK & TPA & 158 & 1005 & 6 &  0 & 2013-01-01 06:00:00 &  -5 &  -5\\\\\n\t 2013 & 1 & 1 & 558 & 600 & -2 &  924 &  917 &   7 & UA & ⋯ & N29129 & JFK & LAX & 345 & 2475 & 6 &  0 & 2013-01-01 06:00:00 &   5 &   5\\\\\n\t 2013 & 1 & 1 & 558 & 600 & -2 &  923 &  937 & -14 & UA & ⋯ & N53441 & EWR & SFO & 361 & 2565 & 6 &  0 & 2013-01-01 06:00:00 & -16 & -16\\\\\n\t 2013 & 1 & 1 & 559 & 600 & -1 &  941 &  910 &  31 & AA & ⋯ & N3DUAA & LGA & DFW & 257 & 1389 & 6 &  0 & 2013-01-01 06:00:00 &  30 &  30\\\\\n\t 2013 & 1 & 1 & 559 & 559 &  0 &  702 &  706 &  -4 & B6 & ⋯ & N708JB & JFK & BOS &  44 &  187 & 5 & 59 & 2013-01-01 05:00:00 &  -4 &  -4\\\\\n\t 2013 & 1 & 1 & 559 & 600 & -1 &  854 &  902 &  -8 & UA & ⋯ & N76515 & EWR & LAS & 337 & 2227 & 6 &  0 & 2013-01-01 06:00:00 &  -9 &  -9\\\\\n\t 2013 & 1 & 1 & 600 & 600 &  0 &  851 &  858 &  -7 & B6 & ⋯ & N595JB & LGA & FLL & 152 & 1076 & 6 &  0 & 2013-01-01 06:00:00 &  -7 &  -7\\\\\n\t 2013 & 1 & 1 & 600 & 600 &  0 &  837 &  825 &  12 & MQ & ⋯ & N542MQ & LGA & ATL & 134 &  762 & 6 &  0 & 2013-01-01 06:00:00 &  12 &  12\\\\\n\t 2013 & 1 & 1 & 601 & 600 &  1 &  844 &  850 &  -6 & B6 & ⋯ & N644JB & EWR & PBI & 147 & 1023 & 6 &  0 & 2013-01-01 06:00:00 &  -5 &  -5\\\\\n\t 2013 & 1 & 1 & 602 & 610 & -8 &  812 &  820 &  -8 & DL & ⋯ & N971DL & LGA & MSP & 170 & 1020 & 6 & 10 & 2013-01-01 06:00:00 & -16 & -16\\\\\n\t 2013 & 1 & 1 & 602 & 605 & -3 &  821 &  805 &  16 & MQ & ⋯ & N730MQ & LGA & DTW & 105 &  502 & 6 &  5 & 2013-01-01 06:00:00 &  13 &  13\\\\\n\t 2013 & 1 & 1 & 606 & 610 & -4 &  858 &  910 & -12 & AA & ⋯ & N633AA & EWR & MIA & 152 & 1085 & 6 & 10 & 2013-01-01 06:00:00 & -16 & -16\\\\\n\t 2013 & 1 & 1 & 606 & 610 & -4 &  837 &  845 &  -8 & DL & ⋯ & N3739P & JFK & ATL & 128 &  760 & 6 & 10 & 2013-01-01 06:00:00 & -12 & -12\\\\\n\t 2013 & 1 & 1 & 607 & 607 &  0 &  858 &  915 & -17 & UA & ⋯ & N53442 & EWR & MIA & 157 & 1085 & 6 &  7 & 2013-01-01 06:00:00 & -17 & -17\\\\\n\t 2013 & 1 & 1 & 608 & 600 &  8 &  807 &  735 &  32 & MQ & ⋯ & N9EAMQ & EWR & ORD & 139 &  719 & 6 &  0 & 2013-01-01 06:00:00 &  40 &  40\\\\\n\t 2013 & 1 & 1 & 611 & 600 & 11 &  945 &  931 &  14 & UA & ⋯ & N532UA & JFK & SFO & 366 & 2586 & 6 &  0 & 2013-01-01 06:00:00 &  25 &  25\\\\\n\t 2013 & 1 & 1 & 613 & 610 &  3 &  925 &  921 &   4 & B6 & ⋯ & N635JB & JFK & RSW & 175 & 1074 & 6 & 10 & 2013-01-01 06:00:00 &   7 &   7\\\\\n\t 2013 & 1 & 1 & 615 & 615 &  0 & 1039 & 1100 & -21 & B6 & ⋯ & N794JB & JFK & SJU & 182 & 1598 & 6 & 15 & 2013-01-01 06:00:00 & -21 & -21\\\\\n\t 2013 & 1 & 1 & 615 & 615 &  0 &  833 &  842 &  -9 & DL & ⋯ & N326NB & EWR & ATL & 120 &  746 & 6 & 15 & 2013-01-01 06:00:00 &  -9 &  -9\\\\\n\t ⋮ & ⋮ & ⋮ & ⋮ & ⋮ & ⋮ & ⋮ & ⋮ & ⋮ & ⋮ & ⋱ & ⋮ & ⋮ & ⋮ & ⋮ & ⋮ & ⋮ & ⋮ & ⋮ & ⋮ & ⋮\\\\\n\t 2013 & 9 & 30 & 2123 & 2125 &  -2 & 2223 & 2247 & -24 & EV & ⋯ & N712EV & LGA & CHO &  45 &  305 & 21 & 25 & 2013-09-30 21:00:00 & -26 & -26\\\\\n\t 2013 & 9 & 30 & 2127 & 2129 &  -2 & 2314 & 2323 &  -9 & EV & ⋯ & N16546 & EWR & CLT &  72 &  529 & 21 & 29 & 2013-09-30 21:00:00 & -11 & -11\\\\\n\t 2013 & 9 & 30 & 2128 & 2130 &  -2 & 2328 & 2359 & -31 & B6 & ⋯ & N807JB & JFK & DEN & 213 & 1626 & 21 & 30 & 2013-09-30 21:00:00 & -33 & -33\\\\\n\t 2013 & 9 & 30 & 2129 & 2059 &  30 & 2230 & 2232 &  -2 & EV & ⋯ & N751EV & LGA & RIC &  45 &  292 & 20 & 59 & 2013-09-30 20:00:00 &  28 &  28\\\\\n\t 2013 & 9 & 30 & 2131 & 2140 &  -9 & 2225 & 2255 & -30 & MQ & ⋯ & N807MQ & JFK & DCA &  36 &  213 & 21 & 40 & 2013-09-30 21:00:00 & -39 & -39\\\\\n\t 2013 & 9 & 30 & 2140 & 2140 &   0 &   10 &   40 & -30 & AA & ⋯ & N335AA & JFK & LAX & 298 & 2475 & 21 & 40 & 2013-09-30 21:00:00 & -30 & -30\\\\\n\t 2013 & 9 & 30 & 2142 & 2129 &  13 & 2250 & 2239 &  11 & EV & ⋯ & N12957 & EWR & PWM &  47 &  284 & 21 & 29 & 2013-09-30 21:00:00 &  24 &  24\\\\\n\t 2013 & 9 & 30 & 2145 & 2145 &   0 &  115 &  140 & -25 & B6 & ⋯ & N633JB & JFK & SJU & 192 & 1598 & 21 & 45 & 2013-09-30 21:00:00 & -25 & -25\\\\\n\t 2013 & 9 & 30 & 2147 & 2137 &  10 &   30 &   27 &   3 & B6 & ⋯ & N627JB & LGA & FLL & 139 & 1076 & 21 & 37 & 2013-09-30 21:00:00 &  13 &  13\\\\\n\t 2013 & 9 & 30 & 2149 & 2156 &  -7 & 2245 & 2308 & -23 & UA & ⋯ & N813UA & EWR & BOS &  37 &  200 & 21 & 56 & 2013-09-30 21:00:00 & -30 & -30\\\\\n\t 2013 & 9 & 30 & 2150 & 2159 &  -9 & 2250 & 2306 & -16 & EV & ⋯ & N10575 & EWR & MHT &  39 &  209 & 21 & 59 & 2013-09-30 21:00:00 & -25 & -25\\\\\n\t 2013 & 9 & 30 & 2159 & 1845 & 194 & 2344 & 2030 & 194 & 9E & ⋯ & N906XJ & JFK & BUF &  50 &  301 & 18 & 45 & 2013-09-30 18:00:00 & 388 & 388\\\\\n\t 2013 & 9 & 30 & 2203 & 2205 &  -2 & 2339 & 2331 &   8 & EV & ⋯ & N722EV & LGA & BGR &  61 &  378 & 22 &  5 & 2013-09-30 22:00:00 &   6 &   6\\\\\n\t 2013 & 9 & 30 & 2207 & 2140 &  27 & 2257 & 2250 &   7 & MQ & ⋯ & N532MQ & LGA & BNA &  97 &  764 & 21 & 40 & 2013-09-30 21:00:00 &  34 &  34\\\\\n\t 2013 & 9 & 30 & 2211 & 2059 &  72 & 2339 & 2242 &  57 & EV & ⋯ & N12145 & EWR & STL & 120 &  872 & 20 & 59 & 2013-09-30 20:00:00 & 129 & 129\\\\\n\t 2013 & 9 & 30 & 2231 & 2245 & -14 & 2335 & 2356 & -21 & B6 & ⋯ & N193JB & JFK & PWM &  48 &  273 & 22 & 45 & 2013-09-30 22:00:00 & -35 & -35\\\\\n\t 2013 & 9 & 30 & 2233 & 2113 &  80 &  112 &   30 &  42 & UA & ⋯ & N578UA & EWR & SFO & 318 & 2565 & 21 & 13 & 2013-09-30 21:00:00 & 122 & 122\\\\\n\t 2013 & 9 & 30 & 2235 & 2001 & 154 &   59 & 2249 & 130 & B6 & ⋯ & N804JB & JFK & MCO & 123 &  944 & 20 &  1 & 2013-09-30 20:00:00 & 284 & 284\\\\\n\t 2013 & 9 & 30 & 2237 & 2245 &  -8 & 2345 & 2353 &  -8 & B6 & ⋯ & N318JB & JFK & BTV &  43 &  266 & 22 & 45 & 2013-09-30 22:00:00 & -16 & -16\\\\\n\t 2013 & 9 & 30 & 2240 & 2245 &  -5 & 2334 & 2351 & -17 & B6 & ⋯ & N354JB & JFK & SYR &  41 &  209 & 22 & 45 & 2013-09-30 22:00:00 & -22 & -22\\\\\n\t 2013 & 9 & 30 & 2240 & 2250 & -10 & 2347 &    7 & -20 & B6 & ⋯ & N281JB & JFK & BUF &  52 &  301 & 22 & 50 & 2013-09-30 22:00:00 & -30 & -30\\\\\n\t 2013 & 9 & 30 & 2241 & 2246 &  -5 & 2345 &    1 & -16 & B6 & ⋯ & N346JB & JFK & ROC &  47 &  264 & 22 & 46 & 2013-09-30 22:00:00 & -21 & -21\\\\\n\t 2013 & 9 & 30 & 2307 & 2255 &  12 & 2359 & 2358 &   1 & B6 & ⋯ & N565JB & JFK & BOS &  33 &  187 & 22 & 55 & 2013-09-30 22:00:00 &  13 &  13\\\\\n\t 2013 & 9 & 30 & 2349 & 2359 & -10 &  325 &  350 & -25 & B6 & ⋯ & N516JB & JFK & PSE & 196 & 1617 & 23 & 59 & 2013-09-30 23:00:00 & -35 & -35\\\\\n\t 2013 & 9 & 30 &   NA & 1842 &  NA &   NA & 2019 &  NA & EV & ⋯ & N740EV & LGA & BNA &  NA &  764 & 18 & 42 & 2013-09-30 18:00:00 &  NA &  NA\\\\\n\t 2013 & 9 & 30 &   NA & 1455 &  NA &   NA & 1634 &  NA & 9E & ⋯ & NA     & JFK & DCA &  NA &  213 & 14 & 55 & 2013-09-30 14:00:00 &  NA &  NA\\\\\n\t 2013 & 9 & 30 &   NA & 2200 &  NA &   NA & 2312 &  NA & 9E & ⋯ & NA     & LGA & SYR &  NA &  198 & 22 &  0 & 2013-09-30 22:00:00 &  NA &  NA\\\\\n\t 2013 & 9 & 30 &   NA & 1210 &  NA &   NA & 1330 &  NA & MQ & ⋯ & N535MQ & LGA & BNA &  NA &  764 & 12 & 10 & 2013-09-30 12:00:00 &  NA &  NA\\\\\n\t 2013 & 9 & 30 &   NA & 1159 &  NA &   NA & 1344 &  NA & MQ & ⋯ & N511MQ & LGA & CLE &  NA &  419 & 11 & 59 & 2013-09-30 11:00:00 &  NA &  NA\\\\\n\t 2013 & 9 & 30 &   NA &  840 &  NA &   NA & 1020 &  NA & MQ & ⋯ & N839MQ & LGA & RDU &  NA &  431 &  8 & 40 & 2013-09-30 08:00:00 &  NA &  NA\\\\\n\\end{tabular}\n",
            "text/plain": [
              "       anio mes dia dep_time sched_dep_time dep_delay arr_time sched_arr_time\n",
              "1      2013 1   1   517      515             2         830      819          \n",
              "2      2013 1   1   533      529             4         850      830          \n",
              "3      2013 1   1   542      540             2         923      850          \n",
              "4      2013 1   1   544      545            -1        1004     1022          \n",
              "5      2013 1   1   554      600            -6         812      837          \n",
              "6      2013 1   1   554      558            -4         740      728          \n",
              "7      2013 1   1   555      600            -5         913      854          \n",
              "8      2013 1   1   557      600            -3         709      723          \n",
              "9      2013 1   1   557      600            -3         838      846          \n",
              "10     2013 1   1   558      600            -2         753      745          \n",
              "11     2013 1   1   558      600            -2         849      851          \n",
              "12     2013 1   1   558      600            -2         853      856          \n",
              "13     2013 1   1   558      600            -2         924      917          \n",
              "14     2013 1   1   558      600            -2         923      937          \n",
              "15     2013 1   1   559      600            -1         941      910          \n",
              "16     2013 1   1   559      559             0         702      706          \n",
              "17     2013 1   1   559      600            -1         854      902          \n",
              "18     2013 1   1   600      600             0         851      858          \n",
              "19     2013 1   1   600      600             0         837      825          \n",
              "20     2013 1   1   601      600             1         844      850          \n",
              "21     2013 1   1   602      610            -8         812      820          \n",
              "22     2013 1   1   602      605            -3         821      805          \n",
              "23     2013 1   1   606      610            -4         858      910          \n",
              "24     2013 1   1   606      610            -4         837      845          \n",
              "25     2013 1   1   607      607             0         858      915          \n",
              "26     2013 1   1   608      600             8         807      735          \n",
              "27     2013 1   1   611      600            11         945      931          \n",
              "28     2013 1   1   613      610             3         925      921          \n",
              "29     2013 1   1   615      615             0        1039     1100          \n",
              "30     2013 1   1   615      615             0         833      842          \n",
              "⋮      ⋮    ⋮   ⋮   ⋮        ⋮              ⋮         ⋮        ⋮             \n",
              "336747 2013 9   30  2123     2125            -2       2223     2247          \n",
              "336748 2013 9   30  2127     2129            -2       2314     2323          \n",
              "336749 2013 9   30  2128     2130            -2       2328     2359          \n",
              "336750 2013 9   30  2129     2059            30       2230     2232          \n",
              "336751 2013 9   30  2131     2140            -9       2225     2255          \n",
              "336752 2013 9   30  2140     2140             0         10       40          \n",
              "336753 2013 9   30  2142     2129            13       2250     2239          \n",
              "336754 2013 9   30  2145     2145             0        115      140          \n",
              "336755 2013 9   30  2147     2137            10         30       27          \n",
              "336756 2013 9   30  2149     2156            -7       2245     2308          \n",
              "336757 2013 9   30  2150     2159            -9       2250     2306          \n",
              "336758 2013 9   30  2159     1845           194       2344     2030          \n",
              "336759 2013 9   30  2203     2205            -2       2339     2331          \n",
              "336760 2013 9   30  2207     2140            27       2257     2250          \n",
              "336761 2013 9   30  2211     2059            72       2339     2242          \n",
              "336762 2013 9   30  2231     2245           -14       2335     2356          \n",
              "336763 2013 9   30  2233     2113            80        112       30          \n",
              "336764 2013 9   30  2235     2001           154         59     2249          \n",
              "336765 2013 9   30  2237     2245            -8       2345     2353          \n",
              "336766 2013 9   30  2240     2245            -5       2334     2351          \n",
              "336767 2013 9   30  2240     2250           -10       2347        7          \n",
              "336768 2013 9   30  2241     2246            -5       2345        1          \n",
              "336769 2013 9   30  2307     2255            12       2359     2358          \n",
              "336770 2013 9   30  2349     2359           -10        325      350          \n",
              "336771 2013 9   30    NA     1842            NA         NA     2019          \n",
              "336772 2013 9   30    NA     1455            NA         NA     1634          \n",
              "336773 2013 9   30    NA     2200            NA         NA     2312          \n",
              "336774 2013 9   30    NA     1210            NA         NA     1330          \n",
              "336775 2013 9   30    NA     1159            NA         NA     1344          \n",
              "336776 2013 9   30    NA      840            NA         NA     1020          \n",
              "       arr_delay carrier ⋯ tailnum origin dest air_time distance hour minute\n",
              "1       11       UA      ⋯ N14228  EWR    IAH  227      1400     5    15    \n",
              "2       20       UA      ⋯ N24211  LGA    IAH  227      1416     5    29    \n",
              "3       33       AA      ⋯ N619AA  JFK    MIA  160      1089     5    40    \n",
              "4      -18       B6      ⋯ N804JB  JFK    BQN  183      1576     5    45    \n",
              "5      -25       DL      ⋯ N668DN  LGA    ATL  116       762     6     0    \n",
              "6       12       UA      ⋯ N39463  EWR    ORD  150       719     5    58    \n",
              "7       19       B6      ⋯ N516JB  EWR    FLL  158      1065     6     0    \n",
              "8      -14       EV      ⋯ N829AS  LGA    IAD   53       229     6     0    \n",
              "9       -8       B6      ⋯ N593JB  JFK    MCO  140       944     6     0    \n",
              "10       8       AA      ⋯ N3ALAA  LGA    ORD  138       733     6     0    \n",
              "11      -2       B6      ⋯ N793JB  JFK    PBI  149      1028     6     0    \n",
              "12      -3       B6      ⋯ N657JB  JFK    TPA  158      1005     6     0    \n",
              "13       7       UA      ⋯ N29129  JFK    LAX  345      2475     6     0    \n",
              "14     -14       UA      ⋯ N53441  EWR    SFO  361      2565     6     0    \n",
              "15      31       AA      ⋯ N3DUAA  LGA    DFW  257      1389     6     0    \n",
              "16      -4       B6      ⋯ N708JB  JFK    BOS   44       187     5    59    \n",
              "17      -8       UA      ⋯ N76515  EWR    LAS  337      2227     6     0    \n",
              "18      -7       B6      ⋯ N595JB  LGA    FLL  152      1076     6     0    \n",
              "19      12       MQ      ⋯ N542MQ  LGA    ATL  134       762     6     0    \n",
              "20      -6       B6      ⋯ N644JB  EWR    PBI  147      1023     6     0    \n",
              "21      -8       DL      ⋯ N971DL  LGA    MSP  170      1020     6    10    \n",
              "22      16       MQ      ⋯ N730MQ  LGA    DTW  105       502     6     5    \n",
              "23     -12       AA      ⋯ N633AA  EWR    MIA  152      1085     6    10    \n",
              "24      -8       DL      ⋯ N3739P  JFK    ATL  128       760     6    10    \n",
              "25     -17       UA      ⋯ N53442  EWR    MIA  157      1085     6     7    \n",
              "26      32       MQ      ⋯ N9EAMQ  EWR    ORD  139       719     6     0    \n",
              "27      14       UA      ⋯ N532UA  JFK    SFO  366      2586     6     0    \n",
              "28       4       B6      ⋯ N635JB  JFK    RSW  175      1074     6    10    \n",
              "29     -21       B6      ⋯ N794JB  JFK    SJU  182      1598     6    15    \n",
              "30      -9       DL      ⋯ N326NB  EWR    ATL  120       746     6    15    \n",
              "⋮      ⋮         ⋮       ⋱ ⋮       ⋮      ⋮    ⋮        ⋮        ⋮    ⋮     \n",
              "336747 -24       EV      ⋯ N712EV  LGA    CHO   45       305     21   25    \n",
              "336748  -9       EV      ⋯ N16546  EWR    CLT   72       529     21   29    \n",
              "336749 -31       B6      ⋯ N807JB  JFK    DEN  213      1626     21   30    \n",
              "336750  -2       EV      ⋯ N751EV  LGA    RIC   45       292     20   59    \n",
              "336751 -30       MQ      ⋯ N807MQ  JFK    DCA   36       213     21   40    \n",
              "336752 -30       AA      ⋯ N335AA  JFK    LAX  298      2475     21   40    \n",
              "336753  11       EV      ⋯ N12957  EWR    PWM   47       284     21   29    \n",
              "336754 -25       B6      ⋯ N633JB  JFK    SJU  192      1598     21   45    \n",
              "336755   3       B6      ⋯ N627JB  LGA    FLL  139      1076     21   37    \n",
              "336756 -23       UA      ⋯ N813UA  EWR    BOS   37       200     21   56    \n",
              "336757 -16       EV      ⋯ N10575  EWR    MHT   39       209     21   59    \n",
              "336758 194       9E      ⋯ N906XJ  JFK    BUF   50       301     18   45    \n",
              "336759   8       EV      ⋯ N722EV  LGA    BGR   61       378     22    5    \n",
              "336760   7       MQ      ⋯ N532MQ  LGA    BNA   97       764     21   40    \n",
              "336761  57       EV      ⋯ N12145  EWR    STL  120       872     20   59    \n",
              "336762 -21       B6      ⋯ N193JB  JFK    PWM   48       273     22   45    \n",
              "336763  42       UA      ⋯ N578UA  EWR    SFO  318      2565     21   13    \n",
              "336764 130       B6      ⋯ N804JB  JFK    MCO  123       944     20    1    \n",
              "336765  -8       B6      ⋯ N318JB  JFK    BTV   43       266     22   45    \n",
              "336766 -17       B6      ⋯ N354JB  JFK    SYR   41       209     22   45    \n",
              "336767 -20       B6      ⋯ N281JB  JFK    BUF   52       301     22   50    \n",
              "336768 -16       B6      ⋯ N346JB  JFK    ROC   47       264     22   46    \n",
              "336769   1       B6      ⋯ N565JB  JFK    BOS   33       187     22   55    \n",
              "336770 -25       B6      ⋯ N516JB  JFK    PSE  196      1617     23   59    \n",
              "336771  NA       EV      ⋯ N740EV  LGA    BNA   NA       764     18   42    \n",
              "336772  NA       9E      ⋯ NA      JFK    DCA   NA       213     14   55    \n",
              "336773  NA       9E      ⋯ NA      LGA    SYR   NA       198     22    0    \n",
              "336774  NA       MQ      ⋯ N535MQ  LGA    BNA   NA       764     12   10    \n",
              "336775  NA       MQ      ⋯ N511MQ  LGA    CLE   NA       419     11   59    \n",
              "336776  NA       MQ      ⋯ N839MQ  LGA    RDU   NA       431      8   40    \n",
              "       time_hour           retraso_neto1 retraso_neto\n",
              "1      2013-01-01 05:00:00  13            13         \n",
              "2      2013-01-01 05:00:00  24            24         \n",
              "3      2013-01-01 05:00:00  35            35         \n",
              "4      2013-01-01 05:00:00 -19           -19         \n",
              "5      2013-01-01 06:00:00 -31           -31         \n",
              "6      2013-01-01 05:00:00   8             8         \n",
              "7      2013-01-01 06:00:00  14            14         \n",
              "8      2013-01-01 06:00:00 -17           -17         \n",
              "9      2013-01-01 06:00:00 -11           -11         \n",
              "10     2013-01-01 06:00:00   6             6         \n",
              "11     2013-01-01 06:00:00  -4            -4         \n",
              "12     2013-01-01 06:00:00  -5            -5         \n",
              "13     2013-01-01 06:00:00   5             5         \n",
              "14     2013-01-01 06:00:00 -16           -16         \n",
              "15     2013-01-01 06:00:00  30            30         \n",
              "16     2013-01-01 05:00:00  -4            -4         \n",
              "17     2013-01-01 06:00:00  -9            -9         \n",
              "18     2013-01-01 06:00:00  -7            -7         \n",
              "19     2013-01-01 06:00:00  12            12         \n",
              "20     2013-01-01 06:00:00  -5            -5         \n",
              "21     2013-01-01 06:00:00 -16           -16         \n",
              "22     2013-01-01 06:00:00  13            13         \n",
              "23     2013-01-01 06:00:00 -16           -16         \n",
              "24     2013-01-01 06:00:00 -12           -12         \n",
              "25     2013-01-01 06:00:00 -17           -17         \n",
              "26     2013-01-01 06:00:00  40            40         \n",
              "27     2013-01-01 06:00:00  25            25         \n",
              "28     2013-01-01 06:00:00   7             7         \n",
              "29     2013-01-01 06:00:00 -21           -21         \n",
              "30     2013-01-01 06:00:00  -9            -9         \n",
              "⋮      ⋮                   ⋮             ⋮           \n",
              "336747 2013-09-30 21:00:00 -26           -26         \n",
              "336748 2013-09-30 21:00:00 -11           -11         \n",
              "336749 2013-09-30 21:00:00 -33           -33         \n",
              "336750 2013-09-30 20:00:00  28            28         \n",
              "336751 2013-09-30 21:00:00 -39           -39         \n",
              "336752 2013-09-30 21:00:00 -30           -30         \n",
              "336753 2013-09-30 21:00:00  24            24         \n",
              "336754 2013-09-30 21:00:00 -25           -25         \n",
              "336755 2013-09-30 21:00:00  13            13         \n",
              "336756 2013-09-30 21:00:00 -30           -30         \n",
              "336757 2013-09-30 21:00:00 -25           -25         \n",
              "336758 2013-09-30 18:00:00 388           388         \n",
              "336759 2013-09-30 22:00:00   6             6         \n",
              "336760 2013-09-30 21:00:00  34            34         \n",
              "336761 2013-09-30 20:00:00 129           129         \n",
              "336762 2013-09-30 22:00:00 -35           -35         \n",
              "336763 2013-09-30 21:00:00 122           122         \n",
              "336764 2013-09-30 20:00:00 284           284         \n",
              "336765 2013-09-30 22:00:00 -16           -16         \n",
              "336766 2013-09-30 22:00:00 -22           -22         \n",
              "336767 2013-09-30 22:00:00 -30           -30         \n",
              "336768 2013-09-30 22:00:00 -21           -21         \n",
              "336769 2013-09-30 22:00:00  13            13         \n",
              "336770 2013-09-30 23:00:00 -35           -35         \n",
              "336771 2013-09-30 18:00:00  NA            NA         \n",
              "336772 2013-09-30 14:00:00  NA            NA         \n",
              "336773 2013-09-30 22:00:00  NA            NA         \n",
              "336774 2013-09-30 12:00:00  NA            NA         \n",
              "336775 2013-09-30 11:00:00  NA            NA         \n",
              "336776 2013-09-30 08:00:00  NA            NA         "
            ]
          },
          "metadata": {}
        }
      ]
    },
    {
      "cell_type": "code",
      "source": [
        "# Recordar que esta nueva columna solo existe en la ejecución y no se ha modificado el dataset original.\n",
        "head(vuelos)\n",
        "vuelos <- mutate(vuelos, retraso_neto = arr_delay + dep_delay)"
      ],
      "metadata": {
        "id": "S0x0OELFqlN8",
        "outputId": "ee3c9ef6-c706-49e8-97ec-f1571dccb0f9",
        "colab": {
          "base_uri": "https://localhost:8080/",
          "height": 286
        }
      },
      "execution_count": null,
      "outputs": [
        {
          "output_type": "display_data",
          "data": {
            "text/html": [
              "<table class=\"dataframe\">\n",
              "<caption>A data.frame: 6 × 20</caption>\n",
              "<thead>\n",
              "\t<tr><th></th><th scope=col>anio</th><th scope=col>mes</th><th scope=col>dia</th><th scope=col>dep_time</th><th scope=col>sched_dep_time</th><th scope=col>dep_delay</th><th scope=col>arr_time</th><th scope=col>sched_arr_time</th><th scope=col>arr_delay</th><th scope=col>carrier</th><th scope=col>flight</th><th scope=col>tailnum</th><th scope=col>origin</th><th scope=col>dest</th><th scope=col>air_time</th><th scope=col>distance</th><th scope=col>hour</th><th scope=col>minute</th><th scope=col>time_hour</th><th scope=col>retraso_neto1</th></tr>\n",
              "\t<tr><th></th><th scope=col>&lt;int&gt;</th><th scope=col>&lt;int&gt;</th><th scope=col>&lt;int&gt;</th><th scope=col>&lt;int&gt;</th><th scope=col>&lt;int&gt;</th><th scope=col>&lt;int&gt;</th><th scope=col>&lt;int&gt;</th><th scope=col>&lt;int&gt;</th><th scope=col>&lt;int&gt;</th><th scope=col>&lt;chr&gt;</th><th scope=col>&lt;int&gt;</th><th scope=col>&lt;chr&gt;</th><th scope=col>&lt;chr&gt;</th><th scope=col>&lt;chr&gt;</th><th scope=col>&lt;int&gt;</th><th scope=col>&lt;int&gt;</th><th scope=col>&lt;int&gt;</th><th scope=col>&lt;int&gt;</th><th scope=col>&lt;chr&gt;</th><th scope=col>&lt;int&gt;</th></tr>\n",
              "</thead>\n",
              "<tbody>\n",
              "\t<tr><th scope=row>1</th><td>2013</td><td>1</td><td>1</td><td>517</td><td>515</td><td> 2</td><td> 830</td><td> 819</td><td> 11</td><td>UA</td><td>1545</td><td>N14228</td><td>EWR</td><td>IAH</td><td>227</td><td>1400</td><td>5</td><td>15</td><td>2013-01-01 05:00:00</td><td> 13</td></tr>\n",
              "\t<tr><th scope=row>2</th><td>2013</td><td>1</td><td>1</td><td>533</td><td>529</td><td> 4</td><td> 850</td><td> 830</td><td> 20</td><td>UA</td><td>1714</td><td>N24211</td><td>LGA</td><td>IAH</td><td>227</td><td>1416</td><td>5</td><td>29</td><td>2013-01-01 05:00:00</td><td> 24</td></tr>\n",
              "\t<tr><th scope=row>3</th><td>2013</td><td>1</td><td>1</td><td>542</td><td>540</td><td> 2</td><td> 923</td><td> 850</td><td> 33</td><td>AA</td><td>1141</td><td>N619AA</td><td>JFK</td><td>MIA</td><td>160</td><td>1089</td><td>5</td><td>40</td><td>2013-01-01 05:00:00</td><td> 35</td></tr>\n",
              "\t<tr><th scope=row>4</th><td>2013</td><td>1</td><td>1</td><td>544</td><td>545</td><td>-1</td><td>1004</td><td>1022</td><td>-18</td><td>B6</td><td> 725</td><td>N804JB</td><td>JFK</td><td>BQN</td><td>183</td><td>1576</td><td>5</td><td>45</td><td>2013-01-01 05:00:00</td><td>-19</td></tr>\n",
              "\t<tr><th scope=row>5</th><td>2013</td><td>1</td><td>1</td><td>554</td><td>600</td><td>-6</td><td> 812</td><td> 837</td><td>-25</td><td>DL</td><td> 461</td><td>N668DN</td><td>LGA</td><td>ATL</td><td>116</td><td> 762</td><td>6</td><td> 0</td><td>2013-01-01 06:00:00</td><td>-31</td></tr>\n",
              "\t<tr><th scope=row>6</th><td>2013</td><td>1</td><td>1</td><td>554</td><td>558</td><td>-4</td><td> 740</td><td> 728</td><td> 12</td><td>UA</td><td>1696</td><td>N39463</td><td>EWR</td><td>ORD</td><td>150</td><td> 719</td><td>5</td><td>58</td><td>2013-01-01 05:00:00</td><td>  8</td></tr>\n",
              "</tbody>\n",
              "</table>\n"
            ],
            "text/markdown": "\nA data.frame: 6 × 20\n\n| <!--/--> | anio &lt;int&gt; | mes &lt;int&gt; | dia &lt;int&gt; | dep_time &lt;int&gt; | sched_dep_time &lt;int&gt; | dep_delay &lt;int&gt; | arr_time &lt;int&gt; | sched_arr_time &lt;int&gt; | arr_delay &lt;int&gt; | carrier &lt;chr&gt; | flight &lt;int&gt; | tailnum &lt;chr&gt; | origin &lt;chr&gt; | dest &lt;chr&gt; | air_time &lt;int&gt; | distance &lt;int&gt; | hour &lt;int&gt; | minute &lt;int&gt; | time_hour &lt;chr&gt; | retraso_neto1 &lt;int&gt; |\n|---|---|---|---|---|---|---|---|---|---|---|---|---|---|---|---|---|---|---|---|---|\n| 1 | 2013 | 1 | 1 | 517 | 515 |  2 |  830 |  819 |  11 | UA | 1545 | N14228 | EWR | IAH | 227 | 1400 | 5 | 15 | 2013-01-01 05:00:00 |  13 |\n| 2 | 2013 | 1 | 1 | 533 | 529 |  4 |  850 |  830 |  20 | UA | 1714 | N24211 | LGA | IAH | 227 | 1416 | 5 | 29 | 2013-01-01 05:00:00 |  24 |\n| 3 | 2013 | 1 | 1 | 542 | 540 |  2 |  923 |  850 |  33 | AA | 1141 | N619AA | JFK | MIA | 160 | 1089 | 5 | 40 | 2013-01-01 05:00:00 |  35 |\n| 4 | 2013 | 1 | 1 | 544 | 545 | -1 | 1004 | 1022 | -18 | B6 |  725 | N804JB | JFK | BQN | 183 | 1576 | 5 | 45 | 2013-01-01 05:00:00 | -19 |\n| 5 | 2013 | 1 | 1 | 554 | 600 | -6 |  812 |  837 | -25 | DL |  461 | N668DN | LGA | ATL | 116 |  762 | 6 |  0 | 2013-01-01 06:00:00 | -31 |\n| 6 | 2013 | 1 | 1 | 554 | 558 | -4 |  740 |  728 |  12 | UA | 1696 | N39463 | EWR | ORD | 150 |  719 | 5 | 58 | 2013-01-01 05:00:00 |   8 |\n\n",
            "text/latex": "A data.frame: 6 × 20\n\\begin{tabular}{r|llllllllllllllllllll}\n  & anio & mes & dia & dep\\_time & sched\\_dep\\_time & dep\\_delay & arr\\_time & sched\\_arr\\_time & arr\\_delay & carrier & flight & tailnum & origin & dest & air\\_time & distance & hour & minute & time\\_hour & retraso\\_neto1\\\\\n  & <int> & <int> & <int> & <int> & <int> & <int> & <int> & <int> & <int> & <chr> & <int> & <chr> & <chr> & <chr> & <int> & <int> & <int> & <int> & <chr> & <int>\\\\\n\\hline\n\t1 & 2013 & 1 & 1 & 517 & 515 &  2 &  830 &  819 &  11 & UA & 1545 & N14228 & EWR & IAH & 227 & 1400 & 5 & 15 & 2013-01-01 05:00:00 &  13\\\\\n\t2 & 2013 & 1 & 1 & 533 & 529 &  4 &  850 &  830 &  20 & UA & 1714 & N24211 & LGA & IAH & 227 & 1416 & 5 & 29 & 2013-01-01 05:00:00 &  24\\\\\n\t3 & 2013 & 1 & 1 & 542 & 540 &  2 &  923 &  850 &  33 & AA & 1141 & N619AA & JFK & MIA & 160 & 1089 & 5 & 40 & 2013-01-01 05:00:00 &  35\\\\\n\t4 & 2013 & 1 & 1 & 544 & 545 & -1 & 1004 & 1022 & -18 & B6 &  725 & N804JB & JFK & BQN & 183 & 1576 & 5 & 45 & 2013-01-01 05:00:00 & -19\\\\\n\t5 & 2013 & 1 & 1 & 554 & 600 & -6 &  812 &  837 & -25 & DL &  461 & N668DN & LGA & ATL & 116 &  762 & 6 &  0 & 2013-01-01 06:00:00 & -31\\\\\n\t6 & 2013 & 1 & 1 & 554 & 558 & -4 &  740 &  728 &  12 & UA & 1696 & N39463 & EWR & ORD & 150 &  719 & 5 & 58 & 2013-01-01 05:00:00 &   8\\\\\n\\end{tabular}\n",
            "text/plain": [
              "  anio mes dia dep_time sched_dep_time dep_delay arr_time sched_arr_time\n",
              "1 2013 1   1   517      515             2         830      819          \n",
              "2 2013 1   1   533      529             4         850      830          \n",
              "3 2013 1   1   542      540             2         923      850          \n",
              "4 2013 1   1   544      545            -1        1004     1022          \n",
              "5 2013 1   1   554      600            -6         812      837          \n",
              "6 2013 1   1   554      558            -4         740      728          \n",
              "  arr_delay carrier flight tailnum origin dest air_time distance hour minute\n",
              "1  11       UA      1545   N14228  EWR    IAH  227      1400     5    15    \n",
              "2  20       UA      1714   N24211  LGA    IAH  227      1416     5    29    \n",
              "3  33       AA      1141   N619AA  JFK    MIA  160      1089     5    40    \n",
              "4 -18       B6       725   N804JB  JFK    BQN  183      1576     5    45    \n",
              "5 -25       DL       461   N668DN  LGA    ATL  116       762     6     0    \n",
              "6  12       UA      1696   N39463  EWR    ORD  150       719     5    58    \n",
              "  time_hour           retraso_neto1\n",
              "1 2013-01-01 05:00:00  13          \n",
              "2 2013-01-01 05:00:00  24          \n",
              "3 2013-01-01 05:00:00  35          \n",
              "4 2013-01-01 05:00:00 -19          \n",
              "5 2013-01-01 06:00:00 -31          \n",
              "6 2013-01-01 05:00:00   8          "
            ]
          },
          "metadata": {}
        }
      ]
    },
    {
      "cell_type": "code",
      "source": [
        "head(vuelos)"
      ],
      "metadata": {
        "id": "kRQbV1-tqtxp",
        "outputId": "2f9082a2-10e8-4191-eb79-9b63ebe2f993",
        "colab": {
          "base_uri": "https://localhost:8080/",
          "height": 494
        }
      },
      "execution_count": null,
      "outputs": [
        {
          "output_type": "display_data",
          "data": {
            "text/html": [
              "<table class=\"dataframe\">\n",
              "<caption>A data.frame: 6 × 21</caption>\n",
              "<thead>\n",
              "\t<tr><th></th><th scope=col>anio</th><th scope=col>mes</th><th scope=col>dia</th><th scope=col>dep_time</th><th scope=col>sched_dep_time</th><th scope=col>dep_delay</th><th scope=col>arr_time</th><th scope=col>sched_arr_time</th><th scope=col>arr_delay</th><th scope=col>carrier</th><th scope=col>⋯</th><th scope=col>tailnum</th><th scope=col>origin</th><th scope=col>dest</th><th scope=col>air_time</th><th scope=col>distance</th><th scope=col>hour</th><th scope=col>minute</th><th scope=col>time_hour</th><th scope=col>retraso_neto1</th><th scope=col>retraso_neto</th></tr>\n",
              "\t<tr><th></th><th scope=col>&lt;int&gt;</th><th scope=col>&lt;int&gt;</th><th scope=col>&lt;int&gt;</th><th scope=col>&lt;int&gt;</th><th scope=col>&lt;int&gt;</th><th scope=col>&lt;int&gt;</th><th scope=col>&lt;int&gt;</th><th scope=col>&lt;int&gt;</th><th scope=col>&lt;int&gt;</th><th scope=col>&lt;chr&gt;</th><th scope=col>⋯</th><th scope=col>&lt;chr&gt;</th><th scope=col>&lt;chr&gt;</th><th scope=col>&lt;chr&gt;</th><th scope=col>&lt;int&gt;</th><th scope=col>&lt;int&gt;</th><th scope=col>&lt;int&gt;</th><th scope=col>&lt;int&gt;</th><th scope=col>&lt;chr&gt;</th><th scope=col>&lt;int&gt;</th><th scope=col>&lt;int&gt;</th></tr>\n",
              "</thead>\n",
              "<tbody>\n",
              "\t<tr><th scope=row>1</th><td>2013</td><td>1</td><td>1</td><td>517</td><td>515</td><td> 2</td><td> 830</td><td> 819</td><td> 11</td><td>UA</td><td>⋯</td><td>N14228</td><td>EWR</td><td>IAH</td><td>227</td><td>1400</td><td>5</td><td>15</td><td>2013-01-01 05:00:00</td><td> 13</td><td> 13</td></tr>\n",
              "\t<tr><th scope=row>2</th><td>2013</td><td>1</td><td>1</td><td>533</td><td>529</td><td> 4</td><td> 850</td><td> 830</td><td> 20</td><td>UA</td><td>⋯</td><td>N24211</td><td>LGA</td><td>IAH</td><td>227</td><td>1416</td><td>5</td><td>29</td><td>2013-01-01 05:00:00</td><td> 24</td><td> 24</td></tr>\n",
              "\t<tr><th scope=row>3</th><td>2013</td><td>1</td><td>1</td><td>542</td><td>540</td><td> 2</td><td> 923</td><td> 850</td><td> 33</td><td>AA</td><td>⋯</td><td>N619AA</td><td>JFK</td><td>MIA</td><td>160</td><td>1089</td><td>5</td><td>40</td><td>2013-01-01 05:00:00</td><td> 35</td><td> 35</td></tr>\n",
              "\t<tr><th scope=row>4</th><td>2013</td><td>1</td><td>1</td><td>544</td><td>545</td><td>-1</td><td>1004</td><td>1022</td><td>-18</td><td>B6</td><td>⋯</td><td>N804JB</td><td>JFK</td><td>BQN</td><td>183</td><td>1576</td><td>5</td><td>45</td><td>2013-01-01 05:00:00</td><td>-19</td><td>-19</td></tr>\n",
              "\t<tr><th scope=row>5</th><td>2013</td><td>1</td><td>1</td><td>554</td><td>600</td><td>-6</td><td> 812</td><td> 837</td><td>-25</td><td>DL</td><td>⋯</td><td>N668DN</td><td>LGA</td><td>ATL</td><td>116</td><td> 762</td><td>6</td><td> 0</td><td>2013-01-01 06:00:00</td><td>-31</td><td>-31</td></tr>\n",
              "\t<tr><th scope=row>6</th><td>2013</td><td>1</td><td>1</td><td>554</td><td>558</td><td>-4</td><td> 740</td><td> 728</td><td> 12</td><td>UA</td><td>⋯</td><td>N39463</td><td>EWR</td><td>ORD</td><td>150</td><td> 719</td><td>5</td><td>58</td><td>2013-01-01 05:00:00</td><td>  8</td><td>  8</td></tr>\n",
              "</tbody>\n",
              "</table>\n"
            ],
            "text/markdown": "\nA data.frame: 6 × 21\n\n| <!--/--> | anio &lt;int&gt; | mes &lt;int&gt; | dia &lt;int&gt; | dep_time &lt;int&gt; | sched_dep_time &lt;int&gt; | dep_delay &lt;int&gt; | arr_time &lt;int&gt; | sched_arr_time &lt;int&gt; | arr_delay &lt;int&gt; | carrier &lt;chr&gt; | ⋯ ⋯ | tailnum &lt;chr&gt; | origin &lt;chr&gt; | dest &lt;chr&gt; | air_time &lt;int&gt; | distance &lt;int&gt; | hour &lt;int&gt; | minute &lt;int&gt; | time_hour &lt;chr&gt; | retraso_neto1 &lt;int&gt; | retraso_neto &lt;int&gt; |\n|---|---|---|---|---|---|---|---|---|---|---|---|---|---|---|---|---|---|---|---|---|---|\n| 1 | 2013 | 1 | 1 | 517 | 515 |  2 |  830 |  819 |  11 | UA | ⋯ | N14228 | EWR | IAH | 227 | 1400 | 5 | 15 | 2013-01-01 05:00:00 |  13 |  13 |\n| 2 | 2013 | 1 | 1 | 533 | 529 |  4 |  850 |  830 |  20 | UA | ⋯ | N24211 | LGA | IAH | 227 | 1416 | 5 | 29 | 2013-01-01 05:00:00 |  24 |  24 |\n| 3 | 2013 | 1 | 1 | 542 | 540 |  2 |  923 |  850 |  33 | AA | ⋯ | N619AA | JFK | MIA | 160 | 1089 | 5 | 40 | 2013-01-01 05:00:00 |  35 |  35 |\n| 4 | 2013 | 1 | 1 | 544 | 545 | -1 | 1004 | 1022 | -18 | B6 | ⋯ | N804JB | JFK | BQN | 183 | 1576 | 5 | 45 | 2013-01-01 05:00:00 | -19 | -19 |\n| 5 | 2013 | 1 | 1 | 554 | 600 | -6 |  812 |  837 | -25 | DL | ⋯ | N668DN | LGA | ATL | 116 |  762 | 6 |  0 | 2013-01-01 06:00:00 | -31 | -31 |\n| 6 | 2013 | 1 | 1 | 554 | 558 | -4 |  740 |  728 |  12 | UA | ⋯ | N39463 | EWR | ORD | 150 |  719 | 5 | 58 | 2013-01-01 05:00:00 |   8 |   8 |\n\n",
            "text/latex": "A data.frame: 6 × 21\n\\begin{tabular}{r|lllllllllllllllllllll}\n  & anio & mes & dia & dep\\_time & sched\\_dep\\_time & dep\\_delay & arr\\_time & sched\\_arr\\_time & arr\\_delay & carrier & ⋯ & tailnum & origin & dest & air\\_time & distance & hour & minute & time\\_hour & retraso\\_neto1 & retraso\\_neto\\\\\n  & <int> & <int> & <int> & <int> & <int> & <int> & <int> & <int> & <int> & <chr> & ⋯ & <chr> & <chr> & <chr> & <int> & <int> & <int> & <int> & <chr> & <int> & <int>\\\\\n\\hline\n\t1 & 2013 & 1 & 1 & 517 & 515 &  2 &  830 &  819 &  11 & UA & ⋯ & N14228 & EWR & IAH & 227 & 1400 & 5 & 15 & 2013-01-01 05:00:00 &  13 &  13\\\\\n\t2 & 2013 & 1 & 1 & 533 & 529 &  4 &  850 &  830 &  20 & UA & ⋯ & N24211 & LGA & IAH & 227 & 1416 & 5 & 29 & 2013-01-01 05:00:00 &  24 &  24\\\\\n\t3 & 2013 & 1 & 1 & 542 & 540 &  2 &  923 &  850 &  33 & AA & ⋯ & N619AA & JFK & MIA & 160 & 1089 & 5 & 40 & 2013-01-01 05:00:00 &  35 &  35\\\\\n\t4 & 2013 & 1 & 1 & 544 & 545 & -1 & 1004 & 1022 & -18 & B6 & ⋯ & N804JB & JFK & BQN & 183 & 1576 & 5 & 45 & 2013-01-01 05:00:00 & -19 & -19\\\\\n\t5 & 2013 & 1 & 1 & 554 & 600 & -6 &  812 &  837 & -25 & DL & ⋯ & N668DN & LGA & ATL & 116 &  762 & 6 &  0 & 2013-01-01 06:00:00 & -31 & -31\\\\\n\t6 & 2013 & 1 & 1 & 554 & 558 & -4 &  740 &  728 &  12 & UA & ⋯ & N39463 & EWR & ORD & 150 &  719 & 5 & 58 & 2013-01-01 05:00:00 &   8 &   8\\\\\n\\end{tabular}\n",
            "text/plain": [
              "  anio mes dia dep_time sched_dep_time dep_delay arr_time sched_arr_time\n",
              "1 2013 1   1   517      515             2         830      819          \n",
              "2 2013 1   1   533      529             4         850      830          \n",
              "3 2013 1   1   542      540             2         923      850          \n",
              "4 2013 1   1   544      545            -1        1004     1022          \n",
              "5 2013 1   1   554      600            -6         812      837          \n",
              "6 2013 1   1   554      558            -4         740      728          \n",
              "  arr_delay carrier ⋯ tailnum origin dest air_time distance hour minute\n",
              "1  11       UA      ⋯ N14228  EWR    IAH  227      1400     5    15    \n",
              "2  20       UA      ⋯ N24211  LGA    IAH  227      1416     5    29    \n",
              "3  33       AA      ⋯ N619AA  JFK    MIA  160      1089     5    40    \n",
              "4 -18       B6      ⋯ N804JB  JFK    BQN  183      1576     5    45    \n",
              "5 -25       DL      ⋯ N668DN  LGA    ATL  116       762     6     0    \n",
              "6  12       UA      ⋯ N39463  EWR    ORD  150       719     5    58    \n",
              "  time_hour           retraso_neto1 retraso_neto\n",
              "1 2013-01-01 05:00:00  13            13         \n",
              "2 2013-01-01 05:00:00  24            24         \n",
              "3 2013-01-01 05:00:00  35            35         \n",
              "4 2013-01-01 05:00:00 -19           -19         \n",
              "5 2013-01-01 06:00:00 -31           -31         \n",
              "6 2013-01-01 05:00:00   8             8         "
            ]
          },
          "metadata": {}
        }
      ]
    },
    {
      "cell_type": "code",
      "source": [
        "#Con mutate podemo redefinir columnas existentes\n",
        "# modificar la columna retraso_neto1, expresando sus valores en horas (dividir la columna actual por 60)\n",
        "vuelos <- mutate(vuelos, retraso_neto1 = retraso_neto1/60)\n",
        "head(vuelos)"
      ],
      "metadata": {
        "id": "V5yfXZTIq3to",
        "outputId": "fe776cf9-0813-4b91-8038-519099e2c34f",
        "colab": {
          "base_uri": "https://localhost:8080/",
          "height": 494
        }
      },
      "execution_count": null,
      "outputs": [
        {
          "output_type": "display_data",
          "data": {
            "text/html": [
              "<table class=\"dataframe\">\n",
              "<caption>A data.frame: 6 × 21</caption>\n",
              "<thead>\n",
              "\t<tr><th></th><th scope=col>anio</th><th scope=col>mes</th><th scope=col>dia</th><th scope=col>dep_time</th><th scope=col>sched_dep_time</th><th scope=col>dep_delay</th><th scope=col>arr_time</th><th scope=col>sched_arr_time</th><th scope=col>arr_delay</th><th scope=col>carrier</th><th scope=col>⋯</th><th scope=col>tailnum</th><th scope=col>origin</th><th scope=col>dest</th><th scope=col>air_time</th><th scope=col>distance</th><th scope=col>hour</th><th scope=col>minute</th><th scope=col>time_hour</th><th scope=col>retraso_neto1</th><th scope=col>retraso_neto</th></tr>\n",
              "\t<tr><th></th><th scope=col>&lt;int&gt;</th><th scope=col>&lt;int&gt;</th><th scope=col>&lt;int&gt;</th><th scope=col>&lt;int&gt;</th><th scope=col>&lt;int&gt;</th><th scope=col>&lt;int&gt;</th><th scope=col>&lt;int&gt;</th><th scope=col>&lt;int&gt;</th><th scope=col>&lt;int&gt;</th><th scope=col>&lt;chr&gt;</th><th scope=col>⋯</th><th scope=col>&lt;chr&gt;</th><th scope=col>&lt;chr&gt;</th><th scope=col>&lt;chr&gt;</th><th scope=col>&lt;int&gt;</th><th scope=col>&lt;int&gt;</th><th scope=col>&lt;int&gt;</th><th scope=col>&lt;int&gt;</th><th scope=col>&lt;chr&gt;</th><th scope=col>&lt;dbl&gt;</th><th scope=col>&lt;int&gt;</th></tr>\n",
              "</thead>\n",
              "<tbody>\n",
              "\t<tr><th scope=row>1</th><td>2013</td><td>1</td><td>1</td><td>517</td><td>515</td><td> 2</td><td> 830</td><td> 819</td><td> 11</td><td>UA</td><td>⋯</td><td>N14228</td><td>EWR</td><td>IAH</td><td>227</td><td>1400</td><td>5</td><td>15</td><td>2013-01-01 05:00:00</td><td> 0.2166667</td><td> 13</td></tr>\n",
              "\t<tr><th scope=row>2</th><td>2013</td><td>1</td><td>1</td><td>533</td><td>529</td><td> 4</td><td> 850</td><td> 830</td><td> 20</td><td>UA</td><td>⋯</td><td>N24211</td><td>LGA</td><td>IAH</td><td>227</td><td>1416</td><td>5</td><td>29</td><td>2013-01-01 05:00:00</td><td> 0.4000000</td><td> 24</td></tr>\n",
              "\t<tr><th scope=row>3</th><td>2013</td><td>1</td><td>1</td><td>542</td><td>540</td><td> 2</td><td> 923</td><td> 850</td><td> 33</td><td>AA</td><td>⋯</td><td>N619AA</td><td>JFK</td><td>MIA</td><td>160</td><td>1089</td><td>5</td><td>40</td><td>2013-01-01 05:00:00</td><td> 0.5833333</td><td> 35</td></tr>\n",
              "\t<tr><th scope=row>4</th><td>2013</td><td>1</td><td>1</td><td>544</td><td>545</td><td>-1</td><td>1004</td><td>1022</td><td>-18</td><td>B6</td><td>⋯</td><td>N804JB</td><td>JFK</td><td>BQN</td><td>183</td><td>1576</td><td>5</td><td>45</td><td>2013-01-01 05:00:00</td><td>-0.3166667</td><td>-19</td></tr>\n",
              "\t<tr><th scope=row>5</th><td>2013</td><td>1</td><td>1</td><td>554</td><td>600</td><td>-6</td><td> 812</td><td> 837</td><td>-25</td><td>DL</td><td>⋯</td><td>N668DN</td><td>LGA</td><td>ATL</td><td>116</td><td> 762</td><td>6</td><td> 0</td><td>2013-01-01 06:00:00</td><td>-0.5166667</td><td>-31</td></tr>\n",
              "\t<tr><th scope=row>6</th><td>2013</td><td>1</td><td>1</td><td>554</td><td>558</td><td>-4</td><td> 740</td><td> 728</td><td> 12</td><td>UA</td><td>⋯</td><td>N39463</td><td>EWR</td><td>ORD</td><td>150</td><td> 719</td><td>5</td><td>58</td><td>2013-01-01 05:00:00</td><td> 0.1333333</td><td>  8</td></tr>\n",
              "</tbody>\n",
              "</table>\n"
            ],
            "text/markdown": "\nA data.frame: 6 × 21\n\n| <!--/--> | anio &lt;int&gt; | mes &lt;int&gt; | dia &lt;int&gt; | dep_time &lt;int&gt; | sched_dep_time &lt;int&gt; | dep_delay &lt;int&gt; | arr_time &lt;int&gt; | sched_arr_time &lt;int&gt; | arr_delay &lt;int&gt; | carrier &lt;chr&gt; | ⋯ ⋯ | tailnum &lt;chr&gt; | origin &lt;chr&gt; | dest &lt;chr&gt; | air_time &lt;int&gt; | distance &lt;int&gt; | hour &lt;int&gt; | minute &lt;int&gt; | time_hour &lt;chr&gt; | retraso_neto1 &lt;dbl&gt; | retraso_neto &lt;int&gt; |\n|---|---|---|---|---|---|---|---|---|---|---|---|---|---|---|---|---|---|---|---|---|---|\n| 1 | 2013 | 1 | 1 | 517 | 515 |  2 |  830 |  819 |  11 | UA | ⋯ | N14228 | EWR | IAH | 227 | 1400 | 5 | 15 | 2013-01-01 05:00:00 |  0.2166667 |  13 |\n| 2 | 2013 | 1 | 1 | 533 | 529 |  4 |  850 |  830 |  20 | UA | ⋯ | N24211 | LGA | IAH | 227 | 1416 | 5 | 29 | 2013-01-01 05:00:00 |  0.4000000 |  24 |\n| 3 | 2013 | 1 | 1 | 542 | 540 |  2 |  923 |  850 |  33 | AA | ⋯ | N619AA | JFK | MIA | 160 | 1089 | 5 | 40 | 2013-01-01 05:00:00 |  0.5833333 |  35 |\n| 4 | 2013 | 1 | 1 | 544 | 545 | -1 | 1004 | 1022 | -18 | B6 | ⋯ | N804JB | JFK | BQN | 183 | 1576 | 5 | 45 | 2013-01-01 05:00:00 | -0.3166667 | -19 |\n| 5 | 2013 | 1 | 1 | 554 | 600 | -6 |  812 |  837 | -25 | DL | ⋯ | N668DN | LGA | ATL | 116 |  762 | 6 |  0 | 2013-01-01 06:00:00 | -0.5166667 | -31 |\n| 6 | 2013 | 1 | 1 | 554 | 558 | -4 |  740 |  728 |  12 | UA | ⋯ | N39463 | EWR | ORD | 150 |  719 | 5 | 58 | 2013-01-01 05:00:00 |  0.1333333 |   8 |\n\n",
            "text/latex": "A data.frame: 6 × 21\n\\begin{tabular}{r|lllllllllllllllllllll}\n  & anio & mes & dia & dep\\_time & sched\\_dep\\_time & dep\\_delay & arr\\_time & sched\\_arr\\_time & arr\\_delay & carrier & ⋯ & tailnum & origin & dest & air\\_time & distance & hour & minute & time\\_hour & retraso\\_neto1 & retraso\\_neto\\\\\n  & <int> & <int> & <int> & <int> & <int> & <int> & <int> & <int> & <int> & <chr> & ⋯ & <chr> & <chr> & <chr> & <int> & <int> & <int> & <int> & <chr> & <dbl> & <int>\\\\\n\\hline\n\t1 & 2013 & 1 & 1 & 517 & 515 &  2 &  830 &  819 &  11 & UA & ⋯ & N14228 & EWR & IAH & 227 & 1400 & 5 & 15 & 2013-01-01 05:00:00 &  0.2166667 &  13\\\\\n\t2 & 2013 & 1 & 1 & 533 & 529 &  4 &  850 &  830 &  20 & UA & ⋯ & N24211 & LGA & IAH & 227 & 1416 & 5 & 29 & 2013-01-01 05:00:00 &  0.4000000 &  24\\\\\n\t3 & 2013 & 1 & 1 & 542 & 540 &  2 &  923 &  850 &  33 & AA & ⋯ & N619AA & JFK & MIA & 160 & 1089 & 5 & 40 & 2013-01-01 05:00:00 &  0.5833333 &  35\\\\\n\t4 & 2013 & 1 & 1 & 544 & 545 & -1 & 1004 & 1022 & -18 & B6 & ⋯ & N804JB & JFK & BQN & 183 & 1576 & 5 & 45 & 2013-01-01 05:00:00 & -0.3166667 & -19\\\\\n\t5 & 2013 & 1 & 1 & 554 & 600 & -6 &  812 &  837 & -25 & DL & ⋯ & N668DN & LGA & ATL & 116 &  762 & 6 &  0 & 2013-01-01 06:00:00 & -0.5166667 & -31\\\\\n\t6 & 2013 & 1 & 1 & 554 & 558 & -4 &  740 &  728 &  12 & UA & ⋯ & N39463 & EWR & ORD & 150 &  719 & 5 & 58 & 2013-01-01 05:00:00 &  0.1333333 &   8\\\\\n\\end{tabular}\n",
            "text/plain": [
              "  anio mes dia dep_time sched_dep_time dep_delay arr_time sched_arr_time\n",
              "1 2013 1   1   517      515             2         830      819          \n",
              "2 2013 1   1   533      529             4         850      830          \n",
              "3 2013 1   1   542      540             2         923      850          \n",
              "4 2013 1   1   544      545            -1        1004     1022          \n",
              "5 2013 1   1   554      600            -6         812      837          \n",
              "6 2013 1   1   554      558            -4         740      728          \n",
              "  arr_delay carrier ⋯ tailnum origin dest air_time distance hour minute\n",
              "1  11       UA      ⋯ N14228  EWR    IAH  227      1400     5    15    \n",
              "2  20       UA      ⋯ N24211  LGA    IAH  227      1416     5    29    \n",
              "3  33       AA      ⋯ N619AA  JFK    MIA  160      1089     5    40    \n",
              "4 -18       B6      ⋯ N804JB  JFK    BQN  183      1576     5    45    \n",
              "5 -25       DL      ⋯ N668DN  LGA    ATL  116       762     6     0    \n",
              "6  12       UA      ⋯ N39463  EWR    ORD  150       719     5    58    \n",
              "  time_hour           retraso_neto1 retraso_neto\n",
              "1 2013-01-01 05:00:00  0.2166667     13         \n",
              "2 2013-01-01 05:00:00  0.4000000     24         \n",
              "3 2013-01-01 05:00:00  0.5833333     35         \n",
              "4 2013-01-01 05:00:00 -0.3166667    -19         \n",
              "5 2013-01-01 06:00:00 -0.5166667    -31         \n",
              "6 2013-01-01 05:00:00  0.1333333      8         "
            ]
          },
          "metadata": {}
        }
      ]
    },
    {
      "cell_type": "code",
      "source": [
        "names(vuelos)"
      ],
      "metadata": {
        "id": "MygKtbpXrqTt",
        "outputId": "326e84ee-5660-4753-c145-39ad44aa1d34",
        "colab": {
          "base_uri": "https://localhost:8080/",
          "height": 34
        }
      },
      "execution_count": null,
      "outputs": [
        {
          "output_type": "display_data",
          "data": {
            "text/html": [
              "<style>\n",
              ".list-inline {list-style: none; margin:0; padding: 0}\n",
              ".list-inline>li {display: inline-block}\n",
              ".list-inline>li:not(:last-child)::after {content: \"\\00b7\"; padding: 0 .5ex}\n",
              "</style>\n",
              "<ol class=list-inline><li>'anio'</li><li>'mes'</li><li>'dia'</li><li>'dep_time'</li><li>'sched_dep_time'</li><li>'dep_delay'</li><li>'arr_time'</li><li>'sched_arr_time'</li><li>'arr_delay'</li><li>'carrier'</li><li>'flight'</li><li>'tailnum'</li><li>'origin'</li><li>'dest'</li><li>'air_time'</li><li>'distance'</li><li>'hour'</li><li>'minute'</li><li>'time_hour'</li><li>'retraso_neto1'</li><li>'retraso_neto'</li></ol>\n"
            ],
            "text/markdown": "1. 'anio'\n2. 'mes'\n3. 'dia'\n4. 'dep_time'\n5. 'sched_dep_time'\n6. 'dep_delay'\n7. 'arr_time'\n8. 'sched_arr_time'\n9. 'arr_delay'\n10. 'carrier'\n11. 'flight'\n12. 'tailnum'\n13. 'origin'\n14. 'dest'\n15. 'air_time'\n16. 'distance'\n17. 'hour'\n18. 'minute'\n19. 'time_hour'\n20. 'retraso_neto1'\n21. 'retraso_neto'\n\n\n",
            "text/latex": "\\begin{enumerate*}\n\\item 'anio'\n\\item 'mes'\n\\item 'dia'\n\\item 'dep\\_time'\n\\item 'sched\\_dep\\_time'\n\\item 'dep\\_delay'\n\\item 'arr\\_time'\n\\item 'sched\\_arr\\_time'\n\\item 'arr\\_delay'\n\\item 'carrier'\n\\item 'flight'\n\\item 'tailnum'\n\\item 'origin'\n\\item 'dest'\n\\item 'air\\_time'\n\\item 'distance'\n\\item 'hour'\n\\item 'minute'\n\\item 'time\\_hour'\n\\item 'retraso\\_neto1'\n\\item 'retraso\\_neto'\n\\end{enumerate*}\n",
            "text/plain": [
              " [1] \"anio\"           \"mes\"            \"dia\"            \"dep_time\"      \n",
              " [5] \"sched_dep_time\" \"dep_delay\"      \"arr_time\"       \"sched_arr_time\"\n",
              " [9] \"arr_delay\"      \"carrier\"        \"flight\"         \"tailnum\"       \n",
              "[13] \"origin\"         \"dest\"           \"air_time\"       \"distance\"      \n",
              "[17] \"hour\"           \"minute\"         \"time_hour\"      \"retraso_neto1\" \n",
              "[21] \"retraso_neto\"  "
            ]
          },
          "metadata": {}
        }
      ]
    },
    {
      "cell_type": "code",
      "source": [
        "abs(-5)\n",
        "abs(7)"
      ],
      "metadata": {
        "id": "49wMVQlfsTkJ",
        "outputId": "13fd11fb-57a0-4205-a658-12799d15f46d",
        "colab": {
          "base_uri": "https://localhost:8080/",
          "height": 52
        }
      },
      "execution_count": null,
      "outputs": [
        {
          "output_type": "display_data",
          "data": {
            "text/html": [
              "5"
            ],
            "text/markdown": "5",
            "text/latex": "5",
            "text/plain": [
              "[1] 5"
            ]
          },
          "metadata": {}
        },
        {
          "output_type": "display_data",
          "data": {
            "text/html": [
              "7"
            ],
            "text/markdown": "7",
            "text/latex": "7",
            "text/plain": [
              "[1] 7"
            ]
          },
          "metadata": {}
        }
      ]
    },
    {
      "cell_type": "code",
      "metadata": {
        "trusted": true,
        "id": "jwsvIq-eRPy2",
        "outputId": "b5843c46-16ba-4f7c-a0f6-dab7abb72fb6",
        "colab": {
          "base_uri": "https://localhost:8080/",
          "height": 555
        }
      },
      "source": [
        "# Primero defina una nueva data llamada muestra_fl que contenga la fecha, los retrasos, la distancia, y el tiempo de vuelo\n",
        "muestra_fl <- select(vuelos, anio, mes,dia, arr_delay, dep_delay, distance, air_time  )\n",
        "head(muestra_fl)\n",
        "# Cree una columna llamada gain que contenga la diferenecia entre arr_delay y dep_delay, y otra llamada speed que mida la velocidad en horas (distancia / tiempo de vuelo * 60)\n",
        "muestra_fl <- mutate(muestra_fl,\n",
        "       gain = arr_delay - dep_delay ,\n",
        "       speed = 60*(distance / air_time),\n",
        "       gain_abs = abs(gain))\n",
        "\n",
        "head(muestra_fl)"
      ],
      "execution_count": null,
      "outputs": [
        {
          "output_type": "display_data",
          "data": {
            "text/html": [
              "<table class=\"dataframe\">\n",
              "<caption>A data.frame: 6 × 7</caption>\n",
              "<thead>\n",
              "\t<tr><th></th><th scope=col>anio</th><th scope=col>mes</th><th scope=col>dia</th><th scope=col>arr_delay</th><th scope=col>dep_delay</th><th scope=col>distance</th><th scope=col>air_time</th></tr>\n",
              "\t<tr><th></th><th scope=col>&lt;int&gt;</th><th scope=col>&lt;int&gt;</th><th scope=col>&lt;int&gt;</th><th scope=col>&lt;int&gt;</th><th scope=col>&lt;int&gt;</th><th scope=col>&lt;int&gt;</th><th scope=col>&lt;int&gt;</th></tr>\n",
              "</thead>\n",
              "<tbody>\n",
              "\t<tr><th scope=row>1</th><td>2013</td><td>1</td><td>1</td><td> 11</td><td> 2</td><td>1400</td><td>227</td></tr>\n",
              "\t<tr><th scope=row>2</th><td>2013</td><td>1</td><td>1</td><td> 20</td><td> 4</td><td>1416</td><td>227</td></tr>\n",
              "\t<tr><th scope=row>3</th><td>2013</td><td>1</td><td>1</td><td> 33</td><td> 2</td><td>1089</td><td>160</td></tr>\n",
              "\t<tr><th scope=row>4</th><td>2013</td><td>1</td><td>1</td><td>-18</td><td>-1</td><td>1576</td><td>183</td></tr>\n",
              "\t<tr><th scope=row>5</th><td>2013</td><td>1</td><td>1</td><td>-25</td><td>-6</td><td> 762</td><td>116</td></tr>\n",
              "\t<tr><th scope=row>6</th><td>2013</td><td>1</td><td>1</td><td> 12</td><td>-4</td><td> 719</td><td>150</td></tr>\n",
              "</tbody>\n",
              "</table>\n"
            ],
            "text/markdown": "\nA data.frame: 6 × 7\n\n| <!--/--> | anio &lt;int&gt; | mes &lt;int&gt; | dia &lt;int&gt; | arr_delay &lt;int&gt; | dep_delay &lt;int&gt; | distance &lt;int&gt; | air_time &lt;int&gt; |\n|---|---|---|---|---|---|---|---|\n| 1 | 2013 | 1 | 1 |  11 |  2 | 1400 | 227 |\n| 2 | 2013 | 1 | 1 |  20 |  4 | 1416 | 227 |\n| 3 | 2013 | 1 | 1 |  33 |  2 | 1089 | 160 |\n| 4 | 2013 | 1 | 1 | -18 | -1 | 1576 | 183 |\n| 5 | 2013 | 1 | 1 | -25 | -6 |  762 | 116 |\n| 6 | 2013 | 1 | 1 |  12 | -4 |  719 | 150 |\n\n",
            "text/latex": "A data.frame: 6 × 7\n\\begin{tabular}{r|lllllll}\n  & anio & mes & dia & arr\\_delay & dep\\_delay & distance & air\\_time\\\\\n  & <int> & <int> & <int> & <int> & <int> & <int> & <int>\\\\\n\\hline\n\t1 & 2013 & 1 & 1 &  11 &  2 & 1400 & 227\\\\\n\t2 & 2013 & 1 & 1 &  20 &  4 & 1416 & 227\\\\\n\t3 & 2013 & 1 & 1 &  33 &  2 & 1089 & 160\\\\\n\t4 & 2013 & 1 & 1 & -18 & -1 & 1576 & 183\\\\\n\t5 & 2013 & 1 & 1 & -25 & -6 &  762 & 116\\\\\n\t6 & 2013 & 1 & 1 &  12 & -4 &  719 & 150\\\\\n\\end{tabular}\n",
            "text/plain": [
              "  anio mes dia arr_delay dep_delay distance air_time\n",
              "1 2013 1   1    11        2        1400     227     \n",
              "2 2013 1   1    20        4        1416     227     \n",
              "3 2013 1   1    33        2        1089     160     \n",
              "4 2013 1   1   -18       -1        1576     183     \n",
              "5 2013 1   1   -25       -6         762     116     \n",
              "6 2013 1   1    12       -4         719     150     "
            ]
          },
          "metadata": {}
        },
        {
          "output_type": "display_data",
          "data": {
            "text/html": [
              "<table class=\"dataframe\">\n",
              "<caption>A data.frame: 6 × 10</caption>\n",
              "<thead>\n",
              "\t<tr><th></th><th scope=col>anio</th><th scope=col>mes</th><th scope=col>dia</th><th scope=col>arr_delay</th><th scope=col>dep_delay</th><th scope=col>distance</th><th scope=col>air_time</th><th scope=col>gain</th><th scope=col>speed</th><th scope=col>gain_abs</th></tr>\n",
              "\t<tr><th></th><th scope=col>&lt;int&gt;</th><th scope=col>&lt;int&gt;</th><th scope=col>&lt;int&gt;</th><th scope=col>&lt;int&gt;</th><th scope=col>&lt;int&gt;</th><th scope=col>&lt;int&gt;</th><th scope=col>&lt;int&gt;</th><th scope=col>&lt;int&gt;</th><th scope=col>&lt;dbl&gt;</th><th scope=col>&lt;int&gt;</th></tr>\n",
              "</thead>\n",
              "<tbody>\n",
              "\t<tr><th scope=row>1</th><td>2013</td><td>1</td><td>1</td><td> 11</td><td> 2</td><td>1400</td><td>227</td><td>  9</td><td>370.0441</td><td> 9</td></tr>\n",
              "\t<tr><th scope=row>2</th><td>2013</td><td>1</td><td>1</td><td> 20</td><td> 4</td><td>1416</td><td>227</td><td> 16</td><td>374.2731</td><td>16</td></tr>\n",
              "\t<tr><th scope=row>3</th><td>2013</td><td>1</td><td>1</td><td> 33</td><td> 2</td><td>1089</td><td>160</td><td> 31</td><td>408.3750</td><td>31</td></tr>\n",
              "\t<tr><th scope=row>4</th><td>2013</td><td>1</td><td>1</td><td>-18</td><td>-1</td><td>1576</td><td>183</td><td>-17</td><td>516.7213</td><td>17</td></tr>\n",
              "\t<tr><th scope=row>5</th><td>2013</td><td>1</td><td>1</td><td>-25</td><td>-6</td><td> 762</td><td>116</td><td>-19</td><td>394.1379</td><td>19</td></tr>\n",
              "\t<tr><th scope=row>6</th><td>2013</td><td>1</td><td>1</td><td> 12</td><td>-4</td><td> 719</td><td>150</td><td> 16</td><td>287.6000</td><td>16</td></tr>\n",
              "</tbody>\n",
              "</table>\n"
            ],
            "text/markdown": "\nA data.frame: 6 × 10\n\n| <!--/--> | anio &lt;int&gt; | mes &lt;int&gt; | dia &lt;int&gt; | arr_delay &lt;int&gt; | dep_delay &lt;int&gt; | distance &lt;int&gt; | air_time &lt;int&gt; | gain &lt;int&gt; | speed &lt;dbl&gt; | gain_abs &lt;int&gt; |\n|---|---|---|---|---|---|---|---|---|---|---|\n| 1 | 2013 | 1 | 1 |  11 |  2 | 1400 | 227 |   9 | 370.0441 |  9 |\n| 2 | 2013 | 1 | 1 |  20 |  4 | 1416 | 227 |  16 | 374.2731 | 16 |\n| 3 | 2013 | 1 | 1 |  33 |  2 | 1089 | 160 |  31 | 408.3750 | 31 |\n| 4 | 2013 | 1 | 1 | -18 | -1 | 1576 | 183 | -17 | 516.7213 | 17 |\n| 5 | 2013 | 1 | 1 | -25 | -6 |  762 | 116 | -19 | 394.1379 | 19 |\n| 6 | 2013 | 1 | 1 |  12 | -4 |  719 | 150 |  16 | 287.6000 | 16 |\n\n",
            "text/latex": "A data.frame: 6 × 10\n\\begin{tabular}{r|llllllllll}\n  & anio & mes & dia & arr\\_delay & dep\\_delay & distance & air\\_time & gain & speed & gain\\_abs\\\\\n  & <int> & <int> & <int> & <int> & <int> & <int> & <int> & <int> & <dbl> & <int>\\\\\n\\hline\n\t1 & 2013 & 1 & 1 &  11 &  2 & 1400 & 227 &   9 & 370.0441 &  9\\\\\n\t2 & 2013 & 1 & 1 &  20 &  4 & 1416 & 227 &  16 & 374.2731 & 16\\\\\n\t3 & 2013 & 1 & 1 &  33 &  2 & 1089 & 160 &  31 & 408.3750 & 31\\\\\n\t4 & 2013 & 1 & 1 & -18 & -1 & 1576 & 183 & -17 & 516.7213 & 17\\\\\n\t5 & 2013 & 1 & 1 & -25 & -6 &  762 & 116 & -19 & 394.1379 & 19\\\\\n\t6 & 2013 & 1 & 1 &  12 & -4 &  719 & 150 &  16 & 287.6000 & 16\\\\\n\\end{tabular}\n",
            "text/plain": [
              "  anio mes dia arr_delay dep_delay distance air_time gain speed    gain_abs\n",
              "1 2013 1   1    11        2        1400     227        9  370.0441  9      \n",
              "2 2013 1   1    20        4        1416     227       16  374.2731 16      \n",
              "3 2013 1   1    33        2        1089     160       31  408.3750 31      \n",
              "4 2013 1   1   -18       -1        1576     183      -17  516.7213 17      \n",
              "5 2013 1   1   -25       -6         762     116      -19  394.1379 19      \n",
              "6 2013 1   1    12       -4         719     150       16  287.6000 16      "
            ]
          },
          "metadata": {}
        }
      ]
    },
    {
      "cell_type": "markdown",
      "metadata": {
        "id": "wk8Qt1ICRPy4"
      },
      "source": [
        "### Operador %>%\n",
        "\n",
        "El operador estrella de dplyr. Funciona como una composición de funciones, y nos permite generar _pipe-lines_, permitiendo  que la generación  del código sea más ordenada, y con ello, su lectura más sencilla.\n",
        "\n",
        "Este operdaor actua de la sifuiente manera, <br>\n",
        "\n",
        "    x %>% f(y) , es equivalente a,  f(x,y)\n",
        "\n"
      ]
    },
    {
      "cell_type": "code",
      "metadata": {
        "trusted": true,
        "id": "8s1tOO0RRPy4",
        "outputId": "8205a5ca-5107-42c3-eee1-bbc91e313ba1",
        "colab": {
          "base_uri": "https://localhost:8080/",
          "height": 778
        }
      },
      "source": [
        "# Operador %>% ----------------------------------------------------------------\n",
        "# Ejemplo sencillo\n",
        "\n",
        "# head(vuelos)\n",
        "\n",
        "\n",
        "# Utilizando %>%\n",
        "vuelos %>% head(10)\n",
        "\n"
      ],
      "execution_count": null,
      "outputs": [
        {
          "output_type": "display_data",
          "data": {
            "text/html": [
              "<table class=\"dataframe\">\n",
              "<caption>A data.frame: 10 × 21</caption>\n",
              "<thead>\n",
              "\t<tr><th></th><th scope=col>anio</th><th scope=col>mes</th><th scope=col>dia</th><th scope=col>dep_time</th><th scope=col>sched_dep_time</th><th scope=col>dep_delay</th><th scope=col>arr_time</th><th scope=col>sched_arr_time</th><th scope=col>arr_delay</th><th scope=col>carrier</th><th scope=col>⋯</th><th scope=col>tailnum</th><th scope=col>origin</th><th scope=col>dest</th><th scope=col>air_time</th><th scope=col>distance</th><th scope=col>hour</th><th scope=col>minute</th><th scope=col>time_hour</th><th scope=col>retraso_neto1</th><th scope=col>retraso_neto</th></tr>\n",
              "\t<tr><th></th><th scope=col>&lt;int&gt;</th><th scope=col>&lt;int&gt;</th><th scope=col>&lt;int&gt;</th><th scope=col>&lt;int&gt;</th><th scope=col>&lt;int&gt;</th><th scope=col>&lt;int&gt;</th><th scope=col>&lt;int&gt;</th><th scope=col>&lt;int&gt;</th><th scope=col>&lt;int&gt;</th><th scope=col>&lt;chr&gt;</th><th scope=col>⋯</th><th scope=col>&lt;chr&gt;</th><th scope=col>&lt;chr&gt;</th><th scope=col>&lt;chr&gt;</th><th scope=col>&lt;int&gt;</th><th scope=col>&lt;int&gt;</th><th scope=col>&lt;int&gt;</th><th scope=col>&lt;int&gt;</th><th scope=col>&lt;chr&gt;</th><th scope=col>&lt;dbl&gt;</th><th scope=col>&lt;int&gt;</th></tr>\n",
              "</thead>\n",
              "<tbody>\n",
              "\t<tr><th scope=row>1</th><td>2013</td><td>1</td><td>1</td><td>517</td><td>515</td><td> 2</td><td> 830</td><td> 819</td><td> 11</td><td>UA</td><td>⋯</td><td>N14228</td><td>EWR</td><td>IAH</td><td>227</td><td>1400</td><td>5</td><td>15</td><td>2013-01-01 05:00:00</td><td> 0.2166667</td><td> 13</td></tr>\n",
              "\t<tr><th scope=row>2</th><td>2013</td><td>1</td><td>1</td><td>533</td><td>529</td><td> 4</td><td> 850</td><td> 830</td><td> 20</td><td>UA</td><td>⋯</td><td>N24211</td><td>LGA</td><td>IAH</td><td>227</td><td>1416</td><td>5</td><td>29</td><td>2013-01-01 05:00:00</td><td> 0.4000000</td><td> 24</td></tr>\n",
              "\t<tr><th scope=row>3</th><td>2013</td><td>1</td><td>1</td><td>542</td><td>540</td><td> 2</td><td> 923</td><td> 850</td><td> 33</td><td>AA</td><td>⋯</td><td>N619AA</td><td>JFK</td><td>MIA</td><td>160</td><td>1089</td><td>5</td><td>40</td><td>2013-01-01 05:00:00</td><td> 0.5833333</td><td> 35</td></tr>\n",
              "\t<tr><th scope=row>4</th><td>2013</td><td>1</td><td>1</td><td>544</td><td>545</td><td>-1</td><td>1004</td><td>1022</td><td>-18</td><td>B6</td><td>⋯</td><td>N804JB</td><td>JFK</td><td>BQN</td><td>183</td><td>1576</td><td>5</td><td>45</td><td>2013-01-01 05:00:00</td><td>-0.3166667</td><td>-19</td></tr>\n",
              "\t<tr><th scope=row>5</th><td>2013</td><td>1</td><td>1</td><td>554</td><td>600</td><td>-6</td><td> 812</td><td> 837</td><td>-25</td><td>DL</td><td>⋯</td><td>N668DN</td><td>LGA</td><td>ATL</td><td>116</td><td> 762</td><td>6</td><td> 0</td><td>2013-01-01 06:00:00</td><td>-0.5166667</td><td>-31</td></tr>\n",
              "\t<tr><th scope=row>6</th><td>2013</td><td>1</td><td>1</td><td>554</td><td>558</td><td>-4</td><td> 740</td><td> 728</td><td> 12</td><td>UA</td><td>⋯</td><td>N39463</td><td>EWR</td><td>ORD</td><td>150</td><td> 719</td><td>5</td><td>58</td><td>2013-01-01 05:00:00</td><td> 0.1333333</td><td>  8</td></tr>\n",
              "\t<tr><th scope=row>7</th><td>2013</td><td>1</td><td>1</td><td>555</td><td>600</td><td>-5</td><td> 913</td><td> 854</td><td> 19</td><td>B6</td><td>⋯</td><td>N516JB</td><td>EWR</td><td>FLL</td><td>158</td><td>1065</td><td>6</td><td> 0</td><td>2013-01-01 06:00:00</td><td> 0.2333333</td><td> 14</td></tr>\n",
              "\t<tr><th scope=row>8</th><td>2013</td><td>1</td><td>1</td><td>557</td><td>600</td><td>-3</td><td> 709</td><td> 723</td><td>-14</td><td>EV</td><td>⋯</td><td>N829AS</td><td>LGA</td><td>IAD</td><td> 53</td><td> 229</td><td>6</td><td> 0</td><td>2013-01-01 06:00:00</td><td>-0.2833333</td><td>-17</td></tr>\n",
              "\t<tr><th scope=row>9</th><td>2013</td><td>1</td><td>1</td><td>557</td><td>600</td><td>-3</td><td> 838</td><td> 846</td><td> -8</td><td>B6</td><td>⋯</td><td>N593JB</td><td>JFK</td><td>MCO</td><td>140</td><td> 944</td><td>6</td><td> 0</td><td>2013-01-01 06:00:00</td><td>-0.1833333</td><td>-11</td></tr>\n",
              "\t<tr><th scope=row>10</th><td>2013</td><td>1</td><td>1</td><td>558</td><td>600</td><td>-2</td><td> 753</td><td> 745</td><td>  8</td><td>AA</td><td>⋯</td><td>N3ALAA</td><td>LGA</td><td>ORD</td><td>138</td><td> 733</td><td>6</td><td> 0</td><td>2013-01-01 06:00:00</td><td> 0.1000000</td><td>  6</td></tr>\n",
              "</tbody>\n",
              "</table>\n"
            ],
            "text/markdown": "\nA data.frame: 10 × 21\n\n| <!--/--> | anio &lt;int&gt; | mes &lt;int&gt; | dia &lt;int&gt; | dep_time &lt;int&gt; | sched_dep_time &lt;int&gt; | dep_delay &lt;int&gt; | arr_time &lt;int&gt; | sched_arr_time &lt;int&gt; | arr_delay &lt;int&gt; | carrier &lt;chr&gt; | ⋯ ⋯ | tailnum &lt;chr&gt; | origin &lt;chr&gt; | dest &lt;chr&gt; | air_time &lt;int&gt; | distance &lt;int&gt; | hour &lt;int&gt; | minute &lt;int&gt; | time_hour &lt;chr&gt; | retraso_neto1 &lt;dbl&gt; | retraso_neto &lt;int&gt; |\n|---|---|---|---|---|---|---|---|---|---|---|---|---|---|---|---|---|---|---|---|---|---|\n| 1 | 2013 | 1 | 1 | 517 | 515 |  2 |  830 |  819 |  11 | UA | ⋯ | N14228 | EWR | IAH | 227 | 1400 | 5 | 15 | 2013-01-01 05:00:00 |  0.2166667 |  13 |\n| 2 | 2013 | 1 | 1 | 533 | 529 |  4 |  850 |  830 |  20 | UA | ⋯ | N24211 | LGA | IAH | 227 | 1416 | 5 | 29 | 2013-01-01 05:00:00 |  0.4000000 |  24 |\n| 3 | 2013 | 1 | 1 | 542 | 540 |  2 |  923 |  850 |  33 | AA | ⋯ | N619AA | JFK | MIA | 160 | 1089 | 5 | 40 | 2013-01-01 05:00:00 |  0.5833333 |  35 |\n| 4 | 2013 | 1 | 1 | 544 | 545 | -1 | 1004 | 1022 | -18 | B6 | ⋯ | N804JB | JFK | BQN | 183 | 1576 | 5 | 45 | 2013-01-01 05:00:00 | -0.3166667 | -19 |\n| 5 | 2013 | 1 | 1 | 554 | 600 | -6 |  812 |  837 | -25 | DL | ⋯ | N668DN | LGA | ATL | 116 |  762 | 6 |  0 | 2013-01-01 06:00:00 | -0.5166667 | -31 |\n| 6 | 2013 | 1 | 1 | 554 | 558 | -4 |  740 |  728 |  12 | UA | ⋯ | N39463 | EWR | ORD | 150 |  719 | 5 | 58 | 2013-01-01 05:00:00 |  0.1333333 |   8 |\n| 7 | 2013 | 1 | 1 | 555 | 600 | -5 |  913 |  854 |  19 | B6 | ⋯ | N516JB | EWR | FLL | 158 | 1065 | 6 |  0 | 2013-01-01 06:00:00 |  0.2333333 |  14 |\n| 8 | 2013 | 1 | 1 | 557 | 600 | -3 |  709 |  723 | -14 | EV | ⋯ | N829AS | LGA | IAD |  53 |  229 | 6 |  0 | 2013-01-01 06:00:00 | -0.2833333 | -17 |\n| 9 | 2013 | 1 | 1 | 557 | 600 | -3 |  838 |  846 |  -8 | B6 | ⋯ | N593JB | JFK | MCO | 140 |  944 | 6 |  0 | 2013-01-01 06:00:00 | -0.1833333 | -11 |\n| 10 | 2013 | 1 | 1 | 558 | 600 | -2 |  753 |  745 |   8 | AA | ⋯ | N3ALAA | LGA | ORD | 138 |  733 | 6 |  0 | 2013-01-01 06:00:00 |  0.1000000 |   6 |\n\n",
            "text/latex": "A data.frame: 10 × 21\n\\begin{tabular}{r|lllllllllllllllllllll}\n  & anio & mes & dia & dep\\_time & sched\\_dep\\_time & dep\\_delay & arr\\_time & sched\\_arr\\_time & arr\\_delay & carrier & ⋯ & tailnum & origin & dest & air\\_time & distance & hour & minute & time\\_hour & retraso\\_neto1 & retraso\\_neto\\\\\n  & <int> & <int> & <int> & <int> & <int> & <int> & <int> & <int> & <int> & <chr> & ⋯ & <chr> & <chr> & <chr> & <int> & <int> & <int> & <int> & <chr> & <dbl> & <int>\\\\\n\\hline\n\t1 & 2013 & 1 & 1 & 517 & 515 &  2 &  830 &  819 &  11 & UA & ⋯ & N14228 & EWR & IAH & 227 & 1400 & 5 & 15 & 2013-01-01 05:00:00 &  0.2166667 &  13\\\\\n\t2 & 2013 & 1 & 1 & 533 & 529 &  4 &  850 &  830 &  20 & UA & ⋯ & N24211 & LGA & IAH & 227 & 1416 & 5 & 29 & 2013-01-01 05:00:00 &  0.4000000 &  24\\\\\n\t3 & 2013 & 1 & 1 & 542 & 540 &  2 &  923 &  850 &  33 & AA & ⋯ & N619AA & JFK & MIA & 160 & 1089 & 5 & 40 & 2013-01-01 05:00:00 &  0.5833333 &  35\\\\\n\t4 & 2013 & 1 & 1 & 544 & 545 & -1 & 1004 & 1022 & -18 & B6 & ⋯ & N804JB & JFK & BQN & 183 & 1576 & 5 & 45 & 2013-01-01 05:00:00 & -0.3166667 & -19\\\\\n\t5 & 2013 & 1 & 1 & 554 & 600 & -6 &  812 &  837 & -25 & DL & ⋯ & N668DN & LGA & ATL & 116 &  762 & 6 &  0 & 2013-01-01 06:00:00 & -0.5166667 & -31\\\\\n\t6 & 2013 & 1 & 1 & 554 & 558 & -4 &  740 &  728 &  12 & UA & ⋯ & N39463 & EWR & ORD & 150 &  719 & 5 & 58 & 2013-01-01 05:00:00 &  0.1333333 &   8\\\\\n\t7 & 2013 & 1 & 1 & 555 & 600 & -5 &  913 &  854 &  19 & B6 & ⋯ & N516JB & EWR & FLL & 158 & 1065 & 6 &  0 & 2013-01-01 06:00:00 &  0.2333333 &  14\\\\\n\t8 & 2013 & 1 & 1 & 557 & 600 & -3 &  709 &  723 & -14 & EV & ⋯ & N829AS & LGA & IAD &  53 &  229 & 6 &  0 & 2013-01-01 06:00:00 & -0.2833333 & -17\\\\\n\t9 & 2013 & 1 & 1 & 557 & 600 & -3 &  838 &  846 &  -8 & B6 & ⋯ & N593JB & JFK & MCO & 140 &  944 & 6 &  0 & 2013-01-01 06:00:00 & -0.1833333 & -11\\\\\n\t10 & 2013 & 1 & 1 & 558 & 600 & -2 &  753 &  745 &   8 & AA & ⋯ & N3ALAA & LGA & ORD & 138 &  733 & 6 &  0 & 2013-01-01 06:00:00 &  0.1000000 &   6\\\\\n\\end{tabular}\n",
            "text/plain": [
              "   anio mes dia dep_time sched_dep_time dep_delay arr_time sched_arr_time\n",
              "1  2013 1   1   517      515             2         830      819          \n",
              "2  2013 1   1   533      529             4         850      830          \n",
              "3  2013 1   1   542      540             2         923      850          \n",
              "4  2013 1   1   544      545            -1        1004     1022          \n",
              "5  2013 1   1   554      600            -6         812      837          \n",
              "6  2013 1   1   554      558            -4         740      728          \n",
              "7  2013 1   1   555      600            -5         913      854          \n",
              "8  2013 1   1   557      600            -3         709      723          \n",
              "9  2013 1   1   557      600            -3         838      846          \n",
              "10 2013 1   1   558      600            -2         753      745          \n",
              "   arr_delay carrier ⋯ tailnum origin dest air_time distance hour minute\n",
              "1   11       UA      ⋯ N14228  EWR    IAH  227      1400     5    15    \n",
              "2   20       UA      ⋯ N24211  LGA    IAH  227      1416     5    29    \n",
              "3   33       AA      ⋯ N619AA  JFK    MIA  160      1089     5    40    \n",
              "4  -18       B6      ⋯ N804JB  JFK    BQN  183      1576     5    45    \n",
              "5  -25       DL      ⋯ N668DN  LGA    ATL  116       762     6     0    \n",
              "6   12       UA      ⋯ N39463  EWR    ORD  150       719     5    58    \n",
              "7   19       B6      ⋯ N516JB  EWR    FLL  158      1065     6     0    \n",
              "8  -14       EV      ⋯ N829AS  LGA    IAD   53       229     6     0    \n",
              "9   -8       B6      ⋯ N593JB  JFK    MCO  140       944     6     0    \n",
              "10   8       AA      ⋯ N3ALAA  LGA    ORD  138       733     6     0    \n",
              "   time_hour           retraso_neto1 retraso_neto\n",
              "1  2013-01-01 05:00:00  0.2166667     13         \n",
              "2  2013-01-01 05:00:00  0.4000000     24         \n",
              "3  2013-01-01 05:00:00  0.5833333     35         \n",
              "4  2013-01-01 05:00:00 -0.3166667    -19         \n",
              "5  2013-01-01 06:00:00 -0.5166667    -31         \n",
              "6  2013-01-01 05:00:00  0.1333333      8         \n",
              "7  2013-01-01 06:00:00  0.2333333     14         \n",
              "8  2013-01-01 06:00:00 -0.2833333    -17         \n",
              "9  2013-01-01 06:00:00 -0.1833333    -11         \n",
              "10 2013-01-01 06:00:00  0.1000000      6         "
            ]
          },
          "metadata": {}
        }
      ]
    },
    {
      "cell_type": "code",
      "metadata": {
        "trusted": true,
        "id": "6nBWGFwsRPy6",
        "outputId": "7aa22069-07fa-47c3-cb59-7004d39c71ea",
        "colab": {
          "base_uri": "https://localhost:8080/",
          "height": 286
        }
      },
      "source": [
        "# Genere el conteo de vuelos por mes y día,\n",
        "# luego filtre por aquellos registros donde el día es 1,\n",
        "# (NUEVO) Crear una columna que repita el mayor valor de n para cada fila.\n",
        "# ordene de manera descendente por n,\n",
        "# finalmente muestra la cabecera del dataset resultante.\n",
        "\n",
        "## ANTES\n",
        "head(\n",
        "  arrange(\n",
        "    mutate(\n",
        "      filter(\n",
        "        count(\n",
        "          vuelos, mes, dia\n",
        "          ),\n",
        "          dia == 1\n",
        "          ),\n",
        "          max_n = max(n)\n",
        "          ),\n",
        "          desc(n)\n",
        "          )\n",
        "          )"
      ],
      "execution_count": null,
      "outputs": [
        {
          "output_type": "display_data",
          "data": {
            "text/html": [
              "<table class=\"dataframe\">\n",
              "<caption>A data.frame: 6 × 4</caption>\n",
              "<thead>\n",
              "\t<tr><th></th><th scope=col>mes</th><th scope=col>dia</th><th scope=col>n</th><th scope=col>max_n</th></tr>\n",
              "\t<tr><th></th><th scope=col>&lt;int&gt;</th><th scope=col>&lt;int&gt;</th><th scope=col>&lt;int&gt;</th><th scope=col>&lt;int&gt;</th></tr>\n",
              "</thead>\n",
              "<tbody>\n",
              "\t<tr><th scope=row>1</th><td> 8</td><td>1</td><td>1000</td><td>1000</td></tr>\n",
              "\t<tr><th scope=row>2</th><td>12</td><td>1</td><td> 987</td><td>1000</td></tr>\n",
              "\t<tr><th scope=row>3</th><td>11</td><td>1</td><td> 986</td><td>1000</td></tr>\n",
              "\t<tr><th scope=row>4</th><td> 4</td><td>1</td><td> 970</td><td>1000</td></tr>\n",
              "\t<tr><th scope=row>5</th><td> 7</td><td>1</td><td> 966</td><td>1000</td></tr>\n",
              "\t<tr><th scope=row>6</th><td>10</td><td>1</td><td> 965</td><td>1000</td></tr>\n",
              "</tbody>\n",
              "</table>\n"
            ],
            "text/markdown": "\nA data.frame: 6 × 4\n\n| <!--/--> | mes &lt;int&gt; | dia &lt;int&gt; | n &lt;int&gt; | max_n &lt;int&gt; |\n|---|---|---|---|---|\n| 1 |  8 | 1 | 1000 | 1000 |\n| 2 | 12 | 1 |  987 | 1000 |\n| 3 | 11 | 1 |  986 | 1000 |\n| 4 |  4 | 1 |  970 | 1000 |\n| 5 |  7 | 1 |  966 | 1000 |\n| 6 | 10 | 1 |  965 | 1000 |\n\n",
            "text/latex": "A data.frame: 6 × 4\n\\begin{tabular}{r|llll}\n  & mes & dia & n & max\\_n\\\\\n  & <int> & <int> & <int> & <int>\\\\\n\\hline\n\t1 &  8 & 1 & 1000 & 1000\\\\\n\t2 & 12 & 1 &  987 & 1000\\\\\n\t3 & 11 & 1 &  986 & 1000\\\\\n\t4 &  4 & 1 &  970 & 1000\\\\\n\t5 &  7 & 1 &  966 & 1000\\\\\n\t6 & 10 & 1 &  965 & 1000\\\\\n\\end{tabular}\n",
            "text/plain": [
              "  mes dia n    max_n\n",
              "1  8  1   1000 1000 \n",
              "2 12  1    987 1000 \n",
              "3 11  1    986 1000 \n",
              "4  4  1    970 1000 \n",
              "5  7  1    966 1000 \n",
              "6 10  1    965 1000 "
            ]
          },
          "metadata": {}
        }
      ]
    },
    {
      "cell_type": "code",
      "metadata": {
        "trusted": true,
        "id": "Hckg9wkGRPy8",
        "outputId": "acc6c901-3cd4-45c4-8356-d8e939b8d885",
        "colab": {
          "base_uri": "https://localhost:8080/",
          "height": 286
        }
      },
      "source": [
        "# Genere el conteo de vuelos por mes y día,\n",
        "# luego filtre por aquellos registros donde el día es 1,\n",
        "# (NUEVO) Crear una columna que repita el mayor valor de n para cada fila.\n",
        "# ordene de manera descendiente por n,\n",
        "# finalmente muestra la cabecera del dataset resultante.\n",
        "\n",
        "## AHORA\n",
        "vuelos %>%\n",
        "  count(mes,dia) %>%\n",
        "  filter(dia == 1) %>%\n",
        "  mutate(max_n = max(n)) %>%\n",
        "  arrange(desc(n)) %>%\n",
        "  head()\n"
      ],
      "execution_count": null,
      "outputs": [
        {
          "output_type": "display_data",
          "data": {
            "text/html": [
              "<table class=\"dataframe\">\n",
              "<caption>A data.frame: 6 × 4</caption>\n",
              "<thead>\n",
              "\t<tr><th></th><th scope=col>mes</th><th scope=col>dia</th><th scope=col>n</th><th scope=col>max_n</th></tr>\n",
              "\t<tr><th></th><th scope=col>&lt;int&gt;</th><th scope=col>&lt;int&gt;</th><th scope=col>&lt;int&gt;</th><th scope=col>&lt;int&gt;</th></tr>\n",
              "</thead>\n",
              "<tbody>\n",
              "\t<tr><th scope=row>1</th><td> 8</td><td>1</td><td>1000</td><td>1000</td></tr>\n",
              "\t<tr><th scope=row>2</th><td>12</td><td>1</td><td> 987</td><td>1000</td></tr>\n",
              "\t<tr><th scope=row>3</th><td>11</td><td>1</td><td> 986</td><td>1000</td></tr>\n",
              "\t<tr><th scope=row>4</th><td> 4</td><td>1</td><td> 970</td><td>1000</td></tr>\n",
              "\t<tr><th scope=row>5</th><td> 7</td><td>1</td><td> 966</td><td>1000</td></tr>\n",
              "\t<tr><th scope=row>6</th><td>10</td><td>1</td><td> 965</td><td>1000</td></tr>\n",
              "</tbody>\n",
              "</table>\n"
            ],
            "text/markdown": "\nA data.frame: 6 × 4\n\n| <!--/--> | mes &lt;int&gt; | dia &lt;int&gt; | n &lt;int&gt; | max_n &lt;int&gt; |\n|---|---|---|---|---|\n| 1 |  8 | 1 | 1000 | 1000 |\n| 2 | 12 | 1 |  987 | 1000 |\n| 3 | 11 | 1 |  986 | 1000 |\n| 4 |  4 | 1 |  970 | 1000 |\n| 5 |  7 | 1 |  966 | 1000 |\n| 6 | 10 | 1 |  965 | 1000 |\n\n",
            "text/latex": "A data.frame: 6 × 4\n\\begin{tabular}{r|llll}\n  & mes & dia & n & max\\_n\\\\\n  & <int> & <int> & <int> & <int>\\\\\n\\hline\n\t1 &  8 & 1 & 1000 & 1000\\\\\n\t2 & 12 & 1 &  987 & 1000\\\\\n\t3 & 11 & 1 &  986 & 1000\\\\\n\t4 &  4 & 1 &  970 & 1000\\\\\n\t5 &  7 & 1 &  966 & 1000\\\\\n\t6 & 10 & 1 &  965 & 1000\\\\\n\\end{tabular}\n",
            "text/plain": [
              "  mes dia n    max_n\n",
              "1  8  1   1000 1000 \n",
              "2 12  1    987 1000 \n",
              "3 11  1    986 1000 \n",
              "4  4  1    970 1000 \n",
              "5  7  1    966 1000 \n",
              "6 10  1    965 1000 "
            ]
          },
          "metadata": {}
        }
      ]
    },
    {
      "cell_type": "code",
      "source": [
        "vuelos %>%\n",
        "  summary()"
      ],
      "metadata": {
        "id": "8wYHKnd1vSlw",
        "outputId": "0f479306-1b83-40ce-9cd8-70a304ffafab",
        "colab": {
          "base_uri": "https://localhost:8080/",
          "height": 711
        }
      },
      "execution_count": null,
      "outputs": [
        {
          "output_type": "display_data",
          "data": {
            "text/plain": [
              "      anio           mes              dia           dep_time    sched_dep_time\n",
              " Min.   :2013   Min.   : 1.000   Min.   : 1.00   Min.   :   1   Min.   : 106  \n",
              " 1st Qu.:2013   1st Qu.: 4.000   1st Qu.: 8.00   1st Qu.: 907   1st Qu.: 906  \n",
              " Median :2013   Median : 7.000   Median :16.00   Median :1401   Median :1359  \n",
              " Mean   :2013   Mean   : 6.549   Mean   :15.71   Mean   :1349   Mean   :1344  \n",
              " 3rd Qu.:2013   3rd Qu.:10.000   3rd Qu.:23.00   3rd Qu.:1744   3rd Qu.:1729  \n",
              " Max.   :2013   Max.   :12.000   Max.   :31.00   Max.   :2400   Max.   :2359  \n",
              "                                                 NA's   :8255                 \n",
              "   dep_delay          arr_time    sched_arr_time   arr_delay       \n",
              " Min.   : -43.00   Min.   :   1   Min.   :   1   Min.   : -86.000  \n",
              " 1st Qu.:  -5.00   1st Qu.:1104   1st Qu.:1124   1st Qu.: -17.000  \n",
              " Median :  -2.00   Median :1535   Median :1556   Median :  -5.000  \n",
              " Mean   :  12.64   Mean   :1502   Mean   :1536   Mean   :   6.895  \n",
              " 3rd Qu.:  11.00   3rd Qu.:1940   3rd Qu.:1945   3rd Qu.:  14.000  \n",
              " Max.   :1301.00   Max.   :2400   Max.   :2359   Max.   :1272.000  \n",
              " NA's   :8255      NA's   :8713                  NA's   :9430      \n",
              "   carrier              flight       tailnum             origin         \n",
              " Length:336776      Min.   :   1   Length:336776      Length:336776     \n",
              " Class :character   1st Qu.: 553   Class :character   Class :character  \n",
              " Mode  :character   Median :1496   Mode  :character   Mode  :character  \n",
              "                    Mean   :1972                                        \n",
              "                    3rd Qu.:3465                                        \n",
              "                    Max.   :8500                                        \n",
              "                                                                        \n",
              "     dest              air_time        distance         hour      \n",
              " Length:336776      Min.   : 20.0   Min.   :  17   Min.   : 1.00  \n",
              " Class :character   1st Qu.: 82.0   1st Qu.: 502   1st Qu.: 9.00  \n",
              " Mode  :character   Median :129.0   Median : 872   Median :13.00  \n",
              "                    Mean   :150.7   Mean   :1040   Mean   :13.18  \n",
              "                    3rd Qu.:192.0   3rd Qu.:1389   3rd Qu.:17.00  \n",
              "                    Max.   :695.0   Max.   :4983   Max.   :23.00  \n",
              "                    NA's   :9430                                  \n",
              "     minute       time_hour         retraso_neto1     retraso_neto    \n",
              " Min.   : 0.00   Length:336776      Min.   :-1.667   Min.   :-100.00  \n",
              " 1st Qu.: 8.00   Class :character   1st Qu.:-0.350   1st Qu.: -21.00  \n",
              " Median :29.00   Mode  :character   Median :-0.100   Median :  -6.00  \n",
              " Mean   :26.23                      Mean   : 0.324   Mean   :  19.45  \n",
              " 3rd Qu.:44.00                      3rd Qu.: 0.367   3rd Qu.:  22.00  \n",
              " Max.   :59.00                      Max.   :42.883   Max.   :2573.00  \n",
              "                                    NA's   :9430     NA's   :9430     "
            ]
          },
          "metadata": {}
        }
      ]
    },
    {
      "cell_type": "code",
      "source": [
        "head(vuelos)"
      ],
      "metadata": {
        "id": "mRnAVHEqyWwZ",
        "outputId": "8e1a3e23-6d57-4d6d-f783-e06fd175175b",
        "colab": {
          "base_uri": "https://localhost:8080/",
          "height": 494
        }
      },
      "execution_count": null,
      "outputs": [
        {
          "output_type": "display_data",
          "data": {
            "text/html": [
              "<table class=\"dataframe\">\n",
              "<caption>A data.frame: 6 × 21</caption>\n",
              "<thead>\n",
              "\t<tr><th></th><th scope=col>anio</th><th scope=col>mes</th><th scope=col>dia</th><th scope=col>dep_time</th><th scope=col>sched_dep_time</th><th scope=col>dep_delay</th><th scope=col>arr_time</th><th scope=col>sched_arr_time</th><th scope=col>arr_delay</th><th scope=col>carrier</th><th scope=col>⋯</th><th scope=col>tailnum</th><th scope=col>origin</th><th scope=col>dest</th><th scope=col>air_time</th><th scope=col>distance</th><th scope=col>hour</th><th scope=col>minute</th><th scope=col>time_hour</th><th scope=col>retraso_neto1</th><th scope=col>retraso_neto</th></tr>\n",
              "\t<tr><th></th><th scope=col>&lt;int&gt;</th><th scope=col>&lt;int&gt;</th><th scope=col>&lt;int&gt;</th><th scope=col>&lt;int&gt;</th><th scope=col>&lt;int&gt;</th><th scope=col>&lt;int&gt;</th><th scope=col>&lt;int&gt;</th><th scope=col>&lt;int&gt;</th><th scope=col>&lt;int&gt;</th><th scope=col>&lt;chr&gt;</th><th scope=col>⋯</th><th scope=col>&lt;chr&gt;</th><th scope=col>&lt;chr&gt;</th><th scope=col>&lt;chr&gt;</th><th scope=col>&lt;int&gt;</th><th scope=col>&lt;int&gt;</th><th scope=col>&lt;int&gt;</th><th scope=col>&lt;int&gt;</th><th scope=col>&lt;chr&gt;</th><th scope=col>&lt;dbl&gt;</th><th scope=col>&lt;int&gt;</th></tr>\n",
              "</thead>\n",
              "<tbody>\n",
              "\t<tr><th scope=row>1</th><td>2013</td><td>1</td><td>1</td><td>517</td><td>515</td><td> 2</td><td> 830</td><td> 819</td><td> 11</td><td>UA</td><td>⋯</td><td>N14228</td><td>EWR</td><td>IAH</td><td>227</td><td>1400</td><td>5</td><td>15</td><td>2013-01-01 05:00:00</td><td> 0.2166667</td><td> 13</td></tr>\n",
              "\t<tr><th scope=row>2</th><td>2013</td><td>1</td><td>1</td><td>533</td><td>529</td><td> 4</td><td> 850</td><td> 830</td><td> 20</td><td>UA</td><td>⋯</td><td>N24211</td><td>LGA</td><td>IAH</td><td>227</td><td>1416</td><td>5</td><td>29</td><td>2013-01-01 05:00:00</td><td> 0.4000000</td><td> 24</td></tr>\n",
              "\t<tr><th scope=row>3</th><td>2013</td><td>1</td><td>1</td><td>542</td><td>540</td><td> 2</td><td> 923</td><td> 850</td><td> 33</td><td>AA</td><td>⋯</td><td>N619AA</td><td>JFK</td><td>MIA</td><td>160</td><td>1089</td><td>5</td><td>40</td><td>2013-01-01 05:00:00</td><td> 0.5833333</td><td> 35</td></tr>\n",
              "\t<tr><th scope=row>4</th><td>2013</td><td>1</td><td>1</td><td>544</td><td>545</td><td>-1</td><td>1004</td><td>1022</td><td>-18</td><td>B6</td><td>⋯</td><td>N804JB</td><td>JFK</td><td>BQN</td><td>183</td><td>1576</td><td>5</td><td>45</td><td>2013-01-01 05:00:00</td><td>-0.3166667</td><td>-19</td></tr>\n",
              "\t<tr><th scope=row>5</th><td>2013</td><td>1</td><td>1</td><td>554</td><td>600</td><td>-6</td><td> 812</td><td> 837</td><td>-25</td><td>DL</td><td>⋯</td><td>N668DN</td><td>LGA</td><td>ATL</td><td>116</td><td> 762</td><td>6</td><td> 0</td><td>2013-01-01 06:00:00</td><td>-0.5166667</td><td>-31</td></tr>\n",
              "\t<tr><th scope=row>6</th><td>2013</td><td>1</td><td>1</td><td>554</td><td>558</td><td>-4</td><td> 740</td><td> 728</td><td> 12</td><td>UA</td><td>⋯</td><td>N39463</td><td>EWR</td><td>ORD</td><td>150</td><td> 719</td><td>5</td><td>58</td><td>2013-01-01 05:00:00</td><td> 0.1333333</td><td>  8</td></tr>\n",
              "</tbody>\n",
              "</table>\n"
            ],
            "text/markdown": "\nA data.frame: 6 × 21\n\n| <!--/--> | anio &lt;int&gt; | mes &lt;int&gt; | dia &lt;int&gt; | dep_time &lt;int&gt; | sched_dep_time &lt;int&gt; | dep_delay &lt;int&gt; | arr_time &lt;int&gt; | sched_arr_time &lt;int&gt; | arr_delay &lt;int&gt; | carrier &lt;chr&gt; | ⋯ ⋯ | tailnum &lt;chr&gt; | origin &lt;chr&gt; | dest &lt;chr&gt; | air_time &lt;int&gt; | distance &lt;int&gt; | hour &lt;int&gt; | minute &lt;int&gt; | time_hour &lt;chr&gt; | retraso_neto1 &lt;dbl&gt; | retraso_neto &lt;int&gt; |\n|---|---|---|---|---|---|---|---|---|---|---|---|---|---|---|---|---|---|---|---|---|---|\n| 1 | 2013 | 1 | 1 | 517 | 515 |  2 |  830 |  819 |  11 | UA | ⋯ | N14228 | EWR | IAH | 227 | 1400 | 5 | 15 | 2013-01-01 05:00:00 |  0.2166667 |  13 |\n| 2 | 2013 | 1 | 1 | 533 | 529 |  4 |  850 |  830 |  20 | UA | ⋯ | N24211 | LGA | IAH | 227 | 1416 | 5 | 29 | 2013-01-01 05:00:00 |  0.4000000 |  24 |\n| 3 | 2013 | 1 | 1 | 542 | 540 |  2 |  923 |  850 |  33 | AA | ⋯ | N619AA | JFK | MIA | 160 | 1089 | 5 | 40 | 2013-01-01 05:00:00 |  0.5833333 |  35 |\n| 4 | 2013 | 1 | 1 | 544 | 545 | -1 | 1004 | 1022 | -18 | B6 | ⋯ | N804JB | JFK | BQN | 183 | 1576 | 5 | 45 | 2013-01-01 05:00:00 | -0.3166667 | -19 |\n| 5 | 2013 | 1 | 1 | 554 | 600 | -6 |  812 |  837 | -25 | DL | ⋯ | N668DN | LGA | ATL | 116 |  762 | 6 |  0 | 2013-01-01 06:00:00 | -0.5166667 | -31 |\n| 6 | 2013 | 1 | 1 | 554 | 558 | -4 |  740 |  728 |  12 | UA | ⋯ | N39463 | EWR | ORD | 150 |  719 | 5 | 58 | 2013-01-01 05:00:00 |  0.1333333 |   8 |\n\n",
            "text/latex": "A data.frame: 6 × 21\n\\begin{tabular}{r|lllllllllllllllllllll}\n  & anio & mes & dia & dep\\_time & sched\\_dep\\_time & dep\\_delay & arr\\_time & sched\\_arr\\_time & arr\\_delay & carrier & ⋯ & tailnum & origin & dest & air\\_time & distance & hour & minute & time\\_hour & retraso\\_neto1 & retraso\\_neto\\\\\n  & <int> & <int> & <int> & <int> & <int> & <int> & <int> & <int> & <int> & <chr> & ⋯ & <chr> & <chr> & <chr> & <int> & <int> & <int> & <int> & <chr> & <dbl> & <int>\\\\\n\\hline\n\t1 & 2013 & 1 & 1 & 517 & 515 &  2 &  830 &  819 &  11 & UA & ⋯ & N14228 & EWR & IAH & 227 & 1400 & 5 & 15 & 2013-01-01 05:00:00 &  0.2166667 &  13\\\\\n\t2 & 2013 & 1 & 1 & 533 & 529 &  4 &  850 &  830 &  20 & UA & ⋯ & N24211 & LGA & IAH & 227 & 1416 & 5 & 29 & 2013-01-01 05:00:00 &  0.4000000 &  24\\\\\n\t3 & 2013 & 1 & 1 & 542 & 540 &  2 &  923 &  850 &  33 & AA & ⋯ & N619AA & JFK & MIA & 160 & 1089 & 5 & 40 & 2013-01-01 05:00:00 &  0.5833333 &  35\\\\\n\t4 & 2013 & 1 & 1 & 544 & 545 & -1 & 1004 & 1022 & -18 & B6 & ⋯ & N804JB & JFK & BQN & 183 & 1576 & 5 & 45 & 2013-01-01 05:00:00 & -0.3166667 & -19\\\\\n\t5 & 2013 & 1 & 1 & 554 & 600 & -6 &  812 &  837 & -25 & DL & ⋯ & N668DN & LGA & ATL & 116 &  762 & 6 &  0 & 2013-01-01 06:00:00 & -0.5166667 & -31\\\\\n\t6 & 2013 & 1 & 1 & 554 & 558 & -4 &  740 &  728 &  12 & UA & ⋯ & N39463 & EWR & ORD & 150 &  719 & 5 & 58 & 2013-01-01 05:00:00 &  0.1333333 &   8\\\\\n\\end{tabular}\n",
            "text/plain": [
              "  anio mes dia dep_time sched_dep_time dep_delay arr_time sched_arr_time\n",
              "1 2013 1   1   517      515             2         830      819          \n",
              "2 2013 1   1   533      529             4         850      830          \n",
              "3 2013 1   1   542      540             2         923      850          \n",
              "4 2013 1   1   544      545            -1        1004     1022          \n",
              "5 2013 1   1   554      600            -6         812      837          \n",
              "6 2013 1   1   554      558            -4         740      728          \n",
              "  arr_delay carrier ⋯ tailnum origin dest air_time distance hour minute\n",
              "1  11       UA      ⋯ N14228  EWR    IAH  227      1400     5    15    \n",
              "2  20       UA      ⋯ N24211  LGA    IAH  227      1416     5    29    \n",
              "3  33       AA      ⋯ N619AA  JFK    MIA  160      1089     5    40    \n",
              "4 -18       B6      ⋯ N804JB  JFK    BQN  183      1576     5    45    \n",
              "5 -25       DL      ⋯ N668DN  LGA    ATL  116       762     6     0    \n",
              "6  12       UA      ⋯ N39463  EWR    ORD  150       719     5    58    \n",
              "  time_hour           retraso_neto1 retraso_neto\n",
              "1 2013-01-01 05:00:00  0.2166667     13         \n",
              "2 2013-01-01 05:00:00  0.4000000     24         \n",
              "3 2013-01-01 05:00:00  0.5833333     35         \n",
              "4 2013-01-01 05:00:00 -0.3166667    -19         \n",
              "5 2013-01-01 06:00:00 -0.5166667    -31         \n",
              "6 2013-01-01 05:00:00  0.1333333      8         "
            ]
          },
          "metadata": {}
        }
      ]
    },
    {
      "cell_type": "code",
      "source": [
        "paste(\"0\",1 )\n",
        "paste(\"0\",1,sep = \"\")\n",
        "paste0(\"0\",1)"
      ],
      "metadata": {
        "id": "7KH36f4xzF7h",
        "outputId": "5c316b1b-0170-4272-e122-d9506efdb39b",
        "colab": {
          "base_uri": "https://localhost:8080/",
          "height": 69
        }
      },
      "execution_count": null,
      "outputs": [
        {
          "output_type": "display_data",
          "data": {
            "text/html": [
              "'0 1'"
            ],
            "text/markdown": "'0 1'",
            "text/latex": "'0 1'",
            "text/plain": [
              "[1] \"0 1\""
            ]
          },
          "metadata": {}
        },
        {
          "output_type": "display_data",
          "data": {
            "text/html": [
              "'01'"
            ],
            "text/markdown": "'01'",
            "text/latex": "'01'",
            "text/plain": [
              "[1] \"01\""
            ]
          },
          "metadata": {}
        },
        {
          "output_type": "display_data",
          "data": {
            "text/html": [
              "'01'"
            ],
            "text/markdown": "'01'",
            "text/latex": "'01'",
            "text/plain": [
              "[1] \"01\""
            ]
          },
          "metadata": {}
        }
      ]
    },
    {
      "cell_type": "code",
      "source": [
        "nrow(vuelos)"
      ],
      "metadata": {
        "id": "g0o8ZHkhz8aU",
        "outputId": "b3d66c63-2937-4631-c33a-b2328ddf7270",
        "colab": {
          "base_uri": "https://localhost:8080/",
          "height": 34
        }
      },
      "execution_count": null,
      "outputs": [
        {
          "output_type": "display_data",
          "data": {
            "text/html": [
              "336776"
            ],
            "text/markdown": "336776",
            "text/latex": "336776",
            "text/plain": [
              "[1] 336776"
            ]
          },
          "metadata": {}
        }
      ]
    },
    {
      "cell_type": "code",
      "metadata": {
        "trusted": true,
        "id": "eRuQuH-oRPzA",
        "outputId": "3b5f1266-f3c6-435c-d5e4-0f52e2dc8725",
        "colab": {
          "base_uri": "https://localhost:8080/",
          "height": 390
        }
      },
      "source": [
        "# Genere una nueva variable llamada day2 que pegue un \"0\"\n",
        "# a la variable day si es que esta contiene un dígito del 1 al 9.\n",
        "# Para pegar cadena de caracteres sin espacios puede utilizar\n",
        "# la función paste0\n",
        "vuelos <- vuelos %>%\n",
        "            mutate(mes2 = ifelse(mes < 10, paste0(\"0\",mes), mes),\n",
        "                  dia2 = ifelse(dia < 10, paste0(\"0\",dia), dia),\n",
        "                  no_fecha = paste(anio,mes2,dia2, sep = \"-\"),\n",
        "                  fecha = as.Date(no_fecha))\n",
        "head(vuelos)\n",
        "#?paste0, ?nchar\n",
        "\n",
        "\n"
      ],
      "execution_count": null,
      "outputs": [
        {
          "output_type": "display_data",
          "data": {
            "text/html": [
              "<table class=\"dataframe\">\n",
              "<caption>A data.frame: 6 × 25</caption>\n",
              "<thead>\n",
              "\t<tr><th></th><th scope=col>anio</th><th scope=col>mes</th><th scope=col>dia</th><th scope=col>dep_time</th><th scope=col>sched_dep_time</th><th scope=col>dep_delay</th><th scope=col>arr_time</th><th scope=col>sched_arr_time</th><th scope=col>arr_delay</th><th scope=col>carrier</th><th scope=col>⋯</th><th scope=col>distance</th><th scope=col>hour</th><th scope=col>minute</th><th scope=col>time_hour</th><th scope=col>retraso_neto1</th><th scope=col>retraso_neto</th><th scope=col>mes2</th><th scope=col>dia2</th><th scope=col>no_fecha</th><th scope=col>fecha</th></tr>\n",
              "\t<tr><th></th><th scope=col>&lt;int&gt;</th><th scope=col>&lt;int&gt;</th><th scope=col>&lt;int&gt;</th><th scope=col>&lt;int&gt;</th><th scope=col>&lt;int&gt;</th><th scope=col>&lt;int&gt;</th><th scope=col>&lt;int&gt;</th><th scope=col>&lt;int&gt;</th><th scope=col>&lt;int&gt;</th><th scope=col>&lt;chr&gt;</th><th scope=col>⋯</th><th scope=col>&lt;int&gt;</th><th scope=col>&lt;int&gt;</th><th scope=col>&lt;int&gt;</th><th scope=col>&lt;chr&gt;</th><th scope=col>&lt;dbl&gt;</th><th scope=col>&lt;int&gt;</th><th scope=col>&lt;chr&gt;</th><th scope=col>&lt;chr&gt;</th><th scope=col>&lt;chr&gt;</th><th scope=col>&lt;date&gt;</th></tr>\n",
              "</thead>\n",
              "<tbody>\n",
              "\t<tr><th scope=row>1</th><td>2013</td><td>1</td><td>1</td><td>517</td><td>515</td><td> 2</td><td> 830</td><td> 819</td><td> 11</td><td>UA</td><td>⋯</td><td>1400</td><td>5</td><td>15</td><td>2013-01-01 05:00:00</td><td> 0.2166667</td><td> 13</td><td>01</td><td>01</td><td>2013-01-01</td><td>2013-01-01</td></tr>\n",
              "\t<tr><th scope=row>2</th><td>2013</td><td>1</td><td>1</td><td>533</td><td>529</td><td> 4</td><td> 850</td><td> 830</td><td> 20</td><td>UA</td><td>⋯</td><td>1416</td><td>5</td><td>29</td><td>2013-01-01 05:00:00</td><td> 0.4000000</td><td> 24</td><td>01</td><td>01</td><td>2013-01-01</td><td>2013-01-01</td></tr>\n",
              "\t<tr><th scope=row>3</th><td>2013</td><td>1</td><td>1</td><td>542</td><td>540</td><td> 2</td><td> 923</td><td> 850</td><td> 33</td><td>AA</td><td>⋯</td><td>1089</td><td>5</td><td>40</td><td>2013-01-01 05:00:00</td><td> 0.5833333</td><td> 35</td><td>01</td><td>01</td><td>2013-01-01</td><td>2013-01-01</td></tr>\n",
              "\t<tr><th scope=row>4</th><td>2013</td><td>1</td><td>1</td><td>544</td><td>545</td><td>-1</td><td>1004</td><td>1022</td><td>-18</td><td>B6</td><td>⋯</td><td>1576</td><td>5</td><td>45</td><td>2013-01-01 05:00:00</td><td>-0.3166667</td><td>-19</td><td>01</td><td>01</td><td>2013-01-01</td><td>2013-01-01</td></tr>\n",
              "\t<tr><th scope=row>5</th><td>2013</td><td>1</td><td>1</td><td>554</td><td>600</td><td>-6</td><td> 812</td><td> 837</td><td>-25</td><td>DL</td><td>⋯</td><td> 762</td><td>6</td><td> 0</td><td>2013-01-01 06:00:00</td><td>-0.5166667</td><td>-31</td><td>01</td><td>01</td><td>2013-01-01</td><td>2013-01-01</td></tr>\n",
              "\t<tr><th scope=row>6</th><td>2013</td><td>1</td><td>1</td><td>554</td><td>558</td><td>-4</td><td> 740</td><td> 728</td><td> 12</td><td>UA</td><td>⋯</td><td> 719</td><td>5</td><td>58</td><td>2013-01-01 05:00:00</td><td> 0.1333333</td><td>  8</td><td>01</td><td>01</td><td>2013-01-01</td><td>2013-01-01</td></tr>\n",
              "</tbody>\n",
              "</table>\n"
            ],
            "text/markdown": "\nA data.frame: 6 × 25\n\n| <!--/--> | anio &lt;int&gt; | mes &lt;int&gt; | dia &lt;int&gt; | dep_time &lt;int&gt; | sched_dep_time &lt;int&gt; | dep_delay &lt;int&gt; | arr_time &lt;int&gt; | sched_arr_time &lt;int&gt; | arr_delay &lt;int&gt; | carrier &lt;chr&gt; | ⋯ ⋯ | distance &lt;int&gt; | hour &lt;int&gt; | minute &lt;int&gt; | time_hour &lt;chr&gt; | retraso_neto1 &lt;dbl&gt; | retraso_neto &lt;int&gt; | mes2 &lt;chr&gt; | dia2 &lt;chr&gt; | no_fecha &lt;chr&gt; | fecha &lt;date&gt; |\n|---|---|---|---|---|---|---|---|---|---|---|---|---|---|---|---|---|---|---|---|---|---|\n| 1 | 2013 | 1 | 1 | 517 | 515 |  2 |  830 |  819 |  11 | UA | ⋯ | 1400 | 5 | 15 | 2013-01-01 05:00:00 |  0.2166667 |  13 | 01 | 01 | 2013-01-01 | 2013-01-01 |\n| 2 | 2013 | 1 | 1 | 533 | 529 |  4 |  850 |  830 |  20 | UA | ⋯ | 1416 | 5 | 29 | 2013-01-01 05:00:00 |  0.4000000 |  24 | 01 | 01 | 2013-01-01 | 2013-01-01 |\n| 3 | 2013 | 1 | 1 | 542 | 540 |  2 |  923 |  850 |  33 | AA | ⋯ | 1089 | 5 | 40 | 2013-01-01 05:00:00 |  0.5833333 |  35 | 01 | 01 | 2013-01-01 | 2013-01-01 |\n| 4 | 2013 | 1 | 1 | 544 | 545 | -1 | 1004 | 1022 | -18 | B6 | ⋯ | 1576 | 5 | 45 | 2013-01-01 05:00:00 | -0.3166667 | -19 | 01 | 01 | 2013-01-01 | 2013-01-01 |\n| 5 | 2013 | 1 | 1 | 554 | 600 | -6 |  812 |  837 | -25 | DL | ⋯ |  762 | 6 |  0 | 2013-01-01 06:00:00 | -0.5166667 | -31 | 01 | 01 | 2013-01-01 | 2013-01-01 |\n| 6 | 2013 | 1 | 1 | 554 | 558 | -4 |  740 |  728 |  12 | UA | ⋯ |  719 | 5 | 58 | 2013-01-01 05:00:00 |  0.1333333 |   8 | 01 | 01 | 2013-01-01 | 2013-01-01 |\n\n",
            "text/latex": "A data.frame: 6 × 25\n\\begin{tabular}{r|lllllllllllllllllllll}\n  & anio & mes & dia & dep\\_time & sched\\_dep\\_time & dep\\_delay & arr\\_time & sched\\_arr\\_time & arr\\_delay & carrier & ⋯ & distance & hour & minute & time\\_hour & retraso\\_neto1 & retraso\\_neto & mes2 & dia2 & no\\_fecha & fecha\\\\\n  & <int> & <int> & <int> & <int> & <int> & <int> & <int> & <int> & <int> & <chr> & ⋯ & <int> & <int> & <int> & <chr> & <dbl> & <int> & <chr> & <chr> & <chr> & <date>\\\\\n\\hline\n\t1 & 2013 & 1 & 1 & 517 & 515 &  2 &  830 &  819 &  11 & UA & ⋯ & 1400 & 5 & 15 & 2013-01-01 05:00:00 &  0.2166667 &  13 & 01 & 01 & 2013-01-01 & 2013-01-01\\\\\n\t2 & 2013 & 1 & 1 & 533 & 529 &  4 &  850 &  830 &  20 & UA & ⋯ & 1416 & 5 & 29 & 2013-01-01 05:00:00 &  0.4000000 &  24 & 01 & 01 & 2013-01-01 & 2013-01-01\\\\\n\t3 & 2013 & 1 & 1 & 542 & 540 &  2 &  923 &  850 &  33 & AA & ⋯ & 1089 & 5 & 40 & 2013-01-01 05:00:00 &  0.5833333 &  35 & 01 & 01 & 2013-01-01 & 2013-01-01\\\\\n\t4 & 2013 & 1 & 1 & 544 & 545 & -1 & 1004 & 1022 & -18 & B6 & ⋯ & 1576 & 5 & 45 & 2013-01-01 05:00:00 & -0.3166667 & -19 & 01 & 01 & 2013-01-01 & 2013-01-01\\\\\n\t5 & 2013 & 1 & 1 & 554 & 600 & -6 &  812 &  837 & -25 & DL & ⋯ &  762 & 6 &  0 & 2013-01-01 06:00:00 & -0.5166667 & -31 & 01 & 01 & 2013-01-01 & 2013-01-01\\\\\n\t6 & 2013 & 1 & 1 & 554 & 558 & -4 &  740 &  728 &  12 & UA & ⋯ &  719 & 5 & 58 & 2013-01-01 05:00:00 &  0.1333333 &   8 & 01 & 01 & 2013-01-01 & 2013-01-01\\\\\n\\end{tabular}\n",
            "text/plain": [
              "  anio mes dia dep_time sched_dep_time dep_delay arr_time sched_arr_time\n",
              "1 2013 1   1   517      515             2         830      819          \n",
              "2 2013 1   1   533      529             4         850      830          \n",
              "3 2013 1   1   542      540             2         923      850          \n",
              "4 2013 1   1   544      545            -1        1004     1022          \n",
              "5 2013 1   1   554      600            -6         812      837          \n",
              "6 2013 1   1   554      558            -4         740      728          \n",
              "  arr_delay carrier ⋯ distance hour minute time_hour           retraso_neto1\n",
              "1  11       UA      ⋯ 1400     5    15     2013-01-01 05:00:00  0.2166667   \n",
              "2  20       UA      ⋯ 1416     5    29     2013-01-01 05:00:00  0.4000000   \n",
              "3  33       AA      ⋯ 1089     5    40     2013-01-01 05:00:00  0.5833333   \n",
              "4 -18       B6      ⋯ 1576     5    45     2013-01-01 05:00:00 -0.3166667   \n",
              "5 -25       DL      ⋯  762     6     0     2013-01-01 06:00:00 -0.5166667   \n",
              "6  12       UA      ⋯  719     5    58     2013-01-01 05:00:00  0.1333333   \n",
              "  retraso_neto mes2 dia2 no_fecha   fecha     \n",
              "1  13          01   01   2013-01-01 2013-01-01\n",
              "2  24          01   01   2013-01-01 2013-01-01\n",
              "3  35          01   01   2013-01-01 2013-01-01\n",
              "4 -19          01   01   2013-01-01 2013-01-01\n",
              "5 -31          01   01   2013-01-01 2013-01-01\n",
              "6   8          01   01   2013-01-01 2013-01-01"
            ]
          },
          "metadata": {}
        }
      ]
    },
    {
      "cell_type": "code",
      "source": [
        "vuelos %>% # En caso de una condición no binaria, pueden usar ifelse anidados o la función case_when.\n",
        "  mutate(quarter = case_when(mes <= 3 ~ \"Q1\",\n",
        "                             mes <= 6 ~ \"Q2\",\n",
        "                             mes <= 9 ~ \"Q3\",\n",
        "                             TRUE ~ \"Q4\")) %>%\n",
        "  count(quarter)"
      ],
      "metadata": {
        "id": "OdL575iu064Y",
        "outputId": "8583c93b-9fbf-4faf-fdb7-b9d54dcc9f8d",
        "colab": {
          "base_uri": "https://localhost:8080/",
          "height": 223
        }
      },
      "execution_count": null,
      "outputs": [
        {
          "output_type": "display_data",
          "data": {
            "text/html": [
              "<table class=\"dataframe\">\n",
              "<caption>A data.frame: 4 × 2</caption>\n",
              "<thead>\n",
              "\t<tr><th scope=col>quarter</th><th scope=col>n</th></tr>\n",
              "\t<tr><th scope=col>&lt;chr&gt;</th><th scope=col>&lt;int&gt;</th></tr>\n",
              "</thead>\n",
              "<tbody>\n",
              "\t<tr><td>Q1</td><td>80789</td></tr>\n",
              "\t<tr><td>Q2</td><td>85369</td></tr>\n",
              "\t<tr><td>Q3</td><td>86326</td></tr>\n",
              "\t<tr><td>Q4</td><td>84292</td></tr>\n",
              "</tbody>\n",
              "</table>\n"
            ],
            "text/markdown": "\nA data.frame: 4 × 2\n\n| quarter &lt;chr&gt; | n &lt;int&gt; |\n|---|---|\n| Q1 | 80789 |\n| Q2 | 85369 |\n| Q3 | 86326 |\n| Q4 | 84292 |\n\n",
            "text/latex": "A data.frame: 4 × 2\n\\begin{tabular}{ll}\n quarter & n\\\\\n <chr> & <int>\\\\\n\\hline\n\t Q1 & 80789\\\\\n\t Q2 & 85369\\\\\n\t Q3 & 86326\\\\\n\t Q4 & 84292\\\\\n\\end{tabular}\n",
            "text/plain": [
              "  quarter n    \n",
              "1 Q1      80789\n",
              "2 Q2      85369\n",
              "3 Q3      86326\n",
              "4 Q4      84292"
            ]
          },
          "metadata": {}
        }
      ]
    },
    {
      "cell_type": "code",
      "metadata": {
        "trusted": true,
        "id": "Md5AK7xfRPzE"
      },
      "source": [
        "# Con esta variable genere un entero llamado fecha, que concatena year,month y day 2."
      ],
      "execution_count": null,
      "outputs": []
    },
    {
      "cell_type": "markdown",
      "metadata": {
        "id": "kEFrLb_zRPzG"
      },
      "source": [
        "### 4.5 Función group_by() y summarise()\n",
        "\n",
        "La función `summarise()` calcula medidas agregadas sobre columnas, mientras que la función `group_by`, genera un data.frame \"en bloques\" dados por la(s) columna(s) ingresadas como parámetros en la función.\n",
        "\n"
      ]
    },
    {
      "cell_type": "code",
      "metadata": {
        "trusted": true,
        "id": "4ytKeSHGRPzG",
        "outputId": "46122a3f-1ac1-466c-d0df-ed54fea76616",
        "colab": {
          "base_uri": "https://localhost:8080/",
          "height": 255
        }
      },
      "source": [
        "# group_by() y summarise() ----------------------------------------------------------------\n",
        "# Ejemplo sencillo\n",
        "exam2 <- data.frame(\n",
        "  x = c(1:5),\n",
        "  y = c(7:11),\n",
        "  z = c(\"A\", \"B\", \"A\", \"B\", \"C\")\n",
        ")\n",
        "exam2\n"
      ],
      "execution_count": null,
      "outputs": [
        {
          "output_type": "display_data",
          "data": {
            "text/html": [
              "<table class=\"dataframe\">\n",
              "<caption>A data.frame: 5 × 3</caption>\n",
              "<thead>\n",
              "\t<tr><th scope=col>x</th><th scope=col>y</th><th scope=col>z</th></tr>\n",
              "\t<tr><th scope=col>&lt;int&gt;</th><th scope=col>&lt;int&gt;</th><th scope=col>&lt;chr&gt;</th></tr>\n",
              "</thead>\n",
              "<tbody>\n",
              "\t<tr><td>1</td><td> 7</td><td>A</td></tr>\n",
              "\t<tr><td>2</td><td> 8</td><td>B</td></tr>\n",
              "\t<tr><td>3</td><td> 9</td><td>A</td></tr>\n",
              "\t<tr><td>4</td><td>10</td><td>B</td></tr>\n",
              "\t<tr><td>5</td><td>11</td><td>C</td></tr>\n",
              "</tbody>\n",
              "</table>\n"
            ],
            "text/markdown": "\nA data.frame: 5 × 3\n\n| x &lt;int&gt; | y &lt;int&gt; | z &lt;chr&gt; |\n|---|---|---|\n| 1 |  7 | A |\n| 2 |  8 | B |\n| 3 |  9 | A |\n| 4 | 10 | B |\n| 5 | 11 | C |\n\n",
            "text/latex": "A data.frame: 5 × 3\n\\begin{tabular}{lll}\n x & y & z\\\\\n <int> & <int> & <chr>\\\\\n\\hline\n\t 1 &  7 & A\\\\\n\t 2 &  8 & B\\\\\n\t 3 &  9 & A\\\\\n\t 4 & 10 & B\\\\\n\t 5 & 11 & C\\\\\n\\end{tabular}\n",
            "text/plain": [
              "  x y  z\n",
              "1 1  7 A\n",
              "2 2  8 B\n",
              "3 3  9 A\n",
              "4 4 10 B\n",
              "5 5 11 C"
            ]
          },
          "metadata": {}
        }
      ]
    },
    {
      "cell_type": "code",
      "metadata": {
        "trusted": true,
        "id": "wyjN-OYiRPzI",
        "outputId": "b2685dca-a2cd-4498-a464-3c593e9d4253",
        "colab": {
          "base_uri": "https://localhost:8080/",
          "height": 255
        }
      },
      "source": [
        "# Podemos generar la suma de x por grupo\n",
        "# Podemos generar un número de fila por cada grupo\n",
        "exam2 %>%\n",
        "  group_by(z) %>% # R entiende que toda nueva operación de aquí en adelante la deberá realizar por cada grupo que se defina.\n",
        "  mutate(tot_x = sum(x),\n",
        "         nrow = row_number())"
      ],
      "execution_count": null,
      "outputs": [
        {
          "output_type": "display_data",
          "data": {
            "text/html": [
              "<table class=\"dataframe\">\n",
              "<caption>A grouped_df: 5 × 5</caption>\n",
              "<thead>\n",
              "\t<tr><th scope=col>x</th><th scope=col>y</th><th scope=col>z</th><th scope=col>tot_x</th><th scope=col>nrow</th></tr>\n",
              "\t<tr><th scope=col>&lt;int&gt;</th><th scope=col>&lt;int&gt;</th><th scope=col>&lt;chr&gt;</th><th scope=col>&lt;int&gt;</th><th scope=col>&lt;int&gt;</th></tr>\n",
              "</thead>\n",
              "<tbody>\n",
              "\t<tr><td>1</td><td> 7</td><td>A</td><td>4</td><td>1</td></tr>\n",
              "\t<tr><td>2</td><td> 8</td><td>B</td><td>6</td><td>1</td></tr>\n",
              "\t<tr><td>3</td><td> 9</td><td>A</td><td>4</td><td>2</td></tr>\n",
              "\t<tr><td>4</td><td>10</td><td>B</td><td>6</td><td>2</td></tr>\n",
              "\t<tr><td>5</td><td>11</td><td>C</td><td>5</td><td>1</td></tr>\n",
              "</tbody>\n",
              "</table>\n"
            ],
            "text/markdown": "\nA grouped_df: 5 × 5\n\n| x &lt;int&gt; | y &lt;int&gt; | z &lt;chr&gt; | tot_x &lt;int&gt; | nrow &lt;int&gt; |\n|---|---|---|---|---|\n| 1 |  7 | A | 4 | 1 |\n| 2 |  8 | B | 6 | 1 |\n| 3 |  9 | A | 4 | 2 |\n| 4 | 10 | B | 6 | 2 |\n| 5 | 11 | C | 5 | 1 |\n\n",
            "text/latex": "A grouped\\_df: 5 × 5\n\\begin{tabular}{lllll}\n x & y & z & tot\\_x & nrow\\\\\n <int> & <int> & <chr> & <int> & <int>\\\\\n\\hline\n\t 1 &  7 & A & 4 & 1\\\\\n\t 2 &  8 & B & 6 & 1\\\\\n\t 3 &  9 & A & 4 & 2\\\\\n\t 4 & 10 & B & 6 & 2\\\\\n\t 5 & 11 & C & 5 & 1\\\\\n\\end{tabular}\n",
            "text/plain": [
              "  x y  z tot_x nrow\n",
              "1 1  7 A 4     1   \n",
              "2 2  8 B 6     1   \n",
              "3 3  9 A 4     2   \n",
              "4 4 10 B 6     2   \n",
              "5 5 11 C 5     1   "
            ]
          },
          "metadata": {}
        }
      ]
    },
    {
      "cell_type": "code",
      "metadata": {
        "trusted": true,
        "id": "nqMyjd6aRPzK",
        "outputId": "d50bb7dc-96b4-424b-f205-f24c19b20f4e",
        "colab": {
          "base_uri": "https://localhost:8080/",
          "height": 321
        }
      },
      "source": [
        "# 1) Aplicar la función summarise a la columna 'y' y calcular su promedio (NO CONFUNDIR CON summary())\n",
        "exam2 %>%\n",
        "  summarise(tot_x = sum(x),\n",
        "            prom_y = mean(y))\n",
        "\n",
        "# 2) Generar grupos según la variable z. (a diferencia de sql, el comando group_by() no requiere de una medida agregada para que este funcione.)\n",
        "# select z, avg(x) prom_y, sum(x) tot_x, count(z) tot_reg from exam2 group by z\n",
        "\n",
        "exam2 %>%\n",
        "  group_by(z) %>%\n",
        "  summarise(tot_x = sum(x),\n",
        "            prom_y = mean(y),\n",
        "            tot_reg = n()) #La función n() es propia de dplyr y sirve para contar filas dentro de funciones de dplyr\n"
      ],
      "execution_count": null,
      "outputs": [
        {
          "output_type": "display_data",
          "data": {
            "text/html": [
              "<table class=\"dataframe\">\n",
              "<caption>A data.frame: 1 × 2</caption>\n",
              "<thead>\n",
              "\t<tr><th scope=col>tot_x</th><th scope=col>prom_y</th></tr>\n",
              "\t<tr><th scope=col>&lt;int&gt;</th><th scope=col>&lt;dbl&gt;</th></tr>\n",
              "</thead>\n",
              "<tbody>\n",
              "\t<tr><td>15</td><td>9</td></tr>\n",
              "</tbody>\n",
              "</table>\n"
            ],
            "text/markdown": "\nA data.frame: 1 × 2\n\n| tot_x &lt;int&gt; | prom_y &lt;dbl&gt; |\n|---|---|\n| 15 | 9 |\n\n",
            "text/latex": "A data.frame: 1 × 2\n\\begin{tabular}{ll}\n tot\\_x & prom\\_y\\\\\n <int> & <dbl>\\\\\n\\hline\n\t 15 & 9\\\\\n\\end{tabular}\n",
            "text/plain": [
              "  tot_x prom_y\n",
              "1 15    9     "
            ]
          },
          "metadata": {}
        },
        {
          "output_type": "display_data",
          "data": {
            "text/html": [
              "<table class=\"dataframe\">\n",
              "<caption>A tibble: 3 × 4</caption>\n",
              "<thead>\n",
              "\t<tr><th scope=col>z</th><th scope=col>tot_x</th><th scope=col>prom_y</th><th scope=col>tot_reg</th></tr>\n",
              "\t<tr><th scope=col>&lt;chr&gt;</th><th scope=col>&lt;int&gt;</th><th scope=col>&lt;dbl&gt;</th><th scope=col>&lt;int&gt;</th></tr>\n",
              "</thead>\n",
              "<tbody>\n",
              "\t<tr><td>A</td><td>4</td><td> 8</td><td>2</td></tr>\n",
              "\t<tr><td>B</td><td>6</td><td> 9</td><td>2</td></tr>\n",
              "\t<tr><td>C</td><td>5</td><td>11</td><td>1</td></tr>\n",
              "</tbody>\n",
              "</table>\n"
            ],
            "text/markdown": "\nA tibble: 3 × 4\n\n| z &lt;chr&gt; | tot_x &lt;int&gt; | prom_y &lt;dbl&gt; | tot_reg &lt;int&gt; |\n|---|---|---|---|\n| A | 4 |  8 | 2 |\n| B | 6 |  9 | 2 |\n| C | 5 | 11 | 1 |\n\n",
            "text/latex": "A tibble: 3 × 4\n\\begin{tabular}{llll}\n z & tot\\_x & prom\\_y & tot\\_reg\\\\\n <chr> & <int> & <dbl> & <int>\\\\\n\\hline\n\t A & 4 &  8 & 2\\\\\n\t B & 6 &  9 & 2\\\\\n\t C & 5 & 11 & 1\\\\\n\\end{tabular}\n",
            "text/plain": [
              "  z tot_x prom_y tot_reg\n",
              "1 A 4      8     2      \n",
              "2 B 6      9     2      \n",
              "3 C 5     11     1      "
            ]
          },
          "metadata": {}
        }
      ]
    },
    {
      "cell_type": "code",
      "metadata": {
        "trusted": true,
        "id": "4-Ru4aPVRPzL"
      },
      "source": [
        "# 3) Calcular media de x e y en cada valor de z.\n",
        "# podemos calcular máximos y mínimos\n"
      ],
      "execution_count": null,
      "outputs": []
    },
    {
      "cell_type": "code",
      "metadata": {
        "trusted": true,
        "id": "o837pCUtRPzU",
        "outputId": "b276de34-d6cc-48b1-d4d1-2367d09a164e",
        "colab": {
          "base_uri": "https://localhost:8080/",
          "height": 1000
        }
      },
      "source": [
        "# promedio de retraso de llegada por origen-destino\n",
        "vuelos %>%\n",
        "  group_by(origin, dest) %>%\n",
        "  summarise(prom_arr_del = mean(arr_delay),\n",
        "            tot_reg = n())\n"
      ],
      "execution_count": null,
      "outputs": [
        {
          "output_type": "stream",
          "name": "stderr",
          "text": [
            "\u001b[1m\u001b[22m`summarise()` has grouped output by 'origin'. You can override using the\n",
            "`.groups` argument.\n"
          ]
        },
        {
          "output_type": "display_data",
          "data": {
            "text/html": [
              "<table class=\"dataframe\">\n",
              "<caption>A grouped_df: 224 × 4</caption>\n",
              "<thead>\n",
              "\t<tr><th scope=col>origin</th><th scope=col>dest</th><th scope=col>prom_arr_del</th><th scope=col>tot_reg</th></tr>\n",
              "\t<tr><th scope=col>&lt;chr&gt;</th><th scope=col>&lt;chr&gt;</th><th scope=col>&lt;dbl&gt;</th><th scope=col>&lt;int&gt;</th></tr>\n",
              "</thead>\n",
              "<tbody>\n",
              "\t<tr><td>EWR</td><td>ALB</td><td>  NA</td><td> 439</td></tr>\n",
              "\t<tr><td>EWR</td><td>ANC</td><td>-2.5</td><td>   8</td></tr>\n",
              "\t<tr><td>EWR</td><td>ATL</td><td>  NA</td><td>5022</td></tr>\n",
              "\t<tr><td>EWR</td><td>AUS</td><td>  NA</td><td> 968</td></tr>\n",
              "\t<tr><td>EWR</td><td>AVL</td><td>  NA</td><td> 265</td></tr>\n",
              "\t<tr><td>EWR</td><td>BDL</td><td>  NA</td><td> 443</td></tr>\n",
              "\t<tr><td>EWR</td><td>BNA</td><td>  NA</td><td>2336</td></tr>\n",
              "\t<tr><td>EWR</td><td>BOS</td><td>  NA</td><td>5327</td></tr>\n",
              "\t<tr><td>EWR</td><td>BQN</td><td>  NA</td><td> 297</td></tr>\n",
              "\t<tr><td>EWR</td><td>BTV</td><td>  NA</td><td> 931</td></tr>\n",
              "\t<tr><td>EWR</td><td>BUF</td><td>  NA</td><td> 973</td></tr>\n",
              "\t<tr><td>EWR</td><td>BWI</td><td>  NA</td><td> 545</td></tr>\n",
              "\t<tr><td>EWR</td><td>BZN</td><td>  NA</td><td>  36</td></tr>\n",
              "\t<tr><td>EWR</td><td>CAE</td><td>  NA</td><td> 104</td></tr>\n",
              "\t<tr><td>EWR</td><td>CHS</td><td>  NA</td><td>1424</td></tr>\n",
              "\t<tr><td>EWR</td><td>CLE</td><td>  NA</td><td>1754</td></tr>\n",
              "\t<tr><td>EWR</td><td>CLT</td><td>  NA</td><td>5026</td></tr>\n",
              "\t<tr><td>EWR</td><td>CMH</td><td>  NA</td><td> 724</td></tr>\n",
              "\t<tr><td>EWR</td><td>CVG</td><td>  NA</td><td>2673</td></tr>\n",
              "\t<tr><td>EWR</td><td>DAY</td><td>  NA</td><td>1134</td></tr>\n",
              "\t<tr><td>EWR</td><td>DCA</td><td>  NA</td><td>1719</td></tr>\n",
              "\t<tr><td>EWR</td><td>DEN</td><td>  NA</td><td>2859</td></tr>\n",
              "\t<tr><td>EWR</td><td>DFW</td><td>  NA</td><td>3148</td></tr>\n",
              "\t<tr><td>EWR</td><td>DSM</td><td>  NA</td><td> 411</td></tr>\n",
              "\t<tr><td>EWR</td><td>DTW</td><td>  NA</td><td>3178</td></tr>\n",
              "\t<tr><td>EWR</td><td>EGE</td><td>  NA</td><td> 110</td></tr>\n",
              "\t<tr><td>EWR</td><td>FLL</td><td>  NA</td><td>3793</td></tr>\n",
              "\t<tr><td>EWR</td><td>GRR</td><td>  NA</td><td> 719</td></tr>\n",
              "\t<tr><td>EWR</td><td>GSO</td><td>  NA</td><td>1120</td></tr>\n",
              "\t<tr><td>EWR</td><td>GSP</td><td>  NA</td><td> 745</td></tr>\n",
              "\t<tr><td>⋮</td><td>⋮</td><td>⋮</td><td>⋮</td></tr>\n",
              "\t<tr><td>LGA</td><td>MDW</td><td>       NA</td><td>2070</td></tr>\n",
              "\t<tr><td>LGA</td><td>MEM</td><td>       NA</td><td> 862</td></tr>\n",
              "\t<tr><td>LGA</td><td>MHT</td><td>       NA</td><td> 142</td></tr>\n",
              "\t<tr><td>LGA</td><td>MIA</td><td>       NA</td><td>5781</td></tr>\n",
              "\t<tr><td>LGA</td><td>MKE</td><td>       NA</td><td>1525</td></tr>\n",
              "\t<tr><td>LGA</td><td>MSN</td><td>       NA</td><td> 218</td></tr>\n",
              "\t<tr><td>LGA</td><td>MSP</td><td>       NA</td><td>3713</td></tr>\n",
              "\t<tr><td>LGA</td><td>MSY</td><td>       NA</td><td>1011</td></tr>\n",
              "\t<tr><td>LGA</td><td>MYR</td><td> -3.00000</td><td>   3</td></tr>\n",
              "\t<tr><td>LGA</td><td>OMA</td><td>       NA</td><td>  95</td></tr>\n",
              "\t<tr><td>LGA</td><td>ORD</td><td>       NA</td><td>8857</td></tr>\n",
              "\t<tr><td>LGA</td><td>ORF</td><td>       NA</td><td> 206</td></tr>\n",
              "\t<tr><td>LGA</td><td>PBI</td><td>       NA</td><td>2464</td></tr>\n",
              "\t<tr><td>LGA</td><td>PHL</td><td>       NA</td><td> 607</td></tr>\n",
              "\t<tr><td>LGA</td><td>PIT</td><td>       NA</td><td>1067</td></tr>\n",
              "\t<tr><td>LGA</td><td>PWM</td><td>       NA</td><td> 278</td></tr>\n",
              "\t<tr><td>LGA</td><td>RDU</td><td>       NA</td><td>3581</td></tr>\n",
              "\t<tr><td>LGA</td><td>RIC</td><td>       NA</td><td> 538</td></tr>\n",
              "\t<tr><td>LGA</td><td>ROC</td><td>       NA</td><td> 224</td></tr>\n",
              "\t<tr><td>LGA</td><td>RSW</td><td>       NA</td><td> 761</td></tr>\n",
              "\t<tr><td>LGA</td><td>SAV</td><td>-10.51471</td><td>  68</td></tr>\n",
              "\t<tr><td>LGA</td><td>SBN</td><td> 14.50000</td><td>   6</td></tr>\n",
              "\t<tr><td>LGA</td><td>SDF</td><td>       NA</td><td> 217</td></tr>\n",
              "\t<tr><td>LGA</td><td>SRQ</td><td>       NA</td><td> 737</td></tr>\n",
              "\t<tr><td>LGA</td><td>STL</td><td>       NA</td><td>1822</td></tr>\n",
              "\t<tr><td>LGA</td><td>SYR</td><td>       NA</td><td> 293</td></tr>\n",
              "\t<tr><td>LGA</td><td>TPA</td><td>       NA</td><td>2145</td></tr>\n",
              "\t<tr><td>LGA</td><td>TVC</td><td>       NA</td><td>  77</td></tr>\n",
              "\t<tr><td>LGA</td><td>TYS</td><td>       NA</td><td> 308</td></tr>\n",
              "\t<tr><td>LGA</td><td>XNA</td><td>       NA</td><td> 745</td></tr>\n",
              "</tbody>\n",
              "</table>\n"
            ],
            "text/markdown": "\nA grouped_df: 224 × 4\n\n| origin &lt;chr&gt; | dest &lt;chr&gt; | prom_arr_del &lt;dbl&gt; | tot_reg &lt;int&gt; |\n|---|---|---|---|\n| EWR | ALB |   NA |  439 |\n| EWR | ANC | -2.5 |    8 |\n| EWR | ATL |   NA | 5022 |\n| EWR | AUS |   NA |  968 |\n| EWR | AVL |   NA |  265 |\n| EWR | BDL |   NA |  443 |\n| EWR | BNA |   NA | 2336 |\n| EWR | BOS |   NA | 5327 |\n| EWR | BQN |   NA |  297 |\n| EWR | BTV |   NA |  931 |\n| EWR | BUF |   NA |  973 |\n| EWR | BWI |   NA |  545 |\n| EWR | BZN |   NA |   36 |\n| EWR | CAE |   NA |  104 |\n| EWR | CHS |   NA | 1424 |\n| EWR | CLE |   NA | 1754 |\n| EWR | CLT |   NA | 5026 |\n| EWR | CMH |   NA |  724 |\n| EWR | CVG |   NA | 2673 |\n| EWR | DAY |   NA | 1134 |\n| EWR | DCA |   NA | 1719 |\n| EWR | DEN |   NA | 2859 |\n| EWR | DFW |   NA | 3148 |\n| EWR | DSM |   NA |  411 |\n| EWR | DTW |   NA | 3178 |\n| EWR | EGE |   NA |  110 |\n| EWR | FLL |   NA | 3793 |\n| EWR | GRR |   NA |  719 |\n| EWR | GSO |   NA | 1120 |\n| EWR | GSP |   NA |  745 |\n| ⋮ | ⋮ | ⋮ | ⋮ |\n| LGA | MDW |        NA | 2070 |\n| LGA | MEM |        NA |  862 |\n| LGA | MHT |        NA |  142 |\n| LGA | MIA |        NA | 5781 |\n| LGA | MKE |        NA | 1525 |\n| LGA | MSN |        NA |  218 |\n| LGA | MSP |        NA | 3713 |\n| LGA | MSY |        NA | 1011 |\n| LGA | MYR |  -3.00000 |    3 |\n| LGA | OMA |        NA |   95 |\n| LGA | ORD |        NA | 8857 |\n| LGA | ORF |        NA |  206 |\n| LGA | PBI |        NA | 2464 |\n| LGA | PHL |        NA |  607 |\n| LGA | PIT |        NA | 1067 |\n| LGA | PWM |        NA |  278 |\n| LGA | RDU |        NA | 3581 |\n| LGA | RIC |        NA |  538 |\n| LGA | ROC |        NA |  224 |\n| LGA | RSW |        NA |  761 |\n| LGA | SAV | -10.51471 |   68 |\n| LGA | SBN |  14.50000 |    6 |\n| LGA | SDF |        NA |  217 |\n| LGA | SRQ |        NA |  737 |\n| LGA | STL |        NA | 1822 |\n| LGA | SYR |        NA |  293 |\n| LGA | TPA |        NA | 2145 |\n| LGA | TVC |        NA |   77 |\n| LGA | TYS |        NA |  308 |\n| LGA | XNA |        NA |  745 |\n\n",
            "text/latex": "A grouped\\_df: 224 × 4\n\\begin{tabular}{llll}\n origin & dest & prom\\_arr\\_del & tot\\_reg\\\\\n <chr> & <chr> & <dbl> & <int>\\\\\n\\hline\n\t EWR & ALB &   NA &  439\\\\\n\t EWR & ANC & -2.5 &    8\\\\\n\t EWR & ATL &   NA & 5022\\\\\n\t EWR & AUS &   NA &  968\\\\\n\t EWR & AVL &   NA &  265\\\\\n\t EWR & BDL &   NA &  443\\\\\n\t EWR & BNA &   NA & 2336\\\\\n\t EWR & BOS &   NA & 5327\\\\\n\t EWR & BQN &   NA &  297\\\\\n\t EWR & BTV &   NA &  931\\\\\n\t EWR & BUF &   NA &  973\\\\\n\t EWR & BWI &   NA &  545\\\\\n\t EWR & BZN &   NA &   36\\\\\n\t EWR & CAE &   NA &  104\\\\\n\t EWR & CHS &   NA & 1424\\\\\n\t EWR & CLE &   NA & 1754\\\\\n\t EWR & CLT &   NA & 5026\\\\\n\t EWR & CMH &   NA &  724\\\\\n\t EWR & CVG &   NA & 2673\\\\\n\t EWR & DAY &   NA & 1134\\\\\n\t EWR & DCA &   NA & 1719\\\\\n\t EWR & DEN &   NA & 2859\\\\\n\t EWR & DFW &   NA & 3148\\\\\n\t EWR & DSM &   NA &  411\\\\\n\t EWR & DTW &   NA & 3178\\\\\n\t EWR & EGE &   NA &  110\\\\\n\t EWR & FLL &   NA & 3793\\\\\n\t EWR & GRR &   NA &  719\\\\\n\t EWR & GSO &   NA & 1120\\\\\n\t EWR & GSP &   NA &  745\\\\\n\t ⋮ & ⋮ & ⋮ & ⋮\\\\\n\t LGA & MDW &        NA & 2070\\\\\n\t LGA & MEM &        NA &  862\\\\\n\t LGA & MHT &        NA &  142\\\\\n\t LGA & MIA &        NA & 5781\\\\\n\t LGA & MKE &        NA & 1525\\\\\n\t LGA & MSN &        NA &  218\\\\\n\t LGA & MSP &        NA & 3713\\\\\n\t LGA & MSY &        NA & 1011\\\\\n\t LGA & MYR &  -3.00000 &    3\\\\\n\t LGA & OMA &        NA &   95\\\\\n\t LGA & ORD &        NA & 8857\\\\\n\t LGA & ORF &        NA &  206\\\\\n\t LGA & PBI &        NA & 2464\\\\\n\t LGA & PHL &        NA &  607\\\\\n\t LGA & PIT &        NA & 1067\\\\\n\t LGA & PWM &        NA &  278\\\\\n\t LGA & RDU &        NA & 3581\\\\\n\t LGA & RIC &        NA &  538\\\\\n\t LGA & ROC &        NA &  224\\\\\n\t LGA & RSW &        NA &  761\\\\\n\t LGA & SAV & -10.51471 &   68\\\\\n\t LGA & SBN &  14.50000 &    6\\\\\n\t LGA & SDF &        NA &  217\\\\\n\t LGA & SRQ &        NA &  737\\\\\n\t LGA & STL &        NA & 1822\\\\\n\t LGA & SYR &        NA &  293\\\\\n\t LGA & TPA &        NA & 2145\\\\\n\t LGA & TVC &        NA &   77\\\\\n\t LGA & TYS &        NA &  308\\\\\n\t LGA & XNA &        NA &  745\\\\\n\\end{tabular}\n",
            "text/plain": [
              "    origin dest prom_arr_del tot_reg\n",
              "1   EWR    ALB    NA          439   \n",
              "2   EWR    ANC  -2.5            8   \n",
              "3   EWR    ATL    NA         5022   \n",
              "4   EWR    AUS    NA          968   \n",
              "5   EWR    AVL    NA          265   \n",
              "6   EWR    BDL    NA          443   \n",
              "7   EWR    BNA    NA         2336   \n",
              "8   EWR    BOS    NA         5327   \n",
              "9   EWR    BQN    NA          297   \n",
              "10  EWR    BTV    NA          931   \n",
              "11  EWR    BUF    NA          973   \n",
              "12  EWR    BWI    NA          545   \n",
              "13  EWR    BZN    NA           36   \n",
              "14  EWR    CAE    NA          104   \n",
              "15  EWR    CHS    NA         1424   \n",
              "16  EWR    CLE    NA         1754   \n",
              "17  EWR    CLT    NA         5026   \n",
              "18  EWR    CMH    NA          724   \n",
              "19  EWR    CVG    NA         2673   \n",
              "20  EWR    DAY    NA         1134   \n",
              "21  EWR    DCA    NA         1719   \n",
              "22  EWR    DEN    NA         2859   \n",
              "23  EWR    DFW    NA         3148   \n",
              "24  EWR    DSM    NA          411   \n",
              "25  EWR    DTW    NA         3178   \n",
              "26  EWR    EGE    NA          110   \n",
              "27  EWR    FLL    NA         3793   \n",
              "28  EWR    GRR    NA          719   \n",
              "29  EWR    GSO    NA         1120   \n",
              "30  EWR    GSP    NA          745   \n",
              "⋮   ⋮      ⋮    ⋮            ⋮      \n",
              "195 LGA    MDW         NA    2070   \n",
              "196 LGA    MEM         NA     862   \n",
              "197 LGA    MHT         NA     142   \n",
              "198 LGA    MIA         NA    5781   \n",
              "199 LGA    MKE         NA    1525   \n",
              "200 LGA    MSN         NA     218   \n",
              "201 LGA    MSP         NA    3713   \n",
              "202 LGA    MSY         NA    1011   \n",
              "203 LGA    MYR   -3.00000       3   \n",
              "204 LGA    OMA         NA      95   \n",
              "205 LGA    ORD         NA    8857   \n",
              "206 LGA    ORF         NA     206   \n",
              "207 LGA    PBI         NA    2464   \n",
              "208 LGA    PHL         NA     607   \n",
              "209 LGA    PIT         NA    1067   \n",
              "210 LGA    PWM         NA     278   \n",
              "211 LGA    RDU         NA    3581   \n",
              "212 LGA    RIC         NA     538   \n",
              "213 LGA    ROC         NA     224   \n",
              "214 LGA    RSW         NA     761   \n",
              "215 LGA    SAV  -10.51471      68   \n",
              "216 LGA    SBN   14.50000       6   \n",
              "217 LGA    SDF         NA     217   \n",
              "218 LGA    SRQ         NA     737   \n",
              "219 LGA    STL         NA    1822   \n",
              "220 LGA    SYR         NA     293   \n",
              "221 LGA    TPA         NA    2145   \n",
              "222 LGA    TVC         NA      77   \n",
              "223 LGA    TYS         NA     308   \n",
              "224 LGA    XNA         NA     745   "
            ]
          },
          "metadata": {}
        }
      ]
    },
    {
      "cell_type": "code",
      "source": [
        "vuelos %>%\n",
        "  group_by(origin, dest) %>%\n",
        "  summarise(prom_arr_del = mean(arr_delay, na.rm = T),\n",
        "            tot_reg = n())"
      ],
      "metadata": {
        "id": "uF_HrbUk6QSF",
        "outputId": "671e27ed-043a-4e7d-98a0-ac4682a37acc",
        "colab": {
          "base_uri": "https://localhost:8080/",
          "height": 1000
        }
      },
      "execution_count": null,
      "outputs": [
        {
          "output_type": "stream",
          "name": "stderr",
          "text": [
            "\u001b[1m\u001b[22m`summarise()` has grouped output by 'origin'. You can override using the\n",
            "`.groups` argument.\n"
          ]
        },
        {
          "output_type": "display_data",
          "data": {
            "text/html": [
              "<table class=\"dataframe\">\n",
              "<caption>A grouped_df: 224 × 4</caption>\n",
              "<thead>\n",
              "\t<tr><th scope=col>origin</th><th scope=col>dest</th><th scope=col>prom_arr_del</th><th scope=col>tot_reg</th></tr>\n",
              "\t<tr><th scope=col>&lt;chr&gt;</th><th scope=col>&lt;chr&gt;</th><th scope=col>&lt;dbl&gt;</th><th scope=col>&lt;int&gt;</th></tr>\n",
              "</thead>\n",
              "<tbody>\n",
              "\t<tr><td>EWR</td><td>ALB</td><td>14.3971292</td><td> 439</td></tr>\n",
              "\t<tr><td>EWR</td><td>ANC</td><td>-2.5000000</td><td>   8</td></tr>\n",
              "\t<tr><td>EWR</td><td>ATL</td><td>13.2331829</td><td>5022</td></tr>\n",
              "\t<tr><td>EWR</td><td>AUS</td><td>-0.4743992</td><td> 968</td></tr>\n",
              "\t<tr><td>EWR</td><td>AVL</td><td> 8.8047809</td><td> 265</td></tr>\n",
              "\t<tr><td>EWR</td><td>BDL</td><td> 7.0485437</td><td> 443</td></tr>\n",
              "\t<tr><td>EWR</td><td>BNA</td><td>12.7081660</td><td>2336</td></tr>\n",
              "\t<tr><td>EWR</td><td>BOS</td><td> 4.7836859</td><td>5327</td></tr>\n",
              "\t<tr><td>EWR</td><td>BQN</td><td>10.8644068</td><td> 297</td></tr>\n",
              "\t<tr><td>EWR</td><td>BTV</td><td>12.1862302</td><td> 931</td></tr>\n",
              "\t<tr><td>EWR</td><td>BUF</td><td> 9.6965812</td><td> 973</td></tr>\n",
              "\t<tr><td>EWR</td><td>BWI</td><td>15.0763359</td><td> 545</td></tr>\n",
              "\t<tr><td>EWR</td><td>BZN</td><td> 7.6000000</td><td>  36</td></tr>\n",
              "\t<tr><td>EWR</td><td>CAE</td><td>44.5851064</td><td> 104</td></tr>\n",
              "\t<tr><td>EWR</td><td>CHS</td><td>16.1861504</td><td>1424</td></tr>\n",
              "\t<tr><td>EWR</td><td>CLE</td><td> 5.0358382</td><td>1754</td></tr>\n",
              "\t<tr><td>EWR</td><td>CLT</td><td> 7.7819334</td><td>5026</td></tr>\n",
              "\t<tr><td>EWR</td><td>CMH</td><td> 9.6020408</td><td> 724</td></tr>\n",
              "\t<tr><td>EWR</td><td>CVG</td><td>14.9255869</td><td>2673</td></tr>\n",
              "\t<tr><td>EWR</td><td>DAY</td><td>18.3841060</td><td>1134</td></tr>\n",
              "\t<tr><td>EWR</td><td>DCA</td><td>21.3139757</td><td>1719</td></tr>\n",
              "\t<tr><td>EWR</td><td>DEN</td><td> 9.0337478</td><td>2859</td></tr>\n",
              "\t<tr><td>EWR</td><td>DFW</td><td> 1.8981420</td><td>3148</td></tr>\n",
              "\t<tr><td>EWR</td><td>DSM</td><td>23.5487179</td><td> 411</td></tr>\n",
              "\t<tr><td>EWR</td><td>DTW</td><td>10.9155866</td><td>3178</td></tr>\n",
              "\t<tr><td>EWR</td><td>EGE</td><td>-5.3490566</td><td> 110</td></tr>\n",
              "\t<tr><td>EWR</td><td>FLL</td><td> 7.7612299</td><td>3793</td></tr>\n",
              "\t<tr><td>EWR</td><td>GRR</td><td>19.3706395</td><td> 719</td></tr>\n",
              "\t<tr><td>EWR</td><td>GSO</td><td>17.6622010</td><td>1120</td></tr>\n",
              "\t<tr><td>EWR</td><td>GSP</td><td>18.1430636</td><td> 745</td></tr>\n",
              "\t<tr><td>⋮</td><td>⋮</td><td>⋮</td><td>⋮</td></tr>\n",
              "\t<tr><td>LGA</td><td>MDW</td><td> 11.0500736</td><td>2070</td></tr>\n",
              "\t<tr><td>LGA</td><td>MEM</td><td>  1.3464286</td><td> 862</td></tr>\n",
              "\t<tr><td>LGA</td><td>MHT</td><td> 17.5277778</td><td> 142</td></tr>\n",
              "\t<tr><td>LGA</td><td>MIA</td><td> -0.0657664</td><td>5781</td></tr>\n",
              "\t<tr><td>LGA</td><td>MKE</td><td>  7.2528736</td><td>1525</td></tr>\n",
              "\t<tr><td>LGA</td><td>MSN</td><td> 15.2890995</td><td> 218</td></tr>\n",
              "\t<tr><td>LGA</td><td>MSP</td><td>  6.1312155</td><td>3713</td></tr>\n",
              "\t<tr><td>LGA</td><td>MSY</td><td>  2.3336673</td><td>1011</td></tr>\n",
              "\t<tr><td>LGA</td><td>MYR</td><td> -3.0000000</td><td>   3</td></tr>\n",
              "\t<tr><td>LGA</td><td>OMA</td><td> 13.7362637</td><td>  95</td></tr>\n",
              "\t<tr><td>LGA</td><td>ORD</td><td>  1.8334313</td><td>8857</td></tr>\n",
              "\t<tr><td>LGA</td><td>ORF</td><td>  7.7846154</td><td> 206</td></tr>\n",
              "\t<tr><td>LGA</td><td>PBI</td><td>  6.0152326</td><td>2464</td></tr>\n",
              "\t<tr><td>LGA</td><td>PHL</td><td>  5.7792642</td><td> 607</td></tr>\n",
              "\t<tr><td>LGA</td><td>PIT</td><td>  9.6343874</td><td>1067</td></tr>\n",
              "\t<tr><td>LGA</td><td>PWM</td><td>  1.8608059</td><td> 278</td></tr>\n",
              "\t<tr><td>LGA</td><td>RDU</td><td>  8.4166172</td><td>3581</td></tr>\n",
              "\t<tr><td>LGA</td><td>RIC</td><td>  5.6424242</td><td> 538</td></tr>\n",
              "\t<tr><td>LGA</td><td>ROC</td><td>  1.8101852</td><td> 224</td></tr>\n",
              "\t<tr><td>LGA</td><td>RSW</td><td>  7.0611702</td><td> 761</td></tr>\n",
              "\t<tr><td>LGA</td><td>SAV</td><td>-10.5147059</td><td>  68</td></tr>\n",
              "\t<tr><td>LGA</td><td>SBN</td><td> 14.5000000</td><td>   6</td></tr>\n",
              "\t<tr><td>LGA</td><td>SDF</td><td> -3.4428571</td><td> 217</td></tr>\n",
              "\t<tr><td>LGA</td><td>SRQ</td><td>  4.5939643</td><td> 737</td></tr>\n",
              "\t<tr><td>LGA</td><td>STL</td><td>  4.0882852</td><td>1822</td></tr>\n",
              "\t<tr><td>LGA</td><td>SYR</td><td>  9.2527881</td><td> 293</td></tr>\n",
              "\t<tr><td>LGA</td><td>TPA</td><td>  8.2064911</td><td>2145</td></tr>\n",
              "\t<tr><td>LGA</td><td>TVC</td><td> 15.9726027</td><td>  77</td></tr>\n",
              "\t<tr><td>LGA</td><td>TYS</td><td>  3.8943396</td><td> 308</td></tr>\n",
              "\t<tr><td>LGA</td><td>XNA</td><td>  7.1142454</td><td> 745</td></tr>\n",
              "</tbody>\n",
              "</table>\n"
            ],
            "text/markdown": "\nA grouped_df: 224 × 4\n\n| origin &lt;chr&gt; | dest &lt;chr&gt; | prom_arr_del &lt;dbl&gt; | tot_reg &lt;int&gt; |\n|---|---|---|---|\n| EWR | ALB | 14.3971292 |  439 |\n| EWR | ANC | -2.5000000 |    8 |\n| EWR | ATL | 13.2331829 | 5022 |\n| EWR | AUS | -0.4743992 |  968 |\n| EWR | AVL |  8.8047809 |  265 |\n| EWR | BDL |  7.0485437 |  443 |\n| EWR | BNA | 12.7081660 | 2336 |\n| EWR | BOS |  4.7836859 | 5327 |\n| EWR | BQN | 10.8644068 |  297 |\n| EWR | BTV | 12.1862302 |  931 |\n| EWR | BUF |  9.6965812 |  973 |\n| EWR | BWI | 15.0763359 |  545 |\n| EWR | BZN |  7.6000000 |   36 |\n| EWR | CAE | 44.5851064 |  104 |\n| EWR | CHS | 16.1861504 | 1424 |\n| EWR | CLE |  5.0358382 | 1754 |\n| EWR | CLT |  7.7819334 | 5026 |\n| EWR | CMH |  9.6020408 |  724 |\n| EWR | CVG | 14.9255869 | 2673 |\n| EWR | DAY | 18.3841060 | 1134 |\n| EWR | DCA | 21.3139757 | 1719 |\n| EWR | DEN |  9.0337478 | 2859 |\n| EWR | DFW |  1.8981420 | 3148 |\n| EWR | DSM | 23.5487179 |  411 |\n| EWR | DTW | 10.9155866 | 3178 |\n| EWR | EGE | -5.3490566 |  110 |\n| EWR | FLL |  7.7612299 | 3793 |\n| EWR | GRR | 19.3706395 |  719 |\n| EWR | GSO | 17.6622010 | 1120 |\n| EWR | GSP | 18.1430636 |  745 |\n| ⋮ | ⋮ | ⋮ | ⋮ |\n| LGA | MDW |  11.0500736 | 2070 |\n| LGA | MEM |   1.3464286 |  862 |\n| LGA | MHT |  17.5277778 |  142 |\n| LGA | MIA |  -0.0657664 | 5781 |\n| LGA | MKE |   7.2528736 | 1525 |\n| LGA | MSN |  15.2890995 |  218 |\n| LGA | MSP |   6.1312155 | 3713 |\n| LGA | MSY |   2.3336673 | 1011 |\n| LGA | MYR |  -3.0000000 |    3 |\n| LGA | OMA |  13.7362637 |   95 |\n| LGA | ORD |   1.8334313 | 8857 |\n| LGA | ORF |   7.7846154 |  206 |\n| LGA | PBI |   6.0152326 | 2464 |\n| LGA | PHL |   5.7792642 |  607 |\n| LGA | PIT |   9.6343874 | 1067 |\n| LGA | PWM |   1.8608059 |  278 |\n| LGA | RDU |   8.4166172 | 3581 |\n| LGA | RIC |   5.6424242 |  538 |\n| LGA | ROC |   1.8101852 |  224 |\n| LGA | RSW |   7.0611702 |  761 |\n| LGA | SAV | -10.5147059 |   68 |\n| LGA | SBN |  14.5000000 |    6 |\n| LGA | SDF |  -3.4428571 |  217 |\n| LGA | SRQ |   4.5939643 |  737 |\n| LGA | STL |   4.0882852 | 1822 |\n| LGA | SYR |   9.2527881 |  293 |\n| LGA | TPA |   8.2064911 | 2145 |\n| LGA | TVC |  15.9726027 |   77 |\n| LGA | TYS |   3.8943396 |  308 |\n| LGA | XNA |   7.1142454 |  745 |\n\n",
            "text/latex": "A grouped\\_df: 224 × 4\n\\begin{tabular}{llll}\n origin & dest & prom\\_arr\\_del & tot\\_reg\\\\\n <chr> & <chr> & <dbl> & <int>\\\\\n\\hline\n\t EWR & ALB & 14.3971292 &  439\\\\\n\t EWR & ANC & -2.5000000 &    8\\\\\n\t EWR & ATL & 13.2331829 & 5022\\\\\n\t EWR & AUS & -0.4743992 &  968\\\\\n\t EWR & AVL &  8.8047809 &  265\\\\\n\t EWR & BDL &  7.0485437 &  443\\\\\n\t EWR & BNA & 12.7081660 & 2336\\\\\n\t EWR & BOS &  4.7836859 & 5327\\\\\n\t EWR & BQN & 10.8644068 &  297\\\\\n\t EWR & BTV & 12.1862302 &  931\\\\\n\t EWR & BUF &  9.6965812 &  973\\\\\n\t EWR & BWI & 15.0763359 &  545\\\\\n\t EWR & BZN &  7.6000000 &   36\\\\\n\t EWR & CAE & 44.5851064 &  104\\\\\n\t EWR & CHS & 16.1861504 & 1424\\\\\n\t EWR & CLE &  5.0358382 & 1754\\\\\n\t EWR & CLT &  7.7819334 & 5026\\\\\n\t EWR & CMH &  9.6020408 &  724\\\\\n\t EWR & CVG & 14.9255869 & 2673\\\\\n\t EWR & DAY & 18.3841060 & 1134\\\\\n\t EWR & DCA & 21.3139757 & 1719\\\\\n\t EWR & DEN &  9.0337478 & 2859\\\\\n\t EWR & DFW &  1.8981420 & 3148\\\\\n\t EWR & DSM & 23.5487179 &  411\\\\\n\t EWR & DTW & 10.9155866 & 3178\\\\\n\t EWR & EGE & -5.3490566 &  110\\\\\n\t EWR & FLL &  7.7612299 & 3793\\\\\n\t EWR & GRR & 19.3706395 &  719\\\\\n\t EWR & GSO & 17.6622010 & 1120\\\\\n\t EWR & GSP & 18.1430636 &  745\\\\\n\t ⋮ & ⋮ & ⋮ & ⋮\\\\\n\t LGA & MDW &  11.0500736 & 2070\\\\\n\t LGA & MEM &   1.3464286 &  862\\\\\n\t LGA & MHT &  17.5277778 &  142\\\\\n\t LGA & MIA &  -0.0657664 & 5781\\\\\n\t LGA & MKE &   7.2528736 & 1525\\\\\n\t LGA & MSN &  15.2890995 &  218\\\\\n\t LGA & MSP &   6.1312155 & 3713\\\\\n\t LGA & MSY &   2.3336673 & 1011\\\\\n\t LGA & MYR &  -3.0000000 &    3\\\\\n\t LGA & OMA &  13.7362637 &   95\\\\\n\t LGA & ORD &   1.8334313 & 8857\\\\\n\t LGA & ORF &   7.7846154 &  206\\\\\n\t LGA & PBI &   6.0152326 & 2464\\\\\n\t LGA & PHL &   5.7792642 &  607\\\\\n\t LGA & PIT &   9.6343874 & 1067\\\\\n\t LGA & PWM &   1.8608059 &  278\\\\\n\t LGA & RDU &   8.4166172 & 3581\\\\\n\t LGA & RIC &   5.6424242 &  538\\\\\n\t LGA & ROC &   1.8101852 &  224\\\\\n\t LGA & RSW &   7.0611702 &  761\\\\\n\t LGA & SAV & -10.5147059 &   68\\\\\n\t LGA & SBN &  14.5000000 &    6\\\\\n\t LGA & SDF &  -3.4428571 &  217\\\\\n\t LGA & SRQ &   4.5939643 &  737\\\\\n\t LGA & STL &   4.0882852 & 1822\\\\\n\t LGA & SYR &   9.2527881 &  293\\\\\n\t LGA & TPA &   8.2064911 & 2145\\\\\n\t LGA & TVC &  15.9726027 &   77\\\\\n\t LGA & TYS &   3.8943396 &  308\\\\\n\t LGA & XNA &   7.1142454 &  745\\\\\n\\end{tabular}\n",
            "text/plain": [
              "    origin dest prom_arr_del tot_reg\n",
              "1   EWR    ALB  14.3971292    439   \n",
              "2   EWR    ANC  -2.5000000      8   \n",
              "3   EWR    ATL  13.2331829   5022   \n",
              "4   EWR    AUS  -0.4743992    968   \n",
              "5   EWR    AVL   8.8047809    265   \n",
              "6   EWR    BDL   7.0485437    443   \n",
              "7   EWR    BNA  12.7081660   2336   \n",
              "8   EWR    BOS   4.7836859   5327   \n",
              "9   EWR    BQN  10.8644068    297   \n",
              "10  EWR    BTV  12.1862302    931   \n",
              "11  EWR    BUF   9.6965812    973   \n",
              "12  EWR    BWI  15.0763359    545   \n",
              "13  EWR    BZN   7.6000000     36   \n",
              "14  EWR    CAE  44.5851064    104   \n",
              "15  EWR    CHS  16.1861504   1424   \n",
              "16  EWR    CLE   5.0358382   1754   \n",
              "17  EWR    CLT   7.7819334   5026   \n",
              "18  EWR    CMH   9.6020408    724   \n",
              "19  EWR    CVG  14.9255869   2673   \n",
              "20  EWR    DAY  18.3841060   1134   \n",
              "21  EWR    DCA  21.3139757   1719   \n",
              "22  EWR    DEN   9.0337478   2859   \n",
              "23  EWR    DFW   1.8981420   3148   \n",
              "24  EWR    DSM  23.5487179    411   \n",
              "25  EWR    DTW  10.9155866   3178   \n",
              "26  EWR    EGE  -5.3490566    110   \n",
              "27  EWR    FLL   7.7612299   3793   \n",
              "28  EWR    GRR  19.3706395    719   \n",
              "29  EWR    GSO  17.6622010   1120   \n",
              "30  EWR    GSP  18.1430636    745   \n",
              "⋮   ⋮      ⋮    ⋮            ⋮      \n",
              "195 LGA    MDW   11.0500736  2070   \n",
              "196 LGA    MEM    1.3464286   862   \n",
              "197 LGA    MHT   17.5277778   142   \n",
              "198 LGA    MIA   -0.0657664  5781   \n",
              "199 LGA    MKE    7.2528736  1525   \n",
              "200 LGA    MSN   15.2890995   218   \n",
              "201 LGA    MSP    6.1312155  3713   \n",
              "202 LGA    MSY    2.3336673  1011   \n",
              "203 LGA    MYR   -3.0000000     3   \n",
              "204 LGA    OMA   13.7362637    95   \n",
              "205 LGA    ORD    1.8334313  8857   \n",
              "206 LGA    ORF    7.7846154   206   \n",
              "207 LGA    PBI    6.0152326  2464   \n",
              "208 LGA    PHL    5.7792642   607   \n",
              "209 LGA    PIT    9.6343874  1067   \n",
              "210 LGA    PWM    1.8608059   278   \n",
              "211 LGA    RDU    8.4166172  3581   \n",
              "212 LGA    RIC    5.6424242   538   \n",
              "213 LGA    ROC    1.8101852   224   \n",
              "214 LGA    RSW    7.0611702   761   \n",
              "215 LGA    SAV  -10.5147059    68   \n",
              "216 LGA    SBN   14.5000000     6   \n",
              "217 LGA    SDF   -3.4428571   217   \n",
              "218 LGA    SRQ    4.5939643   737   \n",
              "219 LGA    STL    4.0882852  1822   \n",
              "220 LGA    SYR    9.2527881   293   \n",
              "221 LGA    TPA    8.2064911  2145   \n",
              "222 LGA    TVC   15.9726027    77   \n",
              "223 LGA    TYS    3.8943396   308   \n",
              "224 LGA    XNA    7.1142454   745   "
            ]
          },
          "metadata": {}
        }
      ]
    },
    {
      "cell_type": "code",
      "metadata": {
        "trusted": true,
        "id": "Cb8r9XleRPzX"
      },
      "source": [
        "# los podemos remover mediante el argumento na.rm de la función mean()\n"
      ],
      "execution_count": null,
      "outputs": []
    },
    {
      "cell_type": "code",
      "source": [
        "mean(c(1,2,NA,4), na.rm = T)\n",
        "mean(c(1,2,4))"
      ],
      "metadata": {
        "id": "7_1hGLUQ52tp",
        "outputId": "569aa7b8-7b01-4c46-9408-1d3921713a49",
        "colab": {
          "base_uri": "https://localhost:8080/",
          "height": 52
        }
      },
      "execution_count": null,
      "outputs": [
        {
          "output_type": "display_data",
          "data": {
            "text/html": [
              "2.33333333333333"
            ],
            "text/markdown": "2.33333333333333",
            "text/latex": "2.33333333333333",
            "text/plain": [
              "[1] 2.333333"
            ]
          },
          "metadata": {}
        },
        {
          "output_type": "display_data",
          "data": {
            "text/html": [
              "2.33333333333333"
            ],
            "text/markdown": "2.33333333333333",
            "text/latex": "2.33333333333333",
            "text/plain": [
              "[1] 2.333333"
            ]
          },
          "metadata": {}
        }
      ]
    },
    {
      "cell_type": "code",
      "metadata": {
        "trusted": true,
        "id": "DsrFjp7oRPzW",
        "outputId": "15aaa674-46ee-4159-d0e7-4986be176f85",
        "colab": {
          "base_uri": "https://localhost:8080/",
          "height": 160
        }
      },
      "source": [
        "# ¿Cuáles son los 2 aeropuertos de destino con mayor retraso medio en su llegada?\n",
        "vuelos %>%\n",
        "  group_by(dest) %>%\n",
        "  summarise(prom_arr_del = mean(arr_delay,na.rm = T)) %>%\n",
        "  arrange(desc(prom_arr_del)) %>%\n",
        "  head(2)\n",
        "\n",
        "# Los 2 aeropuertos con... son CAE y TUL.\n"
      ],
      "execution_count": null,
      "outputs": [
        {
          "output_type": "display_data",
          "data": {
            "text/html": [
              "<table class=\"dataframe\">\n",
              "<caption>A tibble: 2 × 2</caption>\n",
              "<thead>\n",
              "\t<tr><th scope=col>dest</th><th scope=col>prom_arr_del</th></tr>\n",
              "\t<tr><th scope=col>&lt;chr&gt;</th><th scope=col>&lt;dbl&gt;</th></tr>\n",
              "</thead>\n",
              "<tbody>\n",
              "\t<tr><td>CAE</td><td>41.76415</td></tr>\n",
              "\t<tr><td>TUL</td><td>33.65986</td></tr>\n",
              "</tbody>\n",
              "</table>\n"
            ],
            "text/markdown": "\nA tibble: 2 × 2\n\n| dest &lt;chr&gt; | prom_arr_del &lt;dbl&gt; |\n|---|---|\n| CAE | 41.76415 |\n| TUL | 33.65986 |\n\n",
            "text/latex": "A tibble: 2 × 2\n\\begin{tabular}{ll}\n dest & prom\\_arr\\_del\\\\\n <chr> & <dbl>\\\\\n\\hline\n\t CAE & 41.76415\\\\\n\t TUL & 33.65986\\\\\n\\end{tabular}\n",
            "text/plain": [
              "  dest prom_arr_del\n",
              "1 CAE  41.76415    \n",
              "2 TUL  33.65986    "
            ]
          },
          "metadata": {}
        }
      ]
    },
    {
      "cell_type": "code",
      "source": [
        "vuelos %>%\n",
        "  group_by(dest) %>%\n",
        "  summarise(prom_arr_del = mean(arr_delay,na.rm = T)) %>%\n",
        "  slice_max(prom_arr_del, n = 2) # Existen funciones para extraer porciones de la tabla."
      ],
      "metadata": {
        "id": "tazsu2tT7XFz",
        "outputId": "538beb33-f566-4a4c-8943-a59c97c63e2a",
        "colab": {
          "base_uri": "https://localhost:8080/",
          "height": 160
        }
      },
      "execution_count": null,
      "outputs": [
        {
          "output_type": "display_data",
          "data": {
            "text/html": [
              "<table class=\"dataframe\">\n",
              "<caption>A tibble: 2 × 2</caption>\n",
              "<thead>\n",
              "\t<tr><th scope=col>dest</th><th scope=col>prom_arr_del</th></tr>\n",
              "\t<tr><th scope=col>&lt;chr&gt;</th><th scope=col>&lt;dbl&gt;</th></tr>\n",
              "</thead>\n",
              "<tbody>\n",
              "\t<tr><td>CAE</td><td>41.76415</td></tr>\n",
              "\t<tr><td>TUL</td><td>33.65986</td></tr>\n",
              "</tbody>\n",
              "</table>\n"
            ],
            "text/markdown": "\nA tibble: 2 × 2\n\n| dest &lt;chr&gt; | prom_arr_del &lt;dbl&gt; |\n|---|---|\n| CAE | 41.76415 |\n| TUL | 33.65986 |\n\n",
            "text/latex": "A tibble: 2 × 2\n\\begin{tabular}{ll}\n dest & prom\\_arr\\_del\\\\\n <chr> & <dbl>\\\\\n\\hline\n\t CAE & 41.76415\\\\\n\t TUL & 33.65986\\\\\n\\end{tabular}\n",
            "text/plain": [
              "  dest prom_arr_del\n",
              "1 CAE  41.76415    \n",
              "2 TUL  33.65986    "
            ]
          },
          "metadata": {}
        }
      ]
    },
    {
      "cell_type": "code",
      "source": [
        "# ¿Cuáles son los aeropuertos de destino con retraso medio (arr_delay) en las posiciones 1, 10 y 20?\n",
        "retrasos <- vuelos %>%\n",
        "              group_by(dest) %>%\n",
        "              summarise(prom_arr_del = mean(arr_delay,na.rm = T)) %>%\n",
        "              arrange(desc(prom_arr_del))\n"
      ],
      "metadata": {
        "id": "CWqFJGM_8DzW"
      },
      "execution_count": null,
      "outputs": []
    },
    {
      "cell_type": "code",
      "source": [
        "retrasos[c(1,10,20),]"
      ],
      "metadata": {
        "id": "wcJcbJdJ821A",
        "outputId": "b66624b5-fa80-4f7a-cfdb-4f63fe6cea6c",
        "colab": {
          "base_uri": "https://localhost:8080/",
          "height": 192
        }
      },
      "execution_count": null,
      "outputs": [
        {
          "output_type": "display_data",
          "data": {
            "text/html": [
              "<table class=\"dataframe\">\n",
              "<caption>A tibble: 3 × 2</caption>\n",
              "<thead>\n",
              "\t<tr><th scope=col>dest</th><th scope=col>prom_arr_del</th></tr>\n",
              "\t<tr><th scope=col>&lt;chr&gt;</th><th scope=col>&lt;dbl&gt;</th></tr>\n",
              "</thead>\n",
              "<tbody>\n",
              "\t<tr><td>CAE</td><td>41.76415</td></tr>\n",
              "\t<tr><td>GRR</td><td>18.18956</td></tr>\n",
              "\t<tr><td>ALB</td><td>14.39713</td></tr>\n",
              "</tbody>\n",
              "</table>\n"
            ],
            "text/markdown": "\nA tibble: 3 × 2\n\n| dest &lt;chr&gt; | prom_arr_del &lt;dbl&gt; |\n|---|---|\n| CAE | 41.76415 |\n| GRR | 18.18956 |\n| ALB | 14.39713 |\n\n",
            "text/latex": "A tibble: 3 × 2\n\\begin{tabular}{ll}\n dest & prom\\_arr\\_del\\\\\n <chr> & <dbl>\\\\\n\\hline\n\t CAE & 41.76415\\\\\n\t GRR & 18.18956\\\\\n\t ALB & 14.39713\\\\\n\\end{tabular}\n",
            "text/plain": [
              "  dest prom_arr_del\n",
              "1 CAE  41.76415    \n",
              "2 GRR  18.18956    \n",
              "3 ALB  14.39713    "
            ]
          },
          "metadata": {}
        }
      ]
    },
    {
      "cell_type": "code",
      "source": [
        "retrasos %>% # Ya está ordenado\n",
        "  mutate(rk = row_number()) %>%\n",
        "  filter(rk %in% c(1,10,20))"
      ],
      "metadata": {
        "id": "vIGrfg8O89Yq",
        "outputId": "13cf9d05-1289-407c-cdfa-b87cf9edd55b",
        "colab": {
          "base_uri": "https://localhost:8080/",
          "height": 192
        }
      },
      "execution_count": null,
      "outputs": [
        {
          "output_type": "display_data",
          "data": {
            "text/html": [
              "<table class=\"dataframe\">\n",
              "<caption>A tibble: 3 × 3</caption>\n",
              "<thead>\n",
              "\t<tr><th scope=col>dest</th><th scope=col>prom_arr_del</th><th scope=col>rk</th></tr>\n",
              "\t<tr><th scope=col>&lt;chr&gt;</th><th scope=col>&lt;dbl&gt;</th><th scope=col>&lt;int&gt;</th></tr>\n",
              "</thead>\n",
              "<tbody>\n",
              "\t<tr><td>CAE</td><td>41.76415</td><td> 1</td></tr>\n",
              "\t<tr><td>GRR</td><td>18.18956</td><td>10</td></tr>\n",
              "\t<tr><td>ALB</td><td>14.39713</td><td>20</td></tr>\n",
              "</tbody>\n",
              "</table>\n"
            ],
            "text/markdown": "\nA tibble: 3 × 3\n\n| dest &lt;chr&gt; | prom_arr_del &lt;dbl&gt; | rk &lt;int&gt; |\n|---|---|---|\n| CAE | 41.76415 |  1 |\n| GRR | 18.18956 | 10 |\n| ALB | 14.39713 | 20 |\n\n",
            "text/latex": "A tibble: 3 × 3\n\\begin{tabular}{lll}\n dest & prom\\_arr\\_del & rk\\\\\n <chr> & <dbl> & <int>\\\\\n\\hline\n\t CAE & 41.76415 &  1\\\\\n\t GRR & 18.18956 & 10\\\\\n\t ALB & 14.39713 & 20\\\\\n\\end{tabular}\n",
            "text/plain": [
              "  dest prom_arr_del rk\n",
              "1 CAE  41.76415      1\n",
              "2 GRR  18.18956     10\n",
              "3 ALB  14.39713     20"
            ]
          },
          "metadata": {}
        }
      ]
    },
    {
      "cell_type": "code",
      "source": [
        "c(1,3,5) %in% c(7,4,5,1)"
      ],
      "metadata": {
        "id": "gxP713Wl92b2",
        "outputId": "7b218a7b-eda6-43fc-f56f-297c61e8ae42",
        "colab": {
          "base_uri": "https://localhost:8080/",
          "height": 34
        }
      },
      "execution_count": null,
      "outputs": [
        {
          "output_type": "display_data",
          "data": {
            "text/html": [
              "<style>\n",
              ".list-inline {list-style: none; margin:0; padding: 0}\n",
              ".list-inline>li {display: inline-block}\n",
              ".list-inline>li:not(:last-child)::after {content: \"\\00b7\"; padding: 0 .5ex}\n",
              "</style>\n",
              "<ol class=list-inline><li>TRUE</li><li>FALSE</li><li>TRUE</li></ol>\n"
            ],
            "text/markdown": "1. TRUE\n2. FALSE\n3. TRUE\n\n\n",
            "text/latex": "\\begin{enumerate*}\n\\item TRUE\n\\item FALSE\n\\item TRUE\n\\end{enumerate*}\n",
            "text/plain": [
              "[1]  TRUE FALSE  TRUE"
            ]
          },
          "metadata": {}
        }
      ]
    },
    {
      "cell_type": "code",
      "source": [
        "summary(vuelos)"
      ],
      "metadata": {
        "id": "t4s8sZ97dMdP",
        "outputId": "4c4e3f38-bb86-4db6-9405-fcbd3b4bb473",
        "colab": {
          "base_uri": "https://localhost:8080/",
          "height": 711
        }
      },
      "execution_count": 7,
      "outputs": [
        {
          "output_type": "display_data",
          "data": {
            "text/plain": [
              "      year          month             day           dep_time    sched_dep_time\n",
              " Min.   :2013   Min.   : 1.000   Min.   : 1.00   Min.   :   1   Min.   : 106  \n",
              " 1st Qu.:2013   1st Qu.: 4.000   1st Qu.: 8.00   1st Qu.: 907   1st Qu.: 906  \n",
              " Median :2013   Median : 7.000   Median :16.00   Median :1401   Median :1359  \n",
              " Mean   :2013   Mean   : 6.549   Mean   :15.71   Mean   :1349   Mean   :1344  \n",
              " 3rd Qu.:2013   3rd Qu.:10.000   3rd Qu.:23.00   3rd Qu.:1744   3rd Qu.:1729  \n",
              " Max.   :2013   Max.   :12.000   Max.   :31.00   Max.   :2400   Max.   :2359  \n",
              "                                                 NA's   :8255                 \n",
              "   dep_delay          arr_time    sched_arr_time   arr_delay       \n",
              " Min.   : -43.00   Min.   :   1   Min.   :   1   Min.   : -86.000  \n",
              " 1st Qu.:  -5.00   1st Qu.:1104   1st Qu.:1124   1st Qu.: -17.000  \n",
              " Median :  -2.00   Median :1535   Median :1556   Median :  -5.000  \n",
              " Mean   :  12.64   Mean   :1502   Mean   :1536   Mean   :   6.895  \n",
              " 3rd Qu.:  11.00   3rd Qu.:1940   3rd Qu.:1945   3rd Qu.:  14.000  \n",
              " Max.   :1301.00   Max.   :2400   Max.   :2359   Max.   :1272.000  \n",
              " NA's   :8255      NA's   :8713                  NA's   :9430      \n",
              "   carrier              flight       tailnum             origin         \n",
              " Length:336776      Min.   :   1   Length:336776      Length:336776     \n",
              " Class :character   1st Qu.: 553   Class :character   Class :character  \n",
              " Mode  :character   Median :1496   Mode  :character   Mode  :character  \n",
              "                    Mean   :1972                                        \n",
              "                    3rd Qu.:3465                                        \n",
              "                    Max.   :8500                                        \n",
              "                                                                        \n",
              "     dest              air_time        distance         hour      \n",
              " Length:336776      Min.   : 20.0   Min.   :  17   Min.   : 1.00  \n",
              " Class :character   1st Qu.: 82.0   1st Qu.: 502   1st Qu.: 9.00  \n",
              " Mode  :character   Median :129.0   Median : 872   Median :13.00  \n",
              "                    Mean   :150.7   Mean   :1040   Mean   :13.18  \n",
              "                    3rd Qu.:192.0   3rd Qu.:1389   3rd Qu.:17.00  \n",
              "                    Max.   :695.0   Max.   :4983   Max.   :23.00  \n",
              "                    NA's   :9430                                  \n",
              "     minute       time_hour        \n",
              " Min.   : 0.00   Length:336776     \n",
              " 1st Qu.: 8.00   Class :character  \n",
              " Median :29.00   Mode  :character  \n",
              " Mean   :26.23                     \n",
              " 3rd Qu.:44.00                     \n",
              " Max.   :59.00                     \n",
              "                                   "
            ]
          },
          "metadata": {}
        }
      ]
    },
    {
      "cell_type": "code",
      "source": [
        "NA == 3"
      ],
      "metadata": {
        "id": "yaSXkJeGdkRO",
        "outputId": "a03efb23-361b-4ebe-abca-2b592bc306d1",
        "colab": {
          "base_uri": "https://localhost:8080/",
          "height": 34
        }
      },
      "execution_count": 8,
      "outputs": [
        {
          "output_type": "display_data",
          "data": {
            "text/html": [
              "&lt;NA&gt;"
            ],
            "text/markdown": "&lt;NA&gt;",
            "text/latex": "<NA>",
            "text/plain": [
              "[1] NA"
            ]
          },
          "metadata": {}
        }
      ]
    },
    {
      "cell_type": "code",
      "source": [
        "NA == NA"
      ],
      "metadata": {
        "id": "JZJETyGudm-E",
        "outputId": "19e44294-5f46-4a25-9da5-46d35a863b3b",
        "colab": {
          "base_uri": "https://localhost:8080/",
          "height": 34
        }
      },
      "execution_count": 9,
      "outputs": [
        {
          "output_type": "display_data",
          "data": {
            "text/html": [
              "&lt;NA&gt;"
            ],
            "text/markdown": "&lt;NA&gt;",
            "text/latex": "<NA>",
            "text/plain": [
              "[1] NA"
            ]
          },
          "metadata": {}
        }
      ]
    },
    {
      "cell_type": "code",
      "source": [
        "is.na(3)"
      ],
      "metadata": {
        "id": "y640LcH7dptM",
        "outputId": "0b30c483-f609-4fb5-f986-6bbd570fbd73",
        "colab": {
          "base_uri": "https://localhost:8080/",
          "height": 34
        }
      },
      "execution_count": 10,
      "outputs": [
        {
          "output_type": "display_data",
          "data": {
            "text/html": [
              "FALSE"
            ],
            "text/markdown": "FALSE",
            "text/latex": "FALSE",
            "text/plain": [
              "[1] FALSE"
            ]
          },
          "metadata": {}
        }
      ]
    },
    {
      "cell_type": "code",
      "source": [
        "is.na(NA)"
      ],
      "metadata": {
        "id": "rlEr6JtCdrcv",
        "outputId": "7641bafb-5f2c-4adc-a50a-1367eda14986",
        "colab": {
          "base_uri": "https://localhost:8080/",
          "height": 34
        }
      },
      "execution_count": 11,
      "outputs": [
        {
          "output_type": "display_data",
          "data": {
            "text/html": [
              "TRUE"
            ],
            "text/markdown": "TRUE",
            "text/latex": "TRUE",
            "text/plain": [
              "[1] TRUE"
            ]
          },
          "metadata": {}
        }
      ]
    },
    {
      "cell_type": "code",
      "metadata": {
        "trusted": true,
        "id": "CH9XRbK8RPzZ",
        "outputId": "228298a0-369a-4ad1-ddfc-f5fdab0ce686",
        "colab": {
          "base_uri": "https://localhost:8080/",
          "height": 34
        }
      },
      "source": [
        "# si quisiéramos ratar los NA's, podemos hacerlo de la sgte. manera\n",
        "\n",
        "#consultamos los NA en arr_delay\n",
        "\n",
        "# Recordar que NA == NA retorna NA . is.na(NA) retorna TRUE\n",
        "vuelos %>%\n",
        "  filter(is.na(arr_delay)) %>%\n",
        "  nrow()\n"
      ],
      "execution_count": 14,
      "outputs": [
        {
          "output_type": "display_data",
          "data": {
            "text/html": [
              "9430"
            ],
            "text/markdown": "9430",
            "text/latex": "9430",
            "text/plain": [
              "[1] 9430"
            ]
          },
          "metadata": {}
        }
      ]
    },
    {
      "cell_type": "code",
      "source": [
        "# Recordar\n",
        "mean(c(1,2,NA,4))\n",
        "mean(c(1,2,NA,4), na.rm = T)"
      ],
      "metadata": {
        "id": "yWizOLrDelui",
        "outputId": "092ad1a6-3dba-495f-dfc8-c412a917651a",
        "colab": {
          "base_uri": "https://localhost:8080/",
          "height": 52
        }
      },
      "execution_count": 17,
      "outputs": [
        {
          "output_type": "display_data",
          "data": {
            "text/html": [
              "&lt;NA&gt;"
            ],
            "text/markdown": "&lt;NA&gt;",
            "text/latex": "<NA>",
            "text/plain": [
              "[1] NA"
            ]
          },
          "metadata": {}
        },
        {
          "output_type": "display_data",
          "data": {
            "text/html": [
              "2.33333333333333"
            ],
            "text/markdown": "2.33333333333333",
            "text/latex": "2.33333333333333",
            "text/plain": [
              "[1] 2.333333"
            ]
          },
          "metadata": {}
        }
      ]
    },
    {
      "cell_type": "code",
      "metadata": {
        "trusted": true,
        "id": "H_X1J0OyRPzc"
      },
      "source": [
        "# Si queremos reemplazar los NA's por el promedio de arr_delay (?)\n",
        "vuelos_bkp <- vuelos %>%\n",
        "  mutate(arr_delay = ifelse(is.na(arr_delay), mean(arr_delay, , na.rm = T), arr_delay ))\n"
      ],
      "execution_count": 18,
      "outputs": []
    },
    {
      "cell_type": "code",
      "source": [
        "vuelos_bkp %>%\n",
        "  filter(is.na(arr_delay)) %>%\n",
        "  nrow()"
      ],
      "metadata": {
        "id": "bwmwVxOve7yd",
        "outputId": "793649fe-3c2e-4d17-e34b-0376222ba20f",
        "colab": {
          "base_uri": "https://localhost:8080/",
          "height": 34
        }
      },
      "execution_count": 19,
      "outputs": [
        {
          "output_type": "display_data",
          "data": {
            "text/html": [
              "0"
            ],
            "text/markdown": "0",
            "text/latex": "0",
            "text/plain": [
              "[1] 0"
            ]
          },
          "metadata": {}
        }
      ]
    },
    {
      "cell_type": "code",
      "source": [
        "summary(vuelos_bkp)"
      ],
      "metadata": {
        "id": "naQTu4Oce-2t",
        "outputId": "77fac631-37d8-4fd9-83f7-f9d387a31f26",
        "colab": {
          "base_uri": "https://localhost:8080/",
          "height": 711
        }
      },
      "execution_count": 20,
      "outputs": [
        {
          "output_type": "display_data",
          "data": {
            "text/plain": [
              "      year          month             day           dep_time    sched_dep_time\n",
              " Min.   :2013   Min.   : 1.000   Min.   : 1.00   Min.   :   1   Min.   : 106  \n",
              " 1st Qu.:2013   1st Qu.: 4.000   1st Qu.: 8.00   1st Qu.: 907   1st Qu.: 906  \n",
              " Median :2013   Median : 7.000   Median :16.00   Median :1401   Median :1359  \n",
              " Mean   :2013   Mean   : 6.549   Mean   :15.71   Mean   :1349   Mean   :1344  \n",
              " 3rd Qu.:2013   3rd Qu.:10.000   3rd Qu.:23.00   3rd Qu.:1744   3rd Qu.:1729  \n",
              " Max.   :2013   Max.   :12.000   Max.   :31.00   Max.   :2400   Max.   :2359  \n",
              "                                                 NA's   :8255                 \n",
              "   dep_delay          arr_time    sched_arr_time   arr_delay       \n",
              " Min.   : -43.00   Min.   :   1   Min.   :   1   Min.   : -86.000  \n",
              " 1st Qu.:  -5.00   1st Qu.:1104   1st Qu.:1124   1st Qu.: -16.000  \n",
              " Median :  -2.00   Median :1535   Median :1556   Median :  -4.000  \n",
              " Mean   :  12.64   Mean   :1502   Mean   :1536   Mean   :   6.895  \n",
              " 3rd Qu.:  11.00   3rd Qu.:1940   3rd Qu.:1945   3rd Qu.:  13.000  \n",
              " Max.   :1301.00   Max.   :2400   Max.   :2359   Max.   :1272.000  \n",
              " NA's   :8255      NA's   :8713                                    \n",
              "   carrier              flight       tailnum             origin         \n",
              " Length:336776      Min.   :   1   Length:336776      Length:336776     \n",
              " Class :character   1st Qu.: 553   Class :character   Class :character  \n",
              " Mode  :character   Median :1496   Mode  :character   Mode  :character  \n",
              "                    Mean   :1972                                        \n",
              "                    3rd Qu.:3465                                        \n",
              "                    Max.   :8500                                        \n",
              "                                                                        \n",
              "     dest              air_time        distance         hour      \n",
              " Length:336776      Min.   : 20.0   Min.   :  17   Min.   : 1.00  \n",
              " Class :character   1st Qu.: 82.0   1st Qu.: 502   1st Qu.: 9.00  \n",
              " Mode  :character   Median :129.0   Median : 872   Median :13.00  \n",
              "                    Mean   :150.7   Mean   :1040   Mean   :13.18  \n",
              "                    3rd Qu.:192.0   3rd Qu.:1389   3rd Qu.:17.00  \n",
              "                    Max.   :695.0   Max.   :4983   Max.   :23.00  \n",
              "                    NA's   :9430                                  \n",
              "     minute       time_hour        \n",
              " Min.   : 0.00   Length:336776     \n",
              " 1st Qu.: 8.00   Class :character  \n",
              " Median :29.00   Mode  :character  \n",
              " Mean   :26.23                     \n",
              " 3rd Qu.:44.00                     \n",
              " Max.   :59.00                     \n",
              "                                   "
            ]
          },
          "metadata": {}
        }
      ]
    },
    {
      "cell_type": "code",
      "metadata": {
        "trusted": true,
        "id": "KM0gkGfVRPze"
      },
      "source": [
        "# ¿Cuál es el promedio de arr_delay y distance por cada aeropuerto de destino?¿Cuántos vuelos llegaron acada uno de los destinos?. Ayuda: Recuerde que el conteo se puede determinar con la función n().\n",
        "\n",
        "\n",
        "\n"
      ],
      "execution_count": null,
      "outputs": []
    },
    {
      "cell_type": "markdown",
      "metadata": {
        "id": "0AaOeJiZRPzj"
      },
      "source": [
        "### 4.6 Función sample_n() y sample_frac()\n",
        "\n",
        "Estas funciones nos permitirán extraer muestras aleatorias de nuestros conjuntos de datos. Esto será de suma importancia cuando trabajemos con modelos de ML."
      ]
    },
    {
      "cell_type": "code",
      "metadata": {
        "trusted": true,
        "id": "Ggzl8QxDRPzk",
        "outputId": "2ca58545-5505-4bb4-f5b0-9304d484e898",
        "colab": {
          "base_uri": "https://localhost:8080/",
          "height": 411
        }
      },
      "source": [
        "# sample_n() y sample_frac()-------------------------------------------------------------\n",
        "\n",
        "# muestra aleatoria de 100 registros de vuelos\n",
        "vuelos %>%\n",
        "  sample_n(10)\n",
        "\n",
        "\n"
      ],
      "execution_count": 22,
      "outputs": [
        {
          "output_type": "display_data",
          "data": {
            "text/html": [
              "<table class=\"dataframe\">\n",
              "<caption>A data.frame: 10 × 19</caption>\n",
              "<thead>\n",
              "\t<tr><th scope=col>year</th><th scope=col>month</th><th scope=col>day</th><th scope=col>dep_time</th><th scope=col>sched_dep_time</th><th scope=col>dep_delay</th><th scope=col>arr_time</th><th scope=col>sched_arr_time</th><th scope=col>arr_delay</th><th scope=col>carrier</th><th scope=col>flight</th><th scope=col>tailnum</th><th scope=col>origin</th><th scope=col>dest</th><th scope=col>air_time</th><th scope=col>distance</th><th scope=col>hour</th><th scope=col>minute</th><th scope=col>time_hour</th></tr>\n",
              "\t<tr><th scope=col>&lt;int&gt;</th><th scope=col>&lt;int&gt;</th><th scope=col>&lt;int&gt;</th><th scope=col>&lt;int&gt;</th><th scope=col>&lt;int&gt;</th><th scope=col>&lt;int&gt;</th><th scope=col>&lt;int&gt;</th><th scope=col>&lt;int&gt;</th><th scope=col>&lt;int&gt;</th><th scope=col>&lt;chr&gt;</th><th scope=col>&lt;int&gt;</th><th scope=col>&lt;chr&gt;</th><th scope=col>&lt;chr&gt;</th><th scope=col>&lt;chr&gt;</th><th scope=col>&lt;int&gt;</th><th scope=col>&lt;int&gt;</th><th scope=col>&lt;int&gt;</th><th scope=col>&lt;int&gt;</th><th scope=col>&lt;chr&gt;</th></tr>\n",
              "</thead>\n",
              "<tbody>\n",
              "\t<tr><td>2013</td><td> 8</td><td>13</td><td>1034</td><td>1006</td><td>28</td><td>1341</td><td>1255</td><td> 46</td><td>UA</td><td>1735</td><td>N37281</td><td>EWR</td><td>LAX</td><td>340</td><td>2454</td><td>10</td><td> 6</td><td>2013-08-13 10:00:00</td></tr>\n",
              "\t<tr><td>2013</td><td> 9</td><td> 4</td><td> 910</td><td> 915</td><td>-5</td><td>1210</td><td>1230</td><td>-20</td><td>AA</td><td>1499</td><td>N5EYAA</td><td>JFK</td><td>MIA</td><td>142</td><td>1089</td><td> 9</td><td>15</td><td>2013-09-04 09:00:00</td></tr>\n",
              "\t<tr><td>2013</td><td>10</td><td> 6</td><td>1931</td><td>1932</td><td>-1</td><td>2130</td><td>2143</td><td>-13</td><td>EV</td><td>4361</td><td>N21537</td><td>EWR</td><td>TYS</td><td> 96</td><td> 631</td><td>19</td><td>32</td><td>2013-10-06 19:00:00</td></tr>\n",
              "\t<tr><td>2013</td><td>11</td><td>27</td><td>1721</td><td>1700</td><td>21</td><td>2056</td><td>2011</td><td> 45</td><td>B6</td><td>1601</td><td>N658JB</td><td>JFK</td><td>FLL</td><td>181</td><td>1069</td><td>17</td><td> 0</td><td>2013-11-27 17:00:00</td></tr>\n",
              "\t<tr><td>2013</td><td> 3</td><td>18</td><td>2033</td><td>1940</td><td>53</td><td>  20</td><td>2245</td><td> 95</td><td>B6</td><td> 381</td><td>N562JB</td><td>LGA</td><td>FLL</td><td>161</td><td>1076</td><td>19</td><td>40</td><td>2013-03-18 19:00:00</td></tr>\n",
              "\t<tr><td>2013</td><td>12</td><td> 6</td><td> 839</td><td> 841</td><td>-2</td><td>1017</td><td>1010</td><td>  7</td><td>EV</td><td>4409</td><td>N12569</td><td>EWR</td><td>RIC</td><td> 59</td><td> 277</td><td> 8</td><td>41</td><td>2013-12-06 08:00:00</td></tr>\n",
              "\t<tr><td>2013</td><td> 2</td><td>26</td><td>1314</td><td>1300</td><td>14</td><td>1419</td><td>1406</td><td> 13</td><td>9E</td><td>3638</td><td>N8718E</td><td>JFK</td><td>PHL</td><td> 31</td><td>  94</td><td>13</td><td> 0</td><td>2013-02-26 13:00:00</td></tr>\n",
              "\t<tr><td>2013</td><td>10</td><td>25</td><td>1056</td><td>1100</td><td>-4</td><td>1157</td><td>1218</td><td>-21</td><td>US</td><td>2177</td><td>N757UW</td><td>LGA</td><td>DCA</td><td> 43</td><td> 214</td><td>11</td><td> 0</td><td>2013-10-25 11:00:00</td></tr>\n",
              "\t<tr><td>2013</td><td> 9</td><td>16</td><td> 857</td><td> 900</td><td>-3</td><td>1206</td><td>1217</td><td>-11</td><td>DL</td><td>1765</td><td>N704X </td><td>JFK</td><td>SFO</td><td>341</td><td>2586</td><td> 9</td><td> 0</td><td>2013-09-16 09:00:00</td></tr>\n",
              "\t<tr><td>2013</td><td> 1</td><td>14</td><td>1910</td><td>1829</td><td>41</td><td>2250</td><td>2147</td><td> 63</td><td>UA</td><td>1165</td><td>N37287</td><td>EWR</td><td>LAX</td><td>355</td><td>2454</td><td>18</td><td>29</td><td>2013-01-14 18:00:00</td></tr>\n",
              "</tbody>\n",
              "</table>\n"
            ],
            "text/markdown": "\nA data.frame: 10 × 19\n\n| year &lt;int&gt; | month &lt;int&gt; | day &lt;int&gt; | dep_time &lt;int&gt; | sched_dep_time &lt;int&gt; | dep_delay &lt;int&gt; | arr_time &lt;int&gt; | sched_arr_time &lt;int&gt; | arr_delay &lt;int&gt; | carrier &lt;chr&gt; | flight &lt;int&gt; | tailnum &lt;chr&gt; | origin &lt;chr&gt; | dest &lt;chr&gt; | air_time &lt;int&gt; | distance &lt;int&gt; | hour &lt;int&gt; | minute &lt;int&gt; | time_hour &lt;chr&gt; |\n|---|---|---|---|---|---|---|---|---|---|---|---|---|---|---|---|---|---|---|\n| 2013 |  8 | 13 | 1034 | 1006 | 28 | 1341 | 1255 |  46 | UA | 1735 | N37281 | EWR | LAX | 340 | 2454 | 10 |  6 | 2013-08-13 10:00:00 |\n| 2013 |  9 |  4 |  910 |  915 | -5 | 1210 | 1230 | -20 | AA | 1499 | N5EYAA | JFK | MIA | 142 | 1089 |  9 | 15 | 2013-09-04 09:00:00 |\n| 2013 | 10 |  6 | 1931 | 1932 | -1 | 2130 | 2143 | -13 | EV | 4361 | N21537 | EWR | TYS |  96 |  631 | 19 | 32 | 2013-10-06 19:00:00 |\n| 2013 | 11 | 27 | 1721 | 1700 | 21 | 2056 | 2011 |  45 | B6 | 1601 | N658JB | JFK | FLL | 181 | 1069 | 17 |  0 | 2013-11-27 17:00:00 |\n| 2013 |  3 | 18 | 2033 | 1940 | 53 |   20 | 2245 |  95 | B6 |  381 | N562JB | LGA | FLL | 161 | 1076 | 19 | 40 | 2013-03-18 19:00:00 |\n| 2013 | 12 |  6 |  839 |  841 | -2 | 1017 | 1010 |   7 | EV | 4409 | N12569 | EWR | RIC |  59 |  277 |  8 | 41 | 2013-12-06 08:00:00 |\n| 2013 |  2 | 26 | 1314 | 1300 | 14 | 1419 | 1406 |  13 | 9E | 3638 | N8718E | JFK | PHL |  31 |   94 | 13 |  0 | 2013-02-26 13:00:00 |\n| 2013 | 10 | 25 | 1056 | 1100 | -4 | 1157 | 1218 | -21 | US | 2177 | N757UW | LGA | DCA |  43 |  214 | 11 |  0 | 2013-10-25 11:00:00 |\n| 2013 |  9 | 16 |  857 |  900 | -3 | 1206 | 1217 | -11 | DL | 1765 | N704X  | JFK | SFO | 341 | 2586 |  9 |  0 | 2013-09-16 09:00:00 |\n| 2013 |  1 | 14 | 1910 | 1829 | 41 | 2250 | 2147 |  63 | UA | 1165 | N37287 | EWR | LAX | 355 | 2454 | 18 | 29 | 2013-01-14 18:00:00 |\n\n",
            "text/latex": "A data.frame: 10 × 19\n\\begin{tabular}{lllllllllllllllllll}\n year & month & day & dep\\_time & sched\\_dep\\_time & dep\\_delay & arr\\_time & sched\\_arr\\_time & arr\\_delay & carrier & flight & tailnum & origin & dest & air\\_time & distance & hour & minute & time\\_hour\\\\\n <int> & <int> & <int> & <int> & <int> & <int> & <int> & <int> & <int> & <chr> & <int> & <chr> & <chr> & <chr> & <int> & <int> & <int> & <int> & <chr>\\\\\n\\hline\n\t 2013 &  8 & 13 & 1034 & 1006 & 28 & 1341 & 1255 &  46 & UA & 1735 & N37281 & EWR & LAX & 340 & 2454 & 10 &  6 & 2013-08-13 10:00:00\\\\\n\t 2013 &  9 &  4 &  910 &  915 & -5 & 1210 & 1230 & -20 & AA & 1499 & N5EYAA & JFK & MIA & 142 & 1089 &  9 & 15 & 2013-09-04 09:00:00\\\\\n\t 2013 & 10 &  6 & 1931 & 1932 & -1 & 2130 & 2143 & -13 & EV & 4361 & N21537 & EWR & TYS &  96 &  631 & 19 & 32 & 2013-10-06 19:00:00\\\\\n\t 2013 & 11 & 27 & 1721 & 1700 & 21 & 2056 & 2011 &  45 & B6 & 1601 & N658JB & JFK & FLL & 181 & 1069 & 17 &  0 & 2013-11-27 17:00:00\\\\\n\t 2013 &  3 & 18 & 2033 & 1940 & 53 &   20 & 2245 &  95 & B6 &  381 & N562JB & LGA & FLL & 161 & 1076 & 19 & 40 & 2013-03-18 19:00:00\\\\\n\t 2013 & 12 &  6 &  839 &  841 & -2 & 1017 & 1010 &   7 & EV & 4409 & N12569 & EWR & RIC &  59 &  277 &  8 & 41 & 2013-12-06 08:00:00\\\\\n\t 2013 &  2 & 26 & 1314 & 1300 & 14 & 1419 & 1406 &  13 & 9E & 3638 & N8718E & JFK & PHL &  31 &   94 & 13 &  0 & 2013-02-26 13:00:00\\\\\n\t 2013 & 10 & 25 & 1056 & 1100 & -4 & 1157 & 1218 & -21 & US & 2177 & N757UW & LGA & DCA &  43 &  214 & 11 &  0 & 2013-10-25 11:00:00\\\\\n\t 2013 &  9 & 16 &  857 &  900 & -3 & 1206 & 1217 & -11 & DL & 1765 & N704X  & JFK & SFO & 341 & 2586 &  9 &  0 & 2013-09-16 09:00:00\\\\\n\t 2013 &  1 & 14 & 1910 & 1829 & 41 & 2250 & 2147 &  63 & UA & 1165 & N37287 & EWR & LAX & 355 & 2454 & 18 & 29 & 2013-01-14 18:00:00\\\\\n\\end{tabular}\n",
            "text/plain": [
              "   year month day dep_time sched_dep_time dep_delay arr_time sched_arr_time\n",
              "1  2013  8    13  1034     1006           28        1341     1255          \n",
              "2  2013  9     4   910      915           -5        1210     1230          \n",
              "3  2013 10     6  1931     1932           -1        2130     2143          \n",
              "4  2013 11    27  1721     1700           21        2056     2011          \n",
              "5  2013  3    18  2033     1940           53          20     2245          \n",
              "6  2013 12     6   839      841           -2        1017     1010          \n",
              "7  2013  2    26  1314     1300           14        1419     1406          \n",
              "8  2013 10    25  1056     1100           -4        1157     1218          \n",
              "9  2013  9    16   857      900           -3        1206     1217          \n",
              "10 2013  1    14  1910     1829           41        2250     2147          \n",
              "   arr_delay carrier flight tailnum origin dest air_time distance hour minute\n",
              "1   46       UA      1735   N37281  EWR    LAX  340      2454     10    6    \n",
              "2  -20       AA      1499   N5EYAA  JFK    MIA  142      1089      9   15    \n",
              "3  -13       EV      4361   N21537  EWR    TYS   96       631     19   32    \n",
              "4   45       B6      1601   N658JB  JFK    FLL  181      1069     17    0    \n",
              "5   95       B6       381   N562JB  LGA    FLL  161      1076     19   40    \n",
              "6    7       EV      4409   N12569  EWR    RIC   59       277      8   41    \n",
              "7   13       9E      3638   N8718E  JFK    PHL   31        94     13    0    \n",
              "8  -21       US      2177   N757UW  LGA    DCA   43       214     11    0    \n",
              "9  -11       DL      1765   N704X   JFK    SFO  341      2586      9    0    \n",
              "10  63       UA      1165   N37287  EWR    LAX  355      2454     18   29    \n",
              "   time_hour          \n",
              "1  2013-08-13 10:00:00\n",
              "2  2013-09-04 09:00:00\n",
              "3  2013-10-06 19:00:00\n",
              "4  2013-11-27 17:00:00\n",
              "5  2013-03-18 19:00:00\n",
              "6  2013-12-06 08:00:00\n",
              "7  2013-02-26 13:00:00\n",
              "8  2013-10-25 11:00:00\n",
              "9  2013-09-16 09:00:00\n",
              "10 2013-01-14 18:00:00"
            ]
          },
          "metadata": {}
        }
      ]
    },
    {
      "cell_type": "code",
      "source": [
        "vuelos %>%\n",
        "  sample_frac(0.01)"
      ],
      "metadata": {
        "id": "nKogKeNpft5V",
        "outputId": "1383e9ff-c93d-4d61-ebcd-29d933f96183",
        "colab": {
          "base_uri": "https://localhost:8080/",
          "height": 1000
        }
      },
      "execution_count": 23,
      "outputs": [
        {
          "output_type": "display_data",
          "data": {
            "text/html": [
              "<table class=\"dataframe\">\n",
              "<caption>A data.frame: 3368 × 19</caption>\n",
              "<thead>\n",
              "\t<tr><th scope=col>year</th><th scope=col>month</th><th scope=col>day</th><th scope=col>dep_time</th><th scope=col>sched_dep_time</th><th scope=col>dep_delay</th><th scope=col>arr_time</th><th scope=col>sched_arr_time</th><th scope=col>arr_delay</th><th scope=col>carrier</th><th scope=col>flight</th><th scope=col>tailnum</th><th scope=col>origin</th><th scope=col>dest</th><th scope=col>air_time</th><th scope=col>distance</th><th scope=col>hour</th><th scope=col>minute</th><th scope=col>time_hour</th></tr>\n",
              "\t<tr><th scope=col>&lt;int&gt;</th><th scope=col>&lt;int&gt;</th><th scope=col>&lt;int&gt;</th><th scope=col>&lt;int&gt;</th><th scope=col>&lt;int&gt;</th><th scope=col>&lt;int&gt;</th><th scope=col>&lt;int&gt;</th><th scope=col>&lt;int&gt;</th><th scope=col>&lt;int&gt;</th><th scope=col>&lt;chr&gt;</th><th scope=col>&lt;int&gt;</th><th scope=col>&lt;chr&gt;</th><th scope=col>&lt;chr&gt;</th><th scope=col>&lt;chr&gt;</th><th scope=col>&lt;int&gt;</th><th scope=col>&lt;int&gt;</th><th scope=col>&lt;int&gt;</th><th scope=col>&lt;int&gt;</th><th scope=col>&lt;chr&gt;</th></tr>\n",
              "</thead>\n",
              "<tbody>\n",
              "\t<tr><td>2013</td><td>12</td><td> 1</td><td> 625</td><td> 630</td><td>-5</td><td> 855</td><td> 854</td><td>  1</td><td>DL</td><td> 575</td><td>N979AT</td><td>EWR</td><td>ATL</td><td>120</td><td> 746</td><td> 6</td><td>30</td><td>2013-12-01 06:00:00</td></tr>\n",
              "\t<tr><td>2013</td><td> 2</td><td>27</td><td>1817</td><td>1725</td><td>52</td><td>1927</td><td>1827</td><td> 60</td><td>EV</td><td>4316</td><td>N14558</td><td>EWR</td><td>BWI</td><td> 40</td><td> 169</td><td>17</td><td>25</td><td>2013-02-27 17:00:00</td></tr>\n",
              "\t<tr><td>2013</td><td> 3</td><td>13</td><td>1738</td><td>1745</td><td>-7</td><td>2017</td><td>2055</td><td>-38</td><td>AA</td><td> 785</td><td>N3DEAA</td><td>LGA</td><td>DFW</td><td>187</td><td>1389</td><td>17</td><td>45</td><td>2013-03-13 17:00:00</td></tr>\n",
              "\t<tr><td>2013</td><td> 4</td><td> 8</td><td>1652</td><td>1700</td><td>-8</td><td>2018</td><td>2050</td><td>-32</td><td>DL</td><td>  31</td><td>N721TW</td><td>JFK</td><td>SFO</td><td>362</td><td>2586</td><td>17</td><td> 0</td><td>2013-04-08 17:00:00</td></tr>\n",
              "\t<tr><td>2013</td><td> 7</td><td>20</td><td>1348</td><td>1259</td><td>49</td><td>1829</td><td>1533</td><td> NA</td><td>DL</td><td> 781</td><td>N932DL</td><td>LGA</td><td>ATL</td><td> NA</td><td> 762</td><td>12</td><td>59</td><td>2013-07-20 12:00:00</td></tr>\n",
              "\t<tr><td>2013</td><td> 3</td><td>10</td><td> 608</td><td> 610</td><td>-2</td><td> 924</td><td> 936</td><td>-12</td><td>UA</td><td> 600</td><td>N554UA</td><td>JFK</td><td>SFO</td><td>333</td><td>2586</td><td> 6</td><td>10</td><td>2013-03-10 06:00:00</td></tr>\n",
              "\t<tr><td>2013</td><td> 8</td><td>11</td><td>2117</td><td>2116</td><td> 1</td><td>2231</td><td>2245</td><td>-14</td><td>UA</td><td>1163</td><td>N76526</td><td>EWR</td><td>BOS</td><td> 42</td><td> 200</td><td>21</td><td>16</td><td>2013-08-11 21:00:00</td></tr>\n",
              "\t<tr><td>2013</td><td> 4</td><td>24</td><td>1155</td><td>1200</td><td>-5</td><td>1339</td><td>1343</td><td> -4</td><td>EV</td><td>5679</td><td>N13964</td><td>EWR</td><td>CMH</td><td> 79</td><td> 463</td><td>12</td><td> 0</td><td>2013-04-24 12:00:00</td></tr>\n",
              "\t<tr><td>2013</td><td>10</td><td>31</td><td> 856</td><td> 900</td><td>-4</td><td>1208</td><td>1206</td><td>  2</td><td>UA</td><td>1581</td><td>N34460</td><td>EWR</td><td>SEA</td><td>330</td><td>2402</td><td> 9</td><td> 0</td><td>2013-10-31 09:00:00</td></tr>\n",
              "\t<tr><td>2013</td><td> 3</td><td>10</td><td>1654</td><td>1700</td><td>-6</td><td>1901</td><td>1924</td><td>-23</td><td>DL</td><td>2042</td><td>N306DQ</td><td>EWR</td><td>ATL</td><td>108</td><td> 746</td><td>17</td><td> 0</td><td>2013-03-10 17:00:00</td></tr>\n",
              "\t<tr><td>2013</td><td> 5</td><td>28</td><td> 912</td><td> 915</td><td>-3</td><td>1220</td><td>1234</td><td>-14</td><td>DL</td><td>2379</td><td>N331NW</td><td>LGA</td><td>FLL</td><td>153</td><td>1076</td><td> 9</td><td>15</td><td>2013-05-28 09:00:00</td></tr>\n",
              "\t<tr><td>2013</td><td>10</td><td> 1</td><td>1154</td><td>1143</td><td>11</td><td>1418</td><td>1433</td><td>-15</td><td>UA</td><td>1618</td><td>N38727</td><td>EWR</td><td>TPA</td><td>129</td><td> 997</td><td>11</td><td>43</td><td>2013-10-01 11:00:00</td></tr>\n",
              "\t<tr><td>2013</td><td>12</td><td>24</td><td> 858</td><td> 856</td><td> 2</td><td>1234</td><td>1207</td><td> 27</td><td>UA</td><td>1170</td><td>N34455</td><td>EWR</td><td>FLL</td><td>180</td><td>1065</td><td> 8</td><td>56</td><td>2013-12-24 08:00:00</td></tr>\n",
              "\t<tr><td>2013</td><td> 6</td><td>12</td><td>1911</td><td>1920</td><td>-9</td><td>2145</td><td>2156</td><td>-11</td><td>UA</td><td> 407</td><td>N820UA</td><td>EWR</td><td>LAS</td><td>300</td><td>2227</td><td>19</td><td>20</td><td>2013-06-12 19:00:00</td></tr>\n",
              "\t<tr><td>2013</td><td> 9</td><td> 4</td><td>1559</td><td>1605</td><td>-6</td><td>1715</td><td>1755</td><td>-40</td><td>AA</td><td> 343</td><td>N581AA</td><td>LGA</td><td>ORD</td><td>105</td><td> 733</td><td>16</td><td> 5</td><td>2013-09-04 16:00:00</td></tr>\n",
              "\t<tr><td>2013</td><td> 5</td><td>20</td><td> 830</td><td> 830</td><td> 0</td><td> 944</td><td>1015</td><td>-31</td><td>9E</td><td>3521</td><td>N912XJ</td><td>JFK</td><td>ORD</td><td>108</td><td> 740</td><td> 8</td><td>30</td><td>2013-05-20 08:00:00</td></tr>\n",
              "\t<tr><td>2013</td><td>12</td><td>27</td><td>1318</td><td>1315</td><td> 3</td><td>1604</td><td>1657</td><td>-53</td><td>US</td><td> 456</td><td>N673AW</td><td>JFK</td><td>PHX</td><td>259</td><td>2153</td><td>13</td><td>15</td><td>2013-12-27 13:00:00</td></tr>\n",
              "\t<tr><td>2013</td><td> 8</td><td> 4</td><td> 852</td><td> 859</td><td>-7</td><td>1101</td><td>1137</td><td>-36</td><td>DL</td><td>1747</td><td>N975DL</td><td>LGA</td><td>ATL</td><td>108</td><td> 762</td><td> 8</td><td>59</td><td>2013-08-04 08:00:00</td></tr>\n",
              "\t<tr><td>2013</td><td> 8</td><td> 3</td><td>1929</td><td>1930</td><td>-1</td><td>2300</td><td>2248</td><td> 12</td><td>B6</td><td>  71</td><td>N637JB</td><td>JFK</td><td>SLC</td><td>296</td><td>1990</td><td>19</td><td>30</td><td>2013-08-03 19:00:00</td></tr>\n",
              "\t<tr><td>2013</td><td> 6</td><td> 6</td><td>1109</td><td>1111</td><td>-2</td><td>1341</td><td>1349</td><td> -8</td><td>UA</td><td>1166</td><td>N56859</td><td>EWR</td><td>IAH</td><td>193</td><td>1400</td><td>11</td><td>11</td><td>2013-06-06 11:00:00</td></tr>\n",
              "\t<tr><td>2013</td><td> 6</td><td>23</td><td> 739</td><td> 744</td><td>-5</td><td> 907</td><td> 919</td><td>-12</td><td>EV</td><td>4421</td><td>N12563</td><td>EWR</td><td>GSO</td><td> 66</td><td> 445</td><td> 7</td><td>44</td><td>2013-06-23 07:00:00</td></tr>\n",
              "\t<tr><td>2013</td><td> 7</td><td>16</td><td>1158</td><td>1200</td><td>-2</td><td>1419</td><td>1501</td><td>-42</td><td>UA</td><td>1124</td><td>N24706</td><td>EWR</td><td>SNA</td><td>299</td><td>2434</td><td>12</td><td> 0</td><td>2013-07-16 12:00:00</td></tr>\n",
              "\t<tr><td>2013</td><td> 2</td><td>25</td><td>1810</td><td>1815</td><td>-5</td><td>2016</td><td>2042</td><td>-26</td><td>9E</td><td>3542</td><td>N934XJ</td><td>JFK</td><td>MSP</td><td>154</td><td>1029</td><td>18</td><td>15</td><td>2013-02-25 18:00:00</td></tr>\n",
              "\t<tr><td>2013</td><td> 5</td><td> 3</td><td> 635</td><td> 635</td><td> 0</td><td> 921</td><td> 951</td><td>-30</td><td>UA</td><td>1299</td><td>N78448</td><td>EWR</td><td>RSW</td><td>151</td><td>1068</td><td> 6</td><td>35</td><td>2013-05-03 06:00:00</td></tr>\n",
              "\t<tr><td>2013</td><td> 4</td><td> 5</td><td> 952</td><td> 955</td><td>-3</td><td>1326</td><td>1310</td><td> 16</td><td>AA</td><td>1871</td><td>N3FXAA</td><td>LGA</td><td>MIA</td><td>182</td><td>1096</td><td> 9</td><td>55</td><td>2013-04-05 09:00:00</td></tr>\n",
              "\t<tr><td>2013</td><td> 8</td><td>29</td><td>2109</td><td>2001</td><td>68</td><td>2339</td><td>2254</td><td> 45</td><td>B6</td><td>1083</td><td>N606JB</td><td>JFK</td><td>MCO</td><td>122</td><td> 944</td><td>20</td><td> 1</td><td>2013-08-29 20:00:00</td></tr>\n",
              "\t<tr><td>2013</td><td>10</td><td> 4</td><td>1030</td><td>1030</td><td> 0</td><td>1253</td><td>1314</td><td>-21</td><td>B6</td><td> 483</td><td>N705JB</td><td>JFK</td><td>MCO</td><td>125</td><td> 944</td><td>10</td><td>30</td><td>2013-10-04 10:00:00</td></tr>\n",
              "\t<tr><td>2013</td><td> 4</td><td> 2</td><td> 912</td><td> 915</td><td>-3</td><td>1258</td><td>1316</td><td>-18</td><td>DL</td><td> 301</td><td>N3751B</td><td>JFK</td><td>SJU</td><td>200</td><td>1598</td><td> 9</td><td>15</td><td>2013-04-02 09:00:00</td></tr>\n",
              "\t<tr><td>2013</td><td>11</td><td> 6</td><td>1239</td><td>1247</td><td>-8</td><td>1333</td><td>1351</td><td>-18</td><td>B6</td><td>1318</td><td>N274JB</td><td>JFK</td><td>BOS</td><td> 37</td><td> 187</td><td>12</td><td>47</td><td>2013-11-06 12:00:00</td></tr>\n",
              "\t<tr><td>2013</td><td> 5</td><td>28</td><td>1228</td><td>1228</td><td> 0</td><td>1341</td><td>1347</td><td> -6</td><td>B6</td><td>  66</td><td>N317JB</td><td>JFK</td><td>BUF</td><td> 58</td><td> 301</td><td>12</td><td>28</td><td>2013-05-28 12:00:00</td></tr>\n",
              "\t<tr><td>⋮</td><td>⋮</td><td>⋮</td><td>⋮</td><td>⋮</td><td>⋮</td><td>⋮</td><td>⋮</td><td>⋮</td><td>⋮</td><td>⋮</td><td>⋮</td><td>⋮</td><td>⋮</td><td>⋮</td><td>⋮</td><td>⋮</td><td>⋮</td><td>⋮</td></tr>\n",
              "\t<tr><td>2013</td><td> 7</td><td>11</td><td>1257</td><td>1250</td><td>  7</td><td>1548</td><td>1547</td><td>  1</td><td>DL</td><td>1375</td><td>N3733Z</td><td>JFK</td><td>SLC</td><td>260</td><td>1990</td><td>12</td><td>50</td><td>2013-07-11 12:00:00</td></tr>\n",
              "\t<tr><td>2013</td><td>11</td><td>14</td><td>2045</td><td>2035</td><td> 10</td><td>2154</td><td>2210</td><td>-16</td><td>WN</td><td> 168</td><td>N438WN</td><td>LGA</td><td>MDW</td><td>114</td><td> 725</td><td>20</td><td>35</td><td>2013-11-14 20:00:00</td></tr>\n",
              "\t<tr><td>2013</td><td> 6</td><td>24</td><td>1936</td><td>1940</td><td> -4</td><td>2302</td><td>2255</td><td>  7</td><td>B6</td><td> 161</td><td>N625JB</td><td>JFK</td><td>SMF</td><td>337</td><td>2521</td><td>19</td><td>40</td><td>2013-06-24 19:00:00</td></tr>\n",
              "\t<tr><td>2013</td><td>10</td><td>31</td><td>1947</td><td>1859</td><td> 48</td><td>2154</td><td>2118</td><td> 36</td><td>9E</td><td>3854</td><td>N8409N</td><td>LGA</td><td>GSP</td><td> 99</td><td> 610</td><td>18</td><td>59</td><td>2013-10-31 18:00:00</td></tr>\n",
              "\t<tr><td>2013</td><td> 4</td><td> 6</td><td> 654</td><td> 700</td><td> -6</td><td> 954</td><td>1025</td><td>-31</td><td>DL</td><td>1415</td><td>N669DN</td><td>JFK</td><td>SLC</td><td>283</td><td>1990</td><td> 7</td><td> 0</td><td>2013-04-06 07:00:00</td></tr>\n",
              "\t<tr><td>2013</td><td>12</td><td>19</td><td> 720</td><td> 720</td><td>  0</td><td> 844</td><td> 855</td><td>-11</td><td>WN</td><td>1975</td><td>N206WN</td><td>EWR</td><td>BNA</td><td>116</td><td> 748</td><td> 7</td><td>20</td><td>2013-12-19 07:00:00</td></tr>\n",
              "\t<tr><td>2013</td><td> 2</td><td>20</td><td>1412</td><td>1356</td><td> 16</td><td>1508</td><td>1506</td><td>  2</td><td>EV</td><td>4434</td><td>N11544</td><td>EWR</td><td>MHT</td><td> 40</td><td> 209</td><td>13</td><td>56</td><td>2013-02-20 13:00:00</td></tr>\n",
              "\t<tr><td>2013</td><td>11</td><td>26</td><td>1625</td><td>1540</td><td> 45</td><td>1816</td><td>1725</td><td> 51</td><td>9E</td><td>2900</td><td>N927XJ</td><td>JFK</td><td>BNA</td><td>128</td><td> 765</td><td>15</td><td>40</td><td>2013-11-26 15:00:00</td></tr>\n",
              "\t<tr><td>2013</td><td>12</td><td>29</td><td>1228</td><td>1220</td><td>  8</td><td>1405</td><td>1400</td><td>  5</td><td>MQ</td><td>3361</td><td>N833MQ</td><td>JFK</td><td>RDU</td><td> 78</td><td> 427</td><td>12</td><td>20</td><td>2013-12-29 12:00:00</td></tr>\n",
              "\t<tr><td>2013</td><td>11</td><td>27</td><td>1052</td><td>1100</td><td> -8</td><td>1447</td><td>1411</td><td> 36</td><td>DL</td><td>2506</td><td>N332NB</td><td>LGA</td><td>FLL</td><td>212</td><td>1076</td><td>11</td><td> 0</td><td>2013-11-27 11:00:00</td></tr>\n",
              "\t<tr><td>2013</td><td> 1</td><td>24</td><td> 655</td><td> 705</td><td>-10</td><td> 927</td><td> 940</td><td>-13</td><td>MQ</td><td>4534</td><td>N723MQ</td><td>LGA</td><td>XNA</td><td>189</td><td>1147</td><td> 7</td><td> 5</td><td>2013-01-24 07:00:00</td></tr>\n",
              "\t<tr><td>2013</td><td>11</td><td>27</td><td> 851</td><td> 830</td><td> 21</td><td>1024</td><td> 944</td><td> 40</td><td>9E</td><td>2901</td><td>N924XJ</td><td>JFK</td><td>BOS</td><td> 41</td><td> 187</td><td> 8</td><td>30</td><td>2013-11-27 08:00:00</td></tr>\n",
              "\t<tr><td>2013</td><td> 1</td><td>25</td><td>1658</td><td>1700</td><td> -2</td><td>2048</td><td>2036</td><td> 12</td><td>DL</td><td> 127</td><td>N705TW</td><td>JFK</td><td>LAX</td><td>358</td><td>2475</td><td>17</td><td> 0</td><td>2013-01-25 17:00:00</td></tr>\n",
              "\t<tr><td>2013</td><td> 9</td><td>16</td><td>1520</td><td>1520</td><td>  0</td><td>1849</td><td>1838</td><td> 11</td><td>DL</td><td>1982</td><td>N324NB</td><td>LGA</td><td>MIA</td><td>160</td><td>1096</td><td>15</td><td>20</td><td>2013-09-16 15:00:00</td></tr>\n",
              "\t<tr><td>2013</td><td> 1</td><td> 7</td><td>1923</td><td>1925</td><td> -2</td><td>2155</td><td>2243</td><td>-48</td><td>DL</td><td>1729</td><td>N900PC</td><td>JFK</td><td>LAS</td><td>309</td><td>2248</td><td>19</td><td>25</td><td>2013-01-07 19:00:00</td></tr>\n",
              "\t<tr><td>2013</td><td>12</td><td>16</td><td> 849</td><td> 851</td><td> -2</td><td> 944</td><td> 954</td><td>-10</td><td>EV</td><td>4276</td><td>N13132</td><td>EWR</td><td>BDL</td><td> 26</td><td> 116</td><td> 8</td><td>51</td><td>2013-12-16 08:00:00</td></tr>\n",
              "\t<tr><td>2013</td><td>10</td><td> 3</td><td> 702</td><td> 710</td><td> -8</td><td> 945</td><td>1000</td><td>-15</td><td>AA</td><td>2493</td><td>N5BTAA</td><td>JFK</td><td>MCO</td><td>135</td><td> 944</td><td> 7</td><td>10</td><td>2013-10-03 07:00:00</td></tr>\n",
              "\t<tr><td>2013</td><td> 7</td><td>15</td><td> 621</td><td> 601</td><td> 20</td><td> 859</td><td> 915</td><td>-16</td><td>UA</td><td> 303</td><td>N554UA</td><td>JFK</td><td>SFO</td><td>319</td><td>2586</td><td> 6</td><td> 1</td><td>2013-07-15 06:00:00</td></tr>\n",
              "\t<tr><td>2013</td><td> 4</td><td>11</td><td>1644</td><td>1557</td><td> 47</td><td>1831</td><td>1754</td><td> 37</td><td>9E</td><td>3523</td><td>N909XJ</td><td>JFK</td><td>ORD</td><td>120</td><td> 740</td><td>15</td><td>57</td><td>2013-04-11 15:00:00</td></tr>\n",
              "\t<tr><td>2013</td><td> 4</td><td>23</td><td>2243</td><td>2145</td><td> 58</td><td> 206</td><td> 105</td><td> 61</td><td>AA</td><td> 185</td><td>N319AA</td><td>JFK</td><td>LAX</td><td>347</td><td>2475</td><td>21</td><td>45</td><td>2013-04-23 21:00:00</td></tr>\n",
              "\t<tr><td>2013</td><td> 8</td><td>31</td><td> 735</td><td> 730</td><td>  5</td><td>1114</td><td>1129</td><td>-15</td><td>B6</td><td>1289</td><td>N520JB</td><td>EWR</td><td>SJU</td><td>198</td><td>1608</td><td> 7</td><td>30</td><td>2013-08-31 07:00:00</td></tr>\n",
              "\t<tr><td>2013</td><td>11</td><td> 6</td><td>1428</td><td>1428</td><td>  0</td><td>1541</td><td>1545</td><td> -4</td><td>EV</td><td>5712</td><td>N833AS</td><td>JFK</td><td>IAD</td><td> 49</td><td> 228</td><td>14</td><td>28</td><td>2013-11-06 14:00:00</td></tr>\n",
              "\t<tr><td>2013</td><td> 8</td><td>14</td><td>1401</td><td>1355</td><td>  6</td><td>1652</td><td>1628</td><td> 24</td><td>UA</td><td>1219</td><td>N27722</td><td>EWR</td><td>DFW</td><td>213</td><td>1372</td><td>13</td><td>55</td><td>2013-08-14 13:00:00</td></tr>\n",
              "\t<tr><td>2013</td><td> 9</td><td> 5</td><td> 818</td><td> 825</td><td> -7</td><td> 922</td><td> 935</td><td>-13</td><td>AA</td><td>  84</td><td>N3CNAA</td><td>JFK</td><td>BOS</td><td> 39</td><td> 187</td><td> 8</td><td>25</td><td>2013-09-05 08:00:00</td></tr>\n",
              "\t<tr><td>2013</td><td> 7</td><td>25</td><td> 538</td><td> 545</td><td> -7</td><td> 810</td><td> 813</td><td> -3</td><td>UA</td><td> 698</td><td>N536UA</td><td>LGA</td><td>IAH</td><td>179</td><td>1416</td><td> 5</td><td>45</td><td>2013-07-25 05:00:00</td></tr>\n",
              "\t<tr><td>2013</td><td> 4</td><td>19</td><td>1554</td><td>1540</td><td> 14</td><td>1834</td><td>1827</td><td>  7</td><td>UA</td><td>1148</td><td>N12221</td><td>EWR</td><td>TPA</td><td>143</td><td> 997</td><td>15</td><td>40</td><td>2013-04-19 15:00:00</td></tr>\n",
              "\t<tr><td>2013</td><td> 4</td><td>24</td><td>1457</td><td>1450</td><td>  7</td><td>1606</td><td>1606</td><td>  0</td><td>UA</td><td> 471</td><td>N854UA</td><td>EWR</td><td>BOS</td><td> 49</td><td> 200</td><td>14</td><td>50</td><td>2013-04-24 14:00:00</td></tr>\n",
              "\t<tr><td>2013</td><td> 3</td><td>21</td><td>1945</td><td>1935</td><td> 10</td><td>2248</td><td>2242</td><td>  6</td><td>DL</td><td>2370</td><td>N338NW</td><td>LGA</td><td>PBI</td><td>142</td><td>1035</td><td>19</td><td>35</td><td>2013-03-21 19:00:00</td></tr>\n",
              "\t<tr><td>2013</td><td> 7</td><td>21</td><td>1211</td><td>1209</td><td>  2</td><td>1309</td><td>1316</td><td> -7</td><td>B6</td><td>1191</td><td>N193JB</td><td>JFK</td><td>ACK</td><td> 35</td><td> 199</td><td>12</td><td> 9</td><td>2013-07-21 12:00:00</td></tr>\n",
              "\t<tr><td>2013</td><td> 6</td><td>14</td><td>2143</td><td>2030</td><td> 73</td><td>2251</td><td>2211</td><td> 40</td><td>EV</td><td>5048</td><td>N615QX</td><td>LGA</td><td>RIC</td><td> 46</td><td> 292</td><td>20</td><td>30</td><td>2013-06-14 20:00:00</td></tr>\n",
              "</tbody>\n",
              "</table>\n"
            ],
            "text/markdown": "\nA data.frame: 3368 × 19\n\n| year &lt;int&gt; | month &lt;int&gt; | day &lt;int&gt; | dep_time &lt;int&gt; | sched_dep_time &lt;int&gt; | dep_delay &lt;int&gt; | arr_time &lt;int&gt; | sched_arr_time &lt;int&gt; | arr_delay &lt;int&gt; | carrier &lt;chr&gt; | flight &lt;int&gt; | tailnum &lt;chr&gt; | origin &lt;chr&gt; | dest &lt;chr&gt; | air_time &lt;int&gt; | distance &lt;int&gt; | hour &lt;int&gt; | minute &lt;int&gt; | time_hour &lt;chr&gt; |\n|---|---|---|---|---|---|---|---|---|---|---|---|---|---|---|---|---|---|---|\n| 2013 | 12 |  1 |  625 |  630 | -5 |  855 |  854 |   1 | DL |  575 | N979AT | EWR | ATL | 120 |  746 |  6 | 30 | 2013-12-01 06:00:00 |\n| 2013 |  2 | 27 | 1817 | 1725 | 52 | 1927 | 1827 |  60 | EV | 4316 | N14558 | EWR | BWI |  40 |  169 | 17 | 25 | 2013-02-27 17:00:00 |\n| 2013 |  3 | 13 | 1738 | 1745 | -7 | 2017 | 2055 | -38 | AA |  785 | N3DEAA | LGA | DFW | 187 | 1389 | 17 | 45 | 2013-03-13 17:00:00 |\n| 2013 |  4 |  8 | 1652 | 1700 | -8 | 2018 | 2050 | -32 | DL |   31 | N721TW | JFK | SFO | 362 | 2586 | 17 |  0 | 2013-04-08 17:00:00 |\n| 2013 |  7 | 20 | 1348 | 1259 | 49 | 1829 | 1533 |  NA | DL |  781 | N932DL | LGA | ATL |  NA |  762 | 12 | 59 | 2013-07-20 12:00:00 |\n| 2013 |  3 | 10 |  608 |  610 | -2 |  924 |  936 | -12 | UA |  600 | N554UA | JFK | SFO | 333 | 2586 |  6 | 10 | 2013-03-10 06:00:00 |\n| 2013 |  8 | 11 | 2117 | 2116 |  1 | 2231 | 2245 | -14 | UA | 1163 | N76526 | EWR | BOS |  42 |  200 | 21 | 16 | 2013-08-11 21:00:00 |\n| 2013 |  4 | 24 | 1155 | 1200 | -5 | 1339 | 1343 |  -4 | EV | 5679 | N13964 | EWR | CMH |  79 |  463 | 12 |  0 | 2013-04-24 12:00:00 |\n| 2013 | 10 | 31 |  856 |  900 | -4 | 1208 | 1206 |   2 | UA | 1581 | N34460 | EWR | SEA | 330 | 2402 |  9 |  0 | 2013-10-31 09:00:00 |\n| 2013 |  3 | 10 | 1654 | 1700 | -6 | 1901 | 1924 | -23 | DL | 2042 | N306DQ | EWR | ATL | 108 |  746 | 17 |  0 | 2013-03-10 17:00:00 |\n| 2013 |  5 | 28 |  912 |  915 | -3 | 1220 | 1234 | -14 | DL | 2379 | N331NW | LGA | FLL | 153 | 1076 |  9 | 15 | 2013-05-28 09:00:00 |\n| 2013 | 10 |  1 | 1154 | 1143 | 11 | 1418 | 1433 | -15 | UA | 1618 | N38727 | EWR | TPA | 129 |  997 | 11 | 43 | 2013-10-01 11:00:00 |\n| 2013 | 12 | 24 |  858 |  856 |  2 | 1234 | 1207 |  27 | UA | 1170 | N34455 | EWR | FLL | 180 | 1065 |  8 | 56 | 2013-12-24 08:00:00 |\n| 2013 |  6 | 12 | 1911 | 1920 | -9 | 2145 | 2156 | -11 | UA |  407 | N820UA | EWR | LAS | 300 | 2227 | 19 | 20 | 2013-06-12 19:00:00 |\n| 2013 |  9 |  4 | 1559 | 1605 | -6 | 1715 | 1755 | -40 | AA |  343 | N581AA | LGA | ORD | 105 |  733 | 16 |  5 | 2013-09-04 16:00:00 |\n| 2013 |  5 | 20 |  830 |  830 |  0 |  944 | 1015 | -31 | 9E | 3521 | N912XJ | JFK | ORD | 108 |  740 |  8 | 30 | 2013-05-20 08:00:00 |\n| 2013 | 12 | 27 | 1318 | 1315 |  3 | 1604 | 1657 | -53 | US |  456 | N673AW | JFK | PHX | 259 | 2153 | 13 | 15 | 2013-12-27 13:00:00 |\n| 2013 |  8 |  4 |  852 |  859 | -7 | 1101 | 1137 | -36 | DL | 1747 | N975DL | LGA | ATL | 108 |  762 |  8 | 59 | 2013-08-04 08:00:00 |\n| 2013 |  8 |  3 | 1929 | 1930 | -1 | 2300 | 2248 |  12 | B6 |   71 | N637JB | JFK | SLC | 296 | 1990 | 19 | 30 | 2013-08-03 19:00:00 |\n| 2013 |  6 |  6 | 1109 | 1111 | -2 | 1341 | 1349 |  -8 | UA | 1166 | N56859 | EWR | IAH | 193 | 1400 | 11 | 11 | 2013-06-06 11:00:00 |\n| 2013 |  6 | 23 |  739 |  744 | -5 |  907 |  919 | -12 | EV | 4421 | N12563 | EWR | GSO |  66 |  445 |  7 | 44 | 2013-06-23 07:00:00 |\n| 2013 |  7 | 16 | 1158 | 1200 | -2 | 1419 | 1501 | -42 | UA | 1124 | N24706 | EWR | SNA | 299 | 2434 | 12 |  0 | 2013-07-16 12:00:00 |\n| 2013 |  2 | 25 | 1810 | 1815 | -5 | 2016 | 2042 | -26 | 9E | 3542 | N934XJ | JFK | MSP | 154 | 1029 | 18 | 15 | 2013-02-25 18:00:00 |\n| 2013 |  5 |  3 |  635 |  635 |  0 |  921 |  951 | -30 | UA | 1299 | N78448 | EWR | RSW | 151 | 1068 |  6 | 35 | 2013-05-03 06:00:00 |\n| 2013 |  4 |  5 |  952 |  955 | -3 | 1326 | 1310 |  16 | AA | 1871 | N3FXAA | LGA | MIA | 182 | 1096 |  9 | 55 | 2013-04-05 09:00:00 |\n| 2013 |  8 | 29 | 2109 | 2001 | 68 | 2339 | 2254 |  45 | B6 | 1083 | N606JB | JFK | MCO | 122 |  944 | 20 |  1 | 2013-08-29 20:00:00 |\n| 2013 | 10 |  4 | 1030 | 1030 |  0 | 1253 | 1314 | -21 | B6 |  483 | N705JB | JFK | MCO | 125 |  944 | 10 | 30 | 2013-10-04 10:00:00 |\n| 2013 |  4 |  2 |  912 |  915 | -3 | 1258 | 1316 | -18 | DL |  301 | N3751B | JFK | SJU | 200 | 1598 |  9 | 15 | 2013-04-02 09:00:00 |\n| 2013 | 11 |  6 | 1239 | 1247 | -8 | 1333 | 1351 | -18 | B6 | 1318 | N274JB | JFK | BOS |  37 |  187 | 12 | 47 | 2013-11-06 12:00:00 |\n| 2013 |  5 | 28 | 1228 | 1228 |  0 | 1341 | 1347 |  -6 | B6 |   66 | N317JB | JFK | BUF |  58 |  301 | 12 | 28 | 2013-05-28 12:00:00 |\n| ⋮ | ⋮ | ⋮ | ⋮ | ⋮ | ⋮ | ⋮ | ⋮ | ⋮ | ⋮ | ⋮ | ⋮ | ⋮ | ⋮ | ⋮ | ⋮ | ⋮ | ⋮ | ⋮ |\n| 2013 |  7 | 11 | 1257 | 1250 |   7 | 1548 | 1547 |   1 | DL | 1375 | N3733Z | JFK | SLC | 260 | 1990 | 12 | 50 | 2013-07-11 12:00:00 |\n| 2013 | 11 | 14 | 2045 | 2035 |  10 | 2154 | 2210 | -16 | WN |  168 | N438WN | LGA | MDW | 114 |  725 | 20 | 35 | 2013-11-14 20:00:00 |\n| 2013 |  6 | 24 | 1936 | 1940 |  -4 | 2302 | 2255 |   7 | B6 |  161 | N625JB | JFK | SMF | 337 | 2521 | 19 | 40 | 2013-06-24 19:00:00 |\n| 2013 | 10 | 31 | 1947 | 1859 |  48 | 2154 | 2118 |  36 | 9E | 3854 | N8409N | LGA | GSP |  99 |  610 | 18 | 59 | 2013-10-31 18:00:00 |\n| 2013 |  4 |  6 |  654 |  700 |  -6 |  954 | 1025 | -31 | DL | 1415 | N669DN | JFK | SLC | 283 | 1990 |  7 |  0 | 2013-04-06 07:00:00 |\n| 2013 | 12 | 19 |  720 |  720 |   0 |  844 |  855 | -11 | WN | 1975 | N206WN | EWR | BNA | 116 |  748 |  7 | 20 | 2013-12-19 07:00:00 |\n| 2013 |  2 | 20 | 1412 | 1356 |  16 | 1508 | 1506 |   2 | EV | 4434 | N11544 | EWR | MHT |  40 |  209 | 13 | 56 | 2013-02-20 13:00:00 |\n| 2013 | 11 | 26 | 1625 | 1540 |  45 | 1816 | 1725 |  51 | 9E | 2900 | N927XJ | JFK | BNA | 128 |  765 | 15 | 40 | 2013-11-26 15:00:00 |\n| 2013 | 12 | 29 | 1228 | 1220 |   8 | 1405 | 1400 |   5 | MQ | 3361 | N833MQ | JFK | RDU |  78 |  427 | 12 | 20 | 2013-12-29 12:00:00 |\n| 2013 | 11 | 27 | 1052 | 1100 |  -8 | 1447 | 1411 |  36 | DL | 2506 | N332NB | LGA | FLL | 212 | 1076 | 11 |  0 | 2013-11-27 11:00:00 |\n| 2013 |  1 | 24 |  655 |  705 | -10 |  927 |  940 | -13 | MQ | 4534 | N723MQ | LGA | XNA | 189 | 1147 |  7 |  5 | 2013-01-24 07:00:00 |\n| 2013 | 11 | 27 |  851 |  830 |  21 | 1024 |  944 |  40 | 9E | 2901 | N924XJ | JFK | BOS |  41 |  187 |  8 | 30 | 2013-11-27 08:00:00 |\n| 2013 |  1 | 25 | 1658 | 1700 |  -2 | 2048 | 2036 |  12 | DL |  127 | N705TW | JFK | LAX | 358 | 2475 | 17 |  0 | 2013-01-25 17:00:00 |\n| 2013 |  9 | 16 | 1520 | 1520 |   0 | 1849 | 1838 |  11 | DL | 1982 | N324NB | LGA | MIA | 160 | 1096 | 15 | 20 | 2013-09-16 15:00:00 |\n| 2013 |  1 |  7 | 1923 | 1925 |  -2 | 2155 | 2243 | -48 | DL | 1729 | N900PC | JFK | LAS | 309 | 2248 | 19 | 25 | 2013-01-07 19:00:00 |\n| 2013 | 12 | 16 |  849 |  851 |  -2 |  944 |  954 | -10 | EV | 4276 | N13132 | EWR | BDL |  26 |  116 |  8 | 51 | 2013-12-16 08:00:00 |\n| 2013 | 10 |  3 |  702 |  710 |  -8 |  945 | 1000 | -15 | AA | 2493 | N5BTAA | JFK | MCO | 135 |  944 |  7 | 10 | 2013-10-03 07:00:00 |\n| 2013 |  7 | 15 |  621 |  601 |  20 |  859 |  915 | -16 | UA |  303 | N554UA | JFK | SFO | 319 | 2586 |  6 |  1 | 2013-07-15 06:00:00 |\n| 2013 |  4 | 11 | 1644 | 1557 |  47 | 1831 | 1754 |  37 | 9E | 3523 | N909XJ | JFK | ORD | 120 |  740 | 15 | 57 | 2013-04-11 15:00:00 |\n| 2013 |  4 | 23 | 2243 | 2145 |  58 |  206 |  105 |  61 | AA |  185 | N319AA | JFK | LAX | 347 | 2475 | 21 | 45 | 2013-04-23 21:00:00 |\n| 2013 |  8 | 31 |  735 |  730 |   5 | 1114 | 1129 | -15 | B6 | 1289 | N520JB | EWR | SJU | 198 | 1608 |  7 | 30 | 2013-08-31 07:00:00 |\n| 2013 | 11 |  6 | 1428 | 1428 |   0 | 1541 | 1545 |  -4 | EV | 5712 | N833AS | JFK | IAD |  49 |  228 | 14 | 28 | 2013-11-06 14:00:00 |\n| 2013 |  8 | 14 | 1401 | 1355 |   6 | 1652 | 1628 |  24 | UA | 1219 | N27722 | EWR | DFW | 213 | 1372 | 13 | 55 | 2013-08-14 13:00:00 |\n| 2013 |  9 |  5 |  818 |  825 |  -7 |  922 |  935 | -13 | AA |   84 | N3CNAA | JFK | BOS |  39 |  187 |  8 | 25 | 2013-09-05 08:00:00 |\n| 2013 |  7 | 25 |  538 |  545 |  -7 |  810 |  813 |  -3 | UA |  698 | N536UA | LGA | IAH | 179 | 1416 |  5 | 45 | 2013-07-25 05:00:00 |\n| 2013 |  4 | 19 | 1554 | 1540 |  14 | 1834 | 1827 |   7 | UA | 1148 | N12221 | EWR | TPA | 143 |  997 | 15 | 40 | 2013-04-19 15:00:00 |\n| 2013 |  4 | 24 | 1457 | 1450 |   7 | 1606 | 1606 |   0 | UA |  471 | N854UA | EWR | BOS |  49 |  200 | 14 | 50 | 2013-04-24 14:00:00 |\n| 2013 |  3 | 21 | 1945 | 1935 |  10 | 2248 | 2242 |   6 | DL | 2370 | N338NW | LGA | PBI | 142 | 1035 | 19 | 35 | 2013-03-21 19:00:00 |\n| 2013 |  7 | 21 | 1211 | 1209 |   2 | 1309 | 1316 |  -7 | B6 | 1191 | N193JB | JFK | ACK |  35 |  199 | 12 |  9 | 2013-07-21 12:00:00 |\n| 2013 |  6 | 14 | 2143 | 2030 |  73 | 2251 | 2211 |  40 | EV | 5048 | N615QX | LGA | RIC |  46 |  292 | 20 | 30 | 2013-06-14 20:00:00 |\n\n",
            "text/latex": "A data.frame: 3368 × 19\n\\begin{tabular}{lllllllllllllllllll}\n year & month & day & dep\\_time & sched\\_dep\\_time & dep\\_delay & arr\\_time & sched\\_arr\\_time & arr\\_delay & carrier & flight & tailnum & origin & dest & air\\_time & distance & hour & minute & time\\_hour\\\\\n <int> & <int> & <int> & <int> & <int> & <int> & <int> & <int> & <int> & <chr> & <int> & <chr> & <chr> & <chr> & <int> & <int> & <int> & <int> & <chr>\\\\\n\\hline\n\t 2013 & 12 &  1 &  625 &  630 & -5 &  855 &  854 &   1 & DL &  575 & N979AT & EWR & ATL & 120 &  746 &  6 & 30 & 2013-12-01 06:00:00\\\\\n\t 2013 &  2 & 27 & 1817 & 1725 & 52 & 1927 & 1827 &  60 & EV & 4316 & N14558 & EWR & BWI &  40 &  169 & 17 & 25 & 2013-02-27 17:00:00\\\\\n\t 2013 &  3 & 13 & 1738 & 1745 & -7 & 2017 & 2055 & -38 & AA &  785 & N3DEAA & LGA & DFW & 187 & 1389 & 17 & 45 & 2013-03-13 17:00:00\\\\\n\t 2013 &  4 &  8 & 1652 & 1700 & -8 & 2018 & 2050 & -32 & DL &   31 & N721TW & JFK & SFO & 362 & 2586 & 17 &  0 & 2013-04-08 17:00:00\\\\\n\t 2013 &  7 & 20 & 1348 & 1259 & 49 & 1829 & 1533 &  NA & DL &  781 & N932DL & LGA & ATL &  NA &  762 & 12 & 59 & 2013-07-20 12:00:00\\\\\n\t 2013 &  3 & 10 &  608 &  610 & -2 &  924 &  936 & -12 & UA &  600 & N554UA & JFK & SFO & 333 & 2586 &  6 & 10 & 2013-03-10 06:00:00\\\\\n\t 2013 &  8 & 11 & 2117 & 2116 &  1 & 2231 & 2245 & -14 & UA & 1163 & N76526 & EWR & BOS &  42 &  200 & 21 & 16 & 2013-08-11 21:00:00\\\\\n\t 2013 &  4 & 24 & 1155 & 1200 & -5 & 1339 & 1343 &  -4 & EV & 5679 & N13964 & EWR & CMH &  79 &  463 & 12 &  0 & 2013-04-24 12:00:00\\\\\n\t 2013 & 10 & 31 &  856 &  900 & -4 & 1208 & 1206 &   2 & UA & 1581 & N34460 & EWR & SEA & 330 & 2402 &  9 &  0 & 2013-10-31 09:00:00\\\\\n\t 2013 &  3 & 10 & 1654 & 1700 & -6 & 1901 & 1924 & -23 & DL & 2042 & N306DQ & EWR & ATL & 108 &  746 & 17 &  0 & 2013-03-10 17:00:00\\\\\n\t 2013 &  5 & 28 &  912 &  915 & -3 & 1220 & 1234 & -14 & DL & 2379 & N331NW & LGA & FLL & 153 & 1076 &  9 & 15 & 2013-05-28 09:00:00\\\\\n\t 2013 & 10 &  1 & 1154 & 1143 & 11 & 1418 & 1433 & -15 & UA & 1618 & N38727 & EWR & TPA & 129 &  997 & 11 & 43 & 2013-10-01 11:00:00\\\\\n\t 2013 & 12 & 24 &  858 &  856 &  2 & 1234 & 1207 &  27 & UA & 1170 & N34455 & EWR & FLL & 180 & 1065 &  8 & 56 & 2013-12-24 08:00:00\\\\\n\t 2013 &  6 & 12 & 1911 & 1920 & -9 & 2145 & 2156 & -11 & UA &  407 & N820UA & EWR & LAS & 300 & 2227 & 19 & 20 & 2013-06-12 19:00:00\\\\\n\t 2013 &  9 &  4 & 1559 & 1605 & -6 & 1715 & 1755 & -40 & AA &  343 & N581AA & LGA & ORD & 105 &  733 & 16 &  5 & 2013-09-04 16:00:00\\\\\n\t 2013 &  5 & 20 &  830 &  830 &  0 &  944 & 1015 & -31 & 9E & 3521 & N912XJ & JFK & ORD & 108 &  740 &  8 & 30 & 2013-05-20 08:00:00\\\\\n\t 2013 & 12 & 27 & 1318 & 1315 &  3 & 1604 & 1657 & -53 & US &  456 & N673AW & JFK & PHX & 259 & 2153 & 13 & 15 & 2013-12-27 13:00:00\\\\\n\t 2013 &  8 &  4 &  852 &  859 & -7 & 1101 & 1137 & -36 & DL & 1747 & N975DL & LGA & ATL & 108 &  762 &  8 & 59 & 2013-08-04 08:00:00\\\\\n\t 2013 &  8 &  3 & 1929 & 1930 & -1 & 2300 & 2248 &  12 & B6 &   71 & N637JB & JFK & SLC & 296 & 1990 & 19 & 30 & 2013-08-03 19:00:00\\\\\n\t 2013 &  6 &  6 & 1109 & 1111 & -2 & 1341 & 1349 &  -8 & UA & 1166 & N56859 & EWR & IAH & 193 & 1400 & 11 & 11 & 2013-06-06 11:00:00\\\\\n\t 2013 &  6 & 23 &  739 &  744 & -5 &  907 &  919 & -12 & EV & 4421 & N12563 & EWR & GSO &  66 &  445 &  7 & 44 & 2013-06-23 07:00:00\\\\\n\t 2013 &  7 & 16 & 1158 & 1200 & -2 & 1419 & 1501 & -42 & UA & 1124 & N24706 & EWR & SNA & 299 & 2434 & 12 &  0 & 2013-07-16 12:00:00\\\\\n\t 2013 &  2 & 25 & 1810 & 1815 & -5 & 2016 & 2042 & -26 & 9E & 3542 & N934XJ & JFK & MSP & 154 & 1029 & 18 & 15 & 2013-02-25 18:00:00\\\\\n\t 2013 &  5 &  3 &  635 &  635 &  0 &  921 &  951 & -30 & UA & 1299 & N78448 & EWR & RSW & 151 & 1068 &  6 & 35 & 2013-05-03 06:00:00\\\\\n\t 2013 &  4 &  5 &  952 &  955 & -3 & 1326 & 1310 &  16 & AA & 1871 & N3FXAA & LGA & MIA & 182 & 1096 &  9 & 55 & 2013-04-05 09:00:00\\\\\n\t 2013 &  8 & 29 & 2109 & 2001 & 68 & 2339 & 2254 &  45 & B6 & 1083 & N606JB & JFK & MCO & 122 &  944 & 20 &  1 & 2013-08-29 20:00:00\\\\\n\t 2013 & 10 &  4 & 1030 & 1030 &  0 & 1253 & 1314 & -21 & B6 &  483 & N705JB & JFK & MCO & 125 &  944 & 10 & 30 & 2013-10-04 10:00:00\\\\\n\t 2013 &  4 &  2 &  912 &  915 & -3 & 1258 & 1316 & -18 & DL &  301 & N3751B & JFK & SJU & 200 & 1598 &  9 & 15 & 2013-04-02 09:00:00\\\\\n\t 2013 & 11 &  6 & 1239 & 1247 & -8 & 1333 & 1351 & -18 & B6 & 1318 & N274JB & JFK & BOS &  37 &  187 & 12 & 47 & 2013-11-06 12:00:00\\\\\n\t 2013 &  5 & 28 & 1228 & 1228 &  0 & 1341 & 1347 &  -6 & B6 &   66 & N317JB & JFK & BUF &  58 &  301 & 12 & 28 & 2013-05-28 12:00:00\\\\\n\t ⋮ & ⋮ & ⋮ & ⋮ & ⋮ & ⋮ & ⋮ & ⋮ & ⋮ & ⋮ & ⋮ & ⋮ & ⋮ & ⋮ & ⋮ & ⋮ & ⋮ & ⋮ & ⋮\\\\\n\t 2013 &  7 & 11 & 1257 & 1250 &   7 & 1548 & 1547 &   1 & DL & 1375 & N3733Z & JFK & SLC & 260 & 1990 & 12 & 50 & 2013-07-11 12:00:00\\\\\n\t 2013 & 11 & 14 & 2045 & 2035 &  10 & 2154 & 2210 & -16 & WN &  168 & N438WN & LGA & MDW & 114 &  725 & 20 & 35 & 2013-11-14 20:00:00\\\\\n\t 2013 &  6 & 24 & 1936 & 1940 &  -4 & 2302 & 2255 &   7 & B6 &  161 & N625JB & JFK & SMF & 337 & 2521 & 19 & 40 & 2013-06-24 19:00:00\\\\\n\t 2013 & 10 & 31 & 1947 & 1859 &  48 & 2154 & 2118 &  36 & 9E & 3854 & N8409N & LGA & GSP &  99 &  610 & 18 & 59 & 2013-10-31 18:00:00\\\\\n\t 2013 &  4 &  6 &  654 &  700 &  -6 &  954 & 1025 & -31 & DL & 1415 & N669DN & JFK & SLC & 283 & 1990 &  7 &  0 & 2013-04-06 07:00:00\\\\\n\t 2013 & 12 & 19 &  720 &  720 &   0 &  844 &  855 & -11 & WN & 1975 & N206WN & EWR & BNA & 116 &  748 &  7 & 20 & 2013-12-19 07:00:00\\\\\n\t 2013 &  2 & 20 & 1412 & 1356 &  16 & 1508 & 1506 &   2 & EV & 4434 & N11544 & EWR & MHT &  40 &  209 & 13 & 56 & 2013-02-20 13:00:00\\\\\n\t 2013 & 11 & 26 & 1625 & 1540 &  45 & 1816 & 1725 &  51 & 9E & 2900 & N927XJ & JFK & BNA & 128 &  765 & 15 & 40 & 2013-11-26 15:00:00\\\\\n\t 2013 & 12 & 29 & 1228 & 1220 &   8 & 1405 & 1400 &   5 & MQ & 3361 & N833MQ & JFK & RDU &  78 &  427 & 12 & 20 & 2013-12-29 12:00:00\\\\\n\t 2013 & 11 & 27 & 1052 & 1100 &  -8 & 1447 & 1411 &  36 & DL & 2506 & N332NB & LGA & FLL & 212 & 1076 & 11 &  0 & 2013-11-27 11:00:00\\\\\n\t 2013 &  1 & 24 &  655 &  705 & -10 &  927 &  940 & -13 & MQ & 4534 & N723MQ & LGA & XNA & 189 & 1147 &  7 &  5 & 2013-01-24 07:00:00\\\\\n\t 2013 & 11 & 27 &  851 &  830 &  21 & 1024 &  944 &  40 & 9E & 2901 & N924XJ & JFK & BOS &  41 &  187 &  8 & 30 & 2013-11-27 08:00:00\\\\\n\t 2013 &  1 & 25 & 1658 & 1700 &  -2 & 2048 & 2036 &  12 & DL &  127 & N705TW & JFK & LAX & 358 & 2475 & 17 &  0 & 2013-01-25 17:00:00\\\\\n\t 2013 &  9 & 16 & 1520 & 1520 &   0 & 1849 & 1838 &  11 & DL & 1982 & N324NB & LGA & MIA & 160 & 1096 & 15 & 20 & 2013-09-16 15:00:00\\\\\n\t 2013 &  1 &  7 & 1923 & 1925 &  -2 & 2155 & 2243 & -48 & DL & 1729 & N900PC & JFK & LAS & 309 & 2248 & 19 & 25 & 2013-01-07 19:00:00\\\\\n\t 2013 & 12 & 16 &  849 &  851 &  -2 &  944 &  954 & -10 & EV & 4276 & N13132 & EWR & BDL &  26 &  116 &  8 & 51 & 2013-12-16 08:00:00\\\\\n\t 2013 & 10 &  3 &  702 &  710 &  -8 &  945 & 1000 & -15 & AA & 2493 & N5BTAA & JFK & MCO & 135 &  944 &  7 & 10 & 2013-10-03 07:00:00\\\\\n\t 2013 &  7 & 15 &  621 &  601 &  20 &  859 &  915 & -16 & UA &  303 & N554UA & JFK & SFO & 319 & 2586 &  6 &  1 & 2013-07-15 06:00:00\\\\\n\t 2013 &  4 & 11 & 1644 & 1557 &  47 & 1831 & 1754 &  37 & 9E & 3523 & N909XJ & JFK & ORD & 120 &  740 & 15 & 57 & 2013-04-11 15:00:00\\\\\n\t 2013 &  4 & 23 & 2243 & 2145 &  58 &  206 &  105 &  61 & AA &  185 & N319AA & JFK & LAX & 347 & 2475 & 21 & 45 & 2013-04-23 21:00:00\\\\\n\t 2013 &  8 & 31 &  735 &  730 &   5 & 1114 & 1129 & -15 & B6 & 1289 & N520JB & EWR & SJU & 198 & 1608 &  7 & 30 & 2013-08-31 07:00:00\\\\\n\t 2013 & 11 &  6 & 1428 & 1428 &   0 & 1541 & 1545 &  -4 & EV & 5712 & N833AS & JFK & IAD &  49 &  228 & 14 & 28 & 2013-11-06 14:00:00\\\\\n\t 2013 &  8 & 14 & 1401 & 1355 &   6 & 1652 & 1628 &  24 & UA & 1219 & N27722 & EWR & DFW & 213 & 1372 & 13 & 55 & 2013-08-14 13:00:00\\\\\n\t 2013 &  9 &  5 &  818 &  825 &  -7 &  922 &  935 & -13 & AA &   84 & N3CNAA & JFK & BOS &  39 &  187 &  8 & 25 & 2013-09-05 08:00:00\\\\\n\t 2013 &  7 & 25 &  538 &  545 &  -7 &  810 &  813 &  -3 & UA &  698 & N536UA & LGA & IAH & 179 & 1416 &  5 & 45 & 2013-07-25 05:00:00\\\\\n\t 2013 &  4 & 19 & 1554 & 1540 &  14 & 1834 & 1827 &   7 & UA & 1148 & N12221 & EWR & TPA & 143 &  997 & 15 & 40 & 2013-04-19 15:00:00\\\\\n\t 2013 &  4 & 24 & 1457 & 1450 &   7 & 1606 & 1606 &   0 & UA &  471 & N854UA & EWR & BOS &  49 &  200 & 14 & 50 & 2013-04-24 14:00:00\\\\\n\t 2013 &  3 & 21 & 1945 & 1935 &  10 & 2248 & 2242 &   6 & DL & 2370 & N338NW & LGA & PBI & 142 & 1035 & 19 & 35 & 2013-03-21 19:00:00\\\\\n\t 2013 &  7 & 21 & 1211 & 1209 &   2 & 1309 & 1316 &  -7 & B6 & 1191 & N193JB & JFK & ACK &  35 &  199 & 12 &  9 & 2013-07-21 12:00:00\\\\\n\t 2013 &  6 & 14 & 2143 & 2030 &  73 & 2251 & 2211 &  40 & EV & 5048 & N615QX & LGA & RIC &  46 &  292 & 20 & 30 & 2013-06-14 20:00:00\\\\\n\\end{tabular}\n",
            "text/plain": [
              "     year month day dep_time sched_dep_time dep_delay arr_time sched_arr_time\n",
              "1    2013 12     1   625      630           -5         855      854          \n",
              "2    2013  2    27  1817     1725           52        1927     1827          \n",
              "3    2013  3    13  1738     1745           -7        2017     2055          \n",
              "4    2013  4     8  1652     1700           -8        2018     2050          \n",
              "5    2013  7    20  1348     1259           49        1829     1533          \n",
              "6    2013  3    10   608      610           -2         924      936          \n",
              "7    2013  8    11  2117     2116            1        2231     2245          \n",
              "8    2013  4    24  1155     1200           -5        1339     1343          \n",
              "9    2013 10    31   856      900           -4        1208     1206          \n",
              "10   2013  3    10  1654     1700           -6        1901     1924          \n",
              "11   2013  5    28   912      915           -3        1220     1234          \n",
              "12   2013 10     1  1154     1143           11        1418     1433          \n",
              "13   2013 12    24   858      856            2        1234     1207          \n",
              "14   2013  6    12  1911     1920           -9        2145     2156          \n",
              "15   2013  9     4  1559     1605           -6        1715     1755          \n",
              "16   2013  5    20   830      830            0         944     1015          \n",
              "17   2013 12    27  1318     1315            3        1604     1657          \n",
              "18   2013  8     4   852      859           -7        1101     1137          \n",
              "19   2013  8     3  1929     1930           -1        2300     2248          \n",
              "20   2013  6     6  1109     1111           -2        1341     1349          \n",
              "21   2013  6    23   739      744           -5         907      919          \n",
              "22   2013  7    16  1158     1200           -2        1419     1501          \n",
              "23   2013  2    25  1810     1815           -5        2016     2042          \n",
              "24   2013  5     3   635      635            0         921      951          \n",
              "25   2013  4     5   952      955           -3        1326     1310          \n",
              "26   2013  8    29  2109     2001           68        2339     2254          \n",
              "27   2013 10     4  1030     1030            0        1253     1314          \n",
              "28   2013  4     2   912      915           -3        1258     1316          \n",
              "29   2013 11     6  1239     1247           -8        1333     1351          \n",
              "30   2013  5    28  1228     1228            0        1341     1347          \n",
              "⋮    ⋮    ⋮     ⋮   ⋮        ⋮              ⋮         ⋮        ⋮             \n",
              "3339 2013  7    11  1257     1250             7       1548     1547          \n",
              "3340 2013 11    14  2045     2035            10       2154     2210          \n",
              "3341 2013  6    24  1936     1940            -4       2302     2255          \n",
              "3342 2013 10    31  1947     1859            48       2154     2118          \n",
              "3343 2013  4     6   654      700            -6        954     1025          \n",
              "3344 2013 12    19   720      720             0        844      855          \n",
              "3345 2013  2    20  1412     1356            16       1508     1506          \n",
              "3346 2013 11    26  1625     1540            45       1816     1725          \n",
              "3347 2013 12    29  1228     1220             8       1405     1400          \n",
              "3348 2013 11    27  1052     1100            -8       1447     1411          \n",
              "3349 2013  1    24   655      705           -10        927      940          \n",
              "3350 2013 11    27   851      830            21       1024      944          \n",
              "3351 2013  1    25  1658     1700            -2       2048     2036          \n",
              "3352 2013  9    16  1520     1520             0       1849     1838          \n",
              "3353 2013  1     7  1923     1925            -2       2155     2243          \n",
              "3354 2013 12    16   849      851            -2        944      954          \n",
              "3355 2013 10     3   702      710            -8        945     1000          \n",
              "3356 2013  7    15   621      601            20        859      915          \n",
              "3357 2013  4    11  1644     1557            47       1831     1754          \n",
              "3358 2013  4    23  2243     2145            58        206      105          \n",
              "3359 2013  8    31   735      730             5       1114     1129          \n",
              "3360 2013 11     6  1428     1428             0       1541     1545          \n",
              "3361 2013  8    14  1401     1355             6       1652     1628          \n",
              "3362 2013  9     5   818      825            -7        922      935          \n",
              "3363 2013  7    25   538      545            -7        810      813          \n",
              "3364 2013  4    19  1554     1540            14       1834     1827          \n",
              "3365 2013  4    24  1457     1450             7       1606     1606          \n",
              "3366 2013  3    21  1945     1935            10       2248     2242          \n",
              "3367 2013  7    21  1211     1209             2       1309     1316          \n",
              "3368 2013  6    14  2143     2030            73       2251     2211          \n",
              "     arr_delay carrier flight tailnum origin dest air_time distance hour minute\n",
              "1      1       DL       575   N979AT  EWR    ATL  120       746      6   30    \n",
              "2     60       EV      4316   N14558  EWR    BWI   40       169     17   25    \n",
              "3    -38       AA       785   N3DEAA  LGA    DFW  187      1389     17   45    \n",
              "4    -32       DL        31   N721TW  JFK    SFO  362      2586     17    0    \n",
              "5     NA       DL       781   N932DL  LGA    ATL   NA       762     12   59    \n",
              "6    -12       UA       600   N554UA  JFK    SFO  333      2586      6   10    \n",
              "7    -14       UA      1163   N76526  EWR    BOS   42       200     21   16    \n",
              "8     -4       EV      5679   N13964  EWR    CMH   79       463     12    0    \n",
              "9      2       UA      1581   N34460  EWR    SEA  330      2402      9    0    \n",
              "10   -23       DL      2042   N306DQ  EWR    ATL  108       746     17    0    \n",
              "11   -14       DL      2379   N331NW  LGA    FLL  153      1076      9   15    \n",
              "12   -15       UA      1618   N38727  EWR    TPA  129       997     11   43    \n",
              "13    27       UA      1170   N34455  EWR    FLL  180      1065      8   56    \n",
              "14   -11       UA       407   N820UA  EWR    LAS  300      2227     19   20    \n",
              "15   -40       AA       343   N581AA  LGA    ORD  105       733     16    5    \n",
              "16   -31       9E      3521   N912XJ  JFK    ORD  108       740      8   30    \n",
              "17   -53       US       456   N673AW  JFK    PHX  259      2153     13   15    \n",
              "18   -36       DL      1747   N975DL  LGA    ATL  108       762      8   59    \n",
              "19    12       B6        71   N637JB  JFK    SLC  296      1990     19   30    \n",
              "20    -8       UA      1166   N56859  EWR    IAH  193      1400     11   11    \n",
              "21   -12       EV      4421   N12563  EWR    GSO   66       445      7   44    \n",
              "22   -42       UA      1124   N24706  EWR    SNA  299      2434     12    0    \n",
              "23   -26       9E      3542   N934XJ  JFK    MSP  154      1029     18   15    \n",
              "24   -30       UA      1299   N78448  EWR    RSW  151      1068      6   35    \n",
              "25    16       AA      1871   N3FXAA  LGA    MIA  182      1096      9   55    \n",
              "26    45       B6      1083   N606JB  JFK    MCO  122       944     20    1    \n",
              "27   -21       B6       483   N705JB  JFK    MCO  125       944     10   30    \n",
              "28   -18       DL       301   N3751B  JFK    SJU  200      1598      9   15    \n",
              "29   -18       B6      1318   N274JB  JFK    BOS   37       187     12   47    \n",
              "30    -6       B6        66   N317JB  JFK    BUF   58       301     12   28    \n",
              "⋮    ⋮         ⋮       ⋮      ⋮       ⋮      ⋮    ⋮        ⋮        ⋮    ⋮     \n",
              "3339   1       DL      1375   N3733Z  JFK    SLC  260      1990     12   50    \n",
              "3340 -16       WN       168   N438WN  LGA    MDW  114       725     20   35    \n",
              "3341   7       B6       161   N625JB  JFK    SMF  337      2521     19   40    \n",
              "3342  36       9E      3854   N8409N  LGA    GSP   99       610     18   59    \n",
              "3343 -31       DL      1415   N669DN  JFK    SLC  283      1990      7    0    \n",
              "3344 -11       WN      1975   N206WN  EWR    BNA  116       748      7   20    \n",
              "3345   2       EV      4434   N11544  EWR    MHT   40       209     13   56    \n",
              "3346  51       9E      2900   N927XJ  JFK    BNA  128       765     15   40    \n",
              "3347   5       MQ      3361   N833MQ  JFK    RDU   78       427     12   20    \n",
              "3348  36       DL      2506   N332NB  LGA    FLL  212      1076     11    0    \n",
              "3349 -13       MQ      4534   N723MQ  LGA    XNA  189      1147      7    5    \n",
              "3350  40       9E      2901   N924XJ  JFK    BOS   41       187      8   30    \n",
              "3351  12       DL       127   N705TW  JFK    LAX  358      2475     17    0    \n",
              "3352  11       DL      1982   N324NB  LGA    MIA  160      1096     15   20    \n",
              "3353 -48       DL      1729   N900PC  JFK    LAS  309      2248     19   25    \n",
              "3354 -10       EV      4276   N13132  EWR    BDL   26       116      8   51    \n",
              "3355 -15       AA      2493   N5BTAA  JFK    MCO  135       944      7   10    \n",
              "3356 -16       UA       303   N554UA  JFK    SFO  319      2586      6    1    \n",
              "3357  37       9E      3523   N909XJ  JFK    ORD  120       740     15   57    \n",
              "3358  61       AA       185   N319AA  JFK    LAX  347      2475     21   45    \n",
              "3359 -15       B6      1289   N520JB  EWR    SJU  198      1608      7   30    \n",
              "3360  -4       EV      5712   N833AS  JFK    IAD   49       228     14   28    \n",
              "3361  24       UA      1219   N27722  EWR    DFW  213      1372     13   55    \n",
              "3362 -13       AA        84   N3CNAA  JFK    BOS   39       187      8   25    \n",
              "3363  -3       UA       698   N536UA  LGA    IAH  179      1416      5   45    \n",
              "3364   7       UA      1148   N12221  EWR    TPA  143       997     15   40    \n",
              "3365   0       UA       471   N854UA  EWR    BOS   49       200     14   50    \n",
              "3366   6       DL      2370   N338NW  LGA    PBI  142      1035     19   35    \n",
              "3367  -7       B6      1191   N193JB  JFK    ACK   35       199     12    9    \n",
              "3368  40       EV      5048   N615QX  LGA    RIC   46       292     20   30    \n",
              "     time_hour          \n",
              "1    2013-12-01 06:00:00\n",
              "2    2013-02-27 17:00:00\n",
              "3    2013-03-13 17:00:00\n",
              "4    2013-04-08 17:00:00\n",
              "5    2013-07-20 12:00:00\n",
              "6    2013-03-10 06:00:00\n",
              "7    2013-08-11 21:00:00\n",
              "8    2013-04-24 12:00:00\n",
              "9    2013-10-31 09:00:00\n",
              "10   2013-03-10 17:00:00\n",
              "11   2013-05-28 09:00:00\n",
              "12   2013-10-01 11:00:00\n",
              "13   2013-12-24 08:00:00\n",
              "14   2013-06-12 19:00:00\n",
              "15   2013-09-04 16:00:00\n",
              "16   2013-05-20 08:00:00\n",
              "17   2013-12-27 13:00:00\n",
              "18   2013-08-04 08:00:00\n",
              "19   2013-08-03 19:00:00\n",
              "20   2013-06-06 11:00:00\n",
              "21   2013-06-23 07:00:00\n",
              "22   2013-07-16 12:00:00\n",
              "23   2013-02-25 18:00:00\n",
              "24   2013-05-03 06:00:00\n",
              "25   2013-04-05 09:00:00\n",
              "26   2013-08-29 20:00:00\n",
              "27   2013-10-04 10:00:00\n",
              "28   2013-04-02 09:00:00\n",
              "29   2013-11-06 12:00:00\n",
              "30   2013-05-28 12:00:00\n",
              "⋮    ⋮                  \n",
              "3339 2013-07-11 12:00:00\n",
              "3340 2013-11-14 20:00:00\n",
              "3341 2013-06-24 19:00:00\n",
              "3342 2013-10-31 18:00:00\n",
              "3343 2013-04-06 07:00:00\n",
              "3344 2013-12-19 07:00:00\n",
              "3345 2013-02-20 13:00:00\n",
              "3346 2013-11-26 15:00:00\n",
              "3347 2013-12-29 12:00:00\n",
              "3348 2013-11-27 11:00:00\n",
              "3349 2013-01-24 07:00:00\n",
              "3350 2013-11-27 08:00:00\n",
              "3351 2013-01-25 17:00:00\n",
              "3352 2013-09-16 15:00:00\n",
              "3353 2013-01-07 19:00:00\n",
              "3354 2013-12-16 08:00:00\n",
              "3355 2013-10-03 07:00:00\n",
              "3356 2013-07-15 06:00:00\n",
              "3357 2013-04-11 15:00:00\n",
              "3358 2013-04-23 21:00:00\n",
              "3359 2013-08-31 07:00:00\n",
              "3360 2013-11-06 14:00:00\n",
              "3361 2013-08-14 13:00:00\n",
              "3362 2013-09-05 08:00:00\n",
              "3363 2013-07-25 05:00:00\n",
              "3364 2013-04-19 15:00:00\n",
              "3365 2013-04-24 14:00:00\n",
              "3366 2013-03-21 19:00:00\n",
              "3367 2013-07-21 12:00:00\n",
              "3368 2013-06-14 20:00:00"
            ]
          },
          "metadata": {}
        }
      ]
    }
  ]
}