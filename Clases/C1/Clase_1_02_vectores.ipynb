{
  "nbformat": 4,
  "nbformat_minor": 0,
  "metadata": {
    "colab": {
      "provenance": [],
      "include_colab_link": true
    },
    "kernelspec": {
      "name": "ir",
      "display_name": "R"
    }
  },
  "cells": [
    {
      "cell_type": "markdown",
      "metadata": {
        "id": "view-in-github",
        "colab_type": "text"
      },
      "source": [
        "<a href=\"https://colab.research.google.com/github/majorquev/DBDC_202309_Programacion_en_R_para_ciencia_de_datos/blob/main/Clases/C1/Clase_1_02_vectores.ipynb\" target=\"_parent\"><img src=\"https://colab.research.google.com/assets/colab-badge.svg\" alt=\"Open In Colab\"/></a>"
      ]
    },
    {
      "cell_type": "markdown",
      "metadata": {
        "collapsed": true,
        "id": "Yb2RXjL2Igun"
      },
      "source": [
        "# Parte 1: Introducción a R (continuación)\n",
        "\n",
        "**Autor:** Miguel Jorquera Viguera<br>\n",
        "**E-mail:** majorquev@gmail.com<br>\n",
        "**Ayudante:** Rodrigo Morales <br>\n",
        "**E-mail ayudante:** rumorale1@gmail.com\n",
        "\n"
      ]
    },
    {
      "cell_type": "markdown",
      "metadata": {
        "id": "d_bHZs66Iguo"
      },
      "source": [
        "## 3. Vectores y matrices\n",
        "\n",
        "### 3.1 Vectores\n",
        "\n",
        "En R, así como en la mayoría de los lenguajes de programación, uno de los objetos más usuales para almacenar información son los vectores, los que corresponden a arreglos unidimensionales que almacenan un mismo tipo de dato en cada una de sus entradas.\n",
        "\n",
        "Todo vector en R se puede declarar con la letra \"c\" seguido de los elementos que lo componen entre paréntesis y separados por comas."
      ]
    },
    {
      "cell_type": "code",
      "metadata": {
        "id": "ljQ0JcsTIgup"
      },
      "source": [
        "# Declaración de dos vectores\n",
        "v1 <- c(1,1,2,3,5,8)\n",
        "p1 <- c(\"hola\", \"soy \", \"miguel\")"
      ],
      "execution_count": 1,
      "outputs": []
    },
    {
      "cell_type": "code",
      "metadata": {
        "id": "GxHhDdS4Iguy",
        "outputId": "d0787dcb-5bac-4b34-fd07-9a3ba462304e",
        "colab": {
          "base_uri": "https://localhost:8080/",
          "height": 52
        }
      },
      "source": [
        "# clase y tipo de dato\n",
        "v1\n",
        "p1"
      ],
      "execution_count": 2,
      "outputs": [
        {
          "output_type": "display_data",
          "data": {
            "text/html": [
              "<style>\n",
              ".list-inline {list-style: none; margin:0; padding: 0}\n",
              ".list-inline>li {display: inline-block}\n",
              ".list-inline>li:not(:last-child)::after {content: \"\\00b7\"; padding: 0 .5ex}\n",
              "</style>\n",
              "<ol class=list-inline><li>1</li><li>1</li><li>2</li><li>3</li><li>5</li><li>8</li></ol>\n"
            ],
            "text/markdown": "1. 1\n2. 1\n3. 2\n4. 3\n5. 5\n6. 8\n\n\n",
            "text/latex": "\\begin{enumerate*}\n\\item 1\n\\item 1\n\\item 2\n\\item 3\n\\item 5\n\\item 8\n\\end{enumerate*}\n",
            "text/plain": [
              "[1] 1 1 2 3 5 8"
            ]
          },
          "metadata": {}
        },
        {
          "output_type": "display_data",
          "data": {
            "text/html": [
              "<style>\n",
              ".list-inline {list-style: none; margin:0; padding: 0}\n",
              ".list-inline>li {display: inline-block}\n",
              ".list-inline>li:not(:last-child)::after {content: \"\\00b7\"; padding: 0 .5ex}\n",
              "</style>\n",
              "<ol class=list-inline><li>'hola'</li><li>'soy '</li><li>'miguel'</li></ol>\n"
            ],
            "text/markdown": "1. 'hola'\n2. 'soy '\n3. 'miguel'\n\n\n",
            "text/latex": "\\begin{enumerate*}\n\\item 'hola'\n\\item 'soy '\n\\item 'miguel'\n\\end{enumerate*}\n",
            "text/plain": [
              "[1] \"hola\"   \"soy \"   \"miguel\""
            ]
          },
          "metadata": {}
        }
      ]
    },
    {
      "cell_type": "code",
      "metadata": {
        "id": "FUBvbIN9Igu4",
        "outputId": "6ce8eac2-58f8-4cd6-adcf-8152b09061e8",
        "colab": {
          "base_uri": "https://localhost:8080/",
          "height": 34
        }
      },
      "source": [
        "# vectores lógicos\n",
        "b1 <- c(T,T,T,F,T,F)\n",
        "b1"
      ],
      "execution_count": 3,
      "outputs": [
        {
          "output_type": "display_data",
          "data": {
            "text/html": [
              "<style>\n",
              ".list-inline {list-style: none; margin:0; padding: 0}\n",
              ".list-inline>li {display: inline-block}\n",
              ".list-inline>li:not(:last-child)::after {content: \"\\00b7\"; padding: 0 .5ex}\n",
              "</style>\n",
              "<ol class=list-inline><li>TRUE</li><li>TRUE</li><li>TRUE</li><li>FALSE</li><li>TRUE</li><li>FALSE</li></ol>\n"
            ],
            "text/markdown": "1. TRUE\n2. TRUE\n3. TRUE\n4. FALSE\n5. TRUE\n6. FALSE\n\n\n",
            "text/latex": "\\begin{enumerate*}\n\\item TRUE\n\\item TRUE\n\\item TRUE\n\\item FALSE\n\\item TRUE\n\\item FALSE\n\\end{enumerate*}\n",
            "text/plain": [
              "[1]  TRUE  TRUE  TRUE FALSE  TRUE FALSE"
            ]
          },
          "metadata": {}
        }
      ]
    },
    {
      "cell_type": "code",
      "metadata": {
        "id": "R88mjniaIgu_",
        "outputId": "24207a4a-376a-44b1-fe06-97eeff961501",
        "colab": {
          "base_uri": "https://localhost:8080/",
          "height": 34
        }
      },
      "source": [
        "# Nombres de las entradas de un vector\n",
        "v2 <- c(\"n1\" = 10, \"n2\" = 20, \"n3\" = 99)\n",
        "v2"
      ],
      "execution_count": 4,
      "outputs": [
        {
          "output_type": "display_data",
          "data": {
            "text/html": [
              "<style>\n",
              ".dl-inline {width: auto; margin:0; padding: 0}\n",
              ".dl-inline>dt, .dl-inline>dd {float: none; width: auto; display: inline-block}\n",
              ".dl-inline>dt::after {content: \":\\0020\"; padding-right: .5ex}\n",
              ".dl-inline>dt:not(:first-of-type) {padding-left: .5ex}\n",
              "</style><dl class=dl-inline><dt>n1</dt><dd>10</dd><dt>n2</dt><dd>20</dd><dt>n3</dt><dd>99</dd></dl>\n"
            ],
            "text/markdown": "n1\n:   10n2\n:   20n3\n:   99\n\n",
            "text/latex": "\\begin{description*}\n\\item[n1] 10\n\\item[n2] 20\n\\item[n3] 99\n\\end{description*}\n",
            "text/plain": [
              "n1 n2 n3 \n",
              "10 20 99 "
            ]
          },
          "metadata": {}
        }
      ]
    },
    {
      "cell_type": "code",
      "source": [
        "length(v2)\n",
        "names(v2)"
      ],
      "metadata": {
        "id": "SDLn4gLUt9wM",
        "outputId": "175d9adf-3f8d-4ad4-f084-e7104827d261",
        "colab": {
          "base_uri": "https://localhost:8080/",
          "height": 52
        }
      },
      "execution_count": 5,
      "outputs": [
        {
          "output_type": "display_data",
          "data": {
            "text/html": [
              "3"
            ],
            "text/markdown": "3",
            "text/latex": "3",
            "text/plain": [
              "[1] 3"
            ]
          },
          "metadata": {}
        },
        {
          "output_type": "display_data",
          "data": {
            "text/html": [
              "<style>\n",
              ".list-inline {list-style: none; margin:0; padding: 0}\n",
              ".list-inline>li {display: inline-block}\n",
              ".list-inline>li:not(:last-child)::after {content: \"\\00b7\"; padding: 0 .5ex}\n",
              "</style>\n",
              "<ol class=list-inline><li>'n1'</li><li>'n2'</li><li>'n3'</li></ol>\n"
            ],
            "text/markdown": "1. 'n1'\n2. 'n2'\n3. 'n3'\n\n\n",
            "text/latex": "\\begin{enumerate*}\n\\item 'n1'\n\\item 'n2'\n\\item 'n3'\n\\end{enumerate*}\n",
            "text/plain": [
              "[1] \"n1\" \"n2\" \"n3\""
            ]
          },
          "metadata": {}
        }
      ]
    },
    {
      "cell_type": "code",
      "metadata": {
        "id": "OAhPpN3vIgvB",
        "outputId": "3ed36368-58f3-4c2b-fc2a-9cf9dde6239a",
        "colab": {
          "base_uri": "https://localhost:8080/",
          "height": 34
        }
      },
      "source": [
        "# podemos asignar los nombres a vector 1\n",
        "names(p1)\n"
      ],
      "execution_count": 6,
      "outputs": [
        {
          "output_type": "display_data",
          "data": {
            "text/plain": [
              "NULL"
            ]
          },
          "metadata": {}
        }
      ]
    },
    {
      "cell_type": "code",
      "metadata": {
        "id": "E6dxkyP5IgvF"
      },
      "source": [
        "# nombres de las entradas con la función, names()\n",
        "names(p1) <- c(\"palabra1\",\"palabra3\",\"palabra3\")"
      ],
      "execution_count": 7,
      "outputs": []
    },
    {
      "cell_type": "code",
      "source": [
        "p1\n",
        "names(p1)"
      ],
      "metadata": {
        "id": "6CQf4jA-udL0",
        "outputId": "49215f42-544e-42ce-e980-0397c0d8a143",
        "colab": {
          "base_uri": "https://localhost:8080/",
          "height": 52
        }
      },
      "execution_count": 8,
      "outputs": [
        {
          "output_type": "display_data",
          "data": {
            "text/html": [
              "<style>\n",
              ".dl-inline {width: auto; margin:0; padding: 0}\n",
              ".dl-inline>dt, .dl-inline>dd {float: none; width: auto; display: inline-block}\n",
              ".dl-inline>dt::after {content: \":\\0020\"; padding-right: .5ex}\n",
              ".dl-inline>dt:not(:first-of-type) {padding-left: .5ex}\n",
              "</style><dl class=dl-inline><dt>palabra1</dt><dd>'hola'</dd><dt>palabra3</dt><dd>'soy '</dd><dt>palabra3</dt><dd>'miguel'</dd></dl>\n"
            ],
            "text/markdown": "palabra1\n:   'hola'palabra3\n:   'soy 'palabra3\n:   'miguel'\n\n",
            "text/latex": "\\begin{description*}\n\\item[palabra1] 'hola'\n\\item[palabra3] 'soy '\n\\item[palabra3] 'miguel'\n\\end{description*}\n",
            "text/plain": [
              "palabra1 palabra3 palabra3 \n",
              "  \"hola\"   \"soy \" \"miguel\" "
            ]
          },
          "metadata": {}
        },
        {
          "output_type": "display_data",
          "data": {
            "text/html": [
              "<style>\n",
              ".list-inline {list-style: none; margin:0; padding: 0}\n",
              ".list-inline>li {display: inline-block}\n",
              ".list-inline>li:not(:last-child)::after {content: \"\\00b7\"; padding: 0 .5ex}\n",
              "</style>\n",
              "<ol class=list-inline><li>'palabra1'</li><li>'palabra3'</li><li>'palabra3'</li></ol>\n"
            ],
            "text/markdown": "1. 'palabra1'\n2. 'palabra3'\n3. 'palabra3'\n\n\n",
            "text/latex": "\\begin{enumerate*}\n\\item 'palabra1'\n\\item 'palabra3'\n\\item 'palabra3'\n\\end{enumerate*}\n",
            "text/plain": [
              "[1] \"palabra1\" \"palabra3\" \"palabra3\""
            ]
          },
          "metadata": {}
        }
      ]
    },
    {
      "cell_type": "code",
      "metadata": {
        "id": "7Ayre5BlIgvH",
        "outputId": "d29a836c-a2c7-45cb-b4ab-da77dee10638",
        "colab": {
          "base_uri": "https://localhost:8080/",
          "height": 52
        }
      },
      "source": [
        "#combinar vectores\n",
        "v3 <- c(v1,v2)\n",
        "v3\n",
        "names(v3)"
      ],
      "execution_count": 9,
      "outputs": [
        {
          "output_type": "display_data",
          "data": {
            "text/html": [
              "<style>\n",
              ".dl-inline {width: auto; margin:0; padding: 0}\n",
              ".dl-inline>dt, .dl-inline>dd {float: none; width: auto; display: inline-block}\n",
              ".dl-inline>dt::after {content: \":\\0020\"; padding-right: .5ex}\n",
              ".dl-inline>dt:not(:first-of-type) {padding-left: .5ex}\n",
              "</style><dl class=dl-inline><dt>1</dt><dd>1</dd><dt>2</dt><dd>1</dd><dt>3</dt><dd>2</dd><dt>4</dt><dd>3</dd><dt>5</dt><dd>5</dd><dt>6</dt><dd>8</dd><dt>n1</dt><dd>10</dd><dt>n2</dt><dd>20</dd><dt>n3</dt><dd>99</dd></dl>\n"
            ],
            "text/markdown": "1\n:   12\n:   13\n:   24\n:   35\n:   56\n:   8n1\n:   10n2\n:   20n3\n:   99\n\n",
            "text/latex": "\\begin{description*}\n\\item[1] 1\n\\item[2] 1\n\\item[3] 2\n\\item[4] 3\n\\item[5] 5\n\\item[6] 8\n\\item[n1] 10\n\\item[n2] 20\n\\item[n3] 99\n\\end{description*}\n",
            "text/plain": [
              "                  n1 n2 n3 \n",
              " 1  1  2  3  5  8 10 20 99 "
            ]
          },
          "metadata": {}
        },
        {
          "output_type": "display_data",
          "data": {
            "text/html": [
              "<style>\n",
              ".list-inline {list-style: none; margin:0; padding: 0}\n",
              ".list-inline>li {display: inline-block}\n",
              ".list-inline>li:not(:last-child)::after {content: \"\\00b7\"; padding: 0 .5ex}\n",
              "</style>\n",
              "<ol class=list-inline><li>''</li><li>''</li><li>''</li><li>''</li><li>''</li><li>''</li><li>'n1'</li><li>'n2'</li><li>'n3'</li></ol>\n"
            ],
            "text/markdown": "1. ''\n2. ''\n3. ''\n4. ''\n5. ''\n6. ''\n7. 'n1'\n8. 'n2'\n9. 'n3'\n\n\n",
            "text/latex": "\\begin{enumerate*}\n\\item ''\n\\item ''\n\\item ''\n\\item ''\n\\item ''\n\\item ''\n\\item 'n1'\n\\item 'n2'\n\\item 'n3'\n\\end{enumerate*}\n",
            "text/plain": [
              "[1] \"\"   \"\"   \"\"   \"\"   \"\"   \"\"   \"n1\" \"n2\" \"n3\""
            ]
          },
          "metadata": {}
        }
      ]
    },
    {
      "cell_type": "code",
      "metadata": {
        "id": "QETBghXxIgvI"
      },
      "source": [
        "# c : es una abreviación de \"combine\"\n",
        "pal <- c(\"hola\", \"soy\", \"yo\")\n",
        "num <- 3:5"
      ],
      "execution_count": 88,
      "outputs": []
    },
    {
      "cell_type": "code",
      "source": [
        "c(pal,num)"
      ],
      "metadata": {
        "id": "SEEPU7w3d5b-",
        "outputId": "2850da02-a741-45a2-889c-24185999def2",
        "colab": {
          "base_uri": "https://localhost:8080/",
          "height": 34
        }
      },
      "execution_count": 89,
      "outputs": [
        {
          "output_type": "display_data",
          "data": {
            "text/html": [
              "<style>\n",
              ".list-inline {list-style: none; margin:0; padding: 0}\n",
              ".list-inline>li {display: inline-block}\n",
              ".list-inline>li:not(:last-child)::after {content: \"\\00b7\"; padding: 0 .5ex}\n",
              "</style>\n",
              "<ol class=list-inline><li>'hola'</li><li>'soy'</li><li>'yo'</li><li>'3'</li><li>'4'</li><li>'5'</li></ol>\n"
            ],
            "text/markdown": "1. 'hola'\n2. 'soy'\n3. 'yo'\n4. '3'\n5. '4'\n6. '5'\n\n\n",
            "text/latex": "\\begin{enumerate*}\n\\item 'hola'\n\\item 'soy'\n\\item 'yo'\n\\item '3'\n\\item '4'\n\\item '5'\n\\end{enumerate*}\n",
            "text/plain": [
              "[1] \"hola\" \"soy\"  \"yo\"   \"3\"    \"4\"    \"5\"   "
            ]
          },
          "metadata": {}
        }
      ]
    },
    {
      "cell_type": "markdown",
      "metadata": {
        "id": "MX35j24_IgvN"
      },
      "source": [
        "#### 3.1.1 Acceso a los elementos de un vector\n",
        "\n",
        "El acceso a los elementos de un vector se puede llevar acabo indicando la posición del elemento (los naturales parten en 1!), el nombre de la casilla que lo contiene, o bien mediante sentencias lógicas que retornen \"TRUE\" en la posición deseada.\n",
        "\n"
      ]
    },
    {
      "cell_type": "code",
      "source": [
        "v2"
      ],
      "metadata": {
        "id": "xyXM7wArvZHc",
        "outputId": "c5bc4d56-d133-4316-d41f-712ed6f6ef90",
        "colab": {
          "base_uri": "https://localhost:8080/",
          "height": 34
        }
      },
      "execution_count": 11,
      "outputs": [
        {
          "output_type": "display_data",
          "data": {
            "text/html": [
              "<style>\n",
              ".dl-inline {width: auto; margin:0; padding: 0}\n",
              ".dl-inline>dt, .dl-inline>dd {float: none; width: auto; display: inline-block}\n",
              ".dl-inline>dt::after {content: \":\\0020\"; padding-right: .5ex}\n",
              ".dl-inline>dt:not(:first-of-type) {padding-left: .5ex}\n",
              "</style><dl class=dl-inline><dt>n1</dt><dd>10</dd><dt>n2</dt><dd>20</dd><dt>n3</dt><dd>99</dd></dl>\n"
            ],
            "text/markdown": "n1\n:   10n2\n:   20n3\n:   99\n\n",
            "text/latex": "\\begin{description*}\n\\item[n1] 10\n\\item[n2] 20\n\\item[n3] 99\n\\end{description*}\n",
            "text/plain": [
              "n1 n2 n3 \n",
              "10 20 99 "
            ]
          },
          "metadata": {}
        }
      ]
    },
    {
      "cell_type": "code",
      "metadata": {
        "id": "zW2_TzKxIgvN",
        "outputId": "0b386246-f65e-4cba-e840-05200cffc6b6",
        "colab": {
          "base_uri": "https://localhost:8080/",
          "height": 34
        }
      },
      "source": [
        "# Mediante posición\n",
        "v2[3]"
      ],
      "execution_count": 12,
      "outputs": [
        {
          "output_type": "display_data",
          "data": {
            "text/html": [
              "<strong>n3:</strong> 99"
            ],
            "text/markdown": "**n3:** 99",
            "text/latex": "\\textbf{n3:} 99",
            "text/plain": [
              "n3 \n",
              "99 "
            ]
          },
          "metadata": {}
        }
      ]
    },
    {
      "cell_type": "code",
      "metadata": {
        "id": "XWL1ZIyMIgvR",
        "outputId": "c274229a-44d1-4587-d09c-199a00f288b1",
        "colab": {
          "base_uri": "https://localhost:8080/",
          "height": 34
        }
      },
      "source": [
        "# retorna los elementos de las casillas 1  y 3 de v2\n",
        "v2[c(1,3)]"
      ],
      "execution_count": 13,
      "outputs": [
        {
          "output_type": "display_data",
          "data": {
            "text/html": [
              "<style>\n",
              ".dl-inline {width: auto; margin:0; padding: 0}\n",
              ".dl-inline>dt, .dl-inline>dd {float: none; width: auto; display: inline-block}\n",
              ".dl-inline>dt::after {content: \":\\0020\"; padding-right: .5ex}\n",
              ".dl-inline>dt:not(:first-of-type) {padding-left: .5ex}\n",
              "</style><dl class=dl-inline><dt>n1</dt><dd>10</dd><dt>n3</dt><dd>99</dd></dl>\n"
            ],
            "text/markdown": "n1\n:   10n3\n:   99\n\n",
            "text/latex": "\\begin{description*}\n\\item[n1] 10\n\\item[n3] 99\n\\end{description*}\n",
            "text/plain": [
              "n1 n3 \n",
              "10 99 "
            ]
          },
          "metadata": {}
        }
      ]
    },
    {
      "cell_type": "code",
      "metadata": {
        "id": "uBqEKq1aIgvT",
        "outputId": "96a9e0a5-0649-43da-cbb3-262c202e05c6",
        "colab": {
          "base_uri": "https://localhost:8080/",
          "height": 52
        }
      },
      "source": [
        "#NOTA 3:6, R lo interpreta como c(3,4,5,6)\n",
        "v1[c(3,4,5,6)]\n",
        "v1[3:6]"
      ],
      "execution_count": 14,
      "outputs": [
        {
          "output_type": "display_data",
          "data": {
            "text/html": [
              "<style>\n",
              ".list-inline {list-style: none; margin:0; padding: 0}\n",
              ".list-inline>li {display: inline-block}\n",
              ".list-inline>li:not(:last-child)::after {content: \"\\00b7\"; padding: 0 .5ex}\n",
              "</style>\n",
              "<ol class=list-inline><li>2</li><li>3</li><li>5</li><li>8</li></ol>\n"
            ],
            "text/markdown": "1. 2\n2. 3\n3. 5\n4. 8\n\n\n",
            "text/latex": "\\begin{enumerate*}\n\\item 2\n\\item 3\n\\item 5\n\\item 8\n\\end{enumerate*}\n",
            "text/plain": [
              "[1] 2 3 5 8"
            ]
          },
          "metadata": {}
        },
        {
          "output_type": "display_data",
          "data": {
            "text/html": [
              "<style>\n",
              ".list-inline {list-style: none; margin:0; padding: 0}\n",
              ".list-inline>li {display: inline-block}\n",
              ".list-inline>li:not(:last-child)::after {content: \"\\00b7\"; padding: 0 .5ex}\n",
              "</style>\n",
              "<ol class=list-inline><li>2</li><li>3</li><li>5</li><li>8</li></ol>\n"
            ],
            "text/markdown": "1. 2\n2. 3\n3. 5\n4. 8\n\n\n",
            "text/latex": "\\begin{enumerate*}\n\\item 2\n\\item 3\n\\item 5\n\\item 8\n\\end{enumerate*}\n",
            "text/plain": [
              "[1] 2 3 5 8"
            ]
          },
          "metadata": {}
        }
      ]
    },
    {
      "cell_type": "code",
      "source": [
        "3:6"
      ],
      "metadata": {
        "id": "TjtzM3gTwDN3",
        "outputId": "12ade986-0286-44a1-e279-f0fe0d6d63d0",
        "colab": {
          "base_uri": "https://localhost:8080/",
          "height": 34
        }
      },
      "execution_count": 15,
      "outputs": [
        {
          "output_type": "display_data",
          "data": {
            "text/html": [
              "<style>\n",
              ".list-inline {list-style: none; margin:0; padding: 0}\n",
              ".list-inline>li {display: inline-block}\n",
              ".list-inline>li:not(:last-child)::after {content: \"\\00b7\"; padding: 0 .5ex}\n",
              "</style>\n",
              "<ol class=list-inline><li>3</li><li>4</li><li>5</li><li>6</li></ol>\n"
            ],
            "text/markdown": "1. 3\n2. 4\n3. 5\n4. 6\n\n\n",
            "text/latex": "\\begin{enumerate*}\n\\item 3\n\\item 4\n\\item 5\n\\item 6\n\\end{enumerate*}\n",
            "text/plain": [
              "[1] 3 4 5 6"
            ]
          },
          "metadata": {}
        }
      ]
    },
    {
      "cell_type": "code",
      "metadata": {
        "id": "XIuQSfvKIgvV",
        "outputId": "0cd499d8-4cf7-4c9c-fa6f-d5feade9caf9",
        "colab": {
          "base_uri": "https://localhost:8080/",
          "height": 34
        }
      },
      "source": [
        "# podemos acceder a los elmentos mediante el nombre\n",
        "v2[\"n2\"]\n"
      ],
      "execution_count": 16,
      "outputs": [
        {
          "output_type": "display_data",
          "data": {
            "text/html": [
              "<strong>n2:</strong> 20"
            ],
            "text/markdown": "**n2:** 20",
            "text/latex": "\\textbf{n2:} 20",
            "text/plain": [
              "n2 \n",
              "20 "
            ]
          },
          "metadata": {}
        }
      ]
    },
    {
      "cell_type": "code",
      "source": [
        "# Quiero las casillas n1  y n3 a la vez\n",
        "v2[c(\"n1\",\"n3\")]"
      ],
      "metadata": {
        "id": "HDJ7-lywwXR2",
        "outputId": "5ba9d631-d87a-4522-9004-a02c101872f7",
        "colab": {
          "base_uri": "https://localhost:8080/",
          "height": 34
        }
      },
      "execution_count": 17,
      "outputs": [
        {
          "output_type": "display_data",
          "data": {
            "text/html": [
              "<style>\n",
              ".dl-inline {width: auto; margin:0; padding: 0}\n",
              ".dl-inline>dt, .dl-inline>dd {float: none; width: auto; display: inline-block}\n",
              ".dl-inline>dt::after {content: \":\\0020\"; padding-right: .5ex}\n",
              ".dl-inline>dt:not(:first-of-type) {padding-left: .5ex}\n",
              "</style><dl class=dl-inline><dt>n1</dt><dd>10</dd><dt>n3</dt><dd>99</dd></dl>\n"
            ],
            "text/markdown": "n1\n:   10n3\n:   99\n\n",
            "text/latex": "\\begin{description*}\n\\item[n1] 10\n\\item[n3] 99\n\\end{description*}\n",
            "text/plain": [
              "n1 n3 \n",
              "10 99 "
            ]
          },
          "metadata": {}
        }
      ]
    },
    {
      "cell_type": "code",
      "metadata": {
        "id": "IHjnaSSyIgvX"
      },
      "source": [
        "# cambiar una entrada de un vector o cambiar un nombre\n",
        "# Ej. Modificar el elmento de  pos 1 , por un -100\n",
        "v2[1] <- -100"
      ],
      "execution_count": 18,
      "outputs": []
    },
    {
      "cell_type": "code",
      "metadata": {
        "id": "KCKDbYtRIgvZ",
        "outputId": "9685663a-20db-4cca-b5a7-5d21888715e5",
        "colab": {
          "base_uri": "https://localhost:8080/",
          "height": 34
        }
      },
      "source": [
        "v2"
      ],
      "execution_count": 19,
      "outputs": [
        {
          "output_type": "display_data",
          "data": {
            "text/html": [
              "<style>\n",
              ".dl-inline {width: auto; margin:0; padding: 0}\n",
              ".dl-inline>dt, .dl-inline>dd {float: none; width: auto; display: inline-block}\n",
              ".dl-inline>dt::after {content: \":\\0020\"; padding-right: .5ex}\n",
              ".dl-inline>dt:not(:first-of-type) {padding-left: .5ex}\n",
              "</style><dl class=dl-inline><dt>n1</dt><dd>-100</dd><dt>n2</dt><dd>20</dd><dt>n3</dt><dd>99</dd></dl>\n"
            ],
            "text/markdown": "n1\n:   -100n2\n:   20n3\n:   99\n\n",
            "text/latex": "\\begin{description*}\n\\item[n1] -100\n\\item[n2] 20\n\\item[n3] 99\n\\end{description*}\n",
            "text/plain": [
              "  n1   n2   n3 \n",
              "-100   20   99 "
            ]
          },
          "metadata": {}
        }
      ]
    },
    {
      "cell_type": "code",
      "metadata": {
        "id": "cVzhj4ASIgvb"
      },
      "source": [
        "# podemos cambiar uno de los nombres (ej, queremos cambiar el tercer nombre del vector v2, por \"nombre_3\")\n",
        "names(v2)[3] <- \"nombre_3\"\n",
        "#names(v2[3]) <- \"nombre_3\" # NO!! pues se modifica el nombre de v2[3], no de v2 (en pos 3)\n"
      ],
      "execution_count": 20,
      "outputs": []
    },
    {
      "cell_type": "code",
      "source": [
        "v2"
      ],
      "metadata": {
        "id": "X6CgGVoLyKq5",
        "outputId": "4c059f0b-9b6b-418a-9c1c-b69f3703c6b8",
        "colab": {
          "base_uri": "https://localhost:8080/",
          "height": 34
        }
      },
      "execution_count": 21,
      "outputs": [
        {
          "output_type": "display_data",
          "data": {
            "text/html": [
              "<style>\n",
              ".dl-inline {width: auto; margin:0; padding: 0}\n",
              ".dl-inline>dt, .dl-inline>dd {float: none; width: auto; display: inline-block}\n",
              ".dl-inline>dt::after {content: \":\\0020\"; padding-right: .5ex}\n",
              ".dl-inline>dt:not(:first-of-type) {padding-left: .5ex}\n",
              "</style><dl class=dl-inline><dt>n1</dt><dd>-100</dd><dt>n2</dt><dd>20</dd><dt>nombre_3</dt><dd>99</dd></dl>\n"
            ],
            "text/markdown": "n1\n:   -100n2\n:   20nombre_3\n:   99\n\n",
            "text/latex": "\\begin{description*}\n\\item[n1] -100\n\\item[n2] 20\n\\item[nombre\\textbackslash{}\\_3] 99\n\\end{description*}\n",
            "text/plain": [
              "      n1       n2 nombre_3 \n",
              "    -100       20       99 "
            ]
          },
          "metadata": {}
        }
      ]
    },
    {
      "cell_type": "code",
      "metadata": {
        "id": "b6oqx_D4Igvd"
      },
      "source": [
        "# podemos modificar varias posiciones a la vez\n",
        "# queremos re-asignar los valores de las posiciones 2 y 3, por -30 y - 40 respecivamente\n",
        "v2[2:3] <- c(-30, -40) # otra opción es v2[c(2,3)] <- c(-30,-40)\n"
      ],
      "execution_count": 22,
      "outputs": []
    },
    {
      "cell_type": "code",
      "source": [
        "v2"
      ],
      "metadata": {
        "id": "OGrIJbXNzWXZ",
        "outputId": "6a826a79-34d1-437e-acb0-7e4a6856e941",
        "colab": {
          "base_uri": "https://localhost:8080/",
          "height": 34
        }
      },
      "execution_count": 23,
      "outputs": [
        {
          "output_type": "display_data",
          "data": {
            "text/html": [
              "<style>\n",
              ".dl-inline {width: auto; margin:0; padding: 0}\n",
              ".dl-inline>dt, .dl-inline>dd {float: none; width: auto; display: inline-block}\n",
              ".dl-inline>dt::after {content: \":\\0020\"; padding-right: .5ex}\n",
              ".dl-inline>dt:not(:first-of-type) {padding-left: .5ex}\n",
              "</style><dl class=dl-inline><dt>n1</dt><dd>-100</dd><dt>n2</dt><dd>-30</dd><dt>nombre_3</dt><dd>-40</dd></dl>\n"
            ],
            "text/markdown": "n1\n:   -100n2\n:   -30nombre_3\n:   -40\n\n",
            "text/latex": "\\begin{description*}\n\\item[n1] -100\n\\item[n2] -30\n\\item[nombre\\textbackslash{}\\_3] -40\n\\end{description*}\n",
            "text/plain": [
              "      n1       n2 nombre_3 \n",
              "    -100      -30      -40 "
            ]
          },
          "metadata": {}
        }
      ]
    },
    {
      "cell_type": "markdown",
      "metadata": {
        "id": "XzyIBLZxIgvg"
      },
      "source": [
        "**Algunas sentencias de utilidad**\n",
        "\n",
        "También es posible acceder a los alementos de un vector mediante sentencias lógicas que retornen \"TRUE\" en la posición deseada. Para ello algunas funciones que son de utilidad son las siguientes.\n",
        "\n",
        "   **Conectores lógicos**\n",
        "\n",
        "    &,                   : conector y\n",
        "    |,                     : conector o\n",
        "    ==                       : igual\n",
        "    !                        : negación\n",
        "    !=                       : distinto\n",
        "    >, >=                    : mayor que, mayor o igual que\n",
        "    <,<=                     : menor que, menor o igual que\n",
        "    is.na()                  : es NA?\n",
        "    which()                  : en qué posición es verdadera la expresión evaluada?\n",
        "    which.min(), which.max() : en qué posición se alcanza el mínimi/máximo\n",
        "    %in%                     : los elementos están en?\n",
        "    \n",
        "    "
      ]
    },
    {
      "cell_type": "code",
      "source": [
        "v1"
      ],
      "metadata": {
        "id": "iHoTms9W0p3U",
        "outputId": "a114c88c-3a7d-49e7-b505-8c70d3f8e77e",
        "colab": {
          "base_uri": "https://localhost:8080/",
          "height": 34
        }
      },
      "execution_count": 24,
      "outputs": [
        {
          "output_type": "display_data",
          "data": {
            "text/html": [
              "<style>\n",
              ".list-inline {list-style: none; margin:0; padding: 0}\n",
              ".list-inline>li {display: inline-block}\n",
              ".list-inline>li:not(:last-child)::after {content: \"\\00b7\"; padding: 0 .5ex}\n",
              "</style>\n",
              "<ol class=list-inline><li>1</li><li>1</li><li>2</li><li>3</li><li>5</li><li>8</li></ol>\n"
            ],
            "text/markdown": "1. 1\n2. 1\n3. 2\n4. 3\n5. 5\n6. 8\n\n\n",
            "text/latex": "\\begin{enumerate*}\n\\item 1\n\\item 1\n\\item 2\n\\item 3\n\\item 5\n\\item 8\n\\end{enumerate*}\n",
            "text/plain": [
              "[1] 1 1 2 3 5 8"
            ]
          },
          "metadata": {}
        }
      ]
    },
    {
      "cell_type": "code",
      "source": [
        "v1 == 3"
      ],
      "metadata": {
        "id": "2-GbI9FJ0f-v",
        "outputId": "958f8337-cd90-432f-a2cc-7f4b2e3d26f4",
        "colab": {
          "base_uri": "https://localhost:8080/",
          "height": 34
        }
      },
      "execution_count": 25,
      "outputs": [
        {
          "output_type": "display_data",
          "data": {
            "text/html": [
              "<style>\n",
              ".list-inline {list-style: none; margin:0; padding: 0}\n",
              ".list-inline>li {display: inline-block}\n",
              ".list-inline>li:not(:last-child)::after {content: \"\\00b7\"; padding: 0 .5ex}\n",
              "</style>\n",
              "<ol class=list-inline><li>FALSE</li><li>FALSE</li><li>FALSE</li><li>TRUE</li><li>FALSE</li><li>FALSE</li></ol>\n"
            ],
            "text/markdown": "1. FALSE\n2. FALSE\n3. FALSE\n4. TRUE\n5. FALSE\n6. FALSE\n\n\n",
            "text/latex": "\\begin{enumerate*}\n\\item FALSE\n\\item FALSE\n\\item FALSE\n\\item TRUE\n\\item FALSE\n\\item FALSE\n\\end{enumerate*}\n",
            "text/plain": [
              "[1] FALSE FALSE FALSE  TRUE FALSE FALSE"
            ]
          },
          "metadata": {}
        }
      ]
    },
    {
      "cell_type": "code",
      "source": [
        "v1 >= 3"
      ],
      "metadata": {
        "id": "1iViNvqN0vxm",
        "outputId": "2e1eb8eb-313b-45b6-c430-422cf0de8063",
        "colab": {
          "base_uri": "https://localhost:8080/",
          "height": 34
        }
      },
      "execution_count": 26,
      "outputs": [
        {
          "output_type": "display_data",
          "data": {
            "text/html": [
              "<style>\n",
              ".list-inline {list-style: none; margin:0; padding: 0}\n",
              ".list-inline>li {display: inline-block}\n",
              ".list-inline>li:not(:last-child)::after {content: \"\\00b7\"; padding: 0 .5ex}\n",
              "</style>\n",
              "<ol class=list-inline><li>FALSE</li><li>FALSE</li><li>FALSE</li><li>TRUE</li><li>TRUE</li><li>TRUE</li></ol>\n"
            ],
            "text/markdown": "1. FALSE\n2. FALSE\n3. FALSE\n4. TRUE\n5. TRUE\n6. TRUE\n\n\n",
            "text/latex": "\\begin{enumerate*}\n\\item FALSE\n\\item FALSE\n\\item FALSE\n\\item TRUE\n\\item TRUE\n\\item TRUE\n\\end{enumerate*}\n",
            "text/plain": [
              "[1] FALSE FALSE FALSE  TRUE  TRUE  TRUE"
            ]
          },
          "metadata": {}
        }
      ]
    },
    {
      "cell_type": "code",
      "metadata": {
        "id": "NhZPJo56Igvh",
        "outputId": "f12967a2-d718-4cd6-b41b-2e892bc4053a",
        "colab": {
          "base_uri": "https://localhost:8080/",
          "height": 52
        }
      },
      "source": [
        "# para acceder a elementos de un vector tenemos:\n",
        "# 1. por posicion\n",
        "# 2. por nombre\n",
        "# 3. por indicatrices lógicas (un vector con TRUE (T) o FALSE (F) del mismo largo del que quiero consultar)\n",
        "\n",
        "# de v1 me gustaría rescatar las pos 3,5, y 6\n",
        "\n",
        "ind <- c(F,F,T,F,T,T) # del mismo largo que v1 y con TRUE's en las posiciones deseadas.\n",
        "ind\n",
        "\n",
        "v1[ind]\n"
      ],
      "execution_count": 27,
      "outputs": [
        {
          "output_type": "display_data",
          "data": {
            "text/html": [
              "<style>\n",
              ".list-inline {list-style: none; margin:0; padding: 0}\n",
              ".list-inline>li {display: inline-block}\n",
              ".list-inline>li:not(:last-child)::after {content: \"\\00b7\"; padding: 0 .5ex}\n",
              "</style>\n",
              "<ol class=list-inline><li>FALSE</li><li>FALSE</li><li>TRUE</li><li>FALSE</li><li>TRUE</li><li>TRUE</li></ol>\n"
            ],
            "text/markdown": "1. FALSE\n2. FALSE\n3. TRUE\n4. FALSE\n5. TRUE\n6. TRUE\n\n\n",
            "text/latex": "\\begin{enumerate*}\n\\item FALSE\n\\item FALSE\n\\item TRUE\n\\item FALSE\n\\item TRUE\n\\item TRUE\n\\end{enumerate*}\n",
            "text/plain": [
              "[1] FALSE FALSE  TRUE FALSE  TRUE  TRUE"
            ]
          },
          "metadata": {}
        },
        {
          "output_type": "display_data",
          "data": {
            "text/html": [
              "<style>\n",
              ".list-inline {list-style: none; margin:0; padding: 0}\n",
              ".list-inline>li {display: inline-block}\n",
              ".list-inline>li:not(:last-child)::after {content: \"\\00b7\"; padding: 0 .5ex}\n",
              "</style>\n",
              "<ol class=list-inline><li>2</li><li>5</li><li>8</li></ol>\n"
            ],
            "text/markdown": "1. 2\n2. 5\n3. 8\n\n\n",
            "text/latex": "\\begin{enumerate*}\n\\item 2\n\\item 5\n\\item 8\n\\end{enumerate*}\n",
            "text/plain": [
              "[1] 2 5 8"
            ]
          },
          "metadata": {}
        }
      ]
    },
    {
      "cell_type": "code",
      "metadata": {
        "id": "5C4hDsvSIgvj",
        "outputId": "8a0800da-310c-4295-98f2-f372995f2b9c",
        "colab": {
          "base_uri": "https://localhost:8080/",
          "height": 34
        }
      },
      "source": [
        "# Esto facilita la búsqueda dentro de un un vector. Ej: retornar los elementos mayores aun valor dado\n",
        "v1[v1 >= 3]"
      ],
      "execution_count": 28,
      "outputs": [
        {
          "output_type": "display_data",
          "data": {
            "text/html": [
              "<style>\n",
              ".list-inline {list-style: none; margin:0; padding: 0}\n",
              ".list-inline>li {display: inline-block}\n",
              ".list-inline>li:not(:last-child)::after {content: \"\\00b7\"; padding: 0 .5ex}\n",
              "</style>\n",
              "<ol class=list-inline><li>3</li><li>5</li><li>8</li></ol>\n"
            ],
            "text/markdown": "1. 3\n2. 5\n3. 8\n\n\n",
            "text/latex": "\\begin{enumerate*}\n\\item 3\n\\item 5\n\\item 8\n\\end{enumerate*}\n",
            "text/plain": [
              "[1] 3 5 8"
            ]
          },
          "metadata": {}
        }
      ]
    },
    {
      "cell_type": "code",
      "metadata": {
        "id": "bj-wjeddIgvl"
      },
      "source": [
        "# con esta idea en mente podríamos, por ejemplo, rescatar las edades con valor mayor o igual a 18 años\n",
        "set.seed(2023)\n",
        "edades <- rnorm(15, mean = 25, sd = 5)\n"
      ],
      "execution_count": 29,
      "outputs": []
    },
    {
      "cell_type": "code",
      "source": [
        "edades # Qué edades hay entre estas 15 que son mayores a 25."
      ],
      "metadata": {
        "id": "OYPtUo0N1WVK",
        "outputId": "0a7140dc-5f9a-4200-84d2-7ae38a2a60c0",
        "colab": {
          "base_uri": "https://localhost:8080/",
          "height": 52
        }
      },
      "execution_count": 30,
      "outputs": [
        {
          "output_type": "display_data",
          "data": {
            "text/html": [
              "<style>\n",
              ".list-inline {list-style: none; margin:0; padding: 0}\n",
              ".list-inline>li {display: inline-block}\n",
              ".list-inline>li:not(:last-child)::after {content: \"\\00b7\"; padding: 0 .5ex}\n",
              "</style>\n",
              "<ol class=list-inline><li>24.5810782225093</li><li>20.0852812735966</li><li>15.624663392976</li><li>24.0692766964463</li><li>21.8325715092399</li><li>30.4539873207335</li><li>20.4313636292854</li><li>30.0081985577538</li><li>23.0036669839031</li><li>22.6593847299324</li><li>26.6348104144004</li><li>22.9362655082407</li><li>27.8101823472185</li><li>28.3167912998997</li><li>21.9855135802941</li></ol>\n"
            ],
            "text/markdown": "1. 24.5810782225093\n2. 20.0852812735966\n3. 15.624663392976\n4. 24.0692766964463\n5. 21.8325715092399\n6. 30.4539873207335\n7. 20.4313636292854\n8. 30.0081985577538\n9. 23.0036669839031\n10. 22.6593847299324\n11. 26.6348104144004\n12. 22.9362655082407\n13. 27.8101823472185\n14. 28.3167912998997\n15. 21.9855135802941\n\n\n",
            "text/latex": "\\begin{enumerate*}\n\\item 24.5810782225093\n\\item 20.0852812735966\n\\item 15.624663392976\n\\item 24.0692766964463\n\\item 21.8325715092399\n\\item 30.4539873207335\n\\item 20.4313636292854\n\\item 30.0081985577538\n\\item 23.0036669839031\n\\item 22.6593847299324\n\\item 26.6348104144004\n\\item 22.9362655082407\n\\item 27.8101823472185\n\\item 28.3167912998997\n\\item 21.9855135802941\n\\end{enumerate*}\n",
            "text/plain": [
              " [1] 24.58108 20.08528 15.62466 24.06928 21.83257 30.45399 20.43136 30.00820\n",
              " [9] 23.00367 22.65938 26.63481 22.93627 27.81018 28.31679 21.98551"
            ]
          },
          "metadata": {}
        }
      ]
    },
    {
      "cell_type": "code",
      "source": [
        "edades[edades > 25]"
      ],
      "metadata": {
        "id": "VP0mHl2T1gc6",
        "outputId": "34f33aeb-1dfe-46f3-d5d9-d22ad487c13d",
        "colab": {
          "base_uri": "https://localhost:8080/",
          "height": 34
        }
      },
      "execution_count": 31,
      "outputs": [
        {
          "output_type": "display_data",
          "data": {
            "text/html": [
              "<style>\n",
              ".list-inline {list-style: none; margin:0; padding: 0}\n",
              ".list-inline>li {display: inline-block}\n",
              ".list-inline>li:not(:last-child)::after {content: \"\\00b7\"; padding: 0 .5ex}\n",
              "</style>\n",
              "<ol class=list-inline><li>30.4539873207335</li><li>30.0081985577538</li><li>26.6348104144004</li><li>27.8101823472185</li><li>28.3167912998997</li></ol>\n"
            ],
            "text/markdown": "1. 30.4539873207335\n2. 30.0081985577538\n3. 26.6348104144004\n4. 27.8101823472185\n5. 28.3167912998997\n\n\n",
            "text/latex": "\\begin{enumerate*}\n\\item 30.4539873207335\n\\item 30.0081985577538\n\\item 26.6348104144004\n\\item 27.8101823472185\n\\item 28.3167912998997\n\\end{enumerate*}\n",
            "text/plain": [
              "[1] 30.45399 30.00820 26.63481 27.81018 28.31679"
            ]
          },
          "metadata": {}
        }
      ]
    },
    {
      "cell_type": "code",
      "metadata": {
        "id": "fvq5tBXVIgvm",
        "outputId": "9a9f3178-0fcf-4d5b-c0e2-fe977def366f",
        "colab": {
          "base_uri": "https://localhost:8080/",
          "height": 34
        }
      },
      "source": [
        "# podríamos guardar el vector de T o F's en una variable para luego referenciarla\n",
        "indicatriz <- edades > 25\n",
        "indicatriz"
      ],
      "execution_count": 32,
      "outputs": [
        {
          "output_type": "display_data",
          "data": {
            "text/html": [
              "<style>\n",
              ".list-inline {list-style: none; margin:0; padding: 0}\n",
              ".list-inline>li {display: inline-block}\n",
              ".list-inline>li:not(:last-child)::after {content: \"\\00b7\"; padding: 0 .5ex}\n",
              "</style>\n",
              "<ol class=list-inline><li>FALSE</li><li>FALSE</li><li>FALSE</li><li>FALSE</li><li>FALSE</li><li>TRUE</li><li>FALSE</li><li>TRUE</li><li>FALSE</li><li>FALSE</li><li>TRUE</li><li>FALSE</li><li>TRUE</li><li>TRUE</li><li>FALSE</li></ol>\n"
            ],
            "text/markdown": "1. FALSE\n2. FALSE\n3. FALSE\n4. FALSE\n5. FALSE\n6. TRUE\n7. FALSE\n8. TRUE\n9. FALSE\n10. FALSE\n11. TRUE\n12. FALSE\n13. TRUE\n14. TRUE\n15. FALSE\n\n\n",
            "text/latex": "\\begin{enumerate*}\n\\item FALSE\n\\item FALSE\n\\item FALSE\n\\item FALSE\n\\item FALSE\n\\item TRUE\n\\item FALSE\n\\item TRUE\n\\item FALSE\n\\item FALSE\n\\item TRUE\n\\item FALSE\n\\item TRUE\n\\item TRUE\n\\item FALSE\n\\end{enumerate*}\n",
            "text/plain": [
              " [1] FALSE FALSE FALSE FALSE FALSE  TRUE FALSE  TRUE FALSE FALSE  TRUE FALSE\n",
              "[13]  TRUE  TRUE FALSE"
            ]
          },
          "metadata": {}
        }
      ]
    },
    {
      "cell_type": "code",
      "source": [
        "edades[indicatriz]"
      ],
      "metadata": {
        "id": "T_ZXh-JK12aY",
        "outputId": "5b16825d-394f-40e9-8762-52480dc513df",
        "colab": {
          "base_uri": "https://localhost:8080/",
          "height": 34
        }
      },
      "execution_count": 33,
      "outputs": [
        {
          "output_type": "display_data",
          "data": {
            "text/html": [
              "<style>\n",
              ".list-inline {list-style: none; margin:0; padding: 0}\n",
              ".list-inline>li {display: inline-block}\n",
              ".list-inline>li:not(:last-child)::after {content: \"\\00b7\"; padding: 0 .5ex}\n",
              "</style>\n",
              "<ol class=list-inline><li>30.4539873207335</li><li>30.0081985577538</li><li>26.6348104144004</li><li>27.8101823472185</li><li>28.3167912998997</li></ol>\n"
            ],
            "text/markdown": "1. 30.4539873207335\n2. 30.0081985577538\n3. 26.6348104144004\n4. 27.8101823472185\n5. 28.3167912998997\n\n\n",
            "text/latex": "\\begin{enumerate*}\n\\item 30.4539873207335\n\\item 30.0081985577538\n\\item 26.6348104144004\n\\item 27.8101823472185\n\\item 28.3167912998997\n\\end{enumerate*}\n",
            "text/plain": [
              "[1] 30.45399 30.00820 26.63481 27.81018 28.31679"
            ]
          },
          "metadata": {}
        }
      ]
    },
    {
      "cell_type": "code",
      "source": [
        "edades"
      ],
      "metadata": {
        "id": "hNeCWTSaUIBy",
        "outputId": "b3050e97-e84e-4e17-bd0f-7df477baa5f5",
        "colab": {
          "base_uri": "https://localhost:8080/",
          "height": 52
        }
      },
      "execution_count": 34,
      "outputs": [
        {
          "output_type": "display_data",
          "data": {
            "text/html": [
              "<style>\n",
              ".list-inline {list-style: none; margin:0; padding: 0}\n",
              ".list-inline>li {display: inline-block}\n",
              ".list-inline>li:not(:last-child)::after {content: \"\\00b7\"; padding: 0 .5ex}\n",
              "</style>\n",
              "<ol class=list-inline><li>24.5810782225093</li><li>20.0852812735966</li><li>15.624663392976</li><li>24.0692766964463</li><li>21.8325715092399</li><li>30.4539873207335</li><li>20.4313636292854</li><li>30.0081985577538</li><li>23.0036669839031</li><li>22.6593847299324</li><li>26.6348104144004</li><li>22.9362655082407</li><li>27.8101823472185</li><li>28.3167912998997</li><li>21.9855135802941</li></ol>\n"
            ],
            "text/markdown": "1. 24.5810782225093\n2. 20.0852812735966\n3. 15.624663392976\n4. 24.0692766964463\n5. 21.8325715092399\n6. 30.4539873207335\n7. 20.4313636292854\n8. 30.0081985577538\n9. 23.0036669839031\n10. 22.6593847299324\n11. 26.6348104144004\n12. 22.9362655082407\n13. 27.8101823472185\n14. 28.3167912998997\n15. 21.9855135802941\n\n\n",
            "text/latex": "\\begin{enumerate*}\n\\item 24.5810782225093\n\\item 20.0852812735966\n\\item 15.624663392976\n\\item 24.0692766964463\n\\item 21.8325715092399\n\\item 30.4539873207335\n\\item 20.4313636292854\n\\item 30.0081985577538\n\\item 23.0036669839031\n\\item 22.6593847299324\n\\item 26.6348104144004\n\\item 22.9362655082407\n\\item 27.8101823472185\n\\item 28.3167912998997\n\\item 21.9855135802941\n\\end{enumerate*}\n",
            "text/plain": [
              " [1] 24.58108 20.08528 15.62466 24.06928 21.83257 30.45399 20.43136 30.00820\n",
              " [9] 23.00367 22.65938 26.63481 22.93627 27.81018 28.31679 21.98551"
            ]
          },
          "metadata": {}
        }
      ]
    },
    {
      "cell_type": "code",
      "source": [
        "#which() Retorna las posiciones de un vector donde se cumple la expresión dada\n",
        "\n",
        "which(edades > 25)# son las posiciones donde edades es mayor a 25.\n"
      ],
      "metadata": {
        "id": "PoQMJN73T-UE",
        "outputId": "bf9e24aa-4fec-4b5c-d205-e38daeb1f355",
        "colab": {
          "base_uri": "https://localhost:8080/",
          "height": 34
        }
      },
      "execution_count": 35,
      "outputs": [
        {
          "output_type": "display_data",
          "data": {
            "text/html": [
              "<style>\n",
              ".list-inline {list-style: none; margin:0; padding: 0}\n",
              ".list-inline>li {display: inline-block}\n",
              ".list-inline>li:not(:last-child)::after {content: \"\\00b7\"; padding: 0 .5ex}\n",
              "</style>\n",
              "<ol class=list-inline><li>6</li><li>8</li><li>11</li><li>13</li><li>14</li></ol>\n"
            ],
            "text/markdown": "1. 6\n2. 8\n3. 11\n4. 13\n5. 14\n\n\n",
            "text/latex": "\\begin{enumerate*}\n\\item 6\n\\item 8\n\\item 11\n\\item 13\n\\item 14\n\\end{enumerate*}\n",
            "text/plain": [
              "[1]  6  8 11 13 14"
            ]
          },
          "metadata": {}
        }
      ]
    },
    {
      "cell_type": "code",
      "metadata": {
        "id": "ioUJy8UEIgvz",
        "outputId": "f768429e-bcc3-4f4a-d535-5b500417c366",
        "colab": {
          "base_uri": "https://localhost:8080/",
          "height": 52
        }
      },
      "source": [
        "#?which.max/min # Retorna la posición donde se alcanza el primer máximo/minimo\n",
        "#podemos rescatar el valor mediante el índice guardado\n",
        "which.max(edades)\n",
        "which.min(edades)\n"
      ],
      "execution_count": 38,
      "outputs": [
        {
          "output_type": "display_data",
          "data": {
            "text/html": [
              "6"
            ],
            "text/markdown": "6",
            "text/latex": "6",
            "text/plain": [
              "[1] 6"
            ]
          },
          "metadata": {}
        },
        {
          "output_type": "display_data",
          "data": {
            "text/html": [
              "3"
            ],
            "text/markdown": "3",
            "text/latex": "3",
            "text/plain": [
              "[1] 3"
            ]
          },
          "metadata": {}
        }
      ]
    },
    {
      "cell_type": "code",
      "source": [
        "which.max(c(3,-1,4,-1,2,4))\n",
        "which.min(c(3,-1,4,-1,2,4))\n",
        "\n"
      ],
      "metadata": {
        "id": "86e0aRbRU1ib",
        "outputId": "246778c8-ca31-4f31-a049-3dc0d8a1bf9b",
        "colab": {
          "base_uri": "https://localhost:8080/",
          "height": 52
        }
      },
      "execution_count": 40,
      "outputs": [
        {
          "output_type": "display_data",
          "data": {
            "text/html": [
              "3"
            ],
            "text/markdown": "3",
            "text/latex": "3",
            "text/plain": [
              "[1] 3"
            ]
          },
          "metadata": {}
        },
        {
          "output_type": "display_data",
          "data": {
            "text/html": [
              "2"
            ],
            "text/markdown": "2",
            "text/latex": "2",
            "text/plain": [
              "[1] 2"
            ]
          },
          "metadata": {}
        }
      ]
    },
    {
      "cell_type": "code",
      "source": [
        "w <- c(3,-1,4,-1,2,4)"
      ],
      "metadata": {
        "id": "XrcLIe-2Vp5x"
      },
      "execution_count": 41,
      "outputs": []
    },
    {
      "cell_type": "code",
      "source": [
        "sum(w)\n",
        "mean(w)\n",
        "max(w)\n",
        "min(w)\n",
        "sd(w)"
      ],
      "metadata": {
        "id": "T4Z2rQBCVs4V",
        "outputId": "957ec7f4-91e6-4428-8c90-371af0879917",
        "colab": {
          "base_uri": "https://localhost:8080/",
          "height": 104
        }
      },
      "execution_count": 45,
      "outputs": [
        {
          "output_type": "display_data",
          "data": {
            "text/html": [
              "11"
            ],
            "text/markdown": "11",
            "text/latex": "11",
            "text/plain": [
              "[1] 11"
            ]
          },
          "metadata": {}
        },
        {
          "output_type": "display_data",
          "data": {
            "text/html": [
              "1.83333333333333"
            ],
            "text/markdown": "1.83333333333333",
            "text/latex": "1.83333333333333",
            "text/plain": [
              "[1] 1.833333"
            ]
          },
          "metadata": {}
        },
        {
          "output_type": "display_data",
          "data": {
            "text/html": [
              "4"
            ],
            "text/markdown": "4",
            "text/latex": "4",
            "text/plain": [
              "[1] 4"
            ]
          },
          "metadata": {}
        },
        {
          "output_type": "display_data",
          "data": {
            "text/html": [
              "-1"
            ],
            "text/markdown": "-1",
            "text/latex": "-1",
            "text/plain": [
              "[1] -1"
            ]
          },
          "metadata": {}
        },
        {
          "output_type": "display_data",
          "data": {
            "text/html": [
              "2.31660671385254"
            ],
            "text/markdown": "2.31660671385254",
            "text/latex": "2.31660671385254",
            "text/plain": [
              "[1] 2.316607"
            ]
          },
          "metadata": {}
        }
      ]
    },
    {
      "cell_type": "code",
      "source": [
        "which(w == max(w))# Alternativa para encontrar los dos máximos."
      ],
      "metadata": {
        "id": "Zl1mjyXDVbSj",
        "outputId": "c0990453-a41e-48da-b7aa-6b73b19fd81b",
        "colab": {
          "base_uri": "https://localhost:8080/",
          "height": 34
        }
      },
      "execution_count": 46,
      "outputs": [
        {
          "output_type": "display_data",
          "data": {
            "text/html": [
              "<style>\n",
              ".list-inline {list-style: none; margin:0; padding: 0}\n",
              ".list-inline>li {display: inline-block}\n",
              ".list-inline>li:not(:last-child)::after {content: \"\\00b7\"; padding: 0 .5ex}\n",
              "</style>\n",
              "<ol class=list-inline><li>3</li><li>6</li></ol>\n"
            ],
            "text/markdown": "1. 3\n2. 6\n\n\n",
            "text/latex": "\\begin{enumerate*}\n\\item 3\n\\item 6\n\\end{enumerate*}\n",
            "text/plain": [
              "[1] 3 6"
            ]
          },
          "metadata": {}
        }
      ]
    },
    {
      "cell_type": "code",
      "metadata": {
        "id": "_8-SMxfWIgv0",
        "outputId": "d01ac2b0-05ae-44c8-9143-1f3e69ceb7f9",
        "colab": {
          "base_uri": "https://localhost:8080/",
          "height": 34
        }
      },
      "source": [
        "# Operador %in%\n",
        "# vector_a %in% vector_b (qué elementos del vector a están en el vector b)\n",
        "# retorna un  vector de TRUE's y FALSE's del largo del primer vector(a) (izquierda)\n",
        "\n",
        "c(1,4,6) %in% c(5,4,7,1)"
      ],
      "execution_count": 47,
      "outputs": [
        {
          "output_type": "display_data",
          "data": {
            "text/html": [
              "<style>\n",
              ".list-inline {list-style: none; margin:0; padding: 0}\n",
              ".list-inline>li {display: inline-block}\n",
              ".list-inline>li:not(:last-child)::after {content: \"\\00b7\"; padding: 0 .5ex}\n",
              "</style>\n",
              "<ol class=list-inline><li>TRUE</li><li>TRUE</li><li>FALSE</li></ol>\n"
            ],
            "text/markdown": "1. TRUE\n2. TRUE\n3. FALSE\n\n\n",
            "text/latex": "\\begin{enumerate*}\n\\item TRUE\n\\item TRUE\n\\item FALSE\n\\end{enumerate*}\n",
            "text/plain": [
              "[1]  TRUE  TRUE FALSE"
            ]
          },
          "metadata": {}
        }
      ]
    },
    {
      "cell_type": "code",
      "source": [
        "letras <- LETTERS[5:15]"
      ],
      "metadata": {
        "id": "Ur7yU0g-XR-r"
      },
      "execution_count": 51,
      "outputs": []
    },
    {
      "cell_type": "code",
      "source": [
        "consulta <- letras %in% c(\"A\",\"F\",\"J\",\"K\",\"I\",\"O\",\"P\")"
      ],
      "metadata": {
        "id": "xuDxI420W4pZ"
      },
      "execution_count": 55,
      "outputs": []
    },
    {
      "cell_type": "code",
      "source": [
        "letras[consulta]"
      ],
      "metadata": {
        "id": "O5whz6gaXiRR",
        "outputId": "b40f551a-8496-4ec9-dd45-cfa95e8e1b53",
        "colab": {
          "base_uri": "https://localhost:8080/",
          "height": 34
        }
      },
      "execution_count": 56,
      "outputs": [
        {
          "output_type": "display_data",
          "data": {
            "text/html": [
              "<style>\n",
              ".list-inline {list-style: none; margin:0; padding: 0}\n",
              ".list-inline>li {display: inline-block}\n",
              ".list-inline>li:not(:last-child)::after {content: \"\\00b7\"; padding: 0 .5ex}\n",
              "</style>\n",
              "<ol class=list-inline><li>'F'</li><li>'I'</li><li>'J'</li><li>'K'</li><li>'O'</li></ol>\n"
            ],
            "text/markdown": "1. 'F'\n2. 'I'\n3. 'J'\n4. 'K'\n5. 'O'\n\n\n",
            "text/latex": "\\begin{enumerate*}\n\\item 'F'\n\\item 'I'\n\\item 'J'\n\\item 'K'\n\\item 'O'\n\\end{enumerate*}\n",
            "text/plain": [
              "[1] \"F\" \"I\" \"J\" \"K\" \"O\""
            ]
          },
          "metadata": {}
        }
      ]
    },
    {
      "cell_type": "code",
      "metadata": {
        "id": "s9bYOQ4GIgv2",
        "outputId": "33d55756-2053-49f1-e620-4f468af4328b",
        "colab": {
          "base_uri": "https://localhost:8080/",
          "height": 52
        }
      },
      "source": [
        "# podemos utilizar la función all() para evaluar si todos los elementos de un vector son TRUE.\n",
        "\n",
        "all(c(T,F,T))\n",
        "all(c(T,T,T))\n",
        "ejem <- c(T,F,T)\n",
        "\n",
        "\n"
      ],
      "execution_count": 62,
      "outputs": [
        {
          "output_type": "display_data",
          "data": {
            "text/html": [
              "FALSE"
            ],
            "text/markdown": "FALSE",
            "text/latex": "FALSE",
            "text/plain": [
              "[1] FALSE"
            ]
          },
          "metadata": {}
        },
        {
          "output_type": "display_data",
          "data": {
            "text/html": [
              "TRUE"
            ],
            "text/markdown": "TRUE",
            "text/latex": "TRUE",
            "text/plain": [
              "[1] TRUE"
            ]
          },
          "metadata": {}
        }
      ]
    },
    {
      "cell_type": "code",
      "source": [
        "# NOTA:\n",
        "# podemos determinar el largo de un vector mediante la función length()"
      ],
      "metadata": {
        "id": "qjqOHbRhc0-C"
      },
      "execution_count": null,
      "outputs": []
    },
    {
      "cell_type": "code",
      "source": [
        "length(which(ejem == TRUE)) == length(ejem) # No todos son T."
      ],
      "metadata": {
        "id": "cMhKASSzY1sk",
        "outputId": "d3355c6f-0bc1-4928-f364-5d4b0b01d2ce",
        "colab": {
          "base_uri": "https://localhost:8080/",
          "height": 34
        }
      },
      "execution_count": 68,
      "outputs": [
        {
          "output_type": "display_data",
          "data": {
            "text/html": [
              "FALSE"
            ],
            "text/markdown": "FALSE",
            "text/latex": "FALSE",
            "text/plain": [
              "[1] FALSE"
            ]
          },
          "metadata": {}
        }
      ]
    },
    {
      "cell_type": "code",
      "source": [
        "T + T + F"
      ],
      "metadata": {
        "id": "NZim7lLRZ6fg",
        "outputId": "0d590d14-64b1-493c-e074-e322bda29c32",
        "colab": {
          "base_uri": "https://localhost:8080/",
          "height": 34
        }
      },
      "execution_count": 70,
      "outputs": [
        {
          "output_type": "display_data",
          "data": {
            "text/html": [
              "2"
            ],
            "text/markdown": "2",
            "text/latex": "2",
            "text/plain": [
              "[1] 2"
            ]
          },
          "metadata": {}
        }
      ]
    },
    {
      "cell_type": "code",
      "source": [
        "sum(ejem) == length(ejem) # No todos son T."
      ],
      "metadata": {
        "id": "Y0pm-W7SY6yE",
        "outputId": "dd35c8df-9477-4524-ac31-a835412fa465",
        "colab": {
          "base_uri": "https://localhost:8080/",
          "height": 34
        }
      },
      "execution_count": 72,
      "outputs": [
        {
          "output_type": "display_data",
          "data": {
            "text/html": [
              "FALSE"
            ],
            "text/markdown": "FALSE",
            "text/latex": "FALSE",
            "text/plain": [
              "[1] FALSE"
            ]
          },
          "metadata": {}
        }
      ]
    },
    {
      "cell_type": "code",
      "source": [
        "all(ejem)"
      ],
      "metadata": {
        "id": "3ih5oVn_aMcw",
        "outputId": "bf03f381-bc0f-4ad5-a82b-4dadc9438077",
        "colab": {
          "base_uri": "https://localhost:8080/",
          "height": 34
        }
      },
      "execution_count": 73,
      "outputs": [
        {
          "output_type": "display_data",
          "data": {
            "text/html": [
              "FALSE"
            ],
            "text/markdown": "FALSE",
            "text/latex": "FALSE",
            "text/plain": [
              "[1] FALSE"
            ]
          },
          "metadata": {}
        }
      ]
    },
    {
      "cell_type": "code",
      "source": [],
      "metadata": {
        "id": "VCKIib7wa6iS"
      },
      "execution_count": null,
      "outputs": []
    },
    {
      "cell_type": "markdown",
      "source": [
        "## NOTA:\n",
        "Podemos evaluar las expresiones contrarias a una dada, sinmplemente negando la expresiòn original con \"!\"."
      ],
      "metadata": {
        "id": "Dqs4GnKNadiY"
      }
    },
    {
      "cell_type": "code",
      "source": [
        "!(T|F) # !T&!F = F&T"
      ],
      "metadata": {
        "id": "vbmd27nAacl-",
        "outputId": "9b6a5368-c71a-4bbe-c295-52a977b6c753",
        "colab": {
          "base_uri": "https://localhost:8080/",
          "height": 34
        }
      },
      "execution_count": 75,
      "outputs": [
        {
          "output_type": "display_data",
          "data": {
            "text/html": [
              "FALSE"
            ],
            "text/markdown": "FALSE",
            "text/latex": "FALSE",
            "text/plain": [
              "[1] FALSE"
            ]
          },
          "metadata": {}
        }
      ]
    },
    {
      "cell_type": "code",
      "source": [
        "all(edades > 1)\n",
        "all(!(edades > 1)) # all(edades <= 1)"
      ],
      "metadata": {
        "id": "R7z1-NKGasSp",
        "outputId": "73e2a160-9dfb-4513-b3e2-d9d27a56de78",
        "colab": {
          "base_uri": "https://localhost:8080/",
          "height": 52
        }
      },
      "execution_count": 78,
      "outputs": [
        {
          "output_type": "display_data",
          "data": {
            "text/html": [
              "TRUE"
            ],
            "text/markdown": "TRUE",
            "text/latex": "TRUE",
            "text/plain": [
              "[1] TRUE"
            ]
          },
          "metadata": {}
        },
        {
          "output_type": "display_data",
          "data": {
            "text/html": [
              "FALSE"
            ],
            "text/markdown": "FALSE",
            "text/latex": "FALSE",
            "text/plain": [
              "[1] FALSE"
            ]
          },
          "metadata": {}
        }
      ]
    },
    {
      "cell_type": "code",
      "metadata": {
        "id": "Wd-mSv3PIgv4"
      },
      "source": [
        "# si quisiéramos evaluar que todos los elementos de la izq. estén en la derecha,\n",
        "# podemos utilizar la función all().\n",
        "all(letras %in% c(\"A\",\"F\",\"J\",\"K\",\"I\",\"O\",\"P\"))"
      ],
      "execution_count": null,
      "outputs": []
    },
    {
      "cell_type": "code",
      "metadata": {
        "id": "1YGnzt1zIgv7",
        "outputId": "5a2e46be-994a-4f1f-b118-a5b8adf1291f",
        "colab": {
          "base_uri": "https://localhost:8080/",
          "height": 69
        }
      },
      "source": [
        "# aritmética con vectores\n",
        "# operación de vectore de igual largo\n",
        "c(1,2,3) + c(10,20,30)\n",
        "c(1,2,3) * c(10,20,30)\n",
        "c(1,2,3) / c(10,20,30)"
      ],
      "execution_count": 80,
      "outputs": [
        {
          "output_type": "display_data",
          "data": {
            "text/html": [
              "<style>\n",
              ".list-inline {list-style: none; margin:0; padding: 0}\n",
              ".list-inline>li {display: inline-block}\n",
              ".list-inline>li:not(:last-child)::after {content: \"\\00b7\"; padding: 0 .5ex}\n",
              "</style>\n",
              "<ol class=list-inline><li>11</li><li>22</li><li>33</li></ol>\n"
            ],
            "text/markdown": "1. 11\n2. 22\n3. 33\n\n\n",
            "text/latex": "\\begin{enumerate*}\n\\item 11\n\\item 22\n\\item 33\n\\end{enumerate*}\n",
            "text/plain": [
              "[1] 11 22 33"
            ]
          },
          "metadata": {}
        },
        {
          "output_type": "display_data",
          "data": {
            "text/html": [
              "<style>\n",
              ".list-inline {list-style: none; margin:0; padding: 0}\n",
              ".list-inline>li {display: inline-block}\n",
              ".list-inline>li:not(:last-child)::after {content: \"\\00b7\"; padding: 0 .5ex}\n",
              "</style>\n",
              "<ol class=list-inline><li>10</li><li>40</li><li>90</li></ol>\n"
            ],
            "text/markdown": "1. 10\n2. 40\n3. 90\n\n\n",
            "text/latex": "\\begin{enumerate*}\n\\item 10\n\\item 40\n\\item 90\n\\end{enumerate*}\n",
            "text/plain": [
              "[1] 10 40 90"
            ]
          },
          "metadata": {}
        },
        {
          "output_type": "display_data",
          "data": {
            "text/html": [
              "<style>\n",
              ".list-inline {list-style: none; margin:0; padding: 0}\n",
              ".list-inline>li {display: inline-block}\n",
              ".list-inline>li:not(:last-child)::after {content: \"\\00b7\"; padding: 0 .5ex}\n",
              "</style>\n",
              "<ol class=list-inline><li>0.1</li><li>0.1</li><li>0.1</li></ol>\n"
            ],
            "text/markdown": "1. 0.1\n2. 0.1\n3. 0.1\n\n\n",
            "text/latex": "\\begin{enumerate*}\n\\item 0.1\n\\item 0.1\n\\item 0.1\n\\end{enumerate*}\n",
            "text/plain": [
              "[1] 0.1 0.1 0.1"
            ]
          },
          "metadata": {}
        }
      ]
    },
    {
      "cell_type": "code",
      "metadata": {
        "id": "Bw8lX76XIgv8",
        "outputId": "50dcf501-79c8-403b-e9d3-dc6fc1d8bbe2",
        "colab": {
          "base_uri": "https://localhost:8080/",
          "height": 52
        }
      },
      "source": [
        "#Operación  por escalares\n",
        "2*c(1,2,3)\n",
        "2+c(1,2,3)"
      ],
      "execution_count": 82,
      "outputs": [
        {
          "output_type": "display_data",
          "data": {
            "text/html": [
              "<style>\n",
              ".list-inline {list-style: none; margin:0; padding: 0}\n",
              ".list-inline>li {display: inline-block}\n",
              ".list-inline>li:not(:last-child)::after {content: \"\\00b7\"; padding: 0 .5ex}\n",
              "</style>\n",
              "<ol class=list-inline><li>2</li><li>4</li><li>6</li></ol>\n"
            ],
            "text/markdown": "1. 2\n2. 4\n3. 6\n\n\n",
            "text/latex": "\\begin{enumerate*}\n\\item 2\n\\item 4\n\\item 6\n\\end{enumerate*}\n",
            "text/plain": [
              "[1] 2 4 6"
            ]
          },
          "metadata": {}
        },
        {
          "output_type": "display_data",
          "data": {
            "text/html": [
              "<style>\n",
              ".list-inline {list-style: none; margin:0; padding: 0}\n",
              ".list-inline>li {display: inline-block}\n",
              ".list-inline>li:not(:last-child)::after {content: \"\\00b7\"; padding: 0 .5ex}\n",
              "</style>\n",
              "<ol class=list-inline><li>3</li><li>4</li><li>5</li></ol>\n"
            ],
            "text/markdown": "1. 3\n2. 4\n3. 5\n\n\n",
            "text/latex": "\\begin{enumerate*}\n\\item 3\n\\item 4\n\\item 5\n\\end{enumerate*}\n",
            "text/plain": [
              "[1] 3 4 5"
            ]
          },
          "metadata": {}
        }
      ]
    },
    {
      "cell_type": "code",
      "metadata": {
        "id": "syufc9_OIgv_",
        "outputId": "5a24a5db-3a44-42d4-8fa3-90e8adcd4c57",
        "colab": {
          "base_uri": "https://localhost:8080/",
          "height": 69
        }
      },
      "source": [
        "#CUIDADO: Si se operan vectores de dstinto largo se reciclan los valores del vector más pequeño\n",
        "c(1,2,3) + c(10,20)"
      ],
      "execution_count": 83,
      "outputs": [
        {
          "output_type": "stream",
          "name": "stderr",
          "text": [
            "Warning message in c(1, 2, 3) + c(10, 20):\n",
            "“longer object length is not a multiple of shorter object length”\n"
          ]
        },
        {
          "output_type": "display_data",
          "data": {
            "text/html": [
              "<style>\n",
              ".list-inline {list-style: none; margin:0; padding: 0}\n",
              ".list-inline>li {display: inline-block}\n",
              ".list-inline>li:not(:last-child)::after {content: \"\\00b7\"; padding: 0 .5ex}\n",
              "</style>\n",
              "<ol class=list-inline><li>11</li><li>22</li><li>13</li></ol>\n"
            ],
            "text/markdown": "1. 11\n2. 22\n3. 13\n\n\n",
            "text/latex": "\\begin{enumerate*}\n\\item 11\n\\item 22\n\\item 13\n\\end{enumerate*}\n",
            "text/plain": [
              "[1] 11 22 13"
            ]
          },
          "metadata": {}
        }
      ]
    },
    {
      "cell_type": "code",
      "source": [
        " c(1,2) + edades"
      ],
      "metadata": {
        "id": "eLv1t5Fzcbea",
        "outputId": "4978c94a-6a38-4ac4-c17d-7c428bbf451d",
        "colab": {
          "base_uri": "https://localhost:8080/",
          "height": 86
        }
      },
      "execution_count": 86,
      "outputs": [
        {
          "output_type": "stream",
          "name": "stderr",
          "text": [
            "Warning message in c(1, 2) + edades:\n",
            "“longer object length is not a multiple of shorter object length”\n"
          ]
        },
        {
          "output_type": "display_data",
          "data": {
            "text/html": [
              "<style>\n",
              ".list-inline {list-style: none; margin:0; padding: 0}\n",
              ".list-inline>li {display: inline-block}\n",
              ".list-inline>li:not(:last-child)::after {content: \"\\00b7\"; padding: 0 .5ex}\n",
              "</style>\n",
              "<ol class=list-inline><li>25.5810782225093</li><li>22.0852812735966</li><li>16.624663392976</li><li>26.0692766964463</li><li>22.8325715092399</li><li>32.4539873207335</li><li>21.4313636292854</li><li>32.0081985577538</li><li>24.0036669839031</li><li>24.6593847299324</li><li>27.6348104144004</li><li>24.9362655082407</li><li>28.8101823472185</li><li>30.3167912998997</li><li>22.9855135802941</li></ol>\n"
            ],
            "text/markdown": "1. 25.5810782225093\n2. 22.0852812735966\n3. 16.624663392976\n4. 26.0692766964463\n5. 22.8325715092399\n6. 32.4539873207335\n7. 21.4313636292854\n8. 32.0081985577538\n9. 24.0036669839031\n10. 24.6593847299324\n11. 27.6348104144004\n12. 24.9362655082407\n13. 28.8101823472185\n14. 30.3167912998997\n15. 22.9855135802941\n\n\n",
            "text/latex": "\\begin{enumerate*}\n\\item 25.5810782225093\n\\item 22.0852812735966\n\\item 16.624663392976\n\\item 26.0692766964463\n\\item 22.8325715092399\n\\item 32.4539873207335\n\\item 21.4313636292854\n\\item 32.0081985577538\n\\item 24.0036669839031\n\\item 24.6593847299324\n\\item 27.6348104144004\n\\item 24.9362655082407\n\\item 28.8101823472185\n\\item 30.3167912998997\n\\item 22.9855135802941\n\\end{enumerate*}\n",
            "text/plain": [
              " [1] 25.58108 22.08528 16.62466 26.06928 22.83257 32.45399 21.43136 32.00820\n",
              " [9] 24.00367 24.65938 27.63481 24.93627 28.81018 30.31679 22.98551"
            ]
          },
          "metadata": {}
        }
      ]
    },
    {
      "cell_type": "code",
      "source": [
        "c(1,2,3,4,5,6) + c(10,20,30)"
      ],
      "metadata": {
        "id": "r2NDoMnBcpYv",
        "outputId": "53797828-1238-48e6-a729-6352f1a4698f",
        "colab": {
          "base_uri": "https://localhost:8080/",
          "height": 34
        }
      },
      "execution_count": 85,
      "outputs": [
        {
          "output_type": "display_data",
          "data": {
            "text/html": [
              "<style>\n",
              ".list-inline {list-style: none; margin:0; padding: 0}\n",
              ".list-inline>li {display: inline-block}\n",
              ".list-inline>li:not(:last-child)::after {content: \"\\00b7\"; padding: 0 .5ex}\n",
              "</style>\n",
              "<ol class=list-inline><li>11</li><li>22</li><li>33</li><li>14</li><li>25</li><li>36</li></ol>\n"
            ],
            "text/markdown": "1. 11\n2. 22\n3. 33\n4. 14\n5. 25\n6. 36\n\n\n",
            "text/latex": "\\begin{enumerate*}\n\\item 11\n\\item 22\n\\item 33\n\\item 14\n\\item 25\n\\item 36\n\\end{enumerate*}\n",
            "text/plain": [
              "[1] 11 22 33 14 25 36"
            ]
          },
          "metadata": {}
        }
      ]
    },
    {
      "cell_type": "code",
      "source": [
        "c(10,20,30) + c(1,2,3,4,5,6)"
      ],
      "metadata": {
        "id": "yWk0RYAHdMcs",
        "outputId": "c27fa0d2-48e8-475a-ecdc-0720f68897c5",
        "colab": {
          "base_uri": "https://localhost:8080/",
          "height": 34
        }
      },
      "execution_count": 87,
      "outputs": [
        {
          "output_type": "display_data",
          "data": {
            "text/html": [
              "<style>\n",
              ".list-inline {list-style: none; margin:0; padding: 0}\n",
              ".list-inline>li {display: inline-block}\n",
              ".list-inline>li:not(:last-child)::after {content: \"\\00b7\"; padding: 0 .5ex}\n",
              "</style>\n",
              "<ol class=list-inline><li>11</li><li>22</li><li>33</li><li>14</li><li>25</li><li>36</li></ol>\n"
            ],
            "text/markdown": "1. 11\n2. 22\n3. 33\n4. 14\n5. 25\n6. 36\n\n\n",
            "text/latex": "\\begin{enumerate*}\n\\item 11\n\\item 22\n\\item 33\n\\item 14\n\\item 25\n\\item 36\n\\end{enumerate*}\n",
            "text/plain": [
              "[1] 11 22 33 14 25 36"
            ]
          },
          "metadata": {}
        }
      ]
    },
    {
      "cell_type": "markdown",
      "metadata": {
        "id": "LIr-IFowIgwD"
      },
      "source": [
        "**Secuencias**\n",
        "\n",
        "En R es posible generar de manera rápida y sencilla algunas secuencias numéricas y almacenarlas en un vector.\n",
        "\n",
        "Ejemplo de estas funciones son :\n",
        "\n",
        "    rep()\n",
        "    seq()\n",
        "    \n",
        "Más adelante veremos como generar números aleatorios siguiendo alguna función de distribución de interés.\n",
        "\n"
      ]
    },
    {
      "cell_type": "code",
      "metadata": {
        "id": "wk0fB_gWIgwE",
        "outputId": "62952536-97be-41d6-9112-94644cb467d5",
        "colab": {
          "base_uri": "https://localhost:8080/",
          "height": 34
        }
      },
      "source": [
        "# a vimos que fácilmente ppodemos generar vectores de enteros consecutivos vía \":\"\n",
        "4:15"
      ],
      "execution_count": 90,
      "outputs": [
        {
          "output_type": "display_data",
          "data": {
            "text/html": [
              "<style>\n",
              ".list-inline {list-style: none; margin:0; padding: 0}\n",
              ".list-inline>li {display: inline-block}\n",
              ".list-inline>li:not(:last-child)::after {content: \"\\00b7\"; padding: 0 .5ex}\n",
              "</style>\n",
              "<ol class=list-inline><li>4</li><li>5</li><li>6</li><li>7</li><li>8</li><li>9</li><li>10</li><li>11</li><li>12</li><li>13</li><li>14</li><li>15</li></ol>\n"
            ],
            "text/markdown": "1. 4\n2. 5\n3. 6\n4. 7\n5. 8\n6. 9\n7. 10\n8. 11\n9. 12\n10. 13\n11. 14\n12. 15\n\n\n",
            "text/latex": "\\begin{enumerate*}\n\\item 4\n\\item 5\n\\item 6\n\\item 7\n\\item 8\n\\item 9\n\\item 10\n\\item 11\n\\item 12\n\\item 13\n\\item 14\n\\item 15\n\\end{enumerate*}\n",
            "text/plain": [
              " [1]  4  5  6  7  8  9 10 11 12 13 14 15"
            ]
          },
          "metadata": {}
        }
      ]
    },
    {
      "cell_type": "code",
      "metadata": {
        "id": "gGkgGylnIgwK",
        "outputId": "97e0441f-8a6a-4a98-d648-0158ff1fd101",
        "colab": {
          "base_uri": "https://localhost:8080/",
          "height": 52
        }
      },
      "source": [
        "# ejemplo de función seq (utilice argumento by, y otro ejemplo con argumento length.out)\n",
        "seq(from = 1, to = 3, by = 0.5)\n",
        "seq(1,3,0.5)"
      ],
      "execution_count": 93,
      "outputs": [
        {
          "output_type": "display_data",
          "data": {
            "text/html": [
              "<style>\n",
              ".list-inline {list-style: none; margin:0; padding: 0}\n",
              ".list-inline>li {display: inline-block}\n",
              ".list-inline>li:not(:last-child)::after {content: \"\\00b7\"; padding: 0 .5ex}\n",
              "</style>\n",
              "<ol class=list-inline><li>1</li><li>1.5</li><li>2</li><li>2.5</li><li>3</li></ol>\n"
            ],
            "text/markdown": "1. 1\n2. 1.5\n3. 2\n4. 2.5\n5. 3\n\n\n",
            "text/latex": "\\begin{enumerate*}\n\\item 1\n\\item 1.5\n\\item 2\n\\item 2.5\n\\item 3\n\\end{enumerate*}\n",
            "text/plain": [
              "[1] 1.0 1.5 2.0 2.5 3.0"
            ]
          },
          "metadata": {}
        },
        {
          "output_type": "display_data",
          "data": {
            "text/html": [
              "<style>\n",
              ".list-inline {list-style: none; margin:0; padding: 0}\n",
              ".list-inline>li {display: inline-block}\n",
              ".list-inline>li:not(:last-child)::after {content: \"\\00b7\"; padding: 0 .5ex}\n",
              "</style>\n",
              "<ol class=list-inline><li>1</li><li>1.5</li><li>2</li><li>2.5</li><li>3</li></ol>\n"
            ],
            "text/markdown": "1. 1\n2. 1.5\n3. 2\n4. 2.5\n5. 3\n\n\n",
            "text/latex": "\\begin{enumerate*}\n\\item 1\n\\item 1.5\n\\item 2\n\\item 2.5\n\\item 3\n\\end{enumerate*}\n",
            "text/plain": [
              "[1] 1.0 1.5 2.0 2.5 3.0"
            ]
          },
          "metadata": {}
        }
      ]
    },
    {
      "cell_type": "code",
      "source": [
        "seq(from = 1, to = 3, length.out = 20) # podemos controlar el largo del vector resultante con el parámetro length.out"
      ],
      "metadata": {
        "id": "WPgdXy3liP60",
        "outputId": "f5fe95cb-37fa-4007-b981-3d6a1f65ada5",
        "colab": {
          "base_uri": "https://localhost:8080/",
          "height": 52
        }
      },
      "execution_count": 92,
      "outputs": [
        {
          "output_type": "display_data",
          "data": {
            "text/html": [
              "<style>\n",
              ".list-inline {list-style: none; margin:0; padding: 0}\n",
              ".list-inline>li {display: inline-block}\n",
              ".list-inline>li:not(:last-child)::after {content: \"\\00b7\"; padding: 0 .5ex}\n",
              "</style>\n",
              "<ol class=list-inline><li>1</li><li>1.10526315789474</li><li>1.21052631578947</li><li>1.31578947368421</li><li>1.42105263157895</li><li>1.52631578947368</li><li>1.63157894736842</li><li>1.73684210526316</li><li>1.84210526315789</li><li>1.94736842105263</li><li>2.05263157894737</li><li>2.15789473684211</li><li>2.26315789473684</li><li>2.36842105263158</li><li>2.47368421052632</li><li>2.57894736842105</li><li>2.68421052631579</li><li>2.78947368421053</li><li>2.89473684210526</li><li>3</li></ol>\n"
            ],
            "text/markdown": "1. 1\n2. 1.10526315789474\n3. 1.21052631578947\n4. 1.31578947368421\n5. 1.42105263157895\n6. 1.52631578947368\n7. 1.63157894736842\n8. 1.73684210526316\n9. 1.84210526315789\n10. 1.94736842105263\n11. 2.05263157894737\n12. 2.15789473684211\n13. 2.26315789473684\n14. 2.36842105263158\n15. 2.47368421052632\n16. 2.57894736842105\n17. 2.68421052631579\n18. 2.78947368421053\n19. 2.89473684210526\n20. 3\n\n\n",
            "text/latex": "\\begin{enumerate*}\n\\item 1\n\\item 1.10526315789474\n\\item 1.21052631578947\n\\item 1.31578947368421\n\\item 1.42105263157895\n\\item 1.52631578947368\n\\item 1.63157894736842\n\\item 1.73684210526316\n\\item 1.84210526315789\n\\item 1.94736842105263\n\\item 2.05263157894737\n\\item 2.15789473684211\n\\item 2.26315789473684\n\\item 2.36842105263158\n\\item 2.47368421052632\n\\item 2.57894736842105\n\\item 2.68421052631579\n\\item 2.78947368421053\n\\item 2.89473684210526\n\\item 3\n\\end{enumerate*}\n",
            "text/plain": [
              " [1] 1.000000 1.105263 1.210526 1.315789 1.421053 1.526316 1.631579 1.736842\n",
              " [9] 1.842105 1.947368 2.052632 2.157895 2.263158 2.368421 2.473684 2.578947\n",
              "[17] 2.684211 2.789474 2.894737 3.000000"
            ]
          },
          "metadata": {}
        }
      ]
    },
    {
      "cell_type": "code",
      "metadata": {
        "id": "rG-Q3PmhIgwG",
        "outputId": "443cdee7-070a-4146-a04c-491778f74c8b",
        "colab": {
          "base_uri": "https://localhost:8080/",
          "height": 52
        }
      },
      "source": [
        "# Ejemplo de secuencia con rep (utilice distintos tipos de datos)\n",
        "rep(x = c(\"hola\", \"soy\", \"miguel\"), times = 3)\n",
        "rep(c(\"hola\", \"soy\", \"miguel\"), 3)"
      ],
      "execution_count": 95,
      "outputs": [
        {
          "output_type": "display_data",
          "data": {
            "text/html": [
              "<style>\n",
              ".list-inline {list-style: none; margin:0; padding: 0}\n",
              ".list-inline>li {display: inline-block}\n",
              ".list-inline>li:not(:last-child)::after {content: \"\\00b7\"; padding: 0 .5ex}\n",
              "</style>\n",
              "<ol class=list-inline><li>'hola'</li><li>'soy'</li><li>'miguel'</li><li>'hola'</li><li>'soy'</li><li>'miguel'</li><li>'hola'</li><li>'soy'</li><li>'miguel'</li></ol>\n"
            ],
            "text/markdown": "1. 'hola'\n2. 'soy'\n3. 'miguel'\n4. 'hola'\n5. 'soy'\n6. 'miguel'\n7. 'hola'\n8. 'soy'\n9. 'miguel'\n\n\n",
            "text/latex": "\\begin{enumerate*}\n\\item 'hola'\n\\item 'soy'\n\\item 'miguel'\n\\item 'hola'\n\\item 'soy'\n\\item 'miguel'\n\\item 'hola'\n\\item 'soy'\n\\item 'miguel'\n\\end{enumerate*}\n",
            "text/plain": [
              "[1] \"hola\"   \"soy\"    \"miguel\" \"hola\"   \"soy\"    \"miguel\" \"hola\"   \"soy\"   \n",
              "[9] \"miguel\""
            ]
          },
          "metadata": {}
        },
        {
          "output_type": "display_data",
          "data": {
            "text/html": [
              "<style>\n",
              ".list-inline {list-style: none; margin:0; padding: 0}\n",
              ".list-inline>li {display: inline-block}\n",
              ".list-inline>li:not(:last-child)::after {content: \"\\00b7\"; padding: 0 .5ex}\n",
              "</style>\n",
              "<ol class=list-inline><li>'hola'</li><li>'soy'</li><li>'miguel'</li><li>'hola'</li><li>'soy'</li><li>'miguel'</li><li>'hola'</li><li>'soy'</li><li>'miguel'</li></ol>\n"
            ],
            "text/markdown": "1. 'hola'\n2. 'soy'\n3. 'miguel'\n4. 'hola'\n5. 'soy'\n6. 'miguel'\n7. 'hola'\n8. 'soy'\n9. 'miguel'\n\n\n",
            "text/latex": "\\begin{enumerate*}\n\\item 'hola'\n\\item 'soy'\n\\item 'miguel'\n\\item 'hola'\n\\item 'soy'\n\\item 'miguel'\n\\item 'hola'\n\\item 'soy'\n\\item 'miguel'\n\\end{enumerate*}\n",
            "text/plain": [
              "[1] \"hola\"   \"soy\"    \"miguel\" \"hola\"   \"soy\"    \"miguel\" \"hola\"   \"soy\"   \n",
              "[9] \"miguel\""
            ]
          },
          "metadata": {}
        }
      ]
    },
    {
      "cell_type": "code",
      "metadata": {
        "id": "PpEgoWDXIgwI",
        "outputId": "a47047f6-40c8-4349-e7e8-16d14e947a50",
        "colab": {
          "base_uri": "https://localhost:8080/",
          "height": 34
        }
      },
      "source": [
        "rep(x = c(\"hola\", \"soy\", \"miguel\"), length.out = 10)\n"
      ],
      "execution_count": 96,
      "outputs": [
        {
          "output_type": "display_data",
          "data": {
            "text/html": [
              "<style>\n",
              ".list-inline {list-style: none; margin:0; padding: 0}\n",
              ".list-inline>li {display: inline-block}\n",
              ".list-inline>li:not(:last-child)::after {content: \"\\00b7\"; padding: 0 .5ex}\n",
              "</style>\n",
              "<ol class=list-inline><li>'hola'</li><li>'soy'</li><li>'miguel'</li><li>'hola'</li><li>'soy'</li><li>'miguel'</li><li>'hola'</li><li>'soy'</li><li>'miguel'</li><li>'hola'</li></ol>\n"
            ],
            "text/markdown": "1. 'hola'\n2. 'soy'\n3. 'miguel'\n4. 'hola'\n5. 'soy'\n6. 'miguel'\n7. 'hola'\n8. 'soy'\n9. 'miguel'\n10. 'hola'\n\n\n",
            "text/latex": "\\begin{enumerate*}\n\\item 'hola'\n\\item 'soy'\n\\item 'miguel'\n\\item 'hola'\n\\item 'soy'\n\\item 'miguel'\n\\item 'hola'\n\\item 'soy'\n\\item 'miguel'\n\\item 'hola'\n\\end{enumerate*}\n",
            "text/plain": [
              " [1] \"hola\"   \"soy\"    \"miguel\" \"hola\"   \"soy\"    \"miguel\" \"hola\"   \"soy\"   \n",
              " [9] \"miguel\" \"hola\"  "
            ]
          },
          "metadata": {}
        }
      ]
    },
    {
      "cell_type": "code",
      "source": [
        "rep(x = c(\"hola\", \"soy\", \"miguel\"), times = 3, each = 2)"
      ],
      "metadata": {
        "id": "kAp-X0CxjT7-",
        "outputId": "5c9fe6d3-469f-4409-fa18-a88524c95a65",
        "colab": {
          "base_uri": "https://localhost:8080/",
          "height": 34
        }
      },
      "execution_count": 97,
      "outputs": [
        {
          "output_type": "display_data",
          "data": {
            "text/html": [
              "<style>\n",
              ".list-inline {list-style: none; margin:0; padding: 0}\n",
              ".list-inline>li {display: inline-block}\n",
              ".list-inline>li:not(:last-child)::after {content: \"\\00b7\"; padding: 0 .5ex}\n",
              "</style>\n",
              "<ol class=list-inline><li>'hola'</li><li>'hola'</li><li>'soy'</li><li>'soy'</li><li>'miguel'</li><li>'miguel'</li><li>'hola'</li><li>'hola'</li><li>'soy'</li><li>'soy'</li><li>'miguel'</li><li>'miguel'</li><li>'hola'</li><li>'hola'</li><li>'soy'</li><li>'soy'</li><li>'miguel'</li><li>'miguel'</li></ol>\n"
            ],
            "text/markdown": "1. 'hola'\n2. 'hola'\n3. 'soy'\n4. 'soy'\n5. 'miguel'\n6. 'miguel'\n7. 'hola'\n8. 'hola'\n9. 'soy'\n10. 'soy'\n11. 'miguel'\n12. 'miguel'\n13. 'hola'\n14. 'hola'\n15. 'soy'\n16. 'soy'\n17. 'miguel'\n18. 'miguel'\n\n\n",
            "text/latex": "\\begin{enumerate*}\n\\item 'hola'\n\\item 'hola'\n\\item 'soy'\n\\item 'soy'\n\\item 'miguel'\n\\item 'miguel'\n\\item 'hola'\n\\item 'hola'\n\\item 'soy'\n\\item 'soy'\n\\item 'miguel'\n\\item 'miguel'\n\\item 'hola'\n\\item 'hola'\n\\item 'soy'\n\\item 'soy'\n\\item 'miguel'\n\\item 'miguel'\n\\end{enumerate*}\n",
            "text/plain": [
              " [1] \"hola\"   \"hola\"   \"soy\"    \"soy\"    \"miguel\" \"miguel\" \"hola\"   \"hola\"  \n",
              " [9] \"soy\"    \"soy\"    \"miguel\" \"miguel\" \"hola\"   \"hola\"   \"soy\"    \"soy\"   \n",
              "[17] \"miguel\" \"miguel\""
            ]
          },
          "metadata": {}
        }
      ]
    },
    {
      "cell_type": "code",
      "metadata": {
        "id": "psRswQHBIgwO",
        "outputId": "7d766d8f-370e-40f5-f1cc-06b8689294d5",
        "colab": {
          "base_uri": "https://localhost:8080/",
          "height": 34
        }
      },
      "source": [
        "# ejemplo de vector aleatorio siguiendo una determinada distribución\n",
        "# distribución uniforme\n",
        "runif(10,0,1)\n"
      ],
      "execution_count": 100,
      "outputs": [
        {
          "output_type": "display_data",
          "data": {
            "text/html": [
              "<style>\n",
              ".list-inline {list-style: none; margin:0; padding: 0}\n",
              ".list-inline>li {display: inline-block}\n",
              ".list-inline>li:not(:last-child)::after {content: \"\\00b7\"; padding: 0 .5ex}\n",
              "</style>\n",
              "<ol class=list-inline><li>0.340296882204711</li><li>0.66856284532696</li><li>0.384253970347345</li><li>0.235113366739824</li><li>0.888497028499842</li><li>0.801451658830047</li><li>0.596427736803889</li><li>0.977017741417512</li><li>0.328104967484251</li><li>0.805180028313771</li></ol>\n"
            ],
            "text/markdown": "1. 0.340296882204711\n2. 0.66856284532696\n3. 0.384253970347345\n4. 0.235113366739824\n5. 0.888497028499842\n6. 0.801451658830047\n7. 0.596427736803889\n8. 0.977017741417512\n9. 0.328104967484251\n10. 0.805180028313771\n\n\n",
            "text/latex": "\\begin{enumerate*}\n\\item 0.340296882204711\n\\item 0.66856284532696\n\\item 0.384253970347345\n\\item 0.235113366739824\n\\item 0.888497028499842\n\\item 0.801451658830047\n\\item 0.596427736803889\n\\item 0.977017741417512\n\\item 0.328104967484251\n\\item 0.805180028313771\n\\end{enumerate*}\n",
            "text/plain": [
              " [1] 0.3402969 0.6685628 0.3842540 0.2351134 0.8884970 0.8014517 0.5964277\n",
              " [8] 0.9770177 0.3281050 0.8051800"
            ]
          },
          "metadata": {}
        }
      ]
    },
    {
      "cell_type": "code",
      "source": [
        "# distribución normal\n",
        "edades"
      ],
      "metadata": {
        "id": "ctV7Uvj2j6GA",
        "outputId": "095e963f-4655-4d3e-b595-24be996adb66",
        "colab": {
          "base_uri": "https://localhost:8080/",
          "height": 52
        }
      },
      "execution_count": 101,
      "outputs": [
        {
          "output_type": "display_data",
          "data": {
            "text/html": [
              "<style>\n",
              ".list-inline {list-style: none; margin:0; padding: 0}\n",
              ".list-inline>li {display: inline-block}\n",
              ".list-inline>li:not(:last-child)::after {content: \"\\00b7\"; padding: 0 .5ex}\n",
              "</style>\n",
              "<ol class=list-inline><li>24.5810782225093</li><li>20.0852812735966</li><li>15.624663392976</li><li>24.0692766964463</li><li>21.8325715092399</li><li>30.4539873207335</li><li>20.4313636292854</li><li>30.0081985577538</li><li>23.0036669839031</li><li>22.6593847299324</li><li>26.6348104144004</li><li>22.9362655082407</li><li>27.8101823472185</li><li>28.3167912998997</li><li>21.9855135802941</li></ol>\n"
            ],
            "text/markdown": "1. 24.5810782225093\n2. 20.0852812735966\n3. 15.624663392976\n4. 24.0692766964463\n5. 21.8325715092399\n6. 30.4539873207335\n7. 20.4313636292854\n8. 30.0081985577538\n9. 23.0036669839031\n10. 22.6593847299324\n11. 26.6348104144004\n12. 22.9362655082407\n13. 27.8101823472185\n14. 28.3167912998997\n15. 21.9855135802941\n\n\n",
            "text/latex": "\\begin{enumerate*}\n\\item 24.5810782225093\n\\item 20.0852812735966\n\\item 15.624663392976\n\\item 24.0692766964463\n\\item 21.8325715092399\n\\item 30.4539873207335\n\\item 20.4313636292854\n\\item 30.0081985577538\n\\item 23.0036669839031\n\\item 22.6593847299324\n\\item 26.6348104144004\n\\item 22.9362655082407\n\\item 27.8101823472185\n\\item 28.3167912998997\n\\item 21.9855135802941\n\\end{enumerate*}\n",
            "text/plain": [
              " [1] 24.58108 20.08528 15.62466 24.06928 21.83257 30.45399 20.43136 30.00820\n",
              " [9] 23.00367 22.65938 26.63481 22.93627 27.81018 28.31679 21.98551"
            ]
          },
          "metadata": {}
        }
      ]
    },
    {
      "cell_type": "markdown",
      "metadata": {
        "id": "TlnEINwUIgwP"
      },
      "source": [
        "### 3.2 Funciones (primera parte)\n",
        "\n",
        "#### 3.2.1 Funciones vectorizadas y operaciones con vectores\n",
        "\n",
        "R es un lenguaje funcional, en el sentido de que prácticamente cada llamada a R corresponde a una función que puede (o no) recibir argumentos de entrada.\n",
        "Una de las ventajas es que existe una amplia, muy amplia,... verdaderamente amplia!, variedad de funciones disponibles, tanto en las librerías que vienen con la instalación por defecto como las librerías disponibles en CRAN o en toda la comunidad R.\n",
        "\n",
        "En R, una función $f$ se dice vectorizada si dado un vector $\\mathbf{x}=(x_1,x_2,\\dots,x_n)$, se tiene que $f(\\mathbf{x})=(f(x_1),f(x_2),\\dots,f(x_n))$.\n",
        "Esto hace que, por ejemplo, la aritmética de vectores se más sencilla de implentar y con un menor tiempo de cómputo . Gran parte de las funciones disponibles en la librerías (bibliotecas o *packages*) de R corresponden a funciones vectorizadas.\n",
        "A modo de ejemplo, a cotinuación se muestran algunas funciones (de las más básicas) aritméticas, y funciones para trabajar con texto:\n",
        "    \n",
        "    +,-,*,/\n",
        "    abs()\n",
        "    sqrt()\n",
        "    cos()\n",
        "    sin()\n",
        "    tan()\n",
        "    nchar()\n",
        "    susbtr()\n",
        "    grepl()\n",
        "    gsub()\n",
        "    \n",
        "   \n",
        "   \n",
        "   "
      ]
    },
    {
      "cell_type": "code",
      "metadata": {
        "id": "tO3oB1bnIgwP",
        "outputId": "147a1332-2ca0-43b4-b3e8-70cd859a9316",
        "colab": {
          "base_uri": "https://localhost:8080/",
          "height": 69
        }
      },
      "source": [
        "# 3.2. Funciones (primera parte) ------------\n",
        "# 3.2.1 Funciones vectorizadas\n",
        "# Ejemplos básicos de funciones(vectorizadas)\n",
        "nchar(\"buenos días\")\n",
        "pal\n",
        "nchar(pal)"
      ],
      "execution_count": 105,
      "outputs": [
        {
          "output_type": "display_data",
          "data": {
            "text/html": [
              "11"
            ],
            "text/markdown": "11",
            "text/latex": "11",
            "text/plain": [
              "[1] 11"
            ]
          },
          "metadata": {}
        },
        {
          "output_type": "display_data",
          "data": {
            "text/html": [
              "<style>\n",
              ".list-inline {list-style: none; margin:0; padding: 0}\n",
              ".list-inline>li {display: inline-block}\n",
              ".list-inline>li:not(:last-child)::after {content: \"\\00b7\"; padding: 0 .5ex}\n",
              "</style>\n",
              "<ol class=list-inline><li>'hola'</li><li>'soy'</li><li>'yo'</li></ol>\n"
            ],
            "text/markdown": "1. 'hola'\n2. 'soy'\n3. 'yo'\n\n\n",
            "text/latex": "\\begin{enumerate*}\n\\item 'hola'\n\\item 'soy'\n\\item 'yo'\n\\end{enumerate*}\n",
            "text/plain": [
              "[1] \"hola\" \"soy\"  \"yo\"  "
            ]
          },
          "metadata": {}
        },
        {
          "output_type": "display_data",
          "data": {
            "text/html": [
              "<style>\n",
              ".list-inline {list-style: none; margin:0; padding: 0}\n",
              ".list-inline>li {display: inline-block}\n",
              ".list-inline>li:not(:last-child)::after {content: \"\\00b7\"; padding: 0 .5ex}\n",
              "</style>\n",
              "<ol class=list-inline><li>4</li><li>3</li><li>2</li></ol>\n"
            ],
            "text/markdown": "1. 4\n2. 3\n3. 2\n\n\n",
            "text/latex": "\\begin{enumerate*}\n\\item 4\n\\item 3\n\\item 2\n\\end{enumerate*}\n",
            "text/plain": [
              "[1] 4 3 2"
            ]
          },
          "metadata": {}
        }
      ]
    },
    {
      "cell_type": "code",
      "metadata": {
        "id": "NivskO3jIgwT"
      },
      "source": [
        "# funciones para manipular texto\n",
        " #cantidad de caracteres\n",
        "\n",
        "\n"
      ],
      "execution_count": null,
      "outputs": []
    },
    {
      "cell_type": "code",
      "metadata": {
        "id": "tA55foL1IgwX",
        "outputId": "6dcc90ff-3c8d-4d2f-a464-9f79c14c3255",
        "colab": {
          "base_uri": "https://localhost:8080/",
          "height": 52
        }
      },
      "source": [
        "# substring substr()\n",
        "substr(\"buenos días\", 3,6)\n",
        "substr(pal, 3,6)"
      ],
      "execution_count": 107,
      "outputs": [
        {
          "output_type": "display_data",
          "data": {
            "text/html": [
              "'enos'"
            ],
            "text/markdown": "'enos'",
            "text/latex": "'enos'",
            "text/plain": [
              "[1] \"enos\""
            ]
          },
          "metadata": {}
        },
        {
          "output_type": "display_data",
          "data": {
            "text/html": [
              "<style>\n",
              ".list-inline {list-style: none; margin:0; padding: 0}\n",
              ".list-inline>li {display: inline-block}\n",
              ".list-inline>li:not(:last-child)::after {content: \"\\00b7\"; padding: 0 .5ex}\n",
              "</style>\n",
              "<ol class=list-inline><li>'la'</li><li>'y'</li><li>''</li></ol>\n"
            ],
            "text/markdown": "1. 'la'\n2. 'y'\n3. ''\n\n\n",
            "text/latex": "\\begin{enumerate*}\n\\item 'la'\n\\item 'y'\n\\item ''\n\\end{enumerate*}\n",
            "text/plain": [
              "[1] \"la\" \"y\"  \"\"  "
            ]
          },
          "metadata": {}
        }
      ]
    },
    {
      "cell_type": "code",
      "metadata": {
        "id": "vjRwdUbiIgwY",
        "outputId": "1100fca0-9562-4173-a8bb-14688556ff7b",
        "colab": {
          "base_uri": "https://localhost:8080/",
          "height": 69
        }
      },
      "source": [
        "# grepl() evlaúa si un  caracter está contenido en otro. (LIKE)\n",
        "#?grepl()\n",
        "grepl(\"ala\", \"palabra\")\n",
        "grepl(\"alo\", \"palabra\")\n",
        "\n",
        "\n",
        "#gsub() reemblaza un substring por otro\n",
        "#?gsub\n",
        "\n",
        "# si reemplazamos en un vector de palabras\n",
        "grepl(\"ala\", c(\"palabra\", \"alobra\", \"alas\", \"koalas\") )\n"
      ],
      "execution_count": 111,
      "outputs": [
        {
          "output_type": "display_data",
          "data": {
            "text/html": [
              "TRUE"
            ],
            "text/markdown": "TRUE",
            "text/latex": "TRUE",
            "text/plain": [
              "[1] TRUE"
            ]
          },
          "metadata": {}
        },
        {
          "output_type": "display_data",
          "data": {
            "text/html": [
              "FALSE"
            ],
            "text/markdown": "FALSE",
            "text/latex": "FALSE",
            "text/plain": [
              "[1] FALSE"
            ]
          },
          "metadata": {}
        },
        {
          "output_type": "display_data",
          "data": {
            "text/html": [
              "<style>\n",
              ".list-inline {list-style: none; margin:0; padding: 0}\n",
              ".list-inline>li {display: inline-block}\n",
              ".list-inline>li:not(:last-child)::after {content: \"\\00b7\"; padding: 0 .5ex}\n",
              "</style>\n",
              "<ol class=list-inline><li>TRUE</li><li>FALSE</li><li>TRUE</li><li>TRUE</li></ol>\n"
            ],
            "text/markdown": "1. TRUE\n2. FALSE\n3. TRUE\n4. TRUE\n\n\n",
            "text/latex": "\\begin{enumerate*}\n\\item TRUE\n\\item FALSE\n\\item TRUE\n\\item TRUE\n\\end{enumerate*}\n",
            "text/plain": [
              "[1]  TRUE FALSE  TRUE  TRUE"
            ]
          },
          "metadata": {}
        }
      ]
    },
    {
      "cell_type": "code",
      "metadata": {
        "id": "0j9kKUbzIgwZ"
      },
      "source": [
        "#gsub() reemplaza caracteres dentro de un texto\n",
        "#https://www.tidytextmining.com/\n"
      ],
      "execution_count": null,
      "outputs": []
    }
  ]
}